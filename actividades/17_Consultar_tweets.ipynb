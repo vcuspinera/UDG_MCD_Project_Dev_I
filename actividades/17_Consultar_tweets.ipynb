{
 "cells": [
  {
   "cell_type": "markdown",
   "id": "6c880269",
   "metadata": {},
   "source": [
    "# 17 • Consulta de tweets\n",
    "\n",
    "En este notebook se revisará cómo consultar tweets usando Python.\n",
    "\n",
    "## Contenido\n",
    "1. Intro\n",
    "2. \n",
    "3.   \n",
    "4. Referencias  "
   ]
  },
  {
   "cell_type": "code",
   "execution_count": 1,
   "id": "b2c76f05",
   "metadata": {},
   "outputs": [],
   "source": [
    "# Import basic libraries\n",
    "import pandas as pd\n",
    "import numpy as np"
   ]
  },
  {
   "cell_type": "markdown",
   "id": "c54c48d5",
   "metadata": {},
   "source": [
    "## 1. Intro\n",
    "Existen distintas librerías para consultar tweets y cada una de ellas tiene sus ventajas y desventajas. La manera oficial es hacerlo a través de la aplicación oficial de Twitter obteniendo acceso como desarrollador (`Twitter API`) para la cual se requiere solicitar una cuenta. Existen algunas alternativas que en lo personal he utilizado, aunque para usarlas hay que familiarizarse con ellas, como `GetOldTweets3` y `snscrape` pues no están tan bien documentadas.\n",
    "\n",
    "Es importante mencionar que las consultas de twitter usualmente arrojan información en formato `json`, los cuales siguen una estructura parecida a los diccionarios de Python y, en caso de guardar estos archivos, se recomienda guardarlos en formato `.json` en el lugar de convertirlos a `.xls`, `.csv`, `.txt` o `npy` para no perder información.\n",
    "\n",
    "### 1.1 Twitter API\n",
    "Esta cuenta no tiene costo, aunque sí existe limitación en número de tweets consultados por día. El primer paso es [solicitar una cuenta de desarrollador](https://developer.twitter.com/en/portal/dashboard). Para quien esté interesado en obtener una cuenta les comparto un par de links que les podrían ser útiles\n",
    "\n",
    "- [Twitter API Data Collection](https://www.youtube.com/watch?v=Jl-_dDqSaUQ&t=59s) por Stevesie Data, ver del minuto 0:59 al 1:44.\n",
    "- [Developer account support](https://developer.twitter.com/en/support/twitter-api/developer-account) por Twitter.\n",
    "\n",
    "Una vez que hayan obtenido su solicitud para abrir cuenta de desarrollador haya sido aceptada, podrán encontrar su llave de autenticación en este [link](https://developer.twitter.com/en/portal/projects-and-apps): `API key`, `API secret key`, `Access token` y `Access token secret`, y con ellas podrán tener acceso con distintos programas, entre ellos con Python.\n",
    "\n",
    "La API de Twitter algunas limitaciones para consultar tweets descritas en este [link](https://developer.twitter.com/en/docs/tweets/search/api-reference/get-search-tweets).\n",
    "\n",
    "⚠️ __Desventajas__, el obtener una cuenta de desarrollador en Twitter puede tardar tiempo y además de tener restricciones como un tiempo máximo de días previos de consulta (e.g. no se puede consultar tweets de principios de año), además de un número de existir un máximo número de tweets."
   ]
  },
  {
   "cell_type": "markdown",
   "id": "9ed4c919",
   "metadata": {},
   "source": [
    "### 1.2 Librería `GetOldTweets3`\n",
    "Esta es una librería está relativamente bien documentada donde se pueden conusltar tweets relativamente antiguos. Para más información pueden consultar la [descripción del paquete](https://pypi.org/project/GetOldTweets3/) con las indicaciones para su instalación y la [página del paquete en GitHub](https://github.com/Mottl/GetOldTweets3).\n",
    "\n",
    "Es importante mencionar que actualmente este paquete no funciona."
   ]
  },
  {
   "cell_type": "code",
   "execution_count": 2,
   "id": "4798c9b6",
   "metadata": {},
   "outputs": [],
   "source": [
    "# librerías\n",
    "import GetOldTweets3 as got"
   ]
  },
  {
   "cell_type": "code",
   "execution_count": 3,
   "id": "d843819b",
   "metadata": {},
   "outputs": [],
   "source": [
    "# Partámetros para consulta\n",
    "tweetCriteria = got.manager.TweetCriteria().setUsername(\"JustinTrudeau\")\\\n",
    "                                           .setTopTweets(True)\\\n",
    "                                           .setMaxTweets(10)"
   ]
  },
  {
   "cell_type": "code",
   "execution_count": 4,
   "id": "e867721f",
   "metadata": {},
   "outputs": [
    {
     "data": {
      "text/plain": [
       "<GetOldTweets3.manager.TweetCriteria.TweetCriteria at 0x7fe94cf39110>"
      ]
     },
     "execution_count": 4,
     "metadata": {},
     "output_type": "execute_result"
    }
   ],
   "source": [
    "# esto se almacena en un objeto\n",
    "tweetCriteria"
   ]
  },
  {
   "cell_type": "code",
   "execution_count": 5,
   "id": "b62917b0",
   "metadata": {},
   "outputs": [],
   "source": [
    "# # Al realizar la consulta arroja error\n",
    "# tweet = got.manager.TweetManager.getTweets(tweetCriteria)[0]\n",
    "# print(tweet.text)"
   ]
  },
  {
   "cell_type": "markdown",
   "id": "6611be39",
   "metadata": {},
   "source": [
    "⚠️ __Desventajas__, actualmente este paquete no funciona de forma correcta. En la siguiente liga se comparte el error, el cual ha sido persistente desde septiembre 2020 https://github.com/Mottl/GetOldTweets3/issues/98"
   ]
  },
  {
   "cell_type": "markdown",
   "id": "401a7896",
   "metadata": {},
   "source": [
    "### 1.3 Librería `snscrape`\n",
    "Esta librería es la mejor alternativa que he utilizado para bajar tweets, aunque aún falta mejorar la documentación. Además, esta librería sirve para bajar consultar información de otras fuentes entre las que se encuentran Facebook, Instagram y Telegram."
   ]
  },
  {
   "cell_type": "code",
   "execution_count": 119,
   "id": "c04d582d",
   "metadata": {},
   "outputs": [],
   "source": [
    "# librerías\n",
    "import snscrape.modules.twitter as sntwitter"
   ]
  },
  {
   "cell_type": "code",
   "execution_count": 120,
   "id": "c263370a",
   "metadata": {},
   "outputs": [],
   "source": [
    "# parametros\n",
    "max_results = 2_000\n",
    "date_initial = \"2018-01-01\"\n",
    "date_final = \"2022-10-31\"\n",
    "\n",
    "# twitter's accounts\n",
    "cuentas=['JustinTrudeau', 'JoeBiden', 'lopezobrador_']"
   ]
  },
  {
   "cell_type": "code",
   "execution_count": 121,
   "id": "c1deedb2-e37a-4560-abc5-86ef0bbdf539",
   "metadata": {},
   "outputs": [
    {
     "name": "stdout",
     "output_type": "stream",
     "text": [
      "\n",
      "--- START: TwitterSearchScraper por cuenta de Twitter ---\n",
      "\n",
      "Se identificaron 1231 tweets de la cuenta JustinTrudeau con los parametros dados.\n",
      "Se identificaron 255 tweets de la cuenta JoeBiden con los parametros dados.\n",
      "Se identificaron 2 tweets de la cuenta lopezobrador_ con los parametros dados.\n",
      "\n",
      "--- END: TwitterSearchScraper ---\n",
      "\n",
      "TIMING\n",
      "CPU times: user 700 ms, sys: 69 ms, total: 769 ms\n",
      "Wall time: 31.8 s\n"
     ]
    }
   ],
   "source": [
    "%%time\n",
    "# Parámetros\n",
    "\n",
    "# Creating list to append tweet data to\n",
    "tweets_list = []\n",
    "\n",
    "# Using TwitterSearchScraper to scrape data and append tweets to list\n",
    "print(\"\\n--- START: TwitterSearchScraper por cuenta de Twitter ---\\n\")\n",
    "for a in cuentas:\n",
    "    for i,tweet in enumerate(sntwitter.TwitterSearchScraper('\"covid\" since:'+date_initial+' until:'+date_final+' from:'+a).get_items()):\n",
    "        if i>maxTweets-1:\n",
    "            break\n",
    "        tweets_list.append([tweet.username, tweet.date, tweet.id, tweet.content, tweet.url])\n",
    "        # Otra info que puede sernos útil: tweet.media,  tweet.url\n",
    "    print(\"Se identificaron {0} tweets de la cuenta {1} con los parametros dados.\".format(i, a))\n",
    "print(\"\\n--- END: TwitterSearchScraper ---\\n\\nTIMING\")"
   ]
  },
  {
   "cell_type": "code",
   "execution_count": 122,
   "id": "cbdd5126-dfc4-46b0-a265-5a01f5252f5e",
   "metadata": {},
   "outputs": [
    {
     "data": {
      "text/html": [
       "<div>\n",
       "<style scoped>\n",
       "    .dataframe tbody tr th:only-of-type {\n",
       "        vertical-align: middle;\n",
       "    }\n",
       "\n",
       "    .dataframe tbody tr th {\n",
       "        vertical-align: top;\n",
       "    }\n",
       "\n",
       "    .dataframe thead th {\n",
       "        text-align: right;\n",
       "    }\n",
       "</style>\n",
       "<table border=\"1\" class=\"dataframe\">\n",
       "  <thead>\n",
       "    <tr style=\"text-align: right;\">\n",
       "      <th></th>\n",
       "      <th>username</th>\n",
       "      <th>date</th>\n",
       "      <th>id</th>\n",
       "      <th>content</th>\n",
       "      <th>url</th>\n",
       "    </tr>\n",
       "  </thead>\n",
       "  <tbody>\n",
       "    <tr>\n",
       "      <th>0</th>\n",
       "      <td>JustinTrudeau</td>\n",
       "      <td>2022-10-21 18:16:58+00:00</td>\n",
       "      <td>1583522748642435072</td>\n",
       "      <td>And to Premier @JJHorgan: Thank you for your s...</td>\n",
       "      <td>https://twitter.com/JustinTrudeau/status/15835...</td>\n",
       "    </tr>\n",
       "    <tr>\n",
       "      <th>1</th>\n",
       "      <td>JustinTrudeau</td>\n",
       "      <td>2022-10-21 18:16:44+00:00</td>\n",
       "      <td>1583522691675729920</td>\n",
       "      <td>Et au PM @JJHorgan : merci pour les services q...</td>\n",
       "      <td>https://twitter.com/JustinTrudeau/status/15835...</td>\n",
       "    </tr>\n",
       "    <tr>\n",
       "      <th>2</th>\n",
       "      <td>JustinTrudeau</td>\n",
       "      <td>2022-09-26 22:19:08+00:00</td>\n",
       "      <td>1574523994568818688</td>\n",
       "      <td>Update: Effective October 1st, we’re removing ...</td>\n",
       "      <td>https://twitter.com/JustinTrudeau/status/15745...</td>\n",
       "    </tr>\n",
       "    <tr>\n",
       "      <th>3</th>\n",
       "      <td>JustinTrudeau</td>\n",
       "      <td>2022-09-26 22:19:02+00:00</td>\n",
       "      <td>1574523971244265472</td>\n",
       "      <td>Nouveau : à partir du 1er octobre, on lève les...</td>\n",
       "      <td>https://twitter.com/JustinTrudeau/status/15745...</td>\n",
       "    </tr>\n",
       "    <tr>\n",
       "      <th>4</th>\n",
       "      <td>JustinTrudeau</td>\n",
       "      <td>2022-09-22 20:16:22+00:00</td>\n",
       "      <td>1573043547984609284</td>\n",
       "      <td>It’s time – if you’re eligible for your booste...</td>\n",
       "      <td>https://twitter.com/JustinTrudeau/status/15730...</td>\n",
       "    </tr>\n",
       "    <tr>\n",
       "      <th>...</th>\n",
       "      <td>...</td>\n",
       "      <td>...</td>\n",
       "      <td>...</td>\n",
       "      <td>...</td>\n",
       "      <td>...</td>\n",
       "    </tr>\n",
       "    <tr>\n",
       "      <th>1486</th>\n",
       "      <td>JoeBiden</td>\n",
       "      <td>2020-03-15 14:46:19+00:00</td>\n",
       "      <td>1239201266410164224</td>\n",
       "      <td>If you're exhibiting symptoms of COVID-19 — or...</td>\n",
       "      <td>https://twitter.com/JoeBiden/status/1239201266...</td>\n",
       "    </tr>\n",
       "    <tr>\n",
       "      <th>1487</th>\n",
       "      <td>JoeBiden</td>\n",
       "      <td>2020-03-15 14:43:52+00:00</td>\n",
       "      <td>1239200647616004096</td>\n",
       "      <td>The right to vote is the most sacred American ...</td>\n",
       "      <td>https://twitter.com/JoeBiden/status/1239200647...</td>\n",
       "    </tr>\n",
       "    <tr>\n",
       "      <th>1488</th>\n",
       "      <td>lopezobrador_</td>\n",
       "      <td>2021-01-25 00:30:45+00:00</td>\n",
       "      <td>1353500519344578560</td>\n",
       "      <td>Lamento informarles que estoy contagiado de CO...</td>\n",
       "      <td>https://twitter.com/lopezobrador_/status/13535...</td>\n",
       "    </tr>\n",
       "    <tr>\n",
       "      <th>1489</th>\n",
       "      <td>lopezobrador_</td>\n",
       "      <td>2020-12-27 02:24:20+00:00</td>\n",
       "      <td>1343019855272931336</td>\n",
       "      <td>Nos reunimos con la jefa de Gobierno e integra...</td>\n",
       "      <td>https://twitter.com/lopezobrador_/status/13430...</td>\n",
       "    </tr>\n",
       "    <tr>\n",
       "      <th>1490</th>\n",
       "      <td>lopezobrador_</td>\n",
       "      <td>2020-03-12 23:28:08+00:00</td>\n",
       "      <td>1238245422432387072</td>\n",
       "      <td>¿Cómo actuar ante el coronavirus COVID-19? Con...</td>\n",
       "      <td>https://twitter.com/lopezobrador_/status/12382...</td>\n",
       "    </tr>\n",
       "  </tbody>\n",
       "</table>\n",
       "<p>1491 rows × 5 columns</p>\n",
       "</div>"
      ],
      "text/plain": [
       "           username                      date                   id  \\\n",
       "0     JustinTrudeau 2022-10-21 18:16:58+00:00  1583522748642435072   \n",
       "1     JustinTrudeau 2022-10-21 18:16:44+00:00  1583522691675729920   \n",
       "2     JustinTrudeau 2022-09-26 22:19:08+00:00  1574523994568818688   \n",
       "3     JustinTrudeau 2022-09-26 22:19:02+00:00  1574523971244265472   \n",
       "4     JustinTrudeau 2022-09-22 20:16:22+00:00  1573043547984609284   \n",
       "...             ...                       ...                  ...   \n",
       "1486       JoeBiden 2020-03-15 14:46:19+00:00  1239201266410164224   \n",
       "1487       JoeBiden 2020-03-15 14:43:52+00:00  1239200647616004096   \n",
       "1488  lopezobrador_ 2021-01-25 00:30:45+00:00  1353500519344578560   \n",
       "1489  lopezobrador_ 2020-12-27 02:24:20+00:00  1343019855272931336   \n",
       "1490  lopezobrador_ 2020-03-12 23:28:08+00:00  1238245422432387072   \n",
       "\n",
       "                                                content  \\\n",
       "0     And to Premier @JJHorgan: Thank you for your s...   \n",
       "1     Et au PM @JJHorgan : merci pour les services q...   \n",
       "2     Update: Effective October 1st, we’re removing ...   \n",
       "3     Nouveau : à partir du 1er octobre, on lève les...   \n",
       "4     It’s time – if you’re eligible for your booste...   \n",
       "...                                                 ...   \n",
       "1486  If you're exhibiting symptoms of COVID-19 — or...   \n",
       "1487  The right to vote is the most sacred American ...   \n",
       "1488  Lamento informarles que estoy contagiado de CO...   \n",
       "1489  Nos reunimos con la jefa de Gobierno e integra...   \n",
       "1490  ¿Cómo actuar ante el coronavirus COVID-19? Con...   \n",
       "\n",
       "                                                    url  \n",
       "0     https://twitter.com/JustinTrudeau/status/15835...  \n",
       "1     https://twitter.com/JustinTrudeau/status/15835...  \n",
       "2     https://twitter.com/JustinTrudeau/status/15745...  \n",
       "3     https://twitter.com/JustinTrudeau/status/15745...  \n",
       "4     https://twitter.com/JustinTrudeau/status/15730...  \n",
       "...                                                 ...  \n",
       "1486  https://twitter.com/JoeBiden/status/1239201266...  \n",
       "1487  https://twitter.com/JoeBiden/status/1239200647...  \n",
       "1488  https://twitter.com/lopezobrador_/status/13535...  \n",
       "1489  https://twitter.com/lopezobrador_/status/13430...  \n",
       "1490  https://twitter.com/lopezobrador_/status/12382...  \n",
       "\n",
       "[1491 rows x 5 columns]"
      ]
     },
     "execution_count": 122,
     "metadata": {},
     "output_type": "execute_result"
    }
   ],
   "source": [
    "# Pandas dataframe con tweets de Jlos tres presidentes relacionados con el Covid-19\n",
    "column_names = (\"username\",\"date\",\"id\",\"content\",\"url\")\n",
    "df = pd.DataFrame(tweets_list, columns=column_names)\n",
    "df"
   ]
  },
  {
   "cell_type": "code",
   "execution_count": 123,
   "id": "5abdeef0-fbcf-4d69-9ad4-b061d1c73866",
   "metadata": {},
   "outputs": [
    {
     "name": "stdout",
     "output_type": "stream",
     "text": [
      "\n",
      "Tweets de presidente o primer ministro relacionados con el Covid-19, de enero 2020 a octubre 2022:\n",
      "\n"
     ]
    },
    {
     "data": {
      "text/html": [
       "<div>\n",
       "<style scoped>\n",
       "    .dataframe tbody tr th:only-of-type {\n",
       "        vertical-align: middle;\n",
       "    }\n",
       "\n",
       "    .dataframe tbody tr th {\n",
       "        vertical-align: top;\n",
       "    }\n",
       "\n",
       "    .dataframe thead th {\n",
       "        text-align: right;\n",
       "    }\n",
       "</style>\n",
       "<table border=\"1\" class=\"dataframe\">\n",
       "  <thead>\n",
       "    <tr style=\"text-align: right;\">\n",
       "      <th></th>\n",
       "      <th>President</th>\n",
       "      <th>tweets</th>\n",
       "    </tr>\n",
       "  </thead>\n",
       "  <tbody>\n",
       "    <tr>\n",
       "      <th>0</th>\n",
       "      <td>JustinTrudeau</td>\n",
       "      <td>1232</td>\n",
       "    </tr>\n",
       "    <tr>\n",
       "      <th>1</th>\n",
       "      <td>JoeBiden</td>\n",
       "      <td>256</td>\n",
       "    </tr>\n",
       "    <tr>\n",
       "      <th>2</th>\n",
       "      <td>lopezobrador_</td>\n",
       "      <td>3</td>\n",
       "    </tr>\n",
       "  </tbody>\n",
       "</table>\n",
       "</div>"
      ],
      "text/plain": [
       "       President  tweets\n",
       "0  JustinTrudeau    1232\n",
       "1       JoeBiden     256\n",
       "2  lopezobrador_       3"
      ]
     },
     "execution_count": 123,
     "metadata": {},
     "output_type": "execute_result"
    }
   ],
   "source": [
    "# Número de comentarios por presidente/primer ministro\n",
    "print(\"\\nTweets de presidente o primer ministro relacionados con el Covid-19, de enero 2020 a octubre 2022:\\n\")\n",
    "pd.DataFrame(df['username'].value_counts()).reset_index().rename(columns={'index':'President', 'username':\"tweets\"})"
   ]
  },
  {
   "cell_type": "markdown",
   "id": "658fe562",
   "metadata": {},
   "source": [
    "# Referencias\n",
    "- **API de Twitter**\n",
    "    - [Solicitud de cuenta de desarrollador](https://developer.twitter.com/en/portal/dashboard)\n",
    "    - [Twitter API Data Collection](https://www.youtube.com/watch?v=Jl-_dDqSaUQ&t=59s) por Stevesie Data (minuto 0:59 al 1:44)\n",
    "    - [Ejemplo de uso](https://github.com/vcuspinera/Canada_response_covid/blob/master/src/twitter-search_v1_TwitterAPI.ipynb)  \n",
    "\n",
    "<br>\n",
    "\n",
    "- **librería `GetOldTweets`**\n",
    "    - [Descripción del paquete](https://pypi.org/project/GetOldTweets3/) \n",
    "    - [Página del paquete en GitHub](https://github.com/Mottl/GetOldTweets3)\n",
    "    - [Error del paquete](https://github.com/Mottl/GetOldTweets3/issues/98)\n",
    "    - [Ejemplo de uso](https://github.com/vcuspinera/Canada_response_covid/blob/master/src/twitter-search_v2_GetOldTweets3.ipynb)  \n",
    "\n",
    "<br>\n",
    "\n",
    "- **librería `snscrape`**\n",
    "    - [Descripción del paquete](https://pypi.org/project/snscrape/) \n",
    "    - [Página del paquete en GitHub](https://github.com/JustAnotherArchivist/snscrape)\n",
    "    - [Ejemplo de uso](https://github.com/vcuspinera/Canada_response_covid/blob/master/src/twitter-search_v3_snscrape.ipynb)  \n",
    "\n",
    "<br>\n",
    "\n",
    "- **Artículos**\n",
    "    - [How to scrape millions of tweets using snscrape](https://medium.com/dataseries/how-to-scrape-millions-of-tweets-using-snscrape-195ee3594721) por Rashi Desai.\n",
    "    - [How to Scrape Tweets With snscrape](https://betterprogramming.pub/how-to-scrape-tweets-with-snscrape-90124ed006af) por Martin Beck."
   ]
  },
  {
   "cell_type": "code",
   "execution_count": null,
   "id": "7ecf8d19",
   "metadata": {},
   "outputs": [],
   "source": []
  }
 ],
 "metadata": {
  "kernelspec": {
   "display_name": "Python 3",
   "language": "python",
   "name": "python3"
  },
  "language_info": {
   "codemirror_mode": {
    "name": "ipython",
    "version": 3
   },
   "file_extension": ".py",
   "mimetype": "text/x-python",
   "name": "python",
   "nbconvert_exporter": "python",
   "pygments_lexer": "ipython3",
   "version": "3.7.7"
  }
 },
 "nbformat": 4,
 "nbformat_minor": 5
}
