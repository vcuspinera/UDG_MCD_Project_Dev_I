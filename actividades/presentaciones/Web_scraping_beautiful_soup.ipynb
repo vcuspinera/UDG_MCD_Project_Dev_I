{
 "cells": [
  {
   "cell_type": "code",
   "execution_count": 1,
   "id": "b5f131bb",
   "metadata": {},
   "outputs": [],
   "source": [
    "#!pip install requests beautifulsoup4"
   ]
  },
  {
   "cell_type": "code",
   "execution_count": 2,
   "id": "d4ae12d9",
   "metadata": {},
   "outputs": [
    {
     "name": "stdout",
     "output_type": "stream",
     "text": [
      "Versión de Beautiful Soup: 4.8.2\n",
      "Versión de Python: 3.11.5 (main, Sep 11 2023, 08:19:27) [Clang 14.0.6 ]\n"
     ]
    }
   ],
   "source": [
    "import sys\n",
    "import bs4\n",
    "print(\"Versión de Beautiful Soup:\", bs4.__version__)\n",
    "print(\"Versión de Python:\", sys.version)"
   ]
  },
  {
   "cell_type": "markdown",
   "id": "7d3e80ce",
   "metadata": {},
   "source": [
    "# Primer scrapeo\n",
    "\n",
    "El proceso de scrapear una página web es parecido a lo que hace un humano cuando quiere buscar algo en Internet, la diferencia es que en lugar de ver el contenido presentado por el navegador, el programa analiza y selecciona el código fuente generalmente programado en  HTML y JavaScript.\n",
    "\n",
    "El primer paso es por tanto seleccionar una página web para hacer el scraping y descargarla. Para ello, haremos peticiones de HTTP mediante `requests`:"
   ]
  },
  {
   "cell_type": "code",
   "execution_count": 31,
   "id": "26822a30",
   "metadata": {},
   "outputs": [],
   "source": [
    "#Escrapear es como buscar info en la web usualmente programado en formatos HTML y JavaScript\n",
    "import requests\n",
    "\n",
    "#El primer paso es por tanto seleccionar una página web para hacer el scraping y descargarla. Ya sabemos cómo hacer peticiones HTTP mediante `requests` así que vamos a a hacer una petición de la web de ejemplo por excelencia:\n",
    "req = requests.get(\"https://example.com\")"
   ]
  },
  {
   "cell_type": "markdown",
   "id": "552458ca",
   "metadata": {},
   "source": [
    "El caso es que como respuesta a la petición se nos ha develto la página y podemos ver su código fuente en crudo:"
   ]
  },
  {
   "cell_type": "code",
   "execution_count": 32,
   "id": "178ec71d",
   "metadata": {},
   "outputs": [
    {
     "name": "stdout",
     "output_type": "stream",
     "text": [
      "<!doctype html>\n",
      "<html>\n",
      "<head>\n",
      "    <title>Example Domain</title>\n",
      "\n",
      "    <meta charset=\"utf-8\" />\n",
      "    <meta http-equiv=\"Content-type\" content=\"text/html; charset=utf-8\" />\n",
      "    <meta name=\"viewport\" content=\"width=device-width, initial-scale=1\" />\n",
      "    <style type=\"text/css\">\n",
      "    body {\n",
      "        background-color: #f0f0f2;\n",
      "        margin: 0;\n",
      "        padding: 0;\n",
      "        font-family: -apple-system, system-ui, BlinkMacSystemFont, \"Segoe UI\", \"Open Sans\", \"Helvetica Neue\", Helvetica, Arial, sans-serif;\n",
      "        \n",
      "    }\n",
      "    div {\n",
      "        width: 600px;\n",
      "        margin: 5em auto;\n",
      "        padding: 2em;\n",
      "        background-color: #fdfdff;\n",
      "        border-radius: 0.5em;\n",
      "        box-shadow: 2px 3px 7px 2px rgba(0,0,0,0.02);\n",
      "    }\n",
      "    a:link, a:visited {\n",
      "        color: #38488f;\n",
      "        text-decoration: none;\n",
      "    }\n",
      "    @media (max-width: 700px) {\n",
      "        div {\n",
      "            margin: 0 auto;\n",
      "            width: auto;\n",
      "        }\n",
      "    }\n",
      "    </style>    \n",
      "</head>\n",
      "\n",
      "<body>\n",
      "<div>\n",
      "    <h1>Example Domain</h1>\n",
      "    <p>This domain is for use in illustrative examples in documents. You may use this\n",
      "    domain in literature without prior coordination or asking for permission.</p>\n",
      "    <p><a href=\"https://www.iana.org/domains/example\">More information...</a></p>\n",
      "</div>\n",
      "</body>\n",
      "</html>\n",
      "\n"
     ]
    }
   ],
   "source": [
    "print(req.text)"
   ]
  },
  {
   "cell_type": "markdown",
   "id": "6e51ea8c",
   "metadata": {},
   "source": [
    "Aquí tenemos un documento HTML bien estructurado con sus etiquetas.\n",
    "\n",
    "Cuando el navegador interpreta estas etiquetas que se abren y se cierran, con sus atributos y contenidos genera lo que se conoce como **DOM** (*Document Object Model*), una interfaz de programación para documentos HTML y XML que en esencia es como un árbol ramificado de  componentes padres e hijos. El padre de todo es `html`, que tiene dos hijos `head` y `body`, el primero contiene el `title` y los metadatos, el otro el contenido de la página, una capa `div` que a su vez tiene una cabecera `h1` y unos parágrados `p`.\n",
    "\n",
    "Pues bien, la biblioteca `BeautifulSoup` lo que hace es generar su propia estructura parecida a la interfaz **DOM** pero en Python, creando un árbol con los elementos del documento. Básicamente le pasamos un documento HTML en crudo y ella lo transforma en un objeto dinámico con el que podemos interactuar:"
   ]
  },
  {
   "cell_type": "code",
   "execution_count": 33,
   "id": "f6c9a40b",
   "metadata": {},
   "outputs": [
    {
     "name": "stdout",
     "output_type": "stream",
     "text": [
      "<!DOCTYPE html>\n",
      "<html>\n",
      "<head>\n",
      "<title>Example Domain</title>\n",
      "<meta charset=\"utf-8\"/>\n",
      "<meta content=\"text/html; charset=utf-8\" http-equiv=\"Content-type\"/>\n",
      "<meta content=\"width=device-width, initial-scale=1\" name=\"viewport\"/>\n",
      "<style type=\"text/css\">\n",
      "    body {\n",
      "        background-color: #f0f0f2;\n",
      "        margin: 0;\n",
      "        padding: 0;\n",
      "        font-family: -apple-system, system-ui, BlinkMacSystemFont, \"Segoe UI\", \"Open Sans\", \"Helvetica Neue\", Helvetica, Arial, sans-serif;\n",
      "        \n",
      "    }\n",
      "    div {\n",
      "        width: 600px;\n",
      "        margin: 5em auto;\n",
      "        padding: 2em;\n",
      "        background-color: #fdfdff;\n",
      "        border-radius: 0.5em;\n",
      "        box-shadow: 2px 3px 7px 2px rgba(0,0,0,0.02);\n",
      "    }\n",
      "    a:link, a:visited {\n",
      "        color: #38488f;\n",
      "        text-decoration: none;\n",
      "    }\n",
      "    @media (max-width: 700px) {\n",
      "        div {\n",
      "            margin: 0 auto;\n",
      "            width: auto;\n",
      "        }\n",
      "    }\n",
      "    </style>\n",
      "</head>\n",
      "<body>\n",
      "<div>\n",
      "<h1>Example Domain</h1>\n",
      "<p>This domain is for use in illustrative examples in documents. You may use this\n",
      "    domain in literature without prior coordination or asking for permission.</p>\n",
      "<p><a href=\"https://www.iana.org/domains/example\">More information...</a></p>\n",
      "</div>\n",
      "</body>\n",
      "</html>\n",
      "\n"
     ]
    }
   ],
   "source": [
    "from bs4 import BeautifulSoup\n",
    "\n",
    "soup = BeautifulSoup(req.text)\n",
    "\n",
    "print(soup)"
   ]
  },
  {
   "cell_type": "markdown",
   "id": "bb39e0c5",
   "metadata": {},
   "source": [
    "A simple vista parece lo mismo, pero ahora podemos hacer algo como esto para consultar el título de la página:"
   ]
  },
  {
   "cell_type": "code",
   "execution_count": 34,
   "id": "4249c231",
   "metadata": {},
   "outputs": [
    {
     "data": {
      "text/plain": [
       "[<title>Example Domain</title>]"
      ]
     },
     "execution_count": 34,
     "metadata": {},
     "output_type": "execute_result"
    }
   ],
   "source": [
    "soup.select(\"title\")"
   ]
  },
  {
   "cell_type": "markdown",
   "id": "f587527d",
   "metadata": {},
   "source": [
    "Esto que nos devuelve es un objeto, veamos tu tipo:"
   ]
  },
  {
   "cell_type": "code",
   "execution_count": 35,
   "id": "ffe08602",
   "metadata": {},
   "outputs": [
    {
     "data": {
      "text/plain": [
       "bs4.element.ResultSet"
      ]
     },
     "execution_count": 35,
     "metadata": {},
     "output_type": "execute_result"
    }
   ],
   "source": [
    "type(soup.select(\"title\"))"
   ]
  },
  {
   "cell_type": "markdown",
   "id": "f74f3cc2",
   "metadata": {},
   "source": [
    "Es un conjunto de resultados que contiene los tags que concuerdan con el nombre `title`, por tanto es una lista.\n",
    "\n",
    "Veamos qué tipo tiene ese primer valor del conjunto:"
   ]
  },
  {
   "cell_type": "code",
   "execution_count": 36,
   "id": "24ffd5e4",
   "metadata": {},
   "outputs": [
    {
     "data": {
      "text/plain": [
       "bs4.element.Tag"
      ]
     },
     "execution_count": 36,
     "metadata": {},
     "output_type": "execute_result"
    }
   ],
   "source": [
    "type(soup.select(\"title\")[0])"
   ]
  },
  {
   "cell_type": "markdown",
   "id": "a2e1bce7",
   "metadata": {},
   "source": [
    "Como ven es un `Tag` y éste contiene diferentes métodos, como por ejemplo `getText()` para recuperar su contenido:"
   ]
  },
  {
   "cell_type": "code",
   "execution_count": 37,
   "id": "62c04bfc",
   "metadata": {},
   "outputs": [
    {
     "data": {
      "text/plain": [
       "'Example Domain'"
      ]
     },
     "execution_count": 37,
     "metadata": {},
     "output_type": "execute_result"
    }
   ],
   "source": [
    "soup.select(\"title\")[0].getText()"
   ]
  },
  {
   "cell_type": "markdown",
   "id": "c76d5293",
   "metadata": {},
   "source": [
    "Podemos recuperar otros elementos esenciales como la cabecera o los párrafos:"
   ]
  },
  {
   "cell_type": "code",
   "execution_count": 38,
   "id": "7f7cda90",
   "metadata": {},
   "outputs": [
    {
     "data": {
      "text/plain": [
       "[<h1>Example Domain</h1>]"
      ]
     },
     "execution_count": 38,
     "metadata": {},
     "output_type": "execute_result"
    }
   ],
   "source": [
    "soup.select(\"h1\")"
   ]
  },
  {
   "cell_type": "code",
   "execution_count": 39,
   "id": "22b49dbe",
   "metadata": {},
   "outputs": [
    {
     "data": {
      "text/plain": [
       "[<p>This domain is for use in illustrative examples in documents. You may use this\n",
       "     domain in literature without prior coordination or asking for permission.</p>,\n",
       " <p><a href=\"https://www.iana.org/domains/example\">More information...</a></p>]"
      ]
     },
     "execution_count": 39,
     "metadata": {},
     "output_type": "execute_result"
    }
   ],
   "source": [
    "soup.select(\"p\")"
   ]
  },
  {
   "cell_type": "markdown",
   "id": "0f1ecf2e",
   "metadata": {},
   "source": [
    "El segundo párrafo contiene a su vez un enlace, podemos acceder de forma anidada:"
   ]
  },
  {
   "cell_type": "code",
   "execution_count": 40,
   "id": "e77b8330",
   "metadata": {},
   "outputs": [
    {
     "data": {
      "text/plain": [
       "'More information...'"
      ]
     },
     "execution_count": 40,
     "metadata": {},
     "output_type": "execute_result"
    }
   ],
   "source": [
    "# Seleccionar del segundo párrafo el primer enlace \n",
    "a = soup.select(\"p\")[1].select(\"a\")[0]\n",
    "\n",
    "# Mostrar su contenido\n",
    "a.getText()"
   ]
  },
  {
   "cell_type": "markdown",
   "id": "a319dea5",
   "metadata": {},
   "source": [
    "Las etiquetas tienen valores especiales llamados atributos, como la dirección `href` de un enlace. \n",
    "\n",
    "Estos se almacenan como un diccionario del objeto, es muy cómodo acceder a ellos:"
   ]
  },
  {
   "cell_type": "code",
   "execution_count": 41,
   "id": "4c214838",
   "metadata": {},
   "outputs": [
    {
     "data": {
      "text/plain": [
       "'https://www.iana.org/domains/example'"
      ]
     },
     "execution_count": 41,
     "metadata": {},
     "output_type": "execute_result"
    }
   ],
   "source": [
    "# Atributo con la dirección del enlace\n",
    "a['href']"
   ]
  },
  {
   "cell_type": "markdown",
   "id": "c08c248a",
   "metadata": {},
   "source": [
    "Estos valores están mapeados del diccionario `attrs`:"
   ]
  },
  {
   "cell_type": "code",
   "execution_count": 42,
   "id": "55291454",
   "metadata": {},
   "outputs": [
    {
     "data": {
      "text/plain": [
       "dict_items([('href', 'https://www.iana.org/domains/example')])"
      ]
     },
     "execution_count": 42,
     "metadata": {},
     "output_type": "execute_result"
    }
   ],
   "source": [
    "a.attrs.items()"
   ]
  },
  {
   "cell_type": "markdown",
   "id": "cef5b18b",
   "metadata": {},
   "source": [
    "Siguiendo esta lógica podemos programar un script que recupere todos los atributos de los metadatos:"
   ]
  },
  {
   "cell_type": "code",
   "execution_count": 43,
   "id": "796019cc",
   "metadata": {},
   "outputs": [
    {
     "name": "stdout",
     "output_type": "stream",
     "text": [
      "charset: utf-8\n",
      "http-equiv: Content-type\n",
      "content: text/html; charset=utf-8\n",
      "name: viewport\n",
      "content: width=device-width, initial-scale=1\n"
     ]
    }
   ],
   "source": [
    "for meta in soup.select(\"meta\"):\n",
    "    for atributo, valor in meta.attrs.items():\n",
    "        print(f\"{atributo}: {valor}\")"
   ]
  },
  {
   "cell_type": "markdown",
   "id": "0b0ea1c5",
   "metadata": {},
   "source": [
    "# Uso de selectores\n",
    "\n",
    "Los selectores son una técnica para especificar de forma más concreta qué elementos recuperar del árbol:\n",
    "\n",
    "| Selector                 | Descripción                      | \n",
    "|--------------------------|----------------------------------| \n",
    "| Etiquetas                | `soup.select(\"tag\")`             | \n",
    "| Identificadores          | `soup.select(\"#id\")`             | \n",
    "| Clases                   | `soup.select(\".class\")`          | \n",
    "| Atributos                | `soup.select(\"tag[attr)`         |  \n",
    "| Etiquetas en etiquetas   | `soup.select(\"parent child\")`    | \n",
    "\n",
    "Vamos a scrapear [la página de Python](https://es.wikipedia.org/wiki/Python) en Wikipedia para poner en práctica algunos de estos selectores:"
   ]
  },
  {
   "cell_type": "code",
   "execution_count": 44,
   "id": "d2df2e55",
   "metadata": {},
   "outputs": [
    {
     "name": "stdout",
     "output_type": "stream",
     "text": [
      "Python - Wikipedia, la enciclopedia libre\n"
     ]
    }
   ],
   "source": [
    "import requests\n",
    "from bs4 import BeautifulSoup\n",
    "\n",
    "req = requests.get(\"https://web.archive.org/web/20220722211457/https://es.wikipedia.org/wiki/Python\")\n",
    "soup = BeautifulSoup(req.text)\n",
    "\n",
    "title = soup.select(\"title\")[0].getText()\n",
    "print(title)"
   ]
  },
  {
   "cell_type": "markdown",
   "id": "c766b142",
   "metadata": {},
   "source": [
    "Haciendo **clic derecho inspeccionar en cualquier navegador** podemos ver el código fuente mientras seleccionamos los elementos de la página.\n",
    "\n",
    "Por ejemplo, en el primer parágrafo del documento encontramos un resumen del artículo:\n"
   ]
  },
  {
   "cell_type": "code",
   "execution_count": 45,
   "id": "36ad38b7",
   "metadata": {},
   "outputs": [
    {
     "name": "stdout",
     "output_type": "stream",
     "text": [
      "Python es un lenguaje de alto nivel de programación interpretado cuya filosofía hace hincapié en la legibilidad de su código, se utiliza para desarrollar aplicaciones de todo tipo, ejemplos: Instagram, Netflix, Spotify, Panda 3D, entre otros.[2]​ Se trata de un lenguaje de programación multiparadigma, ya que soporta parcialmente la orientación a objetos, programación imperativa y, en menor medida[¿cuál?], programación funcional. Es un lenguaje interpretado, dinámico y multiplataforma.\n",
      "\n"
     ]
    }
   ],
   "source": [
    "resumen = soup.select(\"p\")[0].getText()\n",
    "print(resumen)"
   ]
  },
  {
   "cell_type": "markdown",
   "id": "e414e740",
   "metadata": {},
   "source": [
    "## Scrapeando el índice\n",
    "\n",
    "La Wikipedia tiene lo que se conoce como **Tabla de contenidos**, un índice del documento. \n",
    "\n",
    "Según el inspector su etiqueta abre con este tag:\n",
    "\n",
    "```html\n",
    "<div id=\"toc\" class=\"toc\" role=\"navigation\" aria-labelledby=\"mw-toc-heading\">\n",
    "```\n",
    "\n",
    "Es una capa `div` pero tiene un identificador `id` así que podemos usar un selector y luego podemos extraer sus enlaces `a`:"
   ]
  },
  {
   "cell_type": "code",
   "execution_count": 46,
   "id": "4a5c8415",
   "metadata": {},
   "outputs": [
    {
     "name": "stdout",
     "output_type": "stream",
     "text": [
      "1 Historia\n",
      "2 Características y paradigmas\n",
      "3 Filosofía\n",
      "4 Modo interactivo\n",
      "5 Elementos del lenguaje y sintaxis\n",
      "5.1 Comentarios\n",
      "5.2 Variables\n",
      "5.3 Tipos de datos\n",
      "5.4 Condicionales\n",
      "5.5 Bucle for\n",
      "5.6 Bucle while\n",
      "5.7 Listas y Tuplas\n",
      "5.8 Diccionarios\n",
      "5.9 Sentencia Switch Case\n",
      "5.9.1 Usando if, elif, else\n",
      "5.9.2 Usando diccionario\n",
      "5.10 Conjuntos\n",
      "5.11 Listas por comprensión\n",
      "5.12 Funciones\n",
      "5.13 Clases\n",
      "5.14 Módulos\n",
      "5.14.1 Instalación de módulos (pip)\n",
      "5.14.2 Interfaz al sistema operativo\n",
      "5.14.3 Comodines de archivos\n",
      "5.14.4 Argumentos de línea de órdenes\n",
      "5.14.5 Matemática\n",
      "5.14.6 Fechas y Tiempos\n",
      "5.14.7 Módulo Turtle\n",
      "6 Sistema de objetos\n",
      "7 Biblioteca estándar\n",
      "8 Implementaciones\n",
      "9 Incidencias\n",
      "10 Véase también\n",
      "11 Referencias\n",
      "12 Bibliografía\n",
      "13 Enlaces externos\n"
     ]
    }
   ],
   "source": [
    "toc = soup.select(\"#toc\")[0]\n",
    "\n",
    "for a in toc.select(\"a\"):\n",
    "    print(a.getText())"
   ]
  },
  {
   "cell_type": "markdown",
   "id": "70f5e519",
   "metadata": {},
   "source": [
    "Con una expresión regular podemos mostrar únicamente los enlaces de primer nivel:"
   ]
  },
  {
   "cell_type": "code",
   "execution_count": 47,
   "id": "bf4988ca",
   "metadata": {},
   "outputs": [
    {
     "name": "stdout",
     "output_type": "stream",
     "text": [
      "1 Historia\n",
      "2 Características y paradigmas\n",
      "3 Filosofía\n",
      "4 Modo interactivo\n",
      "5 Elementos del lenguaje y sintaxis\n",
      "6 Sistema de objetos\n",
      "7 Biblioteca estándar\n",
      "8 Implementaciones\n",
      "9 Incidencias\n",
      "10 Véase también\n",
      "11 Referencias\n",
      "12 Bibliografía\n",
      "13 Enlaces externos\n"
     ]
    }
   ],
   "source": [
    "import re\n",
    "\n",
    "for a in toc.select(\"a\"):\n",
    "    text = a.getText()\n",
    "    if re.match(r\"\\d+ \", text):\n",
    "        print(text)"
   ]
  },
  {
   "cell_type": "code",
   "execution_count": 48,
   "id": "7f828850",
   "metadata": {},
   "outputs": [
    {
     "name": "stdout",
     "output_type": "stream",
     "text": [
      "1 Historia\n",
      "2 Características y paradigmas\n",
      "3 Filosofía\n",
      "4 Modo interactivo\n",
      "5 Elementos del lenguaje y sintaxis\n",
      "  5.1 Comentarios\n",
      "  5.2 Variables\n",
      "  5.3 Tipos de datos\n",
      "  5.4 Condicionales\n",
      "  5.5 Bucle for\n",
      "  5.6 Bucle while\n",
      "  5.7 Listas y Tuplas\n",
      "  5.8 Diccionarios\n",
      "  5.9 Sentencia Switch Case\n",
      "    5.9.1 Usando if, elif, else\n",
      "    5.9.2 Usando diccionario\n",
      "  5.10 Conjuntos\n",
      "  5.11 Listas por comprensión\n",
      "  5.12 Funciones\n",
      "  5.13 Clases\n",
      "  5.14 Módulos\n",
      "    5.14.1 Instalación de módulos (pip)\n",
      "    5.14.2 Interfaz al sistema operativo\n",
      "    5.14.3 Comodines de archivos\n",
      "    5.14.4 Argumentos de línea de órdenes\n",
      "    5.14.5 Matemática\n",
      "    5.14.6 Fechas y Tiempos\n",
      "    5.14.7 Módulo Turtle\n",
      "6 Sistema de objetos\n",
      "7 Biblioteca estándar\n",
      "8 Implementaciones\n",
      "9 Incidencias\n",
      "10 Véase también\n",
      "11 Referencias\n",
      "12 Bibliografía\n",
      "13 Enlaces externos\n"
     ]
    }
   ],
   "source": [
    "import re\n",
    "\n",
    "for a in toc.select(\"a\"):\n",
    "    text = a.getText()\n",
    "    if re.match(r\"\\d+ \", text):\n",
    "        print(text)\n",
    "    elif re.match(r\"\\d+.\\d+ \", text):\n",
    "        print(\" \", text)\n",
    "    elif re.match(r\"\\d+.\\d+.\\d+ \", text):\n",
    "        print(\"   \", text)"
   ]
  },
  {
   "cell_type": "markdown",
   "id": "1af3f851",
   "metadata": {},
   "source": [
    "## Scrapeando la caja de información\n",
    "\n",
    "Otro elemento interesante que encontramos en el artículo es la caja de información arriba a la derecha, si la insepeccionamos veremos que es una tabla con la clase `infobox`: \n",
    "\n",
    "\n",
    "```html\n",
    "<table class=\"infobox\" style=\"width:22.7em; line-height: 1.4em; text-align:left; padding:.23em;\">\n",
    "```\n",
    "\n",
    "En el lenguaje HTML las tablas se forman a partir de etiquetas con filas `tr` que contienen cabeceras `th` o celdas con datos `td`.\n",
    "\n",
    "Podemos empezar recorriendo las filas a ver qué encontramos:"
   ]
  },
  {
   "cell_type": "code",
   "execution_count": 49,
   "id": "a1f812cc",
   "metadata": {},
   "outputs": [
    {
     "name": "stdout",
     "output_type": "stream",
     "text": [
      "Python\n",
      "\n",
      "\n",
      "Desarrollador(es)\n",
      "\n",
      "Python Software FoundationSitio web oficial\n",
      "Información general\n",
      "Extensiones comunes\n",
      ".py, .pyc, .pyd, .pyo, .pyw, .pyz, .pyi\n",
      "Paradigma\n",
      "Multiparadigma: orientado a objetos, imperativo, funcional, reflexivo\n",
      "Apareció en\n",
      "1991\n",
      "Diseñado por\n",
      "Guido van Rossum\n",
      "Última versión estable\n",
      "3.10.5[1]​ (6 de junio de 2022 (1 mes y 6 días))\n",
      "Sistema de tipos\n",
      "Fuertemente tipado, dinámico\n",
      "Implementaciones\n",
      "CPython, IronPython, Jython, Python for S60, PyPy, ActivePython, Unladen Swallow\n",
      "Dialectos\n",
      "Stackless Python, RPython\n",
      "Influido por\n",
      "ABC, ALGOL 68, C, Haskell, Icon, Lisp, Modula-3, Perl, Smalltalk, Java\n",
      "Ha influido a\n",
      "Boo, Cobra, D, Falcon, Genie, Groovy, Ruby, JavaScript, Cython, Go Latino\n",
      "Sistema operativo\n",
      "Multiplataforma\n",
      "Licencia\n",
      "Python Software Foundation License\n",
      "[editar datos en Wikidata]\n"
     ]
    }
   ],
   "source": [
    "tr_tags = soup.select(\".infobox tr\")\n",
    "\n",
    "for tr_tag in tr_tags: #para cada fila en las filas extraemos el texto\n",
    "    print(tr_tag.getText())"
   ]
  },
  {
   "cell_type": "markdown",
   "id": "89b4a7c3",
   "metadata": {},
   "source": [
    "Podríamos reestructurar el contenido de forma que sea más legible.\n",
    "\n",
    "Como cada `tr` tiene en teoría dos columnas, una con la cabecera `th` a la izquierda y el texto `td` a la derecha, podemos usar los índices para formatear el texto de salida:"
   ]
  },
  {
   "cell_type": "code",
   "execution_count": 50,
   "id": "5707db35",
   "metadata": {},
   "outputs": [
    {
     "name": "stdout",
     "output_type": "stream",
     "text": [
      "Extensiones comunes: .py, .pyc, .pyd, .pyo, .pyw, .pyz, .pyi\n",
      "Paradigma: Multiparadigma: orientado a objetos, imperativo, funcional, reflexivo\n",
      "Apareció en: 1991\n",
      "Diseñado por: Guido van Rossum\n",
      "Última versión estable: 3.10.5[1]​ (6 de junio de 2022 (1 mes y 6 días))\n",
      "Sistema de tipos: Fuertemente tipado, dinámico\n",
      "Implementaciones: CPython, IronPython, Jython, Python for S60, PyPy, ActivePython, Unladen Swallow\n",
      "Dialectos: Stackless Python, RPython\n",
      "Influido por: ABC, ALGOL 68, C, Haskell, Icon, Lisp, Modula-3, Perl, Smalltalk, Java\n",
      "Ha influido a: Boo, Cobra, D, Falcon, Genie, Groovy, Ruby, JavaScript, Cython, Go Latino\n",
      "Sistema operativo: Multiplataforma\n",
      "Licencia: Python Software Foundation License\n"
     ]
    }
   ],
   "source": [
    "tr_tags = soup.select(\".infobox tr\")\n",
    "\n",
    "for tr_tag in tr_tags:\n",
    "    th_tags = tr_tag.select(\"th\") #Si tiene cabeceras\n",
    "    td_tags = tr_tag.select(\"td\") #Si tiene datos\n",
    "    if len(th_tags) > 0 and len(td_tags) > 0: \n",
    "        print(f\"{th_tags[0].getText().strip()}: {td_tags[0].getText().strip()}\") #strip para borar espacios delante y detrás"
   ]
  },
  {
   "cell_type": "markdown",
   "id": "afbe1712",
   "metadata": {},
   "source": [
    "## Scrapeando una imagen\n",
    "\n",
    "Por último nos quedó pendiente el logo del `infobox`, si inspeccionamos la imagen veremos que tiene un tag `img` con muchos atributos:\n",
    "\n",
    "```html\n",
    "<img alt=\"Python-logo-notext.svg\" src=\"//web.archive.org/web/20220722211457im_/https://upload.wikimedia.org/wikipedia/commons/thumb/c/c3/Python-logo-notext.svg/100px-Python-logo-notext.svg.png\" decoding=\"async\" width=\"100\" height=\"100\" srcset=\"//web.archive.org/web/20220722211457im_/https://upload.wikimedia.org/wikipedia/commons/thumb/c/c3/Python-logo-notext.svg/150px-Python-logo-notext.svg.png 1.5x, //web.archive.org/web/20220722211457im_/https://upload.wikimedia.org/wikipedia/commons/thumb/c/c3/Python-logo-notext.svg/200px-Python-logo-notext.svg.png 2x\" data-file-width=\"110\" data-file-height=\"110\">\n",
    "```\n",
    "\n",
    "Es un poco difícil recuperar este elemento porque no tiene un identificador único, pero...\n",
    "\n",
    "¿No se encuentra la imagen principal siempre en la tabla `infobox`? Pues vamos a utilizarla para recuperar la primera imagen en su interior:"
   ]
  },
  {
   "cell_type": "code",
   "execution_count": 51,
   "id": "d27f6ddb",
   "metadata": {},
   "outputs": [
    {
     "name": "stdout",
     "output_type": "stream",
     "text": [
      "<img alt=\"Python-logo-notext.svg\" data-file-height=\"110\" data-file-width=\"110\" decoding=\"async\" height=\"100\" src=\"//web.archive.org/web/20220722211457im_/https://upload.wikimedia.org/wikipedia/commons/thumb/c/c3/Python-logo-notext.svg/100px-Python-logo-notext.svg.png\" srcset=\"//web.archive.org/web/20220722211457im_/https://upload.wikimedia.org/wikipedia/commons/thumb/c/c3/Python-logo-notext.svg/150px-Python-logo-notext.svg.png 1.5x, //web.archive.org/web/20220722211457im_/https://upload.wikimedia.org/wikipedia/commons/thumb/c/c3/Python-logo-notext.svg/200px-Python-logo-notext.svg.png 2x\" width=\"100\"/>\n"
     ]
    }
   ],
   "source": [
    "img = soup.select(\".infobox img\")[0] #En infobox buscamos la imagen img y 0 busca la primer imagen\n",
    "\n",
    "print(img)"
   ]
  },
  {
   "cell_type": "markdown",
   "id": "dfc41fb0",
   "metadata": {},
   "source": [
    "Solo tenemos que recuperar el enlace de la imagen en su atributo src:"
   ]
  },
  {
   "cell_type": "code",
   "execution_count": 52,
   "id": "2883f1cd",
   "metadata": {},
   "outputs": [
    {
     "name": "stdout",
     "output_type": "stream",
     "text": [
      "//web.archive.org/web/20220722211457im_/https://upload.wikimedia.org/wikipedia/commons/thumb/c/c3/Python-logo-notext.svg/100px-Python-logo-notext.svg.png\n"
     ]
    }
   ],
   "source": [
    "print(img['src'])"
   ]
  },
  {
   "cell_type": "markdown",
   "id": "83ef8c72",
   "metadata": {},
   "source": [
    "Utilizando el propio módulo `requests` podemos guardar la imagen en el directorio de este mismo notebook con el nombre que queramos:"
   ]
  },
  {
   "cell_type": "code",
   "execution_count": 53,
   "id": "6cbf7ac9",
   "metadata": {},
   "outputs": [],
   "source": [
    "# Ponemos el protocolo https: delante porque el enlace no lo incluye\n",
    "response = requests.get(f\"https:{img['src']}\")\n",
    "\n",
    "if response.status_code == 200:\n",
    "    with open(\"image.png\", 'wb') as f:\n",
    "        f.write(response.content)"
   ]
  },
  {
   "cell_type": "markdown",
   "id": "e48c17fe",
   "metadata": {},
   "source": [
    "Si no falla en principio es que se ha descargado, podemos mostrar la imagen en markdown con un simple código:\n",
    "\n",
    "```markdown\n",
    "![](image.png)\n",
    "```\n",
    "\n",
    "![](image.png)\n",
    "\n",
    "En la [documentación oficial](https://www.crummy.com/software/BeautifulSoup/bs4/doc/) está toda la información sobre `bs4` y el manejo de la jerarquía, también hay [más ejemplos sobre el uso de select](https://www.crummy.com/software/BeautifulSoup/bs4/doc/#css-selectors)."
   ]
  },
  {
   "cell_type": "code",
   "execution_count": 54,
   "id": "10a1bf6c",
   "metadata": {},
   "outputs": [
    {
     "name": "stdout",
     "output_type": "stream",
     "text": [
      "“The world as we have created it is a process of our thinking. It cannot be changed without changing our thinking.”\n",
      "Albert Einstein\n",
      "change deep-thoughts thinking world \n",
      "\n",
      "“It is our choices, Harry, that show what we truly are, far more than our abilities.”\n",
      "J.K. Rowling\n",
      "abilities choices \n",
      "\n",
      "“There are only two ways to live your life. One is as though nothing is a miracle. The other is as though everything is a miracle.”\n",
      "Albert Einstein\n",
      "inspirational life live miracle miracles \n",
      "\n",
      "“The person, be it gentleman or lady, who has not pleasure in a good novel, must be intolerably stupid.”\n",
      "Jane Austen\n",
      "aliteracy books classic humor \n",
      "\n",
      "“Imperfection is beauty, madness is genius and it's better to be absolutely ridiculous than absolutely boring.”\n",
      "Marilyn Monroe\n",
      "be-yourself inspirational \n",
      "\n",
      "“Try not to become a man of success. Rather become a man of value.”\n",
      "Albert Einstein\n",
      "adulthood success value \n",
      "\n",
      "“It is better to be hated for what you are than to be loved for what you are not.”\n",
      "André Gide\n",
      "life love \n",
      "\n",
      "“I have not failed. I've just found 10,000 ways that won't work.”\n",
      "Thomas A. Edison\n",
      "edison failure inspirational paraphrased \n",
      "\n",
      "“A woman is like a tea bag; you never know how strong it is until it's in hot water.”\n",
      "Eleanor Roosevelt\n",
      "misattributed-eleanor-roosevelt \n",
      "\n",
      "“A day without sunshine is like, you know, night.”\n",
      "Steve Martin\n",
      "humor obvious simile \n",
      "\n"
     ]
    }
   ],
   "source": [
    "import requests\n",
    "from bs4 import BeautifulSoup\n",
    "\n",
    "req = requests.get(\"https://quotes.toscrape.com\")\n",
    "soup = BeautifulSoup(req.text)\n",
    "\n",
    "# Buscamos las citas de la portada\n",
    "quotes_tags = soup.select(\"div.quote\")\n",
    "for quote_tag in quotes_tags:\n",
    "    # Buscamos el texto\n",
    "    print(quote_tag.select(\"span.text\")[0].getText())\n",
    "    # Buscamos el autor\n",
    "    print(quote_tag.select(\"small.author\")[0].getText())\n",
    "    # Buscamos las etiquetas\n",
    "    for tag in quote_tag.select(\"div.tags a.tag\"):\n",
    "        print(tag.getText(), end=\" \")\n",
    "    # Salto de línea para separar las citas\n",
    "    print(\"\\n\")"
   ]
  },
  {
   "cell_type": "markdown",
   "id": "d7aeeb33",
   "metadata": {},
   "source": [
    "Podríamos adaptar este código a una función que a partir de una porción de la URL almacene mediante diccionarios las citas:"
   ]
  },
  {
   "cell_type": "code",
   "execution_count": 55,
   "id": "2bd65fcf",
   "metadata": {},
   "outputs": [
    {
     "name": "stdout",
     "output_type": "stream",
     "text": [
      "“The world as we have created it is a process of our thinking. It cannot be changed without changing our thinking.”\n",
      "Albert Einstein\n",
      "change deep-thoughts thinking world \n",
      "\n",
      "“It is our choices, Harry, that show what we truly are, far more than our abilities.”\n",
      "J.K. Rowling\n",
      "abilities choices \n",
      "\n",
      "“There are only two ways to live your life. One is as though nothing is a miracle. The other is as though everything is a miracle.”\n",
      "Albert Einstein\n",
      "inspirational life live miracle miracles \n",
      "\n",
      "“The person, be it gentleman or lady, who has not pleasure in a good novel, must be intolerably stupid.”\n",
      "Jane Austen\n",
      "aliteracy books classic humor \n",
      "\n",
      "“Imperfection is beauty, madness is genius and it's better to be absolutely ridiculous than absolutely boring.”\n",
      "Marilyn Monroe\n",
      "be-yourself inspirational \n",
      "\n",
      "“Try not to become a man of success. Rather become a man of value.”\n",
      "Albert Einstein\n",
      "adulthood success value \n",
      "\n",
      "“It is better to be hated for what you are than to be loved for what you are not.”\n",
      "André Gide\n",
      "life love \n",
      "\n",
      "“I have not failed. I've just found 10,000 ways that won't work.”\n",
      "Thomas A. Edison\n",
      "edison failure inspirational paraphrased \n",
      "\n",
      "“A woman is like a tea bag; you never know how strong it is until it's in hot water.”\n",
      "Eleanor Roosevelt\n",
      "misattributed-eleanor-roosevelt \n",
      "\n",
      "“A day without sunshine is like, you know, night.”\n",
      "Steve Martin\n",
      "humor obvious simile \n",
      "\n"
     ]
    }
   ],
   "source": [
    "def scrap_quotes(url=\"\"):\n",
    "    domain = \"https://quotes.toscrape.com\"\n",
    "    req = requests.get(f\"{domain}{url}\")\n",
    "    soup = BeautifulSoup(req.text)\n",
    "\n",
    "    # Lista para almacenar diccionarios que contendrán datos de las citas\n",
    "    quotes = []\n",
    "    # Buscamos las citas de la portada\n",
    "    quotes_tags = soup.select(\"div.quote\")\n",
    "    for quote_tag in quotes_tags:\n",
    "        # Creamos un diccionario vacío\n",
    "        quote = {}\n",
    "        # Almacenamos los diferentes campos en el diccinario\n",
    "        quote['text'] = quote_tag.select(\"span.text\")[0].getText()\n",
    "        quote['author'] = quote_tag.select(\"small.author\")[0].getText()\n",
    "        quote['tags'] = []\n",
    "        for tag in quote_tag.select(\"div.tags a.tag\"):\n",
    "            quote['tags'].append(tag.getText())\n",
    "        # Añadimos el diccionario con la cita a la lista\n",
    "        quotes.append(quote)\n",
    "    # Devolvemos las citas scrapeadas\n",
    "    return quotes\n",
    "\n",
    "quotes = scrap_quotes()\n",
    "\n",
    "for quote in quotes:\n",
    "    print(quote[\"text\"])\n",
    "    print(quote[\"author\"])\n",
    "    for tag in quote[\"tags\"]:\n",
    "        print(tag, end=\" \")\n",
    "    print(\"\\n\")"
   ]
  },
  {
   "cell_type": "markdown",
   "id": "c95133bb",
   "metadata": {},
   "source": [
    "La clave es utilizar nuestra función de forma recursiva detectando si la página tiene el enlace **Next** y cargando la siguiente página de manera que podamos. Veamos cómo extraer el enlace con la siguiente página si la hay:"
   ]
  },
  {
   "cell_type": "code",
   "execution_count": 56,
   "id": "7b50c88e",
   "metadata": {},
   "outputs": [
    {
     "name": "stdout",
     "output_type": "stream",
     "text": [
      "/page/2/\n"
     ]
    }
   ],
   "source": [
    "domain = \"https://quotes.toscrape.com\"\n",
    "req = requests.get(domain)\n",
    "soup = BeautifulSoup(req.text)\n",
    "\n",
    "# Buscamos el enlace en el tag li con clase next\n",
    "link_tag = soup.select(\"li.next a\")\n",
    "# Si hay como mínimo un enlace extraemos su href relativo sumado al dominio\n",
    "if len(link_tag) > 0:\n",
    "    next_url = link_tag[0]['href']\n",
    "    print(next_url)"
   ]
  },
  {
   "cell_type": "markdown",
   "id": "7c358ec1",
   "metadata": {},
   "source": [
    "Podemos integrar este código en nuestra función `scrap_quotes` para devolver no solo las citas de la página, sino también si hay una página siguiente:"
   ]
  },
  {
   "cell_type": "code",
   "execution_count": 57,
   "id": "ddd5244a",
   "metadata": {},
   "outputs": [
    {
     "name": "stdout",
     "output_type": "stream",
     "text": [
      "Página https://quotes.toscrape.com, 10 citas scrapeadas.\n",
      "\n",
      "/page/2/\n"
     ]
    }
   ],
   "source": [
    "def scrap_quotes(url=\"\"):\n",
    "    domain = \"https://quotes.toscrape.com\"\n",
    "    req = requests.get(f\"{domain}{url}\")\n",
    "    soup = BeautifulSoup(req.text)\n",
    "\n",
    "    # Lista para almacenar diccionarios que contendrán datos de las citas\n",
    "    quotes = []\n",
    "    # Buscamos las citas de la portada\n",
    "    quotes_tags = soup.select(\"div.quote\")\n",
    "    for quote_tag in quotes_tags:\n",
    "        # Creamos un diccionario vacío\n",
    "        quote = {}\n",
    "        # Almacenamos los diferentes campos en el diccinario\n",
    "        quote['text'] = quote_tag.select(\"span.text\")[0].getText()\n",
    "        quote['author'] = quote_tag.select(\"small.author\")[0].getText()\n",
    "        quote['tags'] = []\n",
    "        for tag in quote_tag.select(\"div.tags a.tag\"):\n",
    "            quote['tags'].append(tag.getText())\n",
    "        # Añadimos el diccionario con la cita a la lista\n",
    "        quotes.append(quote)\n",
    "        \n",
    "    # Buscamos el enlace en el tag li con clase next\n",
    "    next_url = None\n",
    "    link_tag = soup.select(\"li.next a\")\n",
    "    # Si hay como mínimo un enlace extraemos su href relativo sumado al dominio\n",
    "    if len(link_tag) > 0:\n",
    "        next_url = link_tag[0]['href']\n",
    "    \n",
    "    # Imprimiros un mensaje informativo\n",
    "    print(f\"Página {domain}{url}, {len(quotes)} citas scrapeadas.\")\n",
    "    \n",
    "    # Devolvemos las citas scrapeadas y la siguiente página, que puede ser None\n",
    "    return quotes, next_url\n",
    "\n",
    "quotes, next_url = scrap_quotes()\n",
    "\n",
    "print() # Espacio en blanco\n",
    "print(next_url)"
   ]
  },
  {
   "cell_type": "markdown",
   "id": "ba31b9ca",
   "metadata": {},
   "source": [
    "Vamos a implementar una función que scrapee todas las páginas mientras haya una siguente o, alternativamente, podemos establecer un límite para optimizar el proceso y no saturar al servidor:"
   ]
  },
  {
   "cell_type": "code",
   "execution_count": 58,
   "id": "307b3184",
   "metadata": {},
   "outputs": [
    {
     "name": "stdout",
     "output_type": "stream",
     "text": [
      "Página https://quotes.toscrape.com, 10 citas scrapeadas.\n",
      "Página https://quotes.toscrape.com/page/2/, 10 citas scrapeadas.\n",
      "\n",
      "“The world as we have created it is a process of our thinking. It cannot be changed without changing our thinking.”\n",
      "Albert Einstein\n",
      "change deep-thoughts thinking world \n",
      "\n",
      "“It is our choices, Harry, that show what we truly are, far more than our abilities.”\n",
      "J.K. Rowling\n",
      "abilities choices \n",
      "\n",
      "“There are only two ways to live your life. One is as though nothing is a miracle. The other is as though everything is a miracle.”\n",
      "Albert Einstein\n",
      "inspirational life live miracle miracles \n",
      "\n",
      "“The person, be it gentleman or lady, who has not pleasure in a good novel, must be intolerably stupid.”\n",
      "Jane Austen\n",
      "aliteracy books classic humor \n",
      "\n",
      "“Imperfection is beauty, madness is genius and it's better to be absolutely ridiculous than absolutely boring.”\n",
      "Marilyn Monroe\n",
      "be-yourself inspirational \n",
      "\n",
      "“Try not to become a man of success. Rather become a man of value.”\n",
      "Albert Einstein\n",
      "adulthood success value \n",
      "\n",
      "“It is better to be hated for what you are than to be loved for what you are not.”\n",
      "André Gide\n",
      "life love \n",
      "\n",
      "“I have not failed. I've just found 10,000 ways that won't work.”\n",
      "Thomas A. Edison\n",
      "edison failure inspirational paraphrased \n",
      "\n",
      "“A woman is like a tea bag; you never know how strong it is until it's in hot water.”\n",
      "Eleanor Roosevelt\n",
      "misattributed-eleanor-roosevelt \n",
      "\n",
      "“A day without sunshine is like, you know, night.”\n",
      "Steve Martin\n",
      "humor obvious simile \n",
      "\n",
      "“This life is what you make it. No matter what, you're going to mess up sometimes, it's a universal truth. But the good part is you get to decide how you're going to mess it up. Girls will be your friends - they'll act like it anyway. But just remember, some come, some go. The ones that stay with you through everything - they're your true best friends. Don't let go of them. Also remember, sisters make the best friends in the world. As for lovers, well, they'll come and go too. And baby, I hate to say it, most of them - actually pretty much all of them are going to break your heart, but you can't give up because if you give up, you'll never find your soulmate. You'll never find that half who makes you whole and that goes for everything. Just because you fail once, doesn't mean you're gonna fail at everything. Keep trying, hold on, and always, always, always believe in yourself, because if you don't, then who will, sweetie? So keep your head high, keep your chin up, and most importantly, keep smiling, because life's a beautiful thing and there's so much to smile about.”\n",
      "Marilyn Monroe\n",
      "friends heartbreak inspirational life love sisters \n",
      "\n",
      "“It takes a great deal of bravery to stand up to our enemies, but just as much to stand up to our friends.”\n",
      "J.K. Rowling\n",
      "courage friends \n",
      "\n",
      "“If you can't explain it to a six year old, you don't understand it yourself.”\n",
      "Albert Einstein\n",
      "simplicity understand \n",
      "\n",
      "“You may not be her first, her last, or her only. She loved before she may love again. But if she loves you now, what else matters? She's not perfect—you aren't either, and the two of you may never be perfect together but if she can make you laugh, cause you to think twice, and admit to being human and making mistakes, hold onto her and give her the most you can. She may not be thinking about you every second of the day, but she will give you a part of her that she knows you can break—her heart. So don't hurt her, don't change her, don't analyze and don't expect more than she can give. Smile when she makes you happy, let her know when she makes you mad, and miss her when she's not there.”\n",
      "Bob Marley\n",
      "love \n",
      "\n",
      "“I like nonsense, it wakes up the brain cells. Fantasy is a necessary ingredient in living.”\n",
      "Dr. Seuss\n",
      "fantasy \n",
      "\n",
      "“I may not have gone where I intended to go, but I think I have ended up where I needed to be.”\n",
      "Douglas Adams\n",
      "life navigation \n",
      "\n",
      "“The opposite of love is not hate, it's indifference. The opposite of art is not ugliness, it's indifference. The opposite of faith is not heresy, it's indifference. And the opposite of life is not death, it's indifference.”\n",
      "Elie Wiesel\n",
      "activism apathy hate indifference inspirational love opposite philosophy \n",
      "\n",
      "“It is not a lack of love, but a lack of friendship that makes unhappy marriages.”\n",
      "Friedrich Nietzsche\n",
      "friendship lack-of-friendship lack-of-love love marriage unhappy-marriage \n",
      "\n",
      "“Good friends, good books, and a sleepy conscience: this is the ideal life.”\n",
      "Mark Twain\n",
      "books contentment friends friendship life \n",
      "\n",
      "“Life is what happens to us while we are making other plans.”\n",
      "Allen Saunders\n",
      "fate life misattributed-john-lennon planning plans \n",
      "\n"
     ]
    }
   ],
   "source": [
    "def scrap_site(limit=2):\n",
    "    # Definimos una lista global para almacenar todas las citas\n",
    "    all_quotes = []\n",
    "    # Definimos la siguiente URL que irá cambiando (inicialmente es el dominio raíz)\n",
    "    next_url = \"\" \n",
    "    # Iniciamos un bucle infinito\n",
    "    while 1:\n",
    "        # Scrapeamos la página, guardamos las citas scrapeadas y la siguiente página\n",
    "        quotes, next_url = scrap_quotes(next_url)\n",
    "        # Añadimos las citas scrapeadas a la lista global\n",
    "        all_quotes += quotes\n",
    "        # Restamos 1 al limite \n",
    "        limit -= 1\n",
    "        # Si lo superamos o no hay siguiente página finalizamos la función\n",
    "        if limit == 0 or next_url == None:\n",
    "            # Finalizamos la función\n",
    "            return all_quotes\n",
    "\n",
    "quotes = scrap_site()\n",
    "\n",
    "print() # Espacio en blanco\n",
    "for quote in quotes:\n",
    "    print(quote[\"text\"])\n",
    "    print(quote[\"author\"])\n",
    "    for tag in quote[\"tags\"]:\n",
    "        print(tag, end=\" \")\n",
    "    print(\"\\n\")"
   ]
  },
  {
   "cell_type": "markdown",
   "id": "2b274ba1",
   "metadata": {},
   "source": [
    "Con esto logramos una función capaz de scrapear todas las citas de la página por defecto limitado a 2 páginas.\n",
    "\n",
    "## Implementando la clase Citas\n",
    "\n",
    "Vamos a seguir con la clase `Citas` y el método `scrapear` pero crearemos un fichero donde almacenar todas las citas.\n",
    "\n",
    "### Guardado en fichero\n",
    "\n",
    "Solo generaremos el fichero si ejecutamos el método `scrapear`, los demás métodos `lista`, `etiqueta` y `autor` analizarán el contenido del fichero volcado en la memoria, pero nunca scrapearán nada directamente.\n",
    "\n",
    "Después de valorarlo he decidido utilizar un CSV. Lo único que nos dará algún problema es guardar una lista como un campo del registro, pero podemos recuperarla evaluándola de nuevo, ya veréis:"
   ]
  },
  {
   "cell_type": "code",
   "execution_count": 59,
   "id": "176f4bc9",
   "metadata": {},
   "outputs": [
    {
     "name": "stdout",
     "output_type": "stream",
     "text": [
      "Página https://quotes.toscrape.com, 10 citas scrapeadas.\n",
      "Página https://quotes.toscrape.com/page/2/, 10 citas scrapeadas.\n"
     ]
    }
   ],
   "source": [
    "import csv\n",
    "\n",
    "class Citas:\n",
    "    \n",
    "    # Variable de clase para almacenar las citas en la memoria\n",
    "    quotes = []\n",
    "    \n",
    "    @staticmethod\n",
    "    def scrapear():\n",
    "        # Scrapeamos todas las citas, ponemos un límite pequeño para hacer pruebas\n",
    "        Citas.quotes = scrap_site(limit=2)\n",
    "        # Guardamos las citas scrapeadas en un fichero CSV volcándolas de la lista de dicts\n",
    "        with open(\"quotes.csv\", \"w\") as file:\n",
    "            # Definimos el objeto para escribir con las cabeceras de los campos \n",
    "            writer = csv.DictWriter(file, fieldnames=[\"text\", \"author\", \"tags\"])\n",
    "            # Escribimos las cabeceras\n",
    "            writer.writeheader()\n",
    "            # Escribimos cada cita en la memoria en el fichero\n",
    "            for quote in Citas.quotes:\n",
    "                writer.writerow(quote)\n",
    "            \n",
    "Citas.scrapear()"
   ]
  },
  {
   "cell_type": "markdown",
   "id": "0958cb81",
   "metadata": {},
   "source": [
    "En este punto deberíamos tener un fichero `quotes.csv` con todas las citas, lo que podríamos hacer es cargar en la memoria todas las citas del fichero en caso de que éste exista. De paso podemos implementar el método `lista` para consultarlas:"
   ]
  },
  {
   "cell_type": "code",
   "execution_count": 60,
   "id": "966f6e54",
   "metadata": {},
   "outputs": [
    {
     "name": "stdout",
     "output_type": "stream",
     "text": [
      "“The world as we have created it is a process of our thinking. It cannot be changed without changing our thinking.”\n",
      "Albert Einstein\n",
      "change deep-thoughts thinking world \n",
      "\n",
      "“It is our choices, Harry, that show what we truly are, far more than our abilities.”\n",
      "J.K. Rowling\n",
      "abilities choices \n",
      "\n",
      "“There are only two ways to live your life. One is as though nothing is a miracle. The other is as though everything is a miracle.”\n",
      "Albert Einstein\n",
      "inspirational life live miracle miracles \n",
      "\n",
      "“The person, be it gentleman or lady, who has not pleasure in a good novel, must be intolerably stupid.”\n",
      "Jane Austen\n",
      "aliteracy books classic humor \n",
      "\n",
      "“Imperfection is beauty, madness is genius and it's better to be absolutely ridiculous than absolutely boring.”\n",
      "Marilyn Monroe\n",
      "be-yourself inspirational \n",
      "\n"
     ]
    }
   ],
   "source": [
    "import os\n",
    "import csv\n",
    "\n",
    "class Citas:\n",
    "    \n",
    "    # Variable de clase para almacenar las citas en la memoria\n",
    "    quotes = []\n",
    "    \n",
    "    # Recuperamos las citas en la memoria si existe el fichero quotes.csv\n",
    "    if os.path.exists(\"quotes.csv\"):\n",
    "        with open(\"quotes.csv\", \"r\") as file:\n",
    "            data = csv.DictReader(file)\n",
    "            for quote in data:\n",
    "                # La lista es una cadena, hay que reevaluarla\n",
    "                quote['tags'] = eval(quote['tags'])\n",
    "                quotes.append(quote)\n",
    "    \n",
    "    @staticmethod\n",
    "    def scrapear():\n",
    "        # Scrapeamos todas las citas, ponemos un límite pequeño para hacer pruebas\n",
    "        Citas.quotes = scrap_site(limit=2)\n",
    "        # Guardamos las citas scrapeadas en un fichero CSV volcándolas de la lista de dicts\n",
    "        with open(\"quotes.csv\", \"w\") as file:\n",
    "            # Definimos el objeto para escribir con las cabeceras de los campos \n",
    "            writer = csv.DictWriter(file, fieldnames=[\"text\", \"author\", \"tags\"])\n",
    "            # Escribimos las cabeceras\n",
    "            writer.writeheader()\n",
    "            # Escribimos cada cita en la memoria en el fichero\n",
    "            for quote in Citas.quotes:\n",
    "                writer.writerow(quote)\n",
    "            \n",
    "    @staticmethod\n",
    "    def listar(limite=10):\n",
    "        for quote in Citas.quotes[:limite]:\n",
    "            print(quote[\"text\"])\n",
    "            print(quote[\"author\"])\n",
    "            for tag in quote[\"tags\"]:\n",
    "                print(tag, end=\" \")\n",
    "            print(\"\\n\")\n",
    "            \n",
    "Citas.listar(5)"
   ]
  },
  {
   "cell_type": "markdown",
   "id": "c8419cbe",
   "metadata": {},
   "source": [
    "### Filtro por etiqueta y autor\n",
    "\n",
    "Ya solo nos falta implementar los métodos de filtrado por etiqueta y autor, es muy fácil porque solo tenemos que recorrer las citas y comprobar si concuerdan con los valores que pasamos a los métodos:"
   ]
  },
  {
   "cell_type": "code",
   "execution_count": 61,
   "id": "b5a642f7",
   "metadata": {},
   "outputs": [],
   "source": [
    "import os\n",
    "import csv\n",
    "\n",
    "class Citas:\n",
    "    \n",
    "    # Variable de clase para almacenar las citas en la memoria\n",
    "    quotes = []\n",
    "    \n",
    "    # Recuperamos las citas en la memoria si existe el fichero quotes.csv\n",
    "    if os.path.exists(\"quotes.csv\"):\n",
    "        with open(\"quotes.csv\", \"r\") as file:\n",
    "            data = csv.DictReader(file)\n",
    "            for quote in data:\n",
    "                # La lista es una cadena, hay que reevaluarla\n",
    "                quote['tags'] = eval(quote['tags'])\n",
    "                quotes.append(quote)\n",
    "    \n",
    "    @staticmethod\n",
    "    def scrapear():\n",
    "        # Scrapeamos todas las citas, ponemos un límite pequeño para hacer pruebas\n",
    "        Citas.quotes = scrap_site(limit=2)\n",
    "        # Guardamos las citas scrapeadas en un fichero CSV volcándolas de la lista de dicts\n",
    "        with open(\"quotes.csv\", \"w\") as file:\n",
    "            writer = csv.DictWriter(file, fieldnames=[\"text\", \"author\", \"tags\"])\n",
    "            writer.writeheader()\n",
    "            for quote in Citas.quotes:\n",
    "                writer.writerow(quote)\n",
    "            \n",
    "    @staticmethod\n",
    "    def listar(limite=10):\n",
    "        for quote in Citas.quotes[:limite]:\n",
    "            print(quote[\"text\"])\n",
    "            print(quote[\"author\"])\n",
    "            for tag in quote[\"tags\"]:\n",
    "                print(tag, end=\" \")\n",
    "            print(\"\\n\")\n",
    "\n",
    "    @staticmethod\n",
    "    def etiqueta(nombre=\"\"):\n",
    "        for quote in Citas.quotes:\n",
    "            if nombre in quote[\"tags\"]:\n",
    "                print(quote[\"text\"])\n",
    "                print(quote[\"author\"])\n",
    "                for tag in quote[\"tags\"]:\n",
    "                    print(tag, end=\" \")\n",
    "                print(\"\\n\")\n",
    "                \n",
    "    @staticmethod\n",
    "    def autor(nombre=\"\"):\n",
    "        for quote in Citas.quotes:\n",
    "            if nombre == quote[\"author\"]:\n",
    "                print(quote[\"text\"])\n",
    "                print(quote[\"author\"])\n",
    "                for tag in quote[\"tags\"]:\n",
    "                    print(tag, end=\" \")\n",
    "                print(\"\\n\")"
   ]
  },
  {
   "cell_type": "markdown",
   "id": "df130311",
   "metadata": {},
   "source": [
    "Veamos cuantas citas tenemos con el tag **love**:"
   ]
  },
  {
   "cell_type": "code",
   "execution_count": 62,
   "id": "a2e79c0c",
   "metadata": {},
   "outputs": [
    {
     "name": "stdout",
     "output_type": "stream",
     "text": [
      "“It is better to be hated for what you are than to be loved for what you are not.”\n",
      "André Gide\n",
      "life love \n",
      "\n",
      "“This life is what you make it. No matter what, you're going to mess up sometimes, it's a universal truth. But the good part is you get to decide how you're going to mess it up. Girls will be your friends - they'll act like it anyway. But just remember, some come, some go. The ones that stay with you through everything - they're your true best friends. Don't let go of them. Also remember, sisters make the best friends in the world. As for lovers, well, they'll come and go too. And baby, I hate to say it, most of them - actually pretty much all of them are going to break your heart, but you can't give up because if you give up, you'll never find your soulmate. You'll never find that half who makes you whole and that goes for everything. Just because you fail once, doesn't mean you're gonna fail at everything. Keep trying, hold on, and always, always, always believe in yourself, because if you don't, then who will, sweetie? So keep your head high, keep your chin up, and most importantly, keep smiling, because life's a beautiful thing and there's so much to smile about.”\n",
      "Marilyn Monroe\n",
      "friends heartbreak inspirational life love sisters \n",
      "\n",
      "“You may not be her first, her last, or her only. She loved before she may love again. But if she loves you now, what else matters? She's not perfect—you aren't either, and the two of you may never be perfect together but if she can make you laugh, cause you to think twice, and admit to being human and making mistakes, hold onto her and give her the most you can. She may not be thinking about you every second of the day, but she will give you a part of her that she knows you can break—her heart. So don't hurt her, don't change her, don't analyze and don't expect more than she can give. Smile when she makes you happy, let her know when she makes you mad, and miss her when she's not there.”\n",
      "Bob Marley\n",
      "love \n",
      "\n",
      "“The opposite of love is not hate, it's indifference. The opposite of art is not ugliness, it's indifference. The opposite of faith is not heresy, it's indifference. And the opposite of life is not death, it's indifference.”\n",
      "Elie Wiesel\n",
      "activism apathy hate indifference inspirational love opposite philosophy \n",
      "\n",
      "“It is not a lack of love, but a lack of friendship that makes unhappy marriages.”\n",
      "Friedrich Nietzsche\n",
      "friendship lack-of-friendship lack-of-love love marriage unhappy-marriage \n",
      "\n"
     ]
    }
   ],
   "source": [
    "Citas.etiqueta(\"love\")"
   ]
  },
  {
   "cell_type": "markdown",
   "id": "5644f101",
   "metadata": {},
   "source": [
    "Y del autor **Albert Einstein**:"
   ]
  },
  {
   "cell_type": "code",
   "execution_count": 63,
   "id": "398b94f9",
   "metadata": {},
   "outputs": [
    {
     "name": "stdout",
     "output_type": "stream",
     "text": [
      "“The world as we have created it is a process of our thinking. It cannot be changed without changing our thinking.”\n",
      "Albert Einstein\n",
      "change deep-thoughts thinking world \n",
      "\n",
      "“There are only two ways to live your life. One is as though nothing is a miracle. The other is as though everything is a miracle.”\n",
      "Albert Einstein\n",
      "inspirational life live miracle miracles \n",
      "\n",
      "“Try not to become a man of success. Rather become a man of value.”\n",
      "Albert Einstein\n",
      "adulthood success value \n",
      "\n",
      "“If you can't explain it to a six year old, you don't understand it yourself.”\n",
      "Albert Einstein\n",
      "simplicity understand \n",
      "\n"
     ]
    }
   ],
   "source": [
    "Citas.autor(\"Albert Einstein\")"
   ]
  },
  {
   "cell_type": "markdown",
   "id": "b9f51657",
   "metadata": {},
   "source": [
    "## Scrapeo de la web completa\n",
    "\n",
    "El programa está limitado a las 2 primeras páginas, se reescribirá el código con un límite muy grande que garantice un scrapeo completo de la web:"
   ]
  },
  {
   "cell_type": "code",
   "execution_count": 65,
   "id": "f0556742",
   "metadata": {},
   "outputs": [],
   "source": [
    "import os\n",
    "import csv\n",
    "import requests\n",
    "from bs4 import BeautifulSoup\n",
    "\n",
    "\n",
    "def scrap_quotes(url=\"\"):\n",
    "    domain = \"https://quotes.toscrape.com\"\n",
    "    req = requests.get(f\"{domain}{url}\")\n",
    "    soup = BeautifulSoup(req.text)\n",
    "    \n",
    "    quotes = []\n",
    "    quotes_tags = soup.select(\"div.quote\")\n",
    "    for quote_tag in quotes_tags:\n",
    "        quote = {}\n",
    "        quote['text'] = quote_tag.select(\"span.text\")[0].getText()\n",
    "        quote['author'] = quote_tag.select(\"small.author\")[0].getText()\n",
    "        quote['tags'] = []\n",
    "        for tag in quote_tag.select(\"div.tags a.tag\"):\n",
    "            quote['tags'].append(tag.getText())\n",
    "        quotes.append(quote)\n",
    "        \n",
    "    next_url = None\n",
    "    link_tag = soup.select(\"li.next a\")\n",
    "    if len(link_tag) > 0:\n",
    "        next_url = link_tag[0]['href']\n",
    "        \n",
    "    print(f\"Página {domain}{url}, {len(quotes)} citas scrapeadas.\")\n",
    "        \n",
    "    return quotes, next_url\n",
    "\n",
    "\n",
    "def scrap_site(limit=2):\n",
    "    all_quotes = []\n",
    "    next_url = \"\" \n",
    "    while 1:\n",
    "        quotes, next_url = scrap_quotes(next_url)\n",
    "        all_quotes += quotes\n",
    "        limit -= 1\n",
    "        if limit == 0 or next_url == None:\n",
    "            return all_quotes\n",
    "\n",
    "        \n",
    "class Citas:\n",
    "    quotes = []\n",
    "    \n",
    "    if os.path.exists(\"quotes.csv\"):\n",
    "        with open(\"quotes.csv\", \"r\") as file:\n",
    "            data = csv.DictReader(file)\n",
    "            for quote in data:\n",
    "                quote['tags'] = eval(quote['tags'])\n",
    "                quotes.append(quote)\n",
    "    \n",
    "    @staticmethod\n",
    "    def scrapear():\n",
    "        Citas.quotes = scrap_site(limit=99) # <--- LIMITE MUY GRANDE\n",
    "        with open(\"quotes.csv\", \"w\") as file:\n",
    "            writer = csv.DictWriter(file, fieldnames=[\"text\", \"author\", \"tags\"])\n",
    "            writer.writeheader()\n",
    "            for quote in Citas.quotes:\n",
    "                writer.writerow(quote)\n",
    "            \n",
    "    @staticmethod\n",
    "    def listar(limite=10):\n",
    "        for quote in Citas.quotes[:limite]:\n",
    "            print(quote[\"text\"])\n",
    "            print(quote[\"author\"])\n",
    "            for tag in quote[\"tags\"]:\n",
    "                print(tag, end=\" \")\n",
    "            print(\"\\n\")\n",
    "\n",
    "    @staticmethod\n",
    "    def etiqueta(nombre=\"\"):\n",
    "        for quote in Citas.quotes:\n",
    "            if nombre in quote[\"tags\"]:\n",
    "                print(quote[\"text\"])\n",
    "                print(quote[\"author\"])\n",
    "                for tag in quote[\"tags\"]:\n",
    "                    print(tag, end=\" \")\n",
    "                print(\"\\n\")\n",
    "                \n",
    "    @staticmethod\n",
    "    def autor(nombre=\"\"):\n",
    "        for quote in Citas.quotes:\n",
    "            if nombre == quote[\"author\"]:\n",
    "                print(quote[\"text\"])\n",
    "                print(quote[\"author\"])\n",
    "                for tag in quote[\"tags\"]:\n",
    "                    print(tag, end=\" \")\n",
    "                print(\"\\n\")"
   ]
  },
  {
   "cell_type": "markdown",
   "id": "b8838c1b",
   "metadata": {},
   "source": [
    "Vamos a ejecutar el scrapeo completo:"
   ]
  },
  {
   "cell_type": "code",
   "execution_count": 66,
   "id": "830ce2d1",
   "metadata": {},
   "outputs": [
    {
     "name": "stdout",
     "output_type": "stream",
     "text": [
      "Página https://quotes.toscrape.com, 10 citas scrapeadas.\n",
      "Página https://quotes.toscrape.com/page/2/, 10 citas scrapeadas.\n",
      "Página https://quotes.toscrape.com/page/3/, 10 citas scrapeadas.\n",
      "Página https://quotes.toscrape.com/page/4/, 10 citas scrapeadas.\n",
      "Página https://quotes.toscrape.com/page/5/, 10 citas scrapeadas.\n",
      "Página https://quotes.toscrape.com/page/6/, 10 citas scrapeadas.\n",
      "Página https://quotes.toscrape.com/page/7/, 10 citas scrapeadas.\n",
      "Página https://quotes.toscrape.com/page/8/, 10 citas scrapeadas.\n",
      "Página https://quotes.toscrape.com/page/9/, 10 citas scrapeadas.\n",
      "Página https://quotes.toscrape.com/page/10/, 10 citas scrapeadas.\n"
     ]
    }
   ],
   "source": [
    "Citas.scrapear()"
   ]
  },
  {
   "cell_type": "markdown",
   "id": "8caec584",
   "metadata": {},
   "source": [
    "Veamos cuantas citas encuentra ahora con el tag **love**:"
   ]
  },
  {
   "cell_type": "code",
   "execution_count": 67,
   "id": "2b03a83d",
   "metadata": {},
   "outputs": [
    {
     "name": "stdout",
     "output_type": "stream",
     "text": [
      "“It is better to be hated for what you are than to be loved for what you are not.”\n",
      "André Gide\n",
      "life love \n",
      "\n",
      "“This life is what you make it. No matter what, you're going to mess up sometimes, it's a universal truth. But the good part is you get to decide how you're going to mess it up. Girls will be your friends - they'll act like it anyway. But just remember, some come, some go. The ones that stay with you through everything - they're your true best friends. Don't let go of them. Also remember, sisters make the best friends in the world. As for lovers, well, they'll come and go too. And baby, I hate to say it, most of them - actually pretty much all of them are going to break your heart, but you can't give up because if you give up, you'll never find your soulmate. You'll never find that half who makes you whole and that goes for everything. Just because you fail once, doesn't mean you're gonna fail at everything. Keep trying, hold on, and always, always, always believe in yourself, because if you don't, then who will, sweetie? So keep your head high, keep your chin up, and most importantly, keep smiling, because life's a beautiful thing and there's so much to smile about.”\n",
      "Marilyn Monroe\n",
      "friends heartbreak inspirational life love sisters \n",
      "\n",
      "“You may not be her first, her last, or her only. She loved before she may love again. But if she loves you now, what else matters? She's not perfect—you aren't either, and the two of you may never be perfect together but if she can make you laugh, cause you to think twice, and admit to being human and making mistakes, hold onto her and give her the most you can. She may not be thinking about you every second of the day, but she will give you a part of her that she knows you can break—her heart. So don't hurt her, don't change her, don't analyze and don't expect more than she can give. Smile when she makes you happy, let her know when she makes you mad, and miss her when she's not there.”\n",
      "Bob Marley\n",
      "love \n",
      "\n",
      "“The opposite of love is not hate, it's indifference. The opposite of art is not ugliness, it's indifference. The opposite of faith is not heresy, it's indifference. And the opposite of life is not death, it's indifference.”\n",
      "Elie Wiesel\n",
      "activism apathy hate indifference inspirational love opposite philosophy \n",
      "\n",
      "“It is not a lack of love, but a lack of friendship that makes unhappy marriages.”\n",
      "Friedrich Nietzsche\n",
      "friendship lack-of-friendship lack-of-love love marriage unhappy-marriage \n",
      "\n",
      "“I love you without knowing how, or when, or from where. I love you simply, without problems or pride: I love you in this way because I do not know any other way of loving but this, in which there is no I or you, so intimate that your hand upon my chest is my hand, so intimate that when I fall asleep your eyes close.”\n",
      "Pablo Neruda\n",
      "love poetry \n",
      "\n",
      "“If you can make a woman laugh, you can make her do anything.”\n",
      "Marilyn Monroe\n",
      "girls love \n",
      "\n",
      "“The real lover is the man who can thrill you by kissing your forehead or smiling into your eyes or just staring into space.”\n",
      "Marilyn Monroe\n",
      "love \n",
      "\n",
      "“Love does not begin and end the way we seem to think it does. Love is a battle, love is a war; love is a growing up.”\n",
      "James Baldwin\n",
      "love \n",
      "\n",
      "“There is nothing I would not do for those who are really my friends. I have no notion of loving people by halves, it is not my nature.”\n",
      "Jane Austen\n",
      "friendship love \n",
      "\n",
      "“To love at all is to be vulnerable. Love anything and your heart will be wrung and possibly broken. If you want to make sure of keeping it intact you must give it to no one, not even an animal. Wrap it carefully round with hobbies and little luxuries; avoid all entanglements. Lock it up safe in the casket or coffin of your selfishness. But in that casket, safe, dark, motionless, airless, it will change. It will not be broken; it will become unbreakable, impenetrable, irredeemable. To love is to be vulnerable.”\n",
      "C.S. Lewis\n",
      "love \n",
      "\n",
      "“If I had a flower for every time I thought of you...I could walk through my garden forever.”\n",
      "Alfred Tennyson\n",
      "friendship love \n",
      "\n",
      "“A lady's imagination is very rapid; it jumps from admiration to love, from love to matrimony in a moment.”\n",
      "Jane Austen\n",
      "humor love romantic women \n",
      "\n",
      "“To die will be an awfully big adventure.”\n",
      "J.M. Barrie\n",
      "adventure love \n",
      "\n"
     ]
    }
   ],
   "source": [
    "Citas.etiqueta(\"love\")"
   ]
  },
  {
   "cell_type": "markdown",
   "id": "abcd63db",
   "metadata": {},
   "source": [
    "Y cuantas del autor **Albert Einstein**:"
   ]
  },
  {
   "cell_type": "code",
   "execution_count": 68,
   "id": "76e398f9",
   "metadata": {},
   "outputs": [
    {
     "name": "stdout",
     "output_type": "stream",
     "text": [
      "“The world as we have created it is a process of our thinking. It cannot be changed without changing our thinking.”\n",
      "Albert Einstein\n",
      "change deep-thoughts thinking world \n",
      "\n",
      "“There are only two ways to live your life. One is as though nothing is a miracle. The other is as though everything is a miracle.”\n",
      "Albert Einstein\n",
      "inspirational life live miracle miracles \n",
      "\n",
      "“Try not to become a man of success. Rather become a man of value.”\n",
      "Albert Einstein\n",
      "adulthood success value \n",
      "\n",
      "“If you can't explain it to a six year old, you don't understand it yourself.”\n",
      "Albert Einstein\n",
      "simplicity understand \n",
      "\n",
      "“If you want your children to be intelligent, read them fairy tales. If you want them to be more intelligent, read them more fairy tales.”\n",
      "Albert Einstein\n",
      "children fairy-tales \n",
      "\n",
      "“Logic will get you from A to Z; imagination will get you everywhere.”\n",
      "Albert Einstein\n",
      "imagination \n",
      "\n",
      "“Any fool can know. The point is to understand.”\n",
      "Albert Einstein\n",
      "knowledge learning understanding wisdom \n",
      "\n",
      "“Life is like riding a bicycle. To keep your balance, you must keep moving.”\n",
      "Albert Einstein\n",
      "life simile \n",
      "\n",
      "“If I were not a physicist, I would probably be a musician. I often think in music. I live my daydreams in music. I see my life in terms of music.”\n",
      "Albert Einstein\n",
      "music \n",
      "\n",
      "“Anyone who has never made a mistake has never tried anything new.”\n",
      "Albert Einstein\n",
      "mistakes \n",
      "\n"
     ]
    }
   ],
   "source": [
    "Citas.autor(\"Albert Einstein\")"
   ]
  },
  {
   "cell_type": "markdown",
   "id": "c6210d95",
   "metadata": {},
   "source": [
    "Parece que todo funciona correctamente y podemos hacer tantas consultas como queramos sin repetir una y otra vez el proceso de scrapeo. En la práctica podríamos configurar un script que scrapee la página una vez al día para tener el fichero CSV sincronizado.\n",
    "\n",
    "En cualquier caso con esto acabamos este ejemplo y también la sección, espero que hayáis aprendido mucho."
   ]
  },
  {
   "cell_type": "markdown",
   "id": "68fa5703",
   "metadata": {},
   "source": [
    "\n",
    "Referencias\n",
    "- C. Hector. (2024). [Curso Maestro de Python: De Cero a Programador Todoterreno](https://www.udemy.com/course/python-3-al-completo-desde-cero/?couponCode=ACCAGE0923).\n"
   ]
  },
  {
   "cell_type": "markdown",
   "id": "203dddf3",
   "metadata": {},
   "source": []
  }
 ],
 "metadata": {
  "kernelspec": {
   "display_name": "base",
   "language": "python",
   "name": "python3"
  },
  "language_info": {
   "codemirror_mode": {
    "name": "ipython",
    "version": 3
   },
   "file_extension": ".py",
   "mimetype": "text/x-python",
   "name": "python",
   "nbconvert_exporter": "python",
   "pygments_lexer": "ipython3",
   "version": "3.11.5"
  }
 },
 "nbformat": 4,
 "nbformat_minor": 5
}
