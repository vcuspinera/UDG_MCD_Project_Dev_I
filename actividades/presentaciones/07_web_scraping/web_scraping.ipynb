{
  "cells": [
    {
      "cell_type": "markdown",
      "metadata": {
        "id": "HFbPvfyu3yaS"
      },
      "source": [
        "\n",
        "\n",
        "# **Web scraping con Python**\n"
      ]
    },
    {
      "cell_type": "markdown",
      "metadata": {
        "id": "UE_kUe2dlbbF"
      },
      "source": [
        "\n",
        "\n",
        "### 1. Pedidos HTTP con Requests\n",
        "### 2. Uso basico de APIs\n",
        "### 3. Web Scraping con Beautiful Soup\n",
        "\n",
        "\n",
        "\n",
        "\n"
      ]
    },
    {
      "cell_type": "markdown",
      "metadata": {
        "id": "5UQcVg3CKSi1"
      },
      "source": [
        "# **Pedidos HTTP con requests**\n"
      ]
    },
    {
      "cell_type": "code",
      "execution_count": 1,
      "metadata": {
        "id": "32ZIp-taK6PE"
      },
      "outputs": [],
      "source": [
        "# Importamos librerias \n",
        "import requests #<--Para hacer solicitudes HTTP a servidores web\n",
        "import json     #<--Para trabajar con datos en format JSON"
      ]
    },
    {
      "cell_type": "code",
      "execution_count": 2,
      "metadata": {
        "colab": {
          "base_uri": "https://localhost:8080/"
        },
        "id": "bc1hU64tLv-v",
        "outputId": "efd618c9-11ed-4f8b-bd38-82f0b9826341"
      },
      "outputs": [
        {
          "name": "stdout",
          "output_type": "stream",
          "text": [
            "Data: <!DOCTYPE html>\n",
            "<html class=\"client-nojs vector-feature-language-in-header-enabled vector-feature-language-in-main-page-header-disabled vector-feature-sticky-header-disabled vector-feature-page-tools-pinned-disabled vector-feature-toc-pinned-clientpref-1 vector-feature-main-menu-pinned-disabled vector-feature-limited-width-clientpref-1 vector-feature-limited-width-content-enabled vector-feature-zebra-design-disabled vector-feature-custom-font-size-clientpref-disabled vector-feature-client-preferences-disabled vector-feature-typography-survey-disabled vector-toc-not-available\" lang=\"es\" dir=\"ltr\">\n",
            "<head>\n",
            "<meta charset=\"UTF-8\">\n",
            "<title>Wikipedia, la enciclopedia libre</title>\n",
            "<script>(function(){var className=\"client-js vector-feature-language-in-header-enabled vector-feature-language-in-main-page-header-disabled vector-feature-sticky-header-disabled vector-feature-page-tools-pinned-disabled vector-feature-toc-pinned-clientpref-1 vector-feature-main-menu-pinned-disabled vector-feature-limited-width-clientpref-1 vector-feature-limited-width-content-enabled vector-feature-zebra-design-disabled vector-feature-custom-font-size-clientpref-disabled vector-feature-client-preferences-disabled vector-feature-typography-survey-disabled vector-toc-not-available\";var cookie=document.cookie.match(/(?:^|; )eswikimwclientpreferences=([^;]+)/);if(cookie){cookie[1].split('%2C').forEach(function(pref){className=className.replace(new RegExp('(^| )'+pref.replace(/-clientpref-\\w+$|[^\\w-]+/g,'')+'-clientpref-\\\\w+( |$)'),'$1'+pref+'$2');});}document.documentElement.className=className;}());RLCONF={\"wgBreakFrames\":false,\"wgSeparatorTransformTable\":[\",\\t.\",\" \\t,\"],\"wgDigitTransformTable\":\n",
            "[\"\",\"\"],\"wgDefaultDateFormat\":\"dmy\",\"wgMonthNames\":[\"\",\"enero\",\"febrero\",\"marzo\",\"abril\",\"mayo\",\"junio\",\"julio\",\"agosto\",\"septiembre\",\"octubre\",\"noviembre\",\"diciembre\"],\"wgRequestId\":\"7fc9334f-bf21-4d3f-abb4-ad92df392cb5\",\"wgCanonicalNamespace\":\"Project\",\"wgCanonicalSpecialPageName\":false,\"wgNamespaceNumber\":4,\"wgPageName\":\"Wikipedia:Portada\",\"wgTitle\":\"Portada\",\"wgCurRevisionId\":149134229,\"wgRevisionId\":149134229,\"wgArticleId\":2271189,\"wgIsArticle\":true,\"wgIsRedirect\":false,\"wgAction\":\"view\",\"wgUserName\":null,\"wgUserGroups\":[\"*\"],\"wgCategories\":[],\"wgPageViewLanguage\":\"es\",\"wgPageContentLanguage\":\"es\",\"wgPageContentModel\":\"wikitext\",\"wgRelevantPageName\":\"Wikipedia:Portada\",\"wgRelevantArticleId\":2271189,\"wgIsProbablyEditable\":false,\"wgRelevantPageIsProbablyEditable\":false,\"wgRestrictionEdit\":[\"sysop\"],\"wgRestrictionMove\":[\"sysop\"],\"wgIsMainPage\":true,\"wgNoticeProject\":\"wikipedia\",\"wgMediaViewerOnClick\":true,\"wgMediaViewerEnabledByDefault\":true,\"wgPopupsFlags\":10,\"wgVisualEditor\":{\n",
            "\"pageLanguageCode\":\"es\",\"pageLanguageDir\":\"ltr\",\"pageVariantFallbacks\":\"es\"},\"wgMFDisplayWikibaseDescriptions\":{\"search\":true,\"watchlist\":true,\"tagline\":true,\"nearby\":true},\"wgWMESchemaEditAttemptStepOversample\":false,\"wgWMEPageLength\":3000,\"wgULSCurrentAutonym\":\"español\",\"wgCentralAuthMobileDomain\":false,\"wgEditSubmitButtonLabelPublish\":true,\"wgDiscussionToolsFeaturesEnabled\":{\"replytool\":true,\"newtopictool\":true,\"sourcemodetoolbar\":true,\"topicsubscription\":false,\"autotopicsub\":false,\"visualenhancements\":false,\"visualenhancements_reply\":false,\"visualenhancements_pageframe\":false},\"wgDiscussionToolsFallbackEditMode\":\"source\",\"wgULSPosition\":\"interlanguage\",\"wgULSisCompactLinksEnabled\":true,\"wgULSisLanguageSelectorEmpty\":false,\"wgWikibaseItemId\":\"Q5296\",\"wgCheckUserClientHintsHeadersJsApi\":[\"architecture\",\"bitness\",\"brands\",\"fullVersionList\",\"mobile\",\"model\",\"platform\",\"platformVersion\"],\"GEHomepageSuggestedEditsEnableTopics\":true,\"wgGETopicsMatchModeEnabled\":true,\n",
            "\"wgGEStructuredTaskRejectionReasonTextInputEnabled\":false,\"wgGELevelingUpEnabledForUser\":false};RLSTATE={\"skins.vector.user.styles\":\"ready\",\"ext.gadget.imagenesinfobox\":\"ready\",\"ext.globalCssJs.user.styles\":\"ready\",\"site.styles\":\"ready\",\"user.styles\":\"ready\",\"skins.vector.user\":\"ready\",\"ext.globalCssJs.user\":\"ready\",\"user\":\"ready\",\"user.options\":\"loading\",\"ext.discussionTools.init.styles\":\"ready\",\"oojs-ui-core.styles\":\"ready\",\"oojs-ui.styles.indicators\":\"ready\",\"mediawiki.widgets.styles\":\"ready\",\"oojs-ui-core.icons\":\"ready\",\"codex-search-styles\":\"ready\",\"skins.vector.styles\":\"ready\",\"skins.vector.icons\":\"ready\",\"jquery.makeCollapsible.styles\":\"ready\",\"mediawiki.ui.button\":\"ready\",\"ext.visualEditor.desktopArticleTarget.noscript\":\"ready\",\"ext.uls.interlanguage\":\"ready\",\"ext.wikimediaBadges\":\"ready\"};RLPAGEMODULES=[\"site\",\"mediawiki.page.ready\",\"jquery.makeCollapsible\",\"skins.vector.js\",\"ext.centralNotice.geoIP\",\"ext.centralNotice.startUp\",\"ext.gadget.a-commons-directo\",\n",
            "\"ext.gadget.ReferenceTooltips\",\"ext.gadget.refToolbar\",\"ext.gadget.switcher\",\"ext.urlShortener.toolbar\",\"ext.centralauth.centralautologin\",\"mmv.head\",\"mmv.bootstrap.autostart\",\"ext.popups\",\"ext.visualEditor.desktopArticleTarget.init\",\"ext.visualEditor.targetLoader\",\"ext.echo.centralauth\",\"ext.discussionTools.init\",\"ext.eventLogging\",\"ext.wikimediaEvents\",\"ext.navigationTiming\",\"ext.uls.interface\",\"ext.cx.eventlogging.campaigns\",\"wikibase.client.vector-2022\",\"ext.checkUser.clientHints\"];</script>\n",
            "<script>(RLQ=window.RLQ||[]).push(function(){mw.loader.impl(function(){return[\"user.options@12s5i\",function($,jQuery,require,module){mw.user.tokens.set({\"patrolToken\":\"+\\\\\",\"watchToken\":\"+\\\\\",\"csrfToken\":\"+\\\\\"});\n",
            "}];});});</script>\n",
            "<link rel=\"stylesheet\" href=\"/w/load.php?lang=es&amp;modules=codex-search-styles%7Cext.discussionTools.init.styles%7Cext.uls.interlanguage%7Cext.visualEditor.desktopArticleTarget.noscript%7Cext.wikimediaBadges%7Cjquery.makeCollapsible.styles%7Cmediawiki.ui.button%7Cmediawiki.widgets.styles%7Coojs-ui-core.icons%2Cstyles%7Coojs-ui.styles.indicators%7Cskins.vector.icons%2Cstyles&amp;only=styles&amp;skin=vector-2022\">\n",
            "<script async=\"\" src=\"/w/load.php?lang=es&amp;modules=startup&amp;only=scripts&amp;raw=1&amp;skin=vector-2022\"></script>\n",
            "<meta name=\"ResourceLoaderDynamicStyles\" content=\"\">\n",
            "<link rel=\"stylesheet\" href=\"/w/load.php?lang=es&amp;modules=ext.gadget.imagenesinfobox&amp;only=styles&amp;skin=vector-2022\">\n",
            "<link rel=\"stylesheet\" href=\"/w/load.php?lang=es&amp;modules=site.styles&amp;only=styles&amp;skin=vector-2022\">\n",
            "<noscript><link rel=\"stylesheet\" href=\"/w/load.php?lang=es&amp;modules=noscript&amp;only=styles&amp;skin=vector-2022\"></noscript>\n",
            "<meta name=\"generator\" content=\"MediaWiki 1.42.0-wmf.1\">\n",
            "<meta name=\"referrer\" content=\"origin\">\n",
            "<meta name=\"referrer\" content=\"origin-when-cross-origin\">\n",
            "<meta name=\"robots\" content=\"max-image-preview:standard\">\n",
            "<meta name=\"format-detection\" content=\"telephone=no\">\n",
            "<meta name=\"viewport\" content=\"width=1000\">\n",
            "<meta property=\"og:title\" content=\"Wikipedia, la enciclopedia libre\">\n",
            "<meta property=\"og:type\" content=\"website\">\n",
            "<link rel=\"preconnect\" href=\"//upload.wikimedia.org\">\n",
            "<link rel=\"alternate\" media=\"only screen and (max-width: 720px)\" href=\"//es.m.wikipedia.org/wiki/Wikipedia:Portada\">\n",
            "<link rel=\"apple-touch-icon\" href=\"/static/apple-touch/wikipedia.png\">\n",
            "<link rel=\"icon\" href=\"/static/favicon/wikipedia.ico\">\n",
            "<link rel=\"search\" type=\"application/opensearchdescription+xml\" href=\"/w/opensearch_desc.php\" title=\"Wikipedia (es)\">\n",
            "<link rel=\"EditURI\" type=\"application/rsd+xml\" href=\"//es.wikipedia.org/w/api.php?action=rsd\">\n",
            "<link rel=\"canonical\" href=\"https://es.wikipedia.org/wiki/Wikipedia:Portada\">\n",
            "<link rel=\"license\" href=\"https://creativecommons.org/licenses/by-sa/4.0/deed.es\">\n",
            "<link rel=\"alternate\" type=\"application/atom+xml\" title=\"Canal Atom de Wikipedia\" href=\"/w/index.php?title=Especial:CambiosRecientes&amp;feed=atom\">\n",
            "<link rel=\"dns-prefetch\" href=\"//meta.wikimedia.org\" />\n",
            "<link rel=\"dns-prefetch\" href=\"//login.wikimedia.org\">\n",
            "</head>\n",
            "<body class=\"ext-discussiontools-replytool-enabled ext-discussiontools-newtopictool-enabled ext-discussiontools-sourcemodetoolbar-enabled skin-vector skin-vector-search-vue mediawiki ltr sitedir-ltr mw-hide-empty-elt ns-4 ns-subject page-Wikipedia_Portada rootpage-Wikipedia_Portada skin-vector-2022 action-view\"><a class=\"mw-jump-link\" href=\"#bodyContent\">Ir al contenido</a>\n",
            "<div class=\"vector-header-container\">\n",
            "\t<header class=\"vector-header mw-header\">\n",
            "\t\t<div class=\"vector-header-start\">\n",
            "\t\t\t<nav class=\"vector-main-menu-landmark\" aria-label=\"Sitio\" role=\"navigation\">\n",
            "\t\t\t\t\n",
            "<div id=\"vector-main-menu-dropdown\" class=\"vector-dropdown vector-main-menu-dropdown vector-button-flush-left vector-button-flush-right\"  >\n",
            "\t<input type=\"checkbox\" id=\"vector-main-menu-dropdown-checkbox\" role=\"button\" aria-haspopup=\"true\" data-event-name=\"ui.dropdown-vector-main-menu-dropdown\" class=\"vector-dropdown-checkbox \"  aria-label=\"Menú principal\"  >\n",
            "\t<label id=\"vector-main-menu-dropdown-label\" for=\"vector-main-menu-dropdown-checkbox\" class=\"vector-dropdown-label cdx-button cdx-button--fake-button cdx-button--fake-button--enabled cdx-button--weight-quiet cdx-button--icon-only \" aria-hidden=\"true\"  ><span class=\"vector-icon mw-ui-icon-menu mw-ui-icon-wikimedia-menu\"></span>\n",
            "\n",
            "<span class=\"vector-dropdown-label-text\">Menú principal</span>\n",
            "\t</label>\n",
            "\t<div class=\"vector-dropdown-content\">\n",
            "\n",
            "\n",
            "\t\t\t\t<div id=\"vector-main-menu-unpinned-container\" class=\"vector-unpinned-container\">\n",
            "\t\t\n",
            "<div id=\"vector-main-menu\" class=\"vector-main-menu vector-pinnable-element\">\n",
            "\t<div\n",
            "\tclass=\"vector-pinnable-header vector-main-menu-pinnable-header vector-pinnable-header-unpinned\"\n",
            "\tdata-feature-name=\"main-menu-pinned\"\n",
            "\tdata-pinnable-element-id=\"vector-main-menu\"\n",
            "\tdata-pinned-container-id=\"vector-main-menu-pinned-container\"\n",
            "\tdata-unpinned-container-id=\"vector-main-menu-unpinned-container\"\n",
            ">\n",
            "\t<div class=\"vector-pinnable-header-label\">Menú principal</div>\n",
            "\t<button class=\"vector-pinnable-header-toggle-button vector-pinnable-header-pin-button\" data-event-name=\"pinnable-header.vector-main-menu.pin\">mover a la barra lateral</button>\n",
            "\t<button class=\"vector-pinnable-header-toggle-button vector-pinnable-header-unpin-button\" data-event-name=\"pinnable-header.vector-main-menu.unpin\">ocultar</button>\n",
            "</div>\n",
            "\n",
            "\t\n",
            "<div id=\"p-navigation\" class=\"vector-menu mw-portlet mw-portlet-navigation\"  >\n",
            "\t<div class=\"vector-menu-heading\">\n",
            "\t\tNavegación\n",
            "\t</div>\n",
            "\t<div class=\"vector-menu-content\">\n",
            "\t\t\n",
            "\t\t<ul class=\"vector-menu-content-list\">\n",
            "\t\t\t\n",
            "\t\t\t<li id=\"n-mainpage-description\" class=\"mw-list-item\"><a href=\"/wiki/Wikipedia:Portada\" title=\"Visitar la página principal [z]\" accesskey=\"z\"><span>Portada</span></a></li><li id=\"n-portal\" class=\"mw-list-item\"><a href=\"/wiki/Portal:Comunidad\" title=\"Acerca del proyecto, lo que puedes hacer, dónde encontrar información\"><span>Portal de la comunidad</span></a></li><li id=\"n-currentevents\" class=\"mw-list-item\"><a href=\"/wiki/Portal:Actualidad\" title=\"Encuentra información de contexto sobre acontecimientos actuales\"><span>Actualidad</span></a></li><li id=\"n-recentchanges\" class=\"mw-list-item\"><a href=\"/wiki/Especial:CambiosRecientes\" title=\"Lista de cambios recientes en la wiki [r]\" accesskey=\"r\"><span>Cambios recientes</span></a></li><li id=\"n-newpages\" class=\"mw-list-item\"><a href=\"/wiki/Especial:P%C3%A1ginasNuevas\"><span>Páginas nuevas</span></a></li><li id=\"n-randompage\" class=\"mw-list-item\"><a href=\"/wiki/Especial:Aleatoria\" title=\"Cargar una página al azar [x]\" accesskey=\"x\"><span>Página aleatoria</span></a></li><li id=\"n-help\" class=\"mw-list-item\"><a href=\"/wiki/Ayuda:Contenidos\" title=\"El lugar para aprender\"><span>Ayuda</span></a></li><li id=\"n-sitesupport\" class=\"mw-list-item\"><a href=\"//donate.wikimedia.org/wiki/Special:FundraiserRedirector?utm_source=donate&amp;utm_medium=sidebar&amp;utm_campaign=C13_es.wikipedia.org&amp;uselang=es\" title=\"Apóyanos\"><span>Donaciones</span></a></li><li id=\"n-bug_in_article\" class=\"mw-list-item\"><a href=\"/wiki/Wikipedia:Informes_de_error\"><span>Notificar un error</span></a></li>\n",
            "\t\t</ul>\n",
            "\t\t\n",
            "\t</div>\n",
            "</div>\n",
            "\n",
            "\t\n",
            "\t\n",
            "\t\n",
            "</div>\n",
            "\n",
            "\t\t\t\t</div>\n",
            "\n",
            "\t</div>\n",
            "</div>\n",
            "\n",
            "\t\t</nav>\n",
            "\t\t\t\n",
            "<a href=\"/wiki/Wikipedia:Portada\" class=\"mw-logo\">\n",
            "\t<img class=\"mw-logo-icon\" src=\"/static/images/icons/wikipedia.png\" alt=\"\" aria-hidden=\"true\" height=\"50\" width=\"50\">\n",
            "\t<span class=\"mw-logo-container\">\n",
            "\t\t<img class=\"mw-logo-wordmark\" alt=\"Wikipedia\" src=\"/static/images/mobile/copyright/wikipedia-wordmark-en.svg\" style=\"width: 7.5em; height: 1.125em;\">\n",
            "\t\t<img class=\"mw-logo-tagline\" alt=\"La enciclopedia libre\" src=\"/static/images/mobile/copyright/wikipedia-tagline-es.svg\" width=\"120\" height=\"13\" style=\"width: 7.5em; height: 0.8125em;\">\n",
            "\t</span>\n",
            "</a>\n",
            "\n",
            "\t\t</div>\n",
            "\t\t<div class=\"vector-header-end\">\n",
            "\t\t\t\n",
            "<div id=\"p-search\" role=\"search\" class=\"vector-search-box-vue  vector-search-box-collapses vector-search-box-show-thumbnail vector-search-box-auto-expand-width vector-search-box\">\n",
            "\t<a href=\"/wiki/Especial:Buscar\" class=\"cdx-button cdx-button--fake-button cdx-button--fake-button--enabled cdx-button--weight-quiet cdx-button--icon-only search-toggle\" id=\"\" title=\"Buscar en este wiki [f]\" accesskey=\"f\"><span class=\"vector-icon mw-ui-icon-search mw-ui-icon-wikimedia-search\"></span>\n",
            "\n",
            "<span>Buscar</span>\n",
            "\t</a>\n",
            "\t<div class=\"vector-typeahead-search-container\">\n",
            "\t\t<div class=\"cdx-typeahead-search cdx-typeahead-search--show-thumbnail cdx-typeahead-search--auto-expand-width\">\n",
            "\t\t\t<form action=\"/w/index.php\" id=\"searchform\" class=\"cdx-search-input cdx-search-input--has-end-button\">\n",
            "\t\t\t\t<div id=\"simpleSearch\" class=\"cdx-search-input__input-wrapper\"  data-search-loc=\"header-moved\">\n",
            "\t\t\t\t\t<div class=\"cdx-text-input cdx-text-input--has-start-icon\">\n",
            "\t\t\t\t\t\t<input\n",
            "\t\t\t\t\t\t\tclass=\"cdx-text-input__input\"\n",
            "\t\t\t\t\t\t\t type=\"search\" name=\"search\" placeholder=\"Buscar en Wikipedia\" aria-label=\"Buscar en Wikipedia\" autocapitalize=\"sentences\" title=\"Buscar en este wiki [f]\" accesskey=\"f\" id=\"searchInput\"\n",
            "\t\t\t\t\t\t\t>\n",
            "\t\t\t\t\t\t<span class=\"cdx-text-input__icon cdx-text-input__start-icon\"></span>\n",
            "\t\t\t\t\t</div>\n",
            "\t\t\t\t\t<input type=\"hidden\" name=\"title\" value=\"Especial:Buscar\">\n",
            "\t\t\t\t</div>\n",
            "\t\t\t\t<button class=\"cdx-button cdx-search-input__end-button\">Buscar</button>\n",
            "\t\t\t</form>\n",
            "\t\t</div>\n",
            "\t</div>\n",
            "</div>\n",
            "\n",
            "\t\t\t<nav class=\"vector-user-links\" aria-label=\"Herramientas personales\" role=\"navigation\" >\n",
            "\t\n",
            "<div id=\"p-vector-user-menu-overflow\" class=\"vector-menu mw-portlet mw-portlet-vector-user-menu-overflow\"  >\n",
            "\t<div class=\"vector-menu-content\">\n",
            "\t\t\n",
            "\t\t<ul class=\"vector-menu-content-list\">\n",
            "\t\t\t\n",
            "\t\t\t<li id=\"pt-createaccount-2\" class=\"user-links-collapsible-item mw-list-item\"><a href=\"/w/index.php?title=Especial:Crear_una_cuenta&amp;returnto=Wikipedia%3APortada\" title=\"Te recomendamos crear una cuenta e iniciar sesión; sin embargo, no es obligatorio\"><span>Crear una cuenta</span></a></li><li id=\"pt-login-2\" class=\"user-links-collapsible-item mw-list-item\"><a href=\"/w/index.php?title=Especial:Entrar&amp;returnto=Wikipedia%3APortada\" title=\"Te recomendamos iniciar sesión, aunque no es obligatorio [o]\" accesskey=\"o\"><span>Acceder</span></a></li>\n",
            "\t\t</ul>\n",
            "\t\t\n",
            "\t</div>\n",
            "</div>\n",
            "\n",
            "\t\n",
            "<div id=\"vector-user-links-dropdown\" class=\"vector-dropdown vector-user-menu vector-button-flush-right vector-user-menu-logged-out\"  title=\"Más opciones\" >\n",
            "\t<input type=\"checkbox\" id=\"vector-user-links-dropdown-checkbox\" role=\"button\" aria-haspopup=\"true\" data-event-name=\"ui.dropdown-vector-user-links-dropdown\" class=\"vector-dropdown-checkbox \"  aria-label=\"Herramientas personales\"  >\n",
            "\t<label id=\"vector-user-links-dropdown-label\" for=\"vector-user-links-dropdown-checkbox\" class=\"vector-dropdown-label cdx-button cdx-button--fake-button cdx-button--fake-button--enabled cdx-button--weight-quiet cdx-button--icon-only \" aria-hidden=\"true\"  ><span class=\"vector-icon mw-ui-icon-ellipsis mw-ui-icon-wikimedia-ellipsis\"></span>\n",
            "\n",
            "<span class=\"vector-dropdown-label-text\">Herramientas personales</span>\n",
            "\t</label>\n",
            "\t<div class=\"vector-dropdown-content\">\n",
            "\n",
            "\n",
            "\t\t\n",
            "<div id=\"p-personal\" class=\"vector-menu mw-portlet mw-portlet-personal user-links-collapsible-item\"  title=\"Menú de usuario\" >\n",
            "\t<div class=\"vector-menu-content\">\n",
            "\t\t\n",
            "\t\t<ul class=\"vector-menu-content-list\">\n",
            "\t\t\t\n",
            "\t\t\t<li id=\"pt-createaccount\" class=\"user-links-collapsible-item mw-list-item\"><a href=\"/w/index.php?title=Especial:Crear_una_cuenta&amp;returnto=Wikipedia%3APortada\" title=\"Te recomendamos crear una cuenta e iniciar sesión; sin embargo, no es obligatorio\"><span class=\"vector-icon mw-ui-icon-userAdd mw-ui-icon-wikimedia-userAdd\"></span> <span>Crear una cuenta</span></a></li><li id=\"pt-login\" class=\"user-links-collapsible-item mw-list-item\"><a href=\"/w/index.php?title=Especial:Entrar&amp;returnto=Wikipedia%3APortada\" title=\"Te recomendamos iniciar sesión, aunque no es obligatorio [o]\" accesskey=\"o\"><span class=\"vector-icon mw-ui-icon-logIn mw-ui-icon-wikimedia-logIn\"></span> <span>Acceder</span></a></li>\n",
            "\t\t</ul>\n",
            "\t\t\n",
            "\t</div>\n",
            "</div>\n",
            "\n",
            "<div id=\"p-user-menu-anon-editor\" class=\"vector-menu mw-portlet mw-portlet-user-menu-anon-editor\"  >\n",
            "\t<div class=\"vector-menu-heading\">\n",
            "\t\tPáginas para editores desconectados <a href=\"/wiki/Ayuda:Introducci%C3%B3n\" aria-label=\"Obtenga más información sobre editar\"><span>más información</span></a>\n",
            "\t</div>\n",
            "\t<div class=\"vector-menu-content\">\n",
            "\t\t\n",
            "\t\t<ul class=\"vector-menu-content-list\">\n",
            "\t\t\t\n",
            "\t\t\t<li id=\"pt-anoncontribs\" class=\"mw-list-item\"><a href=\"/wiki/Especial:MisContribuciones\" title=\"Una lista de modificaciones hechas desde esta dirección IP [y]\" accesskey=\"y\"><span>Contribuciones</span></a></li><li id=\"pt-anontalk\" class=\"mw-list-item\"><a href=\"/wiki/Especial:MiDiscusi%C3%B3n\" title=\"Discusión sobre ediciones hechas desde esta dirección IP [n]\" accesskey=\"n\"><span>Discusión</span></a></li>\n",
            "\t\t</ul>\n",
            "\t\t\n",
            "\t</div>\n",
            "</div>\n",
            "\n",
            "\t\n",
            "\t</div>\n",
            "</div>\n",
            "\n",
            "</nav>\n",
            "\n",
            "\t\t</div>\n",
            "\t</header>\n",
            "</div>\n",
            "<div class=\"mw-page-container\">\n",
            "\t<div class=\"mw-page-container-inner\">\n",
            "\t\t<div class=\"vector-sitenotice-container\">\n",
            "\t\t\t<div id=\"siteNotice\"><!-- CentralNotice --></div>\n",
            "\t\t</div>\n",
            "\t\t\n",
            "\t\t\t<div class=\"vector-main-menu-container\">\n",
            "\t\t<div id=\"mw-navigation\">\n",
            "\t\t\t<nav id=\"mw-panel\" class=\"vector-main-menu-landmark\" aria-label=\"Sitio\" role=\"navigation\">\n",
            "\t\t\t\t<div id=\"vector-main-menu-pinned-container\" class=\"vector-pinned-container\">\n",
            "\t\t\t\t\n",
            "\t\t\t\t</div>\n",
            "\t\t</nav>\n",
            "\t\t</div>\n",
            "\t</div>\n",
            "\n",
            "\t\t<div class=\"mw-content-container\">\n",
            "\t\t\t<main id=\"content\" class=\"mw-body\" role=\"main\">\n",
            "\t\t\t\t<header class=\"mw-body-header vector-page-titlebar\">\n",
            "\t\t\t\t\t<h1 id=\"firstHeading\" class=\"firstHeading mw-first-heading\"><span class=\"mw-page-title-namespace\">Wikipedia</span><span class=\"mw-page-title-separator\">:</span><span class=\"mw-page-title-main\">Portada</span></h1>\n",
            "\t\t\t\t\t\t<div class=\"mw-indicators\">\n",
            "\t\t</div>\n",
            "</header>\n",
            "\t\t\t\t<div class=\"vector-page-toolbar\">\n",
            "\t\t\t\t\t<div class=\"vector-page-toolbar-container\">\n",
            "\t\t\t\t\t\t<div id=\"left-navigation\">\n",
            "\t\t\t\t\t\t\t<nav aria-label=\"Espacios de nombres\">\n",
            "\t\t\t\t\t\t\t\t\n",
            "<div id=\"p-associated-pages\" class=\"vector-menu vector-menu-tabs mw-portlet mw-portlet-associated-pages\"  >\n",
            "\t<div class=\"vector-menu-content\">\n",
            "\t\t\n",
            "\t\t<ul class=\"vector-menu-content-list\">\n",
            "\t\t\t\n",
            "\t\t\t<li id=\"ca-nstab-project\" class=\"selected vector-tab-noicon mw-list-item\"><a href=\"/wiki/Wikipedia:Portada\" title=\"Ver la página del proyecto [c]\" accesskey=\"c\"><span>Portada</span></a></li><li id=\"ca-talk\" class=\"vector-tab-noicon mw-list-item\"><a href=\"/wiki/Wikipedia_discusi%C3%B3n:Portada\" rel=\"discussion\" title=\"Discusión acerca de la página [t]\" accesskey=\"t\"><span>Discusión</span></a></li>\n",
            "\t\t</ul>\n",
            "\t\t\n",
            "\t</div>\n",
            "</div>\n",
            "\n",
            "\t\t\t\t\t\t\t\t\n",
            "<div id=\"p-variants\" class=\"vector-dropdown emptyPortlet\"  >\n",
            "\t<input type=\"checkbox\" id=\"p-variants-checkbox\" role=\"button\" aria-haspopup=\"true\" data-event-name=\"ui.dropdown-p-variants\" class=\"vector-dropdown-checkbox \" aria-label=\"Cambiar variante de idioma\"   >\n",
            "\t<label id=\"p-variants-label\" for=\"p-variants-checkbox\" class=\"vector-dropdown-label cdx-button cdx-button--fake-button cdx-button--fake-button--enabled cdx-button--weight-quiet\" aria-hidden=\"true\"  ><span class=\"vector-dropdown-label-text\">español</span>\n",
            "\t</label>\n",
            "\t<div class=\"vector-dropdown-content\">\n",
            "\n",
            "\n",
            "\t\t\t\t\t\n",
            "<div id=\"p-variants\" class=\"vector-menu mw-portlet mw-portlet-variants emptyPortlet\"  >\n",
            "\t<div class=\"vector-menu-content\">\n",
            "\t\t\n",
            "\t\t<ul class=\"vector-menu-content-list\">\n",
            "\t\t\t\n",
            "\t\t\t\n",
            "\t\t</ul>\n",
            "\t\t\n",
            "\t</div>\n",
            "</div>\n",
            "\n",
            "\t\t\t\t\n",
            "\t</div>\n",
            "</div>\n",
            "\n",
            "\t\t\t\t\t\t\t</nav>\n",
            "\t\t\t\t\t\t</div>\n",
            "\t\t\t\t\t\t<div id=\"right-navigation\" class=\"vector-collapsible\">\n",
            "\t\t\t\t\t\t\t<nav aria-label=\"Vistas\">\n",
            "\t\t\t\t\t\t\t\t\n",
            "<div id=\"p-views\" class=\"vector-menu vector-menu-tabs mw-portlet mw-portlet-views\"  >\n",
            "\t<div class=\"vector-menu-content\">\n",
            "\t\t\n",
            "\t\t<ul class=\"vector-menu-content-list\">\n",
            "\t\t\t\n",
            "\t\t\t<li id=\"ca-view\" class=\"selected vector-tab-noicon mw-list-item\"><a href=\"/wiki/Wikipedia:Portada\"><span>Leer</span></a></li><li id=\"ca-viewsource\" class=\"vector-tab-noicon mw-list-item\"><a href=\"/w/index.php?title=Wikipedia:Portada&amp;action=edit\" title=\"Esta página está protegida, pero puedes ver su código fuente [e]\" accesskey=\"e\"><span>Ver código fuente</span></a></li><li id=\"ca-history\" class=\"vector-tab-noicon mw-list-item\"><a href=\"/w/index.php?title=Wikipedia:Portada&amp;action=history\" title=\"Versiones anteriores de esta página [h]\" accesskey=\"h\"><span>Ver historial</span></a></li>\n",
            "\t\t</ul>\n",
            "\t\t\n",
            "\t</div>\n",
            "</div>\n",
            "\n",
            "\t\t\t\t\t\t\t</nav>\n",
            "\t\t\t\t\n",
            "\t\t\t\t\t\t\t<nav class=\"vector-page-tools-landmark\" aria-label=\"Page tools\">\n",
            "\t\t\t\t\t\t\t\t\n",
            "<div id=\"vector-page-tools-dropdown\" class=\"vector-dropdown vector-page-tools-dropdown\"  >\n",
            "\t<input type=\"checkbox\" id=\"vector-page-tools-dropdown-checkbox\" role=\"button\" aria-haspopup=\"true\" data-event-name=\"ui.dropdown-vector-page-tools-dropdown\" class=\"vector-dropdown-checkbox \"  aria-label=\"Herramientas\"  >\n",
            "\t<label id=\"vector-page-tools-dropdown-label\" for=\"vector-page-tools-dropdown-checkbox\" class=\"vector-dropdown-label cdx-button cdx-button--fake-button cdx-button--fake-button--enabled cdx-button--weight-quiet\" aria-hidden=\"true\"  ><span class=\"vector-dropdown-label-text\">Herramientas</span>\n",
            "\t</label>\n",
            "\t<div class=\"vector-dropdown-content\">\n",
            "\n",
            "\n",
            "\t\t\t\t\t\t\t\t\t<div id=\"vector-page-tools-unpinned-container\" class=\"vector-unpinned-container\">\n",
            "\t\t\t\t\t\t\n",
            "<div id=\"vector-page-tools\" class=\"vector-page-tools vector-pinnable-element\">\n",
            "\t<div\n",
            "\tclass=\"vector-pinnable-header vector-page-tools-pinnable-header vector-pinnable-header-unpinned\"\n",
            "\tdata-feature-name=\"page-tools-pinned\"\n",
            "\tdata-pinnable-element-id=\"vector-page-tools\"\n",
            "\tdata-pinned-container-id=\"vector-page-tools-pinned-container\"\n",
            "\tdata-unpinned-container-id=\"vector-page-tools-unpinned-container\"\n",
            ">\n",
            "\t<div class=\"vector-pinnable-header-label\">Herramientas</div>\n",
            "\t<button class=\"vector-pinnable-header-toggle-button vector-pinnable-header-pin-button\" data-event-name=\"pinnable-header.vector-page-tools.pin\">mover a la barra lateral</button>\n",
            "\t<button class=\"vector-pinnable-header-toggle-button vector-pinnable-header-unpin-button\" data-event-name=\"pinnable-header.vector-page-tools.unpin\">ocultar</button>\n",
            "</div>\n",
            "\n",
            "\t\n",
            "<div id=\"p-cactions\" class=\"vector-menu mw-portlet mw-portlet-cactions emptyPortlet vector-has-collapsible-items\"  title=\"Más opciones\" >\n",
            "\t<div class=\"vector-menu-heading\">\n",
            "\t\tAcciones\n",
            "\t</div>\n",
            "\t<div class=\"vector-menu-content\">\n",
            "\t\t\n",
            "\t\t<ul class=\"vector-menu-content-list\">\n",
            "\t\t\t\n",
            "\t\t\t<li id=\"ca-more-view\" class=\"selected vector-more-collapsible-item mw-list-item\"><a href=\"/wiki/Wikipedia:Portada\"><span>Leer</span></a></li><li id=\"ca-more-viewsource\" class=\"vector-more-collapsible-item mw-list-item\"><a href=\"/w/index.php?title=Wikipedia:Portada&amp;action=edit\"><span>Ver código fuente</span></a></li><li id=\"ca-more-history\" class=\"vector-more-collapsible-item mw-list-item\"><a href=\"/w/index.php?title=Wikipedia:Portada&amp;action=history\"><span>Ver historial</span></a></li>\n",
            "\t\t</ul>\n",
            "\t\t\n",
            "\t</div>\n",
            "</div>\n",
            "\n",
            "<div id=\"p-tb\" class=\"vector-menu mw-portlet mw-portlet-tb\"  >\n",
            "\t<div class=\"vector-menu-heading\">\n",
            "\t\tGeneral\n",
            "\t</div>\n",
            "\t<div class=\"vector-menu-content\">\n",
            "\t\t\n",
            "\t\t<ul class=\"vector-menu-content-list\">\n",
            "\t\t\t\n",
            "\t\t\t<li id=\"t-whatlinkshere\" class=\"mw-list-item\"><a href=\"/wiki/Especial:LoQueEnlazaAqu%C3%AD/Wikipedia:Portada\" title=\"Lista de todas las páginas de la wiki que enlazan aquí [j]\" accesskey=\"j\"><span>Lo que enlaza aquí</span></a></li><li id=\"t-recentchangeslinked\" class=\"mw-list-item\"><a href=\"/wiki/Especial:CambiosEnEnlazadas/Wikipedia:Portada\" rel=\"nofollow\" title=\"Cambios recientes en las páginas que enlazan con esta [k]\" accesskey=\"k\"><span>Cambios en enlazadas</span></a></li><li id=\"t-upload\" class=\"mw-list-item\"><a href=\"//commons.wikimedia.org/wiki/Special:UploadWizard?uselang=es\" title=\"Subir archivos [u]\" accesskey=\"u\"><span>Subir archivo</span></a></li><li id=\"t-specialpages\" class=\"mw-list-item\"><a href=\"/wiki/Especial:P%C3%A1ginasEspeciales\" title=\"Lista de todas las páginas especiales [q]\" accesskey=\"q\"><span>Páginas especiales</span></a></li><li id=\"t-permalink\" class=\"mw-list-item\"><a href=\"/w/index.php?title=Wikipedia:Portada&amp;oldid=149134229\" title=\"Enlace permanente a esta versión de la página\"><span>Enlace permanente</span></a></li><li id=\"t-info\" class=\"mw-list-item\"><a href=\"/w/index.php?title=Wikipedia:Portada&amp;action=info\" title=\"Más información sobre esta página\"><span>Información de la página</span></a></li><li id=\"t-urlshortener\" class=\"mw-list-item\"><a href=\"/w/index.php?title=Especial:Acortador_de_URL&amp;url=https%3A%2F%2Fes.wikipedia.org%2Fwiki%2FWikipedia%3APortada\"><span>Obtener URL acortado</span></a></li><li id=\"t-wikibase\" class=\"mw-list-item\"><a href=\"https://www.wikidata.org/wiki/Special:EntityPage/Q5296\" title=\"Enlace al elemento conectado del repositorio de datos [g]\" accesskey=\"g\"><span>Elemento de Wikidata</span></a></li>\n",
            "\t\t</ul>\n",
            "\t\t\n",
            "\t</div>\n",
            "</div>\n",
            "\n",
            "<div id=\"p-coll-print_export\" class=\"vector-menu mw-portlet mw-portlet-coll-print_export\"  >\n",
            "\t<div class=\"vector-menu-heading\">\n",
            "\t\tImprimir/exportar\n",
            "\t</div>\n",
            "\t<div class=\"vector-menu-content\">\n",
            "\t\t\n",
            "\t\t<ul class=\"vector-menu-content-list\">\n",
            "\t\t\t\n",
            "\t\t\t<li id=\"coll-create_a_book\" class=\"mw-list-item\"><a href=\"/w/index.php?title=Especial:Libro&amp;bookcmd=book_creator&amp;referer=Wikipedia%3APortada\"><span>Crear un libro</span></a></li><li id=\"coll-download-as-rl\" class=\"mw-list-item\"><a href=\"/w/index.php?title=Especial:DownloadAsPdf&amp;page=Wikipedia%3APortada&amp;action=show-download-screen\"><span>Descargar como PDF</span></a></li><li id=\"t-print\" class=\"mw-list-item\"><a href=\"/w/index.php?title=Wikipedia:Portada&amp;printable=yes\" title=\"Versión imprimible de esta página [p]\" accesskey=\"p\"><span>Versión para imprimir</span></a></li>\n",
            "\t\t</ul>\n",
            "\t\t\n",
            "\t</div>\n",
            "</div>\n",
            "\n",
            "<div id=\"p-wikibase-otherprojects\" class=\"vector-menu mw-portlet mw-portlet-wikibase-otherprojects\"  >\n",
            "\t<div class=\"vector-menu-heading\">\n",
            "\t\tEn otros proyectos\n",
            "\t</div>\n",
            "\t<div class=\"vector-menu-content\">\n",
            "\t\t\n",
            "\t\t<ul class=\"vector-menu-content-list\">\n",
            "\t\t\t\n",
            "\t\t\t<li class=\"wb-otherproject-link wb-otherproject-commons mw-list-item\"><a href=\"https://commons.wikimedia.org/wiki/Main_Page\" hreflang=\"en\"><span>Wikimedia Commons</span></a></li><li class=\"wb-otherproject-link wb-otherproject-foundation mw-list-item\"><a href=\"https://foundation.wikimedia.org/wiki/Home\" hreflang=\"en\"><span>Fundación Wikimedia</span></a></li><li class=\"wb-otherproject-link wb-otherproject-mediawiki mw-list-item\"><a href=\"https://www.mediawiki.org/wiki/MediaWiki\" hreflang=\"en\"><span>MediaWiki</span></a></li><li class=\"wb-otherproject-link wb-otherproject-meta mw-list-item\"><a href=\"https://meta.wikimedia.org/wiki/Main_Page\" hreflang=\"en\"><span>Meta-Wiki</span></a></li><li class=\"wb-otherproject-link wb-otherproject-outreach mw-list-item\"><a href=\"https://outreach.wikimedia.org/wiki/Main_Page\" hreflang=\"en\"><span>Wikimedia Outreach</span></a></li><li class=\"wb-otherproject-link wb-otherproject-sources mw-list-item\"><a href=\"https://wikisource.org/wiki/Main_Page\" hreflang=\"en\"><span>Wikisource multilingüe</span></a></li><li class=\"wb-otherproject-link wb-otherproject-species mw-list-item\"><a href=\"https://species.wikimedia.org/wiki/Main_Page\" hreflang=\"en\"><span>Wikiespecies</span></a></li><li class=\"wb-otherproject-link wb-otherproject-wikibooks mw-list-item\"><a href=\"https://es.wikibooks.org/wiki/Portada\" hreflang=\"es\"><span>Wikilibros</span></a></li><li class=\"wb-otherproject-link wb-otherproject-wikidata mw-list-item\"><a href=\"https://www.wikidata.org/wiki/Wikidata:Main_Page\" hreflang=\"en\"><span>Wikidata</span></a></li><li class=\"wb-otherproject-link wb-otherproject-wikifunctions mw-list-item\"><a href=\"https://www.wikifunctions.org/wiki/Wikifunctions:Main_Page\" hreflang=\"en\"><span>Wikifunciones</span></a></li><li class=\"wb-otherproject-link wb-otherproject-wikimania badge-Q70893996 mw-list-item\" title=\"\"><a href=\"https://wikimania.wikimedia.org/wiki/Wikimania\" hreflang=\"en\"><span>Wikimanía</span></a></li><li class=\"wb-otherproject-link wb-otherproject-wikinews mw-list-item\"><a href=\"https://es.wikinews.org/wiki/Portada\" hreflang=\"es\"><span>Wikinoticias</span></a></li><li class=\"wb-otherproject-link wb-otherproject-wikiquote mw-list-item\"><a href=\"https://es.wikiquote.org/wiki/Portada\" hreflang=\"es\"><span>Wikiquote</span></a></li><li class=\"wb-otherproject-link wb-otherproject-wikisource mw-list-item\"><a href=\"https://es.wikisource.org/wiki/Portada\" hreflang=\"es\"><span>Wikisource</span></a></li><li class=\"wb-otherproject-link wb-otherproject-wikiversity mw-list-item\"><a href=\"https://es.wikiversity.org/wiki/Portada\" hreflang=\"es\"><span>Wikiversidad</span></a></li><li class=\"wb-otherproject-link wb-otherproject-wikivoyage mw-list-item\"><a href=\"https://es.wikivoyage.org/wiki/P%C3%A1gina_principal\" hreflang=\"es\"><span>Wikiviajes</span></a></li><li class=\"wb-otherproject-link wb-otherproject-wiktionary mw-list-item\"><a href=\"https://es.wiktionary.org/wiki/Wikcionario:Portada\" hreflang=\"es\"><span>Wikcionario</span></a></li>\n",
            "\t\t</ul>\n",
            "\t\t\n",
            "\t</div>\n",
            "</div>\n",
            "\n",
            "</div>\n",
            "\n",
            "\t\t\t\t\t\t\t\t\t</div>\n",
            "\t\t\t\t\n",
            "\t</div>\n",
            "</div>\n",
            "\n",
            "\t\t\t\t\t\t\t</nav>\n",
            "\t\t\t\t\t\t</div>\n",
            "\t\t\t\t\t</div>\n",
            "\t\t\t\t</div>\n",
            "\t\t\t\t<div class=\"vector-column-end\">\n",
            "\t\t\t\t\t<nav class=\"vector-page-tools-landmark vector-sticky-pinned-container\" aria-label=\"Page tools\">\n",
            "\t\t\t\t\t\t<div id=\"vector-page-tools-pinned-container\" class=\"vector-pinned-container\">\n",
            "\t\t\t\n",
            "\t\t\t\t\t\t</div>\n",
            "\t</nav>\n",
            "\t\t\t\t</div>\n",
            "\t\t\t\t<div id=\"bodyContent\" class=\"vector-body\" aria-labelledby=\"firstHeading\" data-mw-ve-target-container>\n",
            "\t\t\t\t\t<div class=\"vector-body-before-content\">\n",
            "\t\t\t\t\t\n",
            "\t\t\t\t\t\t<div id=\"siteSub\" class=\"noprint\">De Wikipedia, la enciclopedia libre</div>\n",
            "\t\t\t\t\t</div>\n",
            "\t\t\t\t\t<div id=\"contentSub\"><div id=\"mw-content-subtitle\"></div></div>\n",
            "\t\t\t\t\t\n",
            "\t\t\t\t\t\n",
            "\t\t\t\t\t<div id=\"mw-content-text\" class=\"mw-body-content mw-content-ltr\" lang=\"es\" dir=\"ltr\"><div class=\"mw-parser-output\"><style data-mw-deduplicate=\"TemplateStyles:r144107000\">.mw-parser-output .main-header{border-bottom-color:transparent;margin-bottom:0.25em;margin-top:0;padding-bottom:0;padding-top:0}.mw-parser-output .main-plainlist>ul{list-style:none;margin:0;padding:0}.mw-parser-output .main-plainlist li{margin-bottom:0}.mw-parser-output .main-top-right .mw-ui-quiet:hover,.mw-parser-output .main-top-right .mw-ui-quiet:focus,.mw-parser-output .main-footer .mw-ui-quiet:hover,.mw-parser-output .main-footer .mw-ui-quiet:focus{color:#0645ad}.mw-parser-output .mw-headline-number{display:none}@media(min-width:720px){.mw-parser-output .main-wikimedia{padding-top:1rem;padding-left:1rem;padding-right:1rem}}@media(min-width:1000px){.mw-parser-output .main-wrapper{display:flex;margin:0 -0.5rem}.mw-parser-output .main-wrapper-column{flex:1;margin:0 0.5rem}.mw-parser-output .main-wikimedia{padding-top:1rem;padding-left:1rem;padding-right:1rem}}@media(min-width:1000px){.mw-parser-output .main-wrapper-column{width:55%}.mw-parser-output .main-wrapper-column+.main-wrapper-column{width:45%}.mw-parser-output .main-wrapper-column{flex:inherit}}.mw-parser-output .main-box-image-only div{width:auto!important}body.skin-timeless .mw-parser-output .main-box-header:after,body.skin-timeless .mw-parser-output .main-top-header:after{border-bottom:0 solid transparent}</style>\n",
            "<style data-mw-deduplicate=\"TemplateStyles:r144107009\">.mw-parser-output .main-top{font-size:1rem;margin-top:1rem;padding-bottom:1.5rem}.mw-parser-output .main-top-left>p{font-size:0.875em;margin:0}.mw-parser-output .main-top-right{font-size:0.875em;margin-top:0.5em}.mw-parser-output .main-top-right>ul{display:none;margin-top:0.5rem}.mw-parser-output .main-top-right .mw-ui-button.mw-ui-quiet{padding-right:0}.mw-parser-output .main-top-header{border-bottom:0;margin-bottom:0;margin-top:0}.mw-parser-output .main-top-articleCount{margin-bottom:0}body.skin-minerva .mw-parser-output .main-top-articleCount{display:none}.mw-parser-output .main-top-mobileSearch{display:none;margin-top:1rem}body.skin-minerva .mw-parser-output .main-top-mobileSearch{display:block}.mw-parser-output .main-top-mobileSearchButton{background:#fff;border:none;box-shadow:0 2px 2px 0 rgba(0,0,0,0.25);color:#72777d;font-weight:normal;max-width:none;text-align:left;width:100%}@media(min-width:720px){.mw-parser-output .main-top{background-color:#f8f9fa;border:1px solid #c8ccd1;border-radius:2px;box-shadow:0 1px 1px rgba(0,0,0,.15);margin-bottom:1rem;padding:1rem}.mw-parser-output .main-top-right>ul{display:flex;flex-wrap:wrap}.mw-parser-output .main-top-articleCount{margin-bottom:0.5rem}body.skin-minerva .mw-parser-output .main-top-articleCount{display:block}body.skin-minerva .mw-parser-output .main-top-mobileSearch{display:none}}@media(min-width:1000px){.mw-parser-output .main-top{align-items:center;background-image:url(\"https://upload.wikimedia.org/wikipedia/commons/e/e3/Wikipedia_logo_letters_banner.svg\");background-position:right;background-repeat:no-repeat;display:flex;margin-bottom:1rem;margin-top:0.5rem;padding:0 1.5rem 0 0}.mw-parser-output .main-top-left{background-image:linear-gradient(to right,#f8f9fa 0%,#f8f9fa 70%,rgba(248,249,250,0)100%);flex:2;padding:2rem 0 2rem 1.5rem}.mw-parser-output .main-top-right{flex:3;margin-top:0;text-align:right}.mw-parser-output .main-top-right>ul{align-items:center;flex-direction:row-reverse;margin-top:0;text-align:left}.mw-parser-output .main-top-createArticle+li .mw-ui-button.mw-ui-quiet{padding-right:1em}}body.skin-modern .mw-parser-output .main-top-header{line-height:1.8rem;font-size:1.8rem}</style>\n",
            "<div class=\"main-top\">\n",
            "<div class=\"main-top-left\">\n",
            "<h1 class=\"main-top-header\"><span id=\"Bienvenidos_a_Wikipedia.2C\"></span><span class=\"mw-headline\" id=\"Bienvenidos_a_Wikipedia,\" data-mw-thread-id=\"h-Bienvenidos_a_Wikipedia,\"><span data-mw-comment-start=\"\" id=\"h-Bienvenidos_a_Wikipedia,\"></span><a href=\"/wiki/Wikipedia:Bienvenidos\" title=\"Wikipedia:Bienvenidos\">Bienvenidos</a> a Wikipedia,<span data-mw-comment-end=\"h-Bienvenidos_a_Wikipedia,\"></span></span></h1>\n",
            "<p>la enciclopedia de contenido libre<br/>que <a href=\"/wiki/Ayuda:Introducci%C3%B3n\" title=\"Ayuda:Introducción\">todos pueden editar</a>.\n",
            "</p>\n",
            "<div class=\"main-top-mobileSearch\"><a href=\"/wiki/Especial:Buscar\" title=\"Especial:Buscar\"><span class=\"mw-ui-button main-top-mobileSearchButton skin-minerva-search-trigger\">Buscar en 1 902 176 artículos</span></a></div>\n",
            "</div>\n",
            "<div class=\"main-top-right main-plainlist\">\n",
            "<p class=\"main-top-articleCount\"><b><a href=\"/wiki/Especial:Estad%C3%ADsticas\" title=\"Especial:Estadísticas\">1 902 176</a></b> artículos <a href=\"/wiki/Wikipedia_en_espa%C3%B1ol\" title=\"Wikipedia en español\">en español</a>.</p>\n",
            "<ul>\n",
            "<li><a href=\"/wiki/Wikipedia:Caf%C3%A9\" title=\"Wikipedia:Café\"><span class=\"mw-ui-button mw-ui-quiet\">Café</span></a></li>\n",
            "<li><a href=\"/wiki/Ayuda:C%C3%B3mo_puedes_colaborar\" title=\"Ayuda:Cómo puedes colaborar\"><span class=\"mw-ui-button mw-ui-quiet\">¿Cómo colaborar?</span></a></li>\n",
            "<li><a href=\"/wiki/Ayuda:Introducci%C3%B3n\" title=\"Ayuda:Introducción\"><span class=\"mw-ui-button mw-ui-quiet\">Primeros pasos</span></a></li>\n",
            "<li><a href=\"/wiki/Ayuda:Contenidos\" title=\"Ayuda:Contenidos\"><span class=\"mw-ui-button mw-ui-quiet\">Ayuda</span></a></li>\n",
            "<li><a href=\"/wiki/Wikipedia:Contacto\" title=\"Wikipedia:Contacto\"><span class=\"mw-ui-button mw-ui-quiet\">Contacto</span></a></li>\n",
            "</ul>\n",
            "</div>\n",
            "</div>\n",
            "<div class=\"main-wrapper\">\n",
            "<div class=\"main-wrapper-column\">\n",
            "<style data-mw-deduplicate=\"TemplateStyles:r144107018\">.mw-parser-output .main-box{background:#fff;border:solid #c8ccd1;border-width:1px 0;box-shadow:0 1px 1px rgba(0,0,0,0.15);margin:0 -1rem 1rem;padding:1rem}.mw-parser-output .main-box>p:last-child{margin-bottom:0}.mw-parser-output .main-box-image-only>.main-box-content{margin:0.5rem -1rem 0;text-align:center}.mw-parser-output .main-box-image-only>.main-box-content img{height:auto;max-width:100%}.mw-parser-output .main-box-imageCaption{text-align:center}.mw-parser-output .main-box-imageCaption>p{display:inline-block;margin-bottom:0;text-align:left}.mw-parser-output .main-box-section{color:#72777d;line-height:1.25;margin-top:-.125em}.mw-parser-output .main-box-header{margin-top:-.15em}.mw-parser-output .main-box-header a{color:inherit}.mw-parser-output .main-box-section+.main-box-header{margin-top:0}.mw-parser-output .main-box-header a:focus,.mw-parser-output .main-box:hover .main-box-header a,.mw-parser-output .main-box:hover .main-featuredLists-item>a{color:#0645ad}.mw-parser-output .main-footer{display:flex;justify-content:flex-end;margin-top:1rem;position:relative}.mw-parser-output .main-footer:empty{display:none}.mw-parser-output .main-footer-actions{flex:1}.mw-parser-output .main-footer-actions>ul{align-items:center;display:flex}.mw-parser-output .main-footer-menu{align-items:stretch;display:flex}.mw-parser-output .main-footer-menuToggle{align-items:center;display:flex;float:none;height:100%;opacity:0.87}.mw-parser-output .main-footer-menuToggle:hover{opacity:0.51}.mw-parser-output .main-footer-menuDropdown{background:#fff;border:1px solid #a2a9b1;border-radius:2px;box-shadow:0 2px 2px 0 rgba(0,0,0,0.25);max-width:15em;position:absolute;right:0;top:100%;z-index:100}.mw-parser-output .main-footer-menuDropdown .mw-ui-button{text-align:left;width:100%}@media(max-width:719px){.mw-parser-output .main-box-responsive-image>.floatleft,.mw-parser-output .main-box-responsive-image>.floatright{float:none;margin-left:-1rem;margin-right:-1rem;text-align:center}.mw-parser-output .main-box-responsive-image>.floatleft>a,.mw-parser-output .main-box-responsive-image>.floatright>a{display:block}}@media(min-width:720px){.mw-parser-output .main-box{border-radius:2px;border-width:1px;margin-bottom:1rem;margin-left:0;margin-right:0}}@media(min-width:1000px){.mw-parser-output .main-box{margin-bottom:1rem;padding:1rem}.mw-parser-output .main-box-image-only>.main-box-content{margin-left:-1rem;margin-right:-1rem}}</style>\n",
            "<div id=\"main-tfa\" class=\"main-box main-box-responsive-image\"><div id=\"Artículo_destacado\" class=\"main-box-section\">Artículo destacado</div><div class=\"mw-heading mw-heading2 ext-discussiontools-init-section\"><h2 class=\"main-header main-box-header\"><span class=\"mw-headline\" id=\"Face_the_Heat\" data-mw-thread-id=\"h-Face_the_Heat-Bienvenidos_a_Wikipedia,\"><span data-mw-comment-start=\"\" id=\"h-Face_the_Heat-Bienvenidos_a_Wikipedia,\"></span><a href=\"/wiki/Face_the_Heat\" title=\"Face the Heat\">Face the Heat</a><span data-mw-comment-end=\"h-Face_the_Heat-Bienvenidos_a_Wikipedia,\"></span></span></h2><!--__DTELLIPSISBUTTON__{\"editable\":false,\"threadItem\":{\"headingLevel\":2,\"name\":\"h-\",\"type\":\"heading\",\"level\":0,\"id\":\"h-Face_the_Heat-Bienvenidos_a_Wikipedia,\",\"replies\":[]}}--></div>\n",
            "<figure class=\"mw-halign-right\" typeof=\"mw:File\"><a href=\"/wiki/Archivo:Scorpions_-_Face_the_Heat_LP.jpg\" class=\"mw-file-description\" title=\"Face the Heat\"><img alt=\"Face the Heat\" src=\"//upload.wikimedia.org/wikipedia/commons/thumb/7/75/Scorpions_-_Face_the_Heat_LP.jpg/200px-Scorpions_-_Face_the_Heat_LP.jpg\" decoding=\"async\" width=\"200\" height=\"202\" class=\"mw-file-element\" srcset=\"//upload.wikimedia.org/wikipedia/commons/thumb/7/75/Scorpions_-_Face_the_Heat_LP.jpg/300px-Scorpions_-_Face_the_Heat_LP.jpg 1.5x, //upload.wikimedia.org/wikipedia/commons/thumb/7/75/Scorpions_-_Face_the_Heat_LP.jpg/400px-Scorpions_-_Face_the_Heat_LP.jpg 2x\" data-file-width=\"593\" data-file-height=\"600\"/></a><figcaption>Face the Heat</figcaption></figure>\n",
            "<p><i><b>Face the Heat</b></i> es el duodécimo <a href=\"/wiki/%C3%81lbum_de_estudio\" title=\"Álbum de estudio\">álbum de estudio</a> de la banda alemana de <i><a href=\"/wiki/Hard_rock\" title=\"Hard rock\">hard rock</a></i> y <i><a href=\"/wiki/Heavy_metal\" title=\"Heavy metal\">heavy metal</a></i> <a href=\"/wiki/Scorpions\" title=\"Scorpions\">Scorpions</a>, publicado en 1993 por <a href=\"/wiki/Mercury_Records\" title=\"Mercury Records\">Mercury Records</a> en los <a href=\"/wiki/Estados_Unidos\" title=\"Estados Unidos\">Estados Unidos</a> y por <a href=\"/wiki/Phonogram_Records\" title=\"Phonogram Records\">Phonogram</a> en <a href=\"/wiki/Europa\" title=\"Europa\">Europa</a>. Paralelo al éxito comercial que disfrutaba gracias al disco <i><a href=\"/wiki/Crazy_World\" title=\"Crazy World\">Crazy World</a></i> de 1990 y en especial al <a href=\"/wiki/Sencillo\" title=\"Sencillo\">sencillo</a> «<a href=\"/wiki/Wind_of_Change\" title=\"Wind of Change\">Wind of Change</a>» de 1991, el grupo estaba pasando por un severo quiebre interno que derivó en la salida de <a href=\"/wiki/Francis_Buchholz\" title=\"Francis Buchholz\">Francis Buchholz</a>. Todo comenzó luego que descubrieran que un dinero invertido en <a href=\"/wiki/Liechtenstein\" title=\"Liechtenstein\">Liechtenstein</a> había desaparecido, cuya cuenta bancaria estaba a cargo del bajista y el contador por entonces. Por consiguiente, luego de llegar a un acuerdo con los demás músicos, Buchholz dejó la banda a mediados de 1992. Para reemplazarlo, a finales del mismo año ingresó el también alemán <a href=\"/wiki/Ralph_Rieckermann\" title=\"Ralph Rieckermann\">Ralph Rieckermann</a>. \n",
            "</p><p>Luego de que la tensión entre los músicos se calmó, optaron por enfocarse en su futuro álbum. Su grabación se llevó a cabo en una semana de febrero de 1993 en los estudios Little Mountain Sound en <a href=\"/wiki/Vancouver\" title=\"Vancouver\">Vancouver</a>, propiedad del <a href=\"/wiki/Productor_discogr%C3%A1fico\" title=\"Productor discográfico\">productor</a> <a href=\"/wiki/Bruce_Fairbairn\" title=\"Bruce Fairbairn\">Bruce Fairbairn</a>. La banda quería «hacerlo a la antigua», así que lo registraron de manera <a href=\"/wiki/Grabaci%C3%B3n_anal%C3%B3gica_de_sonido\" title=\"Grabación analógica de sonido\">análoga</a> y optaron por composiciones más pesadas y no replicar el lado comercial del antecesor, sabiendo de antemano que corrían el riesgo de que fuera un fracaso. La gran mayoría de las canciones las escribieron <a href=\"/wiki/Klaus_Meine\" title=\"Klaus Meine\">Klaus Meine</a> y <a href=\"/wiki/Rudolf_Schenker\" title=\"Rudolf Schenker\">Rudolf Schenker</a>, mientras que <a href=\"/wiki/Herman_Rarebell\" title=\"Herman Rarebell\">Herman Rarebell</a>, el tercer compositor del grupo desde <i><a href=\"/wiki/Taken_by_Force\" title=\"Taken by Force\">Taken by Force</a></i> (1977), no participó del proceso creativo porque había perdido el interés de escribir después de <i>Crazy World</i>.\n",
            "</p>\n",
            "<div style=\"clear: both;\"></div>\n",
            "<div class=\"main-footer\"><div class=\"main-footer-actions main-plainlist nomobile\">\n",
            "<ul><li><a href=\"/wiki/Face_the_Heat\" title=\"Face the Heat\"><span class=\"mw-ui-button\"> Leer </span></a></li>\n",
            "<li><span class=\"nomobile\"><a href=\"/wiki/Wikipedia:Art%C3%ADculos_destacados/%C3%8Dndice\" title=\"Wikipedia:Artículos destacados/Índice\"><span class=\"mw-ui-button mw-ui-quiet\"> Todos los artículos destacados </span></a></span></li></ul>\n",
            "</div><div id=\"mw-customcollapsible-tfa\" class=\"main-footer-menu mw-collapsible mw-collapsed nomobile\">\n",
            "<div class=\"main-footer-menuToggle mw-collapsible-toggle mw-customtoggle-main-tfa\"><span typeof=\"mw:File\"><span title=\"Acciones adicionales\"><img alt=\"Acciones adicionales\" src=\"//upload.wikimedia.org/wikipedia/commons/thumb/b/b3/OOjs_UI_icon_ellipsis.svg/20px-OOjs_UI_icon_ellipsis.svg.png\" decoding=\"async\" width=\"20\" height=\"20\" class=\"mw-file-element\" srcset=\"//upload.wikimedia.org/wikipedia/commons/thumb/b/b3/OOjs_UI_icon_ellipsis.svg/30px-OOjs_UI_icon_ellipsis.svg.png 1.5x, //upload.wikimedia.org/wikipedia/commons/thumb/b/b3/OOjs_UI_icon_ellipsis.svg/40px-OOjs_UI_icon_ellipsis.svg.png 2x\" data-file-width=\"20\" data-file-height=\"20\"/></span></span></div>\n",
            "<div class=\"main-footer-menuDropdown mw-collapsible-content main-plainlist\">\n",
            "<ul><li><a href=\"/wiki/Wikipedia:Candidatos_a_art%C3%ADculos_destacados\" title=\"Wikipedia:Candidatos a artículos destacados\"><span class=\"mw-ui-button mw-ui-quiet\"> Candidatos </span></a></li></ul>\n",
            "<dl><dd><i>Anteriores:</i></dd></dl>\n",
            "<ul><li><a href=\"/wiki/El_nombre_del_mundo_es_Bosque\" title=\"El nombre del mundo es Bosque\"><span class=\"mw-ui-button mw-ui-quiet\"> El nombre del mundo es Bosque </span></a></li>\n",
            "<li><a href=\"/wiki/32X\" title=\"32X\"><span class=\"mw-ui-button mw-ui-quiet\"> 32X </span></a></li>\n",
            "<li><a href=\"/wiki/Sonic_the_Hedgehog_(videojuego_de_2006)\" title=\"Sonic the Hedgehog (videojuego de 2006)\"><span class=\"mw-ui-button mw-ui-quiet\"> Sonic the Hedgehog </span></a></li></ul>\n",
            "</div></div></div>\n",
            "</div>\n",
            "<link rel=\"mw-deduplicated-inline-style\" href=\"mw-data:TemplateStyles:r144107018\">\n",
            "<div id=\"main-tga\" class=\"main-box main-box-responsive-image\"><div id=\"Artículo_bueno\" class=\"main-box-section\">Artículo bueno</div><div class=\"mw-heading mw-heading2 ext-discussiontools-init-section\"><h2 class=\"main-header main-box-header\"><span class=\"mw-headline\" id=\"Margaret_Thatcher\" data-mw-thread-id=\"h-Margaret_Thatcher-Bienvenidos_a_Wikipedia,\"><span data-mw-comment-start=\"\" id=\"h-Margaret_Thatcher-Bienvenidos_a_Wikipedia,\"></span><a href=\"/wiki/Margaret_Thatcher\" title=\"Margaret Thatcher\">Margaret Thatcher</a><span data-mw-comment-end=\"h-Margaret_Thatcher-Bienvenidos_a_Wikipedia,\"></span></span></h2><!--__DTELLIPSISBUTTON__{\"editable\":false,\"threadItem\":{\"headingLevel\":2,\"name\":\"h-\",\"type\":\"heading\",\"level\":0,\"id\":\"h-Margaret_Thatcher-Bienvenidos_a_Wikipedia,\",\"replies\":[]}}--></div>\n",
            "<figure class=\"mw-halign-right\" typeof=\"mw:File\"><a href=\"/wiki/Archivo:Margaret_Thatcher_stock_portrait_(cropped).jpg\" class=\"mw-file-description\" title=\"Margaret Thatcher\"><img alt=\"Margaret Thatcher\" src=\"//upload.wikimedia.org/wikipedia/commons/thumb/3/3d/Margaret_Thatcher_stock_portrait_%28cropped%29.jpg/150px-Margaret_Thatcher_stock_portrait_%28cropped%29.jpg\" decoding=\"async\" width=\"150\" height=\"209\" class=\"mw-file-element\" srcset=\"//upload.wikimedia.org/wikipedia/commons/thumb/3/3d/Margaret_Thatcher_stock_portrait_%28cropped%29.jpg/225px-Margaret_Thatcher_stock_portrait_%28cropped%29.jpg 1.5x, //upload.wikimedia.org/wikipedia/commons/thumb/3/3d/Margaret_Thatcher_stock_portrait_%28cropped%29.jpg/300px-Margaret_Thatcher_stock_portrait_%28cropped%29.jpg 2x\" data-file-width=\"790\" data-file-height=\"1099\"/></a><figcaption>Margaret Thatcher</figcaption></figure>\n",
            "<p><b>Margaret Hilda Thatcher</b> (<small>AFI: </small><span class=\"IPA\"><a href=\"/wiki/Alfabeto_Fon%C3%A9tico_Internacional\" title=\"Alfabeto Fonético Internacional\">[ˈmɑːgɹət ˈθæʧə]</a></span>; <a href=\"/wiki/Nombres_de_nacimiento_y_de_matrimonio\" title=\"Nombres de nacimiento y de matrimonio\">de soltera</a> <b>Roberts</b>; <b>1° baronesa Thatcher de Kesteven</b>; <a href=\"/wiki/Grantham\" title=\"Grantham\">Grantham</a>, 13 de octubre de 1925-<a href=\"/wiki/Londres\" title=\"Londres\">Londres</a>, 8 de abril de 2013) fue una <a href=\"/wiki/Pol%C3%ADtico\" title=\"Político\">política</a> <a href=\"/wiki/Reino_Unido\" title=\"Reino Unido\">británica</a> que ejerció como <a href=\"/wiki/Primer_ministro_del_Reino_Unido\" title=\"Primer ministro del Reino Unido\">primera ministra del Reino Unido</a> desde 1979 a 1990, siendo la persona en ese cargo por mayor tiempo durante el siglo <span style=\"font-variant:small-caps;text-transform:lowercase\">XX</span> y la primera mujer que ocupó este puesto en su país.\n",
            "</p>\n",
            "<div style=\"clear: both;\"></div>\n",
            "<div class=\"main-footer\"><div class=\"main-footer-actions main-plainlist nomobile\">\n",
            "<ul><li><a href=\"/wiki/Margaret_Thatcher\" title=\"Margaret Thatcher\"><span class=\"mw-ui-button\"> Leer </span></a></li>\n",
            "<li><span class=\"nomobile\"><a href=\"/wiki/Wikipedia:Art%C3%ADculos_buenos/%C3%8Dndice\" title=\"Wikipedia:Artículos buenos/Índice\"><span class=\"mw-ui-button mw-ui-quiet\"> Todos los artículos buenos </span></a></span></li></ul>\n",
            "</div><div id=\"mw-customcollapsible-tga\" class=\"main-footer-menu mw-collapsible mw-collapsed nomobile\">\n",
            "<div class=\"main-footer-menuToggle mw-collapsible-toggle mw-customtoggle-main-tga\"><span typeof=\"mw:File\"><span title=\"Acciones adicionales\"><img alt=\"Acciones adicionales\" src=\"//upload.wikimedia.org/wikipedia/commons/thumb/b/b3/OOjs_UI_icon_ellipsis.svg/20px-OOjs_UI_icon_ellipsis.svg.png\" decoding=\"async\" width=\"20\" height=\"20\" class=\"mw-file-element\" srcset=\"//upload.wikimedia.org/wikipedia/commons/thumb/b/b3/OOjs_UI_icon_ellipsis.svg/30px-OOjs_UI_icon_ellipsis.svg.png 1.5x, //upload.wikimedia.org/wikipedia/commons/thumb/b/b3/OOjs_UI_icon_ellipsis.svg/40px-OOjs_UI_icon_ellipsis.svg.png 2x\" data-file-width=\"20\" data-file-height=\"20\"/></span></span></div>\n",
            "<div class=\"main-footer-menuDropdown mw-collapsible-content main-plainlist\">\n",
            "<ul><li><a href=\"/wiki/Wikipedia:Selecci%C3%B3n_de_art%C3%ADculos_buenos/nominaciones\" title=\"Wikipedia:Selección de artículos buenos/nominaciones\"><span class=\"mw-ui-button mw-ui-quiet\"> Candidatos </span></a></li></ul>\n",
            "<dl><dd><i>Anteriores:</i></dd></dl>\n",
            "<ul><li><a href=\"/wiki/Victoria_del_Reino_Unido_(1840-1901)\" title=\"Victoria del Reino Unido (1840-1901)\"><span class=\"mw-ui-button mw-ui-quiet\"> Victoria del Reino Unido </span></a></li>\n",
            "<li><a href=\"/wiki/Anexo:Bibliograf%C3%ADa_de_Madonna\" title=\"Anexo:Bibliografía de Madonna\"><span class=\"mw-ui-button mw-ui-quiet\"> Anexo:Bibliografía de Madonna </span></a></li>\n",
            "<li><a href=\"/wiki/La_La_Land_(canci%C3%B3n_de_Demi_Lovato)\" title=\"La La Land (canción de Demi Lovato)\"><span class=\"mw-ui-button mw-ui-quiet\"> La La Land </span></a></li></ul>\n",
            "</div></div></div>\n",
            "</div>\n",
            "<link rel=\"mw-deduplicated-inline-style\" href=\"mw-data:TemplateStyles:r144107018\">\n",
            "<div id=\"main-potd\" class=\"main-box main-box-image-only\"><div class=\"mw-heading mw-heading2 ext-discussiontools-init-section\"><h2 class=\"main-header main-box-header\"><span id=\"Recurso_del_d.C3.ADa\"></span><span class=\"mw-headline\" id=\"Recurso_del_día\" data-mw-thread-id=\"h-Recurso_del_día-Bienvenidos_a_Wikipedia,\"><span data-mw-comment-start=\"\" id=\"h-Recurso_del_día-Bienvenidos_a_Wikipedia,\"></span><a href=\"/wiki/Wikipedia:Recurso_del_d%C3%ADa\" title=\"Wikipedia:Recurso del día\">Recurso del día</a><span data-mw-comment-end=\"h-Recurso_del_día-Bienvenidos_a_Wikipedia,\"></span></span></h2><!--__DTELLIPSISBUTTON__{\"editable\":false,\"threadItem\":{\"headingLevel\":2,\"name\":\"h-\",\"type\":\"heading\",\"level\":0,\"id\":\"h-Recurso_del_d\\u00eda-Bienvenidos_a_Wikipedia,\",\"replies\":[]}}--></div>\n",
            "<div class=\"main-box-content\"><figure class=\"mw-halign-center\" typeof=\"mw:File\"><a href=\"/wiki/Archivo:Attack_on_carrier_USS_Franklin_19_March_1945.jpg\" class=\"mw-file-description\" title=\"El Franklin escorado, en llamas y con la tripulación en cubierta, el 19 de marzo de 1945 visto desde el crucero Santa Fe\"><img alt=\"El Franklin escorado, en llamas y con la tripulación en cubierta, el 19 de marzo de 1945 visto desde el crucero Santa Fe\" src=\"//upload.wikimedia.org/wikipedia/commons/thumb/d/db/Attack_on_carrier_USS_Franklin_19_March_1945.jpg/500px-Attack_on_carrier_USS_Franklin_19_March_1945.jpg\" decoding=\"async\" width=\"500\" height=\"372\" class=\"mw-file-element\" srcset=\"//upload.wikimedia.org/wikipedia/commons/thumb/d/db/Attack_on_carrier_USS_Franklin_19_March_1945.jpg/750px-Attack_on_carrier_USS_Franklin_19_March_1945.jpg 1.5x, //upload.wikimedia.org/wikipedia/commons/thumb/d/db/Attack_on_carrier_USS_Franklin_19_March_1945.jpg/1000px-Attack_on_carrier_USS_Franklin_19_March_1945.jpg 2x\" data-file-width=\"2955\" data-file-height=\"2201\"/></a><figcaption>El Franklin escorado, en llamas y con la tripulación en cubierta, el 19 de marzo de 1945 visto desde el crucero Santa Fe</figcaption></figure></div>\n",
            "<div class=\"main-box-imageCaption\">\n",
            "<p>El Franklin escorado, en llamas y con la tripulación en cubierta, el 19 de marzo de 1945 visto desde el crucero Santa Fe\n",
            "</p>\n",
            "</div>\n",
            "<p>El quinto buque de la <a href=\"/wiki/Armada_de_los_Estados_Unidos\" title=\"Armada de los Estados Unidos\">Armada de los Estados Unidos</a> llamado <b><a href=\"/wiki/USS_Franklin_(CV-13)\" title=\"USS Franklin (CV-13)\">USS <i>Franklin</i> (CV-13)</a></b> (también <i>CVA-13</i>, <i>CVS-13</i>, y <i>AVT-8</i>), asimismo conocido como <i>Big Ben</i>, era un <a href=\"/wiki/Portaaviones\" class=\"mw-redirect\" title=\"Portaaviones\">portaaviones</a> de la clase <i>Essex</i>. Fue el decimotercer portaaviones de las fuerzas navales estadounidenses y el cuarto buque de esta armada en honrar la memoria del padre fundador <a href=\"/wiki/Benjamin_Franklin\" title=\"Benjamin Franklin\">Benjamin Franklin</a>.\n",
            "</p>\n",
            "<div style=\"clear: both;\"></div>\n",
            "<div class=\"main-footer\"><div class=\"main-footer-actions main-plainlist nomobile\">\n",
            "<ul><li><a href=\"/wiki/Wikipedia:Recurso_del_d%C3%ADa\" title=\"Wikipedia:Recurso del día\"><span class=\"mw-ui-button mw-ui-quiet\"> Archivo </span></a></li></ul>\n",
            "</div></div>\n",
            "</div>\n",
            "<link rel=\"mw-deduplicated-inline-style\" href=\"mw-data:TemplateStyles:r144107018\">\n",
            "<div id=\"main-port\" class=\"main-box\"><div class=\"mw-heading mw-heading2 ext-discussiontools-init-section\"><h2 class=\"main-header main-box-header\"><span class=\"mw-headline\" id=\"Portales\" data-mw-thread-id=\"h-Portales-Bienvenidos_a_Wikipedia,\"><span data-mw-comment-start=\"\" id=\"h-Portales-Bienvenidos_a_Wikipedia,\"></span><a href=\"/wiki/Wikipedia:Portal\" title=\"Wikipedia:Portal\">Portales</a><span data-mw-comment-end=\"h-Portales-Bienvenidos_a_Wikipedia,\"></span></span></h2><!--__DTELLIPSISBUTTON__{\"editable\":false,\"threadItem\":{\"headingLevel\":2,\"name\":\"h-\",\"type\":\"heading\",\"level\":0,\"id\":\"h-Portales-Bienvenidos_a_Wikipedia,\",\"replies\":[]}}--></div>\n",
            "<div style=\"font-size: 89%; padding-bottom:.2em; padding-top:.2em;\">\n",
            "<figure class=\"mw-halign-right noviewer\" typeof=\"mw:File\"><a href=\"/wiki/Archivo:Nuvola_apps_package_graphics.svg\" class=\"mw-file-description\" title=\"Artes\"><img alt=\"Artes\" src=\"//upload.wikimedia.org/wikipedia/commons/thumb/c/c3/Nuvola_apps_package_graphics.svg/20px-Nuvola_apps_package_graphics.svg.png\" decoding=\"async\" width=\"20\" height=\"20\" class=\"mw-file-element\" srcset=\"//upload.wikimedia.org/wikipedia/commons/thumb/c/c3/Nuvola_apps_package_graphics.svg/30px-Nuvola_apps_package_graphics.svg.png 1.5x, //upload.wikimedia.org/wikipedia/commons/thumb/c/c3/Nuvola_apps_package_graphics.svg/40px-Nuvola_apps_package_graphics.svg.png 2x\" data-file-width=\"128\" data-file-height=\"128\"/></a><figcaption>Artes</figcaption></figure>\n",
            "<p><b><a href=\"/wiki/Portal:Arte\" title=\"Portal:Arte\">Artes</a></b>: \n",
            "<a href=\"/wiki/Portal:Arquitectura\" title=\"Portal:Arquitectura\">Arquitectura</a> – \n",
            "<a href=\"/wiki/Portal:Cine\" title=\"Portal:Cine\">Cine</a> – \n",
            "<a href=\"/wiki/Portal:Danza\" title=\"Portal:Danza\">Danza</a> –\n",
            "<a href=\"/wiki/Portal:Literatura\" title=\"Portal:Literatura\">Literatura</a> – \n",
            "<a href=\"/wiki/Portal:M%C3%BAsica\" title=\"Portal:Música\">Música</a> – \n",
            "<a href=\"/wiki/Portal:M%C3%BAsica_cl%C3%A1sica\" title=\"Portal:Música clásica\">Música clásica</a> – \n",
            "<a href=\"/wiki/Portal:Pintura\" title=\"Portal:Pintura\">Pintura</a> – \n",
            "<a href=\"/wiki/Portal:Teatro\" title=\"Portal:Teatro\">Teatro</a>\n",
            "</p>\n",
            "</div>\n",
            "<div style=\"border-top: 1px dotted #c088fe; font-size: 89%; padding-bottom:.2em; padding-top:.2em;\">\n",
            "<figure class=\"mw-halign-right noviewer\" typeof=\"mw:File\"><a href=\"/wiki/Archivo:Sciences_humaines.svg\" class=\"mw-file-description\" title=\"Ciencias sociales\"><img alt=\"Ciencias sociales\" src=\"//upload.wikimedia.org/wikipedia/commons/thumb/3/3f/Sciences_humaines.svg/20px-Sciences_humaines.svg.png\" decoding=\"async\" width=\"20\" height=\"20\" class=\"mw-file-element\" srcset=\"//upload.wikimedia.org/wikipedia/commons/thumb/3/3f/Sciences_humaines.svg/30px-Sciences_humaines.svg.png 1.5x, //upload.wikimedia.org/wikipedia/commons/thumb/3/3f/Sciences_humaines.svg/40px-Sciences_humaines.svg.png 2x\" data-file-width=\"256\" data-file-height=\"256\"/></a><figcaption>Ciencias sociales</figcaption></figure>\n",
            "<p><b><a href=\"/wiki/Portal:Ciencias_humanas_y_sociales\" title=\"Portal:Ciencias humanas y sociales\">Ciencias sociales</a></b>:\n",
            "<a href=\"/wiki/Portal:Comunicaci%C3%B3n\" title=\"Portal:Comunicación\">Comunicación</a> –\n",
            "<a href=\"/wiki/Portal:Deporte\" title=\"Portal:Deporte\">Deporte</a> –\n",
            "<a href=\"/wiki/Portal:Derecho\" title=\"Portal:Derecho\">Derecho</a> – \n",
            "<a href=\"/wiki/Portal:Econom%C3%ADa\" title=\"Portal:Economía\">Economía</a> –\n",
            "<a href=\"/wiki/Portal:Filosof%C3%ADa\" title=\"Portal:Filosofía\">Filosofía</a> – \n",
            "<a href=\"/wiki/Portal:Ling%C3%BC%C3%ADstica\" title=\"Portal:Lingüística\">Lingüística</a> – \n",
            "<a href=\"/wiki/Portal:Psicolog%C3%ADa\" title=\"Portal:Psicología\">Psicología</a> – \n",
            "<a href=\"/wiki/Portal:Sociolog%C3%ADa\" title=\"Portal:Sociología\">Sociología</a> \n",
            "</p>\n",
            "</div>\n",
            "<div style=\"border-top: 1px dotted #c088fe; font-size: 89%; padding-bottom:.2em; padding-top:.2em;\">\n",
            "<figure class=\"mw-halign-right noviewer\" typeof=\"mw:File\"><a href=\"/wiki/Archivo:Science-symbol-2.svg\" class=\"mw-file-description\" title=\"Ciencias naturales\"><img alt=\"Ciencias naturales\" src=\"//upload.wikimedia.org/wikipedia/commons/thumb/7/75/Science-symbol-2.svg/20px-Science-symbol-2.svg.png\" decoding=\"async\" width=\"20\" height=\"20\" class=\"mw-file-element\" srcset=\"//upload.wikimedia.org/wikipedia/commons/thumb/7/75/Science-symbol-2.svg/30px-Science-symbol-2.svg.png 1.5x, //upload.wikimedia.org/wikipedia/commons/thumb/7/75/Science-symbol-2.svg/40px-Science-symbol-2.svg.png 2x\" data-file-width=\"87\" data-file-height=\"87\"/></a><figcaption>Ciencias naturales</figcaption></figure>\n",
            "<p><b><a href=\"/wiki/Portal:Ciencias_naturales\" title=\"Portal:Ciencias naturales\">Ciencias naturales</a></b>: \n",
            "<a href=\"/wiki/Portal:Astronom%C3%ADa\" title=\"Portal:Astronomía\">Astronomía</a> – \n",
            "<a href=\"/wiki/Portal:Biolog%C3%ADa\" title=\"Portal:Biología\">Biología</a> – \n",
            "<a href=\"/wiki/Portal:Bot%C3%A1nica\" title=\"Portal:Botánica\">Botánica</a> – \n",
            "<a href=\"/wiki/Portal:F%C3%ADsica\" title=\"Portal:Física\">Física</a> – \n",
            "<a href=\"/wiki/Portal:Medicina\" title=\"Portal:Medicina\">Medicina</a> – \n",
            "<a href=\"/wiki/Portal:Matem%C3%A1tica\" title=\"Portal:Matemática\">Matemática</a> – \n",
            "<a href=\"/wiki/Portal:Qu%C3%ADmica\" title=\"Portal:Química\">Química</a> \n",
            "</p>\n",
            "</div>\n",
            "<div style=\"border-top: 1px dotted #c088fe; font-size: 89%; padding-bottom:.2em; padding-top:.2em;\">\n",
            "<figure class=\"mw-halign-right noviewer\" typeof=\"mw:File\"><a href=\"/wiki/Archivo:Ambox_globe.svg\" class=\"mw-file-description\" title=\"Geografía\"><img alt=\"Geografía\" src=\"//upload.wikimedia.org/wikipedia/commons/thumb/e/e2/Ambox_globe.svg/20px-Ambox_globe.svg.png\" decoding=\"async\" width=\"20\" height=\"20\" class=\"mw-file-element\" srcset=\"//upload.wikimedia.org/wikipedia/commons/thumb/e/e2/Ambox_globe.svg/30px-Ambox_globe.svg.png 1.5x, //upload.wikimedia.org/wikipedia/commons/thumb/e/e2/Ambox_globe.svg/40px-Ambox_globe.svg.png 2x\" data-file-width=\"512\" data-file-height=\"512\"/></a><figcaption>Geografía</figcaption></figure>\n",
            "<p><b><a href=\"/wiki/Portal:Geograf%C3%ADa\" title=\"Portal:Geografía\">Geografía</a></b>: \n",
            "<a href=\"/wiki/Portal:%C3%81frica\" title=\"Portal:África\">África</a> – \n",
            "<a href=\"/wiki/Portal:Am%C3%A9rica\" title=\"Portal:América\">América</a> – \n",
            "<a href=\"/wiki/Portal:Ant%C3%A1rtida\" title=\"Portal:Antártida\">Antártida</a> –\n",
            "<a href=\"/wiki/Portal:Asia\" title=\"Portal:Asia\">Asia</a> – \n",
            "<a href=\"/wiki/Portal:Europa\" title=\"Portal:Europa\">Europa</a> – \n",
            "<a href=\"/wiki/Portal:Ocean%C3%ADa\" title=\"Portal:Oceanía\">Oceanía</a> – \n",
            "<a href=\"/wiki/Portal:Pa%C3%ADses\" title=\"Portal:Países\">Países</a>\n",
            "</p>\n",
            "</div>\n",
            "<div style=\"border-top: 1px dotted #c088fe; font-size: 89%; padding-bottom:.2em; padding-top:.2em;\">\n",
            "<figure class=\"mw-halign-right noviewer\" typeof=\"mw:File\"><a href=\"/wiki/Archivo:History2.svg\" class=\"mw-file-description\" title=\"Historia\"><img alt=\"Historia\" src=\"//upload.wikimedia.org/wikipedia/commons/thumb/2/29/History2.svg/20px-History2.svg.png\" decoding=\"async\" width=\"20\" height=\"22\" class=\"mw-file-element\" srcset=\"//upload.wikimedia.org/wikipedia/commons/thumb/2/29/History2.svg/30px-History2.svg.png 1.5x, //upload.wikimedia.org/wikipedia/commons/thumb/2/29/History2.svg/40px-History2.svg.png 2x\" data-file-width=\"30\" data-file-height=\"33\"/></a><figcaption>Historia</figcaption></figure>\n",
            "<p><b><a href=\"/wiki/Portal:Historia\" title=\"Portal:Historia\">Historia</a></b>: \n",
            "<a href=\"/wiki/Portal:Prehistoria\" title=\"Portal:Prehistoria\">Prehistoria</a> – \n",
            "<a href=\"/wiki/Portal:Edad_Antigua\" title=\"Portal:Edad Antigua\">Edad Antigua</a> – \n",
            "<a href=\"/wiki/Portal:Edad_Media\" title=\"Portal:Edad Media\">Edad Media</a> – \n",
            "<a href=\"/wiki/Portal:Edad_Moderna\" title=\"Portal:Edad Moderna\">Edad Moderna</a> – \n",
            "<a href=\"/wiki/Portal:Edad_Contempor%C3%A1nea\" title=\"Portal:Edad Contemporánea\">Edad Contemporánea</a>\n",
            "</p>\n",
            "</div>\n",
            "<div style=\"border-top: 1px dotted #c088fe; font-size: 89%; padding-bottom:.2em; padding-top:.2em;\">\n",
            "<figure class=\"mw-halign-right noviewer\" typeof=\"mw:File\"><a href=\"/wiki/Archivo:Vote3_final.png\" class=\"mw-file-description\" title=\"Política\"><img alt=\"Política\" src=\"//upload.wikimedia.org/wikipedia/commons/thumb/9/94/Vote3_final.png/20px-Vote3_final.png\" decoding=\"async\" width=\"20\" height=\"20\" class=\"mw-file-element\" srcset=\"//upload.wikimedia.org/wikipedia/commons/thumb/9/94/Vote3_final.png/30px-Vote3_final.png 1.5x, //upload.wikimedia.org/wikipedia/commons/thumb/9/94/Vote3_final.png/40px-Vote3_final.png 2x\" data-file-width=\"146\" data-file-height=\"146\"/></a><figcaption>Política</figcaption></figure>\n",
            "<p><b><a href=\"/wiki/Portal:Pol%C3%ADtica\" title=\"Portal:Política\">Política</a></b>:\n",
            "<a href=\"/wiki/Portal:Feminismo\" title=\"Portal:Feminismo\">Feminismo</a> – \n",
            "<a href=\"/wiki/Portal:LGBT\" title=\"Portal:LGBT\">LGBT</a> – \n",
            "<a href=\"/wiki/Portal:Marxismo\" title=\"Portal:Marxismo\">Marxismo</a>  – \n",
            "<a href=\"/wiki/Portal:Nacionalismo\" title=\"Portal:Nacionalismo\">Nacionalismo</a> –\n",
            "<a href=\"/wiki/Portal:Socialismo\" title=\"Portal:Socialismo\">Socialismo</a> – \n",
            "<a href=\"/wiki/Portal:Terrorismo\" title=\"Portal:Terrorismo\">Terrorismo</a> \n",
            "</p>\n",
            "</div>\n",
            "<div style=\"border-top: 1px dotted #c088fe; font-size: 89%; padding-bottom:.2em; padding-top:.2em;\">\n",
            "<figure class=\"mw-halign-right noviewer\" typeof=\"mw:File\"><a href=\"/wiki/Archivo:P_religion_world.svg\" class=\"mw-file-description\" title=\"Religión\"><img alt=\"Religión\" src=\"//upload.wikimedia.org/wikipedia/commons/thumb/2/28/P_religion_world.svg/20px-P_religion_world.svg.png\" decoding=\"async\" width=\"20\" height=\"18\" class=\"mw-file-element\" srcset=\"//upload.wikimedia.org/wikipedia/commons/thumb/2/28/P_religion_world.svg/30px-P_religion_world.svg.png 1.5x, //upload.wikimedia.org/wikipedia/commons/thumb/2/28/P_religion_world.svg/40px-P_religion_world.svg.png 2x\" data-file-width=\"400\" data-file-height=\"360\"/></a><figcaption>Religión</figcaption></figure>\n",
            "<p><b><a href=\"/wiki/Portal:Religi%C3%B3n\" title=\"Portal:Religión\">Religión</a></b>:\n",
            "<a href=\"/wiki/Portal:Ate%C3%ADsmo\" title=\"Portal:Ateísmo\">Ateísmo</a> – \n",
            "<a href=\"/wiki/Portal:Budismo\" title=\"Portal:Budismo\">Budismo</a> – \n",
            "<a href=\"/wiki/Portal:Cristianismo\" title=\"Portal:Cristianismo\">Cristianismo</a>  – \n",
            "<a href=\"/wiki/Portal:Iglesia_cat%C3%B3lica\" title=\"Portal:Iglesia católica\">Iglesia católica</a> –\n",
            "<a href=\"/wiki/Portal:Islam\" title=\"Portal:Islam\">Islam</a> – \n",
            "<a href=\"/wiki/Portal:Juda%C3%ADsmo\" title=\"Portal:Judaísmo\">Judaísmo</a> –\n",
            "<a href=\"/wiki/Portal:Mitolog%C3%ADa\" title=\"Portal:Mitología\">Mitología</a>\n",
            "</p>\n",
            "</div>\n",
            "<div style=\"border-top: 1px dotted #c088fe; font-size: 89%; padding-bottom:.2em; padding-top:.2em;\">\n",
            "<figure class=\"mw-halign-right noviewer\" typeof=\"mw:File\"><a href=\"/wiki/Archivo:Tecno-rueda.svg\" class=\"mw-file-description\" title=\"Tecnologías\"><img alt=\"Tecnologías\" src=\"//upload.wikimedia.org/wikipedia/commons/thumb/1/1f/Tecno-rueda.svg/20px-Tecno-rueda.svg.png\" decoding=\"async\" width=\"20\" height=\"20\" class=\"mw-file-element\" srcset=\"//upload.wikimedia.org/wikipedia/commons/thumb/1/1f/Tecno-rueda.svg/30px-Tecno-rueda.svg.png 1.5x, //upload.wikimedia.org/wikipedia/commons/thumb/1/1f/Tecno-rueda.svg/40px-Tecno-rueda.svg.png 2x\" data-file-width=\"48\" data-file-height=\"48\"/></a><figcaption>Tecnologías</figcaption></figure>\n",
            "<p><b><a href=\"/wiki/Portal:Tecnolog%C3%ADa\" title=\"Portal:Tecnología\">Tecnologías</a></b>: \n",
            "<a href=\"/wiki/Portal:Biotecnolog%C3%ADa\" title=\"Portal:Biotecnología\">Biotecnología</a> – \n",
            "<a href=\"/wiki/Portal:Exploraci%C3%B3n_espacial\" title=\"Portal:Exploración espacial\">Exploración espacial</a> – \n",
            "<a href=\"/wiki/Portal:Inform%C3%A1tica\" title=\"Portal:Informática\">Informática</a> – \n",
            "<a href=\"/wiki/Portal:Ingenier%C3%ADa\" title=\"Portal:Ingeniería\">Ingeniería</a> – \n",
            "<a href=\"/wiki/Portal:Software_libre\" title=\"Portal:Software libre\">Software libre</a> – \n",
            "<a href=\"/wiki/Portal:Videojuegos\" title=\"Portal:Videojuegos\">Videojuegos</a>\n",
            "</p>\n",
            "</div>\n",
            "<div style=\"clear: both;\"></div>\n",
            "</div>\n",
            "</div>\n",
            "<div class=\"main-wrapper-column\">\n",
            "<link rel=\"mw-deduplicated-inline-style\" href=\"mw-data:TemplateStyles:r144107018\">\n",
            "<div id=\"main-cur\" class=\"main-box\"><div class=\"mw-heading mw-heading2 ext-discussiontools-init-section\"><h2 class=\"main-header main-box-header\"><span class=\"mw-headline\" id=\"Actualidad\" data-mw-thread-id=\"h-Actualidad-Bienvenidos_a_Wikipedia,\"><span data-mw-comment-start=\"\" id=\"h-Actualidad-Bienvenidos_a_Wikipedia,\"></span><a href=\"/wiki/Portal:Actualidad\" title=\"Portal:Actualidad\">Actualidad</a><span data-mw-comment-end=\"h-Actualidad-Bienvenidos_a_Wikipedia,\"></span></span></h2><!--__DTELLIPSISBUTTON__{\"editable\":false,\"threadItem\":{\"headingLevel\":2,\"name\":\"h-\",\"type\":\"heading\",\"level\":0,\"id\":\"h-Actualidad-Bienvenidos_a_Wikipedia,\",\"replies\":[]}}--></div>\n",
            "<ul><li><a href=\"/wiki/Invasi%C3%B3n_rusa_de_Ucrania\" title=\"Invasión rusa de Ucrania\">Invasión rusa de Ucrania</a></li>\n",
            "<li><a href=\"/wiki/Conflicto_israel%C3%AD-palestino_de_octubre_de_2023\" title=\"Conflicto israelí-palestino de octubre de 2023\">Conflicto israelí-palestino</a></li>\n",
            "<li><a href=\"/wiki/Crisis_de_N%C3%ADger_de_2023\" title=\"Crisis de Níger de 2023\">Crisis de Níger</a></li>\n",
            "<li>26 de octubre: <a href=\"/wiki/Miss_Internacional_2023\" title=\"Miss Internacional 2023\">Miss Internacional</a></li>\n",
            "<li>25 de octubre: <a href=\"/wiki/Miss_Grand_Internacional_2023\" title=\"Miss Grand Internacional 2023\">Miss Grand Internacional</a></li>\n",
            "<li>24-29 de octubre: <a href=\"/wiki/WTA_Elite_Trophy_2023\" title=\"WTA Elite Trophy 2023\">WTA Elite Trophy</a></li>\n",
            "<li>23-29 de octubre: Torneos de <a href=\"/wiki/Torneo_de_Basilea_2023\" title=\"Torneo de Basilea 2023\">Basilea</a> y <a href=\"/wiki/Torneo_de_Viena_2023\" title=\"Torneo de Viena 2023\">Viena</a> de tenis</li>\n",
            "<li>22-29 de octubre: <a href=\"/wiki/Abierto_de_Irlanda_del_Norte_de_2023\" title=\"Abierto de Irlanda del Norte de 2023\">Abierto de Irlanda del Norte</a> de snooker</li>\n",
            "<li>20 de octubre-5 de noviembre: <a href=\"/wiki/Juegos_Panamericanos_de_2023\" title=\"Juegos Panamericanos de 2023\">Juegos Panamericanos</a></li>\n",
            "<li>20 de octubre-4 de noviembre: <a href=\"/wiki/WXV_1_2023\" title=\"WXV 1 2023\">WXV 1</a> de rugby femenino</li>\n",
            "<li>10 de octubre-19 de noviembre: <a href=\"/wiki/Campeonato_Mundial_de_League_of_Legends_2023\" title=\"Campeonato Mundial de League of Legends 2023\">Campeonato Mundial de League of Legends</a></li>\n",
            "<li>8 de septiembre-28 de octubre: <a href=\"/wiki/Copa_Mundial_de_Rugby_de_2023\" title=\"Copa Mundial de Rugby de 2023\">Copa Mundial de Rugby</a></li></ul>\n",
            "<div style=\"margin-top: .9em; margin-bottom: .9em;\">\n",
            "<dl><dt><a href=\"/wiki/Anexo:Fallecidos_en_2023\" class=\"mw-redirect\" title=\"Anexo:Fallecidos en 2023\">Fallecimientos</a></dt></dl>\n",
            "<ul><li>25 de octubre: <a href=\"/wiki/Fernando_Fern%C3%A1ndez_Tapias\" title=\"Fernando Fernández Tapias\">Fernando Fernández Tapias</a>, empresario español (84)</li>\n",
            "<li>25 de octubre: <a href=\"/wiki/Mariana_Moyano\" title=\"Mariana Moyano\">Mariana Moyano</a>, periodista argentina (54)</li>\n",
            "<li>25 de octubre: <a href=\"/wiki/Christiane_Collange\" title=\"Christiane Collange\">Christiane Collange</a>, periodista francesa (92)</li>\n",
            "<li>25 de octubre: <a href=\"/wiki/Wanda_P%C3%B3%C5%82tawska\" title=\"Wanda Półtawska\">Wanda Półtawska</a>, psiquiatra polaca (102)</li>\n",
            "<li>24 de octubre: <a href=\"/wiki/Mart%C3%ADn_J%C3%A1uregui\" title=\"Martín Jáuregui\">Martín Jáuregui</a>, periodista argentino (59)</li></ul>\n",
            "<figure class=\"mw-halign-right\" typeof=\"mw:File\"><a href=\"/wiki/Archivo:RichardRoundtree.jpg\" class=\"mw-file-description\" title=\"El actor estadounidense Richard Roundtree\"><img alt=\"El actor estadounidense Richard Roundtree\" src=\"//upload.wikimedia.org/wikipedia/commons/thumb/c/c5/RichardRoundtree.jpg/120px-RichardRoundtree.jpg\" decoding=\"async\" width=\"120\" height=\"176\" class=\"mw-file-element\" srcset=\"//upload.wikimedia.org/wikipedia/commons/thumb/c/c5/RichardRoundtree.jpg/180px-RichardRoundtree.jpg 1.5x, //upload.wikimedia.org/wikipedia/commons/thumb/c/c5/RichardRoundtree.jpg/240px-RichardRoundtree.jpg 2x\" data-file-width=\"2034\" data-file-height=\"2991\"/></a><figcaption>El actor estadounidense Richard Roundtree</figcaption></figure>\n",
            "<ul><li>24 de octubre: <a href=\"/wiki/Richard_Roundtree\" title=\"Richard Roundtree\">Richard Roundtree</a>, actor estadounidense (81; <i>en la imagen superior</i>)</li>\n",
            "<li>24 de octubre: <a href=\"/wiki/Ricardo_Iorio\" title=\"Ricardo Iorio\">Ricardo Iorio</a>, músico argentino (61)</li>\n",
            "<li>23 de octubre: <a href=\"/wiki/Agust%C3%AD_Obiol\" title=\"Agustí Obiol\">Agustí Obiol</a>, arquitecto español (70)</li>\n",
            "<li>23 de octubre: <a href=\"/wiki/Robert_Eshun\" title=\"Robert Eshun\">Robert Eshun</a>, futbolista ghanés (48)</li>\n",
            "<li>23 de octubre: <a href=\"/wiki/Bernard_Morel\" title=\"Bernard Morel\">Bernard Morel</a>, esgrimista francés (98)</li></ul>\n",
            "<figure class=\"mw-halign-right\" typeof=\"mw:File\"><a href=\"/wiki/Archivo:Ida_Applebroog_(2017).jpg\" class=\"mw-file-description\" title=\"La artista estadounidense Ida Applebroog\"><img alt=\"La artista estadounidense Ida Applebroog\" src=\"//upload.wikimedia.org/wikipedia/commons/thumb/0/04/Ida_Applebroog_%282017%29.jpg/120px-Ida_Applebroog_%282017%29.jpg\" decoding=\"async\" width=\"120\" height=\"160\" class=\"mw-file-element\" srcset=\"//upload.wikimedia.org/wikipedia/commons/thumb/0/04/Ida_Applebroog_%282017%29.jpg/180px-Ida_Applebroog_%282017%29.jpg 1.5x, //upload.wikimedia.org/wikipedia/commons/thumb/0/04/Ida_Applebroog_%282017%29.jpg/240px-Ida_Applebroog_%282017%29.jpg 2x\" data-file-width=\"652\" data-file-height=\"872\"/></a><figcaption>La artista estadounidense Ida Applebroog</figcaption></figure>\n",
            "<ul><li>22 de octubre: <a href=\"/wiki/Ida_Applebroog\" title=\"Ida Applebroog\">Ida Applebroog</a>, artista estadounidense (93; <i>en la imagen inferior</i>)</li>\n",
            "<li>22 de octubre: <a href=\"/wiki/Johnny_Allon\" title=\"Johnny Allon\">Johnny Allon</a>, cantante argentino (82)</li>\n",
            "<li>22 de octubre: <a href=\"/wiki/Mario_Ayala\" title=\"Mario Ayala\">Mario Ayala</a>, futbolista mexicano (81)</li>\n",
            "<li>22 de octubre: <a href=\"/wiki/Antonio_Scopelliti\" title=\"Antonio Scopelliti\">Antonio Scopelliti</a>, obispo católico italiano (84)</li>\n",
            "<li>22 de octubre: <a href=\"/wiki/Jorge_Savia\" title=\"Jorge Savia\">Jorge Savia</a>, periodista deportivo y presentador uruguayo (75)</li>\n",
            "<li>22 de octubre: <a href=\"/wiki/Enrique_Maluenda\" title=\"Enrique Maluenda\">Enrique Maluenda</a>, presentador de televisión chileno (88)</li></ul>\n",
            "</div>\n",
            "<dl><dt>Conmemoraciones y fiestas</dt></dl>\n",
            "<ul><li>27 de octubre: Día Nacional de <a href=\"/wiki/Turkmenist%C3%A1n\" title=\"Turkmenistán\">Turkmenistán</a></li>\n",
            "<li>27 de octubre: Día Nacional de <a href=\"/wiki/San_Vicente_y_las_Granadinas\" title=\"San Vicente y las Granadinas\">San Vicente y las Granadinas</a></li>\n",
            "<li>27 de octubre: Día Mundial del Patrimonio <a href=\"/wiki/Audiovisual\" title=\"Audiovisual\">Audiovisual</a></li>\n",
            "<li>26 de octubre: Día Nacional de <a href=\"/wiki/Austria\" title=\"Austria\">Austria</a></li></ul>\n",
            "<p><br/>\n",
            "<b>Véase también:</b> <a href=\"/wiki/Categor%C3%ADa:Actualidad\" title=\"Categoría:Actualidad\">Categoría:Actualidad</a>, <a href=\"/wiki/2023\" title=\"2023\">2023</a>, <a href=\"/wiki/Categor%C3%ADa:2023\" title=\"Categoría:2023\">Categoría:2023</a>\n",
            "</p>\n",
            "<div style=\"clear: both;\"></div>\n",
            "<div class=\"main-footer\"><div class=\"main-footer-actions main-plainlist nomobile\">\n",
            "<ul><li><a href=\"/wiki/Portal:Actualidad\" title=\"Portal:Actualidad\"><span class=\"mw-ui-button\"> Otros eventos actuales </span></a></li></ul>\n",
            "</div><div id=\"mw-customcollapsible-cur\" class=\"main-footer-menu mw-collapsible mw-collapsed nomobile\">\n",
            "<div class=\"main-footer-menuToggle mw-collapsible-toggle mw-customtoggle-main-cur\"><span typeof=\"mw:File\"><span title=\"Acciones adicionales\"><img alt=\"Acciones adicionales\" src=\"//upload.wikimedia.org/wikipedia/commons/thumb/b/b3/OOjs_UI_icon_ellipsis.svg/20px-OOjs_UI_icon_ellipsis.svg.png\" decoding=\"async\" width=\"20\" height=\"20\" class=\"mw-file-element\" srcset=\"//upload.wikimedia.org/wikipedia/commons/thumb/b/b3/OOjs_UI_icon_ellipsis.svg/30px-OOjs_UI_icon_ellipsis.svg.png 1.5x, //upload.wikimedia.org/wikipedia/commons/thumb/b/b3/OOjs_UI_icon_ellipsis.svg/40px-OOjs_UI_icon_ellipsis.svg.png 2x\" data-file-width=\"20\" data-file-height=\"20\"/></span></span></div>\n",
            "<div class=\"main-footer-menuDropdown mw-collapsible-content main-plainlist\">\n",
            "<ul><li><a href=\"/wiki/Categor%C3%ADa:Actualidad\" title=\"Categoría:Actualidad\"><span class=\"mw-ui-button mw-ui-quiet\"> Categoría de actualidad </span></a></li>\n",
            "<li><a href=\"/wiki/2023\" title=\"2023\"><span class=\"mw-ui-button mw-ui-quiet\"> Año 2023 </span></a></li>\n",
            "<li><a href=\"/wiki/Categor%C3%ADa:2023\" title=\"Categoría:2023\"><span class=\"mw-ui-button mw-ui-quiet\"> Categoría 2023 </span></a></li>\n",
            "<li><a href=\"/wiki/Plantilla:Portada:Actualidad\" title=\"Plantilla:Portada:Actualidad\"><span class=\"mw-ui-button mw-ui-quiet\"> Plantilla </span></a></li></ul>\n",
            "</div></div></div>\n",
            "</div>\n",
            "<link rel=\"mw-deduplicated-inline-style\" href=\"mw-data:TemplateStyles:r144107018\">\n",
            "<div id=\"main-itd\" class=\"main-box\"><div id=\"Efemérides\" class=\"main-box-section\">Efemérides</div><div class=\"mw-heading mw-heading2 ext-discussiontools-init-section\"><h2 class=\"main-header main-box-header\"><span class=\"mw-headline\" id=\"26_de_octubre\" data-mw-thread-id=\"h-26_de_octubre-Bienvenidos_a_Wikipedia,\"><span data-mw-comment-start=\"\" id=\"h-26_de_octubre-Bienvenidos_a_Wikipedia,\"></span><a href=\"/wiki/26_de_octubre\" title=\"26 de octubre\">26 de octubre</a><span data-mw-comment-end=\"h-26_de_octubre-Bienvenidos_a_Wikipedia,\"></span></span></h2><!--__DTELLIPSISBUTTON__{\"editable\":false,\"threadItem\":{\"headingLevel\":2,\"name\":\"h-\",\"type\":\"heading\",\"level\":0,\"id\":\"h-26_de_octubre-Bienvenidos_a_Wikipedia,\",\"replies\":[]}}--></div>\n",
            "<figure class=\"mw-halign-right\" typeof=\"mw:File\"><a href=\"/wiki/Archivo:Seth_MacFarlane_2012_cropped_and_retouched.jpg\" class=\"mw-file-description\"><img src=\"//upload.wikimedia.org/wikipedia/commons/thumb/a/a6/Seth_MacFarlane_2012_cropped_and_retouched.jpg/120px-Seth_MacFarlane_2012_cropped_and_retouched.jpg\" decoding=\"async\" width=\"120\" height=\"156\" class=\"mw-file-element\" srcset=\"//upload.wikimedia.org/wikipedia/commons/thumb/a/a6/Seth_MacFarlane_2012_cropped_and_retouched.jpg/180px-Seth_MacFarlane_2012_cropped_and_retouched.jpg 1.5x, //upload.wikimedia.org/wikipedia/commons/thumb/a/a6/Seth_MacFarlane_2012_cropped_and_retouched.jpg/240px-Seth_MacFarlane_2012_cropped_and_retouched.jpg 2x\" data-file-width=\"1588\" data-file-height=\"2059\"/></a><figcaption></figcaption></figure>\n",
            "<ul><li><b><a href=\"/wiki/1923\" title=\"1923\">1923</a></b> <i>(hace 100 años)</i>: Fallece <b><a href=\"/wiki/Charles_Proteus_Steinmetz\" title=\"Charles Proteus Steinmetz\">Charles Proteus Steinmetz</a></b>, matemático e ingeniero eléctrico germanoestadounidense (n. 1865).</li>\n",
            "<li><b><a href=\"/wiki/1973\" title=\"1973\">1973</a></b> <i>(hace 50 años)</i>: Nace <b><a href=\"/wiki/Jana_%C4%8Cernochov%C3%A1\" title=\"Jana Černochová\">Jana Černochová</a></b>, política checa.</li>\n",
            "<li><b><a href=\"/wiki/1973\" title=\"1973\">1973</a></b> <i>(hace 50 años)</i>: Fallece <b><a href=\"/wiki/Semi%C3%B3n_Budionni\" title=\"Semión Budionni\">Semión Budionni</a></b>, militar ruso (n. 1883).</li>\n",
            "<li><b><a href=\"/wiki/1973\" title=\"1973\">1973</a></b> <i>(hace 50 años)</i>: Nace <b><a href=\"/wiki/Seth_MacFarlane\" title=\"Seth MacFarlane\">Seth MacFarlane</a></b>, animador, cineasta y músico estadounidense <i>(en la imagen)</i>.</li>\n",
            "<li><b><a href=\"/wiki/1998\" title=\"1998\">1998</a></b> <i>(hace 25 años)</i>: En Brasil, finaliza el <b><a href=\"/wiki/Conflicto_lim%C3%ADtrofe_entre_el_Ecuador_y_el_Per%C3%BA\" title=\"Conflicto limítrofe entre el Ecuador y el Perú\">conflicto limítrofe entre el Ecuador y el Perú</a></b> con la firma del Acta de Brasilia.</li></ul>\n",
            "<div style=\"clear: both;\"></div>\n",
            "<div class=\"main-footer\"><div class=\"main-footer-actions main-plainlist nomobile\">\n",
            "<ul><li><a href=\"/wiki/25_de_octubre\" title=\"25 de octubre\"><span class=\"mw-ui-button mw-ui-quiet\"> 25 de octubre </span></a></li>\n",
            "<li><a href=\"/wiki/26_de_octubre\" title=\"26 de octubre\"><span class=\"mw-ui-button\"> 26 de octubre </span></a></li>\n",
            "<li><a href=\"/wiki/27_de_octubre\" title=\"27 de octubre\"><span class=\"mw-ui-button mw-ui-quiet\"> 27 de octubre </span></a></li></ul>\n",
            "</div><div id=\"mw-customcollapsible-itd\" class=\"main-footer-menu mw-collapsible mw-collapsed nomobile\">\n",
            "<div class=\"main-footer-menuToggle mw-collapsible-toggle mw-customtoggle-main-itd\"><span typeof=\"mw:File\"><span title=\"Acciones adicionales\"><img alt=\"Acciones adicionales\" src=\"//upload.wikimedia.org/wikipedia/commons/thumb/b/b3/OOjs_UI_icon_ellipsis.svg/20px-OOjs_UI_icon_ellipsis.svg.png\" decoding=\"async\" width=\"20\" height=\"20\" class=\"mw-file-element\" srcset=\"//upload.wikimedia.org/wikipedia/commons/thumb/b/b3/OOjs_UI_icon_ellipsis.svg/30px-OOjs_UI_icon_ellipsis.svg.png 1.5x, //upload.wikimedia.org/wikipedia/commons/thumb/b/b3/OOjs_UI_icon_ellipsis.svg/40px-OOjs_UI_icon_ellipsis.svg.png 2x\" data-file-width=\"20\" data-file-height=\"20\"/></span></span></div>\n",
            "<div class=\"main-footer-menuDropdown mw-collapsible-content main-plainlist\">\n",
            "<ul><li><a href=\"/wiki/Plantilla:Efem%C3%A9rides\" title=\"Plantilla:Efemérides\"><span class=\"mw-ui-button mw-ui-quiet\"> Plantilla </span></a></li></ul>\n",
            "</div></div></div>\n",
            "</div>\n",
            "<link rel=\"mw-deduplicated-inline-style\" href=\"mw-data:TemplateStyles:r144107018\">\n",
            "<div id=\"main-wmfsp\" class=\"main-box\"><div class=\"mw-heading mw-heading2 ext-discussiontools-init-section\"><h2 class=\"main-header main-box-header\"><span id=\"Otros_proyectos_de_la_Fundaci.C3.B3n_Wikimedia\"></span><span class=\"mw-headline\" id=\"Otros_proyectos_de_la_Fundación_Wikimedia\" data-mw-thread-id=\"h-Otros_proyectos_de_la_Fundación_Wikimedia-Bienvenidos_a_Wikipedia,\"><span data-mw-comment-start=\"\" id=\"h-Otros_proyectos_de_la_Fundación_Wikimedia-Bienvenidos_a_Wikipedia,\"></span><a href=\"https://meta.wikimedia.org/wiki/Special:MyLanguage/Wikimedia_projects\" class=\"extiw\" title=\"meta:Special:MyLanguage/Wikimedia projects\">Otros proyectos</a> de la <a href=\"/wiki/Fundaci%C3%B3n_Wikimedia\" title=\"Fundación Wikimedia\">Fundación Wikimedia</a><span data-mw-comment-end=\"h-Otros_proyectos_de_la_Fundación_Wikimedia-Bienvenidos_a_Wikipedia,\"></span></span></h2><!--__DTELLIPSISBUTTON__{\"editable\":false,\"threadItem\":{\"headingLevel\":2,\"name\":\"h-\",\"type\":\"heading\",\"level\":0,\"id\":\"h-Otros_proyectos_de_la_Fundaci\\u00f3n_Wikimedia-Bienvenidos_a_Wikipedia,\",\"replies\":[]}}--></div>\n",
            "<table style=\"background:transparent; margin: 0 auto;\">\n",
            "\n",
            "<tbody><tr>\n",
            "<td style=\"padding: 8px;\"><figure class=\"mw-halign-center\" typeof=\"mw:File\"><a href=\"https://commons.wikimedia.org/wiki/Portada\" title=\"Wikimedia Commons\"><img alt=\"Wikimedia Commons\" src=\"//upload.wikimedia.org/wikipedia/commons/thumb/7/76/Notification-icon-Commons-logo.svg/30px-Notification-icon-Commons-logo.svg.png\" decoding=\"async\" width=\"30\" height=\"30\" class=\"mw-file-element\" srcset=\"//upload.wikimedia.org/wikipedia/commons/thumb/7/76/Notification-icon-Commons-logo.svg/45px-Notification-icon-Commons-logo.svg.png 1.5x, //upload.wikimedia.org/wikipedia/commons/thumb/7/76/Notification-icon-Commons-logo.svg/60px-Notification-icon-Commons-logo.svg.png 2x\" data-file-width=\"30\" data-file-height=\"30\"/></a><figcaption>Wikimedia Commons</figcaption></figure>\n",
            "</td>\n",
            "<td><b><a href=\"https://commons.wikimedia.org/wiki/Portada\" class=\"extiw\" title=\"commons:Portada\">Commons</a></b><br/><div style=\"font-size: 90%\">Imágenes y multimedia</div>\n",
            "</td>\n",
            "<td>\n",
            "</td>\n",
            "<td style=\"padding: 8px;\"><figure class=\"mw-halign-center\" typeof=\"mw:File\"><a href=\"https://es.wiktionary.org/wiki/Wikcionario:Portada\" title=\"Wikcionario\"><img alt=\"Wikcionario\" src=\"//upload.wikimedia.org/wikipedia/commons/thumb/a/ac/Notification-icon-Wiktionary-logo.svg/30px-Notification-icon-Wiktionary-logo.svg.png\" decoding=\"async\" width=\"30\" height=\"30\" class=\"mw-file-element\" srcset=\"//upload.wikimedia.org/wikipedia/commons/thumb/a/ac/Notification-icon-Wiktionary-logo.svg/45px-Notification-icon-Wiktionary-logo.svg.png 1.5x, //upload.wikimedia.org/wikipedia/commons/thumb/a/ac/Notification-icon-Wiktionary-logo.svg/60px-Notification-icon-Wiktionary-logo.svg.png 2x\" data-file-width=\"30\" data-file-height=\"30\"/></a><figcaption>Wikcionario</figcaption></figure>\n",
            "</td>\n",
            "<td><b><a href=\"https://es.wiktionary.org/wiki/Wikcionario:Portada\" class=\"extiw\" title=\"wikt:Wikcionario:Portada\">Wikcionario</a></b><br/><div style=\"font-size: 90%\">Diccionario libre</div>\n",
            "</td></tr>\n",
            "<tr>\n",
            "<td style=\"padding: 8px;\"><figure class=\"mw-halign-center\" typeof=\"mw:File\"><a href=\"https://www.wikidata.org/wiki/Wikidata:Portada\" title=\"Wikidata\"><img alt=\"Wikidata\" src=\"//upload.wikimedia.org/wikipedia/commons/thumb/6/67/Notification-icon-Wikidata-logo.svg/30px-Notification-icon-Wikidata-logo.svg.png\" decoding=\"async\" width=\"30\" height=\"30\" class=\"mw-file-element\" srcset=\"//upload.wikimedia.org/wikipedia/commons/thumb/6/67/Notification-icon-Wikidata-logo.svg/45px-Notification-icon-Wikidata-logo.svg.png 1.5x, //upload.wikimedia.org/wikipedia/commons/thumb/6/67/Notification-icon-Wikidata-logo.svg/60px-Notification-icon-Wikidata-logo.svg.png 2x\" data-file-width=\"30\" data-file-height=\"30\"/></a><figcaption>Wikidata</figcaption></figure>\n",
            "</td>\n",
            "<td><b><a href=\"https://www.wikidata.org/wiki/Wikidata:Portada\" class=\"extiw\" title=\"wikidata:Wikidata:Portada\">Wikidata</a></b><br/><div style=\"font-size: 90%\">Base de datos libre</div>\n",
            "</td>\n",
            "<td>\n",
            "</td>\n",
            "<td style=\"padding: 8px;\"><figure class=\"mw-halign-center\" typeof=\"mw:File\"><a href=\"https://es.wikibooks.org/wiki/Portada\" title=\"Wikilibros\"><img alt=\"Wikilibros\" src=\"//upload.wikimedia.org/wikipedia/commons/thumb/e/e0/Notification-icon-Wikibooks-logo.svg/30px-Notification-icon-Wikibooks-logo.svg.png\" decoding=\"async\" width=\"30\" height=\"30\" class=\"mw-file-element\" srcset=\"//upload.wikimedia.org/wikipedia/commons/thumb/e/e0/Notification-icon-Wikibooks-logo.svg/45px-Notification-icon-Wikibooks-logo.svg.png 1.5x, //upload.wikimedia.org/wikipedia/commons/thumb/e/e0/Notification-icon-Wikibooks-logo.svg/60px-Notification-icon-Wikibooks-logo.svg.png 2x\" data-file-width=\"30\" data-file-height=\"30\"/></a><figcaption>Wikilibros</figcaption></figure>\n",
            "</td>\n",
            "<td><b><a href=\"https://es.wikibooks.org/wiki/Portada\" class=\"extiw\" title=\"b:Portada\">Wikilibros</a></b><br/><div style=\"font-size: 90%\">Libros de texto y manuales</div>\n",
            "</td></tr>\n",
            "<tr>\n",
            "<td style=\"padding: 8px;\"><figure class=\"mw-halign-center\" typeof=\"mw:File\"><a href=\"https://es.wikinews.org/wiki/Portada\" title=\"Wikinoticias\"><img alt=\"Wikinoticias\" src=\"//upload.wikimedia.org/wikipedia/commons/thumb/5/57/Notification-icon-Wikinews-logo.svg/30px-Notification-icon-Wikinews-logo.svg.png\" decoding=\"async\" width=\"30\" height=\"30\" class=\"mw-file-element\" srcset=\"//upload.wikimedia.org/wikipedia/commons/thumb/5/57/Notification-icon-Wikinews-logo.svg/45px-Notification-icon-Wikinews-logo.svg.png 1.5x, //upload.wikimedia.org/wikipedia/commons/thumb/5/57/Notification-icon-Wikinews-logo.svg/60px-Notification-icon-Wikinews-logo.svg.png 2x\" data-file-width=\"30\" data-file-height=\"30\"/></a><figcaption>Wikinoticias</figcaption></figure>\n",
            "</td>\n",
            "<td><b><a href=\"https://es.wikinews.org/wiki/Portada\" class=\"extiw\" title=\"n:Portada\">Wikinoticias</a></b><br/><div style=\"font-size: 90%\">Noticias libres</div>\n",
            "</td>\n",
            "<td>\n",
            "</td>\n",
            "<td style=\"padding: 8px;\"><figure class=\"mw-halign-center\" typeof=\"mw:File\"><a href=\"https://es.wikiquote.org/wiki/Portada\" title=\"Wikiquote\"><img alt=\"Wikiquote\" src=\"//upload.wikimedia.org/wikipedia/commons/thumb/5/5a/Notification-icon-Wikiquote.svg/30px-Notification-icon-Wikiquote.svg.png\" decoding=\"async\" width=\"30\" height=\"30\" class=\"mw-file-element\" srcset=\"//upload.wikimedia.org/wikipedia/commons/thumb/5/5a/Notification-icon-Wikiquote.svg/45px-Notification-icon-Wikiquote.svg.png 1.5x, //upload.wikimedia.org/wikipedia/commons/thumb/5/5a/Notification-icon-Wikiquote.svg/60px-Notification-icon-Wikiquote.svg.png 2x\" data-file-width=\"30\" data-file-height=\"30\"/></a><figcaption>Wikiquote</figcaption></figure>\n",
            "</td>\n",
            "<td><b><a href=\"https://es.wikiquote.org/wiki/Portada\" class=\"extiw\" title=\"q:Portada\">Wikiquote</a></b><br/><div style=\"font-size: 90%\">Colección de citas</div>\n",
            "</td></tr>\n",
            "<tr>\n",
            "<td style=\"padding: 8px;\"><figure class=\"mw-halign-center\" typeof=\"mw:File\"><a href=\"https://es.wikisource.org/wiki/Portada\" title=\"Wikisource\"><img alt=\"Wikisource\" src=\"//upload.wikimedia.org/wikipedia/commons/thumb/5/5a/Notification-icon-Wikisource-logo.svg/30px-Notification-icon-Wikisource-logo.svg.png\" decoding=\"async\" width=\"30\" height=\"30\" class=\"mw-file-element\" srcset=\"//upload.wikimedia.org/wikipedia/commons/thumb/5/5a/Notification-icon-Wikisource-logo.svg/45px-Notification-icon-Wikisource-logo.svg.png 1.5x, //upload.wikimedia.org/wikipedia/commons/thumb/5/5a/Notification-icon-Wikisource-logo.svg/60px-Notification-icon-Wikisource-logo.svg.png 2x\" data-file-width=\"30\" data-file-height=\"30\"/></a><figcaption>Wikisource</figcaption></figure>\n",
            "</td>\n",
            "<td><b><a href=\"https://es.wikisource.org/wiki/Portada\" class=\"extiw\" title=\"s:Portada\">Wikisource</a></b><br/><div style=\"font-size: 90%\">Biblioteca libre</div>\n",
            "</td>\n",
            "<td>\n",
            "</td>\n",
            "<td style=\"padding: 8px;\"><figure class=\"mw-halign-center\" typeof=\"mw:File\"><a href=\"https://species.wikimedia.org/wiki/Portada\" title=\"Wikispecies\"><img alt=\"Wikispecies\" src=\"//upload.wikimedia.org/wikipedia/commons/thumb/0/08/Notification-icon-Wikispecies-logo.svg/30px-Notification-icon-Wikispecies-logo.svg.png\" decoding=\"async\" width=\"30\" height=\"30\" class=\"mw-file-element\" srcset=\"//upload.wikimedia.org/wikipedia/commons/thumb/0/08/Notification-icon-Wikispecies-logo.svg/45px-Notification-icon-Wikispecies-logo.svg.png 1.5x, //upload.wikimedia.org/wikipedia/commons/thumb/0/08/Notification-icon-Wikispecies-logo.svg/60px-Notification-icon-Wikispecies-logo.svg.png 2x\" data-file-width=\"30\" data-file-height=\"30\"/></a><figcaption>Wikispecies</figcaption></figure>\n",
            "</td>\n",
            "<td><b><a href=\"https://species.wikimedia.org/wiki/Portada\" class=\"extiw\" title=\"wikispecies:Portada\">Wikispecies</a></b><br/><div style=\"font-size: 90%\">Directorio de especies</div>\n",
            "</td></tr>\n",
            "<tr>\n",
            "<td style=\"padding: 8px;\"><figure class=\"mw-halign-center\" typeof=\"mw:File\"><a href=\"https://es.wikiversity.org/wiki/Portada\" title=\"Wikiversidad\"><img alt=\"Wikiversidad\" src=\"//upload.wikimedia.org/wikipedia/commons/thumb/0/01/Notification-icon-Wikiversity-logo.svg/30px-Notification-icon-Wikiversity-logo.svg.png\" decoding=\"async\" width=\"30\" height=\"30\" class=\"mw-file-element\" srcset=\"//upload.wikimedia.org/wikipedia/commons/thumb/0/01/Notification-icon-Wikiversity-logo.svg/45px-Notification-icon-Wikiversity-logo.svg.png 1.5x, //upload.wikimedia.org/wikipedia/commons/thumb/0/01/Notification-icon-Wikiversity-logo.svg/60px-Notification-icon-Wikiversity-logo.svg.png 2x\" data-file-width=\"30\" data-file-height=\"30\"/></a><figcaption>Wikiversidad</figcaption></figure>\n",
            "</td>\n",
            "<td><b><a href=\"https://es.wikiversity.org/wiki/Portada\" class=\"extiw\" title=\"v:Portada\">Wikiversidad</a></b><br/><div style=\"font-size: 90%\">Recursos de aprendizaje</div>\n",
            "</td>\n",
            "<td>\n",
            "</td>\n",
            "<td style=\"padding: 8px;\"><figure class=\"mw-halign-center\" typeof=\"mw:File\"><a href=\"https://es.wikivoyage.org/wiki/es:P%C3%A1gina_principal\" title=\"Wikiviajes\"><img alt=\"Wikiviajes\" src=\"//upload.wikimedia.org/wikipedia/commons/thumb/4/47/Notification-icon-Wikivoyage-logo.svg/30px-Notification-icon-Wikivoyage-logo.svg.png\" decoding=\"async\" width=\"30\" height=\"30\" class=\"mw-file-element\" srcset=\"//upload.wikimedia.org/wikipedia/commons/thumb/4/47/Notification-icon-Wikivoyage-logo.svg/45px-Notification-icon-Wikivoyage-logo.svg.png 1.5x, //upload.wikimedia.org/wikipedia/commons/thumb/4/47/Notification-icon-Wikivoyage-logo.svg/60px-Notification-icon-Wikivoyage-logo.svg.png 2x\" data-file-width=\"30\" data-file-height=\"30\"/></a><figcaption>Wikiviajes</figcaption></figure>\n",
            "</td>\n",
            "<td><b><a href=\"https://es.wikivoyage.org/wiki/es:P%C3%A1gina_principal\" class=\"extiw\" title=\"voy:es:Página principal\">Wikiviajes</a></b><br/><div style=\"font-size: 90%\">Guía de viajes</div>\n",
            "</td></tr>\n",
            "<tr>\n",
            "<td colspan=\"5\" style=\"padding: 8px; text-align: center;\"><span typeof=\"mw:File\"><a href=\"https://meta.wikimedia.org/wiki/Portada/Es\" title=\"Meta-Wiki\"><img alt=\"Meta-Wiki\" src=\"//upload.wikimedia.org/wikipedia/commons/thumb/8/86/Notification-icon-Meta-logo.svg/30px-Notification-icon-Meta-logo.svg.png\" decoding=\"async\" width=\"30\" height=\"30\" class=\"mw-file-element\" srcset=\"//upload.wikimedia.org/wikipedia/commons/thumb/8/86/Notification-icon-Meta-logo.svg/45px-Notification-icon-Meta-logo.svg.png 1.5x, //upload.wikimedia.org/wikipedia/commons/thumb/8/86/Notification-icon-Meta-logo.svg/60px-Notification-icon-Meta-logo.svg.png 2x\" data-file-width=\"30\" data-file-height=\"30\"/></a></span><span style=\"padding-left: 8px;\"><b><a href=\"https://meta.wikimedia.org/wiki/Portada/es\" class=\"extiw\" title=\"m:Portada/es\">Meta-Wiki</a></b> – <span style=\"font-size: 90%\">Coordinación de proyectos</span></span>\n",
            "</td></tr></tbody></table>\n",
            "<div style=\"clear: both;\"></div>\n",
            "</div>\n",
            "</div>\n",
            "</div>\n",
            "<!-- \n",
            "NewPP limit report\n",
            "Parsed by mw2335\n",
            "Cached time: 20231026012248\n",
            "Cache expiry: 3600\n",
            "Reduced expiry: true\n",
            "Complications: [no‐toc]\n",
            "DiscussionTools time usage: 0.023 seconds\n",
            "CPU time usage: 0.217 seconds\n",
            "Real time usage: 0.280 seconds\n",
            "Preprocessor visited node count: 4880/1000000\n",
            "Post‐expand include size: 73594/2097152 bytes\n",
            "Template argument size: 29511/2097152 bytes\n",
            "Highest expansion depth: 21/100\n",
            "Expensive parser function count: 0/500\n",
            "Unstrip recursion depth: 0/20\n",
            "Unstrip post‐expand size: 21451/5000000 bytes\n",
            "Lua time usage: 0.009/10.000 seconds\n",
            "Lua memory usage: 1312253/52428800 bytes\n",
            "Number of Wikibase entities loaded: 0/400\n",
            "-->\n",
            "<!--\n",
            "Transclusion expansion time report (%,ms,calls,template)\n",
            "100.00%  151.795      1 -total\n",
            " 85.14%  129.240      7 Plantilla:Portada:Sección\n",
            " 23.23%   35.267      4 Plantilla:Portada:Destacado\n",
            " 15.66%   23.766      5 Plantilla:Portada:Destacado/C\n",
            " 14.39%   21.844     16 Plantilla:Título_sin_coletilla\n",
            " 14.17%   21.503      5 Plantilla:Portada:Resumen\n",
            " 13.54%   20.560      5 Plantilla:ABDD\n",
            " 13.44%   20.398      1 Plantilla:Portada:Encabezado/OOUI\n",
            " 11.14%   16.911      1 Plantilla:Portada:Portales_II\n",
            "  9.65%   14.655      8 Plantilla:PortalIconos\n",
            "-->\n",
            "\n",
            "<!-- Saved in parser cache with key eswiki:pcache:idhash:2271189-0!canonical and timestamp 20231026012248 and revision id 149134229. Rendering was triggered because: page-view\n",
            " -->\n",
            "</div><!--esi <esi:include src=\"/esitest-fa8a495983347898/content\" /> --><noscript><img src=\"//es.wikipedia.org/wiki/Special:CentralAutoLogin/start?type=1x1\" alt=\"\" title=\"\" width=\"1\" height=\"1\" style=\"border: none; position: absolute;\" /></noscript>\n",
            "<div class=\"printfooter\" data-nosnippet=\"\">Obtenido de «<a dir=\"ltr\" href=\"https://es.wikipedia.org/w/index.php?title=Wikipedia:Portada&amp;oldid=149134229\">https://es.wikipedia.org/w/index.php?title=Wikipedia:Portada&amp;oldid=149134229</a>»</div></div>\n",
            "\t\t\t\t\t<div id=\"catlinks\" class=\"catlinks catlinks-allhidden\" data-mw=\"interface\"></div>\n",
            "\t\t\t\t\t\t\n",
            "<div id=\"p-lang-btn\" class=\"vector-dropdown mw-portlet mw-portlet-lang\"  >\n",
            "\t<input type=\"checkbox\" id=\"p-lang-btn-checkbox\" role=\"button\" aria-haspopup=\"true\" data-event-name=\"ui.dropdown-p-lang-btn\" class=\"vector-dropdown-checkbox mw-interlanguage-selector\" aria-label=\"Ir a un artículo en otro idioma. Disponible en 62 idiomas\"   >\n",
            "\t<label id=\"p-lang-btn-label\" for=\"p-lang-btn-checkbox\" class=\"vector-dropdown-label cdx-button cdx-button--fake-button cdx-button--fake-button--enabled cdx-button--weight-quiet cdx-button--action-progressive mw-portlet-lang-heading-62\" aria-hidden=\"true\"  ><span class=\"vector-icon mw-ui-icon-language-progressive mw-ui-icon-wikimedia-language-progressive\"></span>\n",
            "\n",
            "<span class=\"vector-dropdown-label-text\">62 idiomas</span>\n",
            "\t</label>\n",
            "\t<div class=\"vector-dropdown-content\">\n",
            "\n",
            "\t\t<div class=\"vector-menu-content\">\n",
            "\t\t\t\n",
            "\t\t\t<ul class=\"vector-menu-content-list\">\n",
            "\t\t\t\t\n",
            "\t\t\t\t<li class=\"interlanguage-link interwiki-an mw-list-item\"><a href=\"https://an.wikipedia.org/wiki/\" title=\"aragonés\" lang=\"an\" hreflang=\"an\" class=\"interlanguage-link-target\"><span>Aragonés</span></a></li><li class=\"interlanguage-link interwiki-ar mw-list-item\"><a href=\"https://ar.wikipedia.org/wiki/\" title=\"árabe\" lang=\"ar\" hreflang=\"ar\" class=\"interlanguage-link-target\"><span>العربية</span></a></li><li class=\"interlanguage-link interwiki-ast mw-list-item\"><a href=\"https://ast.wikipedia.org/wiki/\" title=\"asturiano\" lang=\"ast\" hreflang=\"ast\" class=\"interlanguage-link-target\"><span>Asturianu</span></a></li><li class=\"interlanguage-link interwiki-ay mw-list-item\"><a href=\"https://ay.wikipedia.org/wiki/\" title=\"aimara\" lang=\"ay\" hreflang=\"ay\" class=\"interlanguage-link-target\"><span>Aymar aru</span></a></li><li class=\"interlanguage-link interwiki-bg mw-list-item\"><a href=\"https://bg.wikipedia.org/wiki/\" title=\"búlgaro\" lang=\"bg\" hreflang=\"bg\" class=\"interlanguage-link-target\"><span>Български</span></a></li><li class=\"interlanguage-link interwiki-bpy mw-list-item\"><a href=\"https://bpy.wikipedia.org/wiki/\" title=\"Bishnupriya\" lang=\"bpy\" hreflang=\"bpy\" class=\"interlanguage-link-target\"><span>বিষ্ণুপ্রিয়া মণিপুরী</span></a></li><li class=\"interlanguage-link interwiki-bs mw-list-item\"><a href=\"https://bs.wikipedia.org/wiki/\" title=\"bosnio\" lang=\"bs\" hreflang=\"bs\" class=\"interlanguage-link-target\"><span>Bosanski</span></a></li><li class=\"interlanguage-link interwiki-ca mw-list-item\"><a href=\"https://ca.wikipedia.org/wiki/\" title=\"catalán\" lang=\"ca\" hreflang=\"ca\" class=\"interlanguage-link-target\"><span>Català</span></a></li><li class=\"interlanguage-link interwiki-cbk-zam mw-list-item\"><a href=\"https://cbk-zam.wikipedia.org/wiki/\" title=\"Chavacano\" lang=\"cbk\" hreflang=\"cbk\" class=\"interlanguage-link-target\"><span>Chavacano de Zamboanga</span></a></li><li class=\"interlanguage-link interwiki-ceb mw-list-item\"><a href=\"https://ceb.wikipedia.org/wiki/\" title=\"cebuano\" lang=\"ceb\" hreflang=\"ceb\" class=\"interlanguage-link-target\"><span>Cebuano</span></a></li><li class=\"interlanguage-link interwiki-ch mw-list-item\"><a href=\"https://ch.wikipedia.org/wiki/\" title=\"chamorro\" lang=\"ch\" hreflang=\"ch\" class=\"interlanguage-link-target\"><span>Chamoru</span></a></li><li class=\"interlanguage-link interwiki-cs mw-list-item\"><a href=\"https://cs.wikipedia.org/wiki/\" title=\"checo\" lang=\"cs\" hreflang=\"cs\" class=\"interlanguage-link-target\"><span>Čeština</span></a></li><li class=\"interlanguage-link interwiki-da mw-list-item\"><a href=\"https://da.wikipedia.org/wiki/\" title=\"danés\" lang=\"da\" hreflang=\"da\" class=\"interlanguage-link-target\"><span>Dansk</span></a></li><li class=\"interlanguage-link interwiki-de mw-list-item\"><a href=\"https://de.wikipedia.org/wiki/\" title=\"alemán\" lang=\"de\" hreflang=\"de\" class=\"interlanguage-link-target\"><span>Deutsch</span></a></li><li class=\"interlanguage-link interwiki-el mw-list-item\"><a href=\"https://el.wikipedia.org/wiki/\" title=\"griego\" lang=\"el\" hreflang=\"el\" class=\"interlanguage-link-target\"><span>Ελληνικά</span></a></li><li class=\"interlanguage-link interwiki-en mw-list-item\"><a href=\"https://en.wikipedia.org/wiki/\" title=\"inglés\" lang=\"en\" hreflang=\"en\" class=\"interlanguage-link-target\"><span>English</span></a></li><li class=\"interlanguage-link interwiki-eo mw-list-item\"><a href=\"https://eo.wikipedia.org/wiki/\" title=\"esperanto\" lang=\"eo\" hreflang=\"eo\" class=\"interlanguage-link-target\"><span>Esperanto</span></a></li><li class=\"interlanguage-link interwiki-et mw-list-item\"><a href=\"https://et.wikipedia.org/wiki/\" title=\"estonio\" lang=\"et\" hreflang=\"et\" class=\"interlanguage-link-target\"><span>Eesti</span></a></li><li class=\"interlanguage-link interwiki-eu mw-list-item\"><a href=\"https://eu.wikipedia.org/wiki/\" title=\"euskera\" lang=\"eu\" hreflang=\"eu\" class=\"interlanguage-link-target\"><span>Euskara</span></a></li><li class=\"interlanguage-link interwiki-ext mw-list-item\"><a href=\"https://ext.wikipedia.org/wiki/\" title=\"Extremaduran\" lang=\"ext\" hreflang=\"ext\" class=\"interlanguage-link-target\"><span>Estremeñu</span></a></li><li class=\"interlanguage-link interwiki-fa mw-list-item\"><a href=\"https://fa.wikipedia.org/wiki/\" title=\"persa\" lang=\"fa\" hreflang=\"fa\" class=\"interlanguage-link-target\"><span>فارسی</span></a></li><li class=\"interlanguage-link interwiki-fi mw-list-item\"><a href=\"https://fi.wikipedia.org/wiki/\" title=\"finés\" lang=\"fi\" hreflang=\"fi\" class=\"interlanguage-link-target\"><span>Suomi</span></a></li><li class=\"interlanguage-link interwiki-fr mw-list-item\"><a href=\"https://fr.wikipedia.org/wiki/\" title=\"francés\" lang=\"fr\" hreflang=\"fr\" class=\"interlanguage-link-target\"><span>Français</span></a></li><li class=\"interlanguage-link interwiki-gl mw-list-item\"><a href=\"https://gl.wikipedia.org/wiki/\" title=\"gallego\" lang=\"gl\" hreflang=\"gl\" class=\"interlanguage-link-target\"><span>Galego</span></a></li><li class=\"interlanguage-link interwiki-gn mw-list-item\"><a href=\"https://gn.wikipedia.org/wiki/\" title=\"guaraní\" lang=\"gn\" hreflang=\"gn\" class=\"interlanguage-link-target\"><span>Avañe'ẽ</span></a></li><li class=\"interlanguage-link interwiki-he mw-list-item\"><a href=\"https://he.wikipedia.org/wiki/\" title=\"hebreo\" lang=\"he\" hreflang=\"he\" class=\"interlanguage-link-target\"><span>עברית</span></a></li><li class=\"interlanguage-link interwiki-hr mw-list-item\"><a href=\"https://hr.wikipedia.org/wiki/\" title=\"croata\" lang=\"hr\" hreflang=\"hr\" class=\"interlanguage-link-target\"><span>Hrvatski</span></a></li><li class=\"interlanguage-link interwiki-hu mw-list-item\"><a href=\"https://hu.wikipedia.org/wiki/\" title=\"húngaro\" lang=\"hu\" hreflang=\"hu\" class=\"interlanguage-link-target\"><span>Magyar</span></a></li><li class=\"interlanguage-link interwiki-id mw-list-item\"><a href=\"https://id.wikipedia.org/wiki/\" title=\"indonesio\" lang=\"id\" hreflang=\"id\" class=\"interlanguage-link-target\"><span>Bahasa Indonesia</span></a></li><li class=\"interlanguage-link interwiki-it mw-list-item\"><a href=\"https://it.wikipedia.org/wiki/\" title=\"italiano\" lang=\"it\" hreflang=\"it\" class=\"interlanguage-link-target\"><span>Italiano</span></a></li><li class=\"interlanguage-link interwiki-ja mw-list-item\"><a href=\"https://ja.wikipedia.org/wiki/\" title=\"japonés\" lang=\"ja\" hreflang=\"ja\" class=\"interlanguage-link-target\"><span>日本語</span></a></li><li class=\"interlanguage-link interwiki-ko mw-list-item\"><a href=\"https://ko.wikipedia.org/wiki/\" title=\"coreano\" lang=\"ko\" hreflang=\"ko\" class=\"interlanguage-link-target\"><span>한국어</span></a></li><li class=\"interlanguage-link interwiki-la mw-list-item\"><a href=\"https://la.wikipedia.org/wiki/\" title=\"latín\" lang=\"la\" hreflang=\"la\" class=\"interlanguage-link-target\"><span>Latina</span></a></li><li class=\"interlanguage-link interwiki-lad mw-list-item\"><a href=\"https://lad.wikipedia.org/wiki/\" title=\"ladino\" lang=\"lad\" hreflang=\"lad\" class=\"interlanguage-link-target\"><span>Ladino</span></a></li><li class=\"interlanguage-link interwiki-lmo mw-list-item\"><a href=\"https://lmo.wikipedia.org/wiki/\" title=\"lombardo\" lang=\"lmo\" hreflang=\"lmo\" class=\"interlanguage-link-target\"><span>Lombard</span></a></li><li class=\"interlanguage-link interwiki-lt mw-list-item\"><a href=\"https://lt.wikipedia.org/wiki/\" title=\"lituano\" lang=\"lt\" hreflang=\"lt\" class=\"interlanguage-link-target\"><span>Lietuvių</span></a></li><li class=\"interlanguage-link interwiki-ms mw-list-item\"><a href=\"https://ms.wikipedia.org/wiki/\" title=\"malayo\" lang=\"ms\" hreflang=\"ms\" class=\"interlanguage-link-target\"><span>Bahasa Melayu</span></a></li><li class=\"interlanguage-link interwiki-mwl mw-list-item\"><a href=\"https://mwl.wikipedia.org/wiki/\" title=\"mirandés\" lang=\"mwl\" hreflang=\"mwl\" class=\"interlanguage-link-target\"><span>Mirandés</span></a></li><li class=\"interlanguage-link interwiki-nah mw-list-item\"><a href=\"https://nah.wikipedia.org/wiki/\" title=\"Nāhuatl\" lang=\"nah\" hreflang=\"nah\" class=\"interlanguage-link-target\"><span>Nāhuatl</span></a></li><li class=\"interlanguage-link interwiki-new mw-list-item\"><a href=\"https://new.wikipedia.org/wiki/\" title=\"nevarí\" lang=\"new\" hreflang=\"new\" class=\"interlanguage-link-target\"><span>नेपाल भाषा</span></a></li><li class=\"interlanguage-link interwiki-nl mw-list-item\"><a href=\"https://nl.wikipedia.org/wiki/\" title=\"neerlandés\" lang=\"nl\" hreflang=\"nl\" class=\"interlanguage-link-target\"><span>Nederlands</span></a></li><li class=\"interlanguage-link interwiki-nn mw-list-item\"><a href=\"https://nn.wikipedia.org/wiki/\" title=\"noruego nynorsk\" lang=\"nn\" hreflang=\"nn\" class=\"interlanguage-link-target\"><span>Norsk nynorsk</span></a></li><li class=\"interlanguage-link interwiki-no mw-list-item\"><a href=\"https://no.wikipedia.org/wiki/\" title=\"noruego bokmal\" lang=\"nb\" hreflang=\"nb\" class=\"interlanguage-link-target\"><span>Norsk bokmål</span></a></li><li class=\"interlanguage-link interwiki-oc mw-list-item\"><a href=\"https://oc.wikipedia.org/wiki/\" title=\"occitano\" lang=\"oc\" hreflang=\"oc\" class=\"interlanguage-link-target\"><span>Occitan</span></a></li><li class=\"interlanguage-link interwiki-pap mw-list-item\"><a href=\"https://pap.wikipedia.org/wiki/\" title=\"papiamento\" lang=\"pap\" hreflang=\"pap\" class=\"interlanguage-link-target\"><span>Papiamentu</span></a></li><li class=\"interlanguage-link interwiki-pl mw-list-item\"><a href=\"https://pl.wikipedia.org/wiki/\" title=\"polaco\" lang=\"pl\" hreflang=\"pl\" class=\"interlanguage-link-target\"><span>Polski</span></a></li><li class=\"interlanguage-link interwiki-pt mw-list-item\"><a href=\"https://pt.wikipedia.org/wiki/\" title=\"portugués\" lang=\"pt\" hreflang=\"pt\" class=\"interlanguage-link-target\"><span>Português</span></a></li><li class=\"interlanguage-link interwiki-qu mw-list-item\"><a href=\"https://qu.wikipedia.org/wiki/\" title=\"quechua\" lang=\"qu\" hreflang=\"qu\" class=\"interlanguage-link-target\"><span>Runa Simi</span></a></li><li class=\"interlanguage-link interwiki-ro mw-list-item\"><a href=\"https://ro.wikipedia.org/wiki/\" title=\"rumano\" lang=\"ro\" hreflang=\"ro\" class=\"interlanguage-link-target\"><span>Română</span></a></li><li class=\"interlanguage-link interwiki-ru mw-list-item\"><a href=\"https://ru.wikipedia.org/wiki/\" title=\"ruso\" lang=\"ru\" hreflang=\"ru\" class=\"interlanguage-link-target\"><span>Русский</span></a></li><li class=\"interlanguage-link interwiki-simple mw-list-item\"><a href=\"https://simple.wikipedia.org/wiki/\" title=\"Simple English\" lang=\"en-simple\" hreflang=\"en-simple\" class=\"interlanguage-link-target\"><span>Simple English</span></a></li><li class=\"interlanguage-link interwiki-sk mw-list-item\"><a href=\"https://sk.wikipedia.org/wiki/\" title=\"eslovaco\" lang=\"sk\" hreflang=\"sk\" class=\"interlanguage-link-target\"><span>Slovenčina</span></a></li><li class=\"interlanguage-link interwiki-sl mw-list-item\"><a href=\"https://sl.wikipedia.org/wiki/\" title=\"esloveno\" lang=\"sl\" hreflang=\"sl\" class=\"interlanguage-link-target\"><span>Slovenščina</span></a></li><li class=\"interlanguage-link interwiki-sr mw-list-item\"><a href=\"https://sr.wikipedia.org/wiki/\" title=\"serbio\" lang=\"sr\" hreflang=\"sr\" class=\"interlanguage-link-target\"><span>Српски / srpski</span></a></li><li class=\"interlanguage-link interwiki-sv mw-list-item\"><a href=\"https://sv.wikipedia.org/wiki/\" title=\"sueco\" lang=\"sv\" hreflang=\"sv\" class=\"interlanguage-link-target\"><span>Svenska</span></a></li><li class=\"interlanguage-link interwiki-te mw-list-item\"><a href=\"https://te.wikipedia.org/wiki/\" title=\"telugu\" lang=\"te\" hreflang=\"te\" class=\"interlanguage-link-target\"><span>తెలుగు</span></a></li><li class=\"interlanguage-link interwiki-th mw-list-item\"><a href=\"https://th.wikipedia.org/wiki/\" title=\"tailandés\" lang=\"th\" hreflang=\"th\" class=\"interlanguage-link-target\"><span>ไทย</span></a></li><li class=\"interlanguage-link interwiki-tl mw-list-item\"><a href=\"https://tl.wikipedia.org/wiki/\" title=\"tagalo\" lang=\"tl\" hreflang=\"tl\" class=\"interlanguage-link-target\"><span>Tagalog</span></a></li><li class=\"interlanguage-link interwiki-tr mw-list-item\"><a href=\"https://tr.wikipedia.org/wiki/\" title=\"turco\" lang=\"tr\" hreflang=\"tr\" class=\"interlanguage-link-target\"><span>Türkçe</span></a></li><li class=\"interlanguage-link interwiki-uk mw-list-item\"><a href=\"https://uk.wikipedia.org/wiki/\" title=\"ucraniano\" lang=\"uk\" hreflang=\"uk\" class=\"interlanguage-link-target\"><span>Українська</span></a></li><li class=\"interlanguage-link interwiki-vi mw-list-item\"><a href=\"https://vi.wikipedia.org/wiki/\" title=\"vietnamita\" lang=\"vi\" hreflang=\"vi\" class=\"interlanguage-link-target\"><span>Tiếng Việt</span></a></li><li class=\"interlanguage-link interwiki-zh mw-list-item\"><a href=\"https://zh.wikipedia.org/wiki/\" title=\"chino\" lang=\"zh\" hreflang=\"zh\" class=\"interlanguage-link-target\"><span>中文</span></a></li>\n",
            "\t\t\t</ul>\n",
            "\t\t\t\n",
            "\t\t</div>\n",
            "\n",
            "\t</div>\n",
            "</div>\n",
            "\n",
            "\t\t\t\t</div>\n",
            "\t\t\t</main>\n",
            "\t\t\t\n",
            "\t\t</div>\n",
            "\t\t<div class=\"mw-footer-container\">\n",
            "\t\t\t\n",
            "<footer id=\"footer\" class=\"mw-footer\" role=\"contentinfo\" >\n",
            "\t<ul id=\"footer-info\">\n",
            "\t<li id=\"footer-info-lastmod\"> Esta página se editó por última vez el 8 feb 2023 a las 00:22.</li>\n",
            "\t<li id=\"footer-info-copyright\">El texto está disponible bajo la <a rel=\"license\" href=\"https://es.wikipedia.org/wiki/Wikipedia:Texto_de_la_Licencia_Creative_Commons_Atribuci%C3%B3n-CompartirIgual_4.0_Internacional\">Licencia Creative Commons Atribución-CompartirIgual 4.0</a><a rel=\"license\" href=\"https://creativecommons.org/licenses/by-sa/4.0/deed.es\" style=\"display:none;\"></a>; pueden aplicarse cláusulas adicionales. Al usar este sitio aceptas nuestros <a href=\"https://foundation.wikimedia.org/wiki/Policy:Terms_of_Use/es\">términos de uso</a> y nuestra <a href=\"https://foundation.wikimedia.org/wiki/Policy:Privacy_policy/es\">política de privacidad</a>.<br/>Wikipedia&reg; es una marca registrada de la <a href=\"https://wikimediafoundation.org/es/\">Fundación Wikimedia</a>, una organización sin ánimo de lucro.</li>\n",
            "</ul>\n",
            "\n",
            "\t<ul id=\"footer-places\">\n",
            "\t<li id=\"footer-places-privacy\"><a href=\"https://foundation.wikimedia.org/wiki/Special:MyLanguage/Policy:Privacy_policy/es\">Política de privacidad</a></li>\n",
            "\t<li id=\"footer-places-about\"><a href=\"/wiki/Wikipedia:Acerca_de\">Acerca de Wikipedia</a></li>\n",
            "\t<li id=\"footer-places-disclaimers\"><a href=\"/wiki/Wikipedia:Limitaci%C3%B3n_general_de_responsabilidad\">Limitación de responsabilidad</a></li>\n",
            "\t<li id=\"footer-places-wm-codeofconduct\"><a href=\"https://foundation.wikimedia.org/wiki/Special:MyLanguage/Universal_Code_of_Conduct\">Código de conducta</a></li>\n",
            "\t<li id=\"footer-places-developers\"><a href=\"https://developer.wikimedia.org\">Desarrolladores</a></li>\n",
            "\t<li id=\"footer-places-statslink\"><a href=\"https://stats.wikimedia.org/#/es.wikipedia.org\">Estadísticas</a></li>\n",
            "\t<li id=\"footer-places-cookiestatement\"><a href=\"https://foundation.wikimedia.org/wiki/Special:MyLanguage/Policy:Cookie_statement/es\">Declaración de cookies</a></li>\n",
            "\t<li id=\"footer-places-mobileview\"><a href=\"//es.m.wikipedia.org/w/index.php?title=Wikipedia:Portada&amp;mobileaction=toggle_view_mobile\" class=\"noprint stopMobileRedirectToggle\">Versión para móviles</a></li>\n",
            "</ul>\n",
            "\n",
            "\t<ul id=\"footer-icons\" class=\"noprint\">\n",
            "\t<li id=\"footer-copyrightico\"><a href=\"https://wikimediafoundation.org/\"><img src=\"/static/images/footer/wikimedia-button.png\" srcset=\"/static/images/footer/wikimedia-button-1.5x.png 1.5x, /static/images/footer/wikimedia-button-2x.png 2x\" width=\"88\" height=\"31\" alt=\"Wikimedia Foundation\" loading=\"lazy\" /></a></li>\n",
            "\t<li id=\"footer-poweredbyico\"><a href=\"https://www.mediawiki.org/\"><img src=\"/static/images/footer/poweredby_mediawiki_88x31.png\" alt=\"Powered by MediaWiki\" srcset=\"/static/images/footer/poweredby_mediawiki_132x47.png 1.5x, /static/images/footer/poweredby_mediawiki_176x62.png 2x\" width=\"88\" height=\"31\" loading=\"lazy\"></a></li>\n",
            "</ul>\n",
            "\n",
            "</footer>\n",
            "\n",
            "\t\t</div>\n",
            "\t</div> \n",
            "</div> \n",
            "<div class=\"vector-settings\" id=\"p-dock-bottom\">\n",
            "\t<ul>\n",
            "\t\t<li>\n",
            "\t\t\n",
            "\t\t<button class=\"cdx-button cdx-button--icon-only vector-limited-width-toggle\" id=\"\"><span class=\"vector-icon mw-ui-icon-fullScreen mw-ui-icon-wikimedia-fullScreen\"></span>\n",
            "\n",
            "<span>Activar o desactivar el límite de anchura del contenido</span>\n",
            "</button>\n",
            "</li>\n",
            "\t</ul>\n",
            "</div>\n",
            "<script>(RLQ=window.RLQ||[]).push(function(){mw.log.warn(\"This page is using the deprecated ResourceLoader module \\\"mediawiki.ui.button\\\".\\n[1.41] Please use Codex. See migration guidelines: https://w.wiki/7TAh\");mw.config.set({\"wgHostname\":\"mw2303\",\"wgBackendResponseTime\":129,\"wgDiscussionToolsPageThreads\":[{\"headingLevel\":1,\"name\":\"h-\",\"type\":\"heading\",\"level\":0,\"id\":\"h-Bienvenidos_a_Wikipedia,\",\"replies\":[{\"headingLevel\":2,\"name\":\"h-\",\"type\":\"heading\",\"level\":0,\"id\":\"h-Face_the_Heat-Bienvenidos_a_Wikipedia,\",\"replies\":[]},{\"headingLevel\":2,\"name\":\"h-\",\"type\":\"heading\",\"level\":0,\"id\":\"h-Margaret_Thatcher-Bienvenidos_a_Wikipedia,\",\"replies\":[]},{\"headingLevel\":2,\"name\":\"h-\",\"type\":\"heading\",\"level\":0,\"id\":\"h-Recurso_del_día-Bienvenidos_a_Wikipedia,\",\"replies\":[]},{\"headingLevel\":2,\"name\":\"h-\",\"type\":\"heading\",\"level\":0,\"id\":\"h-Portales-Bienvenidos_a_Wikipedia,\",\"replies\":[]},{\"headingLevel\":2,\"name\":\"h-\",\"type\":\"heading\",\"level\":0,\"id\":\"h-Actualidad-Bienvenidos_a_Wikipedia,\",\"replies\":[]},{\"headingLevel\":2,\"name\":\"h-\",\"type\":\"heading\",\"level\":0,\"id\":\"h-26_de_octubre-Bienvenidos_a_Wikipedia,\",\"replies\":[]},{\"headingLevel\":2,\"name\":\"h-\",\"type\":\"heading\",\"level\":0,\"id\":\"h-Otros_proyectos_de_la_Fundación_Wikimedia-Bienvenidos_a_Wikipedia,\",\"replies\":[]}]}],\"wgPageParseReport\":{\"discussiontools\":{\"limitreport-timeusage\":\"0.023\"},\"limitreport\":{\"cputime\":\"0.217\",\"walltime\":\"0.280\",\"ppvisitednodes\":{\"value\":4880,\"limit\":1000000},\"postexpandincludesize\":{\"value\":73594,\"limit\":2097152},\"templateargumentsize\":{\"value\":29511,\"limit\":2097152},\"expansiondepth\":{\"value\":21,\"limit\":100},\"expensivefunctioncount\":{\"value\":0,\"limit\":500},\"unstrip-depth\":{\"value\":0,\"limit\":20},\"unstrip-size\":{\"value\":21451,\"limit\":5000000},\"entityaccesscount\":{\"value\":0,\"limit\":400},\"timingprofile\":[\"100.00%  151.795      1 -total\",\" 85.14%  129.240      7 Plantilla:Portada:Sección\",\" 23.23%   35.267      4 Plantilla:Portada:Destacado\",\" 15.66%   23.766      5 Plantilla:Portada:Destacado/C\",\" 14.39%   21.844     16 Plantilla:Título_sin_coletilla\",\" 14.17%   21.503      5 Plantilla:Portada:Resumen\",\" 13.54%   20.560      5 Plantilla:ABDD\",\" 13.44%   20.398      1 Plantilla:Portada:Encabezado/OOUI\",\" 11.14%   16.911      1 Plantilla:Portada:Portales_II\",\"  9.65%   14.655      8 Plantilla:PortalIconos\"]},\"scribunto\":{\"limitreport-timeusage\":{\"value\":\"0.009\",\"limit\":\"10.000\"},\"limitreport-memusage\":{\"value\":1312253,\"limit\":52428800}},\"cachereport\":{\"origin\":\"mw2335\",\"timestamp\":\"20231026012248\",\"ttl\":3600,\"transientcontent\":true}}});});</script>\n",
            "</body>\n",
            "</html> \n",
            "\n"
          ]
        }
      ],
      "source": [
        "# Hacemos un pedido a la página de wikipedia\n",
        "URL = 'https://es.wikipedia.org/'\n",
        "\n",
        "# Guardamos el objeto\n",
        "respuesta = requests.get(URL)\n",
        "\n",
        "# print(f'Tipo de Objeto: {type(respuesta)} \\n')\n",
        "# print(f'Código de estado: {respuesta.status_code} \\n')\n",
        "print(f'Data: {respuesta.text} \\n')\n"
      ]
    },
    {
      "cell_type": "markdown",
      "metadata": {
        "id": "z1AgS5HxPIPg"
      },
      "source": [
        "## **Headers**\n",
        "\n",
        "El objeto `Response` de `requests` tiene los siguientes elementos principales:\n",
        "\n",
        "* `.text`\n",
        "* `.content`\n",
        "* `.json()`\n",
        "* `.status_code`"
      ]
    },
    {
      "cell_type": "code",
      "execution_count": 3,
      "metadata": {
        "id": "HBifgfShPKlV"
      },
      "outputs": [],
      "source": [
        "URL = 'https://scrapepark.org/courses/spanish/' #<--Almacenamos la variable\n",
        "\n",
        "headers = {\n",
        "    'User-Agent': 'Mozilla/5.0 (X11; Ubuntu; Linux x86_64; rv:52.0) Gecko/20100101 Firefox/52.0'\n",
        "} #<--'User-Agent' simula que la solicitud proviene de un navegador Firefox en una máquina Ubuntu, para evitar restricciones o bloqueos ante solicitudes\n",
        "respuesta = requests.get(URL, headers=headers) #<--Se realiza solicitud HTTP a la URL"
      ]
    },
    {
      "cell_type": "code",
      "execution_count": 5,
      "metadata": {
        "colab": {
          "base_uri": "https://localhost:8080/",
          "height": 109
        },
        "id": "sbA4w5LXhb-F",
        "outputId": "11e8e547-154a-41c1-e0ad-891828617193"
      },
      "outputs": [
        {
          "name": "stdout",
          "output_type": "stream",
          "text": [
            "<!DOCTYPE html>\n",
            "<html lang=\"es\">\n",
            "\n",
            "  <head>\n",
            "    <!-- Basic -->\n",
            "    <meta charset=\"utf-8\">\n",
            "    <meta http-equiv=\"X-UA-Compatible\" content=\"IE=edge\">\n",
            "    <!-- Mobile Metas -->\n",
            "    <meta name=\"viewport\" content=\"width=device-width, initial-scale=1, shrink-to-fit=no\">\n",
            "    <!-- Site Metas -->\n",
            "    <meta name=\"keywords\" content=\"\">\n",
            "    <meta name=\"description\" content=\"\">\n",
            "    <meta name=\"author\" content=\"\">\n",
            "    <link rel=\"shortcut icon\" href=\"images/favicon.svg\" type=\"\">\n",
            "    <title>ScrapePark.org</title>\n",
            "    <!-- bootstrap core css -->\n",
            "    <link rel=\"stylesheet\" type=\"text/css\" href=\"css/bootstrap.css\">\n",
            "    <!-- font awesome style -->\n",
            "    <link href=\"css/font-awesome.min.css\" rel=\"stylesheet\">\n",
            "    <!-- Custom styles for this template -->\n",
            "    <link href=\"css/style.css\" rel=\"stylesheet\">\n",
            "    <!-- responsive style -->\n",
            "    <link href=\"css/responsive.css\" rel=\"stylesheet\">\n",
            "  </head>\n",
            "\n",
            "  <body>\n",
            "    <div class=\"hero-area\">\n",
            "      <!-- header section strats -->\n",
            "      <header class=\"header-section\">\n",
            "        <div class=\"container\">\n",
            "          <nav class=\"navbar navbar-expand-lg custom-nav-container \">\n",
            "            <a class='navbar-brand' href='/courses/spanish/'>\n",
            "              <img width=\"250\" src=\"images/logo.svg\" alt=\"Logo de ScrapePark.org\">\n",
            "            </a>\n",
            "            <button class=\"navbar-toggler\" type=\"button\" data-toggle=\"collapse\" data-target=\"#navbarSupportedContent\"\n",
            "              aria-controls=\"navbarSupportedContent\" aria-expanded=\"false\" aria-label=\"Toggle navigation\">\n",
            "              <span class=\"\"> </span>\n",
            "            </button>\n",
            "            <div class=\"collapse navbar-collapse\" id=\"navbarSupportedContent\">\n",
            "              <ul class=\"navbar-nav\">\n",
            "                <li class=\"nav-item active\">\n",
            "                  <a class='nav-link' href='/courses/spanish/'>Inicio<span class=\"sr-only\">(current)</span></a>\n",
            "                </li>\n",
            "                <li class=\"nav-item dropdown\">\n",
            "                  <a class=\"nav-link dropdown-toggle\" href=\"#\" data-toggle=\"dropdown\" role=\"button\" aria-haspopup=\"true\"\n",
            "                    aria-expanded=\"true\"> <span class=\"nav-label\">Contenido<span class=\"caret\"></span></a>\n",
            "                  <ul class=\"dropdown-menu\">\n",
            "                    <li><a href=#acerca>Acerca</a></li>\n",
            "                    <li><a href=#testimonios>Testimonios</a></li>\n",
            "                  </ul>\n",
            "                </li>\n",
            "                <li class=\"nav-item\">\n",
            "                  <a class=\"nav-link\" href=#productos>Productos</a>\n",
            "                </li>\n",
            "                <li class=\"nav-item\">\n",
            "                  <a class=\"nav-link\" href=#precios>Precios</a>\n",
            "                </li>\n",
            "\n",
            "                <li class=\"nav-item dropdown\">\n",
            "                  <a class=\"nav-link dropdown-toggle\" href=\"#\" data-toggle=\"dropdown\" role=\"button\" aria-haspopup=\"true\"\n",
            "                    aria-expanded=\"true\">\n",
            "                    <span class=\"nav-label\">Contacto<span class=\"caret\"></span></a>\n",
            "                  <ul class=\"dropdown-menu\">\n",
            "                    <li class=\"nav-item\">\n",
            "                      <a class='nav-link' href='/courses/spanish/contact1'>Contacto 1</a>\n",
            "                    </li>\n",
            "                    <li class=\"nav-item\">\n",
            "                      <a class='nav-link' href='/courses/spanish/contact2'>Contacto 2</a>\n",
            "                    </li>\n",
            "                  </ul>\n",
            "                <li class=\"nav-item\" id=\"cart\">\n",
            "                  <a class=\"nav-link\" href=\"#\">\n",
            "                    <svg version=\"1.1\" id=\"Capa-1\" xmlns=\"http://www.w3.org/2000/svg\"\n",
            "                      xmlns:xlink=\"http://www.w3.org/1999/xlink\" x=\"0px\" y=\"0px\" viewBox=\"0 0 456.029 456.029\"\n",
            "                      style=\"enable-background:new 0 0 456.029 456.029;\" xml:space=\"preserve\">\n",
            "                      <g>\n",
            "                        <g>\n",
            "                          <path\n",
            "                            d=\"M345.6,338.862c-29.184,0-53.248,23.552-53.248,53.248c0,29.184,23.552,53.248,53.248,53.248\n",
            "                                            c29.184,0,53.248-23.552,53.248-53.248C398.336,362.926,374.784,338.862,345.6,338.862z\" />\n",
            "                        </g>\n",
            "                      </g>\n",
            "                      <g>\n",
            "                        <g>\n",
            "                          <path d=\"M439.296,84.91c-1.024,0-2.56-0.512-4.096-0.512H112.64l-5.12-34.304C104.448,27.566,84.992,10.67,61.952,10.67H20.48\n",
            "                                            C9.216,10.67,0,19.886,0,31.15c0,11.264,9.216,20.48,20.48,20.48h41.472c2.56,0,4.608,2.048,5.12,4.608l31.744,216.064\n",
            "                                            c4.096,27.136,27.648,47.616,55.296,47.616h212.992c26.624,0,49.664-18.944,55.296-45.056l33.28-166.4\n",
            "                                            C457.728,97.71,450.56,86.958,439.296,84.91z\" />\n",
            "                        </g>\n",
            "                      </g>\n",
            "                      <g>\n",
            "                        <g>\n",
            "                          <path\n",
            "                            d=\"M215.04,389.55c-1.024-28.16-24.576-50.688-52.736-50.688c-29.696,1.536-52.224,26.112-51.2,55.296\n",
            "                                            c1.024,28.16,24.064,50.688,52.224,50.688h1.024C193.536,443.31,216.576,418.734,215.04,389.55z\" />\n",
            "                        </g>\n",
            "                      </g>\n",
            "                      <g>\n",
            "                      </g>\n",
            "                      <g>\n",
            "                      </g>\n",
            "                      <g>\n",
            "                      </g>\n",
            "                      <g>\n",
            "                      </g>\n",
            "                      <g>\n",
            "                      </g>\n",
            "                      <g>\n",
            "                      </g>\n",
            "                      <g>\n",
            "                      </g>\n",
            "                      <g>\n",
            "                      </g>\n",
            "                      <g>\n",
            "                      </g>\n",
            "                      <g>\n",
            "                      </g>\n",
            "                      <g>\n",
            "                      </g>\n",
            "                      <g>\n",
            "                      </g>\n",
            "                      <g>\n",
            "                      </g>\n",
            "                      <g>\n",
            "                      </g>\n",
            "                      <g>\n",
            "                      </g>\n",
            "                    </svg>\n",
            "                  </a>\n",
            "                </li>\n",
            "                <form class=\"form-inline\" id=\"search\">\n",
            "                  <button class=\"btn  my-2 my-sm-0 nav-search-btn\" type=\"submit\">\n",
            "                    <i class=\"fa fa-search\" aria-hidden=\"true\"></i>\n",
            "                  </button>\n",
            "                </form>\n",
            "              </ul>\n",
            "            </div>\n",
            "          </nav>\n",
            "        </div>\n",
            "      </header>\n",
            "      <!-- end header section -->\n",
            "      <!-- slider section -->\n",
            "      <section class=\"slider-section\">\n",
            "        <div class=\"slider-bg-box\">\n",
            "          <img src=\"images/slider-bg.jpg\" alt=\"Parque de patinaje\">\n",
            "        </div>\n",
            "        <div id=\"customCarousel1\" class=\"carousel slide\" data-ride=\"carousel\">\n",
            "          <div class=\"carousel-inner\">\n",
            "            <div class=\"carousel-item active\">\n",
            "              <div class=\"container \">\n",
            "                <div class=\"row\">\n",
            "                  <div class=\"col-md-7 col-lg-6 \">\n",
            "                    <div class=\"detail-box\">\n",
            "                      <h1>\n",
            "                        <span>\n",
            "                          Descuentos 20% Off\n",
            "                        </span>\n",
            "                        <br>\n",
            "                        ¡En todos los productos!\n",
            "                      </h1>\n",
            "                      <p>\n",
            "                        Aprovechá nuestras ofertas.\n",
            "                      </p>\n",
            "                      <div class=\"btn-box\">\n",
            "                        <a href=\"\" class=\"btn1\">\n",
            "                          Comprar ahora\n",
            "                        </a>\n",
            "                      </div>\n",
            "                    </div>\n",
            "                  </div>\n",
            "                </div>\n",
            "              </div>\n",
            "            </div>\n",
            "            <div class=\"carousel-item \">\n",
            "              <div class=\"container \">\n",
            "                <div class=\"row\">\n",
            "                  <div class=\"col-md-7 col-lg-6 \">\n",
            "                    <div class=\"detail-box\">\n",
            "                      <h1>\n",
            "                        <span>\n",
            "                          Descuentos 20% Off\n",
            "                        </span>\n",
            "                        <br>\n",
            "                        ¡En todos los productos!\n",
            "                      </h1>\n",
            "                      <p>\n",
            "                        Aprovechá nuestras ofertas.\n",
            "                      </p>\n",
            "                      <div class=\"btn-box\">\n",
            "                        <a href=\"\" class=\"btn1\">\n",
            "                          Comprar ahora\n",
            "                        </a>\n",
            "                      </div>\n",
            "                    </div>\n",
            "                  </div>\n",
            "                </div>\n",
            "              </div>\n",
            "            </div>\n",
            "            <div class=\"carousel-item\">\n",
            "              <div class=\"container \">\n",
            "                <div class=\"row\">\n",
            "                  <div class=\"col-md-7 col-lg-6 \">\n",
            "                    <div class=\"detail-box\">\n",
            "                      <h1>\n",
            "                        <span>\n",
            "                          Descuentos 20% Off\n",
            "                        </span>\n",
            "                        <br>\n",
            "                        ¡En todos los productos!\n",
            "                      </h1>\n",
            "                      <p>\n",
            "                        Aprovechá nuestras ofertas.\n",
            "                      </p>\n",
            "                      <div class=\"btn-box\">\n",
            "                        <a href=\"\" class=\"btn1\">\n",
            "                          Comprar ahora\n",
            "                        </a>\n",
            "                      </div>\n",
            "                    </div>\n",
            "                  </div>\n",
            "                </div>\n",
            "              </div>\n",
            "            </div>\n",
            "          </div>\n",
            "          <div class=\"container\">\n",
            "            <ol class=\"carousel-indicators\">\n",
            "              <li data-target=\"#customCarousel1\" data-slide-to=\"0\" class=\"active\"></li>\n",
            "              <li data-target=\"#customCarousel1\" data-slide-to=\"1\"></li>\n",
            "              <li data-target=\"#customCarousel1\" data-slide-to=\"2\"></li>\n",
            "            </ol>\n",
            "          </div>\n",
            "        </div>\n",
            "      </section>\n",
            "      <!-- end slider section -->\n",
            "    </div>\n",
            "    <!-- why section -->\n",
            "    <section class=\"why-section layout-padding\">\n",
            "      <div class=\"container\">\n",
            "        <div class=\"heading-container heading-center\" id=\"acerca\">\n",
            "          <h2>¿Por qué comprar con nosotros?</h2>\n",
            "        </div>\n",
            "        <div class=\"row\">\n",
            "          <div class=\"col-md-4\">\n",
            "            <div class=\"box \">\n",
            "              <div class=\"img-box\">\n",
            "                <svg version=\"1.1\" id=\"Layer-1\" xmlns=\"http://www.w3.org/2000/svg\"\n",
            "                  xmlns:xlink=\"http://www.w3.org/1999/xlink\" x=\"0px\" y=\"0px\" viewBox=\"0 0 512 512\"\n",
            "                  style=\"enable-background:new 0 0 512 512;\" xml:space=\"preserve\">\n",
            "                  <g>\n",
            "                    <g>\n",
            "                      <path d=\"M476.158,231.363l-13.259-53.035c3.625-0.77,6.345-3.986,6.345-7.839v-8.551c0-18.566-15.105-33.67-33.67-33.67h-60.392\n",
            "                                      V110.63c0-9.136-7.432-16.568-16.568-16.568H50.772c-9.136,0-16.568,7.432-16.568,16.568V256c0,4.427,3.589,8.017,8.017,8.017\n",
            "                                      c4.427,0,8.017-3.589,8.017-8.017V110.63c0-0.295,0.239-0.534,0.534-0.534h307.841c0.295,0,0.534,0.239,0.534,0.534v145.372\n",
            "                                      c0,4.427,3.589,8.017,8.017,8.017c4.427,0,8.017-3.589,8.017-8.017v-9.088h94.569c0.008,0,0.014,0.002,0.021,0.002\n",
            "                                      c0.008,0,0.015-0.001,0.022-0.001c11.637,0.008,21.518,7.646,24.912,18.171h-24.928c-4.427,0-8.017,3.589-8.017,8.017v17.102\n",
            "                                      c0,13.851,11.268,25.119,25.119,25.119h9.086v35.273h-20.962c-6.886-19.883-25.787-34.205-47.982-34.205\n",
            "                                      s-41.097,14.322-47.982,34.205h-3.86v-60.393c0-4.427-3.589-8.017-8.017-8.017c-4.427,0-8.017,3.589-8.017,8.017v60.391H192.817\n",
            "                                      c-6.886-19.883-25.787-34.205-47.982-34.205s-41.097,14.322-47.982,34.205H50.772c-0.295,0-0.534-0.239-0.534-0.534v-17.637\n",
            "                                      h34.739c4.427,0,8.017-3.589,8.017-8.017s-3.589-8.017-8.017-8.017H8.017c-4.427,0-8.017,3.589-8.017,8.017\n",
            "                                      s3.589,8.017,8.017,8.017h26.188v17.637c0,9.136,7.432,16.568,16.568,16.568h43.304c-0.002,0.178-0.014,0.355-0.014,0.534\n",
            "                                      c0,27.996,22.777,50.772,50.772,50.772s50.772-22.776,50.772-50.772c0-0.18-0.012-0.356-0.014-0.534h180.67\n",
            "                                      c-0.002,0.178-0.014,0.355-0.014,0.534c0,27.996,22.777,50.772,50.772,50.772c27.995,0,50.772-22.776,50.772-50.772\n",
            "                                      c0-0.18-0.012-0.356-0.014-0.534h26.203c4.427,0,8.017-3.589,8.017-8.017v-85.511C512,251.989,496.423,234.448,476.158,231.363z\n",
            "                                      M375.182,144.301h60.392c9.725,0,17.637,7.912,17.637,17.637v0.534h-78.029V144.301z M375.182,230.881v-52.376h71.235\n",
            "                                      l13.094,52.376H375.182z M144.835,401.904c-19.155,0-34.739-15.583-34.739-34.739s15.584-34.739,34.739-34.739\n",
            "                                      c19.155,0,34.739,15.583,34.739,34.739S163.99,401.904,144.835,401.904z M427.023,401.904c-19.155,0-34.739-15.583-34.739-34.739\n",
            "                                      s15.584-34.739,34.739-34.739c19.155,0,34.739,15.583,34.739,34.739S446.178,401.904,427.023,401.904z M495.967,299.29h-9.086\n",
            "                                      c-5.01,0-9.086-4.076-9.086-9.086v-9.086h18.171V299.29z\" />\n",
            "                    </g>\n",
            "                  </g>\n",
            "                  <g>\n",
            "                    <g>\n",
            "                      <path\n",
            "                        d=\"M144.835,350.597c-9.136,0-16.568,7.432-16.568,16.568c0,9.136,7.432,16.568,16.568,16.568\n",
            "                                      c9.136,0,16.568-7.432,16.568-16.568C161.403,358.029,153.971,350.597,144.835,350.597z\" />\n",
            "                    </g>\n",
            "                  </g>\n",
            "                  <g>\n",
            "                    <g>\n",
            "                      <path\n",
            "                        d=\"M427.023,350.597c-9.136,0-16.568,7.432-16.568,16.568c0,9.136,7.432,16.568,16.568,16.568\n",
            "                                      c9.136,0,16.568-7.432,16.568-16.568C443.591,358.029,436.159,350.597,427.023,350.597z\" />\n",
            "                    </g>\n",
            "                  </g>\n",
            "                  <g>\n",
            "                    <g>\n",
            "                      <path d=\"M332.96,316.393H213.244c-4.427,0-8.017,3.589-8.017,8.017s3.589,8.017,8.017,8.017H332.96\n",
            "                                      c4.427,0,8.017-3.589,8.017-8.017S337.388,316.393,332.96,316.393z\" />\n",
            "                    </g>\n",
            "                  </g>\n",
            "                  <g>\n",
            "                    <g>\n",
            "                      <path d=\"M127.733,282.188H25.119c-4.427,0-8.017,3.589-8.017,8.017s3.589,8.017,8.017,8.017h102.614\n",
            "                                      c4.427,0,8.017-3.589,8.017-8.017S132.16,282.188,127.733,282.188z\" />\n",
            "                    </g>\n",
            "                  </g>\n",
            "                  <g>\n",
            "                    <g>\n",
            "                      <path d=\"M278.771,173.37c-3.13-3.13-8.207-3.13-11.337,0.001l-71.292,71.291l-37.087-37.087c-3.131-3.131-8.207-3.131-11.337,0\n",
            "                                      c-3.131,3.131-3.131,8.206,0,11.337l42.756,42.756c1.565,1.566,3.617,2.348,5.668,2.348s4.104-0.782,5.668-2.348l76.96-76.96\n",
            "                                      C281.901,181.576,281.901,176.501,278.771,173.37z\" />\n",
            "                    </g>\n",
            "                  </g>\n",
            "                  <g>\n",
            "                  </g>\n",
            "                  <g>\n",
            "                  </g>\n",
            "                  <g>\n",
            "                  </g>\n",
            "                  <g>\n",
            "                  </g>\n",
            "                  <g>\n",
            "                  </g>\n",
            "                  <g>\n",
            "                  </g>\n",
            "                  <g>\n",
            "                  </g>\n",
            "                  <g>\n",
            "                  </g>\n",
            "                  <g>\n",
            "                  </g>\n",
            "                  <g>\n",
            "                  </g>\n",
            "                  <g>\n",
            "                  </g>\n",
            "                  <g>\n",
            "                  </g>\n",
            "                  <g>\n",
            "                  </g>\n",
            "                  <g>\n",
            "                  </g>\n",
            "                  <g>\n",
            "                  </g>\n",
            "                </svg>\n",
            "              </div>\n",
            "              <div class=\"detail-box\">\n",
            "                <h5>\n",
            "                  Entrega rápida\n",
            "                </h5>\n",
            "              </div>\n",
            "            </div>\n",
            "          </div>\n",
            "          <div class=\"col-md-4\">\n",
            "            <div class=\"box \">\n",
            "              <div class=\"img-box\">\n",
            "                <svg version=\"1.1\" id=\"Capa-1\" xmlns=\"http://www.w3.org/2000/svg\"\n",
            "                  xmlns:xlink=\"http://www.w3.org/1999/xlink\" x=\"0px\" y=\"0px\" viewBox=\"0 0 490.667 490.667\"\n",
            "                  style=\"enable-background:new 0 0 490.667 490.667;\" xml:space=\"preserve\">\n",
            "                  <g>\n",
            "                    <g>\n",
            "                      <path d=\"M138.667,192H96c-5.888,0-10.667,4.779-10.667,10.667V288c0,5.888,4.779,10.667,10.667,10.667s10.667-4.779,10.667-10.667\n",
            "                                      v-74.667h32c5.888,0,10.667-4.779,10.667-10.667S144.555,192,138.667,192z\" />\n",
            "                    </g>\n",
            "                  </g>\n",
            "                  <g>\n",
            "                    <g>\n",
            "                      <path d=\"M117.333,234.667H96c-5.888,0-10.667,4.779-10.667,10.667S90.112,256,96,256h21.333c5.888,0,10.667-4.779,10.667-10.667\n",
            "                                      S123.221,234.667,117.333,234.667z\" />\n",
            "                    </g>\n",
            "                  </g>\n",
            "                  <g>\n",
            "                    <g>\n",
            "                      <path d=\"M245.333,0C110.059,0,0,110.059,0,245.333s110.059,245.333,245.333,245.333s245.333-110.059,245.333-245.333\n",
            "                                      S380.608,0,245.333,0z M245.333,469.333c-123.52,0-224-100.48-224-224s100.48-224,224-224s224,100.48,224,224\n",
            "                                      S368.853,469.333,245.333,469.333z\" />\n",
            "                    </g>\n",
            "                  </g>\n",
            "                  <g>\n",
            "                    <g>\n",
            "                      <path d=\"M386.752,131.989C352.085,88.789,300.544,64,245.333,64s-106.752,24.789-141.419,67.989\n",
            "                                      c-3.691,4.587-2.965,11.307,1.643,14.997c4.587,3.691,11.307,2.965,14.976-1.643c30.613-38.144,76.096-60.011,124.8-60.011\n",
            "                                      s94.187,21.867,124.779,60.011c2.112,2.624,5.205,3.989,8.32,3.989c2.368,0,4.715-0.768,6.677-2.347\n",
            "                                      C389.717,143.296,390.443,136.576,386.752,131.989z\" />\n",
            "                    </g>\n",
            "                  </g>\n",
            "                  <g>\n",
            "                    <g>\n",
            "                      <path\n",
            "                        d=\"M376.405,354.923c-4.224-4.032-11.008-3.861-15.061,0.405c-30.613,32.235-71.808,50.005-116.011,50.005\n",
            "                                      s-85.397-17.771-115.989-50.005c-4.032-4.309-10.816-4.437-15.061-0.405c-4.309,4.053-4.459,10.816-0.405,15.083\n",
            "                                      c34.667,36.544,81.344,56.661,131.456,56.661s96.789-20.117,131.477-56.661C380.864,365.739,380.693,358.976,376.405,354.923z\" />\n",
            "                    </g>\n",
            "                  </g>\n",
            "                  <g>\n",
            "                    <g>\n",
            "                      <path d=\"M206.805,255.723c15.701-2.027,27.861-15.488,27.861-31.723c0-17.643-14.357-32-32-32h-21.333\n",
            "                                      c-5.888,0-10.667,4.779-10.667,10.667v42.581c0,0.043,0,0.107,0,0.149V288c0,5.888,4.779,10.667,10.667,10.667\n",
            "                                      S192,293.888,192,288v-16.917l24.448,24.469c2.091,2.069,4.821,3.115,7.552,3.115c2.731,0,5.461-1.045,7.531-3.136\n",
            "                                      c4.16-4.16,4.16-10.923,0-15.083L206.805,255.723z M192,234.667v-21.333h10.667c5.867,0,10.667,4.779,10.667,10.667\n",
            "                                      s-4.8,10.667-10.667,10.667H192z\" />\n",
            "                    </g>\n",
            "                  </g>\n",
            "                  <g>\n",
            "                    <g>\n",
            "                      <path d=\"M309.333,277.333h-32v-64h32c5.888,0,10.667-4.779,10.667-10.667S315.221,192,309.333,192h-42.667\n",
            "                                      c-5.888,0-10.667,4.779-10.667,10.667V288c0,5.888,4.779,10.667,10.667,10.667h42.667c5.888,0,10.667-4.779,10.667-10.667\n",
            "                                      S315.221,277.333,309.333,277.333z\" />\n",
            "                    </g>\n",
            "                  </g>\n",
            "                  <g>\n",
            "                    <g>\n",
            "                      <path d=\"M288,234.667h-21.333c-5.888,0-10.667,4.779-10.667,10.667S260.779,256,266.667,256H288\n",
            "                                      c5.888,0,10.667-4.779,10.667-10.667S293.888,234.667,288,234.667z\" />\n",
            "                    </g>\n",
            "                  </g>\n",
            "                  <g>\n",
            "                    <g>\n",
            "                      <path d=\"M394.667,277.333h-32v-64h32c5.888,0,10.667-4.779,10.667-10.667S400.555,192,394.667,192H352\n",
            "                                      c-5.888,0-10.667,4.779-10.667,10.667V288c0,5.888,4.779,10.667,10.667,10.667h42.667c5.888,0,10.667-4.779,10.667-10.667\n",
            "                                      S400.555,277.333,394.667,277.333z\" />\n",
            "                    </g>\n",
            "                  </g>\n",
            "                  <g>\n",
            "                    <g>\n",
            "                      <path d=\"M373.333,234.667H352c-5.888,0-10.667,4.779-10.667,10.667S346.112,256,352,256h21.333\n",
            "                                      c5.888,0,10.667-4.779,10.667-10.667S379.221,234.667,373.333,234.667z\" />\n",
            "                    </g>\n",
            "                  </g>\n",
            "                  <g>\n",
            "                  </g>\n",
            "                  <g>\n",
            "                  </g>\n",
            "                  <g>\n",
            "                  </g>\n",
            "                  <g>\n",
            "                  </g>\n",
            "                  <g>\n",
            "                  </g>\n",
            "                  <g>\n",
            "                  </g>\n",
            "                  <g>\n",
            "                  </g>\n",
            "                  <g>\n",
            "                  </g>\n",
            "                  <g>\n",
            "                  </g>\n",
            "                  <g>\n",
            "                  </g>\n",
            "                  <g>\n",
            "                  </g>\n",
            "                  <g>\n",
            "                  </g>\n",
            "                  <g>\n",
            "                  </g>\n",
            "                  <g>\n",
            "                  </g>\n",
            "                  <g>\n",
            "                  </g>\n",
            "                </svg>\n",
            "              </div>\n",
            "              <div class=\"detail-box\">\n",
            "                <h5>\n",
            "                  Envío gratuito\n",
            "                </h5>\n",
            "              </div>\n",
            "            </div>\n",
            "          </div>\n",
            "          <div class=\"col-md-4\">\n",
            "            <div class=\"box \">\n",
            "              <div class=\"img-box\">\n",
            "                <svg id=\"-30-Premium\" height=\"512\" viewBox=\"0 0 512 512\" width=\"512\" xmlns=\"http://www.w3.org/2000/svg\"\n",
            "                  data-name=\"30-Premium\">\n",
            "                  <g id=\"filled\">\n",
            "                    <path\n",
            "                      d=\"m252.92 300h3.08a124.245 124.245 0 1 0 -4.49-.09c.075.009.15.023.226.03.394.039.789.06 1.184.06zm-96.92-124a100 100 0 1 1 100 100 100.113 100.113 0 0 1 -100-100z\" />\n",
            "                    <path\n",
            "                      d=\"m447.445 387.635-80.4-80.4a171.682 171.682 0 0 0 60.955-131.235c0-94.841-77.159-172-172-172s-172 77.159-172 172c0 73.747 46.657 136.794 112 161.2v158.8c-.3 9.289 11.094 15.384 18.656 9.984l41.344-27.562 41.344 27.562c7.574 5.4 18.949-.7 18.656-9.984v-70.109l46.6 46.594c6.395 6.789 18.712 3.025 20.253-6.132l9.74-48.724 48.725-9.742c9.163-1.531 12.904-13.893 6.127-20.252zm-339.445-211.635c0-81.607 66.393-148 148-148s148 66.393 148 148-66.393 148-148 148-148-66.393-148-148zm154.656 278.016a12 12 0 0 0 -13.312 0l-29.344 19.562v-129.378a172.338 172.338 0 0 0 72 0v129.38zm117.381-58.353a12 12 0 0 0 -9.415 9.415l-6.913 34.58-47.709-47.709v-54.749a171.469 171.469 0 0 0 31.467-15.6l67.151 67.152z\" />\n",
            "                    <path\n",
            "                      d=\"m287.62 236.985c8.349 4.694 19.251-3.212 17.367-12.618l-5.841-35.145 25.384-25c7.049-6.5 2.89-19.3-6.634-20.415l-35.23-5.306-15.933-31.867c-4.009-8.713-17.457-8.711-21.466 0l-15.933 31.866-35.23 5.306c-9.526 1.119-13.681 13.911-6.634 20.415l25.384 25-5.841 35.145c-1.879 9.406 9 17.31 17.367 12.618l31.62-16.414zm-53-32.359 2.928-17.615a12 12 0 0 0 -3.417-10.516l-12.721-12.531 17.658-2.66a12 12 0 0 0 8.947-6.5l7.985-15.971 7.985 15.972a12 12 0 0 0 8.947 6.5l17.658 2.66-12.723 12.535a12 12 0 0 0 -3.417 10.516l2.928 17.615-15.849-8.231a12 12 0 0 0 -11.058 0z\" />\n",
            "                  </g>\n",
            "                </svg>\n",
            "              </div>\n",
            "              <div class=\"detail-box\">\n",
            "                <h5>\n",
            "                  La mejor calidad\n",
            "                </h5>\n",
            "              </div>\n",
            "            </div>\n",
            "          </div>\n",
            "        </div>\n",
            "      </div>\n",
            "    </section>\n",
            "    <!-- end why section -->\n",
            "\n",
            "    <!-- arrival section -->\n",
            "    <section class=\"arrival-section-top\">\n",
            "      <div class=\"container\">\n",
            "        <div class=\"box\">\n",
            "          <div class=\"arrival-bg-box\">\n",
            "            <img src=\"images/arrival-bg-store.png\" alt=\"Variedad de patinetas en la tienda\">\n",
            "          </div>\n",
            "          <div class=\"row\">\n",
            "            <div class=\"col-md-6 ml-auto\">\n",
            "              <div class=\"heading-container remove-line-bt\">\n",
            "                <h2>\n",
            "                  #Novedades\n",
            "                </h2>\n",
            "              </div>\n",
            "              <p style=\"margin-top: 20px;margin-bottom: 30px;\">\n",
            "                ¡No te pierdas nuestros últimos productos!\n",
            "              </p>\n",
            "              <a href=\"\">\n",
            "                Comprar ahora\n",
            "              </a>\n",
            "            </div>\n",
            "          </div>\n",
            "        </div>\n",
            "      </div>\n",
            "    </section>\n",
            "    <!-- end arrival section -->\n",
            "\n",
            "    <!-- product section -->\n",
            "    <section class=\"product-section layout-padding\">\n",
            "      <div class=\"container\">\n",
            "        <div class=\"heading-container heading-center\" id=\"productos\">\n",
            "          <h2>\n",
            "            Nuestros <span>productos</span>\n",
            "          </h2>\n",
            "        </div>\n",
            "        <div class=\"row\">\n",
            "          <div class=\"col-sm-6 col-md-4 col-lg-4\">\n",
            "            <div class=\"box\">\n",
            "              <div class=\"option-container\">\n",
            "                <div class=\"options\">\n",
            "                  <a href=\"\" class=\"option1\">\n",
            "                    Agregar al carrito\n",
            "                  </a>\n",
            "                  <a href=\"\" class=\"option2\">\n",
            "                    Comprar ahora\n",
            "                  </a>\n",
            "                </div>\n",
            "              </div>\n",
            "              <div class=\"img-box\">\n",
            "                <img src=\"images/p1.png\" alt=\"Patineta 1\">\n",
            "              </div>\n",
            "              <div class=\"detail-box\">\n",
            "                <h5>\n",
            "                  Patineta Nueva 1\n",
            "                </h5>\n",
            "                <h6>\n",
            "                  $75\n",
            "                </h6>\n",
            "              </div>\n",
            "            </div>\n",
            "          </div>\n",
            "          <div class=\"col-sm-6 col-md-4 col-lg-4\">\n",
            "            <div class=\"box\">\n",
            "              <div class=\"option-container\">\n",
            "                <div class=\"options\">\n",
            "                  <a href=\"\" class=\"option1\">\n",
            "                    Agregar al carrito\n",
            "                  </a>\n",
            "                  <a href=\"\" class=\"option2\">\n",
            "                    Comprar ahora\n",
            "                  </a>\n",
            "                </div>\n",
            "              </div>\n",
            "              <div class=\"img-box\">\n",
            "                <img src=\"images/p2.jpg\" alt=\"Patineta 2\">\n",
            "              </div>\n",
            "              <div class=\"detail-box\">\n",
            "                <h5>\n",
            "                  Patineta Usada 2\n",
            "                </h5>\n",
            "                <h6>\n",
            "                  $80\n",
            "                </h6>\n",
            "              </div>\n",
            "            </div>\n",
            "          </div>\n",
            "          <div class=\"col-sm-6 col-md-4 col-lg-4\">\n",
            "            <div class=\"box\">\n",
            "              <div class=\"option-container\">\n",
            "                <div class=\"options\">\n",
            "                  <a href=\"\" class=\"option1\">\n",
            "                    Agregar al carrito\n",
            "                  </a>\n",
            "                  <a href=\"\" class=\"option2\">\n",
            "                    Comprar ahora\n",
            "                  </a>\n",
            "                </div>\n",
            "              </div>\n",
            "              <div class=\"img-box\">\n",
            "                <img src=\"images/p3.png\" alt=\"Patineta 3\">\n",
            "              </div>\n",
            "              <div class=\"detail-box\">\n",
            "                <h5>\n",
            "                  Patineta Nueva 3\n",
            "                </h5>\n",
            "                <h6>\n",
            "                  $68\n",
            "                </h6>\n",
            "              </div>\n",
            "            </div>\n",
            "          </div>\n",
            "          <div class=\"col-sm-6 col-md-4 col-lg-4\">\n",
            "            <div class=\"box\">\n",
            "              <div class=\"option-container\">\n",
            "                <div class=\"options\">\n",
            "                  <a href=\"\" class=\"option1\">\n",
            "                    Agregar al carrito\n",
            "                  </a>\n",
            "                  <a href=\"\" class=\"option2\">\n",
            "                    Comprar ahora\n",
            "                  </a>\n",
            "                </div>\n",
            "              </div>\n",
            "              <div class=\"img-box\">\n",
            "                <img src=\"images/p4.png\" alt=\"Patineta 4\">\n",
            "              </div>\n",
            "              <div class=\"detail-box\">\n",
            "                <h5>\n",
            "                  Patineta Usada 4\n",
            "                </h5>\n",
            "                <h6>\n",
            "                  $70\n",
            "                </h6>\n",
            "              </div>\n",
            "            </div>\n",
            "          </div>\n",
            "          <div class=\"col-sm-6 col-md-4 col-lg-4\">\n",
            "            <div class=\"box\">\n",
            "              <div class=\"option-container\">\n",
            "                <div class=\"options\">\n",
            "                  <a href=\"\" class=\"option1\">\n",
            "                    Agregar al carrito\n",
            "                  </a>\n",
            "                  <a href=\"\" class=\"option2\">\n",
            "                    Comprar ahora\n",
            "                  </a>\n",
            "                </div>\n",
            "              </div>\n",
            "              <div class=\"img-box\">\n",
            "                <img src=\"images/p5.png\" alt=\"Patineta 5\">\n",
            "              </div>\n",
            "              <div class=\"detail-box\">\n",
            "                <h5>\n",
            "                  Patineta Nueva 5\n",
            "                </h5>\n",
            "                <h6>\n",
            "                  $75\n",
            "                </h6>\n",
            "              </div>\n",
            "            </div>\n",
            "          </div>\n",
            "          <div class=\"col-sm-6 col-md-4 col-lg-4\">\n",
            "            <div class=\"box\">\n",
            "              <div class=\"option-container\">\n",
            "                <div class=\"options\">\n",
            "                  <a href=\"\" class=\"option1\">\n",
            "                    Agregar al carrito\n",
            "                  </a>\n",
            "                  <a href=\"\" class=\"option2\">\n",
            "                    Comprar ahora\n",
            "                  </a>\n",
            "                </div>\n",
            "              </div>\n",
            "              <div class=\"img-box\">\n",
            "                <img src=\"images/p6.png\" alt=\"Patineta 6\">\n",
            "              </div>\n",
            "              <div class=\"detail-box\">\n",
            "                <h5>\n",
            "                  Patineta Nueva 6\n",
            "                </h5>\n",
            "                <h6>\n",
            "                  $58\n",
            "                </h6>\n",
            "              </div>\n",
            "            </div>\n",
            "          </div>\n",
            "          <div class=\"col-sm-6 col-md-4 col-lg-4\">\n",
            "            <div class=\"box\">\n",
            "              <div class=\"option-container\">\n",
            "                <div class=\"options\">\n",
            "                  <a href=\"\" class=\"option1\">\n",
            "                    Agregar al carrito\n",
            "                  </a>\n",
            "                  <a href=\"\" class=\"option2\">\n",
            "                    Comprar ahora\n",
            "                  </a>\n",
            "                </div>\n",
            "              </div>\n",
            "              <div class=\"img-box\">\n",
            "                <img src=\"images/p7.png\" alt=\"Patineta 7\">\n",
            "              </div>\n",
            "              <div class=\"detail-box\">\n",
            "                <h5>\n",
            "                  Patineta Nueva 7\n",
            "                </h5>\n",
            "                <h6>\n",
            "                  $80\n",
            "                </h6>\n",
            "              </div>\n",
            "            </div>\n",
            "          </div>\n",
            "          <div class=\"col-sm-6 col-md-4 col-lg-4\">\n",
            "            <div class=\"box\">\n",
            "              <div class=\"option-container\">\n",
            "                <div class=\"options\">\n",
            "                  <a href=\"\" class=\"option1\">\n",
            "                    Agregar al carrito\n",
            "                  </a>\n",
            "                  <a href=\"\" class=\"option2\">\n",
            "                    Comprar ahora\n",
            "                  </a>\n",
            "                </div>\n",
            "              </div>\n",
            "              <div class=\"img-box\">\n",
            "                <img src=\"images/p8.png\" alt=\"Patineta 8\">\n",
            "              </div>\n",
            "              <div class=\"detail-box\">\n",
            "                <h5>\n",
            "                  Patineta Nueva 8\n",
            "                </h5>\n",
            "                <h6>\n",
            "                  $35\n",
            "                </h6>\n",
            "              </div>\n",
            "            </div>\n",
            "          </div>\n",
            "          <div class=\"col-sm-6 col-md-4 col-lg-4\">\n",
            "            <div class=\"box\">\n",
            "              <div class=\"option-container\">\n",
            "                <div class=\"options\">\n",
            "                  <a href=\"\" class=\"option1\">\n",
            "                    Agregar al carrito\n",
            "                  </a>\n",
            "                  <a href=\"\" class=\"option2\">\n",
            "                    Comprar ahora\n",
            "                  </a>\n",
            "                </div>\n",
            "              </div>\n",
            "              <div class=\"img-box\">\n",
            "                <img src=\"images/p9.png\" alt=\"Patineta 9\">\n",
            "              </div>\n",
            "              <div class=\"detail-box\">\n",
            "                <h5>\n",
            "                  Patineta Nueva 9\n",
            "                </h5>\n",
            "                <h6>\n",
            "                  $165\n",
            "                </h6>\n",
            "              </div>\n",
            "            </div>\n",
            "          </div>\n",
            "          <div class=\"col-sm-6 col-md-4 col-lg-4\">\n",
            "            <div class=\"box\">\n",
            "              <div class=\"option-container\">\n",
            "                <div class=\"options\">\n",
            "                  <a href=\"\" class=\"option1\">\n",
            "                    Agregar al carrito\n",
            "                  </a>\n",
            "                  <a href=\"\" class=\"option2\">\n",
            "                    Comprar ahora\n",
            "                  </a>\n",
            "                </div>\n",
            "              </div>\n",
            "              <div class=\"img-box\">\n",
            "                <img src=\"images/p10.png\" alt=\"Patineta 10\">\n",
            "              </div>\n",
            "              <div class=\"detail-box\">\n",
            "                <h5>\n",
            "                  Patineta Usada 10\n",
            "                </h5>\n",
            "                <h6>\n",
            "                  $54\n",
            "                </h6>\n",
            "              </div>\n",
            "            </div>\n",
            "          </div>\n",
            "          <div class=\"col-sm-6 col-md-4 col-lg-4\">\n",
            "            <div class=\"box\">\n",
            "              <div class=\"option-container\">\n",
            "                <div class=\"options\">\n",
            "                  <a href=\"\" class=\"option1\">\n",
            "                    Agregar al carrito\n",
            "                  </a>\n",
            "                  <a href=\"\" class=\"option2\">\n",
            "                    Comprar ahora\n",
            "                  </a>\n",
            "                </div>\n",
            "              </div>\n",
            "              <div class=\"img-box\">\n",
            "                <img src=\"images/p11.png\" alt=\"Patineta 11\">\n",
            "              </div>\n",
            "              <div class=\"detail-box\">\n",
            "                <h5>\n",
            "                  Patineta Usada 11\n",
            "                </h5>\n",
            "                <h6>\n",
            "                  $99\n",
            "                </h6>\n",
            "              </div>\n",
            "            </div>\n",
            "          </div>\n",
            "          <div class=\"col-sm-6 col-md-4 col-lg-4\">\n",
            "            <div class=\"box\">\n",
            "              <div class=\"option-container\">\n",
            "                <div class=\"options\">\n",
            "                  <a href=\"\" class=\"option1\">\n",
            "                    Agregar al carrito\n",
            "                  </a>\n",
            "                  <a href=\"\" class=\"option2\">\n",
            "                    Comprar ahora\n",
            "                  </a>\n",
            "                </div>\n",
            "              </div>\n",
            "              <div class=\"img-box\">\n",
            "                <img src=\"images/p12.png\" alt=\"Patineta 12\">\n",
            "              </div>\n",
            "              <div class=\"detail-box\">\n",
            "                <h5>\n",
            "                  Patineta Nueva 12\n",
            "                </h5>\n",
            "                <h6>\n",
            "                  $110\n",
            "                </h6>\n",
            "              </div>\n",
            "            </div>\n",
            "          </div>\n",
            "        </div>\n",
            "        <div class=\"btn-box\">\n",
            "          <a href=\"\">\n",
            "            Ver todos los productos\n",
            "          </a>\n",
            "        </div>\n",
            "      </div>\n",
            "    </section>\n",
            "    <!-- end product section -->\n",
            "\n",
            "    <!-- subscribe section -->\n",
            "    <section class=\"subscribe-section\">\n",
            "      <div class=\"container-fuild\">\n",
            "        <div class=\"box\">\n",
            "          <div class=\"row\">\n",
            "            <div class=\"col-md-6 offset-md-3\">\n",
            "              <div class=\"subscribe-form \">\n",
            "                <div class=\"heading-container heading-center\">\n",
            "                  <h3>Suscríbete para obtener descuentos y ofertas</h3>\n",
            "                </div>\n",
            "                <form action=\"\">\n",
            "                  <input type=\"email\" placeholder=\"Dejanos tu email\">\n",
            "                  <button>\n",
            "                    Suscribirse\n",
            "                  </button>\n",
            "                </form>\n",
            "              </div>\n",
            "            </div>\n",
            "          </div>\n",
            "        </div>\n",
            "      </div>\n",
            "    </section>\n",
            "    <!-- end subscribe section -->\n",
            "    <!-- client section -->\n",
            "    <section class=\"client-section layout-padding\" id=\"testimonios\">\n",
            "      <div class=\"container\">\n",
            "        <div class=\"heading-container heading-center\">\n",
            "          <h2>\n",
            "            Testimonios de clientes\n",
            "          </h2>\n",
            "        </div>\n",
            "        <div id=\"carouselExample3Controls\" class=\"carousel slide\" data-ride=\"carousel\">\n",
            "          <div class=\"carousel-inner\">\n",
            "            <div class=\"carousel-item active\">\n",
            "              <div class=\"box col-lg-10 mx-auto\">\n",
            "                <div class=\"img-container\">\n",
            "                  <div class=\"img-box\">\n",
            "                    <div class=\"img-box-inner\">\n",
            "                      <img src=\"images/client-one.png\" alt=\"Cliente 1\">\n",
            "                    </div>\n",
            "                  </div>\n",
            "                </div>\n",
            "                <div class=\"detail-box\">\n",
            "                  <h5 class=\"cliente-nombre\">\n",
            "                    Cliente 1\n",
            "                  </h5>\n",
            "                  <p class=\"cliente-comentario\">\n",
            "                    Los productos me encantaron y los precios son muy buenos. Lo recomiendo.\n",
            "                  </p>\n",
            "                </div>\n",
            "              </div>\n",
            "            </div>\n",
            "            <div class=\"carousel-item\">\n",
            "              <div class=\"box col-lg-10 mx-auto\">\n",
            "                <div class=\"img-container\">\n",
            "                  <div class=\"img-box\">\n",
            "                    <div class=\"img-box-inner\">\n",
            "                      <img src=\"images/client-two.png\" alt=\"Cliente 2\">\n",
            "                    </div>\n",
            "                  </div>\n",
            "                </div>\n",
            "                <div class=\"detail-box\">\n",
            "                  <h5 class=\"cliente-nombre\">\n",
            "                    Cliente 2\n",
            "                  </h5>\n",
            "                  <p class=\"cliente-comentario\">\n",
            "                    ¡La calidad y variedad de patinetas es impresionante! Definitivamente volveré a comprar.\n",
            "                  </p>\n",
            "                </div>\n",
            "              </div>\n",
            "            </div>\n",
            "            <div class=\"carousel-item\">\n",
            "              <div class=\"box col-lg-10 mx-auto\">\n",
            "                <div class=\"img-container\">\n",
            "                  <div class=\"img-box\">\n",
            "                    <div class=\"img-box-inner\">\n",
            "                      <img src=\"images/client-three.png\" alt=\"Cliente 3\">\n",
            "                    </div>\n",
            "                  </div>\n",
            "                </div>\n",
            "                <div class=\"detail-box\">\n",
            "                  <h5 class=\"cliente-nombre\">\n",
            "                    Cliente 3\n",
            "                  </h5>\n",
            "                  <p class=\"cliente-comentario\">\n",
            "                    Estoy muy conforme. Hay muchas patinetas y los diseños son fantásticos.\n",
            "                  </p>\n",
            "                </div>\n",
            "              </div>\n",
            "            </div>\n",
            "          </div>\n",
            "          <div class=\"carousel-btn-box\">\n",
            "            <a class=\"carousel-control-prev\" href=\"#carouselExample3Controls\" role=\"button\" data-slide=\"prev\">\n",
            "              <i class=\"fa fa-long-arrow-left\" aria-hidden=\"true\"></i>\n",
            "              <span class=\"sr-only\">Anterior</span>\n",
            "            </a>\n",
            "            <a class=\"carousel-control-next\" href=\"#carouselExample3Controls\" role=\"button\" data-slide=\"next\">\n",
            "              <i class=\"fa fa-long-arrow-right\" aria-hidden=\"true\"></i>\n",
            "              <span class=\"sr-only\">Siguiente</span>\n",
            "            </a>\n",
            "          </div>\n",
            "        </div>\n",
            "      </div>\n",
            "    </section>\n",
            "    <!-- end client section -->\n",
            "    <section class=\"arrival-section-bottom\" id=\"precios\">\n",
            "      <div class=\"container \">\n",
            "        <h2 class=\"heading-container\">\n",
            "          Tabla de precios\n",
            "        </h2>\n",
            "        <br>\n",
            "        <div class=\"table-responsive\">\n",
            "          <iframe src=\"table.html\" title=\"table_iframe\"></iframe>\n",
            "        </div>\n",
            "\n",
            "        <div class=\"btn-box\" id=\"missing-models-box\">\n",
            "          <a href=\"\">\n",
            "            Los modelos faltantes se muestran en color rojo.\n",
            "          </a>\n",
            "        </div>\n",
            "      </div>\n",
            "    </section>\n",
            "\n",
            "    <!-- footer start -->\n",
            "    <footer>\n",
            "      <div class=\"container\">\n",
            "        <div class=\"row\">\n",
            "          <div class=\"col-md-4\">\n",
            "            <div class=\"full\">\n",
            "              <div class=\"logo-footer\">\n",
            "                <a href=\"#\"><img width=\"210\" src=\"images/logo.svg\" alt=\"#\" /></a>\n",
            "              </div>\n",
            "              <div class=\"information-f\">\n",
            "                <p><strong>DIRECCIÓN:</strong> Calle falsa 123</p>\n",
            "                <p><strong>TELÉFONO:</strong> 4-444-4444</p>\n",
            "                <p><strong>EMAIL:</strong> ventas@mail.com</p>\n",
            "              </div>\n",
            "            </div>\n",
            "          </div>\n",
            "          <div class=\"col-md-8\">\n",
            "            <div class=\"row\">\n",
            "              <div class=\"col-md-7\">\n",
            "                <div class=\"row\">\n",
            "                  <div class=\"col-md-6\">\n",
            "                    <div class=\"widget-menu\">\n",
            "                      <h3 class=\"menu\">MENÚ</h3>\n",
            "                      <ul>\n",
            "                        <li><a href=\"#\">Inicio</a></li>\n",
            "                        <li><a href=\"#\">Acerca</a></li>\n",
            "                        <li><a href=\"#\">Servicios</a></li>\n",
            "                        <li><a href=\"#\">Testimonios</a></li>\n",
            "                        <li><a href=\"#\">Contacto</a></li>\n",
            "                      </ul>\n",
            "                    </div>\n",
            "                  </div>\n",
            "                </div>\n",
            "              </div>\n",
            "            </div>\n",
            "          </div>\n",
            "        </div>\n",
            "      </div>\n",
            "    </footer>\n",
            "    <!-- footer end -->\n",
            "    <div class=\"attribution\">\n",
            "      <p>© 2022 <span>Todos los derechos reservados</span>.\n",
            "        <a href=\"https://html.design/\" target=\"_blank\" rel=\"noopener noreferrer\">Creado con Free Html Templates</a>.\n",
            "      </p>\n",
            "      <a href=\"https://freecodecamp.org/\" target=\"_blank\" rel=\"noopener noreferrer\">\n",
            "        <img class=\"freecodecamp-logo\" src=\"./images/freecodecamp-logo.png\" alt=\"Logo de freeCodeCamp\">\n",
            "      </a>\n",
            "    </div>\n",
            "    <!-- jQuery -->\n",
            "    <script src=\"js/jquery-3.4.1.min.js\"></script>\n",
            "    <!-- popper js -->\n",
            "    <script src=\"js/popper.min.js\"></script>\n",
            "    <!-- bootstrap js -->\n",
            "    <script src=\"js/bootstrap.js\"></script>\n",
            "  </body>\n",
            "\n",
            "</html>\n"
          ]
        }
      ],
      "source": [
        "print(respuesta.text) #<--Se accede al contenido de la variable 'respuesta'"
      ]
    },
    {
      "cell_type": "markdown",
      "metadata": {
        "id": "6yF0A4Nl6K2d"
      },
      "source": [
        "Web: http://httpbin.org/headers (útil para testear pedidos HTTP).\n"
      ]
    },
    {
      "cell_type": "code",
      "execution_count": 6,
      "metadata": {
        "colab": {
          "base_uri": "https://localhost:8080/"
        },
        "id": "yGvs4upI6KLv",
        "outputId": "926fc396-225e-4ac0-8553-c2e272b437ce"
      },
      "outputs": [
        {
          "name": "stdout",
          "output_type": "stream",
          "text": [
            "Respuesta sin headers:\n",
            "{\n",
            "  \"headers\": {\n",
            "    \"Accept\": \"*/*\", \n",
            "    \"Accept-Encoding\": \"gzip, deflate, br\", \n",
            "    \"Host\": \"httpbin.org\", \n",
            "    \"User-Agent\": \"python-requests/2.27.1\", \n",
            "    \"X-Amzn-Trace-Id\": \"Root=1-6539c612-6235acc41805a2727bf18d0e\"\n",
            "  }\n",
            "}\n",
            "\n"
          ]
        }
      ],
      "source": [
        "URL = 'http://httpbin.org/headers'\n",
        "resp = requests.get(URL)\n",
        "\n",
        "print('Respuesta sin headers:')\n",
        "print(resp.text)"
      ]
    },
    {
      "cell_type": "code",
      "execution_count": 7,
      "metadata": {
        "colab": {
          "base_uri": "https://localhost:8080/"
        },
        "id": "X94bg5Lfh1Uw",
        "outputId": "881bdcbf-23d0-47e5-abfd-66186252b1dc"
      },
      "outputs": [
        {
          "name": "stdout",
          "output_type": "stream",
          "text": [
            "Respuesta con headers:\n",
            "{\n",
            "  \"headers\": {\n",
            "    \"Accept\": \"*/*\", \n",
            "    \"Accept-Encoding\": \"gzip, deflate, br\", \n",
            "    \"Host\": \"httpbin.org\", \n",
            "    \"User-Agent\": \"Mozilla/5.0 (X11; Linux x86_64) AppleWebKit/537.36 (KHTML, like Gecko) Chrome/84.0.4147.105 Safari/537.36\", \n",
            "    \"X-Amzn-Trace-Id\": \"Root=1-6539c615-0f2bec4e49cc2fd205ac24f3\"\n",
            "  }\n",
            "}\n",
            "\n"
          ]
        }
      ],
      "source": [
        "print('Respuesta con headers:')\n",
        "nuestros_headers = {\n",
        "    'user-agent': 'Mozilla/5.0 (X11; Linux x86_64) AppleWebKit/537.36 (KHTML, like Gecko) Chrome/84.0.4147.105 Safari/537.36'\n",
        "    }\n",
        "resp_con_headers = requests.get(URL, headers = nuestros_headers)\n",
        "print(resp_con_headers.text)"
      ]
    },
    {
      "cell_type": "markdown",
      "metadata": {},
      "source": [
        "La diferencia clave aquí es que estás proporcionando un encabezado personalizado en la solicitud (headers=nuestros_headers). Al hacerlo, puedes influir en la forma en que el servidor responde. En este caso, el servidor podría proporcionar una respuesta diferente o mostrar información específica en función del encabezado personalizado que has proporcionado."
      ]
    },
    {
      "cell_type": "markdown",
      "metadata": {
        "id": "NFVDnesOKZ7N"
      },
      "source": [
        "# **Uso basico de APIs de manera directa**"
      ]
    },
    {
      "cell_type": "markdown",
      "metadata": {
        "id": "i3rq7-cOLHuV"
      },
      "source": [
        "[Sunset and sunrise times API](https://sunrise-sunset.org/api)\n",
        "\n",
        "**Sirve para obtener la hora del amanecer y el ocaso de un determinado día**\n",
        "\n",
        "*Parámetros:*\n",
        "\n",
        "\n",
        "*  **lat** (float): Latitud en grados decimales(Obligatorio)\n",
        "*  **lng** (float): Longitud en grados decimales (obligatorio)\n",
        "*  **date** (string): Fecha en formato AAAA-MM-DD (opcional, por defecto usa el día actual)\n",
        "\n",
        "*Estructura de la query:*\n",
        "\n",
        "`https://api.sunrise-sunset.org/json?`\n",
        "\n",
        "`lat=36.7201600`\n",
        "\n",
        "`&`\n",
        "\n",
        "`lng=-4.4203400`\n",
        "\n",
        "`&`\n",
        "\n",
        "`date=2021-07-26`"
      ]
    },
    {
      "cell_type": "code",
      "execution_count": 8,
      "metadata": {
        "id": "EIFWdHPVJsEi"
      },
      "outputs": [],
      "source": [
        "# Parámetros del Query\n",
        "latitud = -34.6\n",
        "longitud = -58.4\n",
        "fecha = '1816-07-09'"
      ]
    },
    {
      "cell_type": "code",
      "execution_count": 9,
      "metadata": {
        "id": "oe0bMEQBJubx"
      },
      "outputs": [],
      "source": [
        "# Realización de la consuita y se guarda en una nueva variable\n",
        "respuesta_sunset = requests.get(f'https://api.sunrise-sunset.org/json?lat={latitud}&lng={longitud}&date={fecha}')"
      ]
    },
    {
      "cell_type": "code",
      "execution_count": 10,
      "metadata": {
        "colab": {
          "base_uri": "https://localhost:8080/"
        },
        "id": "1KBTJWoYllvx",
        "outputId": "ff27bb2b-eeec-434f-b8cb-b449741523ae"
      },
      "outputs": [
        {
          "data": {
            "text/plain": [
              "requests.models.Response"
            ]
          },
          "execution_count": 10,
          "metadata": {},
          "output_type": "execute_result"
        }
      ],
      "source": [
        "type(respuesta_sunset)"
      ]
    },
    {
      "cell_type": "code",
      "execution_count": 11,
      "metadata": {
        "colab": {
          "base_uri": "https://localhost:8080/"
        },
        "id": "dZkY8OHKJxFN",
        "outputId": "0d33cb96-ff7d-4222-83fc-f60c4086b76f"
      },
      "outputs": [
        {
          "name": "stdout",
          "output_type": "stream",
          "text": [
            "{'results': {'sunrise': '10:58:20 AM', 'sunset': '8:58:27 PM', 'solar_noon': '3:58:24 PM', 'day_length': '10:00:07', 'civil_twilight_begin': '10:32:04 AM', 'civil_twilight_end': '9:24:44 PM', 'nautical_twilight_begin': '10:00:49 AM', 'nautical_twilight_end': '9:55:58 PM', 'astronomical_twilight_begin': '9:30:19 AM', 'astronomical_twilight_end': '10:26:29 PM'}, 'status': 'OK'}\n"
          ]
        }
      ],
      "source": [
        "# Cargar el objeto como json\n",
        "datos_sunset = respuesta_sunset.json()\n",
        "print(datos_sunset)"
      ]
    },
    {
      "cell_type": "code",
      "execution_count": 12,
      "metadata": {
        "colab": {
          "base_uri": "https://localhost:8080/"
        },
        "id": "7kr6nPiQl1gK",
        "outputId": "cdea0478-03ed-467a-92ea-36593997c045"
      },
      "outputs": [
        {
          "data": {
            "text/plain": [
              "dict_keys(['results', 'status'])"
            ]
          },
          "execution_count": 12,
          "metadata": {},
          "output_type": "execute_result"
        }
      ],
      "source": [
        "type(datos_sunset)\n",
        "datos_sunset.keys() #<--Imprimimos las llaves del diccionario"
      ]
    },
    {
      "cell_type": "code",
      "execution_count": 13,
      "metadata": {
        "colab": {
          "base_uri": "https://localhost:8080/"
        },
        "id": "Z8lcUaepJ2IJ",
        "outputId": "a7958c7c-8520-4989-8e02-e021971d7802"
      },
      "outputs": [
        {
          "name": "stdout",
          "output_type": "stream",
          "text": [
            "Status: OK\n"
          ]
        }
      ],
      "source": [
        "# Status de la consulta\n",
        "sunset_status = datos_sunset['status'] #<--Accedemos al valor de la llave 'status'\n",
        "print(f'Status: {sunset_status}')"
      ]
    },
    {
      "cell_type": "code",
      "execution_count": 14,
      "metadata": {
        "colab": {
          "base_uri": "https://localhost:8080/",
          "height": 36
        },
        "id": "AVf-wnSKmAKg",
        "outputId": "e91e9934-f268-46ec-c322-aa7f81715c0a"
      },
      "outputs": [
        {
          "data": {
            "text/plain": [
              "'8:58:27 PM'"
            ]
          },
          "execution_count": 14,
          "metadata": {},
          "output_type": "execute_result"
        }
      ],
      "source": [
        "datos_sunset['results']['sunset'] #<--Accedemos al valor dentro del diccionario 'sunset' que a su vez esta dentro del diccionario 'results'"
      ]
    },
    {
      "cell_type": "code",
      "execution_count": 15,
      "metadata": {
        "colab": {
          "base_uri": "https://localhost:8080/"
        },
        "id": "vDCpwey_J6J1",
        "outputId": "dfaf3430-3a71-42be-ca69-bbda3b65b460"
      },
      "outputs": [
        {
          "name": "stdout",
          "output_type": "stream",
          "text": [
            "El 1816-07-09 el sol se ocultó a las 8:58:27 PM (UTC)\n"
          ]
        }
      ],
      "source": [
        "# Ver su contenido ya que es son diccionarios anidados:\n",
        "sunset = datos_sunset['results']['sunset']\n",
        "print(f'El {fecha} el sol se ocultó a las {sunset} (UTC)')"
      ]
    },
    {
      "cell_type": "code",
      "execution_count": 16,
      "metadata": {
        "colab": {
          "base_uri": "https://localhost:8080/"
        },
        "id": "_1N7IJIiKIIC",
        "outputId": "916d1bd7-723a-40c3-a805-3c380f31c1e1"
      },
      "outputs": [
        {
          "name": "stdout",
          "output_type": "stream",
          "text": [
            "Iterando data_sunset['results']:\n",
            "sunrise\n",
            "sunset\n",
            "solar_noon\n",
            "day_length\n",
            "civil_twilight_begin\n",
            "civil_twilight_end\n",
            "nautical_twilight_begin\n",
            "nautical_twilight_end\n",
            "astronomical_twilight_begin\n",
            "astronomical_twilight_end\n"
          ]
        }
      ],
      "source": [
        "# Iterar sobre sus claves\n",
        "print(\"Iterando data_sunset['results']:\")\n",
        "for elemento in datos_sunset['results']:\n",
        "  print(elemento)"
      ]
    },
    {
      "cell_type": "markdown",
      "metadata": {
        "id": "KcHglp06hnfy"
      },
      "source": [
        "### **Uso de API por medio de una librería: Wikipedia**\n",
        "\n",
        "Wikipedia-API es un *wrapper* (empaquetados) de Python fácil de usar para la API de Wikipedia. Admite la extracción de textos, secciones, enlaces, categorías, traducciones, etc.\n",
        "\n"
      ]
    },
    {
      "cell_type": "code",
      "execution_count": 17,
      "metadata": {
        "colab": {
          "base_uri": "https://localhost:8080/",
          "height": 1000
        },
        "id": "EqWcjExWiihS",
        "outputId": "bffc646d-13f5-4fb6-f215-52470ccb809a"
      },
      "outputs": [
        {
          "name": "stdout",
          "output_type": "stream",
          "text": [
            "Using pip 22.2.2 from C:\\Users\\gmend\\anaconda3\\lib\\site-packages\\pip (python 3.9)\n",
            "Collecting wikipedia-api==0.5.8\n",
            "  Using cached Wikipedia_API-0.5.8-py3-none-any.whl (13 kB)\n",
            "Collecting requests\n",
            "  Using cached requests-2.31.0-py3-none-any.whl (62 kB)\n",
            "Collecting charset-normalizer<4,>=2\n",
            "  Using cached charset_normalizer-3.3.1-cp39-cp39-win_amd64.whl (98 kB)\n",
            "Collecting certifi>=2017.4.17\n",
            "  Using cached certifi-2023.7.22-py3-none-any.whl (158 kB)\n",
            "Collecting urllib3<3,>=1.21.1\n",
            "  Using cached urllib3-2.0.7-py3-none-any.whl (124 kB)\n",
            "Collecting idna<4,>=2.5\n",
            "  Using cached idna-3.4-py3-none-any.whl (61 kB)\n",
            "Installing collected packages: urllib3, idna, charset-normalizer, certifi, requests, wikipedia-api\n",
            "  Attempting uninstall: urllib3\n",
            "    Found existing installation: urllib3 1.26.18\n",
            "    Uninstalling urllib3-1.26.18:\n",
            "      Removing file or directory c:\\users\\gmend\\anaconda3\\lib\\site-packages\\urllib3-1.26.18.dist-info\\\n",
            "      Removing file or directory c:\\users\\gmend\\anaconda3\\lib\\site-packages\\urllib3\\\n",
            "      Successfully uninstalled urllib3-1.26.18\n",
            "  Attempting uninstall: idna\n",
            "    Found existing installation: idna 3.4\n",
            "    Uninstalling idna-3.4:\n",
            "      Removing file or directory c:\\users\\gmend\\anaconda3\\lib\\site-packages\\idna-3.4.dist-info\\\n",
            "      Removing file or directory c:\\users\\gmend\\anaconda3\\lib\\site-packages\\idna\\\n",
            "      Successfully uninstalled idna-3.4\n",
            "  Attempting uninstall: charset-normalizer\n",
            "    Found existing installation: charset-normalizer 2.0.12\n",
            "    Uninstalling charset-normalizer-2.0.12:\n",
            "      Removing file or directory c:\\users\\gmend\\anaconda3\\lib\\site-packages\\charset_normalizer-2.0.12.dist-info\\\n",
            "      Removing file or directory c:\\users\\gmend\\anaconda3\\lib\\site-packages\\charset_normalizer\\\n",
            "      Removing file or directory c:\\users\\gmend\\anaconda3\\scripts\\normalizer.exe\n",
            "      Successfully uninstalled charset-normalizer-2.0.12\n",
            "  Attempting uninstall: certifi\n",
            "    Found existing installation: certifi 2023.7.22\n",
            "    Uninstalling certifi-2023.7.22:\n",
            "      Removing file or directory c:\\users\\gmend\\anaconda3\\lib\\site-packages\\certifi-2023.7.22.dist-info\\\n",
            "      Removing file or directory c:\\users\\gmend\\anaconda3\\lib\\site-packages\\certifi\\\n",
            "      Successfully uninstalled certifi-2023.7.22\n",
            "  Attempting uninstall: requests\n",
            "    Found existing installation: requests 2.27.1\n",
            "    Uninstalling requests-2.27.1:\n",
            "      Removing file or directory c:\\users\\gmend\\anaconda3\\lib\\site-packages\\requests-2.27.1.dist-info\\\n",
            "      Removing file or directory c:\\users\\gmend\\anaconda3\\lib\\site-packages\\requests\\\n",
            "      Successfully uninstalled requests-2.27.1\n",
            "  Attempting uninstall: wikipedia-api\n",
            "    Found existing installation: Wikipedia-API 0.5.8\n",
            "    Uninstalling Wikipedia-API-0.5.8:\n",
            "      Removing file or directory c:\\users\\gmend\\anaconda3\\lib\\site-packages\\wikipedia_api-0.5.8.dist-info\\\n",
            "      Removing file or directory c:\\users\\gmend\\anaconda3\\lib\\site-packages\\wikipediaapi\\\n",
            "      Successfully uninstalled Wikipedia-API-0.5.8\n",
            "Successfully installed certifi-2023.7.22 charset-normalizer-3.3.1 idna-3.4 requests-2.31.0 urllib3-2.0.7 wikipedia-api-0.5.8\n"
          ]
        },
        {
          "name": "stderr",
          "output_type": "stream",
          "text": [
            "ERROR: pip's dependency resolver does not currently take into account all the packages that are installed. This behaviour is the source of the following dependency conflicts.\n",
            "conda-repo-cli 1.0.27 requires clyent==1.2.1, but you have clyent 1.2.2 which is incompatible.\n",
            "conda-repo-cli 1.0.27 requires nbformat==5.4.0, but you have nbformat 5.5.0 which is incompatible.\n",
            "conda-repo-cli 1.0.27 requires requests==2.28.1, but you have requests 2.31.0 which is incompatible.\n",
            "botocore 1.27.28 requires urllib3<1.27,>=1.25.4, but you have urllib3 2.0.7 which is incompatible.\n"
          ]
        }
      ],
      "source": [
        "# Instalación del paquete\n",
        "\n",
        "!pip3 install --force-reinstall -v  \"wikipedia-api==0.5.8\""
      ]
    },
    {
      "cell_type": "code",
      "execution_count": 18,
      "metadata": {
        "colab": {
          "base_uri": "https://localhost:8080/"
        },
        "id": "9WTgRAA3sjdG",
        "outputId": "8b2c5a12-56b3-4e17-bbbf-04e553056c16"
      },
      "outputs": [
        {
          "name": "stdout",
          "output_type": "stream",
          "text": [
            "(0, 5, 8)\n"
          ]
        }
      ],
      "source": [
        "import wikipediaapi\n",
        "\n",
        "# Versión\n",
        "print(wikipediaapi.__version__)"
      ]
    },
    {
      "cell_type": "code",
      "execution_count": null,
      "metadata": {
        "colab": {
          "base_uri": "https://localhost:8080/"
        },
        "id": "UhukUmpni1Au",
        "outputId": "20537f9c-a849-40ff-b9da-669c3e03f82d"
      },
      "outputs": [],
      "source": [
        "# Url\n",
        "#print(wikipedia_programacion.fullurl())"
      ]
    },
    {
      "cell_type": "code",
      "execution_count": 19,
      "metadata": {
        "colab": {
          "base_uri": "https://localhost:8080/"
        },
        "id": "VLY7a8imigip",
        "outputId": "acb210af-dbe4-4df1-a8b9-3fecc30d3a8f"
      },
      "outputs": [
        {
          "name": "stdout",
          "output_type": "stream",
          "text": [
            "wikipedia_programacion es un objeto de tipo: \n",
            " \n",
            "<class 'wikipediaapi.WikipediaPage'>\n"
          ]
        }
      ],
      "source": [
        "# Instanciamos la clase wikipediaapi y utilizamos del metodo Wikipedia con el parametro de idioma\n",
        "IDIOMA = 'es'\n",
        "wiki_wiki = wikipediaapi.Wikipedia(IDIOMA) #<--Se le pasa el idioma deseado como argumento\n",
        "\n",
        "# Metodo 'page' para y hacemos un pedido con una palabra clave\n",
        "PALABRA_CLAVE = 'programación'\n",
        "wikipedia_programacion = wiki_wiki.page(PALABRA_CLAVE)\n",
        "\n",
        "print(f'wikipedia_programacion es un objeto de tipo: \\n \\n{type(wikipedia_programacion)}')"
      ]
    },
    {
      "cell_type": "code",
      "execution_count": 20,
      "metadata": {
        "colab": {
          "base_uri": "https://localhost:8080/"
        },
        "id": "dK5pdTsYivt8",
        "outputId": "42c76515-12d0-44e5-e749-d1e97bac54d7"
      },
      "outputs": [
        {
          "name": "stdout",
          "output_type": "stream",
          "text": [
            "programación\n",
            " \n",
            "La programación es el proceso de crear un conjunto de instrucciones que le dicen a una computadora como realizar algún tipo de tarea. Pero no solo la acción de escribir un código para que la computadora o el software lo ejecute. Incluye, además, todas las tareas necesarias para que el código funcione correctamente y cumpla el objetivo para el cual se escribió.[1]​ \n",
            "En la actualidad, la noción de programación se encuentra muy asociada a la creación de aplicaciones de informática y videojuegos. En este sentido, es el proceso por el cual una persona desarrolla un programa, valiéndose de una herramienta que le permita escribir el código (el cual puede estar en uno o varios lenguajes, como C++, Java y Python, entre muchos otros) y de otra que sea capaz de “traducirlo” a lo que se conoce como lenguaje de máquina, que puede \"comprender\" el microprocesador.[2]​\n"
          ]
        }
      ],
      "source": [
        "# Resumen\n",
        "print(wikipedia_programacion.title) #<--Obtenemos el título de la página\n",
        "print(' ')\n",
        "print(wikipedia_programacion.summary) #<--Obtenemos el extracto de la página"
      ]
    },
    {
      "cell_type": "markdown",
      "metadata": {
        "id": "g-ZRRKjv8b4e"
      },
      "source": [
        "# **BeautifulSoup**\n"
      ]
    },
    {
      "cell_type": "markdown",
      "metadata": {
        "id": "BGXRo8BWtIDc"
      },
      "source": [
        "URL para la práctica  https://scrapepark.org/spanish/\n"
      ]
    },
    {
      "cell_type": "code",
      "execution_count": 21,
      "metadata": {
        "id": "DemLUNc7d_W7"
      },
      "outputs": [],
      "source": [
        "from bs4 import BeautifulSoup #<--Importamos la clase 'BeautifulSoup' del módulo 'bs4' para manipular HTML y XML en Python\n",
        "import requests"
      ]
    },
    {
      "cell_type": "code",
      "execution_count": 22,
      "metadata": {
        "colab": {
          "base_uri": "https://localhost:8080/"
        },
        "id": "T5XplMATeVXQ",
        "outputId": "7b6c15cd-bb80-4883-ce83-43f7b9277e8b"
      },
      "outputs": [
        {
          "name": "stdout",
          "output_type": "stream",
          "text": [
            "Versión de BeautifulSoup: 4.11.2\n",
            "Versión de requests: 2.27.1\n"
          ]
        }
      ],
      "source": [
        "# Versiones\n",
        "import bs4\n",
        "print(\"Versión de BeautifulSoup:\",bs4.__version__)\n",
        "print(\"Versión de requests:\", requests.__version__)"
      ]
    },
    {
      "cell_type": "code",
      "execution_count": null,
      "metadata": {
        "colab": {
          "base_uri": "https://localhost:8080/",
          "height": 610
        },
        "id": "OOJxCTeb2Sys",
        "outputId": "71816827-e9c3-4e46-b205-26f023afc36a"
      },
      "outputs": [],
      "source": [
        "# Instalación de la versión que será necesaria\n",
        "#!pip3 install beautifulsoup4==4.11.2\n",
        "#!pip3 install requests==2.27.1"
      ]
    },
    {
      "cell_type": "code",
      "execution_count": 23,
      "metadata": {
        "id": "YLnDRuoftSDX"
      },
      "outputs": [],
      "source": [
        "#Scraping\n",
        "\n",
        "# 1. Obtener el HTML\n",
        "URL_BASE = 'https://scrapepark.org/courses/spanish/'\n",
        "pedido_obtenido = requests.get(URL_BASE)\n",
        "html_obtenido = pedido_obtenido.text\n",
        "\n",
        "# 2. \"Parsear\" ese HTML\n",
        "soup = BeautifulSoup(html_obtenido, \"html.parser\") #<-- se utiliza \"html.parser\", que es un analizador capaz de estructurar el HTML"
      ]
    },
    {
      "cell_type": "code",
      "execution_count": 24,
      "metadata": {
        "colab": {
          "base_uri": "https://localhost:8080/"
        },
        "id": "O1lXQ39Ao64s",
        "outputId": "f89b7b8b-033a-497c-a2c5-c2f570c09697"
      },
      "outputs": [
        {
          "data": {
            "text/plain": [
              "bs4.BeautifulSoup"
            ]
          },
          "execution_count": 24,
          "metadata": {},
          "output_type": "execute_result"
        }
      ],
      "source": [
        "type(soup)"
      ]
    },
    {
      "cell_type": "markdown",
      "metadata": {
        "id": "AS5-q5L-eLZ_"
      },
      "source": [
        "## **El método `find()`**\n",
        "\n",
        "Nos permite quedarnos con la información asociada a una etiqueta de HTML"
      ]
    },
    {
      "cell_type": "code",
      "execution_count": 25,
      "metadata": {
        "colab": {
          "base_uri": "https://localhost:8080/"
        },
        "id": "Jo7AkWAhh23W",
        "outputId": "087e037b-3ae1-459d-b5de-3d2b7c203f5a"
      },
      "outputs": [
        {
          "name": "stdout",
          "output_type": "stream",
          "text": [
            "<h2>¿Por qué comprar con nosotros?</h2>\n"
          ]
        }
      ],
      "source": [
        "primer_h2 = soup.find('h2')\n",
        "print(primer_h2)"
      ]
    },
    {
      "cell_type": "code",
      "execution_count": 26,
      "metadata": {
        "colab": {
          "base_uri": "https://localhost:8080/"
        },
        "id": "jP47spPBiYfB",
        "outputId": "79678da4-5152-4cc5-dc6c-ea3947c6bbfd"
      },
      "outputs": [
        {
          "name": "stdout",
          "output_type": "stream",
          "text": [
            "¿Por qué comprar con nosotros?\n"
          ]
        }
      ],
      "source": [
        "# Solo el texto\n",
        "print(primer_h2.text)\n"
      ]
    },
    {
      "cell_type": "markdown",
      "metadata": {
        "id": "MFO_d99OeavG"
      },
      "source": [
        "## **El método `find_all()`**\n",
        "\n",
        "Busca **TODOS** los elementos de la página con esa etiqueta y devuelve una \"lista\" que los contiene (en realidad devuelve un objeto de la clase *bs4.element.ResultSet*)."
      ]
    },
    {
      "cell_type": "code",
      "execution_count": 27,
      "metadata": {
        "colab": {
          "base_uri": "https://localhost:8080/"
        },
        "id": "6YlYosUFmc66",
        "outputId": "f3257662-eb7e-4902-b14d-533d06246ad0"
      },
      "outputs": [
        {
          "name": "stdout",
          "output_type": "stream",
          "text": [
            "[<h2>¿Por qué comprar con nosotros?</h2>, <h2>\n",
            "                  #Novedades\n",
            "                </h2>, <h2>\n",
            "            Nuestros <span>productos</span>\n",
            "</h2>, <h2>\n",
            "            Testimonios de clientes\n",
            "          </h2>, <h2 class=\"heading-container\">\n",
            "          Tabla de precios\n",
            "        </h2>]\n"
          ]
        }
      ],
      "source": [
        "h2_todos = soup.find_all('h2')\n",
        "print(h2_todos)"
      ]
    },
    {
      "cell_type": "code",
      "execution_count": 28,
      "metadata": {
        "colab": {
          "base_uri": "https://localhost:8080/"
        },
        "id": "Az5VWD8qh5XP",
        "outputId": "2261e070-84a2-4f34-9d5f-4df3ad36cd0c"
      },
      "outputs": [
        {
          "name": "stdout",
          "output_type": "stream",
          "text": [
            "[<h2>¿Por qué comprar con nosotros?</h2>]\n"
          ]
        }
      ],
      "source": [
        "# ARGUMENTOS\n",
        "# Si usamos el parametro limit = 1, emulamos al metodo find\n",
        "h2_uno_solo = soup.find_all('h2',limit=1)\n",
        "print(h2_uno_solo)"
      ]
    },
    {
      "cell_type": "code",
      "execution_count": 29,
      "metadata": {
        "colab": {
          "base_uri": "https://localhost:8080/"
        },
        "id": "g_pjutuZh9wz",
        "outputId": "c97a8005-2bc1-4a45-d843-93805eeb8a42"
      },
      "outputs": [
        {
          "name": "stdout",
          "output_type": "stream",
          "text": [
            "¿Por qué comprar con nosotros?\n",
            "\n",
            "                  #Novedades\n",
            "                \n",
            "\n",
            "            Nuestros productos\n",
            "\n",
            "\n",
            "            Testimonios de clientes\n",
            "          \n",
            "\n",
            "          Tabla de precios\n",
            "        \n"
          ]
        }
      ],
      "source": [
        "# Iterar sobre el objeto\n",
        "for seccion in h2_todos:\n",
        "  print(seccion.text)"
      ]
    },
    {
      "cell_type": "code",
      "execution_count": 30,
      "metadata": {
        "colab": {
          "base_uri": "https://localhost:8080/"
        },
        "id": "Vm5TjiHV4lCR",
        "outputId": "482dceb3-2886-4c51-eba2-3555def00f48"
      },
      "outputs": [
        {
          "name": "stdout",
          "output_type": "stream",
          "text": [
            "¿Por qué comprar con nosotros?\n",
            "#Novedades\n",
            "Nuestrosproductos\n",
            "Testimonios de clientes\n",
            "Tabla de precios\n"
          ]
        }
      ],
      "source": [
        "# get_text() para más funcionalidades\n",
        "for seccion in h2_todos:\n",
        "  print(seccion.get_text(strip=True)) #<--'strip=True' se utiliza para eliminar el espacio al principio y al final del texto"
      ]
    },
    {
      "cell_type": "markdown",
      "metadata": {
        "id": "H936ZYAerBXJ"
      },
      "source": [
        "#*Utilizando atributos de las etiquetas*\n",
        "\n"
      ]
    },
    {
      "cell_type": "code",
      "execution_count": 31,
      "metadata": {
        "colab": {
          "base_uri": "https://localhost:8080/"
        },
        "id": "GyPbqaejp4is",
        "outputId": "9c1545c2-0485-425d-fe24-059257e47fad"
      },
      "outputs": [
        {
          "name": "stdout",
          "output_type": "stream",
          "text": [
            "<div class=\"heading-container heading-center\" id=\"acerca\">\n",
            "<h2>¿Por qué comprar con nosotros?</h2>\n",
            "</div>\n",
            " \n",
            "<div class=\"heading-container heading-center\" id=\"productos\">\n",
            "<h2>\n",
            "            Nuestros <span>productos</span>\n",
            "</h2>\n",
            "</div>\n",
            " \n",
            "<div class=\"heading-container heading-center\">\n",
            "<h3>Suscríbete para obtener descuentos y ofertas</h3>\n",
            "</div>\n",
            " \n",
            "<div class=\"heading-container heading-center\">\n",
            "<h2>\n",
            "            Testimonios de clientes\n",
            "          </h2>\n",
            "</div>\n",
            " \n"
          ]
        }
      ],
      "source": [
        "# Clase\n",
        "divs = soup.find_all('div', class_ = \"heading-container heading-center\") #<--Para buscar todos los elementos '<div>' que tiene la clase CSS \"heading-container heading-center\"\n",
        "\n",
        "for div in divs:\n",
        "  print(div)\n",
        "  print(\" \") #<--Se agrega una línea en blanco"
      ]
    },
    {
      "cell_type": "code",
      "execution_count": 32,
      "metadata": {
        "colab": {
          "base_uri": "https://localhost:8080/"
        },
        "id": "fVxip8F0iEYA",
        "outputId": "77c4996d-5107-4d15-befe-36d3c0b5af03"
      },
      "outputs": [
        {
          "name": "stdout",
          "output_type": "stream",
          "text": [
            "<img alt=\"Parque de patinaje\" src=\"images/slider-bg.jpg\"/>\n",
            "<img alt=\"Patineta 2\" src=\"images/p2.jpg\"/>\n"
          ]
        }
      ],
      "source": [
        "# Todas las etiquetas que tengan el atributo \"src\"\n",
        "src_todos = soup.find_all(src=True) #<--Creamos lista de elementos que contengan atributo 'src' \n",
        "\n",
        "for elemento in src_todos:\n",
        "  if elemento['src'].endswith(\".jpg\"): #<--Validamos si es un archivo de imagen (formato '.jpg')\n",
        "    print(elemento)\n"
      ]
    },
    {
      "cell_type": "code",
      "execution_count": 33,
      "metadata": {
        "colab": {
          "base_uri": "https://localhost:8080/"
        },
        "id": "pm4eVZCW6jjD",
        "outputId": "4a4cfa12-3b47-497f-a23e-f844efd40db5"
      },
      "outputs": [
        {
          "name": "stdout",
          "output_type": "stream",
          "text": [
            "images/arrival-bg-store.png\n",
            "images/p1.png\n",
            "images/p3.png\n",
            "images/p4.png\n",
            "images/p5.png\n",
            "images/p6.png\n",
            "images/p7.png\n",
            "images/p8.png\n",
            "images/p9.png\n",
            "images/p10.png\n",
            "images/p11.png\n",
            "images/p12.png\n",
            "images/client-one.png\n",
            "images/client-two.png\n",
            "images/client-three.png\n",
            "./images/freecodecamp-logo.png\n"
          ]
        }
      ],
      "source": [
        "#@title Ejercicio: Bajar todas las imagenes!\n",
        "\n",
        "url_imagenes = [] #<--Se crea lista vacia para almacenar las imagenes que cumplan ciertos criterios\n",
        "\n",
        "for i, imagen in enumerate(src_todos): #<--Se usa 'enumerate' para obtener tanto el indice 'i' como el elemento 'imagen'\n",
        "\n",
        "  if imagen['src'].endswith('png'): #<--Si el atributo 'src' es una imagen\n",
        "\n",
        "    print(imagen['src']) #<--Imprime la URL de la imagen en la consola\n",
        "    r = requests.get(f\"https://scrapepark.org/courses/spanish/{imagen['src']}\") #<--Se hace solicitud HTTP y se descarga la imagen desde la URL completa\n",
        "\n",
        "    with open(f'imagen_{i}.png', 'wb') as f: #<--Se usa 'with' para abrir un archvo en modo de escritura binaria 'wb' con un nombre de archivo que incluye el índice 'i'\n",
        "      f.write(r.content) #<--Esto descarga y guarda la imagen en el sistema de archivos local."
      ]
    },
    {
      "cell_type": "markdown",
      "metadata": {
        "id": "nxurw0jxiwm0"
      },
      "source": [
        "## **Tablas**"
      ]
    },
    {
      "cell_type": "code",
      "execution_count": 34,
      "metadata": {
        "colab": {
          "base_uri": "https://localhost:8080/",
          "height": 36
        },
        "id": "YyqtIpXMw9sx",
        "outputId": "0de598de-da67-4a34-ccf6-8887bc6543f6"
      },
      "outputs": [
        {
          "data": {
            "text/plain": [
              "'table.html'"
            ]
          },
          "execution_count": 34,
          "metadata": {},
          "output_type": "execute_result"
        }
      ],
      "source": [
        "soup.find_all('iframe')[0]['src'] #<--se utiliza el método 'find_all()' en soup para buscar todas las etiquetas '<iframe>' en el documento\n",
        "                                  #<--se utiliza '[0]' para acceder al primer elemento de esa lista\n",
        "                                  #<--se utiliza '[src]' para acceder al valor del atributo \"src\" de esa etiqueta"
      ]
    },
    {
      "cell_type": "code",
      "execution_count": 35,
      "metadata": {
        "colab": {
          "base_uri": "https://localhost:8080/"
        },
        "id": "qvrCha4Qwz1P",
        "outputId": "e7899c8b-f349-4034-92ff-3e44ec173d1b"
      },
      "outputs": [
        {
          "name": "stdout",
          "output_type": "stream",
          "text": [
            "['Longboard', '$80', '$85', '$90', '$62', '$150']\n"
          ]
        }
      ],
      "source": [
        "# Información de tablas\n",
        "\n",
        "URL_BASE = 'https://scrapepark.org/courses/spanish'\n",
        "URL_TABLA = soup.find_all('iframe')[0]['src']\n",
        "\n",
        "request_tabla = requests.get(f'{URL_BASE}/{URL_TABLA}') #<--Se realiza una solicitud HTTP a la URL completa\n",
        "\n",
        "html_tabla = request_tabla.text #<--Se obtiene el contenido de la respuesta HTTP como una cadena de texto\n",
        "soup_tabla = BeautifulSoup(html_tabla, \"html.parser\") #<--Se crea una nueva instancia de BeautifulSoup llamada soup_tabla para analizar el contenido descargado de la URL\n",
        "soup_tabla.find('table') #<--Esto se hace para encontrar una tabla dentro del contenido descargado\n",
        "\n",
        "productos_faltantes = soup_tabla.find_all(['th', 'td'], attrs={'style':'color: red;'}) #<--Estas etiquetas corresponden a elementos de la tabla que se muestran en rojo\n",
        "productos_faltantes = [talle.text for talle in productos_faltantes] #<--Se itera a través de la lista de etiquetas que se encontraron y se obtiene el texto contenido\n",
        "\n",
        "print(productos_faltantes)"
      ]
    },
    {
      "cell_type": "code",
      "execution_count": 36,
      "metadata": {
        "colab": {
          "base_uri": "https://localhost:8080/"
        },
        "id": "OWDrRpN14mkR",
        "outputId": "2090435c-1ddd-468f-a5dd-edf289823c92"
      },
      "outputs": [
        {
          "name": "stdout",
          "output_type": "stream",
          "text": [
            "producto: Patineta Nueva 1 | precio: 75\n",
            "producto: Patineta Usada 2 | precio: 80\n",
            "producto: Patineta Nueva 3 | precio: 68\n",
            "producto: Patineta Usada 4 | precio: 70\n",
            "producto: Patineta Nueva 5 | precio: 75\n",
            "producto: Patineta Nueva 6 | precio: 58\n",
            "producto: Patineta Nueva 7 | precio: 80\n",
            "producto: Patineta Nueva 8 | precio: 35\n",
            "producto: Patineta Nueva 9 | precio: 165\n",
            "producto: Patineta Usada 10 | precio: 54\n",
            "producto: Patineta Usada 11 | precio: 99\n",
            "producto: Patineta Nueva 12 | precio: 110\n"
          ]
        }
      ],
      "source": [
        "divs = soup.find_all('div', class_='detail-box') #<--para buscar todas las etiquetas <div> que tienen la clase CSS \"detail-box\"\n",
        "productos = []\n",
        "precios = []\n",
        "\n",
        "for div in divs:\n",
        "  if (div.h6 is not None) and ('Patineta' in div.h5.text): #<-- Se verifica si el elemento <h6> existe y si el texto en el elemento <h5> contiene la palabra \"Patineta\"\n",
        "    producto = div.h5.get_text(strip=True) #<--para obtener el texto contenido en el elemento <h5>, eliminando cualquier espacio en blanco adicional\n",
        "    precio = div.h6.get_text(strip=True).replace('$', '') #<-- se utiliza el método replace('$', '') para eliminar el signo de dólar y obtener el valor del precio\n",
        "    # Se puede agregar filtros\n",
        "    print(f'producto: {producto:<16} | precio: {precio}') #<--Los valores se formatean para que el nombre del producto ocupe un ancho máximo de 16 caracteres\n",
        "    productos.append(producto) #<--Los nombres de productos y sus precios se agregan a las listas\n",
        "    precios.append(precio)"
      ]
    },
    {
      "cell_type": "code",
      "execution_count": 37,
      "metadata": {
        "colab": {
          "base_uri": "https://localhost:8080/"
        },
        "id": "fFOxFOsRretL",
        "outputId": "982d3d4b-6ea4-49fe-f587-626dcbbc3fa3"
      },
      "outputs": [
        {
          "data": {
            "text/plain": [
              "['75', '80', '68', '70', '75', '58', '80', '35', '165', '54', '99', '110']"
            ]
          },
          "execution_count": 37,
          "metadata": {},
          "output_type": "execute_result"
        }
      ],
      "source": [
        "precios"
      ]
    },
    {
      "cell_type": "code",
      "execution_count": 38,
      "metadata": {
        "colab": {
          "base_uri": "https://localhost:8080/"
        },
        "id": "guSnGHLIrcp_",
        "outputId": "2cbeafb8-454d-4ed7-9fb7-e3dd7fdd6bcb"
      },
      "outputs": [
        {
          "data": {
            "text/plain": [
              "['Patineta Nueva 1',\n",
              " 'Patineta Usada 2',\n",
              " 'Patineta Nueva 3',\n",
              " 'Patineta Usada 4',\n",
              " 'Patineta Nueva 5',\n",
              " 'Patineta Nueva 6',\n",
              " 'Patineta Nueva 7',\n",
              " 'Patineta Nueva 8',\n",
              " 'Patineta Nueva 9',\n",
              " 'Patineta Usada 10',\n",
              " 'Patineta Usada 11',\n",
              " 'Patineta Nueva 12']"
            ]
          },
          "execution_count": 38,
          "metadata": {},
          "output_type": "execute_result"
        }
      ],
      "source": [
        "productos"
      ]
    },
    {
      "cell_type": "markdown",
      "metadata": {
        "id": "2QphGTciOnZS"
      },
      "source": [
        "## **Cambios que dependen de la URL**"
      ]
    },
    {
      "cell_type": "code",
      "execution_count": 39,
      "metadata": {
        "colab": {
          "base_uri": "https://localhost:8080/"
        },
        "id": "zW_XZj6TOqar",
        "outputId": "c08b5cfa-1d0f-40ce-e8c0-0084c1b93f56"
      },
      "outputs": [
        {
          "name": "stdout",
          "output_type": "stream",
          "text": [
            "https://scrapepark.org/courses/spanish/contact1\n",
            "Texto que cambia entre páginas en contacto 1 :)\n",
            "https://scrapepark.org/courses/spanish/contact2\n",
            "Texto que cambia entre páginas en contacto 2 :)\n"
          ]
        }
      ],
      "source": [
        "URL_BASE = \"https://scrapepark.org/courses/spanish/contact\"\n",
        "\n",
        "for i in range(1,3): #<--Se itera a través de un rango de números desde 1 hasta 2 (no incluyendo 3)\n",
        "  URL_FINAL = f\"{URL_BASE}{i}\" #<--se construye una URL completa concatenando la URL base con el valor actual de 'i'\n",
        "  print(URL_FINAL)\n",
        "  r = requests.get(URL_FINAL) #<--para realizar una solicitud HTTP y descargar el contenido de la página web desde la URL completa\n",
        "  soup = BeautifulSoup(r.text, \"html.parser\")#<--para analizar el contenido HTML descargado\n",
        "  print(soup.h5.text)#<--para encontrar y acceder al texto contenido en la etiqueta <h5> del documento HTML analizado."
      ]
    },
    {
      "cell_type": "markdown",
      "metadata": {
        "id": "mRw2htzlj9Wr"
      },
      "source": [
        "## **Datos que no sabemos en que parte de la página se encuentran**"
      ]
    },
    {
      "cell_type": "code",
      "execution_count": 40,
      "metadata": {
        "colab": {
          "base_uri": "https://localhost:8080/"
        },
        "id": "SClwgT23kDb_",
        "outputId": "14c802b4-2c48-43ca-80b0-8d48888c0971"
      },
      "outputs": [
        {
          "data": {
            "text/plain": [
              "[' 4-444-4444']"
            ]
          },
          "execution_count": 40,
          "metadata": {},
          "output_type": "execute_result"
        }
      ],
      "source": [
        "\n",
        "import re #<--módulo de expresiones regulares en Python\n",
        "\n",
        "# 1. Obtener el HTML\n",
        "URL_BASE = 'https://scrapepark.org/courses/spanish'\n",
        "pedido_obtenido = requests.get(URL_BASE)\n",
        "html_obtenido = pedido_obtenido.text\n",
        "\n",
        "# 2. \"Parsear\" ese HTML\n",
        "soup = BeautifulSoup(html_obtenido, \"html.parser\")\n",
        "\n",
        "telefonos = soup.find_all(string=re.compile(\"\\d+-\\d+-\\d+\")) #<--para buscar todas las cadenas de texto que coinciden la expresión regular \"\\d+-\\d+-\\d+\".\n",
        "telefonos                                                   ## '\\d' coincide con cualquier dígito (0-9)\n",
        "                                                            ## '-' coincide con el carácter de guion literal\n",
        "                                                            ## '\\d+' significa uno o más dígitos"
      ]
    },
    {
      "cell_type": "code",
      "execution_count": 41,
      "metadata": {
        "colab": {
          "base_uri": "https://localhost:8080/",
          "height": 36
        },
        "id": "QqzYlp0jnxAA",
        "outputId": "4be64a7b-d251-4ef3-9abb-0fddd1c62e37"
      },
      "outputs": [
        {
          "data": {
            "text/plain": [
              "'© 2022 '"
            ]
          },
          "execution_count": 41,
          "metadata": {},
          "output_type": "execute_result"
        }
      ],
      "source": [
        "#Moviendonos por el árbol\n",
        "\n",
        "copyrights = soup.find_all(string=re.compile(\"©\")) #<-- Para buscar todas las cadenas de texto en el documento HTML que coinciden con la expresión regular \"©\"\n",
        "copyrights[0]"
      ]
    },
    {
      "cell_type": "code",
      "execution_count": 42,
      "metadata": {
        "colab": {
          "base_uri": "https://localhost:8080/"
        },
        "id": "BYaiCi_tuSek",
        "outputId": "9a36885b-de2e-4b0a-a559-5bfec69b1940"
      },
      "outputs": [
        {
          "data": {
            "text/plain": [
              "<p>© 2022 <span>Todos los derechos reservados</span>.\n",
              "        <a href=\"https://html.design/\" rel=\"noopener noreferrer\" target=\"_blank\">Creado con Free Html Templates</a>.\n",
              "      </p>"
            ]
          },
          "execution_count": 42,
          "metadata": {},
          "output_type": "execute_result"
        }
      ],
      "source": [
        "primer_copyright = copyrights[0]\n",
        "primer_copyright.parent #<--se utiliza el atributo 'parent' para acceder al elemento padre del texto que contiene el símbolo de derechos de autor"
      ]
    },
    {
      "cell_type": "code",
      "execution_count": 43,
      "metadata": {
        "colab": {
          "base_uri": "https://localhost:8080/"
        },
        "id": "GDlAB53SuDf6",
        "outputId": "70dc7064-41bd-4035-ec7d-8d736675ca84"
      },
      "outputs": [
        {
          "data": {
            "text/plain": [
              "[<ul>\n",
              " <li><a href=\"#\">Inicio</a></li>\n",
              " <li><a href=\"#\">Acerca</a></li>\n",
              " <li><a href=\"#\">Servicios</a></li>\n",
              " <li><a href=\"#\">Testimonios</a></li>\n",
              " <li><a href=\"#\">Contacto</a></li>\n",
              " </ul>]"
            ]
          },
          "execution_count": 43,
          "metadata": {},
          "output_type": "execute_result"
        }
      ],
      "source": [
        "# # Otro ejemplo con elementos al mismo nivel\n",
        "menu = soup.find(string=re.compile(\"MENÚ\"))\n",
        "# menu.parent\n",
        "menu.parent.find_next_siblings() #<--se utiliza el método find_next_siblings() para encontrar y acceder a los elementos hermanos que están al mismo nivel que el elemento padre"
      ]
    },
    {
      "cell_type": "markdown",
      "metadata": {
        "id": "rnyPln5D4dsg"
      },
      "source": [
        "## **Almacenamiento de los datos**"
      ]
    },
    {
      "cell_type": "code",
      "execution_count": 44,
      "metadata": {
        "id": "MizBsJA3gCQt"
      },
      "outputs": [],
      "source": [
        "productos.insert(0, \"productos\") #<--se inserta la cadena \"productos\" en la posición 0 de la lista 'productos'\n",
        "precios.insert(0, \"precios\") #<--se inserta la cadena \"precios\" en la posición 0 de la lista 'precios'"
      ]
    },
    {
      "cell_type": "code",
      "execution_count": 45,
      "metadata": {
        "id": "qXUvdB2Mx5WD"
      },
      "outputs": [],
      "source": [
        "datos = dict(zip(productos, precios)) #<--se crea un diccionario 'datos' utilizando 'zip()' para combinar las listas 'productos' y 'precios' en un formato de clave-valor"
      ]
    },
    {
      "cell_type": "code",
      "execution_count": 46,
      "metadata": {
        "colab": {
          "base_uri": "https://localhost:8080/"
        },
        "id": "tsss7E0Ny4mU",
        "outputId": "10f8aab6-412f-4738-f7bb-5066b08c6baa"
      },
      "outputs": [
        {
          "data": {
            "text/plain": [
              "dict_items([('productos', 'precios'), ('Patineta Nueva 1', '75'), ('Patineta Usada 2', '80'), ('Patineta Nueva 3', '68'), ('Patineta Usada 4', '70'), ('Patineta Nueva 5', '75'), ('Patineta Nueva 6', '58'), ('Patineta Nueva 7', '80'), ('Patineta Nueva 8', '35'), ('Patineta Nueva 9', '165'), ('Patineta Usada 10', '54'), ('Patineta Usada 11', '99'), ('Patineta Nueva 12', '110')])"
            ]
          },
          "execution_count": 46,
          "metadata": {},
          "output_type": "execute_result"
        }
      ],
      "source": [
        "datos.items() #<--se utiliza para obtener una vista iterable de los pares clave-valor en el diccionario"
      ]
    },
    {
      "cell_type": "code",
      "execution_count": 47,
      "metadata": {},
      "outputs": [
        {
          "data": {
            "text/plain": [
              "dict_keys(['productos', 'Patineta Nueva 1', 'Patineta Usada 2', 'Patineta Nueva 3', 'Patineta Usada 4', 'Patineta Nueva 5', 'Patineta Nueva 6', 'Patineta Nueva 7', 'Patineta Nueva 8', 'Patineta Nueva 9', 'Patineta Usada 10', 'Patineta Usada 11', 'Patineta Nueva 12'])"
            ]
          },
          "execution_count": 47,
          "metadata": {},
          "output_type": "execute_result"
        }
      ],
      "source": [
        "datos.keys()"
      ]
    },
    {
      "cell_type": "code",
      "execution_count": 48,
      "metadata": {},
      "outputs": [
        {
          "data": {
            "text/plain": [
              "dict_values(['precios', '75', '80', '68', '70', '75', '58', '80', '35', '165', '54', '99', '110'])"
            ]
          },
          "execution_count": 48,
          "metadata": {},
          "output_type": "execute_result"
        }
      ],
      "source": [
        "datos.values()"
      ]
    },
    {
      "cell_type": "code",
      "execution_count": 49,
      "metadata": {
        "id": "YcIts8u56tA7"
      },
      "outputs": [
        {
          "name": "stdout",
          "output_type": "stream",
          "text": [
            "Datos guardados en \"datos.csv\"\n"
          ]
        }
      ],
      "source": [
        "import csv\n",
        "\n",
        "# Abre el archivo CSV en modo de escritura\n",
        "with open('datos.csv', 'w', newline='') as csvfile:\n",
        "    # Crea un objeto escritor de CSV\n",
        "    csvwriter = csv.writer(csvfile)\n",
        "\n",
        "    # Escribe la cabecera (opcional)\n",
        "    #cabecera = ['Producto', 'Precio']\n",
        "    #csvwriter.writerow(cabecera)\n",
        "\n",
        "    # Escribe los datos desde el diccionario\n",
        "    for producto, precio in datos.items():\n",
        "        csvwriter.writerow([producto, precio])\n",
        "\n",
        "print('Datos guardados en \"datos.csv\"')"
      ]
    },
    {
      "cell_type": "markdown",
      "metadata": {
        "id": "ObZSHqVVerj1"
      },
      "source": [
        "Biblografía\n",
        "https://developer.mozilla.org/en-US/docs/Web/HTTP/Headers\n",
        "https://github.com/martin-majlis\n",
        "https://scrapepark.org/spanish/\n",
        "https://beautiful-soup-4.readthedocs.io/en/latest/\n",
        "\n"
      ]
    }
  ],
  "metadata": {
    "colab": {
      "provenance": []
    },
    "kernelspec": {
      "display_name": "Python 3",
      "name": "python3"
    },
    "language_info": {
      "codemirror_mode": {
        "name": "ipython",
        "version": 3
      },
      "file_extension": ".py",
      "mimetype": "text/x-python",
      "name": "python",
      "nbconvert_exporter": "python",
      "pygments_lexer": "ipython3",
      "version": "3.9.13"
    }
  },
  "nbformat": 4,
  "nbformat_minor": 0
}
