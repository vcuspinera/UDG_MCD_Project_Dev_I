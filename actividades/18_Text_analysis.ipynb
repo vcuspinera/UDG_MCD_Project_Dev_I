{
 "cells": [
  {
   "cell_type": "markdown",
   "id": "6d3fb662-9668-43c1-a1ce-70d80b86fe50",
   "metadata": {},
   "source": [
    "# 18 • Análisis de texto\n",
    "\n",
    "En este notebook se revisará distintas herramientas para realizar preproceso y análisis de texto.\n",
    "\n",
    "## Contenido\n",
    "1. Strings como lista de caracteres\n",
    "2. Preproceso\n",
    "3. spaCy\n",
    "4. Referencias  "
   ]
  },
  {
   "cell_type": "markdown",
   "id": "376b154e-445a-49f8-b2db-5c9779a01b99",
   "metadata": {},
   "source": [
    "## 1. Strings como lista de caracteres\n",
    "Anteriormente ya habían trabajado con strings, sin embargo, podemos tratar a un string como una lista de caracteres. Además, el objeto "
   ]
  },
  {
   "cell_type": "code",
   "execution_count": 14,
   "id": "e9c0a606-cd2e-4c10-8621-f3db7845bbf4",
   "metadata": {},
   "outputs": [],
   "source": [
    "texto = \"Mi villano favorito\"\n",
    "\n",
    "# También se puede declarar así:\n",
    "# texto = str(\"Mi villano favorito\")"
   ]
  },
  {
   "cell_type": "code",
   "execution_count": 17,
   "id": "9c5f8f0f-3f3d-4f96-856c-ae0a941c9e8a",
   "metadata": {},
   "outputs": [
    {
     "name": "stdout",
     "output_type": "stream",
     "text": [
      "M\n",
      "i\n",
      " \n",
      "v\n",
      "i\n",
      "l\n",
      "l\n",
      "a\n",
      "n\n",
      "o\n",
      " \n",
      "f\n",
      "a\n",
      "v\n",
      "o\n",
      "r\n",
      "i\n",
      "t\n",
      "o\n"
     ]
    }
   ],
   "source": [
    "# Imprime un Carácter er por renglón\n",
    "for i in texto:\n",
    "    print(i)"
   ]
  },
  {
   "cell_type": "markdown",
   "id": "2977904c-d67f-47ad-8f6b-82162766a300",
   "metadata": {},
   "source": [
    "Existen algunos métodos que nos ayufdarán para trabajar con los *strings*:\n",
    "- lower, pone la cadena en minúsculas\n",
    "- upper, pone la cadena en mayúsculas\n",
    "- replace, para sustituir algún texto\n",
    "- rfind, encuentra dónde enpieza un texto de nuestro interés\n",
    "- rspilt, separa un enunciado en sus palabras\n",
    "- title, pone en mayúscula la primera letra de cada palabra de un enunciado"
   ]
  },
  {
   "cell_type": "code",
   "execution_count": 18,
   "id": "3d23954b-dfe8-45aa-a6f2-0760e7e9065f",
   "metadata": {},
   "outputs": [
    {
     "data": {
      "text/plain": [
       "'mi villano favorito'"
      ]
     },
     "execution_count": 18,
     "metadata": {},
     "output_type": "execute_result"
    }
   ],
   "source": [
    "# lower\n",
    "texto.lower()"
   ]
  },
  {
   "cell_type": "code",
   "execution_count": 27,
   "id": "9a465cf6-ff80-418d-b9a6-835a8759b80b",
   "metadata": {},
   "outputs": [
    {
     "data": {
      "text/plain": [
       "'MI VILLANO FAVORITO'"
      ]
     },
     "execution_count": 27,
     "metadata": {},
     "output_type": "execute_result"
    }
   ],
   "source": [
    "# upper\n",
    "texto.upper()"
   ]
  },
  {
   "cell_type": "code",
   "execution_count": 19,
   "id": "7f9e1088-8c91-4a3d-b30c-2d88482c6bac",
   "metadata": {},
   "outputs": [
    {
     "data": {
      "text/plain": [
       "'Mi marciano favorito'"
      ]
     },
     "execution_count": 19,
     "metadata": {},
     "output_type": "execute_result"
    }
   ],
   "source": [
    "# replace\n",
    "texto.replace(\"villano\", \"marciano\")"
   ]
  },
  {
   "cell_type": "code",
   "execution_count": 21,
   "id": "5b2173ed-70a3-4b15-ac67-6760dbe7952d",
   "metadata": {},
   "outputs": [
    {
     "data": {
      "text/plain": [
       "3"
      ]
     },
     "execution_count": 21,
     "metadata": {},
     "output_type": "execute_result"
    }
   ],
   "source": [
    "# rfind\n",
    "texto.rfind(\"villano\")"
   ]
  },
  {
   "cell_type": "code",
   "execution_count": 23,
   "id": "d44cd123-7309-4551-a4bb-f00fc4186fb0",
   "metadata": {},
   "outputs": [
    {
     "data": {
      "text/plain": [
       "['Mi', 'villano', 'favorito']"
      ]
     },
     "execution_count": 23,
     "metadata": {},
     "output_type": "execute_result"
    }
   ],
   "source": [
    "# split\n",
    "texto.rsplit()"
   ]
  },
  {
   "cell_type": "code",
   "execution_count": 24,
   "id": "a8567c74-7709-4dd9-ae07-156de0876273",
   "metadata": {},
   "outputs": [
    {
     "data": {
      "text/plain": [
       "'Mi Villano Favorito'"
      ]
     },
     "execution_count": 24,
     "metadata": {},
     "output_type": "execute_result"
    }
   ],
   "source": [
    "# title\n",
    "texto.title()"
   ]
  },
  {
   "cell_type": "markdown",
   "id": "fa486acb-b5c3-4878-8481-b59615f3bc55",
   "metadata": {},
   "source": [
    "## 2. Preproceso de texto\n",
    "Usualmente la información en formato de texto no se encuentra desordenada y sin estructura. Para poder realizar un mejor análisis es importante \"normalizar\" esta información.\n",
    "\n",
    "Existen distintas herramientas en el preproceso de datos que podemos utilizar como: utilizar minúscula en todas las palabras, lematización (usar la raíz de palabras similares), remover puntaución y *stop words*, entre otras."
   ]
  },
  {
   "cell_type": "code",
   "execution_count": 44,
   "id": "12ceb76f-f96e-458b-b886-fa5cab4147f2",
   "metadata": {},
   "outputs": [
    {
     "name": "stdout",
     "output_type": "stream",
     "text": [
      "CPU times: user 486 ms, sys: 36 ms, total: 522 ms\n",
      "Wall time: 24.5 s\n"
     ]
    }
   ],
   "source": [
    "%%time\n",
    "\n",
    "# load libraries\n",
    "import pandas as pd\n",
    "import numpy as np\n",
    "import snscrape.modules.twitter as sntwitter\n",
    "\n",
    "# Parámetros\n",
    "tweets_list_ine = []\n",
    "maxTweets_ine = 1_000\n",
    "date_initial = \"2022-10-01\"\n",
    "\n",
    "# Get tweets\n",
    "for i,tweet in enumerate(sntwitter.TwitterSearchScraper('#UDG').get_items()): # se puede añadir esto --> since:'+date_initial\n",
    "        if i>maxTweets_ine-1:\n",
    "            break\n",
    "        tweets_list_ine.append([tweet.user.username, tweet.date, tweet.content,  tweet.lang])\n",
    "        \n",
    "# Pandas dataframe con tweets que mencionen el hashtag #UDG\n",
    "column_names = (\"username\",\"date\",\"content\",\"language\")\n",
    "df = pd.DataFrame(tweets_list_ine, columns=column_names)\n",
    "df['date'] = df['date'].dt.strftime('%Y-%m-%d')\n",
    "\n",
    "# bases de datos a usar en español e inglés\n",
    "df_esp = df[df.language==\"es\"]\n",
    "df = df[df.language==\"en\"]"
   ]
  },
  {
   "cell_type": "code",
   "execution_count": null,
   "id": "7b993191-4a44-40a3-9183-cf3a3d5804f8",
   "metadata": {},
   "outputs": [],
   "source": []
  },
  {
   "cell_type": "markdown",
   "id": "760b60a0-798e-4680-bf65-276ae572a704",
   "metadata": {},
   "source": [
    "## 4. References\n",
    "- [Python String Methods](https://docs.python.org/3/library/stdtypes.html)"
   ]
  },
  {
   "cell_type": "code",
   "execution_count": null,
   "id": "2183c719-4e41-492c-8342-e60006a29c41",
   "metadata": {},
   "outputs": [],
   "source": []
  }
 ],
 "metadata": {
  "kernelspec": {
   "display_name": "Python 3 (ipykernel)",
   "language": "python",
   "name": "python3"
  },
  "language_info": {
   "codemirror_mode": {
    "name": "ipython",
    "version": 3
   },
   "file_extension": ".py",
   "mimetype": "text/x-python",
   "name": "python",
   "nbconvert_exporter": "python",
   "pygments_lexer": "ipython3",
   "version": "3.10.4"
  }
 },
 "nbformat": 4,
 "nbformat_minor": 5
}
