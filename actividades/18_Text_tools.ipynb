{
 "cells": [
  {
   "cell_type": "markdown",
   "id": "424be036",
   "metadata": {},
   "source": [
    "# 18 • Herramientas de texto\n",
    "\n",
    "En este notebook se revisará distintas herramientas para modificar, limpiar, preprocesar texto en Python.\n",
    "\n",
    "## Contenido\n",
    "1. Strings como lista de caracteres\n",
    "2. Preproceso de texto\n",
    "3. Regular expressions (*Regex*)\n",
    "4. spaCy\n",
    "5. Referencias  "
   ]
  },
  {
   "cell_type": "markdown",
   "id": "84de6d17",
   "metadata": {},
   "source": [
    "## 1. Strings como lista de caracteres\n",
    "Anteriormente ya habían trabajado con strings, sin embargo, podemos tratar a un string como una lista de caracteres. Para esto, podemos utilizar los [métodos para *strings* que tiene Python](https://docs.python.org/3/library/stdtypes.html#string-methods)."
   ]
  },
  {
   "cell_type": "code",
   "execution_count": 96,
   "id": "ffa5aa55",
   "metadata": {},
   "outputs": [],
   "source": [
    "texto = \"Mi viLLano faVorito\"\n",
    "\n",
    "# También se puede declarar así:\n",
    "# texto = str(\"Mi villano favorito\")"
   ]
  },
  {
   "cell_type": "code",
   "execution_count": 97,
   "id": "c05fa8d0",
   "metadata": {},
   "outputs": [
    {
     "name": "stdout",
     "output_type": "stream",
     "text": [
      "M\n",
      "i\n",
      " \n",
      "v\n",
      "i\n",
      "L\n",
      "L\n",
      "a\n",
      "n\n",
      "o\n",
      " \n",
      "f\n",
      "a\n",
      "V\n",
      "o\n",
      "r\n",
      "i\n",
      "t\n",
      "o\n"
     ]
    }
   ],
   "source": [
    "# Un string es una cadena de caracteres y al imprimirlo con un loop regresa un carácter por renglón\n",
    "for i in texto:\n",
    "    print(i)"
   ]
  },
  {
   "cell_type": "markdown",
   "id": "86aa0950",
   "metadata": {},
   "source": [
    "Existen algunas funciones propias de los *strings* que nos ayudarán para trabajar con textos, como:\n",
    "- **lower**, pone la cadena en minúsculas\n",
    "- **upper**, pone la cadena en mayúsculas\n",
    "- **title**, pone en mayúscula la primera letra de cada palabra de un enunciado\n",
    "- **replace**, para sustituir algún texto\n",
    "- **rfind**, encuentra dentro de una cadena dónde inicia un texto de nuestro interés\n",
    "- **rspilt**, separa un enunciado en palabras (*tokens*)"
   ]
  },
  {
   "cell_type": "code",
   "execution_count": 98,
   "id": "13816e73",
   "metadata": {},
   "outputs": [
    {
     "data": {
      "text/plain": [
       "'mi villano favorito'"
      ]
     },
     "execution_count": 98,
     "metadata": {},
     "output_type": "execute_result"
    }
   ],
   "source": [
    "# lower\n",
    "texto.lower()"
   ]
  },
  {
   "cell_type": "code",
   "execution_count": 99,
   "id": "403f6a8f",
   "metadata": {},
   "outputs": [
    {
     "data": {
      "text/plain": [
       "'MI VILLANO FAVORITO'"
      ]
     },
     "execution_count": 99,
     "metadata": {},
     "output_type": "execute_result"
    }
   ],
   "source": [
    "# upper\n",
    "texto.upper()"
   ]
  },
  {
   "cell_type": "code",
   "execution_count": 100,
   "id": "8a9b2438",
   "metadata": {},
   "outputs": [
    {
     "data": {
      "text/plain": [
       "'Mi Villano Favorito'"
      ]
     },
     "execution_count": 100,
     "metadata": {},
     "output_type": "execute_result"
    }
   ],
   "source": [
    "# title\n",
    "texto.title()"
   ]
  },
  {
   "cell_type": "code",
   "execution_count": 101,
   "id": "ba0f854c",
   "metadata": {},
   "outputs": [
    {
     "data": {
      "text/plain": [
       "'Mi marciano faVorito'"
      ]
     },
     "execution_count": 101,
     "metadata": {},
     "output_type": "execute_result"
    }
   ],
   "source": [
    "# replace\n",
    "texto.replace(\"viLLano\", \"marciano\")"
   ]
  },
  {
   "cell_type": "code",
   "execution_count": 102,
   "id": "18a5a4d3",
   "metadata": {},
   "outputs": [
    {
     "data": {
      "text/plain": [
       "-1"
      ]
     },
     "execution_count": 102,
     "metadata": {},
     "output_type": "execute_result"
    }
   ],
   "source": [
    "# rfind\n",
    "texto.rfind(\"panda\") # no está este string, entonces devuelve -1"
   ]
  },
  {
   "cell_type": "code",
   "execution_count": 103,
   "id": "877a0078-214e-4338-ad1a-67a42c65f2c0",
   "metadata": {},
   "outputs": [
    {
     "data": {
      "text/plain": [
       "3"
      ]
     },
     "execution_count": 103,
     "metadata": {},
     "output_type": "execute_result"
    }
   ],
   "source": [
    "# rfind\n",
    "texto.rfind(\"viLLano\") # sí está este string, entonces devuelve >0"
   ]
  },
  {
   "cell_type": "code",
   "execution_count": 104,
   "id": "3e046b21",
   "metadata": {},
   "outputs": [
    {
     "data": {
      "text/plain": [
       "['mi', 'villano', 'favorito']"
      ]
     },
     "execution_count": 104,
     "metadata": {},
     "output_type": "execute_result"
    }
   ],
   "source": [
    "# split\n",
    "texto.lower().rsplit()"
   ]
  },
  {
   "cell_type": "markdown",
   "id": "7f76034a",
   "metadata": {},
   "source": [
    "## 2. Preproceso de texto\n",
    "Usualmente la información en formato de texto se encuentra desordenada y sin estructura. Para poder realizar un mejor análisis es importante normalizar esta información.\n",
    "\n",
    "Existen distintas herramientas para el preproceso de datos que podemos utilizar para obtener una base de datos limpia, entre las que se encuentran: utilizar letras minúscula, separa un enunciado en *tokens*, lematización (usar la raíz de la palabra), remover puntuación y *stopwords*, entre otras."
   ]
  },
  {
   "cell_type": "code",
   "execution_count": 105,
   "id": "3d51d253",
   "metadata": {},
   "outputs": [],
   "source": [
    "# load libraries\n",
    "import pandas as pd\n",
    "import numpy as np"
   ]
  },
  {
   "cell_type": "markdown",
   "id": "02600374",
   "metadata": {},
   "source": [
    "### Base de datos inicial (raw)\n",
    "\n",
    "Usaremos la base de datos de **IMDB Dataset of 50K Movie Reviews (Spanish)** publicada en Kaggle, para poder correr este archivo deben de bajar previamente la base, la cual tiene por nombre de \"IMDB Dataset SPANISH.csv\"\n",
    "\n",
    "Liga: https://www.kaggle.com/datasets/luisdiegofv97/imdb-dataset-of-50k-movie-reviews-spanish\n"
   ]
  },
  {
   "cell_type": "code",
   "execution_count": 106,
   "id": "c2740aaa-b35f-46c7-ad9c-7adf42e754ba",
   "metadata": {},
   "outputs": [
    {
     "name": "stdout",
     "output_type": "stream",
     "text": [
      "CPU times: user 1.74 s, sys: 444 ms, total: 2.18 s\n",
      "Wall time: 2.21 s\n"
     ]
    }
   ],
   "source": [
    "%%time\n",
    "\n",
    "# obtener información\n",
    "column_names = (\"username\",\"date\",\"tweet\")\n",
    "df = pd.read_csv('../../IMDB Dataset SPANISH.csv') # <- HAY QUE ADECUAR DE DONDE JALAN LA BASE DE DATOS DESPUES QUE LA BAJEN DE KAGGLE\n",
    "df = df.drop(columns=[\"Unnamed: 0\", \"review_en\", \"sentiment\", \"sentimiento\"]).rename(columns={\"review_es\":\"reseña\"})"
   ]
  },
  {
   "cell_type": "code",
   "execution_count": 108,
   "id": "e5d1fc00",
   "metadata": {},
   "outputs": [
    {
     "data": {
      "text/html": [
       "<div>\n",
       "<style scoped>\n",
       "    .dataframe tbody tr th:only-of-type {\n",
       "        vertical-align: middle;\n",
       "    }\n",
       "\n",
       "    .dataframe tbody tr th {\n",
       "        vertical-align: top;\n",
       "    }\n",
       "\n",
       "    .dataframe thead th {\n",
       "        text-align: right;\n",
       "    }\n",
       "</style>\n",
       "<table border=\"1\" class=\"dataframe\">\n",
       "  <thead>\n",
       "    <tr style=\"text-align: right;\">\n",
       "      <th></th>\n",
       "      <th>reseña</th>\n",
       "    </tr>\n",
       "  </thead>\n",
       "  <tbody>\n",
       "    <tr>\n",
       "      <th>0</th>\n",
       "      <td>Uno de los otros críticos ha mencionado que de...</td>\n",
       "    </tr>\n",
       "    <tr>\n",
       "      <th>1</th>\n",
       "      <td>Una pequeña pequeña producción.La técnica de f...</td>\n",
       "    </tr>\n",
       "    <tr>\n",
       "      <th>2</th>\n",
       "      <td>Pensé que esta era una manera maravillosa de p...</td>\n",
       "    </tr>\n",
       "    <tr>\n",
       "      <th>3</th>\n",
       "      <td>Básicamente, hay una familia donde un niño peq...</td>\n",
       "    </tr>\n",
       "    <tr>\n",
       "      <th>4</th>\n",
       "      <td>El \"amor en el tiempo\" de Petter Mattei es una...</td>\n",
       "    </tr>\n",
       "    <tr>\n",
       "      <th>...</th>\n",
       "      <td>...</td>\n",
       "    </tr>\n",
       "    <tr>\n",
       "      <th>49995</th>\n",
       "      <td>Pensé que esta película hizo un buen trabajo a...</td>\n",
       "    </tr>\n",
       "    <tr>\n",
       "      <th>49996</th>\n",
       "      <td>Mala parcela, mal diálogo, mala actuación, dir...</td>\n",
       "    </tr>\n",
       "    <tr>\n",
       "      <th>49997</th>\n",
       "      <td>Soy católica enseñada en escuelas primarias pa...</td>\n",
       "    </tr>\n",
       "    <tr>\n",
       "      <th>49998</th>\n",
       "      <td>Voy a tener que estar en desacuerdo con el com...</td>\n",
       "    </tr>\n",
       "    <tr>\n",
       "      <th>49999</th>\n",
       "      <td>Nadie espera que las películas de Star Trek se...</td>\n",
       "    </tr>\n",
       "  </tbody>\n",
       "</table>\n",
       "<p>50000 rows × 1 columns</p>\n",
       "</div>"
      ],
      "text/plain": [
       "                                                  reseña\n",
       "0      Uno de los otros críticos ha mencionado que de...\n",
       "1      Una pequeña pequeña producción.La técnica de f...\n",
       "2      Pensé que esta era una manera maravillosa de p...\n",
       "3      Básicamente, hay una familia donde un niño peq...\n",
       "4      El \"amor en el tiempo\" de Petter Mattei es una...\n",
       "...                                                  ...\n",
       "49995  Pensé que esta película hizo un buen trabajo a...\n",
       "49996  Mala parcela, mal diálogo, mala actuación, dir...\n",
       "49997  Soy católica enseñada en escuelas primarias pa...\n",
       "49998  Voy a tener que estar en desacuerdo con el com...\n",
       "49999  Nadie espera que las películas de Star Trek se...\n",
       "\n",
       "[50000 rows x 1 columns]"
      ]
     },
     "execution_count": 108,
     "metadata": {},
     "output_type": "execute_result"
    }
   ],
   "source": [
    "# así se ve la base de datos\n",
    "df"
   ]
  },
  {
   "cell_type": "code",
   "execution_count": 109,
   "id": "dad92cdf",
   "metadata": {},
   "outputs": [
    {
     "data": {
      "text/html": [
       "<div>\n",
       "<style scoped>\n",
       "    .dataframe tbody tr th:only-of-type {\n",
       "        vertical-align: middle;\n",
       "    }\n",
       "\n",
       "    .dataframe tbody tr th {\n",
       "        vertical-align: top;\n",
       "    }\n",
       "\n",
       "    .dataframe thead th {\n",
       "        text-align: right;\n",
       "    }\n",
       "</style>\n",
       "<table border=\"1\" class=\"dataframe\">\n",
       "  <thead>\n",
       "    <tr style=\"text-align: right;\">\n",
       "      <th></th>\n",
       "      <th>reseña</th>\n",
       "    </tr>\n",
       "  </thead>\n",
       "  <tbody>\n",
       "    <tr>\n",
       "      <th>count</th>\n",
       "      <td>50000</td>\n",
       "    </tr>\n",
       "    <tr>\n",
       "      <th>unique</th>\n",
       "      <td>49599</td>\n",
       "    </tr>\n",
       "    <tr>\n",
       "      <th>top</th>\n",
       "      <td>Hilarante, limpio, alegre y digno de cita.¿Qué...</td>\n",
       "    </tr>\n",
       "    <tr>\n",
       "      <th>freq</th>\n",
       "      <td>4</td>\n",
       "    </tr>\n",
       "  </tbody>\n",
       "</table>\n",
       "</div>"
      ],
      "text/plain": [
       "                                                   reseña\n",
       "count                                               50000\n",
       "unique                                              49599\n",
       "top     Hilarante, limpio, alegre y digno de cita.¿Qué...\n",
       "freq                                                    4"
      ]
     },
     "execution_count": 109,
     "metadata": {},
     "output_type": "execute_result"
    }
   ],
   "source": [
    "# descripción general de los datos\n",
    "df.describe()"
   ]
  },
  {
   "cell_type": "code",
   "execution_count": 110,
   "id": "6df77e47",
   "metadata": {},
   "outputs": [
    {
     "data": {
      "text/plain": [
       "reseña    49599\n",
       "dtype: int64"
      ]
     },
     "execution_count": 110,
     "metadata": {},
     "output_type": "execute_result"
    }
   ],
   "source": [
    "# identificación de valores únicos por variable\n",
    "df.nunique()"
   ]
  },
  {
   "cell_type": "markdown",
   "id": "695c9a6b",
   "metadata": {},
   "source": [
    "### Eliminar signos de puntuación\n",
    "Aquí se eliminan los signos de puntuación con excepción de `#` para poder identificar los hashtags."
   ]
  },
  {
   "cell_type": "code",
   "execution_count": 112,
   "id": "b152a954",
   "metadata": {},
   "outputs": [
    {
     "data": {
      "text/plain": [
       "'!\"$%&\\'()*+,-./:;<=>?@[\\\\]^_`{|}~'"
      ]
     },
     "execution_count": 112,
     "metadata": {},
     "output_type": "execute_result"
    }
   ],
   "source": [
    "#library that contains punctuation\n",
    "import string\n",
    "signos_puntuacion = string.punctuation\n",
    "signos_puntuacion = signos_puntuacion.replace(\"#\", \"\")  # quitar '#' de hashtags \n",
    "signos_puntuacion"
   ]
  },
  {
   "cell_type": "code",
   "execution_count": 113,
   "id": "0c5dbf46",
   "metadata": {},
   "outputs": [
    {
     "data": {
      "text/html": [
       "<div>\n",
       "<style scoped>\n",
       "    .dataframe tbody tr th:only-of-type {\n",
       "        vertical-align: middle;\n",
       "    }\n",
       "\n",
       "    .dataframe tbody tr th {\n",
       "        vertical-align: top;\n",
       "    }\n",
       "\n",
       "    .dataframe thead th {\n",
       "        text-align: right;\n",
       "    }\n",
       "</style>\n",
       "<table border=\"1\" class=\"dataframe\">\n",
       "  <thead>\n",
       "    <tr style=\"text-align: right;\">\n",
       "      <th></th>\n",
       "      <th>reseña</th>\n",
       "      <th>reseña_limpia</th>\n",
       "    </tr>\n",
       "  </thead>\n",
       "  <tbody>\n",
       "    <tr>\n",
       "      <th>0</th>\n",
       "      <td>Uno de los otros críticos ha mencionado que de...</td>\n",
       "      <td>Uno de los otros críticos ha mencionado que de...</td>\n",
       "    </tr>\n",
       "    <tr>\n",
       "      <th>1</th>\n",
       "      <td>Una pequeña pequeña producción.La técnica de f...</td>\n",
       "      <td>Una pequeña pequeña producciónLa técnica de fi...</td>\n",
       "    </tr>\n",
       "    <tr>\n",
       "      <th>2</th>\n",
       "      <td>Pensé que esta era una manera maravillosa de p...</td>\n",
       "      <td>Pensé que esta era una manera maravillosa de p...</td>\n",
       "    </tr>\n",
       "    <tr>\n",
       "      <th>3</th>\n",
       "      <td>Básicamente, hay una familia donde un niño peq...</td>\n",
       "      <td>Básicamente hay una familia donde un niño pequ...</td>\n",
       "    </tr>\n",
       "    <tr>\n",
       "      <th>4</th>\n",
       "      <td>El \"amor en el tiempo\" de Petter Mattei es una...</td>\n",
       "      <td>El amor en el tiempo de Petter Mattei es una p...</td>\n",
       "    </tr>\n",
       "  </tbody>\n",
       "</table>\n",
       "</div>"
      ],
      "text/plain": [
       "                                              reseña  \\\n",
       "0  Uno de los otros críticos ha mencionado que de...   \n",
       "1  Una pequeña pequeña producción.La técnica de f...   \n",
       "2  Pensé que esta era una manera maravillosa de p...   \n",
       "3  Básicamente, hay una familia donde un niño peq...   \n",
       "4  El \"amor en el tiempo\" de Petter Mattei es una...   \n",
       "\n",
       "                                       reseña_limpia  \n",
       "0  Uno de los otros críticos ha mencionado que de...  \n",
       "1  Una pequeña pequeña producciónLa técnica de fi...  \n",
       "2  Pensé que esta era una manera maravillosa de p...  \n",
       "3  Básicamente hay una familia donde un niño pequ...  \n",
       "4  El amor en el tiempo de Petter Mattei es una p...  "
      ]
     },
     "execution_count": 113,
     "metadata": {},
     "output_type": "execute_result"
    }
   ],
   "source": [
    "#defining the function to remove punctuation\n",
    "def remove_punctuation(text):\n",
    "    punctuationfree=\"\".join([i for i in text if i not in signos_puntuacion])\n",
    "    return punctuationfree\n",
    "\n",
    "#storing the puntuation free text\n",
    "df['reseña_limpia'] = df['reseña'].apply(lambda x:remove_punctuation(x))\n",
    "df.head()"
   ]
  },
  {
   "cell_type": "markdown",
   "id": "418e3b65",
   "metadata": {},
   "source": [
    "### Textos en minúsculas\n",
    "Parte de la normalización es poner todos los textos en minúsculas (o mayúsculas), esto puede servir posteriormente por ejemplo para hacer un conteo de palabras.\n",
    "\n",
    "⚠️ _**Nota**: Al hacer esto existe el riesgo que se pierda información contextual; por ejemplo, dentro de una reseña cuando alguien escribe una palabra específica en mayúsculas y las demás en minúsculas esto conlleva un mayor importancia o aumento en tono de voz._"
   ]
  },
  {
   "cell_type": "code",
   "execution_count": 114,
   "id": "0c210b89",
   "metadata": {},
   "outputs": [
    {
     "data": {
      "text/html": [
       "<div>\n",
       "<style scoped>\n",
       "    .dataframe tbody tr th:only-of-type {\n",
       "        vertical-align: middle;\n",
       "    }\n",
       "\n",
       "    .dataframe tbody tr th {\n",
       "        vertical-align: top;\n",
       "    }\n",
       "\n",
       "    .dataframe thead th {\n",
       "        text-align: right;\n",
       "    }\n",
       "</style>\n",
       "<table border=\"1\" class=\"dataframe\">\n",
       "  <thead>\n",
       "    <tr style=\"text-align: right;\">\n",
       "      <th></th>\n",
       "      <th>reseña</th>\n",
       "      <th>reseña_limpia</th>\n",
       "    </tr>\n",
       "  </thead>\n",
       "  <tbody>\n",
       "    <tr>\n",
       "      <th>0</th>\n",
       "      <td>Uno de los otros críticos ha mencionado que de...</td>\n",
       "      <td>uno de los otros críticos ha mencionado que de...</td>\n",
       "    </tr>\n",
       "    <tr>\n",
       "      <th>1</th>\n",
       "      <td>Una pequeña pequeña producción.La técnica de f...</td>\n",
       "      <td>una pequeña pequeña producciónla técnica de fi...</td>\n",
       "    </tr>\n",
       "    <tr>\n",
       "      <th>2</th>\n",
       "      <td>Pensé que esta era una manera maravillosa de p...</td>\n",
       "      <td>pensé que esta era una manera maravillosa de p...</td>\n",
       "    </tr>\n",
       "    <tr>\n",
       "      <th>3</th>\n",
       "      <td>Básicamente, hay una familia donde un niño peq...</td>\n",
       "      <td>básicamente hay una familia donde un niño pequ...</td>\n",
       "    </tr>\n",
       "    <tr>\n",
       "      <th>4</th>\n",
       "      <td>El \"amor en el tiempo\" de Petter Mattei es una...</td>\n",
       "      <td>el amor en el tiempo de petter mattei es una p...</td>\n",
       "    </tr>\n",
       "  </tbody>\n",
       "</table>\n",
       "</div>"
      ],
      "text/plain": [
       "                                              reseña  \\\n",
       "0  Uno de los otros críticos ha mencionado que de...   \n",
       "1  Una pequeña pequeña producción.La técnica de f...   \n",
       "2  Pensé que esta era una manera maravillosa de p...   \n",
       "3  Básicamente, hay una familia donde un niño peq...   \n",
       "4  El \"amor en el tiempo\" de Petter Mattei es una...   \n",
       "\n",
       "                                       reseña_limpia  \n",
       "0  uno de los otros críticos ha mencionado que de...  \n",
       "1  una pequeña pequeña producciónla técnica de fi...  \n",
       "2  pensé que esta era una manera maravillosa de p...  \n",
       "3  básicamente hay una familia donde un niño pequ...  \n",
       "4  el amor en el tiempo de petter mattei es una p...  "
      ]
     },
     "execution_count": 114,
     "metadata": {},
     "output_type": "execute_result"
    }
   ],
   "source": [
    "# cambiar los tweets a letras minúsculas\n",
    "df['reseña_limpia'] = df['reseña_limpia'].apply((lambda x: x.lower()))\n",
    "df.head()"
   ]
  },
  {
   "cell_type": "markdown",
   "id": "45869e14",
   "metadata": {},
   "source": [
    "### Tokenization\n",
    "Aquí veremos cómo separar los enunciados en *tokens* (palabras o cadenas de caracteres)."
   ]
  },
  {
   "cell_type": "code",
   "execution_count": 115,
   "id": "9e1820a6",
   "metadata": {},
   "outputs": [
    {
     "data": {
      "text/html": [
       "<div>\n",
       "<style scoped>\n",
       "    .dataframe tbody tr th:only-of-type {\n",
       "        vertical-align: middle;\n",
       "    }\n",
       "\n",
       "    .dataframe tbody tr th {\n",
       "        vertical-align: top;\n",
       "    }\n",
       "\n",
       "    .dataframe thead th {\n",
       "        text-align: right;\n",
       "    }\n",
       "</style>\n",
       "<table border=\"1\" class=\"dataframe\">\n",
       "  <thead>\n",
       "    <tr style=\"text-align: right;\">\n",
       "      <th></th>\n",
       "      <th>reseña</th>\n",
       "      <th>reseña_limpia</th>\n",
       "    </tr>\n",
       "  </thead>\n",
       "  <tbody>\n",
       "    <tr>\n",
       "      <th>0</th>\n",
       "      <td>Uno de los otros críticos ha mencionado que de...</td>\n",
       "      <td>[uno, de, los, otros, críticos, ha, mencionado...</td>\n",
       "    </tr>\n",
       "    <tr>\n",
       "      <th>1</th>\n",
       "      <td>Una pequeña pequeña producción.La técnica de f...</td>\n",
       "      <td>[una, pequeña, pequeña, producciónla, técnica,...</td>\n",
       "    </tr>\n",
       "    <tr>\n",
       "      <th>2</th>\n",
       "      <td>Pensé que esta era una manera maravillosa de p...</td>\n",
       "      <td>[pensé, que, esta, era, una, manera, maravillo...</td>\n",
       "    </tr>\n",
       "    <tr>\n",
       "      <th>3</th>\n",
       "      <td>Básicamente, hay una familia donde un niño peq...</td>\n",
       "      <td>[básicamente, hay, una, familia, donde, un, ni...</td>\n",
       "    </tr>\n",
       "    <tr>\n",
       "      <th>4</th>\n",
       "      <td>El \"amor en el tiempo\" de Petter Mattei es una...</td>\n",
       "      <td>[el, amor, en, el, tiempo, de, petter, mattei,...</td>\n",
       "    </tr>\n",
       "  </tbody>\n",
       "</table>\n",
       "</div>"
      ],
      "text/plain": [
       "                                              reseña  \\\n",
       "0  Uno de los otros críticos ha mencionado que de...   \n",
       "1  Una pequeña pequeña producción.La técnica de f...   \n",
       "2  Pensé que esta era una manera maravillosa de p...   \n",
       "3  Básicamente, hay una familia donde un niño peq...   \n",
       "4  El \"amor en el tiempo\" de Petter Mattei es una...   \n",
       "\n",
       "                                       reseña_limpia  \n",
       "0  [uno, de, los, otros, críticos, ha, mencionado...  \n",
       "1  [una, pequeña, pequeña, producciónla, técnica,...  \n",
       "2  [pensé, que, esta, era, una, manera, maravillo...  \n",
       "3  [básicamente, hay, una, familia, donde, un, ni...  \n",
       "4  [el, amor, en, el, tiempo, de, petter, mattei,...  "
      ]
     },
     "execution_count": 115,
     "metadata": {},
     "output_type": "execute_result"
    }
   ],
   "source": [
    "# getting the tokens per tweet\n",
    "df['reseña_limpia'] = df['reseña_limpia'].apply(lambda x: x.rsplit())\n",
    "df.head()"
   ]
  },
  {
   "cell_type": "markdown",
   "id": "487978ad",
   "metadata": {},
   "source": [
    "### Eliminar *stopwords*\n",
    "Las *stopwords* son palabras de uso común que no añaden un valor adicional al análisis de texto o que no tienen sentido, por lo que pueden ser eliminadas de nuestra lista de tokens.\n",
    "\n",
    "Existen distintas maneras de obtener la lista de stopwords:  \n",
    "> (1) Crear nuestra propia lista  \n",
    "\n",
    "> (2) Buscar alguna base de datos que contenga la lista de stopwords\n",
    "> - En GitHub encontré una lista de stopwords el el repositorio [Alir3z4/stop-words](https://github.com/Alir3z4/stop-words/blob/master/spanish.txt)\n",
    "> - Una alternativa es una lista de Kaggle [Spanish Stopwords W2V](https://www.kaggle.com/code/mpwolke/spanish-stopwords-w2v)\n",
    "> - Otra alternativa es la lista que da la página [countwordsfree.com](https://countwordsfree.com/stopwords/spanish)\n",
    "\n",
    "> (3) Algo más estandarizado y completo es utilizar la librería de *Natural Language Toolkit* (**NLTK**), la cual tiene listas de *stopwords* en distintos idiomas, donde (además de inglés) podemos encontrar la lista de palabras en español. Para instalar este paquete así como mayor detalle de uso, revisa la página de la [librería NLTK](https://www.nltk.org/data.html).\n",
    "\n",
    "⚠️ _**Nota**: antes de usar alguna de las opciones anteriores deberás de pensar cuál lista de stopwords se acopla mejor a tus necesidades!_"
   ]
  },
  {
   "cell_type": "code",
   "execution_count": 117,
   "id": "e118462c",
   "metadata": {},
   "outputs": [
    {
     "name": "stdout",
     "output_type": "stream",
     "text": [
      "Número de stopwords en mi lista (1): 11\n"
     ]
    },
    {
     "data": {
      "text/plain": [
       "['a',\n",
       " 'ante',\n",
       " 'bajo',\n",
       " 'con',\n",
       " 'no',\n",
       " 'de',\n",
       " 'del',\n",
       " 'al',\n",
       " 'tras',\n",
       " 'idiota',\n",
       " 'bitcoin']"
      ]
     },
     "execution_count": 117,
     "metadata": {},
     "output_type": "execute_result"
    }
   ],
   "source": [
    "# (1) Crear nuestra propia lista de stopwords\n",
    "stopwords_1 = ['a','ante','bajo','con','no','de','del','al','tras','idiota','bitcoin']\n",
    "\n",
    "print(\"Número de stopwords en mi lista (1):\", len(stopwords_1))\n",
    "stopwords_1"
   ]
  },
  {
   "cell_type": "code",
   "execution_count": 118,
   "id": "3a957d37",
   "metadata": {},
   "outputs": [
    {
     "name": "stdout",
     "output_type": "stream",
     "text": [
      "Número de stopwords en mi lista (2): 609\n"
     ]
    },
    {
     "data": {
      "text/plain": [
       "['a',\n",
       " 'actualmente',\n",
       " 'adelante',\n",
       " 'además',\n",
       " 'afirmó',\n",
       " 'agregó',\n",
       " 'ahora',\n",
       " 'ahí',\n",
       " 'al',\n",
       " 'algo',\n",
       " 'alguna',\n",
       " 'algunas',\n",
       " 'alguno',\n",
       " 'algunos',\n",
       " 'algún']"
      ]
     },
     "execution_count": 118,
     "metadata": {},
     "output_type": "execute_result"
    }
   ],
   "source": [
    "# (2) Buscar alguna base de datos que contenga la lista de stopwords.\n",
    "#     En este ejemplo bajamos la lista de GitHub\n",
    "import urllib3\n",
    "\n",
    "http = urllib3.PoolManager()\n",
    "r = http.request('GET', \"https://raw.githubusercontent.com/Alir3z4/stop-words/master/spanish.txt\")\n",
    "stopwords_2 = r.data.decode('utf-8').replace(\"\\n\",\" \").rsplit()\n",
    "\n",
    "print(\"Número de stopwords en mi lista (2):\", len(stopwords_2))\n",
    "stopwords_2[:15]"
   ]
  },
  {
   "cell_type": "code",
   "execution_count": 119,
   "id": "ff24eac7",
   "metadata": {},
   "outputs": [
    {
     "name": "stdout",
     "output_type": "stream",
     "text": [
      "Número de stopwords en de NLTK library (3): 313\n"
     ]
    },
    {
     "data": {
      "text/plain": [
       "['de',\n",
       " 'la',\n",
       " 'que',\n",
       " 'el',\n",
       " 'en',\n",
       " 'y',\n",
       " 'a',\n",
       " 'los',\n",
       " 'del',\n",
       " 'se',\n",
       " 'las',\n",
       " 'por',\n",
       " 'un',\n",
       " 'para',\n",
       " 'con']"
      ]
     },
     "execution_count": 119,
     "metadata": {},
     "output_type": "execute_result"
    }
   ],
   "source": [
    "# (3) Uso de NLP Toolkit library\n",
    "\n",
    "## Para instalar la librería revisa la página: https://www.nltk.org/data.html\n",
    "## Nota, este proceso puede ser tardado...\n",
    "# !pip install nltk\n",
    "# nltk.download()\n",
    "\n",
    "# load library\n",
    "import nltk\n",
    "\n",
    "stopwords_3 = nltk.corpus.stopwords.words('spanish')\n",
    "\n",
    "print(\"Número de stopwords en de NLTK library (3):\", len(stopwords_3))\n",
    "stopwords_3[:15]"
   ]
  },
  {
   "cell_type": "markdown",
   "id": "1a12868e",
   "metadata": {},
   "source": [
    "**Vamos a eliminar las stopwords usando la lista que obtivimos de NLTK library (opción 3):**"
   ]
  },
  {
   "cell_type": "code",
   "execution_count": 120,
   "id": "226d0c34",
   "metadata": {},
   "outputs": [
    {
     "data": {
      "text/html": [
       "<div>\n",
       "<style scoped>\n",
       "    .dataframe tbody tr th:only-of-type {\n",
       "        vertical-align: middle;\n",
       "    }\n",
       "\n",
       "    .dataframe tbody tr th {\n",
       "        vertical-align: top;\n",
       "    }\n",
       "\n",
       "    .dataframe thead th {\n",
       "        text-align: right;\n",
       "    }\n",
       "</style>\n",
       "<table border=\"1\" class=\"dataframe\">\n",
       "  <thead>\n",
       "    <tr style=\"text-align: right;\">\n",
       "      <th></th>\n",
       "      <th>reseña</th>\n",
       "      <th>reseña_limpia</th>\n",
       "    </tr>\n",
       "  </thead>\n",
       "  <tbody>\n",
       "    <tr>\n",
       "      <th>0</th>\n",
       "      <td>Uno de los otros críticos ha mencionado que de...</td>\n",
       "      <td>[críticos, mencionado, después, ver, solo, 1, ...</td>\n",
       "    </tr>\n",
       "    <tr>\n",
       "      <th>1</th>\n",
       "      <td>Una pequeña pequeña producción.La técnica de f...</td>\n",
       "      <td>[pequeña, pequeña, producciónla, técnica, film...</td>\n",
       "    </tr>\n",
       "    <tr>\n",
       "      <th>2</th>\n",
       "      <td>Pensé que esta era una manera maravillosa de p...</td>\n",
       "      <td>[pensé, manera, maravillosa, pasar, tiempo, fi...</td>\n",
       "    </tr>\n",
       "    <tr>\n",
       "      <th>3</th>\n",
       "      <td>Básicamente, hay una familia donde un niño peq...</td>\n",
       "      <td>[básicamente, familia, niño, pequeño, jake, pi...</td>\n",
       "    </tr>\n",
       "    <tr>\n",
       "      <th>4</th>\n",
       "      <td>El \"amor en el tiempo\" de Petter Mattei es una...</td>\n",
       "      <td>[amor, tiempo, petter, mattei, película, visua...</td>\n",
       "    </tr>\n",
       "  </tbody>\n",
       "</table>\n",
       "</div>"
      ],
      "text/plain": [
       "                                              reseña  \\\n",
       "0  Uno de los otros críticos ha mencionado que de...   \n",
       "1  Una pequeña pequeña producción.La técnica de f...   \n",
       "2  Pensé que esta era una manera maravillosa de p...   \n",
       "3  Básicamente, hay una familia donde un niño peq...   \n",
       "4  El \"amor en el tiempo\" de Petter Mattei es una...   \n",
       "\n",
       "                                       reseña_limpia  \n",
       "0  [críticos, mencionado, después, ver, solo, 1, ...  \n",
       "1  [pequeña, pequeña, producciónla, técnica, film...  \n",
       "2  [pensé, manera, maravillosa, pasar, tiempo, fi...  \n",
       "3  [básicamente, familia, niño, pequeño, jake, pi...  \n",
       "4  [amor, tiempo, petter, mattei, película, visua...  "
      ]
     },
     "execution_count": 120,
     "metadata": {},
     "output_type": "execute_result"
    }
   ],
   "source": [
    "#defining the function to remove stopwords from tokenized text\n",
    "def remove_stopwords(text):\n",
    "    output= [i for i in text if i not in stopwords_3]\n",
    "    return output\n",
    "\n",
    "#applying the stopwords function to thet tweets\n",
    "df['reseña_limpia'] = df['reseña_limpia'].apply(lambda x:remove_stopwords(x))\n",
    "df.head()"
   ]
  },
  {
   "cell_type": "markdown",
   "id": "c644c42f",
   "metadata": {},
   "source": [
    "### Lematización\n",
    "Este paso nos servirá para extraer la la raíz de las palabras, para poder \"normalizar\" el texto y realizar un mejor análisis. Aquí nuevamente utilizaremos la librería `NLTK`."
   ]
  },
  {
   "cell_type": "code",
   "execution_count": 121,
   "id": "e0c6116f",
   "metadata": {},
   "outputs": [
    {
     "name": "stdout",
     "output_type": "stream",
     "text": [
      "CPU times: user 26.8 s, sys: 829 ms, total: 27.6 s\n",
      "Wall time: 28 s\n"
     ]
    },
    {
     "data": {
      "text/html": [
       "<div>\n",
       "<style scoped>\n",
       "    .dataframe tbody tr th:only-of-type {\n",
       "        vertical-align: middle;\n",
       "    }\n",
       "\n",
       "    .dataframe tbody tr th {\n",
       "        vertical-align: top;\n",
       "    }\n",
       "\n",
       "    .dataframe thead th {\n",
       "        text-align: right;\n",
       "    }\n",
       "</style>\n",
       "<table border=\"1\" class=\"dataframe\">\n",
       "  <thead>\n",
       "    <tr style=\"text-align: right;\">\n",
       "      <th></th>\n",
       "      <th>reseña</th>\n",
       "      <th>reseña_limpia</th>\n",
       "    </tr>\n",
       "  </thead>\n",
       "  <tbody>\n",
       "    <tr>\n",
       "      <th>0</th>\n",
       "      <td>Uno de los otros críticos ha mencionado que de...</td>\n",
       "      <td>[críticos, mencionado, después, ver, solo, 1, ...</td>\n",
       "    </tr>\n",
       "    <tr>\n",
       "      <th>1</th>\n",
       "      <td>Una pequeña pequeña producción.La técnica de f...</td>\n",
       "      <td>[pequeña, pequeña, producciónla, técnica, film...</td>\n",
       "    </tr>\n",
       "    <tr>\n",
       "      <th>2</th>\n",
       "      <td>Pensé que esta era una manera maravillosa de p...</td>\n",
       "      <td>[pensé, manera, maravillosa, pasar, tiempo, fi...</td>\n",
       "    </tr>\n",
       "    <tr>\n",
       "      <th>3</th>\n",
       "      <td>Básicamente, hay una familia donde un niño peq...</td>\n",
       "      <td>[básicamente, familia, niño, pequeño, jake, pi...</td>\n",
       "    </tr>\n",
       "    <tr>\n",
       "      <th>4</th>\n",
       "      <td>El \"amor en el tiempo\" de Petter Mattei es una...</td>\n",
       "      <td>[amor, tiempo, petter, mattei, película, visua...</td>\n",
       "    </tr>\n",
       "  </tbody>\n",
       "</table>\n",
       "</div>"
      ],
      "text/plain": [
       "                                              reseña  \\\n",
       "0  Uno de los otros críticos ha mencionado que de...   \n",
       "1  Una pequeña pequeña producción.La técnica de f...   \n",
       "2  Pensé que esta era una manera maravillosa de p...   \n",
       "3  Básicamente, hay una familia donde un niño peq...   \n",
       "4  El \"amor en el tiempo\" de Petter Mattei es una...   \n",
       "\n",
       "                                       reseña_limpia  \n",
       "0  [críticos, mencionado, después, ver, solo, 1, ...  \n",
       "1  [pequeña, pequeña, producciónla, técnica, film...  \n",
       "2  [pensé, manera, maravillosa, pasar, tiempo, fi...  \n",
       "3  [básicamente, familia, niño, pequeño, jake, pi...  \n",
       "4  [amor, tiempo, petter, mattei, película, visua...  "
      ]
     },
     "execution_count": 121,
     "metadata": {},
     "output_type": "execute_result"
    }
   ],
   "source": [
    "%%time\n",
    "\n",
    "#defining the object for Lemmatization\n",
    "wordnet_lemmatizer = nltk.stem.WordNetLemmatizer()\n",
    "\n",
    "#defining the function for lemmatization\n",
    "def lemmatizer(text):\n",
    "    lemm_text = [wordnet_lemmatizer.lemmatize(word) for word in text]\n",
    "    return lemm_text\n",
    "\n",
    "#lemmatization of our tweets\n",
    "df['reseña_limpia'] = df['reseña_limpia'].apply(lambda x:lemmatizer(x))\n",
    "df.head()"
   ]
  },
  {
   "cell_type": "markdown",
   "id": "830493b5",
   "metadata": {},
   "source": [
    "### Eliminar URLs\n",
    "Si quisiera eliminar URLs, podríamos usar lo siguiente:"
   ]
  },
  {
   "cell_type": "code",
   "execution_count": 122,
   "id": "46d04d9b",
   "metadata": {},
   "outputs": [
    {
     "data": {
      "text/html": [
       "<div>\n",
       "<style scoped>\n",
       "    .dataframe tbody tr th:only-of-type {\n",
       "        vertical-align: middle;\n",
       "    }\n",
       "\n",
       "    .dataframe tbody tr th {\n",
       "        vertical-align: top;\n",
       "    }\n",
       "\n",
       "    .dataframe thead th {\n",
       "        text-align: right;\n",
       "    }\n",
       "</style>\n",
       "<table border=\"1\" class=\"dataframe\">\n",
       "  <thead>\n",
       "    <tr style=\"text-align: right;\">\n",
       "      <th></th>\n",
       "      <th>reseña</th>\n",
       "      <th>reseña_limpia</th>\n",
       "    </tr>\n",
       "  </thead>\n",
       "  <tbody>\n",
       "    <tr>\n",
       "      <th>0</th>\n",
       "      <td>Uno de los otros críticos ha mencionado que de...</td>\n",
       "      <td>[críticos, mencionado, después, ver, solo, 1, ...</td>\n",
       "    </tr>\n",
       "    <tr>\n",
       "      <th>1</th>\n",
       "      <td>Una pequeña pequeña producción.La técnica de f...</td>\n",
       "      <td>[pequeña, pequeña, producciónla, técnica, film...</td>\n",
       "    </tr>\n",
       "    <tr>\n",
       "      <th>2</th>\n",
       "      <td>Pensé que esta era una manera maravillosa de p...</td>\n",
       "      <td>[pensé, manera, maravillosa, pasar, tiempo, fi...</td>\n",
       "    </tr>\n",
       "    <tr>\n",
       "      <th>3</th>\n",
       "      <td>Básicamente, hay una familia donde un niño peq...</td>\n",
       "      <td>[básicamente, familia, niño, pequeño, jake, pi...</td>\n",
       "    </tr>\n",
       "    <tr>\n",
       "      <th>4</th>\n",
       "      <td>El \"amor en el tiempo\" de Petter Mattei es una...</td>\n",
       "      <td>[amor, tiempo, petter, mattei, película, visua...</td>\n",
       "    </tr>\n",
       "  </tbody>\n",
       "</table>\n",
       "</div>"
      ],
      "text/plain": [
       "                                              reseña  \\\n",
       "0  Uno de los otros críticos ha mencionado que de...   \n",
       "1  Una pequeña pequeña producción.La técnica de f...   \n",
       "2  Pensé que esta era una manera maravillosa de p...   \n",
       "3  Básicamente, hay una familia donde un niño peq...   \n",
       "4  El \"amor en el tiempo\" de Petter Mattei es una...   \n",
       "\n",
       "                                       reseña_limpia  \n",
       "0  [críticos, mencionado, después, ver, solo, 1, ...  \n",
       "1  [pequeña, pequeña, producciónla, técnica, film...  \n",
       "2  [pensé, manera, maravillosa, pasar, tiempo, fi...  \n",
       "3  [básicamente, familia, niño, pequeño, jake, pi...  \n",
       "4  [amor, tiempo, petter, mattei, película, visua...  "
      ]
     },
     "execution_count": 122,
     "metadata": {},
     "output_type": "execute_result"
    }
   ],
   "source": [
    "def erase_urls(text):\n",
    "    output = [i for i in text if i.rfind(\"http\")==-1]\n",
    "    return output\n",
    "\n",
    "# texto.rfind(\"villano\")\n",
    "df['reseña_limpia'] = df['reseña_limpia'].apply(lambda x:erase_urls(x))\n",
    "df.head()"
   ]
  },
  {
   "cell_type": "markdown",
   "id": "ddb7e003",
   "metadata": {},
   "source": [
    "### Resultado final de preproceso (BD final)\n",
    "A continuación se muestran los textos iniciales en la columna \"reseña\", y la información preprocesada en la columna \"reseña_limpia\", a manera de comparación."
   ]
  },
  {
   "cell_type": "code",
   "execution_count": 123,
   "id": "691f5e8a",
   "metadata": {},
   "outputs": [
    {
     "data": {
      "text/html": [
       "<div>\n",
       "<style scoped>\n",
       "    .dataframe tbody tr th:only-of-type {\n",
       "        vertical-align: middle;\n",
       "    }\n",
       "\n",
       "    .dataframe tbody tr th {\n",
       "        vertical-align: top;\n",
       "    }\n",
       "\n",
       "    .dataframe thead th {\n",
       "        text-align: right;\n",
       "    }\n",
       "</style>\n",
       "<table border=\"1\" class=\"dataframe\">\n",
       "  <thead>\n",
       "    <tr style=\"text-align: right;\">\n",
       "      <th></th>\n",
       "      <th>reseña</th>\n",
       "      <th>reseña_limpia</th>\n",
       "    </tr>\n",
       "  </thead>\n",
       "  <tbody>\n",
       "    <tr>\n",
       "      <th>0</th>\n",
       "      <td>Uno de los otros críticos ha mencionado que de...</td>\n",
       "      <td>[críticos, mencionado, después, ver, solo, 1, ...</td>\n",
       "    </tr>\n",
       "    <tr>\n",
       "      <th>1</th>\n",
       "      <td>Una pequeña pequeña producción.La técnica de f...</td>\n",
       "      <td>[pequeña, pequeña, producciónla, técnica, film...</td>\n",
       "    </tr>\n",
       "    <tr>\n",
       "      <th>2</th>\n",
       "      <td>Pensé que esta era una manera maravillosa de p...</td>\n",
       "      <td>[pensé, manera, maravillosa, pasar, tiempo, fi...</td>\n",
       "    </tr>\n",
       "    <tr>\n",
       "      <th>3</th>\n",
       "      <td>Básicamente, hay una familia donde un niño peq...</td>\n",
       "      <td>[básicamente, familia, niño, pequeño, jake, pi...</td>\n",
       "    </tr>\n",
       "    <tr>\n",
       "      <th>4</th>\n",
       "      <td>El \"amor en el tiempo\" de Petter Mattei es una...</td>\n",
       "      <td>[amor, tiempo, petter, mattei, película, visua...</td>\n",
       "    </tr>\n",
       "    <tr>\n",
       "      <th>...</th>\n",
       "      <td>...</td>\n",
       "      <td>...</td>\n",
       "    </tr>\n",
       "    <tr>\n",
       "      <th>49995</th>\n",
       "      <td>Pensé que esta película hizo un buen trabajo a...</td>\n",
       "      <td>[pensé, película, hizo, buen, trabajo, derecha...</td>\n",
       "    </tr>\n",
       "    <tr>\n",
       "      <th>49996</th>\n",
       "      <td>Mala parcela, mal diálogo, mala actuación, dir...</td>\n",
       "      <td>[mala, parcela, mal, diálogo, mala, actuación,...</td>\n",
       "    </tr>\n",
       "    <tr>\n",
       "      <th>49997</th>\n",
       "      <td>Soy católica enseñada en escuelas primarias pa...</td>\n",
       "      <td>[católica, enseñada, escuelas, primarias, parr...</td>\n",
       "    </tr>\n",
       "    <tr>\n",
       "      <th>49998</th>\n",
       "      <td>Voy a tener que estar en desacuerdo con el com...</td>\n",
       "      <td>[voy, tener, desacuerdo, comentario, anterior,...</td>\n",
       "    </tr>\n",
       "    <tr>\n",
       "      <th>49999</th>\n",
       "      <td>Nadie espera que las películas de Star Trek se...</td>\n",
       "      <td>[nadie, espera, películas, star, trek, altas, ...</td>\n",
       "    </tr>\n",
       "  </tbody>\n",
       "</table>\n",
       "<p>50000 rows × 2 columns</p>\n",
       "</div>"
      ],
      "text/plain": [
       "                                                  reseña  \\\n",
       "0      Uno de los otros críticos ha mencionado que de...   \n",
       "1      Una pequeña pequeña producción.La técnica de f...   \n",
       "2      Pensé que esta era una manera maravillosa de p...   \n",
       "3      Básicamente, hay una familia donde un niño peq...   \n",
       "4      El \"amor en el tiempo\" de Petter Mattei es una...   \n",
       "...                                                  ...   \n",
       "49995  Pensé que esta película hizo un buen trabajo a...   \n",
       "49996  Mala parcela, mal diálogo, mala actuación, dir...   \n",
       "49997  Soy católica enseñada en escuelas primarias pa...   \n",
       "49998  Voy a tener que estar en desacuerdo con el com...   \n",
       "49999  Nadie espera que las películas de Star Trek se...   \n",
       "\n",
       "                                           reseña_limpia  \n",
       "0      [críticos, mencionado, después, ver, solo, 1, ...  \n",
       "1      [pequeña, pequeña, producciónla, técnica, film...  \n",
       "2      [pensé, manera, maravillosa, pasar, tiempo, fi...  \n",
       "3      [básicamente, familia, niño, pequeño, jake, pi...  \n",
       "4      [amor, tiempo, petter, mattei, película, visua...  \n",
       "...                                                  ...  \n",
       "49995  [pensé, película, hizo, buen, trabajo, derecha...  \n",
       "49996  [mala, parcela, mal, diálogo, mala, actuación,...  \n",
       "49997  [católica, enseñada, escuelas, primarias, parr...  \n",
       "49998  [voy, tener, desacuerdo, comentario, anterior,...  \n",
       "49999  [nadie, espera, películas, star, trek, altas, ...  \n",
       "\n",
       "[50000 rows x 2 columns]"
      ]
     },
     "execution_count": 123,
     "metadata": {},
     "output_type": "execute_result"
    }
   ],
   "source": [
    "df[['reseña', 'reseña_limpia']]"
   ]
  },
  {
   "cell_type": "code",
   "execution_count": 124,
   "id": "b122a751",
   "metadata": {},
   "outputs": [
    {
     "name": "stdout",
     "output_type": "stream",
     "text": [
      "Ejemplo de reseña...\n",
      "- original:\n",
      " Una pequeña pequeña producción.La técnica de filmación es muy incuestionable, muy antigua, la moda de la BBC y le da una sensación de realismo reconfortante, y, a veces, incómodo, y, a veces, a la pieza.Los actores son extremadamente bien elegidos, Michael Sheen, no solo \"tiene todo el polari\", ¡pero tiene todas las voces por palmaditas!Realmente puede ver la edición perfecta guiada por las referencias a las entradas del diario de Williams, no solo vale la pena la observación, pero es una pieza imperrementemente escrita y realizada.Una producción magistral sobre uno de los grandes maestros de la comedia y su vida.El realismo realmente llega a casa con las pequeñas cosas: la fantasía del guardia que, en lugar de usar las técnicas de \"sueño\" tradicionales permanece sólido, entonces desaparece.Se desempeña nuestro conocimiento y nuestros sentidos, particularmente con las escenas relacionadas con Orton y Halliwell y los conjuntos (particularmente de su apartamento con murales de Halliwell que decoran cada superficie) están terriblemente bien hechos. \n",
      "\n",
      "- reseña limpia:\n",
      " ['pequeña', 'pequeña', 'producciónla', 'técnica', 'filmación', 'incuestionable', 'antigua', 'moda', 'bbc', 'da', 'sensación', 'realismo', 'reconfortante', 'veces', 'incómodo', 'veces', 'piezalos', 'actores', 'extremadamente', 'bien', 'elegidos', 'michael', 'sheen', 'solo', 'polari', '¡pero', 'toda', 'vox', 'palmaditasrealmente', 'puede', 'ver', 'edición', 'perfecta', 'guiada', 'referencias', 'entradas', 'diario', 'williams', 'solo', 'vale', 'pena', 'observación', 'pieza', 'imperrementemente', 'escrita', 'realizadauna', 'producción', 'magistral', 'grandes', 'maestro', 'comedia', 'vidael', 'realismo', 'realmente', 'llega', 'casa', 'pequeñas', 'cosas', 'fantasía', 'guardia', 'lugar', 'usar', 'técnicas', 'sueño', 'tradicionales', 'permanece', 'sólido', 'entonces', 'desaparecese', 'desempeña', 'conocimiento', 'particularmente', 'escenas', 'relacionadas', 'orton', 'halliwell', 'conjuntos', 'particularmente', 'apartamento', 'murales', 'halliwell', 'decoran', 'cada', 'superficie', 'terriblemente', 'bien', 'hechos']\n"
     ]
    }
   ],
   "source": [
    "print(\"Ejemplo de reseña...\\n- original:\\n\",df['reseña'][1],\n",
    "      \"\\n\\n- reseña limpia:\\n\", df['reseña_limpia'][1])"
   ]
  },
  {
   "cell_type": "markdown",
   "id": "703b4d71",
   "metadata": {},
   "source": [
    "## 3. Regular expressions (*Regex*)\n",
    "Las expresiones regulares mejor conocidas como *regex* son una herramienta que nos sirve para trabajar con texto, con el cual se pueden realizar distintas operaciones como búsqueda o reemplazo de un texto específico.\n",
    "\n",
    "Existen distintos operadores que se utilizan en *regex*, estos son los que utilizaremos para nuestros ejemplos. \n",
    "\n",
    "\n",
    "|Operador|Descripción (_en inglés_)|\n",
    "|:------:|:----------------------|\n",
    "|. (punto)|In the default mode, this matches any character except a newline. If the DOTALL flag has been specified, this matches any character including a newline.|\n",
    "|* (asterisco) |Causes the resulting RE to match 0 or more repetitions of the preceding RE, as many repetitions as are possible. ab* will match ‘a’, ‘ab’, or ‘a’ followed by any number of ‘b’s.|\n",
    "|+ (más) |Causes the resulting RE to match 1 or more repetitions of the preceding RE. ab+ will match ‘a’ followed by any non-zero number of ‘b’s; it will not match just ‘a’.|\n",
    "|[ ]| Used to indicate a set of characters. In a set:<ul><li>Characters can be listed individually, e.g. [amk] will match 'a', 'm', or 'k'.</li><li>Ranges of characters can be indicated by giving two characters and separating them by a '-', for example [a-z] will match any lowercase ASCII letter, [0-5][0-9] will match all the two-digits numbers from 00 to 59, and [0-9A-Fa-f] will match any hexadecimal digit. If - is escaped (e.g. [a\\-z]) or if it’s placed as the first or last character (e.g. [-a] or [a-]), it will match a literal '-'.</li><li>Special characters lose their special meaning inside sets. For example, [(+*)] will match any of the literal characters '(', '+', '*', or ')'.</li></ul>|\n",
    "|\\n |line break|\n",
    "|\\s|space|\n",
    "\n",
    "⚠️ Se recomienda ampliamente que revisen la página de la [librería **`re`** - *Regular expression operations*](https://docs.python.org/3/library/re.html) para identificar todos los operadores, documentación y ejemplos de como utilizar _regex_.\n",
    "\n",
    "📌 Si les interesa practicar el uso de _regex_, les recomiendo la página de [regexr.com](https://regexr.com)"
   ]
  },
  {
   "cell_type": "code",
   "execution_count": 127,
   "id": "713d8697",
   "metadata": {},
   "outputs": [],
   "source": [
    "# load regex library\n",
    "import re"
   ]
  },
  {
   "cell_type": "code",
   "execution_count": 133,
   "id": "7d72ddd0",
   "metadata": {},
   "outputs": [],
   "source": [
    "# Extracto de canción \"El amor\" de Arjona, link: https://www.letras.com/arjona-ricardo/1963651/\n",
    "texto = \"\"\"El amor tiene firma de autor\n",
    "En las causas pérdidas\n",
    "El amor siempre empieza soñando\n",
    "Y termina en insomnio\n",
    "Es un acto profundo de fe\n",
    "Que huele a mentira\n",
    "El amor baila al son que le toquen\n",
    "Sea Dios o el demonio\n",
    "Sea Dios o el demonio\n",
    "\n",
    "El amor es la guerra pérdida\n",
    "Entre el sexo y la risa\n",
    "Es la llave con que abres\n",
    "El grifo del agua en los ojos\n",
    "Es el tiempo más lento del mundo\n",
    "Cuando va de prisa\n",
    "El amor se abre paso despacio\n",
    "No importa el cerrojo\n",
    "\n",
    "El AmOr es la arrogancia\n",
    "De aferrarse a lo imposible\n",
    "Es buscar en otra parte\n",
    "Lo que no encuentras en ti\"\"\""
   ]
  },
  {
   "cell_type": "markdown",
   "id": "48dc6c9e",
   "metadata": {},
   "source": [
    "### Encontrar un texto usando _regex_"
   ]
  },
  {
   "cell_type": "code",
   "execution_count": 134,
   "id": "b70a9afe",
   "metadata": {},
   "outputs": [
    {
     "data": {
      "text/plain": [
       "['El amor tiene firma de autor',\n",
       " 'El amor siempre empieza soñando',\n",
       " 'El amor baila al son que le toquen',\n",
       " 'El amor es la guerra pérdida',\n",
       " 'El amor se abre paso despacio',\n",
       " 'El AmOr es la arrogancia']"
      ]
     },
     "execution_count": 134,
     "metadata": {},
     "output_type": "execute_result"
    }
   ],
   "source": [
    "# Encontrar todos los enunciados que tengan la palabra 'amor'\n",
    "re.findall(r'.*[Aa][Mm][Oo][Rr].*', texto)"
   ]
  },
  {
   "cell_type": "markdown",
   "id": "1cc46c2d",
   "metadata": {},
   "source": [
    "#### Sustituir una palabra, frase o cadena de caracterés por otro texto"
   ]
  },
  {
   "cell_type": "code",
   "execution_count": 135,
   "id": "4b73b6a9",
   "metadata": {},
   "outputs": [
    {
     "data": {
      "text/plain": [
       "'El Guacamole tiene firma de autor. En las causas pérdidas. El Guacamole siempre empieza soñando. Y termina en insomnio. Es un acto profundo de fe. Que huele a mentira. El Guacamole baila al son que le toquen. Sea Dios o el demonio. Sea Dios o el demonio. El Guacamole es la guerra pérdida. Entre el sexo y la risa. Es la llave con que abres. El grifo del agua en los ojos. Es el tiempo más lento del mundo. Cuando va de prisa. El Guacamole se abre paso despacio. No importa el cerrojo. El Guacamole es la arrogancia. De aferrarse a lo imposible. Es buscar en otra parte. Lo que no encuentras en ti'"
      ]
     },
     "execution_count": 135,
     "metadata": {},
     "output_type": "execute_result"
    }
   ],
   "source": [
    "# Substituir la palabra 'amor' por 'cepillo de dientes'\n",
    "texto_sub = re.sub('[Aa][Mm][Oo][Rr]', 'Guacamole', texto)  # cambia la palabra\n",
    "texto_sub = re.sub('\\n+', '. ', texto_sub)  # cambia el salto de dos renglones por un punto \n",
    "texto_sub"
   ]
  },
  {
   "cell_type": "markdown",
   "id": "11e3e986",
   "metadata": {},
   "source": [
    "### Dividir el texto en una lista de strings"
   ]
  },
  {
   "cell_type": "code",
   "execution_count": 136,
   "id": "3ac5f243-29fc-4bec-9d85-2fed5ada3202",
   "metadata": {},
   "outputs": [
    {
     "data": {
      "text/plain": [
       "'El amor tiene firma de autor\\nEn las causas pérdidas\\nEl amor siempre empieza soñando\\nY termina en insomnio\\nEs un acto profundo de fe\\nQue huele a mentira\\nEl amor baila al son que le toquen\\nSea Dios o el demonio\\nSea Dios o el demonio\\n\\nEl amor es la guerra pérdida\\nEntre el sexo y la risa\\nEs la llave con que abres\\nEl grifo del agua en los ojos\\nEs el tiempo más lento del mundo\\nCuando va de prisa\\nEl amor se abre paso despacio\\nNo importa el cerrojo\\n\\nEl AmOr es la arrogancia\\nDe aferrarse a lo imposible\\nEs buscar en otra parte\\nLo que no encuentras en ti'"
      ]
     },
     "execution_count": 136,
     "metadata": {},
     "output_type": "execute_result"
    }
   ],
   "source": [
    "texto # original"
   ]
  },
  {
   "cell_type": "code",
   "execution_count": 76,
   "id": "74607e20",
   "metadata": {},
   "outputs": [
    {
     "data": {
      "text/plain": [
       "['El amor tiene firma de autor',\n",
       " 'En las causas pérdidas',\n",
       " 'El amor siempre empieza soñando',\n",
       " 'Y termina en insomnio',\n",
       " 'Es un acto profundo de fe',\n",
       " 'Que huele a mentira',\n",
       " 'El amor baila al son que le toquen',\n",
       " 'Sea Dios o el demonio',\n",
       " 'Sea Dios o el demonio',\n",
       " 'El amor es la guerra pérdida',\n",
       " 'Entre el sexo y la risa',\n",
       " 'Es la llave con que abres',\n",
       " 'El grifo del agua en los ojos',\n",
       " 'Es el tiempo más lento del mundo',\n",
       " 'Cuando va de prisa',\n",
       " 'El amor se abre paso despacio',\n",
       " 'No importa el cerrojo',\n",
       " 'El amor es la arrogancia',\n",
       " 'De aferrarse a lo imposible',\n",
       " 'Es buscar en otra parte',\n",
       " 'Lo que no encuentras en ti']"
      ]
     },
     "execution_count": 76,
     "metadata": {},
     "output_type": "execute_result"
    }
   ],
   "source": [
    "re.split(\"\\n+\", texto)"
   ]
  },
  {
   "cell_type": "markdown",
   "id": "d9b5ba28",
   "metadata": {},
   "source": [
    "## 4. spaCy"
   ]
  },
  {
   "cell_type": "code",
   "execution_count": 137,
   "id": "d8e7ba13",
   "metadata": {},
   "outputs": [],
   "source": [
    "# # Install spaCy webpage: https://spacy.io/usage\n",
    "# ! conda install -c conda-forge spacy  # <-install spaCy\n",
    "# ! python -m spacy download en_core_web_sm   # <-spaCy English pipeline optimized for CPU.\n",
    "# ! python -m spacy download es_core_news_sm  # <-spaCy Spanish pipeline optimized for CPU."
   ]
  },
  {
   "cell_type": "code",
   "execution_count": 138,
   "id": "9fa37727",
   "metadata": {},
   "outputs": [],
   "source": [
    "# load library\n",
    "import spacy"
   ]
  },
  {
   "cell_type": "markdown",
   "id": "31063b40",
   "metadata": {},
   "source": [
    "### Obtener características de cada *token*"
   ]
  },
  {
   "cell_type": "code",
   "execution_count": 139,
   "id": "d28304a8",
   "metadata": {},
   "outputs": [
    {
     "name": "stderr",
     "output_type": "stream",
     "text": [
      "/Users/vcuspinera/opt/miniconda3/lib/python3.10/site-packages/spacy/util.py:910: UserWarning: [W095] Model 'es_core_news_sm' (3.3.0) was trained with spaCy v3.3.0 and may not be 100% compatible with the current version (3.7.2). If you see errors or degraded performance, download a newer compatible model or retrain your custom model with the current spaCy version. For more details and available updates, run: python -m spacy validate\n",
      "  warnings.warn(warn_msg)\n"
     ]
    },
    {
     "name": "stdout",
     "output_type": "stream",
     "text": [
      "Enunciado:\n",
      " Me llegó un email al correo leo234@gmail.com que dice: \"OMG! El señor Carlos rompió el controldel televisor hoy y tuve que comprar otro en www.amazon.com.mx\". \n",
      "\n"
     ]
    },
    {
     "data": {
      "text/html": [
       "<div>\n",
       "<style scoped>\n",
       "    .dataframe tbody tr th:only-of-type {\n",
       "        vertical-align: middle;\n",
       "    }\n",
       "\n",
       "    .dataframe tbody tr th {\n",
       "        vertical-align: top;\n",
       "    }\n",
       "\n",
       "    .dataframe thead th {\n",
       "        text-align: right;\n",
       "    }\n",
       "</style>\n",
       "<table border=\"1\" class=\"dataframe\">\n",
       "  <thead>\n",
       "    <tr style=\"text-align: right;\">\n",
       "      <th></th>\n",
       "      <th>text</th>\n",
       "      <th>lemma</th>\n",
       "      <th>pos</th>\n",
       "      <th>dep</th>\n",
       "      <th>is_email</th>\n",
       "      <th>is_url</th>\n",
       "      <th>next_text</th>\n",
       "    </tr>\n",
       "  </thead>\n",
       "  <tbody>\n",
       "    <tr>\n",
       "      <th>0</th>\n",
       "      <td>Me</td>\n",
       "      <td>yo</td>\n",
       "      <td>PRON</td>\n",
       "      <td>iobj</td>\n",
       "      <td>False</td>\n",
       "      <td>False</td>\n",
       "      <td>llegó</td>\n",
       "    </tr>\n",
       "    <tr>\n",
       "      <th>1</th>\n",
       "      <td>llegó</td>\n",
       "      <td>llegar</td>\n",
       "      <td>VERB</td>\n",
       "      <td>ROOT</td>\n",
       "      <td>False</td>\n",
       "      <td>False</td>\n",
       "      <td>llegó</td>\n",
       "    </tr>\n",
       "    <tr>\n",
       "      <th>2</th>\n",
       "      <td>un</td>\n",
       "      <td>uno</td>\n",
       "      <td>DET</td>\n",
       "      <td>det</td>\n",
       "      <td>False</td>\n",
       "      <td>False</td>\n",
       "      <td>email</td>\n",
       "    </tr>\n",
       "    <tr>\n",
       "      <th>3</th>\n",
       "      <td>email</td>\n",
       "      <td>email</td>\n",
       "      <td>NOUN</td>\n",
       "      <td>nsubj</td>\n",
       "      <td>False</td>\n",
       "      <td>False</td>\n",
       "      <td>llegó</td>\n",
       "    </tr>\n",
       "    <tr>\n",
       "      <th>4</th>\n",
       "      <td>al</td>\n",
       "      <td>al</td>\n",
       "      <td>ADP</td>\n",
       "      <td>case</td>\n",
       "      <td>False</td>\n",
       "      <td>False</td>\n",
       "      <td>correo</td>\n",
       "    </tr>\n",
       "    <tr>\n",
       "      <th>5</th>\n",
       "      <td>correo</td>\n",
       "      <td>correo</td>\n",
       "      <td>NOUN</td>\n",
       "      <td>obl</td>\n",
       "      <td>False</td>\n",
       "      <td>False</td>\n",
       "      <td>llegó</td>\n",
       "    </tr>\n",
       "    <tr>\n",
       "      <th>6</th>\n",
       "      <td>leo234@gmail.com</td>\n",
       "      <td>leo234@gmail.com</td>\n",
       "      <td>NUM</td>\n",
       "      <td>appos</td>\n",
       "      <td>True</td>\n",
       "      <td>False</td>\n",
       "      <td>correo</td>\n",
       "    </tr>\n",
       "    <tr>\n",
       "      <th>7</th>\n",
       "      <td>que</td>\n",
       "      <td>que</td>\n",
       "      <td>PRON</td>\n",
       "      <td>nsubj</td>\n",
       "      <td>False</td>\n",
       "      <td>False</td>\n",
       "      <td>dice</td>\n",
       "    </tr>\n",
       "    <tr>\n",
       "      <th>8</th>\n",
       "      <td>dice</td>\n",
       "      <td>decir</td>\n",
       "      <td>VERB</td>\n",
       "      <td>acl</td>\n",
       "      <td>False</td>\n",
       "      <td>False</td>\n",
       "      <td>correo</td>\n",
       "    </tr>\n",
       "    <tr>\n",
       "      <th>9</th>\n",
       "      <td>:</td>\n",
       "      <td>:</td>\n",
       "      <td>PUNCT</td>\n",
       "      <td>punct</td>\n",
       "      <td>False</td>\n",
       "      <td>False</td>\n",
       "      <td>OMG</td>\n",
       "    </tr>\n",
       "    <tr>\n",
       "      <th>10</th>\n",
       "      <td>\"</td>\n",
       "      <td>\"</td>\n",
       "      <td>PUNCT</td>\n",
       "      <td>punct</td>\n",
       "      <td>False</td>\n",
       "      <td>False</td>\n",
       "      <td>OMG</td>\n",
       "    </tr>\n",
       "    <tr>\n",
       "      <th>11</th>\n",
       "      <td>OMG</td>\n",
       "      <td>OMG</td>\n",
       "      <td>PROPN</td>\n",
       "      <td>obj</td>\n",
       "      <td>False</td>\n",
       "      <td>False</td>\n",
       "      <td>dice</td>\n",
       "    </tr>\n",
       "    <tr>\n",
       "      <th>12</th>\n",
       "      <td>!</td>\n",
       "      <td>!</td>\n",
       "      <td>PUNCT</td>\n",
       "      <td>punct</td>\n",
       "      <td>False</td>\n",
       "      <td>False</td>\n",
       "      <td>OMG</td>\n",
       "    </tr>\n",
       "    <tr>\n",
       "      <th>13</th>\n",
       "      <td>El</td>\n",
       "      <td>el</td>\n",
       "      <td>DET</td>\n",
       "      <td>det</td>\n",
       "      <td>False</td>\n",
       "      <td>False</td>\n",
       "      <td>señor</td>\n",
       "    </tr>\n",
       "    <tr>\n",
       "      <th>14</th>\n",
       "      <td>señor</td>\n",
       "      <td>señor</td>\n",
       "      <td>NOUN</td>\n",
       "      <td>nsubj</td>\n",
       "      <td>False</td>\n",
       "      <td>False</td>\n",
       "      <td>rompió</td>\n",
       "    </tr>\n",
       "    <tr>\n",
       "      <th>15</th>\n",
       "      <td>Carlos</td>\n",
       "      <td>Carlos</td>\n",
       "      <td>PROPN</td>\n",
       "      <td>appos</td>\n",
       "      <td>False</td>\n",
       "      <td>False</td>\n",
       "      <td>señor</td>\n",
       "    </tr>\n",
       "    <tr>\n",
       "      <th>16</th>\n",
       "      <td>rompió</td>\n",
       "      <td>romper</td>\n",
       "      <td>VERB</td>\n",
       "      <td>acl</td>\n",
       "      <td>False</td>\n",
       "      <td>False</td>\n",
       "      <td>OMG</td>\n",
       "    </tr>\n",
       "    <tr>\n",
       "      <th>17</th>\n",
       "      <td>el</td>\n",
       "      <td>el</td>\n",
       "      <td>DET</td>\n",
       "      <td>det</td>\n",
       "      <td>False</td>\n",
       "      <td>False</td>\n",
       "      <td>televisor</td>\n",
       "    </tr>\n",
       "    <tr>\n",
       "      <th>18</th>\n",
       "      <td>controldel</td>\n",
       "      <td>controldel</td>\n",
       "      <td>ADV</td>\n",
       "      <td>case</td>\n",
       "      <td>False</td>\n",
       "      <td>False</td>\n",
       "      <td>el</td>\n",
       "    </tr>\n",
       "    <tr>\n",
       "      <th>19</th>\n",
       "      <td>televisor</td>\n",
       "      <td>televisor</td>\n",
       "      <td>NOUN</td>\n",
       "      <td>obj</td>\n",
       "      <td>False</td>\n",
       "      <td>False</td>\n",
       "      <td>rompió</td>\n",
       "    </tr>\n",
       "    <tr>\n",
       "      <th>20</th>\n",
       "      <td>hoy</td>\n",
       "      <td>hoy</td>\n",
       "      <td>ADV</td>\n",
       "      <td>advmod</td>\n",
       "      <td>False</td>\n",
       "      <td>False</td>\n",
       "      <td>rompió</td>\n",
       "    </tr>\n",
       "    <tr>\n",
       "      <th>21</th>\n",
       "      <td>y</td>\n",
       "      <td>y</td>\n",
       "      <td>CCONJ</td>\n",
       "      <td>cc</td>\n",
       "      <td>False</td>\n",
       "      <td>False</td>\n",
       "      <td>tuve</td>\n",
       "    </tr>\n",
       "    <tr>\n",
       "      <th>22</th>\n",
       "      <td>tuve</td>\n",
       "      <td>tener</td>\n",
       "      <td>VERB</td>\n",
       "      <td>conj</td>\n",
       "      <td>False</td>\n",
       "      <td>False</td>\n",
       "      <td>rompió</td>\n",
       "    </tr>\n",
       "    <tr>\n",
       "      <th>23</th>\n",
       "      <td>que</td>\n",
       "      <td>que</td>\n",
       "      <td>SCONJ</td>\n",
       "      <td>cc</td>\n",
       "      <td>False</td>\n",
       "      <td>False</td>\n",
       "      <td>comprar</td>\n",
       "    </tr>\n",
       "    <tr>\n",
       "      <th>24</th>\n",
       "      <td>comprar</td>\n",
       "      <td>comprar</td>\n",
       "      <td>VERB</td>\n",
       "      <td>conj</td>\n",
       "      <td>False</td>\n",
       "      <td>False</td>\n",
       "      <td>tuve</td>\n",
       "    </tr>\n",
       "    <tr>\n",
       "      <th>25</th>\n",
       "      <td>otro</td>\n",
       "      <td>otro</td>\n",
       "      <td>PRON</td>\n",
       "      <td>obj</td>\n",
       "      <td>False</td>\n",
       "      <td>False</td>\n",
       "      <td>comprar</td>\n",
       "    </tr>\n",
       "    <tr>\n",
       "      <th>26</th>\n",
       "      <td>en</td>\n",
       "      <td>en</td>\n",
       "      <td>ADP</td>\n",
       "      <td>case</td>\n",
       "      <td>False</td>\n",
       "      <td>False</td>\n",
       "      <td>www.amazon.com.mx</td>\n",
       "    </tr>\n",
       "    <tr>\n",
       "      <th>27</th>\n",
       "      <td>www.amazon.com.mx</td>\n",
       "      <td>www.amazon.com.mx</td>\n",
       "      <td>PROPN</td>\n",
       "      <td>obl</td>\n",
       "      <td>False</td>\n",
       "      <td>True</td>\n",
       "      <td>comprar</td>\n",
       "    </tr>\n",
       "    <tr>\n",
       "      <th>28</th>\n",
       "      <td>\"</td>\n",
       "      <td>\"</td>\n",
       "      <td>PUNCT</td>\n",
       "      <td>punct</td>\n",
       "      <td>False</td>\n",
       "      <td>False</td>\n",
       "      <td>OMG</td>\n",
       "    </tr>\n",
       "    <tr>\n",
       "      <th>29</th>\n",
       "      <td>.</td>\n",
       "      <td>.</td>\n",
       "      <td>PUNCT</td>\n",
       "      <td>punct</td>\n",
       "      <td>False</td>\n",
       "      <td>False</td>\n",
       "      <td>llegó</td>\n",
       "    </tr>\n",
       "  </tbody>\n",
       "</table>\n",
       "</div>"
      ],
      "text/plain": [
       "                 text              lemma    pos     dep  is_email  is_url  \\\n",
       "0                  Me                 yo   PRON    iobj     False   False   \n",
       "1               llegó             llegar   VERB    ROOT     False   False   \n",
       "2                  un                uno    DET     det     False   False   \n",
       "3               email              email   NOUN   nsubj     False   False   \n",
       "4                  al                 al    ADP    case     False   False   \n",
       "5              correo             correo   NOUN     obl     False   False   \n",
       "6    leo234@gmail.com   leo234@gmail.com    NUM   appos      True   False   \n",
       "7                 que                que   PRON   nsubj     False   False   \n",
       "8                dice              decir   VERB     acl     False   False   \n",
       "9                   :                  :  PUNCT   punct     False   False   \n",
       "10                  \"                  \"  PUNCT   punct     False   False   \n",
       "11                OMG                OMG  PROPN     obj     False   False   \n",
       "12                  !                  !  PUNCT   punct     False   False   \n",
       "13                 El                 el    DET     det     False   False   \n",
       "14              señor              señor   NOUN   nsubj     False   False   \n",
       "15             Carlos             Carlos  PROPN   appos     False   False   \n",
       "16             rompió             romper   VERB     acl     False   False   \n",
       "17                 el                 el    DET     det     False   False   \n",
       "18         controldel         controldel    ADV    case     False   False   \n",
       "19          televisor          televisor   NOUN     obj     False   False   \n",
       "20                hoy                hoy    ADV  advmod     False   False   \n",
       "21                  y                  y  CCONJ      cc     False   False   \n",
       "22               tuve              tener   VERB    conj     False   False   \n",
       "23                que                que  SCONJ      cc     False   False   \n",
       "24            comprar            comprar   VERB    conj     False   False   \n",
       "25               otro               otro   PRON     obj     False   False   \n",
       "26                 en                 en    ADP    case     False   False   \n",
       "27  www.amazon.com.mx  www.amazon.com.mx  PROPN     obl     False    True   \n",
       "28                  \"                  \"  PUNCT   punct     False   False   \n",
       "29                  .                  .  PUNCT   punct     False   False   \n",
       "\n",
       "            next_text  \n",
       "0               llegó  \n",
       "1               llegó  \n",
       "2               email  \n",
       "3               llegó  \n",
       "4              correo  \n",
       "5               llegó  \n",
       "6              correo  \n",
       "7                dice  \n",
       "8              correo  \n",
       "9                 OMG  \n",
       "10                OMG  \n",
       "11               dice  \n",
       "12                OMG  \n",
       "13              señor  \n",
       "14             rompió  \n",
       "15              señor  \n",
       "16                OMG  \n",
       "17          televisor  \n",
       "18                 el  \n",
       "19             rompió  \n",
       "20             rompió  \n",
       "21               tuve  \n",
       "22             rompió  \n",
       "23            comprar  \n",
       "24               tuve  \n",
       "25            comprar  \n",
       "26  www.amazon.com.mx  \n",
       "27            comprar  \n",
       "28                OMG  \n",
       "29              llegó  "
      ]
     },
     "execution_count": 139,
     "metadata": {},
     "output_type": "execute_result"
    }
   ],
   "source": [
    "# load spaCy Spanish pipeline optimized\n",
    "nlp = spacy.load(\"es_core_news_sm\")\n",
    "\n",
    "# ejemplo\n",
    "enunciado = 'Me llegó un email al correo leo234@gmail.com que dice: \"OMG! El señor Carlos rompió el control\\\n",
    "del televisor hoy y tuve que comprar otro en www.amazon.com.mx\".'\n",
    "\n",
    "# volver el enunciado un objeto tipo NLP\n",
    "doc = nlp(enunciado) #(sentences[0])\n",
    "print(\"Enunciado:\\n\",doc.text,\"\\n\")\n",
    "\n",
    "# Para cada token (palabra/cadena) se obtienen distintas características:\n",
    "# - texto\n",
    "# - tag con tipo de texto: noun, verb, determinant, adverb, conjunction\n",
    "# - dep: dependenxy\n",
    "# - like_email: identifica si el token es un email\n",
    "# - like_url: identifica si el token es una página web\n",
    "list_tokens = []\n",
    "for token in doc:\n",
    "    list_tokens.append([token.text,token.lemma_,token.pos_,token.dep_,token.like_email,\n",
    "                        token.like_url, token.head.text])\n",
    "\n",
    "# Revisar algunas de las características de cada token\n",
    "pd.DataFrame(list_tokens, columns=['text','lemma','pos','dep','is_email','is_url','next_text'])"
   ]
  },
  {
   "cell_type": "markdown",
   "id": "e11c3e78",
   "metadata": {},
   "source": [
    "### Preproceso con spaCy\n",
    "Ejemplo de función para preproceso usando spaCy, Regex y métodos de strings, comparando resultados con el del preproceso que se vio al inicio de este Jupyter notebook."
   ]
  },
  {
   "cell_type": "code",
   "execution_count": 148,
   "id": "b921e0d6",
   "metadata": {},
   "outputs": [],
   "source": [
    "def preprocess(text,\n",
    "               min_token_len = 2,\n",
    "               irrelevant_pos = ['PRON', 'SPACE', 'PUNCT', 'ADV', 'ADP', 'CCONJ', 'AUX', 'PRP', 'DET'],\n",
    "               avoid_entities = ['PERSON', 'ORG', 'LOC', 'GPE', 'DET']):\n",
    "    # note: Didn't use the following options in the `preprocess_comments`\n",
    "    #    - 'PROPN', erase proper names, but also words as orange.\n",
    "    #    - 'DET', removes the word 'no', which changes the meaning.\n",
    "    \"\"\"\n",
    "    Function that identify sensible information, anonymize and transforms\n",
    "    the data in a useful format for using with tokens.\n",
    "    Parameters\n",
    "    -------------\n",
    "    text : (list)\n",
    "        the list of text to be preprocessed\n",
    "    irrelevant_pos : (list)\n",
    "        a list of irrelevant 'pos' tags\n",
    "    avoid_entities : (list)\n",
    "        a list of entity labels to be avoided\n",
    "\n",
    "    Returns\n",
    "    -------------\n",
    "    (list) list of preprocessed text\n",
    "\n",
    "    Example\n",
    "    -------------\n",
    "    example = [\"Hello, I'm George and I love swimming!\",\n",
    "                \"I am a really good cook; what about you?\",\n",
    "                \"Contact me at george23@gmail.com\"]\n",
    "    preprocess(example)\n",
    "    (output:) ['hello love swimming', 'good cook', 'contact']\n",
    "    \"\"\"\n",
    "    result = []\n",
    "    others = [\"'s\", \"the\", \"that\", \"this\", \"to\", \"-PRON-\"]\n",
    "    # comment: \"-PRON-\" is a lemma for \"my\", \"your\", etc.\n",
    "\n",
    "    # function\n",
    "    for sent in text:\n",
    "        # <string methods>\n",
    "        sent = str(sent).lower()\n",
    "        \n",
    "        # <regex>\n",
    "        sent = re.sub(r\"(F|f)acebook\", \"redes sociales\", sent)\n",
    "        sent = re.sub(r\"(T|t)witter\", \"redes sociales\", sent)\n",
    "        sent = re.sub(r\"(I|i)nstagram\", \"redes sociales\", sent)\n",
    "        \n",
    "        result_sent = []\n",
    "        \n",
    "        # <spaCy>\n",
    "        doc = nlp(sent)\n",
    "        entities = [str(ent) for ent in doc.ents if ent.label_ in avoid_entities]\n",
    "                   # This helps to detect names of persons, organization and dates\n",
    "        for token in doc:            \n",
    "            if (token.like_email or\n",
    "                token.like_url or\n",
    "                token.pos_ in irrelevant_pos or\n",
    "                str(token) in entities or\n",
    "                str(token.lemma_) in others or\n",
    "                len(token) < min_token_len):\n",
    "                continue\n",
    "            else:\n",
    "                result_sent.append(token.lemma_)\n",
    "        result.append(result_sent)\n",
    "    return result"
   ]
  },
  {
   "cell_type": "code",
   "execution_count": 149,
   "id": "826b222d-b403-444d-a8b1-a1e9375b1b5d",
   "metadata": {},
   "outputs": [
    {
     "data": {
      "text/html": [
       "<div>\n",
       "<style scoped>\n",
       "    .dataframe tbody tr th:only-of-type {\n",
       "        vertical-align: middle;\n",
       "    }\n",
       "\n",
       "    .dataframe tbody tr th {\n",
       "        vertical-align: top;\n",
       "    }\n",
       "\n",
       "    .dataframe thead th {\n",
       "        text-align: right;\n",
       "    }\n",
       "</style>\n",
       "<table border=\"1\" class=\"dataframe\">\n",
       "  <thead>\n",
       "    <tr style=\"text-align: right;\">\n",
       "      <th></th>\n",
       "      <th>reseña</th>\n",
       "      <th>reseña_limpia</th>\n",
       "    </tr>\n",
       "  </thead>\n",
       "  <tbody>\n",
       "    <tr>\n",
       "      <th>0</th>\n",
       "      <td>Uno de los otros críticos ha mencionado que de...</td>\n",
       "      <td>[críticos, mencionado, después, ver, solo, 1, ...</td>\n",
       "    </tr>\n",
       "    <tr>\n",
       "      <th>1</th>\n",
       "      <td>Una pequeña pequeña producción.La técnica de f...</td>\n",
       "      <td>[pequeña, pequeña, producciónla, técnica, film...</td>\n",
       "    </tr>\n",
       "    <tr>\n",
       "      <th>2</th>\n",
       "      <td>Pensé que esta era una manera maravillosa de p...</td>\n",
       "      <td>[pensé, manera, maravillosa, pasar, tiempo, fi...</td>\n",
       "    </tr>\n",
       "    <tr>\n",
       "      <th>3</th>\n",
       "      <td>Básicamente, hay una familia donde un niño peq...</td>\n",
       "      <td>[básicamente, familia, niño, pequeño, jake, pi...</td>\n",
       "    </tr>\n",
       "    <tr>\n",
       "      <th>4</th>\n",
       "      <td>El \"amor en el tiempo\" de Petter Mattei es una...</td>\n",
       "      <td>[amor, tiempo, petter, mattei, película, visua...</td>\n",
       "    </tr>\n",
       "    <tr>\n",
       "      <th>...</th>\n",
       "      <td>...</td>\n",
       "      <td>...</td>\n",
       "    </tr>\n",
       "    <tr>\n",
       "      <th>195</th>\n",
       "      <td>Fantasma .... Clase.Phantasmo II ..... increíb...</td>\n",
       "      <td>[fantasma, clasephantasmo, ii, increíblephanta...</td>\n",
       "    </tr>\n",
       "    <tr>\n",
       "      <th>196</th>\n",
       "      <td>Ridículo. Annakin angelical de 9 años se convi...</td>\n",
       "      <td>[ridículo, annakin, angelical, 9, años, convie...</td>\n",
       "    </tr>\n",
       "    <tr>\n",
       "      <th>197</th>\n",
       "      <td>Scotty (Grant Cramer, quien continuaría en la ...</td>\n",
       "      <td>[scotty, grant, cramer, continuaría, gran, mov...</td>\n",
       "    </tr>\n",
       "    <tr>\n",
       "      <th>198</th>\n",
       "      <td>Si mantienes una perspectiva histórica rígida ...</td>\n",
       "      <td>[si, mantienes, perspectiva, histórica, rígida...</td>\n",
       "    </tr>\n",
       "    <tr>\n",
       "      <th>199</th>\n",
       "      <td>La película llega rápidamente a una escena pri...</td>\n",
       "      <td>[película, llega, rápidamente, escena, princip...</td>\n",
       "    </tr>\n",
       "  </tbody>\n",
       "</table>\n",
       "<p>200 rows × 2 columns</p>\n",
       "</div>"
      ],
      "text/plain": [
       "                                                reseña  \\\n",
       "0    Uno de los otros críticos ha mencionado que de...   \n",
       "1    Una pequeña pequeña producción.La técnica de f...   \n",
       "2    Pensé que esta era una manera maravillosa de p...   \n",
       "3    Básicamente, hay una familia donde un niño peq...   \n",
       "4    El \"amor en el tiempo\" de Petter Mattei es una...   \n",
       "..                                                 ...   \n",
       "195  Fantasma .... Clase.Phantasmo II ..... increíb...   \n",
       "196  Ridículo. Annakin angelical de 9 años se convi...   \n",
       "197  Scotty (Grant Cramer, quien continuaría en la ...   \n",
       "198  Si mantienes una perspectiva histórica rígida ...   \n",
       "199  La película llega rápidamente a una escena pri...   \n",
       "\n",
       "                                         reseña_limpia  \n",
       "0    [críticos, mencionado, después, ver, solo, 1, ...  \n",
       "1    [pequeña, pequeña, producciónla, técnica, film...  \n",
       "2    [pensé, manera, maravillosa, pasar, tiempo, fi...  \n",
       "3    [básicamente, familia, niño, pequeño, jake, pi...  \n",
       "4    [amor, tiempo, petter, mattei, película, visua...  \n",
       "..                                                 ...  \n",
       "195  [fantasma, clasephantasmo, ii, increíblephanta...  \n",
       "196  [ridículo, annakin, angelical, 9, años, convie...  \n",
       "197  [scotty, grant, cramer, continuaría, gran, mov...  \n",
       "198  [si, mantienes, perspectiva, histórica, rígida...  \n",
       "199  [película, llega, rápidamente, escena, princip...  \n",
       "\n",
       "[200 rows x 2 columns]"
      ]
     },
     "execution_count": 149,
     "metadata": {},
     "output_type": "execute_result"
    }
   ],
   "source": [
    "# Seleccionamos una parte del dataframe para correr el preproceso e n esta BD corta\n",
    "df_corta = df[:200]\n",
    "df_corta"
   ]
  },
  {
   "cell_type": "code",
   "execution_count": 150,
   "id": "4c84ddc3",
   "metadata": {},
   "outputs": [
    {
     "name": "stdout",
     "output_type": "stream",
     "text": [
      "CPU times: user 9.37 s, sys: 1.31 s, total: 10.7 s\n",
      "Wall time: 11 s\n"
     ]
    },
    {
     "name": "stderr",
     "output_type": "stream",
     "text": [
      "<timed exec>:2: SettingWithCopyWarning: \n",
      "A value is trying to be set on a copy of a slice from a DataFrame.\n",
      "Try using .loc[row_indexer,col_indexer] = value instead\n",
      "\n",
      "See the caveats in the documentation: https://pandas.pydata.org/pandas-docs/stable/user_guide/indexing.html#returning-a-view-versus-a-copy\n"
     ]
    }
   ],
   "source": [
    "%%time\n",
    "\n",
    "# Preprocess tweets\n",
    "df_corta['reseña_spacy_preproceso'] = preprocess(df_corta['reseña'])"
   ]
  },
  {
   "cell_type": "code",
   "execution_count": 151,
   "id": "a1849fea",
   "metadata": {},
   "outputs": [
    {
     "data": {
      "text/html": [
       "<div>\n",
       "<style scoped>\n",
       "    .dataframe tbody tr th:only-of-type {\n",
       "        vertical-align: middle;\n",
       "    }\n",
       "\n",
       "    .dataframe tbody tr th {\n",
       "        vertical-align: top;\n",
       "    }\n",
       "\n",
       "    .dataframe thead th {\n",
       "        text-align: right;\n",
       "    }\n",
       "</style>\n",
       "<table border=\"1\" class=\"dataframe\">\n",
       "  <thead>\n",
       "    <tr style=\"text-align: right;\">\n",
       "      <th></th>\n",
       "      <th>reseña</th>\n",
       "      <th>reseña_limpia</th>\n",
       "      <th>reseña_spacy_preproceso</th>\n",
       "    </tr>\n",
       "  </thead>\n",
       "  <tbody>\n",
       "    <tr>\n",
       "      <th>0</th>\n",
       "      <td>Uno de los otros críticos ha mencionado que de...</td>\n",
       "      <td>[críticos, mencionado, después, ver, solo, 1, ...</td>\n",
       "      <td>[crítico, mencionar, que, ver, episodio, engan...</td>\n",
       "    </tr>\n",
       "    <tr>\n",
       "      <th>1</th>\n",
       "      <td>Una pequeña pequeña producción.La técnica de f...</td>\n",
       "      <td>[pequeña, pequeña, producciónla, técnica, film...</td>\n",
       "      <td>[pequeño, pequeño, técnico, filmación, incuest...</td>\n",
       "    </tr>\n",
       "    <tr>\n",
       "      <th>2</th>\n",
       "      <td>Pensé que esta era una manera maravillosa de p...</td>\n",
       "      <td>[pensé, manera, maravillosa, pasar, tiempo, fi...</td>\n",
       "      <td>[pensar, que, manera, maravilloso, pasar, tiem...</td>\n",
       "    </tr>\n",
       "    <tr>\n",
       "      <th>3</th>\n",
       "      <td>Básicamente, hay una familia donde un niño peq...</td>\n",
       "      <td>[básicamente, familia, niño, pequeño, jake, pi...</td>\n",
       "      <td>[familia, niño, pequeño, jake, pensar, que, zo...</td>\n",
       "    </tr>\n",
       "    <tr>\n",
       "      <th>4</th>\n",
       "      <td>El \"amor en el tiempo\" de Petter Mattei es una...</td>\n",
       "      <td>[amor, tiempo, petter, mattei, película, visua...</td>\n",
       "      <td>[amor, tiempo, petter, mattei, película, visua...</td>\n",
       "    </tr>\n",
       "    <tr>\n",
       "      <th>...</th>\n",
       "      <td>...</td>\n",
       "      <td>...</td>\n",
       "      <td>...</td>\n",
       "    </tr>\n",
       "    <tr>\n",
       "      <th>195</th>\n",
       "      <td>Fantasma .... Clase.Phantasmo II ..... increíb...</td>\n",
       "      <td>[fantasma, clasephantasmo, ii, increíblephanta...</td>\n",
       "      <td>[fantasma, iii, erm, terrible, aunque, encanta...</td>\n",
       "    </tr>\n",
       "    <tr>\n",
       "      <th>196</th>\n",
       "      <td>Ridículo. Annakin angelical de 9 años se convi...</td>\n",
       "      <td>[ridículo, annakin, angelical, 9, años, convie...</td>\n",
       "      <td>[ridículo, annakin, angelical, año, convertir,...</td>\n",
       "    </tr>\n",
       "    <tr>\n",
       "      <th>197</th>\n",
       "      <td>Scotty (Grant Cramer, quien continuaría en la ...</td>\n",
       "      <td>[scotty, grant, cramer, continuaría, gran, mov...</td>\n",
       "      <td>[scotty, grant, cramer, continuar, gran, movie...</td>\n",
       "    </tr>\n",
       "    <tr>\n",
       "      <th>198</th>\n",
       "      <td>Si mantienes una perspectiva histórica rígida ...</td>\n",
       "      <td>[si, mantienes, perspectiva, histórica, rígida...</td>\n",
       "      <td>[si, mantener, perspectiva, histórico, rígido,...</td>\n",
       "    </tr>\n",
       "    <tr>\n",
       "      <th>199</th>\n",
       "      <td>La película llega rápidamente a una escena pri...</td>\n",
       "      <td>[película, llega, rápidamente, escena, princip...</td>\n",
       "      <td>[película, llegar, escena, principal, chase, d...</td>\n",
       "    </tr>\n",
       "  </tbody>\n",
       "</table>\n",
       "<p>200 rows × 3 columns</p>\n",
       "</div>"
      ],
      "text/plain": [
       "                                                reseña  \\\n",
       "0    Uno de los otros críticos ha mencionado que de...   \n",
       "1    Una pequeña pequeña producción.La técnica de f...   \n",
       "2    Pensé que esta era una manera maravillosa de p...   \n",
       "3    Básicamente, hay una familia donde un niño peq...   \n",
       "4    El \"amor en el tiempo\" de Petter Mattei es una...   \n",
       "..                                                 ...   \n",
       "195  Fantasma .... Clase.Phantasmo II ..... increíb...   \n",
       "196  Ridículo. Annakin angelical de 9 años se convi...   \n",
       "197  Scotty (Grant Cramer, quien continuaría en la ...   \n",
       "198  Si mantienes una perspectiva histórica rígida ...   \n",
       "199  La película llega rápidamente a una escena pri...   \n",
       "\n",
       "                                         reseña_limpia  \\\n",
       "0    [críticos, mencionado, después, ver, solo, 1, ...   \n",
       "1    [pequeña, pequeña, producciónla, técnica, film...   \n",
       "2    [pensé, manera, maravillosa, pasar, tiempo, fi...   \n",
       "3    [básicamente, familia, niño, pequeño, jake, pi...   \n",
       "4    [amor, tiempo, petter, mattei, película, visua...   \n",
       "..                                                 ...   \n",
       "195  [fantasma, clasephantasmo, ii, increíblephanta...   \n",
       "196  [ridículo, annakin, angelical, 9, años, convie...   \n",
       "197  [scotty, grant, cramer, continuaría, gran, mov...   \n",
       "198  [si, mantienes, perspectiva, histórica, rígida...   \n",
       "199  [película, llega, rápidamente, escena, princip...   \n",
       "\n",
       "                               reseña_spacy_preproceso  \n",
       "0    [crítico, mencionar, que, ver, episodio, engan...  \n",
       "1    [pequeño, pequeño, técnico, filmación, incuest...  \n",
       "2    [pensar, que, manera, maravilloso, pasar, tiem...  \n",
       "3    [familia, niño, pequeño, jake, pensar, que, zo...  \n",
       "4    [amor, tiempo, petter, mattei, película, visua...  \n",
       "..                                                 ...  \n",
       "195  [fantasma, iii, erm, terrible, aunque, encanta...  \n",
       "196  [ridículo, annakin, angelical, año, convertir,...  \n",
       "197  [scotty, grant, cramer, continuar, gran, movie...  \n",
       "198  [si, mantener, perspectiva, histórico, rígido,...  \n",
       "199  [película, llegar, escena, principal, chase, d...  \n",
       "\n",
       "[200 rows x 3 columns]"
      ]
     },
     "execution_count": 151,
     "metadata": {},
     "output_type": "execute_result"
    }
   ],
   "source": [
    "df_corta"
   ]
  },
  {
   "cell_type": "markdown",
   "id": "6fef9f1e",
   "metadata": {},
   "source": [
    "## 5. Referencias\n",
    "- [Python String Methods](https://docs.python.org/3/library/stdtypes.html) in Python Documentation.\n",
    "- [Text Preprocessing in NLP with Python codes](https://www.analyticsvidhya.com/blog/2021/06/text-preprocessing-in-nlp-with-python-codes/) by Deepanshi, in Analytics Vidhya.\n",
    "- Librería de Python [*Natural Language Toolkit* - `NLTK`](https://www.nltk.org/index.html)\n",
    "- Librería de Python [*Regular expression operations* - `re`](https://docs.python.org/3/library/re.html)\n",
    "- Material público del curso [DSCI 575: Advanced Machine Learning](https://github.com/UBC-MDS/DSCI_575_adv-mach-learn) de UBC MDS.\n",
    "- Python script [preprocess.py](https://github.com/vcuspinera/UBC_MDS_Capstone_BCStats/blob/master/src/data/preprocess.py) del Capstone project de UBC MDS y BC Stats, por Sukriti Trehan, Karanpal Singh, Carlina Kim y Victor Cuspinera."
   ]
  }
 ],
 "metadata": {
  "kernelspec": {
   "display_name": "Python 3 (ipykernel)",
   "language": "python",
   "name": "python3"
  },
  "language_info": {
   "codemirror_mode": {
    "name": "ipython",
    "version": 3
   },
   "file_extension": ".py",
   "mimetype": "text/x-python",
   "name": "python",
   "nbconvert_exporter": "python",
   "pygments_lexer": "ipython3",
   "version": "3.10.8"
  }
 },
 "nbformat": 4,
 "nbformat_minor": 5
}
