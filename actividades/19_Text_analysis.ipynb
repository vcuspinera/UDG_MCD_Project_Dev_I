{
 "cells": [
  {
   "cell_type": "markdown",
   "metadata": {},
   "source": [
    "# 19 • Análisis de texto\n",
    "\n",
    "En este notebook se revisará distintas formas de realizar análisis de texto (básico) con Python.\n",
    "\n",
    "## Contenido\n",
    "1. N-grams\n",
    "2. Sentiment analysis\n",
    "3. Wordcloud\n",
    "4. Referencias  "
   ]
  },
  {
   "cell_type": "code",
   "execution_count": 1,
   "metadata": {},
   "outputs": [
    {
     "data": {
      "text/plain": [
       "RendererRegistry.enable('mimetype')"
      ]
     },
     "execution_count": 1,
     "metadata": {},
     "output_type": "execute_result"
    }
   ],
   "source": [
    "# load libraries\n",
    "## basic libraries\n",
    "import pandas as pd\n",
    "import numpy as np\n",
    "\n",
    "## librería spaCy\n",
    "import spacy\n",
    "nlp = spacy.load(\"es_core_news_sm\")\n",
    "\n",
    "# Para eliminar stopwords\n",
    "import nltk\n",
    "\n",
    "# Para n-grams\n",
    "import itertools\n",
    "from collections import Counter\n",
    "\n",
    "# Para visualización usaré Altair\n",
    "import altair as alt\n",
    "alt.renderers.enable('mimetype') #<-Este nos sirve para ver las gráficas en GitHub"
   ]
  },
  {
   "cell_type": "markdown",
   "metadata": {},
   "source": [
    "## 1. N-grams"
   ]
  },
  {
   "cell_type": "code",
   "execution_count": 2,
   "metadata": {},
   "outputs": [],
   "source": [
    "# funcion para generar los n-grams\n",
    "def n_gram(tokens,n):\n",
    "    return[tokens[i:i+n] for i in range(len(tokens)-n+1)]"
   ]
  },
  {
   "cell_type": "markdown",
   "metadata": {},
   "source": [
    "### Ejemplo con *bigrams* de caracteres"
   ]
  },
  {
   "cell_type": "code",
   "execution_count": 84,
   "metadata": {},
   "outputs": [],
   "source": [
    "texto_1 = 'Me llegó un email al correo leo234@gmail.com que dice: \"OMG! El señor Carlos rompió el control del televisor hoy y tuve que \\\n",
    "comprar otro en www.amazon.com.mx\".'"
   ]
  },
  {
   "cell_type": "code",
   "execution_count": 86,
   "metadata": {},
   "outputs": [
    {
     "data": {
      "text/html": [
       "<div>\n",
       "<style scoped>\n",
       "    .dataframe tbody tr th:only-of-type {\n",
       "        vertical-align: middle;\n",
       "    }\n",
       "\n",
       "    .dataframe tbody tr th {\n",
       "        vertical-align: top;\n",
       "    }\n",
       "\n",
       "    .dataframe thead th {\n",
       "        text-align: right;\n",
       "    }\n",
       "</style>\n",
       "<table border=\"1\" class=\"dataframe\">\n",
       "  <thead>\n",
       "    <tr style=\"text-align: right;\">\n",
       "      <th></th>\n",
       "      <th>chr_1</th>\n",
       "      <th>chr_2</th>\n",
       "      <th>frecuencia</th>\n",
       "      <th>bigram</th>\n",
       "    </tr>\n",
       "  </thead>\n",
       "  <tbody>\n",
       "    <tr>\n",
       "      <th>0</th>\n",
       "      <td>M</td>\n",
       "      <td>e</td>\n",
       "      <td>1</td>\n",
       "      <td>Me</td>\n",
       "    </tr>\n",
       "    <tr>\n",
       "      <th>1</th>\n",
       "      <td>e</td>\n",
       "      <td></td>\n",
       "      <td>4</td>\n",
       "      <td>e</td>\n",
       "    </tr>\n",
       "    <tr>\n",
       "      <th>2</th>\n",
       "      <td></td>\n",
       "      <td>l</td>\n",
       "      <td>2</td>\n",
       "      <td>l</td>\n",
       "    </tr>\n",
       "    <tr>\n",
       "      <th>3</th>\n",
       "      <td>l</td>\n",
       "      <td>l</td>\n",
       "      <td>1</td>\n",
       "      <td>ll</td>\n",
       "    </tr>\n",
       "    <tr>\n",
       "      <th>4</th>\n",
       "      <td>l</td>\n",
       "      <td>e</td>\n",
       "      <td>3</td>\n",
       "      <td>le</td>\n",
       "    </tr>\n",
       "    <tr>\n",
       "      <th>5</th>\n",
       "      <td>e</td>\n",
       "      <td>g</td>\n",
       "      <td>1</td>\n",
       "      <td>eg</td>\n",
       "    </tr>\n",
       "    <tr>\n",
       "      <th>6</th>\n",
       "      <td>g</td>\n",
       "      <td>ó</td>\n",
       "      <td>1</td>\n",
       "      <td>gó</td>\n",
       "    </tr>\n",
       "    <tr>\n",
       "      <th>7</th>\n",
       "      <td>ó</td>\n",
       "      <td></td>\n",
       "      <td>2</td>\n",
       "      <td>ó</td>\n",
       "    </tr>\n",
       "    <tr>\n",
       "      <th>8</th>\n",
       "      <td></td>\n",
       "      <td>u</td>\n",
       "      <td>1</td>\n",
       "      <td>u</td>\n",
       "    </tr>\n",
       "    <tr>\n",
       "      <th>9</th>\n",
       "      <td>u</td>\n",
       "      <td>n</td>\n",
       "      <td>1</td>\n",
       "      <td>un</td>\n",
       "    </tr>\n",
       "  </tbody>\n",
       "</table>\n",
       "</div>"
      ],
      "text/plain": [
       "  chr_1 chr_2  frecuencia bigram\n",
       "0     M     e           1     Me\n",
       "1     e                 4     e \n",
       "2           l           2      l\n",
       "3     l     l           1     ll\n",
       "4     l     e           3     le\n",
       "5     e     g           1     eg\n",
       "6     g     ó           1     gó\n",
       "7     ó                 2     ó \n",
       "8           u           1      u\n",
       "9     u     n           1     un"
      ]
     },
     "execution_count": 86,
     "metadata": {},
     "output_type": "execute_result"
    }
   ],
   "source": [
    "# obtener el n-grams de tamaño 2\n",
    "ejem_1 = Counter(zip(texto_1, itertools.islice(texto_1, 1, None)))\n",
    "\n",
    "# hacer un dataframe para poder graficarlo\n",
    "my_cols = [str(i) for i in ejem_1.keys()]\n",
    "source = pd.DataFrame(ejem_1.values(), index=ejem_1.keys()).reset_index().rename(columns={\"level_0\":\"chr_1\", \"level_1\":\"chr_2\", 0:\"frecuencia\"})\n",
    "source[\"bigram\"] = source[\"chr_1\"] + source[\"chr_2\"]\n",
    "source.head(10)"
   ]
  },
  {
   "cell_type": "code",
   "execution_count": 87,
   "metadata": {},
   "outputs": [
    {
     "data": {
      "application/vnd.vegalite.v4+json": {
       "$schema": "https://vega.github.io/schema/vega-lite/v4.17.0.json",
       "config": {
        "view": {
         "continuousHeight": 300,
         "continuousWidth": 400
        }
       },
       "data": {
        "name": "data-728d7cae60853d9a2cefcf2bcab41063"
       },
       "datasets": {
        "data-728d7cae60853d9a2cefcf2bcab41063": [
         {
          "bigram": "e ",
          "chr_1": "e",
          "chr_2": " ",
          "frecuencia": 4
         },
         {
          "bigram": " l",
          "chr_1": " ",
          "chr_2": "l",
          "frecuencia": 2
         },
         {
          "bigram": "le",
          "chr_1": "l",
          "chr_2": "e",
          "frecuencia": 3
         },
         {
          "bigram": "ó ",
          "chr_1": "ó",
          "chr_2": " ",
          "frecuencia": 2
         },
         {
          "bigram": "n ",
          "chr_1": "n",
          "chr_2": " ",
          "frecuencia": 2
         },
         {
          "bigram": " e",
          "chr_1": " ",
          "chr_2": "e",
          "frecuencia": 3
         },
         {
          "bigram": "ma",
          "chr_1": "m",
          "chr_2": "a",
          "frecuencia": 3
         },
         {
          "bigram": "ai",
          "chr_1": "a",
          "chr_2": "i",
          "frecuencia": 2
         },
         {
          "bigram": "il",
          "chr_1": "i",
          "chr_2": "l",
          "frecuencia": 2
         },
         {
          "bigram": "l ",
          "chr_1": "l",
          "chr_2": " ",
          "frecuencia": 6
         },
         {
          "bigram": " c",
          "chr_1": " ",
          "chr_2": "c",
          "frecuencia": 3
         },
         {
          "bigram": "co",
          "chr_1": "c",
          "chr_2": "o",
          "frecuencia": 5
         },
         {
          "bigram": "or",
          "chr_1": "o",
          "chr_2": "r",
          "frecuencia": 3
         },
         {
          "bigram": "eo",
          "chr_1": "e",
          "chr_2": "o",
          "frecuencia": 2
         },
         {
          "bigram": "o ",
          "chr_1": "o",
          "chr_2": " ",
          "frecuencia": 2
         },
         {
          "bigram": ".c",
          "chr_1": ".",
          "chr_2": "c",
          "frecuencia": 2
         },
         {
          "bigram": "om",
          "chr_1": "o",
          "chr_2": "m",
          "frecuencia": 4
         },
         {
          "bigram": " q",
          "chr_1": " ",
          "chr_2": "q",
          "frecuencia": 2
         },
         {
          "bigram": "qu",
          "chr_1": "q",
          "chr_2": "u",
          "frecuencia": 2
         },
         {
          "bigram": "ue",
          "chr_1": "u",
          "chr_2": "e",
          "frecuencia": 2
         },
         {
          "bigram": " d",
          "chr_1": " ",
          "chr_2": "d",
          "frecuencia": 2
         },
         {
          "bigram": "r ",
          "chr_1": "r",
          "chr_2": " ",
          "frecuencia": 3
         },
         {
          "bigram": "ar",
          "chr_1": "a",
          "chr_2": "r",
          "frecuencia": 2
         },
         {
          "bigram": "ro",
          "chr_1": "r",
          "chr_2": "o",
          "frecuencia": 3
         },
         {
          "bigram": "mp",
          "chr_1": "m",
          "chr_2": "p",
          "frecuencia": 2
         },
         {
          "bigram": "el",
          "chr_1": "e",
          "chr_2": "l",
          "frecuencia": 3
         },
         {
          "bigram": "on",
          "chr_1": "o",
          "chr_2": "n",
          "frecuencia": 2
         },
         {
          "bigram": "tr",
          "chr_1": "t",
          "chr_2": "r",
          "frecuencia": 2
         },
         {
          "bigram": " t",
          "chr_1": " ",
          "chr_2": "t",
          "frecuencia": 2
         },
         {
          "bigram": "y ",
          "chr_1": "y",
          "chr_2": " ",
          "frecuencia": 2
         },
         {
          "bigram": "ww",
          "chr_1": "w",
          "chr_2": "w",
          "frecuencia": 2
         }
        ]
       },
       "encoding": {
        "tooltip": [
         {
          "field": "bigram",
          "type": "nominal"
         },
         {
          "field": "chr_1",
          "type": "nominal"
         },
         {
          "field": "chr_2",
          "type": "nominal"
         },
         {
          "field": "frecuencia",
          "type": "quantitative"
         }
        ],
        "x": {
         "field": "bigram",
         "sort": "-y",
         "type": "nominal"
        },
        "y": {
         "field": "frecuencia",
         "type": "quantitative"
        }
       },
       "mark": "bar",
       "title": "Frecuencia de char-bigrams (con más de 1 repetición)"
      },
      "image/png": "[encoded data removed]",
      "text/plain": [
       "<VegaLite 4 object>\n",
       "\n",
       "If you see this message, it means the renderer has not been properly enabled\n",
       "for the frontend that you are using. For more information, see\n",
       "https://altair-viz.github.io/user_guide/troubleshooting.html\n"
      ]
     },
     "execution_count": 87,
     "metadata": {},
     "output_type": "execute_result"
    }
   ],
   "source": [
    "# plot\n",
    "alt.Chart(source[source.frecuencia>1]).mark_bar().encode(\n",
    "    alt.X(\"bigram\",sort=\"-y\"),\n",
    "    y=\"frecuencia\",\n",
    "    tooltip=[\"bigram\",\"chr_1\",\"chr_2\",\"frecuencia\"]\n",
    ").properties(\n",
    "    title=\"Frecuencia de char-bigrams (con más de 1 repetición)\"\n",
    ")"
   ]
  },
  {
   "cell_type": "markdown",
   "metadata": {},
   "source": [
    "### Ejemplo con *bigrams* de tokens (palabras o cadenas de caracteres)"
   ]
  },
  {
   "cell_type": "code",
   "execution_count": 92,
   "metadata": {},
   "outputs": [],
   "source": [
    "# Mini-preproceso\n",
    "\n",
    "## función para eliminar stopwords\n",
    "def remove_stopwords(text):\n",
    "    stopwords = nltk.corpus.stopwords.words('spanish')\n",
    "    output= [i for i in text if i not in stopwords]\n",
    "    return output\n",
    "\n",
    "## función de preproceso sencillo\n",
    "def preproceso(texto):\n",
    "    ## En minúsculas\n",
    "    texto = texto.lower()\n",
    "    ## Tokenization\n",
    "    tokens = texto.rsplit()\n",
    "    ## Eliminar Stopwords\n",
    "    #tokens = remove_stopwords(tokens)\n",
    "    return tokens"
   ]
  },
  {
   "cell_type": "code",
   "execution_count": 98,
   "metadata": {},
   "outputs": [],
   "source": [
    "# Canción \"Tití me preguntó\" de Bad Bunny, link: https://www.letras.com/bad-bunny/titi-me-pregunto/\n",
    "texto_2 = '''Ey, Tití me preguntó\n",
    "Si tengo muchas novia'\n",
    "Muchas novia'\n",
    "Hoy tengo a una, mañana otra\n",
    "Ey, pero no hay boda\n",
    "Tití me preguntó\n",
    "Si tengo muchas novia'\n",
    "Je, muchas novia'\n",
    "Hoy tengo a una, mañana otra\n",
    "Me la' vo'a llevar a to'a\n",
    "Pa' un VIP, un VIP, ey\n",
    "Saluden a Tití\n",
    "Vamo' a tirarno' un selfie\n",
    "Say \"Cheese\", ey\n",
    "Que sonrían las que ya les metí\n",
    "En un VIP, un VIP, ey\n",
    "Saluden a Tití\n",
    "Vamo' a tirarno' un selfie\n",
    "Say \"Cheese\"\n",
    "Que sonrían las que ya se olvidaron de mí\n",
    "Me gustan mucho las Gabriela\n",
    "Las Patricia, las Nicolle, las Sofía\n",
    "Mi primera novia en kinder, María\n",
    "Y mi primer amor se llamaba Thalía\n",
    "Tengo una colombiana\n",
    "Que me escribe to' los día'\n",
    "Y una mexicana que ni yo sabía\n",
    "Otra en San Antonio que me quiere todavía\n",
    "Y las de PR que todita' son mía'\n",
    "Una dominicana que es uva bombón\n",
    "Uva, uva bombón\n",
    "La de Barcelona que vino en avión\n",
    "Y dice que mi bicho está cabrón\n",
    "Yo dejo que jueguen\n",
    "Con mi corazón\n",
    "Quisiera mudarme\n",
    "Con todas pa' una mansión\n",
    "El día que me case te envío la invitación\n",
    "Muchacho, deja eso, ey\n",
    "Tití me preguntó\n",
    "Si tengo muchas novia', muchas novia'\n",
    "Hoy tengo a una, mañana otra\n",
    "Ey, pero no hay boda\n",
    "Tití me preguntó\n",
    "Si tengo muchas novia'\n",
    "Ey, ey, muchas novia'\n",
    "Hoy tengo a una, mañana otra (mañana otra) (rrra)\n",
    "Tití me preguntó-tó-tó-tó-tó-tó-tó\n",
    "Tití me preguntó-tó-tó-tó-tó-tó-tó (qué pámpara)\n",
    "Tití me preguntó-tó-tó-tó-tó-tó-tó\n",
    "Tití me preguntó-tó-tó-tó\n",
    "(Pero ven acá, muchacho\n",
    "¿Y para qué tú quiere' tanta' novia'?)\n",
    "Me la' vo'a llevar a to'a\n",
    "Pa' un VIP, un VIP, ey\n",
    "Saluden a Tití\n",
    "Vamo' a tirarno' un selfie\n",
    "Say \"Cheese\", ey\n",
    "Que sonrían las que ya les metí\n",
    "En un VIP, un VIP, ey\n",
    "Saluden a Tití\n",
    "Vamo' a tirarno' un selfie\n",
    "Say \"Cheese\"\n",
    "Que sonrían las que ya se olvidaron de mí\n",
    "Oye, muchacho 'el diablo, azaroso\n",
    "Suelta ese mal vivir\n",
    "Que tú tiene' en la calle\n",
    "Búscate una mujer seria pa' ti\n",
    "Muchacho 'el diablo, coño\n",
    "Yo quisiera enamorarme\n",
    "Pero no puedo\n",
    "Pero no puedo, eh, eh\n",
    "Yo quisiera enamorarme\n",
    "Pero no puedo\n",
    "Pero no puedo\n",
    "Sorry, yo no confío, yo no confío\n",
    "Nah, ni en mí mismo confío\n",
    "Si quieres quedarte\n",
    "Hoy que hace frío\n",
    "Y mañana te va', nah\n",
    "Muchas quieren mi baby gravy\n",
    "Quieren tener mi primogénito, ey\n",
    "Y llevarse el crédito\n",
    "Ya me aburrí\n",
    "Hoy quiero un totito inédito, je\n",
    "Uno nuevo, uno nuevo, uno nuevo, uno nuevo (ey)\n",
    "Hazle caso a tu amiga\n",
    "Ella tiene razón\n",
    "Yo vo'a romperte el corazón\n",
    "Vo'a romperte el corazón\n",
    "Ey, no te enamores de mí\n",
    "No te enamores de mí\n",
    "Sorry, yo soy así, ey\n",
    "No sé por qué soy así\n",
    "Hazle caso a tu amiga\n",
    "Ella tiene razón\n",
    "Yo vo'a romperte el corazón\n",
    "Vo'a romperte el corazón\n",
    "No te enamores de mí\n",
    "No te enamores de mí\n",
    "Sorry, yo soy así\n",
    "Ya no quiero ser así, no'''"
   ]
  },
  {
   "cell_type": "code",
   "execution_count": 95,
   "metadata": {},
   "outputs": [
    {
     "name": "stdout",
     "output_type": "stream",
     "text": [
      "\n",
      "Los primeros 15 bigrams:\n"
     ]
    },
    {
     "data": {
      "text/plain": [
       "[['ey,', 'tití'],\n",
       " ['tití', 'me'],\n",
       " ['me', 'preguntó'],\n",
       " ['preguntó', 'si'],\n",
       " ['si', 'tengo'],\n",
       " ['tengo', 'muchas'],\n",
       " ['muchas', \"novia'\"],\n",
       " [\"novia'\", 'muchas'],\n",
       " ['muchas', \"novia'\"],\n",
       " [\"novia'\", 'hoy'],\n",
       " ['hoy', 'tengo'],\n",
       " ['tengo', 'a'],\n",
       " ['a', 'una,'],\n",
       " ['una,', 'mañana'],\n",
       " ['mañana', 'otra']]"
      ]
     },
     "execution_count": 95,
     "metadata": {},
     "output_type": "execute_result"
    }
   ],
   "source": [
    "# aplicar función 'n_gram' al ejemplo 1\n",
    "tokens_2 = preproceso(texto_2)\n",
    "my_bigrams = n_gram(tokens_2,2)  #<--Bigrams\n",
    "print(\"\\nLos primeros 15 bigrams:\")\n",
    "my_bigrams[:15]"
   ]
  },
  {
   "cell_type": "code",
   "execution_count": 96,
   "metadata": {},
   "outputs": [
    {
     "data": {
      "text/html": [
       "<div>\n",
       "<style scoped>\n",
       "    .dataframe tbody tr th:only-of-type {\n",
       "        vertical-align: middle;\n",
       "    }\n",
       "\n",
       "    .dataframe tbody tr th {\n",
       "        vertical-align: top;\n",
       "    }\n",
       "\n",
       "    .dataframe thead th {\n",
       "        text-align: right;\n",
       "    }\n",
       "</style>\n",
       "<table border=\"1\" class=\"dataframe\">\n",
       "  <thead>\n",
       "    <tr style=\"text-align: right;\">\n",
       "      <th></th>\n",
       "      <th>token_1</th>\n",
       "      <th>token_2</th>\n",
       "      <th>frecuencia</th>\n",
       "      <th>bigram</th>\n",
       "    </tr>\n",
       "  </thead>\n",
       "  <tbody>\n",
       "    <tr>\n",
       "      <th>0</th>\n",
       "      <td>ey,</td>\n",
       "      <td>tití</td>\n",
       "      <td>1</td>\n",
       "      <td>ey, tití</td>\n",
       "    </tr>\n",
       "    <tr>\n",
       "      <th>1</th>\n",
       "      <td>tití</td>\n",
       "      <td>me</td>\n",
       "      <td>8</td>\n",
       "      <td>tití me</td>\n",
       "    </tr>\n",
       "    <tr>\n",
       "      <th>2</th>\n",
       "      <td>me</td>\n",
       "      <td>preguntó</td>\n",
       "      <td>4</td>\n",
       "      <td>me preguntó</td>\n",
       "    </tr>\n",
       "    <tr>\n",
       "      <th>3</th>\n",
       "      <td>preguntó</td>\n",
       "      <td>si</td>\n",
       "      <td>4</td>\n",
       "      <td>preguntó si</td>\n",
       "    </tr>\n",
       "    <tr>\n",
       "      <th>4</th>\n",
       "      <td>si</td>\n",
       "      <td>tengo</td>\n",
       "      <td>4</td>\n",
       "      <td>si tengo</td>\n",
       "    </tr>\n",
       "    <tr>\n",
       "      <th>...</th>\n",
       "      <td>...</td>\n",
       "      <td>...</td>\n",
       "      <td>...</td>\n",
       "      <td>...</td>\n",
       "    </tr>\n",
       "    <tr>\n",
       "      <th>308</th>\n",
       "      <td>ya</td>\n",
       "      <td>no</td>\n",
       "      <td>1</td>\n",
       "      <td>ya no</td>\n",
       "    </tr>\n",
       "    <tr>\n",
       "      <th>309</th>\n",
       "      <td>no</td>\n",
       "      <td>quiero</td>\n",
       "      <td>1</td>\n",
       "      <td>no quiero</td>\n",
       "    </tr>\n",
       "    <tr>\n",
       "      <th>310</th>\n",
       "      <td>quiero</td>\n",
       "      <td>ser</td>\n",
       "      <td>1</td>\n",
       "      <td>quiero ser</td>\n",
       "    </tr>\n",
       "    <tr>\n",
       "      <th>311</th>\n",
       "      <td>ser</td>\n",
       "      <td>así,</td>\n",
       "      <td>1</td>\n",
       "      <td>ser así,</td>\n",
       "    </tr>\n",
       "    <tr>\n",
       "      <th>312</th>\n",
       "      <td>así,</td>\n",
       "      <td>no</td>\n",
       "      <td>1</td>\n",
       "      <td>así, no</td>\n",
       "    </tr>\n",
       "  </tbody>\n",
       "</table>\n",
       "<p>313 rows × 4 columns</p>\n",
       "</div>"
      ],
      "text/plain": [
       "      token_1   token_2  frecuencia       bigram\n",
       "0         ey,      tití           1     ey, tití\n",
       "1        tití        me           8      tití me\n",
       "2          me  preguntó           4  me preguntó\n",
       "3    preguntó        si           4  preguntó si\n",
       "4          si     tengo           4     si tengo\n",
       "..        ...       ...         ...          ...\n",
       "308        ya        no           1        ya no\n",
       "309        no    quiero           1    no quiero\n",
       "310    quiero       ser           1   quiero ser\n",
       "311       ser      así,           1     ser así,\n",
       "312      así,        no           1      así, no\n",
       "\n",
       "[313 rows x 4 columns]"
      ]
     },
     "execution_count": 96,
     "metadata": {},
     "output_type": "execute_result"
    }
   ],
   "source": [
    "# frecuencia de token's bigrams\n",
    "# df_tokens = pd.DataFrame(Counter(zip(pd.DataFrame(my_bigrams)[0], pd.DataFrame(my_bigrams)[1])))\n",
    "bigram_freq = Counter(zip(pd.DataFrame(my_bigrams)[0], pd.DataFrame(my_bigrams)[1]))\n",
    "\n",
    "# hacer un dataframe para poder graficarlo\n",
    "# my_cols = [str(i) for i in bigram_freq.keys()]\n",
    "# bigram_freq.values()\n",
    "source = pd.DataFrame(bigram_freq.values(), index=bigram_freq.keys()).reset_index().rename(columns={\"level_0\":\"token_1\", \"level_1\":\"token_2\", 0:\"frecuencia\"})\n",
    "source[\"bigram\"] = source[\"token_1\"] + \" \" + source[\"token_2\"]\n",
    "source\n"
   ]
  },
  {
   "cell_type": "code",
   "execution_count": 97,
   "metadata": {},
   "outputs": [
    {
     "data": {
      "application/vnd.vegalite.v4+json": {
       "$schema": "https://vega.github.io/schema/vega-lite/v4.17.0.json",
       "config": {
        "view": {
         "continuousHeight": 300,
         "continuousWidth": 400
        }
       },
       "data": {
        "name": "data-e2c6b66986d44dd0b88051207fe142c3"
       },
       "datasets": {
        "data-e2c6b66986d44dd0b88051207fe142c3": [
         {
          "bigram": "tití me",
          "frecuencia": 8,
          "token_1": "tití",
          "token_2": "me"
         },
         {
          "bigram": "me preguntó",
          "frecuencia": 4,
          "token_1": "me",
          "token_2": "preguntó"
         },
         {
          "bigram": "preguntó si",
          "frecuencia": 4,
          "token_1": "preguntó",
          "token_2": "si"
         },
         {
          "bigram": "si tengo",
          "frecuencia": 4,
          "token_1": "si",
          "token_2": "tengo"
         },
         {
          "bigram": "tengo muchas",
          "frecuencia": 4,
          "token_1": "tengo",
          "token_2": "muchas"
         },
         {
          "bigram": "muchas novia'",
          "frecuencia": 7,
          "token_1": "muchas",
          "token_2": "novia'"
         },
         {
          "bigram": "novia' hoy",
          "frecuencia": 4,
          "token_1": "novia'",
          "token_2": "hoy"
         },
         {
          "bigram": "hoy tengo",
          "frecuencia": 4,
          "token_1": "hoy",
          "token_2": "tengo"
         },
         {
          "bigram": "tengo a",
          "frecuencia": 4,
          "token_1": "tengo",
          "token_2": "a"
         },
         {
          "bigram": "a una,",
          "frecuencia": 4,
          "token_1": "a",
          "token_2": "una,"
         },
         {
          "bigram": "una, mañana",
          "frecuencia": 4,
          "token_1": "una,",
          "token_2": "mañana"
         },
         {
          "bigram": "mañana otra",
          "frecuencia": 4,
          "token_1": "mañana",
          "token_2": "otra"
         },
         {
          "bigram": "pero no",
          "frecuencia": 6,
          "token_1": "pero",
          "token_2": "no"
         },
         {
          "bigram": "un vip,",
          "frecuencia": 8,
          "token_1": "un",
          "token_2": "vip,"
         },
         {
          "bigram": "vip, un",
          "frecuencia": 4,
          "token_1": "vip,",
          "token_2": "un"
         },
         {
          "bigram": "vip, ey",
          "frecuencia": 4,
          "token_1": "vip,",
          "token_2": "ey"
         },
         {
          "bigram": "ey saluden",
          "frecuencia": 4,
          "token_1": "ey",
          "token_2": "saluden"
         },
         {
          "bigram": "saluden a",
          "frecuencia": 4,
          "token_1": "saluden",
          "token_2": "a"
         },
         {
          "bigram": "a tití",
          "frecuencia": 4,
          "token_1": "a",
          "token_2": "tití"
         },
         {
          "bigram": "tití vamo'",
          "frecuencia": 4,
          "token_1": "tití",
          "token_2": "vamo'"
         },
         {
          "bigram": "vamo' a",
          "frecuencia": 4,
          "token_1": "vamo'",
          "token_2": "a"
         },
         {
          "bigram": "a tirarno'",
          "frecuencia": 4,
          "token_1": "a",
          "token_2": "tirarno'"
         },
         {
          "bigram": "tirarno' un",
          "frecuencia": 4,
          "token_1": "tirarno'",
          "token_2": "un"
         },
         {
          "bigram": "un selfie",
          "frecuencia": 4,
          "token_1": "un",
          "token_2": "selfie"
         },
         {
          "bigram": "selfie say",
          "frecuencia": 4,
          "token_1": "selfie",
          "token_2": "say"
         },
         {
          "bigram": "que sonrían",
          "frecuencia": 4,
          "token_1": "que",
          "token_2": "sonrían"
         },
         {
          "bigram": "sonrían las",
          "frecuencia": 4,
          "token_1": "sonrían",
          "token_2": "las"
         },
         {
          "bigram": "las que",
          "frecuencia": 4,
          "token_1": "las",
          "token_2": "que"
         },
         {
          "bigram": "que ya",
          "frecuencia": 4,
          "token_1": "que",
          "token_2": "ya"
         },
         {
          "bigram": "de mí",
          "frecuencia": 6,
          "token_1": "de",
          "token_2": "mí"
         },
         {
          "bigram": "que me",
          "frecuencia": 3,
          "token_1": "que",
          "token_2": "me"
         },
         {
          "bigram": "me preguntó-tó-tó-tó-tó-tó-tó",
          "frecuencia": 3,
          "token_1": "me",
          "token_2": "preguntó-tó-tó-tó-tó-tó-tó"
         },
         {
          "bigram": "no puedo",
          "frecuencia": 3,
          "token_1": "no",
          "token_2": "puedo"
         },
         {
          "bigram": "sorry, yo",
          "frecuencia": 3,
          "token_1": "sorry,",
          "token_2": "yo"
         },
         {
          "bigram": "uno nuevo,",
          "frecuencia": 3,
          "token_1": "uno",
          "token_2": "nuevo,"
         },
         {
          "bigram": "nuevo, uno",
          "frecuencia": 3,
          "token_1": "nuevo,",
          "token_2": "uno"
         },
         {
          "bigram": "vo'a romperte",
          "frecuencia": 4,
          "token_1": "vo'a",
          "token_2": "romperte"
         },
         {
          "bigram": "romperte el",
          "frecuencia": 4,
          "token_1": "romperte",
          "token_2": "el"
         },
         {
          "bigram": "el corazón",
          "frecuencia": 4,
          "token_1": "el",
          "token_2": "corazón"
         },
         {
          "bigram": "no te",
          "frecuencia": 4,
          "token_1": "no",
          "token_2": "te"
         },
         {
          "bigram": "te enamores",
          "frecuencia": 4,
          "token_1": "te",
          "token_2": "enamores"
         },
         {
          "bigram": "enamores de",
          "frecuencia": 4,
          "token_1": "enamores",
          "token_2": "de"
         }
        ]
       },
       "encoding": {
        "tooltip": [
         {
          "field": "bigram",
          "type": "nominal"
         },
         {
          "field": "token_1",
          "type": "nominal"
         },
         {
          "field": "token_2",
          "type": "nominal"
         },
         {
          "field": "frecuencia",
          "type": "quantitative"
         }
        ],
        "x": {
         "field": "bigram",
         "sort": "-y",
         "type": "nominal"
        },
        "y": {
         "field": "frecuencia",
         "type": "quantitative"
        }
       },
       "mark": "bar",
       "title": "Frecuencia de token-bigrams (con más de 2 repeticiones)"
      },
      "image/png": "[encoded data removed]",
      "text/plain": [
       "<VegaLite 4 object>\n",
       "\n",
       "If you see this message, it means the renderer has not been properly enabled\n",
       "for the frontend that you are using. For more information, see\n",
       "https://altair-viz.github.io/user_guide/troubleshooting.html\n"
      ]
     },
     "execution_count": 97,
     "metadata": {},
     "output_type": "execute_result"
    }
   ],
   "source": [
    "# plot\n",
    "alt.Chart(source[source.frecuencia>2]).mark_bar().encode(\n",
    "    alt.X(\"bigram\",sort=\"-y\"),\n",
    "    y=\"frecuencia\",\n",
    "    tooltip=[\"bigram\",\"token_1\",\"token_2\",\"frecuencia\"]\n",
    ").properties(\n",
    "    title=\"Frecuencia de token-bigrams (con más de 2 repeticiones)\"\n",
    ")"
   ]
  },
  {
   "cell_type": "markdown",
   "metadata": {},
   "source": [
    "## 2. Sentiment analysis\n",
    "TO-DO"
   ]
  },
  {
   "cell_type": "code",
   "execution_count": 102,
   "metadata": {},
   "outputs": [
    {
     "name": "stdout",
     "output_type": "stream",
     "text": [
      "Sentiment(polarity=-0.125, subjectivity=0.9, assessments=[(['really', 'horrible'], -1.0, 1.0, None), (['worst', '!'], -1.0, 1.0, None), (['really', 'good'], 0.7, 0.6000000000000001, None), (['happy'], 0.8, 1.0, None)])\n"
     ]
    }
   ],
   "source": [
    "from textblob import TextBlob\n",
    "\n",
    "text = \"I had a really horrible day. It was the worst day ever! But every now and then I have a really good day that makes me happy.\"\n",
    "blob = TextBlob(text)\n",
    "\n",
    "print(blob.sentiment_assessments)"
   ]
  },
  {
   "cell_type": "code",
   "execution_count": 107,
   "metadata": {},
   "outputs": [],
   "source": [
    "# import spacy\n",
    "from spacytextblob.spacytextblob import SpacyTextBlob\n",
    "\n",
    "# nlp = spacy.load('en_core_web_sm')\n",
    "# text = \"I had a really horrible day. It was the worst day ever! But every now and then I have a really good day that makes me happy.\"\n",
    "texto_3 = \"Espera. Aún la nave del olvido no ha partido. No condenemos al naufragio lo vivido. Por nuestro ayer, por nuestro amor, yo te lo pido. Espera. \\\n",
    "Aún me quedan en mis manos primaveras. Para colmarte de caricias todas nuevas. Que morirían en mis manos si te fueras\"\n",
    "nlp = spacy.load(\"es_core_news_sm\")\n",
    "nlp.add_pipe(\"spacytextblob\")\n",
    "doc = nlp(texto_3)\n"
   ]
  },
  {
   "cell_type": "code",
   "execution_count": 108,
   "metadata": {},
   "outputs": [
    {
     "name": "stdout",
     "output_type": "stream",
     "text": [
      "0.0\n"
     ]
    }
   ],
   "source": [
    "print(doc._.blob.polarity)\n"
   ]
  },
  {
   "cell_type": "code",
   "execution_count": 120,
   "metadata": {},
   "outputs": [
    {
     "data": {
      "text/plain": [
       "TextBlob(\"\n",
       "The titular threat of The Blob has always struck me as the ultimate movie\n",
       "monster: an insatiably hungry, amoeba-like mass able to penetrate\n",
       "virtually any safeguard, capable of--as a doomed doctor chillingly\n",
       "describes it--\"assimilating flesh on contact.\n",
       "Snide comparisons to gelatin be damned, it's a concept with the most\n",
       "devastating of potential consequences, not unlike the grey goo scenario\n",
       "proposed by technological theorists fearful of\n",
       "artificial intelligence run rampant.\n",
       "\")"
      ]
     },
     "execution_count": 120,
     "metadata": {},
     "output_type": "execute_result"
    }
   ],
   "source": [
    "from textblob import TextBlob\n",
    "\n",
    "text = '''\n",
    "The titular threat of The Blob has always struck me as the ultimate movie\n",
    "monster: an insatiably hungry, amoeba-like mass able to penetrate\n",
    "virtually any safeguard, capable of--as a doomed doctor chillingly\n",
    "describes it--\"assimilating flesh on contact.\n",
    "Snide comparisons to gelatin be damned, it's a concept with the most\n",
    "devastating of potential consequences, not unlike the grey goo scenario\n",
    "proposed by technological theorists fearful of\n",
    "artificial intelligence run rampant.\n",
    "'''\n",
    "\n",
    "blob = TextBlob(text)\n",
    "\n",
    "blob\n",
    "# b = TextBlob(\"hola\")\n",
    "# b.detect_language()"
   ]
  },
  {
   "cell_type": "code",
   "execution_count": 121,
   "metadata": {},
   "outputs": [
    {
     "data": {
      "text/plain": [
       "[('The', 'DT'),\n",
       " ('titular', 'JJ'),\n",
       " ('threat', 'NN'),\n",
       " ('of', 'IN'),\n",
       " ('The', 'DT'),\n",
       " ('Blob', 'NNP'),\n",
       " ('has', 'VBZ'),\n",
       " ('always', 'RB'),\n",
       " ('struck', 'VBN'),\n",
       " ('me', 'PRP'),\n",
       " ('as', 'IN'),\n",
       " ('the', 'DT'),\n",
       " ('ultimate', 'JJ'),\n",
       " ('movie', 'NN'),\n",
       " ('monster', 'NN'),\n",
       " ('an', 'DT'),\n",
       " ('insatiably', 'RB'),\n",
       " ('hungry', 'JJ'),\n",
       " ('amoeba-like', 'JJ'),\n",
       " ('mass', 'NN'),\n",
       " ('able', 'JJ'),\n",
       " ('to', 'TO'),\n",
       " ('penetrate', 'VB'),\n",
       " ('virtually', 'RB'),\n",
       " ('any', 'DT'),\n",
       " ('safeguard', 'NN'),\n",
       " ('capable', 'JJ'),\n",
       " ('of', 'IN'),\n",
       " ('as', 'IN'),\n",
       " ('a', 'DT'),\n",
       " ('doomed', 'JJ'),\n",
       " ('doctor', 'NN'),\n",
       " ('chillingly', 'RB'),\n",
       " ('describes', 'VBZ'),\n",
       " ('it', 'PRP'),\n",
       " ('assimilating', 'VBG'),\n",
       " ('flesh', 'NN'),\n",
       " ('on', 'IN'),\n",
       " ('contact', 'NN'),\n",
       " ('Snide', 'JJ'),\n",
       " ('comparisons', 'NNS'),\n",
       " ('to', 'TO'),\n",
       " ('gelatin', 'VB'),\n",
       " ('be', 'VB'),\n",
       " ('damned', 'VBN'),\n",
       " ('it', 'PRP'),\n",
       " (\"'s\", 'VBZ'),\n",
       " ('a', 'DT'),\n",
       " ('concept', 'NN'),\n",
       " ('with', 'IN'),\n",
       " ('the', 'DT'),\n",
       " ('most', 'RBS'),\n",
       " ('devastating', 'JJ'),\n",
       " ('of', 'IN'),\n",
       " ('potential', 'JJ'),\n",
       " ('consequences', 'NNS'),\n",
       " ('not', 'RB'),\n",
       " ('unlike', 'IN'),\n",
       " ('the', 'DT'),\n",
       " ('grey', 'NN'),\n",
       " ('goo', 'NN'),\n",
       " ('scenario', 'NN'),\n",
       " ('proposed', 'VBN'),\n",
       " ('by', 'IN'),\n",
       " ('technological', 'JJ'),\n",
       " ('theorists', 'NNS'),\n",
       " ('fearful', 'NN'),\n",
       " ('of', 'IN'),\n",
       " ('artificial', 'JJ'),\n",
       " ('intelligence', 'NN'),\n",
       " ('run', 'NN'),\n",
       " ('rampant', 'NN')]"
      ]
     },
     "execution_count": 121,
     "metadata": {},
     "output_type": "execute_result"
    }
   ],
   "source": [
    "blob.tags"
   ]
  },
  {
   "cell_type": "code",
   "execution_count": 122,
   "metadata": {},
   "outputs": [
    {
     "data": {
      "text/plain": [
       "WordList(['titular threat', 'blob', 'ultimate movie monster', 'amoeba-like mass', 'snide', 'potential consequences', 'grey goo scenario', 'technological theorists fearful', 'artificial intelligence run rampant'])"
      ]
     },
     "execution_count": 122,
     "metadata": {},
     "output_type": "execute_result"
    }
   ],
   "source": [
    "blob.noun_phrases"
   ]
  },
  {
   "cell_type": "code",
   "execution_count": 124,
   "metadata": {},
   "outputs": [
    {
     "name": "stdout",
     "output_type": "stream",
     "text": [
      "Sentiment(polarity=0.06000000000000001, subjectivity=0.605)\n",
      "Sentiment(polarity=-0.34166666666666673, subjectivity=0.7666666666666666)\n"
     ]
    }
   ],
   "source": [
    "for sentence in blob.sentences:\n",
    "    print(sentence.sentiment)"
   ]
  },
  {
   "cell_type": "markdown",
   "metadata": {},
   "source": [
    "## 3. Wordcloud\n",
    "TO-DO"
   ]
  },
  {
   "cell_type": "markdown",
   "metadata": {},
   "source": [
    "## 4. Referencias\n",
    "- spaCy's [textblob](https://spacy.io/universe/project/spacy-textblob)\n",
    "- [SpaCy For Traditional NLP](https://chatbotslife.com/spacy-for-traditional-nlp-c85b5436b21c) por saketh-saraswathi en *Chatbots Life*."
   ]
  },
  {
   "cell_type": "code",
   "execution_count": null,
   "metadata": {},
   "outputs": [],
   "source": []
  }
 ],
 "metadata": {
  "kernelspec": {
   "display_name": "Python 3",
   "language": "python",
   "name": "python3"
  },
  "language_info": {
   "codemirror_mode": {
    "name": "ipython",
    "version": 3
   },
   "file_extension": ".py",
   "mimetype": "text/x-python",
   "name": "python",
   "nbconvert_exporter": "python",
   "pygments_lexer": "ipython3",
   "version": "3.8.5"
  }
 },
 "nbformat": 4,
 "nbformat_minor": 4
}
