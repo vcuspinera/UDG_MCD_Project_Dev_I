{
 "cells": [
  {
   "cell_type": "markdown",
   "id": "33137075",
   "metadata": {},
   "source": [
    "# 12 • Análisis exploratorio de datos (EDA)\n",
    "El EDA es una herramienta de análisis para una revisión iterativa de las bases de datos con la cual describimos las principales características usando estadística descriptiva y visualización de datos.\n",
    "\n",
    "## Contenido\n",
    "1. Fuentes de datos\n",
    "2. Descripción de los datos\n",
    "3. Limpieza de datos\n",
    "4. Missing values\n",
    "5. Visualización de datos\n",
    "6. EDA un proceso iterativo\n",
    "7. Referencias\n",
    "\n",
    "## 1. Fuentes de datos\n",
    "Existen distintas fuentes de información qu epodemos utilizar para nuestros proyectos, en función de la problemática que inetntemos resolver.\n",
    "\n",
    "### Datos estructurados y no estructurados\n",
    "Las fuentes de información las podemos encontra en distintos formatos como base de datos estructuradas y no estructuradas.\n",
    "\n",
    "Las bases de __datos estructurados__ es información que suele estar presentada en forma de tablas, clasificadas y algunas veces relacionadas. Estas bases de datos son guardadas en Excel o SQL. Algunos formatos son `xls`, `csv`, `json`, entre otros.\n",
    "\n",
    "Por otro lado, los __datos no estructurados__ contienen una colección de datos sin una estructura específica y pueden estar en distintos formatos como texto, audio, imagen o video, es decir, archivos con terminación `doc`, `pdf`, `mp3`, `mp4`, etc. \n",
    "\n",
    "### Privadas y públicas\n",
    "Las fuentes de datos pueden provenir de información __privada__ que manejan las empresas en sus bases de datos internas, las cuales pueden contener datos personales. En caso de utilizar estas bases de datos, se recomienda darle un tratamiento para no compartir información personal sensible de trabajadores, clientes, empresas, etc.\n",
    "\n",
    "Las fuentes de datos __públicas__ son publicadas por instituciones públicas, empresas, fundaciones u organizaciones. Alguna de esta información proviene de fuentes oficiales como entidades gubernamentales, bancos centrales, organizaciones inetrnacionales. A continuación comparto algunos lugares donde se puede encontrar fuentes de información pública:\n",
    "\n",
    "#### México\n",
    "- [INEGI](https://www.inegi.org.mx/datosabiertos/)\n",
    "- [Gobierno de México](https://datos.gob.mx/busca/dataset)\n",
    "- [Banco de México](https://www.banxico.org.mx/SieInternet/)\n",
    "- [IMSS](http://datos.imss.gob.mx)\n",
    "\n",
    "\n",
    "#### Mundiales\n",
    "- [United Nations](https://data.un.org)\n",
    "- [U.S. Government’s open data](https://data.gov)\n",
    "- [The World Bank](https://data.worldbank.org)\n",
    "- [OECD.org](https://stats.oecd.org)\n",
    "- [World Health Organization](https://www.who.int/data/gho)\n",
    "- [Common Data Set Initiative](https://commondataset.org)\n",
    "- [International Monetary Fund](https://www.imf.org/en/Data)\n",
    "- [Human Development Index](https://hdr.undp.org/data-center)\n",
    "- [European Commission Eurostat](https://ec.europa.eu/eurostat/data/database)\n",
    "- [India Human Development Survey](https://ihds.umd.edu/data)\n",
    "- [Open Data Pakistan](https://opendata.com.pk/dataset)\n",
    "\n",
    "#### Otras fuentes\n",
    "- [Kaggle datasets](https://www.kaggle.com/datasets)\n",
    "- [Hugging Face](https://huggingface.co/datasets)\n",
    "- [FiveThirtyEight](https://data.fivethirtyeight.com)\n",
    "- [Awesome Public Datasets en GitHub](https://github.com/awesomedata/awesome-public-datasets)\n",
    "- [University of Cambridge](https://www.data.cam.ac.uk/repository#University%20repository)"
   ]
  },
  {
   "cell_type": "code",
   "execution_count": null,
   "id": "1988cab0",
   "metadata": {},
   "outputs": [],
   "source": [
    "# Import libraries\n",
    "import pandas as pd\n",
    "import numpy as np\n",
    "from datetime import datetime\n",
    "import re"
   ]
  },
  {
   "cell_type": "code",
   "execution_count": null,
   "id": "4a6cc70e",
   "metadata": {},
   "outputs": [],
   "source": [
    "## To install Altair look the following link\n",
    "##    https://altair-viz.github.io/getting_started/installation.html\n",
    "# !pip install altair vega_datasets #<--Instalar desde `pip`\n",
    "# !conda install -c conda-forge altair vega_datasets #<--Instalar desde `conda`\n",
    "\n",
    "import altair as alt\n",
    "alt.renderers.enable('default')"
   ]
  },
  {
   "cell_type": "markdown",
   "id": "94cbdb9d",
   "metadata": {},
   "source": [
    "Para este ejercicio utilizaremos la siguiente base de datos: [Pakistan Food Prices](https://opendata.com.pk/dataset/pakistan-food-prices).\n",
    "\n",
    "Esta base de datos contiene información de precios de comida en Pakistan, a partir de 2004, provenientes del \"World Food Programme\" y contiene precios de productos como maíz, arroz, frijoles, pescado, azúcar. "
   ]
  },
  {
   "cell_type": "code",
   "execution_count": null,
   "id": "e8b16c22",
   "metadata": {},
   "outputs": [],
   "source": [
    "# Load dataset\n",
    "file = \"https://opendata.com.pk/dataset/ec1f8db6-4f93-4d11-b062-c38ac2a5d603/resource/9b42d48c-b689-44ca-a1df-8cf919c5e1d4/download/wfp_food_prices_pakistan.csv\"\n",
    "df_0 = pd.read_csv(file)"
   ]
  },
  {
   "cell_type": "markdown",
   "id": "6287aa8b",
   "metadata": {},
   "source": [
    "## 2. Descripción de los datos"
   ]
  },
  {
   "cell_type": "code",
   "execution_count": null,
   "id": "2783b77c",
   "metadata": {},
   "outputs": [],
   "source": [
    "# Save the description of variables\n",
    "description = df_0.iloc[0].to_dict()\n",
    "description"
   ]
  },
  {
   "cell_type": "code",
   "execution_count": null,
   "id": "9949af24",
   "metadata": {},
   "outputs": [],
   "source": [
    "# Head of database (& drop description's row)\n",
    "df = df_0.drop([0])\n",
    "df.head()"
   ]
  },
  {
   "cell_type": "code",
   "execution_count": null,
   "id": "48665758",
   "metadata": {},
   "outputs": [],
   "source": [
    "# Variables\n",
    "df.columns"
   ]
  },
  {
   "cell_type": "code",
   "execution_count": null,
   "id": "a5db54ef",
   "metadata": {},
   "outputs": [],
   "source": [
    "# Información general\n",
    "df.info()"
   ]
  },
  {
   "cell_type": "code",
   "execution_count": null,
   "id": "0adc31fa",
   "metadata": {},
   "outputs": [],
   "source": [
    "## Variables cuantitativas\n",
    "df.describe()"
   ]
  },
  {
   "cell_type": "code",
   "execution_count": null,
   "id": "eb4989b8",
   "metadata": {},
   "outputs": [],
   "source": [
    "# Número de términos únicos por variable\n",
    "df.nunique()"
   ]
  },
  {
   "cell_type": "markdown",
   "id": "59e0e442",
   "metadata": {},
   "source": [
    "### Información general de la base de datos"
   ]
  },
  {
   "cell_type": "code",
   "execution_count": null,
   "id": "c738c597",
   "metadata": {},
   "outputs": [],
   "source": [
    "# fechas\n",
    "print(\"- El rango de fechas va desde {0} hasta {1}.\".format(df.date.unique().min(), df.date.unique().max()))"
   ]
  },
  {
   "cell_type": "code",
   "execution_count": null,
   "id": "c45f37c4",
   "metadata": {},
   "outputs": [],
   "source": [
    "# productos de comida\n",
    "print(\"- En la base de datos se consideraron {0} productos distintos:\".format(len(df.cmname.unique())))\n",
    "for i in df.cmname.unique():\n",
    "    print(\"    * \"+i)"
   ]
  },
  {
   "cell_type": "code",
   "execution_count": null,
   "id": "6874ec34",
   "metadata": {},
   "outputs": [],
   "source": [
    "# unidades de medición\n",
    "print(\"- Las distintas unidades utilizadas:\", df.unit.unique())"
   ]
  },
  {
   "cell_type": "code",
   "execution_count": null,
   "id": "3ea80a13",
   "metadata": {},
   "outputs": [],
   "source": [
    "# categoría de productos\n",
    "print(\"- Las distintas categorías de los productos:\")\n",
    "for i in df.category.unique():\n",
    "    print(\"    * \"+i)"
   ]
  },
  {
   "cell_type": "code",
   "execution_count": null,
   "id": "2b872a6e",
   "metadata": {},
   "outputs": [],
   "source": [
    "# precios\n",
    "print(\"- El rango de precios va de un min {0} hasta {1}, y su promedio es {2}\".format(df.price.unique().min(),\n",
    "                                                                                      df.price.unique().max(),\n",
    "                                                                 np.round(pd.to_numeric(df.price).mean(), 2)))"
   ]
  },
  {
   "cell_type": "code",
   "execution_count": null,
   "id": "144cb016",
   "metadata": {},
   "outputs": [],
   "source": [
    "# moneda y país\n",
    "print(\"- La moneda utilizada es {0} y los datos corresponden a {1}.\".format(df.currency.unique()[0],\n",
    "                                                                             df.country.unique()[0]))"
   ]
  },
  {
   "cell_type": "code",
   "execution_count": null,
   "id": "96f26885",
   "metadata": {},
   "outputs": [],
   "source": [
    "# administrador de base de datos\n",
    "print(\"- Nombres de unidades administrativas:\")\n",
    "for i in df.admname.unique():\n",
    "    print(\"    * \"+i)\n",
    "\n",
    "print(\"\\n- ID de unidades administrativas:\")\n",
    "for i in df.adm1id.unique():\n",
    "    print(\"    * \"+i)"
   ]
  },
  {
   "cell_type": "code",
   "execution_count": null,
   "id": "80db53fa",
   "metadata": {},
   "outputs": [],
   "source": [
    "# comercios\n",
    "print(\"- Nombre de los comercios:\")\n",
    "for i in df.mktname.unique():\n",
    "    print(\"    * \"+i)\n",
    "\n",
    "print(\"\\n- ID de los comercios:\")\n",
    "for i in df.mktid.unique():\n",
    "    print(\"    * \"+str(int(i)))"
   ]
  },
  {
   "cell_type": "code",
   "execution_count": null,
   "id": "1c0e8eb6",
   "metadata": {},
   "outputs": [],
   "source": [
    "# item codes\n",
    "print(\"- ID de productos:\", df.cmid.unique())"
   ]
  },
  {
   "cell_type": "code",
   "execution_count": null,
   "id": "cfd4e4fb",
   "metadata": {},
   "outputs": [],
   "source": [
    "# información sin identificar\n",
    "print(\"- Valores para variable 'ptid':\",df.ptid.unique())\n",
    "print(\"\\n- Valores para variable 'umid':\",df.umid.unique())\n",
    "print(\"\\n- Valores para variable 'catid':\",df.catid.unique())\n",
    "print(\"\\n- Valores para variable 'default':\",df.default.unique())"
   ]
  },
  {
   "cell_type": "code",
   "execution_count": null,
   "id": "0142b42f",
   "metadata": {},
   "outputs": [],
   "source": [
    "# metadata id\n",
    "print(\"\\n- Valores para variable 'sn':\",df.sn.unique())"
   ]
  },
  {
   "cell_type": "markdown",
   "id": "20e7cf75",
   "metadata": {},
   "source": [
    "## 3. Missing values\n"
   ]
  },
  {
   "cell_type": "code",
   "execution_count": null,
   "id": "8999be3c",
   "metadata": {},
   "outputs": [],
   "source": [
    "# Revisar los missing values\n",
    "df.isnull().sum()"
   ]
  },
  {
   "cell_type": "markdown",
   "id": "b66defa3",
   "metadata": {},
   "source": [
    "__Nota:__<br>\n",
    "Ninguna de las variables, con excepción de `default`, tienen valores nulos; para la cual, todos sus valores son nulos (`nan`)."
   ]
  },
  {
   "cell_type": "markdown",
   "id": "217f0997",
   "metadata": {},
   "source": [
    "## 4. Limpieza de datos\n"
   ]
  },
  {
   "cell_type": "code",
   "execution_count": null,
   "id": "70d5420a",
   "metadata": {},
   "outputs": [],
   "source": [
    "# actualizar index de base de datos\n",
    "df.reset_index(drop=True, inplace=True)"
   ]
  },
  {
   "cell_type": "code",
   "execution_count": null,
   "id": "e6641545",
   "metadata": {},
   "outputs": [],
   "source": [
    "# eliminar variable `default` que sólo tienen NaN, y `ptid` que sólo cuenta con 1 valor (15.)\n",
    "try:\n",
    "    df.drop(columns=['default', 'ptid'], inplace=True)\n",
    "except:\n",
    "    next\n",
    "    \n",
    "df.head()"
   ]
  },
  {
   "cell_type": "code",
   "execution_count": null,
   "id": "fa6e129a",
   "metadata": {},
   "outputs": [],
   "source": [
    "# revisar tipo de variable\n",
    "df.dtypes"
   ]
  },
  {
   "cell_type": "code",
   "execution_count": null,
   "id": "06fa1799",
   "metadata": {},
   "outputs": [],
   "source": [
    "# transformar a variables numéricas:\n",
    "#    price a float; adm1id, cmid y catid a integer\n",
    "try:\n",
    "    df = df.astype({'price':'float','adm1id':'int','cmid':'int','catid':'int'})\n",
    "except:\n",
    "    next\n",
    "    \n",
    "df.dtypes"
   ]
  },
  {
   "cell_type": "code",
   "execution_count": null,
   "id": "48ed9372",
   "metadata": {},
   "outputs": [],
   "source": [
    "# date\n",
    "try:\n",
    "    df.date = [datetime.strptime(i, '%Y-%m-%d') for i in df.date]\n",
    "except:\n",
    "    next"
   ]
  },
  {
   "cell_type": "code",
   "execution_count": null,
   "id": "4957d10f",
   "metadata": {},
   "outputs": [],
   "source": [
    "# productos de comida\n",
    "# nota: dado que todos productos de comida terminan en \"- Retail\", aquí borramos \n",
    "#       ese texto para hacer más corto el nombre del producto\n",
    "\n",
    "try:\n",
    "    cmname_list = list()\n",
    "    for i in df.cmname.unique():\n",
    "        cmname_list.append(re.sub(\" - Retail\", \"\", i))\n",
    "    cmname_list\n",
    "\n",
    "    cmname_dict = dict(zip(list(df.cmname.unique()), cmname_list))\n",
    "\n",
    "    df['producto'] = df['cmname'].map(cmname_dict)\n",
    "    df.drop(columns=['cmname'], inplace=True)\n",
    "except:\n",
    "    next\n",
    "    \n",
    "df.head()"
   ]
  },
  {
   "cell_type": "code",
   "execution_count": null,
   "id": "f377028a",
   "metadata": {},
   "outputs": [],
   "source": [
    "# Información general, segunda revisión\n",
    "df.info()"
   ]
  },
  {
   "cell_type": "code",
   "execution_count": null,
   "id": "74d620d5",
   "metadata": {},
   "outputs": [],
   "source": [
    "## Variables cuantitativas, segunda revisión\n",
    "df.describe()"
   ]
  },
  {
   "cell_type": "markdown",
   "id": "cab93310",
   "metadata": {},
   "source": [
    "## 5. Visualización de datos\n",
    "Análisis y visualización de la base de datos limpia."
   ]
  },
  {
   "cell_type": "code",
   "execution_count": null,
   "id": "a716cc43",
   "metadata": {},
   "outputs": [],
   "source": [
    "# base de datos limpia\n",
    "df.tail()"
   ]
  },
  {
   "cell_type": "code",
   "execution_count": null,
   "id": "6459f5e2",
   "metadata": {},
   "outputs": [],
   "source": [
    "df.info()"
   ]
  },
  {
   "cell_type": "markdown",
   "id": "8ca5747c",
   "metadata": {},
   "source": [
    "### Price"
   ]
  },
  {
   "cell_type": "code",
   "execution_count": null,
   "id": "c2a7c81c",
   "metadata": {},
   "outputs": [],
   "source": [
    "source = pd.DataFrame(df.price.value_counts()).reset_index().rename(columns={\"index\":\"Price\", \"price\":\"Frequency\"})"
   ]
  },
  {
   "cell_type": "code",
   "execution_count": null,
   "id": "4b5f8915",
   "metadata": {},
   "outputs": [],
   "source": [
    "# price, general plot\n",
    "alt.Chart(source).mark_bar().encode(\n",
    "    alt.X('Price', title=\"Precio\"),\n",
    "    alt.Y('Frequency', title=\"Frecuencia\"),\n",
    "    alt.Color('Price', legend=None),\n",
    "    tooltip=['Price', 'Frequency']\n",
    ").properties(title=\"Frecuencia de precios\")"
   ]
  },
  {
   "cell_type": "code",
   "execution_count": null,
   "id": "d7ea38e0",
   "metadata": {},
   "outputs": [],
   "source": [
    "# price, histogram\n",
    "alt.Chart(source).mark_bar().encode(\n",
    "    alt.X('Price', bin=True, title=\"Precio\"),\n",
    "    alt.Y('Frequency', title=\"Frecuencia\"),\n",
    "    alt.Color('Price', bin=True, legend=None),\n",
    "    tooltip=['Price', 'Frequency']\n",
    ").properties(title=\"Histograma de frecuencia de precios\")"
   ]
  },
  {
   "cell_type": "code",
   "execution_count": null,
   "id": "603f0cec",
   "metadata": {},
   "outputs": [],
   "source": [
    "# price, density function\n",
    "alt.Chart(source).transform_density(\n",
    "    'Price',\n",
    "    as_=['Price', 'density'],\n",
    ").mark_area().encode(\n",
    "    alt.X(\"Price:Q\", title=\"Precio\"),\n",
    "    alt.Y('density:Q', title=\"Probabilidad\"),\n",
    "    tooltip=['Price']\n",
    ").properties(title=\"Distribución de densidad de precios\")"
   ]
  },
  {
   "cell_type": "code",
   "execution_count": null,
   "id": "c888b566",
   "metadata": {},
   "outputs": [],
   "source": [
    "# price, log scale density function\n",
    "alt.Chart(source).transform_density(\n",
    "    'Price',\n",
    "    as_=['Price', 'density'],\n",
    ").mark_area().encode(\n",
    "    alt.X(\"Price:Q\", title=\"Precio\"),\n",
    "    y=alt.Y('density:Q', scale=alt.Scale(type=\"log\"), title=\"Probabilidad\"),\n",
    "    tooltip=['Price']\n",
    ").properties(title=\"Distribución de densidad de precios (usando log)\")"
   ]
  },
  {
   "cell_type": "markdown",
   "id": "291b66ca",
   "metadata": {},
   "source": [
    "### Producto"
   ]
  },
  {
   "cell_type": "code",
   "execution_count": null,
   "id": "fa5276f7",
   "metadata": {},
   "outputs": [],
   "source": [
    "source = pd.DataFrame(df.producto.value_counts()).reset_index().rename(columns={\"index\":\"Producto\", \"producto\":\"Frequency\"})\n",
    "source"
   ]
  },
  {
   "cell_type": "code",
   "execution_count": null,
   "id": "fc23514e",
   "metadata": {},
   "outputs": [],
   "source": [
    "# price, general plot\n",
    "alt.Chart(source).mark_bar().encode(\n",
    "    alt.X('Producto',  sort='-y'),\n",
    "    alt.Y('Frequency', title=\"Frecuencia\"),\n",
    "    alt.Color('Producto', legend=None),\n",
    "    tooltip=['Producto', 'Frequency']\n",
    ").properties(title=\"Frecuencia de productos\")"
   ]
  },
  {
   "cell_type": "markdown",
   "id": "d27be199",
   "metadata": {},
   "source": [
    "### Category"
   ]
  },
  {
   "cell_type": "code",
   "execution_count": null,
   "id": "d255d58a",
   "metadata": {},
   "outputs": [],
   "source": [
    "source = pd.DataFrame(df.category.value_counts()).reset_index().rename(columns={\"index\":\"Category\", \"category\":\"Frequency\"})\n",
    "source"
   ]
  },
  {
   "cell_type": "code",
   "execution_count": null,
   "id": "1d11bf5d",
   "metadata": {},
   "outputs": [],
   "source": [
    "# price, general plot\n",
    "alt.Chart(source).mark_bar().encode(\n",
    "    alt.X('Category',  sort='-y', title=\"Categoría\"),\n",
    "    alt.Y('Frequency', title=\"Frecuencia\"),\n",
    "    alt.Color('Category', legend=None),\n",
    "    tooltip=['Category', 'Frequency']\n",
    ").properties(title=\"Frecuencia de categorías\")"
   ]
  },
  {
   "cell_type": "markdown",
   "id": "213fa94a",
   "metadata": {},
   "source": [
    "### Precio promedio por producto a lo largo del tiempo\n",
    "#### _Price, Date & Producto_"
   ]
  },
  {
   "cell_type": "code",
   "execution_count": null,
   "id": "4cced1c7",
   "metadata": {},
   "outputs": [],
   "source": [
    "source = pd.pivot_table(df, index=[\"date\", \"producto\"], values=[\"price\"], aggfunc=np.mean, fill_value=0).reset_index()\n",
    "source"
   ]
  },
  {
   "cell_type": "code",
   "execution_count": null,
   "id": "c7b6c4f7",
   "metadata": {},
   "outputs": [],
   "source": [
    "# Gráfica integrada\n",
    "plot = alt.Chart(source).mark_line(size = 4).encode(\n",
    "    alt.X('date:T', title=\"Fecha\"),\n",
    "    alt.Y('price:Q', title=\"Precio\"),\n",
    "    alt.Color('producto:N', title=\"Producto\")).properties(title=\"Precio promedio de productos a lo largo del tiempo\",\n",
    "                width=400, height=300\n",
    "    )\n",
    "plot"
   ]
  },
  {
   "cell_type": "code",
   "execution_count": null,
   "id": "bd2bd4ef",
   "metadata": {},
   "outputs": [],
   "source": [
    "# Gráfica por producto\n",
    "plot.properties(width=200, height=200).facet(alt.Facet('producto:N', title=None),\n",
    "            columns=3\n",
    "    ).resolve_axis(\n",
    "        x='independent',\n",
    "        y='independent'\n",
    "    ).resolve_scale(\n",
    "        x='independent', \n",
    "        y='independent'\n",
    ").properties(title={\n",
    "      \"text\": [\"Precio promedio por producto a lo largo del tiempo\"], \n",
    "      \"subtitle\": [\"Escalas independientes\"],\n",
    "      \"color\": \"black\",\n",
    "      \"subtitleColor\": \"grey\"}\n",
    "    )"
   ]
  },
  {
   "cell_type": "markdown",
   "id": "d69b3e27",
   "metadata": {},
   "source": [
    "### Precio promedio por categoría de los productos a lo largo del tiempo\n",
    "#### _Price, Date & Category_"
   ]
  },
  {
   "cell_type": "code",
   "execution_count": null,
   "id": "5b90b128",
   "metadata": {},
   "outputs": [],
   "source": [
    "source = pd.pivot_table(df, index=[\"date\", \"category\"], values=[\"price\"],\n",
    "                        aggfunc=np.mean, fill_value=0).reset_index()\n",
    "source"
   ]
  },
  {
   "cell_type": "code",
   "execution_count": null,
   "id": "d689776d",
   "metadata": {},
   "outputs": [],
   "source": [
    "# Gráfica integrada\n",
    "plot = alt.Chart(source).mark_line(size = 4).encode(\n",
    "    alt.X('date:T', title=\"Fecha\"),\n",
    "    alt.Y('price:Q', title=\"Precio\"),\n",
    "    alt.Color('category:N', title=\"Categoría\")).properties(title=\"Precio promedio por categoría a lo largo del tiempo\",\n",
    "                width=400, height=300\n",
    "    )\n",
    "plot"
   ]
  },
  {
   "cell_type": "code",
   "execution_count": null,
   "id": "a4415521",
   "metadata": {},
   "outputs": [],
   "source": [
    "# Gráfica por producto\n",
    "plot.properties(width=200, height=200).facet(alt.Facet('category:N', title=None),\n",
    "            columns=3\n",
    "    ).resolve_axis(\n",
    "        x='independent',\n",
    "        y='independent'\n",
    "    ).resolve_scale(\n",
    "        x='independent', \n",
    "        y='independent'\n",
    ").properties(title={\n",
    "      \"text\": [\"Precio promedio por categoría a lo largo del tiempo\"], \n",
    "      \"subtitle\": [\"Escalas independientes\"],\n",
    "      \"color\": \"black\",\n",
    "      \"subtitleColor\": \"grey\"}         \n",
    ")"
   ]
  },
  {
   "cell_type": "markdown",
   "id": "2a2efb9d",
   "metadata": {},
   "source": [
    "### Precios de la categoría _'meat, fish & eggs'_ por mes y año"
   ]
  },
  {
   "cell_type": "code",
   "execution_count": null,
   "id": "98391088",
   "metadata": {},
   "outputs": [],
   "source": [
    "source = df[df.category==\"meat, fish and eggs\"].reset_index()\n",
    "\n",
    "# para la gráfica cree dos variables nuevas: mes y año\n",
    "source['year'] = pd.DatetimeIndex(source['date']).year\n",
    "source['month'] = pd.DatetimeIndex(source['date']).month\n",
    "print(\"\\nLa categoría 'meat, fish and eggs' tiene un total de\", len(source), \"registros.\\n\")\n",
    "source.head()"
   ]
  },
  {
   "cell_type": "code",
   "execution_count": null,
   "id": "20e6e0be",
   "metadata": {},
   "outputs": [],
   "source": [
    "alt.Chart(source).mark_rect().encode(\n",
    "    alt.X(\"month:O\", title = \"Mes\", axis = alt.Axis(labelAngle = 0)),\n",
    "    alt.Y('year:O', title = \"Año\", sort=\"-y\"),\n",
    "    alt.Color('price:Q', title = \"Precio\"),\n",
    "    tooltip=['year', 'month', 'price']\n",
    ").properties(title={\n",
    "    \"text\": [\"Precios de categoría proteínas\"], \n",
    "    \"subtitle\": [\"category: 'meat, fish and eggs'\"],\n",
    "    \"color\": \"black\",\n",
    "    \"subtitleColor\": \"grey\"},\n",
    "             width=400, height=200)"
   ]
  },
  {
   "cell_type": "markdown",
   "id": "cb60ffd0",
   "metadata": {},
   "source": [
    "### Precios de productos por categoría y año"
   ]
  },
  {
   "cell_type": "code",
   "execution_count": null,
   "id": "88d55065",
   "metadata": {},
   "outputs": [],
   "source": [
    "source = df.reset_index()\n",
    "source['year'] = pd.DatetimeIndex(source['date']).year\n",
    "source = pd.pivot_table(source, index=[\"producto\", \"category\", \"year\"], values=[\"price\"],\n",
    "                        aggfunc=np.mean, fill_value=0).reset_index()\n",
    "source"
   ]
  },
  {
   "cell_type": "code",
   "execution_count": null,
   "id": "fc0f131d",
   "metadata": {},
   "outputs": [],
   "source": [
    "alt.Chart(source).mark_point(opacity=0.8, size=100).encode(\n",
    "    alt.X(\"price\", title = \"Precio\", axis = alt.Axis(labelAngle = 0)),\n",
    "    alt.Y('producto', title = \"Producto\", sort=\"-y\"),\n",
    "    alt.Shape('category:N', title=\"Categoría\"),\n",
    "    alt.Color('year:N', title=\"Año\"),\n",
    "    tooltip=['producto', 'category', 'year', 'price']\n",
    ").properties(title=\"Precios de productos por categoría y año\", width=400, height=400)"
   ]
  },
  {
   "cell_type": "markdown",
   "id": "2bfcaf91",
   "metadata": {},
   "source": [
    "## 6. Comentarios adicionales\n",
    "\n",
    "- EDA un proceso iterativo:\n",
    "    - esto debido a que mientras vamos realizando el análisis nos damos cuenta de diversas situaciones o acciones que pueden mejorar nuestra base de datos, como limpiar alguna variable, transformar una variable ya sea en variables numéricas, categóricas o agrupandolas, y mientras más entedamos la base de datos será más fácil trabajar con ellas y realizar mejoras.\n",
    "    \n",
    "    - Tener cuidado ⚠️ porque, el EDA al ser un proceso iterativo, podemos \"envolvernos\" en este proceso y utilizar más tiempo del necesario en esta etapa, lo cual podría tener un impacto en el tiempo de entrega del proyecto.\n",
    "    \n",
    "- Además, dependiendo del objetivo del proyecto, se pueden integrar varias bases de datos que se complementen. Por ejemplo, en la base de datos que trabajamos con información de precios de productos básicos de Pakistán, se podría integrar:\n",
    "\n",
    "    - información *macroeconómica* para ver si estos precios tienen efecto en la economía del país (duuuh, claro!),\n",
    "    - información *meteorológica* para comparar si los precios se vieron afectados por lluvia, sequía, terremotos, ...\n",
    "    - bases de datos *de inseguridad y de desemplo* para identificar si tuvo efectos sociales, \n",
    "    - bases de datos *demográficas* para identificar los movimientos en precios afectaron las tasas de ancimientos o mortalidad, etc."
   ]
  },
  {
   "cell_type": "markdown",
   "id": "87e57c10",
   "metadata": {},
   "source": [
    "## 7. Referencias\n",
    "- J. VanderPlas. (2016). [Python Data Science Handbook](https://jakevdp.github.io/PythonDataScienceHandbook/). O'Reilly Media.\n",
    "\n",
    "- UBC MDS. (2019). Material público de los cursos [Programación en Python para Data Science](https://github.com/UBC-MDS/DSCI_531_viz-1) y [Visualización de datos I](https://github.com/UBC-MDS/DSCI_531_viz-1) del _Master in Data Science_ de UBC.\n",
    "\n",
    "- K. Katari. (Aug 21, 2020).[Exploratory Data Analysis(EDA): Python](https://towardsdatascience.com/exploratory-data-analysis-eda-python-87178e35b14). Towards Data Science. \n",
    "\n",
    "- J.M. Reid. (Oct 14, 2021). [13 ways to access data in Python](https://towardsdatascience.com/13-ways-to-access-data-in-python-bac5683e0063). Towards Data Science. \n",
    "\n",
    "- A.K. Garg, V. Cuspinera-Contreras, Y. Qian. (Oct 2020). [Bike Sharing Machine Learning Model, EDA section](https://github.com/vcuspinera/MDS_Bike_Sharing/blob/master/eda/EDA.ipynb).\n",
    "\n",
    "- Pure Storage, Inc. (2022). [Datos estructurados frente a datos no estructurados](https://www.purestorage.com/la/knowledge/big-data/structured-vs-unstructured-data.html).\n",
    "\n"
   ]
  },
  {
   "cell_type": "code",
   "execution_count": null,
   "id": "a5016ccd",
   "metadata": {},
   "outputs": [],
   "source": []
  }
 ],
 "metadata": {
  "kernelspec": {
   "display_name": "Python 3",
   "language": "python",
   "name": "python3"
  },
  "language_info": {
   "codemirror_mode": {
    "name": "ipython",
    "version": 3
   },
   "file_extension": ".py",
   "mimetype": "text/x-python",
   "name": "python",
   "nbconvert_exporter": "python",
   "pygments_lexer": "ipython3",
   "version": "3.7.7"
  }
 },
 "nbformat": 4,
 "nbformat_minor": 5
}
