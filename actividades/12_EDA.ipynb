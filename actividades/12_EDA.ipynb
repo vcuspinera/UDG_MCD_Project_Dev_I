{
 "cells": [
  {
   "cell_type": "markdown",
   "id": "872651b3",
   "metadata": {},
   "source": [
    "# 12 • Análisis exploratorio de datos (EDA)\n",
    "El EDA es una herramienta de análisis para una revisión iterativa de las bases de datos con la cual describimos las principales características usando estadística descriptiva y visualización de datos.\n",
    "\n",
    "## Contenido\n",
    "1. Fuentes de datos\n",
    "2. Descripción de los datos\n",
    "3. Limpieza de datos\n",
    "4. Missing values\n",
    "5. Visualización de datos\n",
    "6. EDA un proceso iterativo\n",
    "7. Referencias\n",
    "\n",
    "## 1. Fuentes de datos\n",
    "Existen distintas fuentes de información qu epodemos utilizar para nuestros proyectos, en función de la problemática que inetntemos resolver.\n",
    "\n",
    "### Datos estructurados y no estructurados\n",
    "Las fuentes de información las podemos encontra en distintos formatos como base de datos estructuradas y no estructuradas.\n",
    "\n",
    "Las bases de __datos estructurados__ es información que suele estar presentada en forma de tablas, clasificadas y algunas veces relacionadas. Estas bases de datos son guardadas en Excel o SQL. Algunos formatos son `xls`, `csv`, `json`, entre otros.\n",
    "\n",
    "Por otro lado, los __datos no estructurados__ contienen una colección de datos sin una estructura específica y pueden estar en distintos formatos como texto, audio, imagen o video, es decir, archivos con terminación `doc`, `pdf`, `mp3`, `mp4`, etc. \n",
    "\n",
    "### Privadas y públicas\n",
    "Las fuentes de datos pueden provenir de información __privada__ que manejan las empresas en sus bases de datos internas, las cuales pueden contener datos personales. En caso de utilizar estas bases de datos, se recomienda darle un tratamiento para no compartir información personal sensible de trabajadores, clientes, empresas, etc.\n",
    "\n",
    "Las fuentes de datos __públicas__ son publicadas por instituciones públicas, empresas, fundaciones u organizaciones. Alguna de esta información proviene de fuentes oficiales como entidades gubernamentales, bancos centrales, organizaciones inetrnacionales. A continuación comparto algunos lugares donde se puede encontrar fuentes de información pública:\n",
    "\n",
    "#### México\n",
    "- [INEGI](https://www.inegi.org.mx/datosabiertos/)\n",
    "- [Gobierno de México](https://datos.gob.mx/busca/dataset)\n",
    "- [Banco de México](https://www.banxico.org.mx/SieInternet/)\n",
    "- [IMSS](http://datos.imss.gob.mx)\n",
    "\n",
    "\n",
    "#### Mundiales\n",
    "- [United Nations](https://data.un.org)\n",
    "- [U.S. Government’s open data](https://data.gov)\n",
    "- [The World Bank](https://data.worldbank.org)\n",
    "- [OECD.org](https://stats.oecd.org)\n",
    "- [World Health Organization](https://www.who.int/data/gho)\n",
    "- [Common Data Set Initiative](https://commondataset.org)\n",
    "- [International Monetary Fund](https://www.imf.org/en/Data)\n",
    "- [Human Development Index](https://hdr.undp.org/data-center)\n",
    "- [European Commission Eurostat](https://ec.europa.eu/eurostat/data/database)\n",
    "- [India Human Development Survey](https://ihds.umd.edu/data)\n",
    "- [Open Data Pakistan](https://opendata.com.pk/dataset)\n",
    "\n",
    "#### Otras fuentes\n",
    "- [Kaggle datasets](https://www.kaggle.com/datasets)\n",
    "- [Hugging Face](https://huggingface.co/datasets)\n",
    "- [FiveThirtyEight](https://data.fivethirtyeight.com)\n",
    "- [Awesome Public Datasets en GitHub](https://github.com/awesomedata/awesome-public-datasets)\n",
    "- [University of Cambridge](https://www.data.cam.ac.uk/repository#University%20repository)"
   ]
  },
  {
   "cell_type": "code",
   "execution_count": 1,
   "id": "ea807932",
   "metadata": {},
   "outputs": [],
   "source": [
    "# Import libraries\n",
    "import pandas as pd\n",
    "import numpy as np\n",
    "import altair as alt\n",
    "from datetime import datetime"
   ]
  },
  {
   "cell_type": "markdown",
   "id": "8fc9bcf0",
   "metadata": {},
   "source": [
    "Para este ejercicio utilizaremos la siguiente base de datos: [Pakistan Food Prices](https://opendata.com.pk/dataset/pakistan-food-prices).\n",
    "\n",
    "Esta base de datos contiene información de precios de comida en Pakistan, a partir de 2004, provenientes del \"World Food Programme\" y contiene precios de productos como maíz, arroz, frijoles, pescado, azúcar. "
   ]
  },
  {
   "cell_type": "code",
   "execution_count": 2,
   "id": "0540687d",
   "metadata": {},
   "outputs": [],
   "source": [
    "# Load dataset\n",
    "file = \"https://opendata.com.pk/dataset/ec1f8db6-4f93-4d11-b062-c38ac2a5d603/resource/9b42d48c-b689-44ca-a1df-8cf919c5e1d4/download/wfp_food_prices_pakistan.csv\"\n",
    "df_0 = pd.read_csv(file)"
   ]
  },
  {
   "cell_type": "markdown",
   "id": "ef37d336",
   "metadata": {},
   "source": [
    "## 2. Descripción de los datos"
   ]
  },
  {
   "cell_type": "code",
   "execution_count": 3,
   "id": "803b311a",
   "metadata": {},
   "outputs": [
    {
     "data": {
      "text/plain": [
       "{'date': '#date',\n",
       " 'cmname': '#item+name',\n",
       " 'unit': '#item+unit',\n",
       " 'category': '#item+type',\n",
       " 'price': '#value',\n",
       " 'currency': '#currency',\n",
       " 'country': '#country+name',\n",
       " 'admname': '#adm1+name',\n",
       " 'adm1id': '#adm1+code',\n",
       " 'mktname': '#name+market',\n",
       " 'mktid': nan,\n",
       " 'cmid': '#item+code',\n",
       " 'ptid': nan,\n",
       " 'umid': nan,\n",
       " 'catid': '#item+type+code',\n",
       " 'sn': '#meta+id',\n",
       " 'default': nan}"
      ]
     },
     "execution_count": 3,
     "metadata": {},
     "output_type": "execute_result"
    }
   ],
   "source": [
    "# Save the description of variables\n",
    "description = df_0.iloc[0].to_dict()\n",
    "description"
   ]
  },
  {
   "cell_type": "code",
   "execution_count": 4,
   "id": "8bbb168b",
   "metadata": {},
   "outputs": [
    {
     "data": {
      "text/html": [
       "<div>\n",
       "<style scoped>\n",
       "    .dataframe tbody tr th:only-of-type {\n",
       "        vertical-align: middle;\n",
       "    }\n",
       "\n",
       "    .dataframe tbody tr th {\n",
       "        vertical-align: top;\n",
       "    }\n",
       "\n",
       "    .dataframe thead th {\n",
       "        text-align: right;\n",
       "    }\n",
       "</style>\n",
       "<table border=\"1\" class=\"dataframe\">\n",
       "  <thead>\n",
       "    <tr style=\"text-align: right;\">\n",
       "      <th></th>\n",
       "      <th>date</th>\n",
       "      <th>cmname</th>\n",
       "      <th>unit</th>\n",
       "      <th>category</th>\n",
       "      <th>price</th>\n",
       "      <th>currency</th>\n",
       "      <th>country</th>\n",
       "      <th>admname</th>\n",
       "      <th>adm1id</th>\n",
       "      <th>mktname</th>\n",
       "      <th>mktid</th>\n",
       "      <th>cmid</th>\n",
       "      <th>ptid</th>\n",
       "      <th>umid</th>\n",
       "      <th>catid</th>\n",
       "      <th>sn</th>\n",
       "      <th>default</th>\n",
       "    </tr>\n",
       "  </thead>\n",
       "  <tbody>\n",
       "    <tr>\n",
       "      <th>1</th>\n",
       "      <td>2004-01-15</td>\n",
       "      <td>Wheat flour - Retail</td>\n",
       "      <td>KG</td>\n",
       "      <td>cereals and tubers</td>\n",
       "      <td>13.0</td>\n",
       "      <td>PKR</td>\n",
       "      <td>Pakistan</td>\n",
       "      <td>Balochistan</td>\n",
       "      <td>2272</td>\n",
       "      <td>Quetta</td>\n",
       "      <td>295.0</td>\n",
       "      <td>58</td>\n",
       "      <td>15.0</td>\n",
       "      <td>5.0</td>\n",
       "      <td>1</td>\n",
       "      <td>295_58_15_5</td>\n",
       "      <td>NaN</td>\n",
       "    </tr>\n",
       "    <tr>\n",
       "      <th>2</th>\n",
       "      <td>2004-02-15</td>\n",
       "      <td>Wheat flour - Retail</td>\n",
       "      <td>KG</td>\n",
       "      <td>cereals and tubers</td>\n",
       "      <td>13.0</td>\n",
       "      <td>PKR</td>\n",
       "      <td>Pakistan</td>\n",
       "      <td>Balochistan</td>\n",
       "      <td>2272</td>\n",
       "      <td>Quetta</td>\n",
       "      <td>295.0</td>\n",
       "      <td>58</td>\n",
       "      <td>15.0</td>\n",
       "      <td>5.0</td>\n",
       "      <td>1</td>\n",
       "      <td>295_58_15_5</td>\n",
       "      <td>NaN</td>\n",
       "    </tr>\n",
       "    <tr>\n",
       "      <th>3</th>\n",
       "      <td>2004-03-15</td>\n",
       "      <td>Wheat flour - Retail</td>\n",
       "      <td>KG</td>\n",
       "      <td>cereals and tubers</td>\n",
       "      <td>14.25</td>\n",
       "      <td>PKR</td>\n",
       "      <td>Pakistan</td>\n",
       "      <td>Balochistan</td>\n",
       "      <td>2272</td>\n",
       "      <td>Quetta</td>\n",
       "      <td>295.0</td>\n",
       "      <td>58</td>\n",
       "      <td>15.0</td>\n",
       "      <td>5.0</td>\n",
       "      <td>1</td>\n",
       "      <td>295_58_15_5</td>\n",
       "      <td>NaN</td>\n",
       "    </tr>\n",
       "    <tr>\n",
       "      <th>4</th>\n",
       "      <td>2004-04-15</td>\n",
       "      <td>Wheat flour - Retail</td>\n",
       "      <td>KG</td>\n",
       "      <td>cereals and tubers</td>\n",
       "      <td>12.5</td>\n",
       "      <td>PKR</td>\n",
       "      <td>Pakistan</td>\n",
       "      <td>Balochistan</td>\n",
       "      <td>2272</td>\n",
       "      <td>Quetta</td>\n",
       "      <td>295.0</td>\n",
       "      <td>58</td>\n",
       "      <td>15.0</td>\n",
       "      <td>5.0</td>\n",
       "      <td>1</td>\n",
       "      <td>295_58_15_5</td>\n",
       "      <td>NaN</td>\n",
       "    </tr>\n",
       "    <tr>\n",
       "      <th>5</th>\n",
       "      <td>2004-05-15</td>\n",
       "      <td>Wheat flour - Retail</td>\n",
       "      <td>KG</td>\n",
       "      <td>cereals and tubers</td>\n",
       "      <td>13.25</td>\n",
       "      <td>PKR</td>\n",
       "      <td>Pakistan</td>\n",
       "      <td>Balochistan</td>\n",
       "      <td>2272</td>\n",
       "      <td>Quetta</td>\n",
       "      <td>295.0</td>\n",
       "      <td>58</td>\n",
       "      <td>15.0</td>\n",
       "      <td>5.0</td>\n",
       "      <td>1</td>\n",
       "      <td>295_58_15_5</td>\n",
       "      <td>NaN</td>\n",
       "    </tr>\n",
       "  </tbody>\n",
       "</table>\n",
       "</div>"
      ],
      "text/plain": [
       "         date                cmname unit            category  price currency  \\\n",
       "1  2004-01-15  Wheat flour - Retail   KG  cereals and tubers   13.0      PKR   \n",
       "2  2004-02-15  Wheat flour - Retail   KG  cereals and tubers   13.0      PKR   \n",
       "3  2004-03-15  Wheat flour - Retail   KG  cereals and tubers  14.25      PKR   \n",
       "4  2004-04-15  Wheat flour - Retail   KG  cereals and tubers   12.5      PKR   \n",
       "5  2004-05-15  Wheat flour - Retail   KG  cereals and tubers  13.25      PKR   \n",
       "\n",
       "    country      admname adm1id mktname  mktid cmid  ptid  umid catid  \\\n",
       "1  Pakistan  Balochistan   2272  Quetta  295.0   58  15.0   5.0     1   \n",
       "2  Pakistan  Balochistan   2272  Quetta  295.0   58  15.0   5.0     1   \n",
       "3  Pakistan  Balochistan   2272  Quetta  295.0   58  15.0   5.0     1   \n",
       "4  Pakistan  Balochistan   2272  Quetta  295.0   58  15.0   5.0     1   \n",
       "5  Pakistan  Balochistan   2272  Quetta  295.0   58  15.0   5.0     1   \n",
       "\n",
       "            sn  default  \n",
       "1  295_58_15_5      NaN  \n",
       "2  295_58_15_5      NaN  \n",
       "3  295_58_15_5      NaN  \n",
       "4  295_58_15_5      NaN  \n",
       "5  295_58_15_5      NaN  "
      ]
     },
     "execution_count": 4,
     "metadata": {},
     "output_type": "execute_result"
    }
   ],
   "source": [
    "# Head of database (& drop description's row)\n",
    "df = df_0.drop([0])\n",
    "df.head()"
   ]
  },
  {
   "cell_type": "code",
   "execution_count": 5,
   "id": "7f855da3",
   "metadata": {},
   "outputs": [
    {
     "data": {
      "text/plain": [
       "Index(['date', 'cmname', 'unit', 'category', 'price', 'currency', 'country',\n",
       "       'admname', 'adm1id', 'mktname', 'mktid', 'cmid', 'ptid', 'umid',\n",
       "       'catid', 'sn', 'default'],\n",
       "      dtype='object')"
      ]
     },
     "execution_count": 5,
     "metadata": {},
     "output_type": "execute_result"
    }
   ],
   "source": [
    "# Variables\n",
    "df.columns"
   ]
  },
  {
   "cell_type": "code",
   "execution_count": 29,
   "id": "f55c352c",
   "metadata": {},
   "outputs": [
    {
     "name": "stdout",
     "output_type": "stream",
     "text": [
      "<class 'pandas.core.frame.DataFrame'>\n",
      "RangeIndex: 7662 entries, 0 to 7661\n",
      "Data columns (total 15 columns):\n",
      " #   Column    Non-Null Count  Dtype         \n",
      "---  ------    --------------  -----         \n",
      " 0   date      7662 non-null   datetime64[ns]\n",
      " 1   cmname    7662 non-null   object        \n",
      " 2   unit      7662 non-null   object        \n",
      " 3   category  7662 non-null   object        \n",
      " 4   price     7662 non-null   float64       \n",
      " 5   currency  7662 non-null   object        \n",
      " 6   country   7662 non-null   object        \n",
      " 7   admname   7662 non-null   object        \n",
      " 8   adm1id    7662 non-null   int64         \n",
      " 9   mktname   7662 non-null   object        \n",
      " 10  mktid     7662 non-null   float64       \n",
      " 11  cmid      7662 non-null   int64         \n",
      " 12  umid      7662 non-null   float64       \n",
      " 13  catid     7662 non-null   int64         \n",
      " 14  sn        7662 non-null   object        \n",
      "dtypes: datetime64[ns](1), float64(3), int64(3), object(8)\n",
      "memory usage: 898.0+ KB\n"
     ]
    }
   ],
   "source": [
    "# Información general\n",
    "df.info()"
   ]
  },
  {
   "cell_type": "code",
   "execution_count": 6,
   "id": "63df0ff1",
   "metadata": {},
   "outputs": [
    {
     "data": {
      "text/html": [
       "<div>\n",
       "<style scoped>\n",
       "    .dataframe tbody tr th:only-of-type {\n",
       "        vertical-align: middle;\n",
       "    }\n",
       "\n",
       "    .dataframe tbody tr th {\n",
       "        vertical-align: top;\n",
       "    }\n",
       "\n",
       "    .dataframe thead th {\n",
       "        text-align: right;\n",
       "    }\n",
       "</style>\n",
       "<table border=\"1\" class=\"dataframe\">\n",
       "  <thead>\n",
       "    <tr style=\"text-align: right;\">\n",
       "      <th></th>\n",
       "      <th>mktid</th>\n",
       "      <th>ptid</th>\n",
       "      <th>umid</th>\n",
       "      <th>default</th>\n",
       "    </tr>\n",
       "  </thead>\n",
       "  <tbody>\n",
       "    <tr>\n",
       "      <th>count</th>\n",
       "      <td>7662.000000</td>\n",
       "      <td>7662.0</td>\n",
       "      <td>7662.000000</td>\n",
       "      <td>0.0</td>\n",
       "    </tr>\n",
       "    <tr>\n",
       "      <th>mean</th>\n",
       "      <td>292.975333</td>\n",
       "      <td>15.0</td>\n",
       "      <td>9.745236</td>\n",
       "      <td>NaN</td>\n",
       "    </tr>\n",
       "    <tr>\n",
       "      <th>std</th>\n",
       "      <td>1.404504</td>\n",
       "      <td>0.0</td>\n",
       "      <td>10.767328</td>\n",
       "      <td>NaN</td>\n",
       "    </tr>\n",
       "    <tr>\n",
       "      <th>min</th>\n",
       "      <td>291.000000</td>\n",
       "      <td>15.0</td>\n",
       "      <td>5.000000</td>\n",
       "      <td>NaN</td>\n",
       "    </tr>\n",
       "    <tr>\n",
       "      <th>25%</th>\n",
       "      <td>292.000000</td>\n",
       "      <td>15.0</td>\n",
       "      <td>5.000000</td>\n",
       "      <td>NaN</td>\n",
       "    </tr>\n",
       "    <tr>\n",
       "      <th>50%</th>\n",
       "      <td>293.000000</td>\n",
       "      <td>15.0</td>\n",
       "      <td>5.000000</td>\n",
       "      <td>NaN</td>\n",
       "    </tr>\n",
       "    <tr>\n",
       "      <th>75%</th>\n",
       "      <td>294.000000</td>\n",
       "      <td>15.0</td>\n",
       "      <td>5.000000</td>\n",
       "      <td>NaN</td>\n",
       "    </tr>\n",
       "    <tr>\n",
       "      <th>max</th>\n",
       "      <td>295.000000</td>\n",
       "      <td>15.0</td>\n",
       "      <td>51.000000</td>\n",
       "      <td>NaN</td>\n",
       "    </tr>\n",
       "  </tbody>\n",
       "</table>\n",
       "</div>"
      ],
      "text/plain": [
       "             mktid    ptid         umid  default\n",
       "count  7662.000000  7662.0  7662.000000      0.0\n",
       "mean    292.975333    15.0     9.745236      NaN\n",
       "std       1.404504     0.0    10.767328      NaN\n",
       "min     291.000000    15.0     5.000000      NaN\n",
       "25%     292.000000    15.0     5.000000      NaN\n",
       "50%     293.000000    15.0     5.000000      NaN\n",
       "75%     294.000000    15.0     5.000000      NaN\n",
       "max     295.000000    15.0    51.000000      NaN"
      ]
     },
     "execution_count": 6,
     "metadata": {},
     "output_type": "execute_result"
    }
   ],
   "source": [
    "## Variables cuantitativas\n",
    "df.describe()"
   ]
  },
  {
   "cell_type": "code",
   "execution_count": 7,
   "id": "703d724f",
   "metadata": {},
   "outputs": [
    {
     "data": {
      "text/plain": [
       "date         190\n",
       "cmname        17\n",
       "unit           4\n",
       "category       7\n",
       "price       2988\n",
       "currency       1\n",
       "country        1\n",
       "admname        4\n",
       "adm1id         4\n",
       "mktname        5\n",
       "mktid          5\n",
       "cmid          17\n",
       "ptid           1\n",
       "umid           4\n",
       "catid          7\n",
       "sn            85\n",
       "default        0\n",
       "dtype: int64"
      ]
     },
     "execution_count": 7,
     "metadata": {},
     "output_type": "execute_result"
    }
   ],
   "source": [
    "# Número de términos únicos por variable\n",
    "df.nunique()"
   ]
  },
  {
   "cell_type": "markdown",
   "id": "b2851b22",
   "metadata": {},
   "source": [
    "### Información general de la base de datos"
   ]
  },
  {
   "cell_type": "code",
   "execution_count": 8,
   "id": "9e9fd7af",
   "metadata": {},
   "outputs": [
    {
     "name": "stdout",
     "output_type": "stream",
     "text": [
      "- El rango de fechas va desde 2004-01-15 hasta 2019-10-15.\n"
     ]
    }
   ],
   "source": [
    "# fechas\n",
    "print(\"- El rango de fechas va desde {0} hasta {1}.\".format(df.date.unique().min(), df.date.unique().max()))"
   ]
  },
  {
   "cell_type": "code",
   "execution_count": 9,
   "id": "f1f382b3",
   "metadata": {},
   "outputs": [
    {
     "name": "stdout",
     "output_type": "stream",
     "text": [
      "- En la base de datos se consideraron 17 productos distintos:\n",
      "    * Wheat flour - Retail\n",
      "    * Rice (coarse) - Retail\n",
      "    * Lentils (masur) - Retail\n",
      "    * Milk - Retail\n",
      "    * Oil (cooking) - Retail\n",
      "    * Wheat - Retail\n",
      "    * Eggs - Retail\n",
      "    * Sugar - Retail\n",
      "    * Ghee (artificial) - Retail\n",
      "    * Rice (basmati, broken) - Retail\n",
      "    * Poultry - Retail\n",
      "    * Salt - Retail\n",
      "    * Fuel (diesel) - Retail\n",
      "    * Fuel (petrol-gasoline) - Retail\n",
      "    * Lentils (moong) - Retail\n",
      "    * Beans(mash) - Retail\n",
      "    * Wage (non-qualified labour, non-agricultural) - Retail\n"
     ]
    }
   ],
   "source": [
    "# productos de comida\n",
    "print(\"- En la base de datos se consideraron {0} productos distintos:\".format(len(df.cmname.unique())))\n",
    "for i in df.cmname.unique():\n",
    "    print(\"    * \"+i)"
   ]
  },
  {
   "cell_type": "code",
   "execution_count": 10,
   "id": "d7e47c4d",
   "metadata": {},
   "outputs": [
    {
     "name": "stdout",
     "output_type": "stream",
     "text": [
      "- Las distintas unidades utilizadas: ['KG' 'L' 'Dozen' 'Day']\n"
     ]
    }
   ],
   "source": [
    "# unidades de medición\n",
    "print(\"- Las distintas unidades utilizadas:\", df.unit.unique())"
   ]
  },
  {
   "cell_type": "code",
   "execution_count": 11,
   "id": "c198df33",
   "metadata": {},
   "outputs": [
    {
     "name": "stdout",
     "output_type": "stream",
     "text": [
      "- Las distintas categorías de los productos:\n",
      "    * cereals and tubers\n",
      "    * pulses and nuts\n",
      "    * milk and dairy\n",
      "    * oil and fats\n",
      "    * meat, fish and eggs\n",
      "    * miscellaneous food\n",
      "    * non-food\n"
     ]
    }
   ],
   "source": [
    "# categoría de productos\n",
    "print(\"- Las distintas categorías de los productos:\")\n",
    "for i in df.category.unique():\n",
    "    print(\"    * \"+i)"
   ]
  },
  {
   "cell_type": "code",
   "execution_count": 12,
   "id": "7a308dc3",
   "metadata": {},
   "outputs": [
    {
     "name": "stdout",
     "output_type": "stream",
     "text": [
      "- El rango de precios va de un min 10.0 hasta 997.0, y su promedio es 106.92\n"
     ]
    }
   ],
   "source": [
    "# precios\n",
    "print(\"- El rango de precios va de un min {0} hasta {1}, y su promedio es {2}\".format(df.price.unique().min(),\n",
    "                                                                                      df.price.unique().max(),\n",
    "                                                                 np.round(pd.to_numeric(df.price).mean(), 2)))"
   ]
  },
  {
   "cell_type": "code",
   "execution_count": 13,
   "id": "18f0a137",
   "metadata": {},
   "outputs": [
    {
     "name": "stdout",
     "output_type": "stream",
     "text": [
      "- La moneda utilizada es PKR y los datos corresponden a Pakistan.\n"
     ]
    }
   ],
   "source": [
    "# moneda y país\n",
    "print(\"- La moneda utilizada es {0} y los datos corresponden a {1}.\".format(df.currency.unique()[0],\n",
    "                                                                             df.country.unique()[0]))"
   ]
  },
  {
   "cell_type": "code",
   "execution_count": 14,
   "id": "dadcf7c9",
   "metadata": {},
   "outputs": [
    {
     "name": "stdout",
     "output_type": "stream",
     "text": [
      "- Nombres de unidades administrativas:\n",
      "    * Balochistan\n",
      "    * Khyber Pakhtunkhwa\n",
      "    * Punjab\n",
      "    * Sindh\n",
      "\n",
      "- ID de unidades administrativas:\n",
      "    * 2272\n",
      "    * 2275\n",
      "    * 2276\n",
      "    * 2277\n"
     ]
    }
   ],
   "source": [
    "# administrador de base de datos\n",
    "print(\"- Nombres de unidades administrativas:\")\n",
    "for i in df.admname.unique():\n",
    "    print(\"    * \"+i)\n",
    "\n",
    "print(\"\\n- ID de unidades administrativas:\")\n",
    "for i in df.adm1id.unique():\n",
    "    print(\"    * \"+i)"
   ]
  },
  {
   "cell_type": "code",
   "execution_count": 15,
   "id": "dd161d86",
   "metadata": {},
   "outputs": [
    {
     "name": "stdout",
     "output_type": "stream",
     "text": [
      "- Nombre de los comercios:\n",
      "    * Quetta\n",
      "    * Peshawar\n",
      "    * Lahore\n",
      "    * Multan\n",
      "    * Karachi\n",
      "\n",
      "- ID de los comercios:\n",
      "    * 295\n",
      "    * 294\n",
      "    * 291\n",
      "    * 292\n",
      "    * 293\n"
     ]
    }
   ],
   "source": [
    "# comercios\n",
    "print(\"- Nombre de los comercios:\")\n",
    "for i in df.mktname.unique():\n",
    "    print(\"    * \"+i)\n",
    "\n",
    "print(\"\\n- ID de los comercios:\")\n",
    "for i in df.mktid.unique():\n",
    "    print(\"    * \"+str(int(i)))"
   ]
  },
  {
   "cell_type": "code",
   "execution_count": 16,
   "id": "799e7475",
   "metadata": {},
   "outputs": [
    {
     "name": "stdout",
     "output_type": "stream",
     "text": [
      "- ID de productos: ['58' '60' '61' '81' '82' '84' '92' '97' '106' '122' '138' '185' '284'\n",
      " '285' '325' '326' '465']\n"
     ]
    }
   ],
   "source": [
    "# item codes\n",
    "print(\"- ID de productos:\", df.cmid.unique())"
   ]
  },
  {
   "cell_type": "code",
   "execution_count": 17,
   "id": "7055d2ef",
   "metadata": {},
   "outputs": [
    {
     "name": "stdout",
     "output_type": "stream",
     "text": [
      "- Valores para variable 'ptid': [15.]\n",
      "\n",
      "- Valores para variable 'umid': [ 5. 15. 35. 51.]\n",
      "\n",
      "- Valores para variable 'catid': ['1' '5' '3' '6' '2' '7' '8']\n",
      "\n",
      "- Valores para variable 'default': [nan]\n"
     ]
    }
   ],
   "source": [
    "# información sin identificar\n",
    "print(\"- Valores para variable 'ptid':\",df.ptid.unique())\n",
    "print(\"\\n- Valores para variable 'umid':\",df.umid.unique())\n",
    "print(\"\\n- Valores para variable 'catid':\",df.catid.unique())\n",
    "print(\"\\n- Valores para variable 'default':\",df.default.unique())"
   ]
  },
  {
   "cell_type": "code",
   "execution_count": 18,
   "id": "e162e5db",
   "metadata": {},
   "outputs": [
    {
     "name": "stdout",
     "output_type": "stream",
     "text": [
      "\n",
      "- Valores para variable 'sn': ['295_58_15_5' '295_60_15_5' '295_61_15_5' '295_81_15_15' '295_82_15_15'\n",
      " '295_84_15_5' '295_92_15_35' '295_97_15_5' '295_106_15_5' '295_122_15_5'\n",
      " '295_138_15_5' '295_185_15_5' '295_284_15_15' '295_285_15_15'\n",
      " '295_325_15_5' '295_326_15_5' '295_465_15_51' '294_58_15_5' '294_60_15_5'\n",
      " '294_61_15_5' '294_81_15_15' '294_82_15_15' '294_84_15_5' '294_92_15_35'\n",
      " '294_97_15_5' '294_106_15_5' '294_122_15_5' '294_138_15_5' '294_185_15_5'\n",
      " '294_284_15_15' '294_285_15_15' '294_325_15_5' '294_326_15_5'\n",
      " '294_465_15_51' '291_58_15_5' '291_60_15_5' '291_61_15_5' '291_81_15_15'\n",
      " '291_82_15_15' '291_84_15_5' '291_92_15_35' '291_97_15_5' '291_106_15_5'\n",
      " '291_122_15_5' '291_138_15_5' '291_185_15_5' '291_284_15_15'\n",
      " '291_285_15_15' '291_325_15_5' '291_326_15_5' '291_465_15_51'\n",
      " '292_58_15_5' '292_60_15_5' '292_61_15_5' '292_81_15_15' '292_82_15_15'\n",
      " '292_84_15_5' '292_92_15_35' '292_97_15_5' '292_106_15_5' '292_122_15_5'\n",
      " '292_138_15_5' '292_185_15_5' '292_284_15_15' '292_285_15_15'\n",
      " '292_325_15_5' '292_326_15_5' '292_465_15_51' '293_58_15_5' '293_60_15_5'\n",
      " '293_61_15_5' '293_81_15_15' '293_82_15_15' '293_84_15_5' '293_92_15_35'\n",
      " '293_97_15_5' '293_106_15_5' '293_122_15_5' '293_138_15_5' '293_185_15_5'\n",
      " '293_284_15_15' '293_285_15_15' '293_325_15_5' '293_326_15_5'\n",
      " '293_465_15_51']\n"
     ]
    }
   ],
   "source": [
    "# metadata id\n",
    "print(\"\\n- Valores para variable 'sn':\",df.sn.unique())"
   ]
  },
  {
   "cell_type": "markdown",
   "id": "e90dbeff",
   "metadata": {},
   "source": [
    "## 3. Missing values\n"
   ]
  },
  {
   "cell_type": "code",
   "execution_count": 19,
   "id": "456fdf75",
   "metadata": {},
   "outputs": [
    {
     "data": {
      "text/plain": [
       "date           0\n",
       "cmname         0\n",
       "unit           0\n",
       "category       0\n",
       "price          0\n",
       "currency       0\n",
       "country        0\n",
       "admname        0\n",
       "adm1id         0\n",
       "mktname        0\n",
       "mktid          0\n",
       "cmid           0\n",
       "ptid           0\n",
       "umid           0\n",
       "catid          0\n",
       "sn             0\n",
       "default     7662\n",
       "dtype: int64"
      ]
     },
     "execution_count": 19,
     "metadata": {},
     "output_type": "execute_result"
    }
   ],
   "source": [
    "# Revisar los missing values\n",
    "df.isnull().sum()"
   ]
  },
  {
   "cell_type": "markdown",
   "id": "a097af5c",
   "metadata": {},
   "source": [
    "__Nota:__<br>\n",
    "Ninguna de las variables, con excepción de `default`, tienen valores nulos; para la cual, todos sus valores son nulos (`nan`)."
   ]
  },
  {
   "cell_type": "markdown",
   "id": "64d930a2",
   "metadata": {},
   "source": [
    "## 4. Limpieza de datos\n"
   ]
  },
  {
   "cell_type": "code",
   "execution_count": 20,
   "id": "4e9d1c12",
   "metadata": {},
   "outputs": [],
   "source": [
    "# actualizar index de base de datos\n",
    "df.reset_index(drop=True, inplace=True)"
   ]
  },
  {
   "cell_type": "code",
   "execution_count": 21,
   "id": "f85f6494",
   "metadata": {},
   "outputs": [
    {
     "data": {
      "text/html": [
       "<div>\n",
       "<style scoped>\n",
       "    .dataframe tbody tr th:only-of-type {\n",
       "        vertical-align: middle;\n",
       "    }\n",
       "\n",
       "    .dataframe tbody tr th {\n",
       "        vertical-align: top;\n",
       "    }\n",
       "\n",
       "    .dataframe thead th {\n",
       "        text-align: right;\n",
       "    }\n",
       "</style>\n",
       "<table border=\"1\" class=\"dataframe\">\n",
       "  <thead>\n",
       "    <tr style=\"text-align: right;\">\n",
       "      <th></th>\n",
       "      <th>date</th>\n",
       "      <th>cmname</th>\n",
       "      <th>unit</th>\n",
       "      <th>category</th>\n",
       "      <th>price</th>\n",
       "      <th>currency</th>\n",
       "      <th>country</th>\n",
       "      <th>admname</th>\n",
       "      <th>adm1id</th>\n",
       "      <th>mktname</th>\n",
       "      <th>mktid</th>\n",
       "      <th>cmid</th>\n",
       "      <th>umid</th>\n",
       "      <th>catid</th>\n",
       "      <th>sn</th>\n",
       "    </tr>\n",
       "  </thead>\n",
       "  <tbody>\n",
       "    <tr>\n",
       "      <th>0</th>\n",
       "      <td>2004-01-15</td>\n",
       "      <td>Wheat flour - Retail</td>\n",
       "      <td>KG</td>\n",
       "      <td>cereals and tubers</td>\n",
       "      <td>13.0</td>\n",
       "      <td>PKR</td>\n",
       "      <td>Pakistan</td>\n",
       "      <td>Balochistan</td>\n",
       "      <td>2272</td>\n",
       "      <td>Quetta</td>\n",
       "      <td>295.0</td>\n",
       "      <td>58</td>\n",
       "      <td>5.0</td>\n",
       "      <td>1</td>\n",
       "      <td>295_58_15_5</td>\n",
       "    </tr>\n",
       "    <tr>\n",
       "      <th>1</th>\n",
       "      <td>2004-02-15</td>\n",
       "      <td>Wheat flour - Retail</td>\n",
       "      <td>KG</td>\n",
       "      <td>cereals and tubers</td>\n",
       "      <td>13.0</td>\n",
       "      <td>PKR</td>\n",
       "      <td>Pakistan</td>\n",
       "      <td>Balochistan</td>\n",
       "      <td>2272</td>\n",
       "      <td>Quetta</td>\n",
       "      <td>295.0</td>\n",
       "      <td>58</td>\n",
       "      <td>5.0</td>\n",
       "      <td>1</td>\n",
       "      <td>295_58_15_5</td>\n",
       "    </tr>\n",
       "    <tr>\n",
       "      <th>2</th>\n",
       "      <td>2004-03-15</td>\n",
       "      <td>Wheat flour - Retail</td>\n",
       "      <td>KG</td>\n",
       "      <td>cereals and tubers</td>\n",
       "      <td>14.25</td>\n",
       "      <td>PKR</td>\n",
       "      <td>Pakistan</td>\n",
       "      <td>Balochistan</td>\n",
       "      <td>2272</td>\n",
       "      <td>Quetta</td>\n",
       "      <td>295.0</td>\n",
       "      <td>58</td>\n",
       "      <td>5.0</td>\n",
       "      <td>1</td>\n",
       "      <td>295_58_15_5</td>\n",
       "    </tr>\n",
       "    <tr>\n",
       "      <th>3</th>\n",
       "      <td>2004-04-15</td>\n",
       "      <td>Wheat flour - Retail</td>\n",
       "      <td>KG</td>\n",
       "      <td>cereals and tubers</td>\n",
       "      <td>12.5</td>\n",
       "      <td>PKR</td>\n",
       "      <td>Pakistan</td>\n",
       "      <td>Balochistan</td>\n",
       "      <td>2272</td>\n",
       "      <td>Quetta</td>\n",
       "      <td>295.0</td>\n",
       "      <td>58</td>\n",
       "      <td>5.0</td>\n",
       "      <td>1</td>\n",
       "      <td>295_58_15_5</td>\n",
       "    </tr>\n",
       "    <tr>\n",
       "      <th>4</th>\n",
       "      <td>2004-05-15</td>\n",
       "      <td>Wheat flour - Retail</td>\n",
       "      <td>KG</td>\n",
       "      <td>cereals and tubers</td>\n",
       "      <td>13.25</td>\n",
       "      <td>PKR</td>\n",
       "      <td>Pakistan</td>\n",
       "      <td>Balochistan</td>\n",
       "      <td>2272</td>\n",
       "      <td>Quetta</td>\n",
       "      <td>295.0</td>\n",
       "      <td>58</td>\n",
       "      <td>5.0</td>\n",
       "      <td>1</td>\n",
       "      <td>295_58_15_5</td>\n",
       "    </tr>\n",
       "  </tbody>\n",
       "</table>\n",
       "</div>"
      ],
      "text/plain": [
       "         date                cmname unit            category  price currency  \\\n",
       "0  2004-01-15  Wheat flour - Retail   KG  cereals and tubers   13.0      PKR   \n",
       "1  2004-02-15  Wheat flour - Retail   KG  cereals and tubers   13.0      PKR   \n",
       "2  2004-03-15  Wheat flour - Retail   KG  cereals and tubers  14.25      PKR   \n",
       "3  2004-04-15  Wheat flour - Retail   KG  cereals and tubers   12.5      PKR   \n",
       "4  2004-05-15  Wheat flour - Retail   KG  cereals and tubers  13.25      PKR   \n",
       "\n",
       "    country      admname adm1id mktname  mktid cmid  umid catid           sn  \n",
       "0  Pakistan  Balochistan   2272  Quetta  295.0   58   5.0     1  295_58_15_5  \n",
       "1  Pakistan  Balochistan   2272  Quetta  295.0   58   5.0     1  295_58_15_5  \n",
       "2  Pakistan  Balochistan   2272  Quetta  295.0   58   5.0     1  295_58_15_5  \n",
       "3  Pakistan  Balochistan   2272  Quetta  295.0   58   5.0     1  295_58_15_5  \n",
       "4  Pakistan  Balochistan   2272  Quetta  295.0   58   5.0     1  295_58_15_5  "
      ]
     },
     "execution_count": 21,
     "metadata": {},
     "output_type": "execute_result"
    }
   ],
   "source": [
    "# eliminar variable `default` que sólo tienen NaN, y `ptid` que sólo cuenta con 1 valor (15.)\n",
    "try:\n",
    "    df.drop(columns=['default', 'ptid'], inplace=True)\n",
    "except:\n",
    "    next\n",
    "    \n",
    "df.head()"
   ]
  },
  {
   "cell_type": "code",
   "execution_count": 22,
   "id": "0919b58d",
   "metadata": {},
   "outputs": [
    {
     "data": {
      "text/plain": [
       "date         object\n",
       "cmname       object\n",
       "unit         object\n",
       "category     object\n",
       "price        object\n",
       "currency     object\n",
       "country      object\n",
       "admname      object\n",
       "adm1id       object\n",
       "mktname      object\n",
       "mktid       float64\n",
       "cmid         object\n",
       "umid        float64\n",
       "catid        object\n",
       "sn           object\n",
       "dtype: object"
      ]
     },
     "execution_count": 22,
     "metadata": {},
     "output_type": "execute_result"
    }
   ],
   "source": [
    "# revisar tipo de variable\n",
    "df.dtypes"
   ]
  },
  {
   "cell_type": "code",
   "execution_count": 23,
   "id": "bee2e823",
   "metadata": {},
   "outputs": [
    {
     "data": {
      "text/plain": [
       "date         object\n",
       "cmname       object\n",
       "unit         object\n",
       "category     object\n",
       "price       float64\n",
       "currency     object\n",
       "country      object\n",
       "admname      object\n",
       "adm1id        int64\n",
       "mktname      object\n",
       "mktid       float64\n",
       "cmid          int64\n",
       "umid        float64\n",
       "catid         int64\n",
       "sn           object\n",
       "dtype: object"
      ]
     },
     "execution_count": 23,
     "metadata": {},
     "output_type": "execute_result"
    }
   ],
   "source": [
    "# transformar a variables numéricas:\n",
    "#    price a float; adm1id, cmid y catid a integer\n",
    "try:\n",
    "    df = df.astype({'price':'float','adm1id':'int','cmid':'int','catid':'int'})\n",
    "except:\n",
    "    next\n",
    "    \n",
    "df.dtypes"
   ]
  },
  {
   "cell_type": "code",
   "execution_count": 24,
   "id": "5bb11895",
   "metadata": {},
   "outputs": [],
   "source": [
    "# date\n",
    "try:\n",
    "    df.date = [datetime.strptime(i, '%Y-%m-%d') for i in df.date]\n",
    "except:\n",
    "    next"
   ]
  },
  {
   "cell_type": "code",
   "execution_count": 31,
   "id": "e888816e",
   "metadata": {},
   "outputs": [
    {
     "name": "stdout",
     "output_type": "stream",
     "text": [
      "<class 'pandas.core.frame.DataFrame'>\n",
      "RangeIndex: 7662 entries, 0 to 7661\n",
      "Data columns (total 15 columns):\n",
      " #   Column    Non-Null Count  Dtype         \n",
      "---  ------    --------------  -----         \n",
      " 0   date      7662 non-null   datetime64[ns]\n",
      " 1   cmname    7662 non-null   object        \n",
      " 2   unit      7662 non-null   object        \n",
      " 3   category  7662 non-null   object        \n",
      " 4   price     7662 non-null   float64       \n",
      " 5   currency  7662 non-null   object        \n",
      " 6   country   7662 non-null   object        \n",
      " 7   admname   7662 non-null   object        \n",
      " 8   adm1id    7662 non-null   int64         \n",
      " 9   mktname   7662 non-null   object        \n",
      " 10  mktid     7662 non-null   float64       \n",
      " 11  cmid      7662 non-null   int64         \n",
      " 12  umid      7662 non-null   float64       \n",
      " 13  catid     7662 non-null   int64         \n",
      " 14  sn        7662 non-null   object        \n",
      "dtypes: datetime64[ns](1), float64(3), int64(3), object(8)\n",
      "memory usage: 898.0+ KB\n"
     ]
    }
   ],
   "source": [
    "# Información general, segunda revisión\n",
    "df.info()"
   ]
  },
  {
   "cell_type": "code",
   "execution_count": 32,
   "id": "a2ba30d3",
   "metadata": {},
   "outputs": [
    {
     "data": {
      "text/html": [
       "<div>\n",
       "<style scoped>\n",
       "    .dataframe tbody tr th:only-of-type {\n",
       "        vertical-align: middle;\n",
       "    }\n",
       "\n",
       "    .dataframe tbody tr th {\n",
       "        vertical-align: top;\n",
       "    }\n",
       "\n",
       "    .dataframe thead th {\n",
       "        text-align: right;\n",
       "    }\n",
       "</style>\n",
       "<table border=\"1\" class=\"dataframe\">\n",
       "  <thead>\n",
       "    <tr style=\"text-align: right;\">\n",
       "      <th></th>\n",
       "      <th>price</th>\n",
       "      <th>adm1id</th>\n",
       "      <th>mktid</th>\n",
       "      <th>cmid</th>\n",
       "      <th>umid</th>\n",
       "      <th>catid</th>\n",
       "    </tr>\n",
       "  </thead>\n",
       "  <tbody>\n",
       "    <tr>\n",
       "      <th>count</th>\n",
       "      <td>7662.000000</td>\n",
       "      <td>7662.000000</td>\n",
       "      <td>7662.000000</td>\n",
       "      <td>7662.000000</td>\n",
       "      <td>7662.000000</td>\n",
       "      <td>7662.000000</td>\n",
       "    </tr>\n",
       "    <tr>\n",
       "      <th>mean</th>\n",
       "      <td>106.919688</td>\n",
       "      <td>2275.241321</td>\n",
       "      <td>292.975333</td>\n",
       "      <td>140.657270</td>\n",
       "      <td>9.745236</td>\n",
       "      <td>3.488906</td>\n",
       "    </tr>\n",
       "    <tr>\n",
       "      <th>std</th>\n",
       "      <td>124.318398</td>\n",
       "      <td>1.692555</td>\n",
       "      <td>1.404504</td>\n",
       "      <td>107.135975</td>\n",
       "      <td>10.767328</td>\n",
       "      <td>2.724781</td>\n",
       "    </tr>\n",
       "    <tr>\n",
       "      <th>min</th>\n",
       "      <td>9.000000</td>\n",
       "      <td>2272.000000</td>\n",
       "      <td>291.000000</td>\n",
       "      <td>58.000000</td>\n",
       "      <td>5.000000</td>\n",
       "      <td>1.000000</td>\n",
       "    </tr>\n",
       "    <tr>\n",
       "      <th>25%</th>\n",
       "      <td>36.922500</td>\n",
       "      <td>2275.000000</td>\n",
       "      <td>292.000000</td>\n",
       "      <td>61.000000</td>\n",
       "      <td>5.000000</td>\n",
       "      <td>1.000000</td>\n",
       "    </tr>\n",
       "    <tr>\n",
       "      <th>50%</th>\n",
       "      <td>72.730000</td>\n",
       "      <td>2276.000000</td>\n",
       "      <td>293.000000</td>\n",
       "      <td>97.000000</td>\n",
       "      <td>5.000000</td>\n",
       "      <td>2.000000</td>\n",
       "    </tr>\n",
       "    <tr>\n",
       "      <th>75%</th>\n",
       "      <td>138.397500</td>\n",
       "      <td>2276.000000</td>\n",
       "      <td>294.000000</td>\n",
       "      <td>138.000000</td>\n",
       "      <td>5.000000</td>\n",
       "      <td>6.000000</td>\n",
       "    </tr>\n",
       "    <tr>\n",
       "      <th>max</th>\n",
       "      <td>997.000000</td>\n",
       "      <td>2277.000000</td>\n",
       "      <td>295.000000</td>\n",
       "      <td>465.000000</td>\n",
       "      <td>51.000000</td>\n",
       "      <td>8.000000</td>\n",
       "    </tr>\n",
       "  </tbody>\n",
       "</table>\n",
       "</div>"
      ],
      "text/plain": [
       "             price       adm1id        mktid         cmid         umid  \\\n",
       "count  7662.000000  7662.000000  7662.000000  7662.000000  7662.000000   \n",
       "mean    106.919688  2275.241321   292.975333   140.657270     9.745236   \n",
       "std     124.318398     1.692555     1.404504   107.135975    10.767328   \n",
       "min       9.000000  2272.000000   291.000000    58.000000     5.000000   \n",
       "25%      36.922500  2275.000000   292.000000    61.000000     5.000000   \n",
       "50%      72.730000  2276.000000   293.000000    97.000000     5.000000   \n",
       "75%     138.397500  2276.000000   294.000000   138.000000     5.000000   \n",
       "max     997.000000  2277.000000   295.000000   465.000000    51.000000   \n",
       "\n",
       "             catid  \n",
       "count  7662.000000  \n",
       "mean      3.488906  \n",
       "std       2.724781  \n",
       "min       1.000000  \n",
       "25%       1.000000  \n",
       "50%       2.000000  \n",
       "75%       6.000000  \n",
       "max       8.000000  "
      ]
     },
     "execution_count": 32,
     "metadata": {},
     "output_type": "execute_result"
    }
   ],
   "source": [
    "## Variables cuantitativas, segunda revisión\n",
    "df.describe()"
   ]
  },
  {
   "cell_type": "markdown",
   "id": "4c4e999e",
   "metadata": {},
   "source": [
    "## 5. Visualización de datos\n",
    "Análisis y visualización de la base de datos limpia."
   ]
  },
  {
   "cell_type": "code",
   "execution_count": 138,
   "id": "4f76ce48",
   "metadata": {},
   "outputs": [
    {
     "data": {
      "text/plain": [
       "RendererRegistry.enable('altair_viewer')"
      ]
     },
     "execution_count": 138,
     "metadata": {},
     "output_type": "execute_result"
    }
   ],
   "source": [
    "# Use the following to show altair plots in GitHub:\n",
    "# Source: https://stackoverflow.com/questions/71346406/why-are-my-altair-data-visualizations-not-showing-up-in-github\n",
    "\n",
    "alt.renderers.enable('altair_viewer') # <-- Usual way but not displaying in GitHub\n",
    "# alt.renderers.enable('jupyterlab') # <-- for JupyterLab or\n",
    "#alt.renderers.enable('notebook') # <-- for Jupyter Notebook"
   ]
  },
  {
   "cell_type": "code",
   "execution_count": 132,
   "id": "dee00575",
   "metadata": {},
   "outputs": [
    {
     "data": {
      "text/html": [
       "<div>\n",
       "<style scoped>\n",
       "    .dataframe tbody tr th:only-of-type {\n",
       "        vertical-align: middle;\n",
       "    }\n",
       "\n",
       "    .dataframe tbody tr th {\n",
       "        vertical-align: top;\n",
       "    }\n",
       "\n",
       "    .dataframe thead th {\n",
       "        text-align: right;\n",
       "    }\n",
       "</style>\n",
       "<table border=\"1\" class=\"dataframe\">\n",
       "  <thead>\n",
       "    <tr style=\"text-align: right;\">\n",
       "      <th></th>\n",
       "      <th>date</th>\n",
       "      <th>cmname</th>\n",
       "      <th>unit</th>\n",
       "      <th>category</th>\n",
       "      <th>price</th>\n",
       "      <th>currency</th>\n",
       "      <th>country</th>\n",
       "      <th>admname</th>\n",
       "      <th>adm1id</th>\n",
       "      <th>mktname</th>\n",
       "      <th>mktid</th>\n",
       "      <th>cmid</th>\n",
       "      <th>umid</th>\n",
       "      <th>catid</th>\n",
       "      <th>sn</th>\n",
       "    </tr>\n",
       "  </thead>\n",
       "  <tbody>\n",
       "    <tr>\n",
       "      <th>7657</th>\n",
       "      <td>2019-06-15</td>\n",
       "      <td>Wage (non-qualified labour, non-agricultural) ...</td>\n",
       "      <td>Day</td>\n",
       "      <td>non-food</td>\n",
       "      <td>988.0</td>\n",
       "      <td>PKR</td>\n",
       "      <td>Pakistan</td>\n",
       "      <td>Sindh</td>\n",
       "      <td>2277</td>\n",
       "      <td>Karachi</td>\n",
       "      <td>293.0</td>\n",
       "      <td>465</td>\n",
       "      <td>51.0</td>\n",
       "      <td>8</td>\n",
       "      <td>293_465_15_51</td>\n",
       "    </tr>\n",
       "    <tr>\n",
       "      <th>7658</th>\n",
       "      <td>2019-07-15</td>\n",
       "      <td>Wage (non-qualified labour, non-agricultural) ...</td>\n",
       "      <td>Day</td>\n",
       "      <td>non-food</td>\n",
       "      <td>988.0</td>\n",
       "      <td>PKR</td>\n",
       "      <td>Pakistan</td>\n",
       "      <td>Sindh</td>\n",
       "      <td>2277</td>\n",
       "      <td>Karachi</td>\n",
       "      <td>293.0</td>\n",
       "      <td>465</td>\n",
       "      <td>51.0</td>\n",
       "      <td>8</td>\n",
       "      <td>293_465_15_51</td>\n",
       "    </tr>\n",
       "    <tr>\n",
       "      <th>7659</th>\n",
       "      <td>2019-08-15</td>\n",
       "      <td>Wage (non-qualified labour, non-agricultural) ...</td>\n",
       "      <td>Day</td>\n",
       "      <td>non-food</td>\n",
       "      <td>988.0</td>\n",
       "      <td>PKR</td>\n",
       "      <td>Pakistan</td>\n",
       "      <td>Sindh</td>\n",
       "      <td>2277</td>\n",
       "      <td>Karachi</td>\n",
       "      <td>293.0</td>\n",
       "      <td>465</td>\n",
       "      <td>51.0</td>\n",
       "      <td>8</td>\n",
       "      <td>293_465_15_51</td>\n",
       "    </tr>\n",
       "    <tr>\n",
       "      <th>7660</th>\n",
       "      <td>2019-09-15</td>\n",
       "      <td>Wage (non-qualified labour, non-agricultural) ...</td>\n",
       "      <td>Day</td>\n",
       "      <td>non-food</td>\n",
       "      <td>984.0</td>\n",
       "      <td>PKR</td>\n",
       "      <td>Pakistan</td>\n",
       "      <td>Sindh</td>\n",
       "      <td>2277</td>\n",
       "      <td>Karachi</td>\n",
       "      <td>293.0</td>\n",
       "      <td>465</td>\n",
       "      <td>51.0</td>\n",
       "      <td>8</td>\n",
       "      <td>293_465_15_51</td>\n",
       "    </tr>\n",
       "    <tr>\n",
       "      <th>7661</th>\n",
       "      <td>2019-10-15</td>\n",
       "      <td>Wage (non-qualified labour, non-agricultural) ...</td>\n",
       "      <td>Day</td>\n",
       "      <td>non-food</td>\n",
       "      <td>994.0</td>\n",
       "      <td>PKR</td>\n",
       "      <td>Pakistan</td>\n",
       "      <td>Sindh</td>\n",
       "      <td>2277</td>\n",
       "      <td>Karachi</td>\n",
       "      <td>293.0</td>\n",
       "      <td>465</td>\n",
       "      <td>51.0</td>\n",
       "      <td>8</td>\n",
       "      <td>293_465_15_51</td>\n",
       "    </tr>\n",
       "  </tbody>\n",
       "</table>\n",
       "</div>"
      ],
      "text/plain": [
       "           date                                             cmname unit  \\\n",
       "7657 2019-06-15  Wage (non-qualified labour, non-agricultural) ...  Day   \n",
       "7658 2019-07-15  Wage (non-qualified labour, non-agricultural) ...  Day   \n",
       "7659 2019-08-15  Wage (non-qualified labour, non-agricultural) ...  Day   \n",
       "7660 2019-09-15  Wage (non-qualified labour, non-agricultural) ...  Day   \n",
       "7661 2019-10-15  Wage (non-qualified labour, non-agricultural) ...  Day   \n",
       "\n",
       "      category  price currency   country admname  adm1id  mktname  mktid  \\\n",
       "7657  non-food  988.0      PKR  Pakistan   Sindh    2277  Karachi  293.0   \n",
       "7658  non-food  988.0      PKR  Pakistan   Sindh    2277  Karachi  293.0   \n",
       "7659  non-food  988.0      PKR  Pakistan   Sindh    2277  Karachi  293.0   \n",
       "7660  non-food  984.0      PKR  Pakistan   Sindh    2277  Karachi  293.0   \n",
       "7661  non-food  994.0      PKR  Pakistan   Sindh    2277  Karachi  293.0   \n",
       "\n",
       "      cmid  umid  catid             sn  \n",
       "7657   465  51.0      8  293_465_15_51  \n",
       "7658   465  51.0      8  293_465_15_51  \n",
       "7659   465  51.0      8  293_465_15_51  \n",
       "7660   465  51.0      8  293_465_15_51  \n",
       "7661   465  51.0      8  293_465_15_51  "
      ]
     },
     "execution_count": 132,
     "metadata": {},
     "output_type": "execute_result"
    }
   ],
   "source": [
    "# base de datos limpia\n",
    "df.tail()"
   ]
  },
  {
   "cell_type": "code",
   "execution_count": 133,
   "id": "c3b7c4af",
   "metadata": {},
   "outputs": [
    {
     "name": "stdout",
     "output_type": "stream",
     "text": [
      "<class 'pandas.core.frame.DataFrame'>\n",
      "RangeIndex: 7662 entries, 0 to 7661\n",
      "Data columns (total 15 columns):\n",
      " #   Column    Non-Null Count  Dtype         \n",
      "---  ------    --------------  -----         \n",
      " 0   date      7662 non-null   datetime64[ns]\n",
      " 1   cmname    7662 non-null   object        \n",
      " 2   unit      7662 non-null   object        \n",
      " 3   category  7662 non-null   object        \n",
      " 4   price     7662 non-null   float64       \n",
      " 5   currency  7662 non-null   object        \n",
      " 6   country   7662 non-null   object        \n",
      " 7   admname   7662 non-null   object        \n",
      " 8   adm1id    7662 non-null   int64         \n",
      " 9   mktname   7662 non-null   object        \n",
      " 10  mktid     7662 non-null   float64       \n",
      " 11  cmid      7662 non-null   int64         \n",
      " 12  umid      7662 non-null   float64       \n",
      " 13  catid     7662 non-null   int64         \n",
      " 14  sn        7662 non-null   object        \n",
      "dtypes: datetime64[ns](1), float64(3), int64(3), object(8)\n",
      "memory usage: 898.0+ KB\n"
     ]
    }
   ],
   "source": [
    "df.info()"
   ]
  },
  {
   "cell_type": "markdown",
   "id": "1984adfa",
   "metadata": {},
   "source": [
    "### Price"
   ]
  },
  {
   "cell_type": "code",
   "execution_count": 134,
   "id": "cf52211e",
   "metadata": {},
   "outputs": [],
   "source": [
    "source = pd.DataFrame(df.price.value_counts()).reset_index().rename(columns={\"index\":\"Price\", \"price\":\"Frequency\"})"
   ]
  },
  {
   "cell_type": "code",
   "execution_count": 139,
   "id": "1b61dc15",
   "metadata": {},
   "outputs": [
    {
     "data": {
      "text/html": [
       "Displaying chart at <a href='http://localhost:23999/' target='_blank'>http://localhost:23999/</a>"
      ],
      "text/plain": [
       "Displaying chart at http://localhost:23999/"
      ]
     },
     "execution_count": 139,
     "metadata": {},
     "output_type": "execute_result"
    }
   ],
   "source": [
    "# price, general plot\n",
    "alt.Chart(source).mark_bar().encode(\n",
    "    alt.X('Price'),\n",
    "    alt.Y('Frequency'),\n",
    "    alt.Color('Price', legend=None),\n",
    "    tooltip=['Price', 'Frequency']\n",
    ")"
   ]
  },
  {
   "cell_type": "code",
   "execution_count": 140,
   "id": "9e706ee6",
   "metadata": {},
   "outputs": [
    {
     "data": {
      "text/html": [
       "Displaying chart at <a href='http://localhost:23999/' target='_blank'>http://localhost:23999/</a>"
      ],
      "text/plain": [
       "Displaying chart at http://localhost:23999/"
      ]
     },
     "execution_count": 140,
     "metadata": {},
     "output_type": "execute_result"
    }
   ],
   "source": [
    "# price, histogram\n",
    "alt.Chart(source).mark_bar().encode(\n",
    "    alt.X('Price', bin=True),\n",
    "    alt.Y('Frequency'),\n",
    "    alt.Color('Price', bin=True, legend=None),\n",
    "    tooltip=['Price', 'Frequency']\n",
    ")"
   ]
  },
  {
   "cell_type": "code",
   "execution_count": 141,
   "id": "3dc449e2",
   "metadata": {},
   "outputs": [
    {
     "data": {
      "text/html": [
       "Displaying chart at <a href='http://localhost:23999/' target='_blank'>http://localhost:23999/</a>"
      ],
      "text/plain": [
       "Displaying chart at http://localhost:23999/"
      ]
     },
     "execution_count": 141,
     "metadata": {},
     "output_type": "execute_result"
    }
   ],
   "source": [
    "# price, density function\n",
    "alt.Chart(source).transform_density(\n",
    "    'Price',\n",
    "    as_=['Price', 'density'],\n",
    ").mark_area().encode(\n",
    "    x=\"Price:Q\",\n",
    "    y='density:Q',\n",
    "    tooltip=['Price']\n",
    ")"
   ]
  },
  {
   "cell_type": "code",
   "execution_count": 142,
   "id": "39c090cc",
   "metadata": {},
   "outputs": [
    {
     "data": {
      "text/html": [
       "Displaying chart at <a href='http://localhost:23999/' target='_blank'>http://localhost:23999/</a>"
      ],
      "text/plain": [
       "Displaying chart at http://localhost:23999/"
      ]
     },
     "execution_count": 142,
     "metadata": {},
     "output_type": "execute_result"
    }
   ],
   "source": [
    "# price, log scale density function\n",
    "alt.Chart(source).transform_density(\n",
    "    'Price',\n",
    "    as_=['Price', 'density'],\n",
    ").mark_area().encode(\n",
    "    x=\"Price:Q\",\n",
    "    y=alt.Y('density:Q', scale=alt.Scale(type=\"log\")),\n",
    "    tooltip=['Price']\n",
    ")"
   ]
  },
  {
   "cell_type": "markdown",
   "id": "260c62e0",
   "metadata": {},
   "source": [
    "## 6. EDA un proceso iterativo"
   ]
  },
  {
   "cell_type": "code",
   "execution_count": null,
   "id": "cf8f695e",
   "metadata": {},
   "outputs": [],
   "source": []
  },
  {
   "cell_type": "markdown",
   "id": "df50d432",
   "metadata": {},
   "source": [
    "## 7. Referencias\n",
    "- J. VanderPlas. (2016). [Python Data Science Handbook](https://jakevdp.github.io/PythonDataScienceHandbook/). O'Reilly Media.\n",
    "- K. Katari. (Aug 21, 2020).[\"Exploratory Data Analysis(EDA): Python\"](https://towardsdatascience.com/exploratory-data-analysis-eda-python-87178e35b14). Towards Data Science. \n",
    "- Material público de los cursos [Programación en Python para Data Science](https://github.com/UBC-MDS/DSCI_531_viz-1) y [Visualización de datos I](https://github.com/UBC-MDS/DSCI_531_viz-1) de UBC MDS.\n",
    "- Pure Storage, Inc. (2022). [Datos estructurados frente a datos no estructurados](https://www.purestorage.com/la/knowledge/big-data/structured-vs-unstructured-data.html)."
   ]
  },
  {
   "cell_type": "code",
   "execution_count": null,
   "id": "9e312c27",
   "metadata": {},
   "outputs": [],
   "source": []
  }
 ],
 "metadata": {
  "kernelspec": {
   "display_name": "Python 3",
   "language": "python",
   "name": "python3"
  },
  "language_info": {
   "codemirror_mode": {
    "name": "ipython",
    "version": 3
   },
   "file_extension": ".py",
   "mimetype": "text/x-python",
   "name": "python",
   "nbconvert_exporter": "python",
   "pygments_lexer": "ipython3",
   "version": "3.7.7"
  }
 },
 "nbformat": 4,
 "nbformat_minor": 5
}
