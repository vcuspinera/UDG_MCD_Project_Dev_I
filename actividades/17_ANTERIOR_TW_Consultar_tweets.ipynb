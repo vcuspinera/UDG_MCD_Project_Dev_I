{
 "cells": [
  {
   "cell_type": "markdown",
   "id": "6c880269",
   "metadata": {},
   "source": [
    "# 17 • Consulta de tweets\n",
    "\n",
    "En este notebook se revisará cómo consultar tweets usando Python.\n",
    "\n",
    "## Contenido\n",
    "1. Intro  \n",
    "   1.1. Twitter API   \n",
    "   1.2. Librería `GetOldTweets3`  \n",
    "   1.3. Librería `snscrape`  \n",
    "2. Referencias  "
   ]
  },
  {
   "cell_type": "code",
   "execution_count": 1,
   "id": "b2c76f05",
   "metadata": {},
   "outputs": [],
   "source": [
    "# Import basic libraries\n",
    "import pandas as pd\n",
    "import numpy as np\n",
    "import altair as alt"
   ]
  },
  {
   "cell_type": "markdown",
   "id": "c54c48d5",
   "metadata": {},
   "source": [
    "## 1. Intro\n",
    "Existen distintas librerías para consultar tweets y cada una de ellas tiene sus ventajas y desventajas. La manera oficial es hacerlo a través de la aplicación oficial de Twitter obteniendo acceso como desarrollador (`Twitter API`) para la cual se requiere solicitar una cuenta. Existen algunas alternativas que en lo personal he utilizado, aunque para usarlas hay que familiarizarse con ellas, como `GetOldTweets3` y `snscrape` pues no están tan bien documentadas.\n",
    "\n",
    "Es importante mencionar que las consultas de twitter usualmente arrojan información en formato `json`, los cuales siguen una estructura parecida a los diccionarios de Python y, en caso de guardar estos archivos, se recomienda guardarlos en formato `.json` en el lugar de convertirlos a `.xls`, `.csv`, `.txt` o `npy` para no perder información.\n",
    "\n",
    "### 1.1 Twitter API\n",
    "Esta cuenta no tiene costo, aunque sí existe limitación en número de tweets consultados por día. El primer paso es [solicitar una cuenta de desarrollador](https://developer.twitter.com/en/portal/dashboard). Para quien esté interesado en obtener una cuenta les comparto un par de links que les podrían ser útiles\n",
    "\n",
    "- [How to get TWEETS by Python, Twitter API 2022](https://www.youtube.com/watch?v=Lu1nskBkPJU) por AI Spectrum.\n",
    "- [Twitter API Data Collection](https://www.youtube.com/watch?v=Jl-_dDqSaUQ&t=59s) por Stevesie Data, ver del minuto 0:59 al 1:44.\n",
    "- [Developer account support](https://developer.twitter.com/en/support/twitter-api/developer-account) de Twitter.\n",
    "\n",
    "Una vez que hayan obtenido su solicitud para abrir cuenta de desarrollador haya sido aceptada, podrán encontrar su llave de autenticación en este [link](https://developer.twitter.com/en/portal/projects-and-apps): `API key`, `API secret key`, `Access token` y `Access token secret`, y con ellas podrán tener acceso con distintos programas, entre ellos con Python.\n",
    "\n",
    "La API de Twitter algunas limitaciones para consultar tweets descritas en este [link](https://developer.twitter.com/en/docs/tweets/search/api-reference/get-search-tweets).\n",
    "\n",
    "⚠️ __Desventajas__, el obtener una cuenta de desarrollador en Twitter puede tardar tiempo y además de tener restricciones como un tiempo máximo de días previos de consulta (e.g. no se puede consultar tweets de principios de año), además de un número de existir un máximo número de tweets."
   ]
  },
  {
   "cell_type": "markdown",
   "id": "9ed4c919",
   "metadata": {},
   "source": [
    "### 1.2 Librería `GetOldTweets3`\n",
    "Esta es una librería está relativamente bien documentada donde se pueden conusltar tweets relativamente antiguos. Para más información pueden consultar la [descripción del paquete](https://pypi.org/project/GetOldTweets3/) con las indicaciones para su instalación y la [página del paquete en GitHub](https://github.com/Mottl/GetOldTweets3).\n",
    "\n",
    "Es importante mencionar que actualmente este paquete no funciona."
   ]
  },
  {
   "cell_type": "code",
   "execution_count": 2,
   "id": "4798c9b6",
   "metadata": {},
   "outputs": [],
   "source": [
    "## librerías\n",
    "# !pip install GetOldTweets3 #<- installa la librería\n",
    "import GetOldTweets3 as got"
   ]
  },
  {
   "cell_type": "code",
   "execution_count": 3,
   "id": "d843819b",
   "metadata": {},
   "outputs": [],
   "source": [
    "# Partámetros para consulta\n",
    "tweetCriteria = got.manager.TweetCriteria().setUsername(\"JustinTrudeau\")\\\n",
    "                                           .setTopTweets(True)\\\n",
    "                                           .setMaxTweets(10)"
   ]
  },
  {
   "cell_type": "code",
   "execution_count": 4,
   "id": "e867721f",
   "metadata": {},
   "outputs": [
    {
     "data": {
      "text/plain": [
       "<GetOldTweets3.manager.TweetCriteria.TweetCriteria at 0x10cc3ef20>"
      ]
     },
     "execution_count": 4,
     "metadata": {},
     "output_type": "execute_result"
    }
   ],
   "source": [
    "# esto se almacena en un objeto\n",
    "tweetCriteria"
   ]
  },
  {
   "cell_type": "code",
   "execution_count": 6,
   "id": "b62917b0",
   "metadata": {},
   "outputs": [],
   "source": [
    "# # Al realizar la consulta arroja error\n",
    "# tweet = got.manager.TweetManager.getTweets(tweetCriteria)[0]\n",
    "# print(tweet.text)"
   ]
  },
  {
   "cell_type": "markdown",
   "id": "6611be39",
   "metadata": {},
   "source": [
    "⚠️ __Desventajas__, actualmente este paquete no funciona de forma correcta. En la siguiente liga se comparte el error, el cual ha sido persistente desde septiembre 2020 https://github.com/Mottl/GetOldTweets3/issues/98"
   ]
  },
  {
   "cell_type": "markdown",
   "id": "401a7896",
   "metadata": {},
   "source": [
    "### 1.3 Librería `snscrape`\n",
    "Esta librería es la mejor alternativa que he utilizado para bajar tweets, aunque aún falta mejorar la documentación. Además, esta librería tiene módulos específicos que sirven para consultar información de otras redes sociales entre las que se encuentran Facebook, Instagram y Telegram."
   ]
  },
  {
   "cell_type": "markdown",
   "id": "cba5c83c-93da-4922-99d9-6dc2674ca370",
   "metadata": {},
   "source": [
    "#### Ejemplo: Obtener tweets relacionados con el **COVID** realizados desde las cuentas de los dirigentes de México, USA y Canadá"
   ]
  },
  {
   "cell_type": "code",
   "execution_count": 7,
   "id": "c04d582d",
   "metadata": {},
   "outputs": [],
   "source": [
    "# librerías\n",
    "import snscrape.modules.twitter as sntwitter"
   ]
  },
  {
   "cell_type": "code",
   "execution_count": 8,
   "id": "c263370a",
   "metadata": {},
   "outputs": [],
   "source": [
    "# parametros\n",
    "maxTweets = 2_000\n",
    "date_initial = \"2020-01-01\"\n",
    "date_final = \"2023-02-28\"\n",
    "\n",
    "# twitter's accounts\n",
    "cuentas=['JustinTrudeau', 'JoeBiden', 'lopezobrador_']"
   ]
  },
  {
   "cell_type": "code",
   "execution_count": 9,
   "id": "c1deedb2-e37a-4560-abc5-86ef0bbdf539",
   "metadata": {},
   "outputs": [
    {
     "name": "stdout",
     "output_type": "stream",
     "text": [
      "\n",
      "--- START: TwitterSearchScraper por cuenta de Twitter ---\n",
      "\n"
     ]
    },
    {
     "name": "stderr",
     "output_type": "stream",
     "text": [
      "Error retrieving https://api.twitter.com/2/search/adaptive.json?include_profile_interstitial_type=1&include_blocking=1&include_blocked_by=1&include_followed_by=1&include_want_retweets=1&include_mute_edge=1&include_can_dm=1&include_can_media_tag=1&include_ext_has_nft_avatar=1&include_ext_is_blue_verified=1&include_ext_verified_type=1&skip_status=1&cards_platform=Web-12&include_cards=1&include_ext_alt_text=true&include_ext_limited_action_results=false&include_quote_count=true&include_reply_count=1&tweet_mode=extended&include_ext_collab_control=true&include_ext_views=true&include_entities=true&include_user_entities=true&include_ext_media_color=true&include_ext_media_availability=true&include_ext_sensitive_media_warning=true&include_ext_trusted_friends_metadata=true&send_error_codes=true&simple_quoted_tweet=true&q=%22covid%22+since%3A2020-01-01+until%3A2023-02-28+from%3AJustinTrudeau&tweet_search_mode=live&count=20&query_source=spelling_expansion_revert_click&pc=1&spelling_corrections=1&include_ext_edit_control=true&ext=mediaStats%2ChighlightedLabel%2ChasNftAvatar%2CvoiceInfo%2Cenrichments%2CsuperFollowMetadata%2CunmentionInfo%2CeditControl%2Ccollab_control%2Cvibe: blocked (404)\n",
      "4 requests to https://api.twitter.com/2/search/adaptive.json?include_profile_interstitial_type=1&include_blocking=1&include_blocked_by=1&include_followed_by=1&include_want_retweets=1&include_mute_edge=1&include_can_dm=1&include_can_media_tag=1&include_ext_has_nft_avatar=1&include_ext_is_blue_verified=1&include_ext_verified_type=1&skip_status=1&cards_platform=Web-12&include_cards=1&include_ext_alt_text=true&include_ext_limited_action_results=false&include_quote_count=true&include_reply_count=1&tweet_mode=extended&include_ext_collab_control=true&include_ext_views=true&include_entities=true&include_user_entities=true&include_ext_media_color=true&include_ext_media_availability=true&include_ext_sensitive_media_warning=true&include_ext_trusted_friends_metadata=true&send_error_codes=true&simple_quoted_tweet=true&q=%22covid%22+since%3A2020-01-01+until%3A2023-02-28+from%3AJustinTrudeau&tweet_search_mode=live&count=20&query_source=spelling_expansion_revert_click&pc=1&spelling_corrections=1&include_ext_edit_control=true&ext=mediaStats%2ChighlightedLabel%2ChasNftAvatar%2CvoiceInfo%2Cenrichments%2CsuperFollowMetadata%2CunmentionInfo%2CeditControl%2Ccollab_control%2Cvibe failed, giving up.\n",
      "Errors: blocked (404), blocked (404), blocked (404), blocked (404)\n"
     ]
    },
    {
     "ename": "ScraperException",
     "evalue": "4 requests to https://api.twitter.com/2/search/adaptive.json?include_profile_interstitial_type=1&include_blocking=1&include_blocked_by=1&include_followed_by=1&include_want_retweets=1&include_mute_edge=1&include_can_dm=1&include_can_media_tag=1&include_ext_has_nft_avatar=1&include_ext_is_blue_verified=1&include_ext_verified_type=1&skip_status=1&cards_platform=Web-12&include_cards=1&include_ext_alt_text=true&include_ext_limited_action_results=false&include_quote_count=true&include_reply_count=1&tweet_mode=extended&include_ext_collab_control=true&include_ext_views=true&include_entities=true&include_user_entities=true&include_ext_media_color=true&include_ext_media_availability=true&include_ext_sensitive_media_warning=true&include_ext_trusted_friends_metadata=true&send_error_codes=true&simple_quoted_tweet=true&q=%22covid%22+since%3A2020-01-01+until%3A2023-02-28+from%3AJustinTrudeau&tweet_search_mode=live&count=20&query_source=spelling_expansion_revert_click&pc=1&spelling_corrections=1&include_ext_edit_control=true&ext=mediaStats%2ChighlightedLabel%2ChasNftAvatar%2CvoiceInfo%2Cenrichments%2CsuperFollowMetadata%2CunmentionInfo%2CeditControl%2Ccollab_control%2Cvibe failed, giving up.",
     "output_type": "error",
     "traceback": [
      "\u001b[0;31m---------------------------------------------------------------------------\u001b[0m",
      "\u001b[0;31mScraperException\u001b[0m                          Traceback (most recent call last)",
      "File \u001b[0;32m<timed exec>:10\u001b[0m\n",
      "File \u001b[0;32m~/opt/miniconda3/lib/python3.10/site-packages/snscrape/modules/twitter.py:1661\u001b[0m, in \u001b[0;36mTwitterSearchScraper.get_items\u001b[0;34m(self)\u001b[0m\n\u001b[1;32m   1658\u001b[0m params \u001b[38;5;241m=\u001b[39m paginationParams\u001b[38;5;241m.\u001b[39mcopy()\n\u001b[1;32m   1659\u001b[0m \u001b[38;5;28;01mdel\u001b[39;00m params[\u001b[38;5;124m'\u001b[39m\u001b[38;5;124mcursor\u001b[39m\u001b[38;5;124m'\u001b[39m]\n\u001b[0;32m-> 1661\u001b[0m \u001b[38;5;28;01mfor\u001b[39;00m obj \u001b[38;5;129;01min\u001b[39;00m \u001b[38;5;28mself\u001b[39m\u001b[38;5;241m.\u001b[39m_iter_api_data(\u001b[38;5;124m'\u001b[39m\u001b[38;5;124mhttps://api.twitter.com/2/search/adaptive.json\u001b[39m\u001b[38;5;124m'\u001b[39m, _TwitterAPIType\u001b[38;5;241m.\u001b[39mV2, params, paginationParams, cursor \u001b[38;5;241m=\u001b[39m \u001b[38;5;28mself\u001b[39m\u001b[38;5;241m.\u001b[39m_cursor):\n\u001b[1;32m   1662\u001b[0m \t\u001b[38;5;28;01myield from\u001b[39;00m \u001b[38;5;28mself\u001b[39m\u001b[38;5;241m.\u001b[39m_v2_timeline_instructions_to_tweets_or_users(obj)\n",
      "File \u001b[0;32m~/opt/miniconda3/lib/python3.10/site-packages/snscrape/modules/twitter.py:761\u001b[0m, in \u001b[0;36m_TwitterAPIScraper._iter_api_data\u001b[0;34m(self, endpoint, apiType, params, paginationParams, cursor, direction)\u001b[0m\n\u001b[1;32m    759\u001b[0m \u001b[38;5;28;01mwhile\u001b[39;00m \u001b[38;5;28;01mTrue\u001b[39;00m:\n\u001b[1;32m    760\u001b[0m \t_logger\u001b[38;5;241m.\u001b[39minfo(\u001b[38;5;124mf\u001b[39m\u001b[38;5;124m'\u001b[39m\u001b[38;5;124mRetrieving scroll page \u001b[39m\u001b[38;5;132;01m{\u001b[39;00mcursor\u001b[38;5;132;01m}\u001b[39;00m\u001b[38;5;124m'\u001b[39m)\n\u001b[0;32m--> 761\u001b[0m \tobj \u001b[38;5;241m=\u001b[39m \u001b[38;5;28;43mself\u001b[39;49m\u001b[38;5;241;43m.\u001b[39;49m\u001b[43m_get_api_data\u001b[49m\u001b[43m(\u001b[49m\u001b[43mendpoint\u001b[49m\u001b[43m,\u001b[49m\u001b[43m \u001b[49m\u001b[43mapiType\u001b[49m\u001b[43m,\u001b[49m\u001b[43m \u001b[49m\u001b[43mreqParams\u001b[49m\u001b[43m)\u001b[49m\n\u001b[1;32m    762\u001b[0m \t\u001b[38;5;28;01myield\u001b[39;00m obj\n\u001b[1;32m    764\u001b[0m \t\u001b[38;5;66;03m# No data format test, just a hard and loud crash if anything's wrong :-)\u001b[39;00m\n",
      "File \u001b[0;32m~/opt/miniconda3/lib/python3.10/site-packages/snscrape/modules/twitter.py:727\u001b[0m, in \u001b[0;36m_TwitterAPIScraper._get_api_data\u001b[0;34m(self, endpoint, apiType, params)\u001b[0m\n\u001b[1;32m    725\u001b[0m \u001b[38;5;28;01mif\u001b[39;00m apiType \u001b[38;5;129;01mis\u001b[39;00m _TwitterAPIType\u001b[38;5;241m.\u001b[39mGRAPHQL:\n\u001b[1;32m    726\u001b[0m \tparams \u001b[38;5;241m=\u001b[39m urllib\u001b[38;5;241m.\u001b[39mparse\u001b[38;5;241m.\u001b[39murlencode({k: json\u001b[38;5;241m.\u001b[39mdumps(v, separators \u001b[38;5;241m=\u001b[39m (\u001b[38;5;124m'\u001b[39m\u001b[38;5;124m,\u001b[39m\u001b[38;5;124m'\u001b[39m, \u001b[38;5;124m'\u001b[39m\u001b[38;5;124m:\u001b[39m\u001b[38;5;124m'\u001b[39m)) \u001b[38;5;28;01mfor\u001b[39;00m k, v \u001b[38;5;129;01min\u001b[39;00m params\u001b[38;5;241m.\u001b[39mitems()}, quote_via \u001b[38;5;241m=\u001b[39m urllib\u001b[38;5;241m.\u001b[39mparse\u001b[38;5;241m.\u001b[39mquote)\n\u001b[0;32m--> 727\u001b[0m r \u001b[38;5;241m=\u001b[39m \u001b[38;5;28;43mself\u001b[39;49m\u001b[38;5;241;43m.\u001b[39;49m\u001b[43m_get\u001b[49m\u001b[43m(\u001b[49m\u001b[43mendpoint\u001b[49m\u001b[43m,\u001b[49m\u001b[43m \u001b[49m\u001b[43mparams\u001b[49m\u001b[43m \u001b[49m\u001b[38;5;241;43m=\u001b[39;49m\u001b[43m \u001b[49m\u001b[43mparams\u001b[49m\u001b[43m,\u001b[49m\u001b[43m \u001b[49m\u001b[43mheaders\u001b[49m\u001b[43m \u001b[49m\u001b[38;5;241;43m=\u001b[39;49m\u001b[43m \u001b[49m\u001b[38;5;28;43mself\u001b[39;49m\u001b[38;5;241;43m.\u001b[39;49m\u001b[43m_apiHeaders\u001b[49m\u001b[43m,\u001b[49m\u001b[43m \u001b[49m\u001b[43mresponseOkCallback\u001b[49m\u001b[43m \u001b[49m\u001b[38;5;241;43m=\u001b[39;49m\u001b[43m \u001b[49m\u001b[38;5;28;43mself\u001b[39;49m\u001b[38;5;241;43m.\u001b[39;49m\u001b[43m_check_api_response\u001b[49m\u001b[43m)\u001b[49m\n\u001b[1;32m    728\u001b[0m \u001b[38;5;28;01mtry\u001b[39;00m:\n\u001b[1;32m    729\u001b[0m \tobj \u001b[38;5;241m=\u001b[39m r\u001b[38;5;241m.\u001b[39mjson()\n",
      "File \u001b[0;32m~/opt/miniconda3/lib/python3.10/site-packages/snscrape/base.py:251\u001b[0m, in \u001b[0;36mScraper._get\u001b[0;34m(self, *args, **kwargs)\u001b[0m\n\u001b[1;32m    250\u001b[0m \u001b[38;5;28;01mdef\u001b[39;00m \u001b[38;5;21m_get\u001b[39m(\u001b[38;5;28mself\u001b[39m, \u001b[38;5;241m*\u001b[39margs, \u001b[38;5;241m*\u001b[39m\u001b[38;5;241m*\u001b[39mkwargs):\n\u001b[0;32m--> 251\u001b[0m \t\u001b[38;5;28;01mreturn\u001b[39;00m \u001b[38;5;28;43mself\u001b[39;49m\u001b[38;5;241;43m.\u001b[39;49m\u001b[43m_request\u001b[49m\u001b[43m(\u001b[49m\u001b[38;5;124;43m'\u001b[39;49m\u001b[38;5;124;43mGET\u001b[39;49m\u001b[38;5;124;43m'\u001b[39;49m\u001b[43m,\u001b[49m\u001b[43m \u001b[49m\u001b[38;5;241;43m*\u001b[39;49m\u001b[43margs\u001b[49m\u001b[43m,\u001b[49m\u001b[43m \u001b[49m\u001b[38;5;241;43m*\u001b[39;49m\u001b[38;5;241;43m*\u001b[39;49m\u001b[43mkwargs\u001b[49m\u001b[43m)\u001b[49m\n",
      "File \u001b[0;32m~/opt/miniconda3/lib/python3.10/site-packages/snscrape/base.py:247\u001b[0m, in \u001b[0;36mScraper._request\u001b[0;34m(self, method, url, params, data, headers, timeout, responseOkCallback, allowRedirects, proxies)\u001b[0m\n\u001b[1;32m    245\u001b[0m \t_logger\u001b[38;5;241m.\u001b[39mfatal(msg)\n\u001b[1;32m    246\u001b[0m \t_logger\u001b[38;5;241m.\u001b[39mfatal(\u001b[38;5;124mf\u001b[39m\u001b[38;5;124m'\u001b[39m\u001b[38;5;124mErrors: \u001b[39m\u001b[38;5;132;01m{\u001b[39;00m\u001b[38;5;124m\"\u001b[39m\u001b[38;5;124m, \u001b[39m\u001b[38;5;124m\"\u001b[39m\u001b[38;5;241m.\u001b[39mjoin(errors)\u001b[38;5;132;01m}\u001b[39;00m\u001b[38;5;124m'\u001b[39m)\n\u001b[0;32m--> 247\u001b[0m \t\u001b[38;5;28;01mraise\u001b[39;00m ScraperException(msg)\n\u001b[1;32m    248\u001b[0m \u001b[38;5;28;01mraise\u001b[39;00m \u001b[38;5;167;01mRuntimeError\u001b[39;00m(\u001b[38;5;124m'\u001b[39m\u001b[38;5;124mReached unreachable code\u001b[39m\u001b[38;5;124m'\u001b[39m)\n",
      "\u001b[0;31mScraperException\u001b[0m: 4 requests to https://api.twitter.com/2/search/adaptive.json?include_profile_interstitial_type=1&include_blocking=1&include_blocked_by=1&include_followed_by=1&include_want_retweets=1&include_mute_edge=1&include_can_dm=1&include_can_media_tag=1&include_ext_has_nft_avatar=1&include_ext_is_blue_verified=1&include_ext_verified_type=1&skip_status=1&cards_platform=Web-12&include_cards=1&include_ext_alt_text=true&include_ext_limited_action_results=false&include_quote_count=true&include_reply_count=1&tweet_mode=extended&include_ext_collab_control=true&include_ext_views=true&include_entities=true&include_user_entities=true&include_ext_media_color=true&include_ext_media_availability=true&include_ext_sensitive_media_warning=true&include_ext_trusted_friends_metadata=true&send_error_codes=true&simple_quoted_tweet=true&q=%22covid%22+since%3A2020-01-01+until%3A2023-02-28+from%3AJustinTrudeau&tweet_search_mode=live&count=20&query_source=spelling_expansion_revert_click&pc=1&spelling_corrections=1&include_ext_edit_control=true&ext=mediaStats%2ChighlightedLabel%2ChasNftAvatar%2CvoiceInfo%2Cenrichments%2CsuperFollowMetadata%2CunmentionInfo%2CeditControl%2Ccollab_control%2Cvibe failed, giving up."
     ]
    }
   ],
   "source": [
    "%%time\n",
    "# Parámetros\n",
    "\n",
    "# Creating list to append tweet data to\n",
    "tweets_list = []\n",
    "i=0\n",
    "\n",
    "# Using TwitterSearchScraper to scrape data and append tweets to list\n",
    "print(\"\\n--- START: TwitterSearchScraper por cuenta de Twitter ---\\n\")\n",
    "for a in cuentas:\n",
    "    for i, tweet in enumerate(sntwitter.TwitterSearchScraper('\"covid\" since:'+date_initial+' until:'+date_final+' from:'+a).get_items()):\n",
    "        # ESTA PARTE ES LA IMPORTANTE PARA OBTENER LOS TWEETS: sntwitter.TwitterSearchScraper('\"covid\" since:'+date_initial+' until:'+date_final+' from:'+a).get_items()\n",
    "        if i>maxTweets-1:\n",
    "            break\n",
    "        tweets_list.append([tweet.user.username, tweet.date, tweet.id, tweet.content, tweet.url, tweet.lang,\n",
    "                    tweet.hashtags, tweet.likeCount, tweet.replyCount, tweet.retweetCount, tweet.quoteCount])\n",
    "        # Otra info que puede sernos útil: tweet.media,  tweet.url\n",
    "    print(\"Se identificaron {0} tweets de la cuenta {1} con los parametros dados.\".format(i, a))\n",
    "print(\"\\n--- END: TwitterSearchScraper ---\\n\\nTIMING\")"
   ]
  },
  {
   "cell_type": "code",
   "execution_count": 16,
   "id": "fbe51e84-a3f1-4708-9853-6a1991dbf51a",
   "metadata": {},
   "outputs": [
    {
     "name": "stdout",
     "output_type": "stream",
     "text": [
      "usage: twscrape [--db DB] [--debug] <command> [...]\n",
      "\n",
      "commands:\n",
      "    version                   Show version\n",
      "    accounts                  List all accounts\n",
      "    stats                     Get current usage stats\n",
      "    add_accounts              Add accounts\n",
      "    del_accounts              Delete accounts\n",
      "    login_accounts            Login accounts\n",
      "    relogin                   Re-login selected accounts\n",
      "    relogin_failed            Retry login for failed accounts\n",
      "    reset_locks               Reset all locks\n",
      "    delete_inactive           Delete inactive accounts\n",
      "\n",
      "search commands:\n",
      "    search                    Search for tweets\n",
      "    tweet_details             Get tweet details\n",
      "    retweeters                Get retweeters of a tweet\n",
      "    favoriters                Get favoriters of a tweet\n",
      "    user_by_id                Get user data by ID\n",
      "    user_by_login             Get user data by username\n",
      "    followers                 Get user followers\n",
      "    following                 Get user following\n",
      "    user_tweets               Get user tweets\n",
      "    user_tweets_and_replies   Get user tweets and replies\n",
      "    list_timeline             Get tweets from list\n",
      "\n",
      "options:\n",
      "  --db DB                     Accounts database file\n",
      "  --debug                     Enable debug mode\n",
      "\n"
     ]
    }
   ],
   "source": [
    "#import twscrape\n",
    "# import asyncio\n",
    "# from twscrape import API, gather\n",
    "# from twscrape.logger import set_log_level\n",
    "\n",
    "# twscrape add_accounts <file_path> <line_format>\n",
    "# line_format should have \"username\", \"password\", \"email\", \"email_password\" tokens\n",
    "# tokens delimeter should be same as an file\n",
    "#! twscrape add_accounts accounts.txt \"cuspi\":\"Vic1230.\":\"vcuspinera@gmail.com\":\"Qwer9630.UCC\"\n",
    "\n",
    "! twscrape"
   ]
  },
  {
   "cell_type": "code",
   "execution_count": 18,
   "id": "619fbfd1-161f-4c3f-83bb-6bdc4f8f6515",
   "metadata": {},
   "outputs": [
    {
     "name": "stdout",
     "output_type": "stream",
     "text": [
      "\u001b[32m2023-10-11 22:20:40.603\u001b[0m | \u001b[1mINFO    \u001b[0m | \u001b[36mtwscrape.db\u001b[0m:\u001b[36mmigrate\u001b[0m:\u001b[36m86\u001b[0m - \u001b[1mRunning migration to v1\u001b[0m\n",
      "\u001b[32m2023-10-11 22:20:40.606\u001b[0m | \u001b[1mINFO    \u001b[0m | \u001b[36mtwscrape.db\u001b[0m:\u001b[36mmigrate\u001b[0m:\u001b[36m86\u001b[0m - \u001b[1mRunning migration to v2\u001b[0m\n",
      "\u001b[32m2023-10-11 22:20:40.610\u001b[0m | \u001b[1mINFO    \u001b[0m | \u001b[36mtwscrape.db\u001b[0m:\u001b[36mmigrate\u001b[0m:\u001b[36m86\u001b[0m - \u001b[1mRunning migration to v3\u001b[0m\n",
      "\u001b[32m2023-10-11 22:20:40.617\u001b[0m | \u001b[1mINFO    \u001b[0m | \u001b[36mtwscrape.accounts_pool\u001b[0m:\u001b[36mget_for_queue_or_wait\u001b[0m:\u001b[36m260\u001b[0m - \u001b[1mNo account available for queue \"TweetDetail\". Next available at none\u001b[0m\n",
      "^C\n",
      "Traceback (most recent call last):\n",
      "  File \"/Users/vcuspinera/opt/miniconda3/bin/twscrape\", line 8, in <module>\n",
      "    sys.exit(run())\n",
      "  File \"/Users/vcuspinera/opt/miniconda3/lib/python3.10/site-packages/twscrape/cli.py\", line 196, in run\n",
      "    asyncio.run(main(args))\n",
      "  File \"/Users/vcuspinera/opt/miniconda3/lib/python3.10/asyncio/runners.py\", line 44, in run\n",
      "    return loop.run_until_complete(main)\n",
      "  File \"/Users/vcuspinera/opt/miniconda3/lib/python3.10/asyncio/base_events.py\", line 636, in run_until_complete\n",
      "    self.run_forever()\n",
      "  File \"/Users/vcuspinera/opt/miniconda3/lib/python3.10/asyncio/base_events.py\", line 603, in run_forever\n",
      "    self._run_once()\n",
      "  File \"/Users/vcuspinera/opt/miniconda3/lib/python3.10/asyncio/base_events.py\", line 1863, in _run_once\n",
      "    event_list = self._selector.select(timeout)\n",
      "  File \"/Users/vcuspinera/opt/miniconda3/lib/python3.10/selectors.py\", line 562, in select\n",
      "    kev_list = self._selector.control(None, max_ev, timeout)\n",
      "KeyboardInterrupt\n"
     ]
    }
   ],
   "source": [
    "!twscrape tweet_details 1674894268912087040"
   ]
  },
  {
   "cell_type": "code",
   "execution_count": 22,
   "id": "f1ee1cad-c4c9-4e34-9db3-4c051730f03e",
   "metadata": {},
   "outputs": [
    {
     "name": "stdout",
     "output_type": "stream",
     "text": [
      "usage: twscrape add_accounts [-h] file_path line_format\n",
      "\n",
      "positional arguments:\n",
      "  file_path    File with accounts\n",
      "  line_format  args of Pool.add_account splited by same delim\n",
      "\n",
      "options:\n",
      "  -h, --help   show this help message and exit\n"
     ]
    }
   ],
   "source": [
    "!twscrape add_accounts --help"
   ]
  },
  {
   "cell_type": "code",
   "execution_count": 26,
   "id": "91f04693-a53c-4a8e-b85f-8c0ae16619db",
   "metadata": {},
   "outputs": [
    {
     "name": "stdout",
     "output_type": "stream",
     "text": [
      "Traceback (most recent call last):\n",
      "  File \"/Users/vcuspinera/opt/miniconda3/bin/twscrape\", line 8, in <module>\n",
      "    sys.exit(run())\n",
      "  File \"/Users/vcuspinera/opt/miniconda3/lib/python3.10/site-packages/twscrape/cli.py\", line 196, in run\n",
      "    asyncio.run(main(args))\n",
      "  File \"/Users/vcuspinera/opt/miniconda3/lib/python3.10/asyncio/runners.py\", line 44, in run\n",
      "    return loop.run_until_complete(main)\n",
      "  File \"/Users/vcuspinera/opt/miniconda3/lib/python3.10/asyncio/base_events.py\", line 649, in run_until_complete\n",
      "    return future.result()\n",
      "  File \"/Users/vcuspinera/opt/miniconda3/lib/python3.10/site-packages/twscrape/cli.py\", line 75, in main\n",
      "    await pool.load_from_file(args.file_path, args.line_format)\n",
      "  File \"/Users/vcuspinera/opt/miniconda3/lib/python3.10/site-packages/twscrape/accounts_pool.py\", line 54, in load_from_file\n",
      "    raise ValueError(f\"Invalid line: {line}\")\n",
      "ValueError: Invalid line: cuspi\n"
     ]
    }
   ],
   "source": [
    "!twscrape add_accounts ../../09_Pswd/twitter_cuspi.txt username:password:email:email_password"
   ]
  },
  {
   "cell_type": "code",
   "execution_count": null,
   "id": "be7c6817-ae0d-4252-a62d-e3245fddea60",
   "metadata": {},
   "outputs": [],
   "source": []
  },
  {
   "cell_type": "code",
   "execution_count": null,
   "id": "f4e080bb-422c-4ca9-8a3e-467fb974fa79",
   "metadata": {},
   "outputs": [],
   "source": []
  },
  {
   "cell_type": "code",
   "execution_count": 6,
   "id": "cbdd5126-dfc4-46b0-a265-5a01f5252f5e",
   "metadata": {},
   "outputs": [
    {
     "data": {
      "text/html": [
       "<div>\n",
       "<style scoped>\n",
       "    .dataframe tbody tr th:only-of-type {\n",
       "        vertical-align: middle;\n",
       "    }\n",
       "\n",
       "    .dataframe tbody tr th {\n",
       "        vertical-align: top;\n",
       "    }\n",
       "\n",
       "    .dataframe thead th {\n",
       "        text-align: right;\n",
       "    }\n",
       "</style>\n",
       "<table border=\"1\" class=\"dataframe\">\n",
       "  <thead>\n",
       "    <tr style=\"text-align: right;\">\n",
       "      <th></th>\n",
       "      <th>username</th>\n",
       "      <th>date</th>\n",
       "      <th>id</th>\n",
       "      <th>content</th>\n",
       "      <th>url</th>\n",
       "      <th>language</th>\n",
       "      <th>hashtags</th>\n",
       "      <th>likes_count</th>\n",
       "      <th>reply_count</th>\n",
       "      <th>retweet_count</th>\n",
       "      <th>quote_count</th>\n",
       "    </tr>\n",
       "  </thead>\n",
       "  <tbody>\n",
       "    <tr>\n",
       "      <th>0</th>\n",
       "      <td>JustinTrudeau</td>\n",
       "      <td>2022-12-26 21:00:54+00:00</td>\n",
       "      <td>1607481604850450433</td>\n",
       "      <td>The best way to stay healthy – and to stay in ...</td>\n",
       "      <td>https://twitter.com/JustinTrudeau/status/16074...</td>\n",
       "      <td>en</td>\n",
       "      <td>None</td>\n",
       "      <td>4876</td>\n",
       "      <td>20611</td>\n",
       "      <td>750</td>\n",
       "      <td>1338</td>\n",
       "    </tr>\n",
       "    <tr>\n",
       "      <th>1</th>\n",
       "      <td>JustinTrudeau</td>\n",
       "      <td>2022-12-26 20:51:31+00:00</td>\n",
       "      <td>1607479240114438150</td>\n",
       "      <td>La meilleure façon de rester en bonne santé – ...</td>\n",
       "      <td>https://twitter.com/JustinTrudeau/status/16074...</td>\n",
       "      <td>fr</td>\n",
       "      <td>None</td>\n",
       "      <td>436</td>\n",
       "      <td>600</td>\n",
       "      <td>57</td>\n",
       "      <td>23</td>\n",
       "    </tr>\n",
       "    <tr>\n",
       "      <th>2</th>\n",
       "      <td>JustinTrudeau</td>\n",
       "      <td>2022-12-15 01:07:07+00:00</td>\n",
       "      <td>1603194909841817601</td>\n",
       "      <td>Let’s keep doing everything we can to stay saf...</td>\n",
       "      <td>https://twitter.com/JustinTrudeau/status/16031...</td>\n",
       "      <td>en</td>\n",
       "      <td>None</td>\n",
       "      <td>1660</td>\n",
       "      <td>4355</td>\n",
       "      <td>248</td>\n",
       "      <td>196</td>\n",
       "    </tr>\n",
       "    <tr>\n",
       "      <th>3</th>\n",
       "      <td>JustinTrudeau</td>\n",
       "      <td>2022-12-15 01:07:02+00:00</td>\n",
       "      <td>1603194891927814144</td>\n",
       "      <td>Continuons de faire tout ce que nous pouvons p...</td>\n",
       "      <td>https://twitter.com/JustinTrudeau/status/16031...</td>\n",
       "      <td>fr</td>\n",
       "      <td>None</td>\n",
       "      <td>219</td>\n",
       "      <td>233</td>\n",
       "      <td>33</td>\n",
       "      <td>7</td>\n",
       "    </tr>\n",
       "  </tbody>\n",
       "</table>\n",
       "</div>"
      ],
      "text/plain": [
       "        username                      date                   id  \\\n",
       "0  JustinTrudeau 2022-12-26 21:00:54+00:00  1607481604850450433   \n",
       "1  JustinTrudeau 2022-12-26 20:51:31+00:00  1607479240114438150   \n",
       "2  JustinTrudeau 2022-12-15 01:07:07+00:00  1603194909841817601   \n",
       "3  JustinTrudeau 2022-12-15 01:07:02+00:00  1603194891927814144   \n",
       "\n",
       "                                             content  \\\n",
       "0  The best way to stay healthy – and to stay in ...   \n",
       "1  La meilleure façon de rester en bonne santé – ...   \n",
       "2  Let’s keep doing everything we can to stay saf...   \n",
       "3  Continuons de faire tout ce que nous pouvons p...   \n",
       "\n",
       "                                                 url language hashtags  \\\n",
       "0  https://twitter.com/JustinTrudeau/status/16074...       en     None   \n",
       "1  https://twitter.com/JustinTrudeau/status/16074...       fr     None   \n",
       "2  https://twitter.com/JustinTrudeau/status/16031...       en     None   \n",
       "3  https://twitter.com/JustinTrudeau/status/16031...       fr     None   \n",
       "\n",
       "   likes_count  reply_count  retweet_count  quote_count  \n",
       "0         4876        20611            750         1338  \n",
       "1          436          600             57           23  \n",
       "2         1660         4355            248          196  \n",
       "3          219          233             33            7  "
      ]
     },
     "execution_count": 6,
     "metadata": {},
     "output_type": "execute_result"
    }
   ],
   "source": [
    "# Pandas dataframe con tweets de los tres presidentes relacionados con el Covid-19\n",
    "column_names = (\"username\",\"date\",\"id\",\"content\",\"url\",\"language\",\"hashtags\",\n",
    "                \"likes_count\",\"reply_count\",\"retweet_count\",\"quote_count\")\n",
    "df = pd.DataFrame(tweets_list, columns=column_names)\n",
    "df.head(4)"
   ]
  },
  {
   "cell_type": "code",
   "execution_count": 14,
   "id": "6cbd8aa8-0fc8-4cda-9c9e-837d0c7ae0ac",
   "metadata": {},
   "outputs": [
    {
     "data": {
      "text/plain": [
       "'Lamento informarles que estoy contagiado de COVID-19. Los síntomas son leves pero ya estoy en tratamiento médico. Como siempre, soy optimista. Saldremos adelante todos. Me representará la Dra. Olga Sánchez Cordero en las mañaneras para informar como lo hacemos todos los días.'"
      ]
     },
     "execution_count": 14,
     "metadata": {},
     "output_type": "execute_result"
    }
   ],
   "source": [
    "# ejemplo de tweet\n",
    "df['content'][1496]"
   ]
  },
  {
   "cell_type": "code",
   "execution_count": 15,
   "id": "4c2fc0c8-098b-44a0-8521-a144cfca2cf0",
   "metadata": {},
   "outputs": [
    {
     "name": "stdout",
     "output_type": "stream",
     "text": [
      "\n",
      "Tweets de presidente o primer ministro relacionados con el Covid-19, de enero 2020 a febrero 2023:\n",
      "\n"
     ]
    },
    {
     "data": {
      "text/html": [
       "<div>\n",
       "<style scoped>\n",
       "    .dataframe tbody tr th:only-of-type {\n",
       "        vertical-align: middle;\n",
       "    }\n",
       "\n",
       "    .dataframe tbody tr th {\n",
       "        vertical-align: top;\n",
       "    }\n",
       "\n",
       "    .dataframe thead th {\n",
       "        text-align: right;\n",
       "    }\n",
       "</style>\n",
       "<table border=\"1\" class=\"dataframe\">\n",
       "  <thead>\n",
       "    <tr style=\"text-align: right;\">\n",
       "      <th></th>\n",
       "      <th>President</th>\n",
       "      <th>tweets</th>\n",
       "    </tr>\n",
       "  </thead>\n",
       "  <tbody>\n",
       "    <tr>\n",
       "      <th>0</th>\n",
       "      <td>JustinTrudeau</td>\n",
       "      <td>1240</td>\n",
       "    </tr>\n",
       "    <tr>\n",
       "      <th>1</th>\n",
       "      <td>JoeBiden</td>\n",
       "      <td>256</td>\n",
       "    </tr>\n",
       "    <tr>\n",
       "      <th>2</th>\n",
       "      <td>lopezobrador_</td>\n",
       "      <td>3</td>\n",
       "    </tr>\n",
       "  </tbody>\n",
       "</table>\n",
       "</div>"
      ],
      "text/plain": [
       "       President  tweets\n",
       "0  JustinTrudeau    1240\n",
       "1       JoeBiden     256\n",
       "2  lopezobrador_       3"
      ]
     },
     "execution_count": 15,
     "metadata": {},
     "output_type": "execute_result"
    }
   ],
   "source": [
    "# Número de comentarios por presidente/primer ministro\n",
    "print(\"\\nTweets de presidente o primer ministro relacionados con el Covid-19, de enero 2020 a febrero 2023:\\n\")\n",
    "pd.DataFrame(df['username'].value_counts()).reset_index().rename(columns={'index':'President', 'username':\"tweets\"})"
   ]
  },
  {
   "cell_type": "markdown",
   "id": "45f4fb62-0d95-4b88-9110-ae2d867c4196",
   "metadata": {},
   "source": [
    "#### Ejemplo: Obtener tweets con hashtag #INENoSeToca"
   ]
  },
  {
   "cell_type": "code",
   "execution_count": 25,
   "id": "68967c82-314f-481f-87cf-ed181ba7cde4",
   "metadata": {},
   "outputs": [
    {
     "name": "stderr",
     "output_type": "stream",
     "text": [
      "<timed exec>:10: DeprecatedFeatureWarning: content is deprecated, use rawContent instead\n"
     ]
    },
    {
     "name": "stdout",
     "output_type": "stream",
     "text": [
      "CPU times: user 7.66 s, sys: 790 ms, total: 8.44 s\n",
      "Wall time: 8min 46s\n"
     ]
    }
   ],
   "source": [
    "%%time\n",
    "\n",
    "# Parámetros\n",
    "tweets_list_ine = []\n",
    "maxTweets_ine = 10_000\n",
    "date_initial = \"2023-02-15\"\n",
    "\n",
    "# Get tweets\n",
    "for i,tweet in enumerate(sntwitter.TwitterSearchScraper('#INENoSeToca').get_items()): # se puede añadir esto --> since:'+date_initial\n",
    "        if i>maxTweets_ine-1:\n",
    "            break\n",
    "        tweets_list_ine.append([tweet.user.username, tweet.date, tweet.id, tweet.content, tweet.url, tweet.lang,\n",
    "                    tweet.hashtags, tweet.likeCount, tweet.replyCount, tweet.retweetCount, tweet.quoteCount])\n",
    "        # Otra info que puede sernos útil: tweet.media,  tweet.url"
   ]
  },
  {
   "cell_type": "code",
   "execution_count": 26,
   "id": "4b823f3c-fb02-4b80-941f-65c5713ecbb9",
   "metadata": {},
   "outputs": [
    {
     "data": {
      "text/html": [
       "<div>\n",
       "<style scoped>\n",
       "    .dataframe tbody tr th:only-of-type {\n",
       "        vertical-align: middle;\n",
       "    }\n",
       "\n",
       "    .dataframe tbody tr th {\n",
       "        vertical-align: top;\n",
       "    }\n",
       "\n",
       "    .dataframe thead th {\n",
       "        text-align: right;\n",
       "    }\n",
       "</style>\n",
       "<table border=\"1\" class=\"dataframe\">\n",
       "  <thead>\n",
       "    <tr style=\"text-align: right;\">\n",
       "      <th></th>\n",
       "      <th>username</th>\n",
       "      <th>date</th>\n",
       "      <th>id</th>\n",
       "      <th>content</th>\n",
       "      <th>url</th>\n",
       "      <th>language</th>\n",
       "      <th>hashtags</th>\n",
       "      <th>likes_count</th>\n",
       "      <th>reply_count</th>\n",
       "      <th>retweet_count</th>\n",
       "      <th>quote_count</th>\n",
       "    </tr>\n",
       "  </thead>\n",
       "  <tbody>\n",
       "    <tr>\n",
       "      <th>0</th>\n",
       "      <td>Dondannycurr</td>\n",
       "      <td>2023-03-23</td>\n",
       "      <td>1638701656543227904</td>\n",
       "      <td>@beltrandelrio Asi es muy mal su marcha del #I...</td>\n",
       "      <td>https://twitter.com/Dondannycurr/status/163870...</td>\n",
       "      <td>es</td>\n",
       "      <td>[IneNoSeToca]</td>\n",
       "      <td>0</td>\n",
       "      <td>0</td>\n",
       "      <td>0</td>\n",
       "      <td>0</td>\n",
       "    </tr>\n",
       "    <tr>\n",
       "      <th>1</th>\n",
       "      <td>DAT221177</td>\n",
       "      <td>2023-03-22</td>\n",
       "      <td>1638662744974188544</td>\n",
       "      <td>Y curiosamente el voto de calidad lo tuvo el m...</td>\n",
       "      <td>https://twitter.com/DAT221177/status/163866274...</td>\n",
       "      <td>es</td>\n",
       "      <td>[INENoSeToca]</td>\n",
       "      <td>2</td>\n",
       "      <td>0</td>\n",
       "      <td>0</td>\n",
       "      <td>0</td>\n",
       "    </tr>\n",
       "    <tr>\n",
       "      <th>2</th>\n",
       "      <td>Cardinalboy3</td>\n",
       "      <td>2023-03-22</td>\n",
       "      <td>1638646056782290944</td>\n",
       "      <td>@AztecDuncan @lorenzocordovav @INEMexico @lila...</td>\n",
       "      <td>https://twitter.com/Cardinalboy3/status/163864...</td>\n",
       "      <td>qme</td>\n",
       "      <td>[inenosetoca]</td>\n",
       "      <td>0</td>\n",
       "      <td>0</td>\n",
       "      <td>0</td>\n",
       "      <td>0</td>\n",
       "    </tr>\n",
       "    <tr>\n",
       "      <th>3</th>\n",
       "      <td>ALFREDOMARTNEZ8</td>\n",
       "      <td>2023-03-22</td>\n",
       "      <td>1638620226919997470</td>\n",
       "      <td>O que crean defender causas como el #INENoSeTo...</td>\n",
       "      <td>https://twitter.com/ALFREDOMARTNEZ8/status/163...</td>\n",
       "      <td>es</td>\n",
       "      <td>[INENoSeToca]</td>\n",
       "      <td>0</td>\n",
       "      <td>0</td>\n",
       "      <td>0</td>\n",
       "      <td>0</td>\n",
       "    </tr>\n",
       "    <tr>\n",
       "      <th>4</th>\n",
       "      <td>InnovationChief</td>\n",
       "      <td>2023-03-22</td>\n",
       "      <td>1638593032432885773</td>\n",
       "      <td>Esta tipa de Berta Alcalde nos quiere retroced...</td>\n",
       "      <td>https://twitter.com/InnovationChief/status/163...</td>\n",
       "      <td>es</td>\n",
       "      <td>[INE, inenosetoca]</td>\n",
       "      <td>0</td>\n",
       "      <td>0</td>\n",
       "      <td>0</td>\n",
       "      <td>0</td>\n",
       "    </tr>\n",
       "    <tr>\n",
       "      <th>...</th>\n",
       "      <td>...</td>\n",
       "      <td>...</td>\n",
       "      <td>...</td>\n",
       "      <td>...</td>\n",
       "      <td>...</td>\n",
       "      <td>...</td>\n",
       "      <td>...</td>\n",
       "      <td>...</td>\n",
       "      <td>...</td>\n",
       "      <td>...</td>\n",
       "      <td>...</td>\n",
       "    </tr>\n",
       "    <tr>\n",
       "      <th>9995</th>\n",
       "      <td>MOALAR</td>\n",
       "      <td>2022-11-14</td>\n",
       "      <td>1592032115914379264</td>\n",
       "      <td>Te queda claro #lopez? #con el himno nacional ...</td>\n",
       "      <td>https://twitter.com/MOALAR/status/159203211591...</td>\n",
       "      <td>es</td>\n",
       "      <td>[lopez, con, INE, INENoSeToca]</td>\n",
       "      <td>6</td>\n",
       "      <td>0</td>\n",
       "      <td>3</td>\n",
       "      <td>0</td>\n",
       "    </tr>\n",
       "    <tr>\n",
       "      <th>9996</th>\n",
       "      <td>infolliteras</td>\n",
       "      <td>2022-11-14</td>\n",
       "      <td>1592031528435200003</td>\n",
       "      <td>Y luego vino el himno nacional #Mérida #Yucatá...</td>\n",
       "      <td>https://twitter.com/infolliteras/status/159203...</td>\n",
       "      <td>es</td>\n",
       "      <td>[Mérida, Yucatán, INENoSeToca, INE, INEC]</td>\n",
       "      <td>3</td>\n",
       "      <td>0</td>\n",
       "      <td>1</td>\n",
       "      <td>1</td>\n",
       "    </tr>\n",
       "    <tr>\n",
       "      <th>9997</th>\n",
       "      <td>DavidMartzMX</td>\n",
       "      <td>2022-11-14</td>\n",
       "      <td>1592030972647964672</td>\n",
       "      <td>En unas 7 horas, se confirmará que @lopezobrad...</td>\n",
       "      <td>https://twitter.com/DavidMartzMX/status/159203...</td>\n",
       "      <td>es</td>\n",
       "      <td>[INENoSeToca, INE]</td>\n",
       "      <td>0</td>\n",
       "      <td>0</td>\n",
       "      <td>0</td>\n",
       "      <td>0</td>\n",
       "    </tr>\n",
       "    <tr>\n",
       "      <th>9998</th>\n",
       "      <td>AlejandroFixer</td>\n",
       "      <td>2022-11-14</td>\n",
       "      <td>1592030732444393472</td>\n",
       "      <td>@lopezdoriga @martibatres No saben sumar, meno...</td>\n",
       "      <td>https://twitter.com/AlejandroFixer/status/1592...</td>\n",
       "      <td>es</td>\n",
       "      <td>[morena, chaspm, INENoSeToca, ElINESeDefiende,...</td>\n",
       "      <td>0</td>\n",
       "      <td>0</td>\n",
       "      <td>0</td>\n",
       "      <td>0</td>\n",
       "    </tr>\n",
       "    <tr>\n",
       "      <th>9999</th>\n",
       "      <td>JaviXCubaLibre</td>\n",
       "      <td>2022-11-14</td>\n",
       "      <td>1592030645320093698</td>\n",
       "      <td>Dicen que hoy era el cumpleaños de lopez obrad...</td>\n",
       "      <td>https://twitter.com/JaviXCubaLibre/status/1592...</td>\n",
       "      <td>es</td>\n",
       "      <td>[INENoSeToca, Mexico, Iran, IranRevolution, BR...</td>\n",
       "      <td>35</td>\n",
       "      <td>2</td>\n",
       "      <td>22</td>\n",
       "      <td>1</td>\n",
       "    </tr>\n",
       "  </tbody>\n",
       "</table>\n",
       "<p>10000 rows × 11 columns</p>\n",
       "</div>"
      ],
      "text/plain": [
       "             username        date                   id  \\\n",
       "0        Dondannycurr  2023-03-23  1638701656543227904   \n",
       "1           DAT221177  2023-03-22  1638662744974188544   \n",
       "2        Cardinalboy3  2023-03-22  1638646056782290944   \n",
       "3     ALFREDOMARTNEZ8  2023-03-22  1638620226919997470   \n",
       "4     InnovationChief  2023-03-22  1638593032432885773   \n",
       "...               ...         ...                  ...   \n",
       "9995           MOALAR  2022-11-14  1592032115914379264   \n",
       "9996     infolliteras  2022-11-14  1592031528435200003   \n",
       "9997     DavidMartzMX  2022-11-14  1592030972647964672   \n",
       "9998   AlejandroFixer  2022-11-14  1592030732444393472   \n",
       "9999   JaviXCubaLibre  2022-11-14  1592030645320093698   \n",
       "\n",
       "                                                content  \\\n",
       "0     @beltrandelrio Asi es muy mal su marcha del #I...   \n",
       "1     Y curiosamente el voto de calidad lo tuvo el m...   \n",
       "2     @AztecDuncan @lorenzocordovav @INEMexico @lila...   \n",
       "3     O que crean defender causas como el #INENoSeTo...   \n",
       "4     Esta tipa de Berta Alcalde nos quiere retroced...   \n",
       "...                                                 ...   \n",
       "9995  Te queda claro #lopez? #con el himno nacional ...   \n",
       "9996  Y luego vino el himno nacional #Mérida #Yucatá...   \n",
       "9997  En unas 7 horas, se confirmará que @lopezobrad...   \n",
       "9998  @lopezdoriga @martibatres No saben sumar, meno...   \n",
       "9999  Dicen que hoy era el cumpleaños de lopez obrad...   \n",
       "\n",
       "                                                    url language  \\\n",
       "0     https://twitter.com/Dondannycurr/status/163870...       es   \n",
       "1     https://twitter.com/DAT221177/status/163866274...       es   \n",
       "2     https://twitter.com/Cardinalboy3/status/163864...      qme   \n",
       "3     https://twitter.com/ALFREDOMARTNEZ8/status/163...       es   \n",
       "4     https://twitter.com/InnovationChief/status/163...       es   \n",
       "...                                                 ...      ...   \n",
       "9995  https://twitter.com/MOALAR/status/159203211591...       es   \n",
       "9996  https://twitter.com/infolliteras/status/159203...       es   \n",
       "9997  https://twitter.com/DavidMartzMX/status/159203...       es   \n",
       "9998  https://twitter.com/AlejandroFixer/status/1592...       es   \n",
       "9999  https://twitter.com/JaviXCubaLibre/status/1592...       es   \n",
       "\n",
       "                                               hashtags  likes_count  \\\n",
       "0                                         [IneNoSeToca]            0   \n",
       "1                                         [INENoSeToca]            2   \n",
       "2                                         [inenosetoca]            0   \n",
       "3                                         [INENoSeToca]            0   \n",
       "4                                    [INE, inenosetoca]            0   \n",
       "...                                                 ...          ...   \n",
       "9995                     [lopez, con, INE, INENoSeToca]            6   \n",
       "9996          [Mérida, Yucatán, INENoSeToca, INE, INEC]            3   \n",
       "9997                                 [INENoSeToca, INE]            0   \n",
       "9998  [morena, chaspm, INENoSeToca, ElINESeDefiende,...            0   \n",
       "9999  [INENoSeToca, Mexico, Iran, IranRevolution, BR...           35   \n",
       "\n",
       "      reply_count  retweet_count  quote_count  \n",
       "0               0              0            0  \n",
       "1               0              0            0  \n",
       "2               0              0            0  \n",
       "3               0              0            0  \n",
       "4               0              0            0  \n",
       "...           ...            ...          ...  \n",
       "9995            0              3            0  \n",
       "9996            0              1            1  \n",
       "9997            0              0            0  \n",
       "9998            0              0            0  \n",
       "9999            2             22            1  \n",
       "\n",
       "[10000 rows x 11 columns]"
      ]
     },
     "execution_count": 26,
     "metadata": {},
     "output_type": "execute_result"
    }
   ],
   "source": [
    "# Pandas dataframe con tweets que mencionen el hashtag #INENoSeToca\n",
    "df_ine = pd.DataFrame(tweets_list_ine, columns=column_names)\n",
    "df_ine['date'] = df_ine['date'].dt.strftime('%Y-%m-%d')\n",
    "df_ine"
   ]
  },
  {
   "cell_type": "code",
   "execution_count": 27,
   "id": "e640d883-f739-44f3-bd0b-18e77e30f824",
   "metadata": {},
   "outputs": [
    {
     "data": {
      "text/plain": [
       "'Y curiosamente el voto de calidad lo tuvo el magistrado Reyes Rodríguez Mondragón que en un tuit añoraba  que AMLO muriera... pero el #INENoSeToca verdad?? Solo están defendiendo sus privilegios, la democracia en realidad no les interesa.'"
      ]
     },
     "execution_count": 27,
     "metadata": {},
     "output_type": "execute_result"
    }
   ],
   "source": [
    "# ejemplo de tweet\n",
    "df_ine['content'][1]"
   ]
  },
  {
   "cell_type": "code",
   "execution_count": 28,
   "id": "4d849f3b-110b-4b43-96aa-f9a127c3ee41",
   "metadata": {},
   "outputs": [
    {
     "data": {
      "text/html": [
       "<div>\n",
       "<style scoped>\n",
       "    .dataframe tbody tr th:only-of-type {\n",
       "        vertical-align: middle;\n",
       "    }\n",
       "\n",
       "    .dataframe tbody tr th {\n",
       "        vertical-align: top;\n",
       "    }\n",
       "\n",
       "    .dataframe thead th {\n",
       "        text-align: right;\n",
       "    }\n",
       "</style>\n",
       "<table border=\"1\" class=\"dataframe\">\n",
       "  <thead>\n",
       "    <tr style=\"text-align: right;\">\n",
       "      <th></th>\n",
       "      <th>fecha</th>\n",
       "      <th>tweets</th>\n",
       "    </tr>\n",
       "  </thead>\n",
       "  <tbody>\n",
       "    <tr>\n",
       "      <th>0</th>\n",
       "      <td>2023-02-26</td>\n",
       "      <td>1919</td>\n",
       "    </tr>\n",
       "    <tr>\n",
       "      <th>1</th>\n",
       "      <td>2022-11-14</td>\n",
       "      <td>1268</td>\n",
       "    </tr>\n",
       "    <tr>\n",
       "      <th>2</th>\n",
       "      <td>2023-02-27</td>\n",
       "      <td>920</td>\n",
       "    </tr>\n",
       "    <tr>\n",
       "      <th>3</th>\n",
       "      <td>2022-11-15</td>\n",
       "      <td>632</td>\n",
       "    </tr>\n",
       "    <tr>\n",
       "      <th>4</th>\n",
       "      <td>2022-12-07</td>\n",
       "      <td>499</td>\n",
       "    </tr>\n",
       "  </tbody>\n",
       "</table>\n",
       "</div>"
      ],
      "text/plain": [
       "        fecha  tweets\n",
       "0  2023-02-26    1919\n",
       "1  2022-11-14    1268\n",
       "2  2023-02-27     920\n",
       "3  2022-11-15     632\n",
       "4  2022-12-07     499"
      ]
     },
     "execution_count": 28,
     "metadata": {},
     "output_type": "execute_result"
    }
   ],
   "source": [
    "source = pd.DataFrame(df_ine['date'].value_counts()).reset_index().rename(columns={'index':'fecha', 'date':\"tweets\"})\n",
    "source.head()"
   ]
  },
  {
   "cell_type": "code",
   "execution_count": 29,
   "id": "ed0d8e4f-24f9-473a-8355-937fdba54065",
   "metadata": {},
   "outputs": [
    {
     "data": {
      "text/html": [
       "\n",
       "<div id=\"altair-viz-3f69f8f2117a4364a8d57433899c079e\"></div>\n",
       "<script type=\"text/javascript\">\n",
       "  var VEGA_DEBUG = (typeof VEGA_DEBUG == \"undefined\") ? {} : VEGA_DEBUG;\n",
       "  (function(spec, embedOpt){\n",
       "    let outputDiv = document.currentScript.previousElementSibling;\n",
       "    if (outputDiv.id !== \"altair-viz-3f69f8f2117a4364a8d57433899c079e\") {\n",
       "      outputDiv = document.getElementById(\"altair-viz-3f69f8f2117a4364a8d57433899c079e\");\n",
       "    }\n",
       "    const paths = {\n",
       "      \"vega\": \"https://cdn.jsdelivr.net/npm//vega@5?noext\",\n",
       "      \"vega-lib\": \"https://cdn.jsdelivr.net/npm//vega-lib?noext\",\n",
       "      \"vega-lite\": \"https://cdn.jsdelivr.net/npm//vega-lite@4.17.0?noext\",\n",
       "      \"vega-embed\": \"https://cdn.jsdelivr.net/npm//vega-embed@6?noext\",\n",
       "    };\n",
       "\n",
       "    function maybeLoadScript(lib, version) {\n",
       "      var key = `${lib.replace(\"-\", \"\")}_version`;\n",
       "      return (VEGA_DEBUG[key] == version) ?\n",
       "        Promise.resolve(paths[lib]) :\n",
       "        new Promise(function(resolve, reject) {\n",
       "          var s = document.createElement('script');\n",
       "          document.getElementsByTagName(\"head\")[0].appendChild(s);\n",
       "          s.async = true;\n",
       "          s.onload = () => {\n",
       "            VEGA_DEBUG[key] = version;\n",
       "            return resolve(paths[lib]);\n",
       "          };\n",
       "          s.onerror = () => reject(`Error loading script: ${paths[lib]}`);\n",
       "          s.src = paths[lib];\n",
       "        });\n",
       "    }\n",
       "\n",
       "    function showError(err) {\n",
       "      outputDiv.innerHTML = `<div class=\"error\" style=\"color:red;\">${err}</div>`;\n",
       "      throw err;\n",
       "    }\n",
       "\n",
       "    function displayChart(vegaEmbed) {\n",
       "      vegaEmbed(outputDiv, spec, embedOpt)\n",
       "        .catch(err => showError(`Javascript Error: ${err.message}<br>This usually means there's a typo in your chart specification. See the javascript console for the full traceback.`));\n",
       "    }\n",
       "\n",
       "    if(typeof define === \"function\" && define.amd) {\n",
       "      requirejs.config({paths});\n",
       "      require([\"vega-embed\"], displayChart, err => showError(`Error loading script: ${err.message}`));\n",
       "    } else {\n",
       "      maybeLoadScript(\"vega\", \"5\")\n",
       "        .then(() => maybeLoadScript(\"vega-lite\", \"4.17.0\"))\n",
       "        .then(() => maybeLoadScript(\"vega-embed\", \"6\"))\n",
       "        .catch(showError)\n",
       "        .then(() => displayChart(vegaEmbed));\n",
       "    }\n",
       "  })({\"config\": {\"view\": {\"continuousWidth\": 400, \"continuousHeight\": 300}}, \"data\": {\"name\": \"data-47beebe597628903d093a26b412ab7bb\"}, \"mark\": {\"type\": \"area\", \"color\": \"pink\"}, \"encoding\": {\"tooltip\": [{\"field\": \"fecha\", \"type\": \"temporal\"}, {\"field\": \"tweets\", \"type\": \"quantitative\"}], \"x\": {\"field\": \"fecha\", \"title\": \"2022\", \"type\": \"temporal\"}, \"y\": {\"field\": \"tweets\", \"scale\": {\"type\": \"log\"}, \"title\": \"N\\u00famero de Tweets\", \"type\": \"quantitative\"}}, \"title\": \"Volumen de tweets con hashtag #INENoSeToca durante 2023\", \"$schema\": \"https://vega.github.io/schema/vega-lite/v4.17.0.json\", \"datasets\": {\"data-47beebe597628903d093a26b412ab7bb\": [{\"fecha\": \"2023-02-26\", \"tweets\": 1919}, {\"fecha\": \"2023-02-27\", \"tweets\": 920}, {\"fecha\": \"2023-02-24\", \"tweets\": 187}, {\"fecha\": \"2023-02-28\", \"tweets\": 174}, {\"fecha\": \"2023-02-25\", \"tweets\": 152}, {\"fecha\": \"2023-02-23\", \"tweets\": 105}, {\"fecha\": \"2023-02-22\", \"tweets\": 100}, {\"fecha\": \"2023-01-26\", \"tweets\": 99}, {\"fecha\": \"2023-01-27\", \"tweets\": 81}, {\"fecha\": \"2023-03-19\", \"tweets\": 57}, {\"fecha\": \"2023-03-01\", \"tweets\": 56}, {\"fecha\": \"2023-03-03\", \"tweets\": 54}, {\"fecha\": \"2023-03-02\", \"tweets\": 47}, {\"fecha\": \"2023-02-21\", \"tweets\": 37}, {\"fecha\": \"2023-01-25\", \"tweets\": 32}, {\"fecha\": \"2023-03-15\", \"tweets\": 31}, {\"fecha\": \"2023-03-04\", \"tweets\": 31}, {\"fecha\": \"2023-01-28\", \"tweets\": 31}, {\"fecha\": \"2023-03-14\", \"tweets\": 29}, {\"fecha\": \"2023-03-17\", \"tweets\": 26}, {\"fecha\": \"2023-03-13\", \"tweets\": 25}, {\"fecha\": \"2023-03-20\", \"tweets\": 23}, {\"fecha\": \"2023-02-19\", \"tweets\": 23}, {\"fecha\": \"2023-03-18\", \"tweets\": 22}, {\"fecha\": \"2023-03-09\", \"tweets\": 22}, {\"fecha\": \"2023-03-07\", \"tweets\": 22}, {\"fecha\": \"2023-01-30\", \"tweets\": 21}, {\"fecha\": \"2023-01-29\", \"tweets\": 17}, {\"fecha\": \"2023-03-05\", \"tweets\": 17}, {\"fecha\": \"2023-03-06\", \"tweets\": 15}, {\"fecha\": \"2023-01-31\", \"tweets\": 13}, {\"fecha\": \"2023-03-21\", \"tweets\": 12}, {\"fecha\": \"2023-03-22\", \"tweets\": 12}, {\"fecha\": \"2023-03-16\", \"tweets\": 11}, {\"fecha\": \"2023-02-20\", \"tweets\": 11}, {\"fecha\": \"2023-03-12\", \"tweets\": 9}, {\"fecha\": \"2023-02-07\", \"tweets\": 9}, {\"fecha\": \"2023-03-10\", \"tweets\": 8}, {\"fecha\": \"2023-02-05\", \"tweets\": 8}, {\"fecha\": \"2023-01-02\", \"tweets\": 8}, {\"fecha\": \"2023-02-17\", \"tweets\": 8}, {\"fecha\": \"2023-02-14\", \"tweets\": 7}, {\"fecha\": \"2023-02-13\", \"tweets\": 7}, {\"fecha\": \"2023-03-08\", \"tweets\": 7}, {\"fecha\": \"2023-02-18\", \"tweets\": 7}, {\"fecha\": \"2023-02-11\", \"tweets\": 6}, {\"fecha\": \"2023-02-01\", \"tweets\": 6}, {\"fecha\": \"2023-02-16\", \"tweets\": 5}, {\"fecha\": \"2023-02-06\", \"tweets\": 5}, {\"fecha\": \"2023-02-02\", \"tweets\": 5}, {\"fecha\": \"2023-03-11\", \"tweets\": 5}, {\"fecha\": \"2023-02-15\", \"tweets\": 4}, {\"fecha\": \"2023-02-12\", \"tweets\": 4}, {\"fecha\": \"2023-02-09\", \"tweets\": 4}, {\"fecha\": \"2023-02-08\", \"tweets\": 4}, {\"fecha\": \"2023-01-07\", \"tweets\": 4}, {\"fecha\": \"2023-02-03\", \"tweets\": 3}, {\"fecha\": \"2023-01-23\", \"tweets\": 3}, {\"fecha\": \"2023-02-10\", \"tweets\": 3}, {\"fecha\": \"2023-01-24\", \"tweets\": 3}, {\"fecha\": \"2023-02-04\", \"tweets\": 3}, {\"fecha\": \"2023-01-05\", \"tweets\": 3}, {\"fecha\": \"2023-01-06\", \"tweets\": 3}, {\"fecha\": \"2023-01-14\", \"tweets\": 3}, {\"fecha\": \"2023-01-09\", \"tweets\": 3}, {\"fecha\": \"2023-01-17\", \"tweets\": 2}, {\"fecha\": \"2023-01-11\", \"tweets\": 2}, {\"fecha\": \"2023-01-22\", \"tweets\": 2}, {\"fecha\": \"2023-01-18\", \"tweets\": 2}, {\"fecha\": \"2023-01-15\", \"tweets\": 2}, {\"fecha\": \"2023-01-12\", \"tweets\": 2}, {\"fecha\": \"2023-01-10\", \"tweets\": 2}, {\"fecha\": \"2023-01-03\", \"tweets\": 2}, {\"fecha\": \"2023-01-01\", \"tweets\": 2}, {\"fecha\": \"2023-01-04\", \"tweets\": 1}, {\"fecha\": \"2023-01-08\", \"tweets\": 1}, {\"fecha\": \"2023-01-13\", \"tweets\": 1}, {\"fecha\": \"2023-01-20\", \"tweets\": 1}, {\"fecha\": \"2023-03-23\", \"tweets\": 1}]}}, {\"mode\": \"vega-lite\"});\n",
       "</script>"
      ],
      "text/plain": [
       "alt.Chart(...)"
      ]
     },
     "execution_count": 29,
     "metadata": {},
     "output_type": "execute_result"
    }
   ],
   "source": [
    "alt.Chart(source[source['fecha'] >= \"2023-01-01\"]).mark_area(color=\"pink\").encode(\n",
    "    alt.X(\"fecha:T\", title=\"2022\"),\n",
    "    alt.Y(\"tweets:Q\", title=\"Número de Tweets\", scale=alt.Scale(type=\"log\")),\n",
    "    tooltip=[\"fecha:T\",\"tweets\"]\n",
    ").properties(\n",
    "    title=\"Volumen de tweets con hashtag #INENoSeToca durante 2023\"\n",
    ")"
   ]
  },
  {
   "cell_type": "markdown",
   "id": "658fe562",
   "metadata": {},
   "source": [
    "# Referencias\n",
    "- **API de Twitter**\n",
    "    - [Solicitud de cuenta de desarrollador](https://developer.twitter.com/en/portal/dashboard)\n",
    "    - [Twitter API Data Collection](https://www.youtube.com/watch?v=Jl-_dDqSaUQ&t=59s) por Stevesie Data (minuto 0:59 al 1:44)\n",
    "    - [Ejemplo de uso](https://github.com/vcuspinera/Canada_response_covid/blob/master/src/twitter-search_v1_TwitterAPI.ipynb)  \n",
    "\n",
    "<br>\n",
    "\n",
    "- **librería `GetOldTweets`**\n",
    "    - [Descripción del paquete](https://pypi.org/project/GetOldTweets3/) \n",
    "    - [Página del paquete en GitHub](https://github.com/Mottl/GetOldTweets3)\n",
    "    - [Error del paquete](https://github.com/Mottl/GetOldTweets3/issues/98)\n",
    "    - [Ejemplo de uso](https://github.com/vcuspinera/Canada_response_covid/blob/master/src/twitter-search_v2_GetOldTweets3.ipynb)  \n",
    "\n",
    "<br>\n",
    "\n",
    "- **librería `snscrape`**\n",
    "    - [Descripción del paquete](https://pypi.org/project/snscrape/) \n",
    "    - [Página del paquete en GitHub](https://github.com/JustAnotherArchivist/snscrape)\n",
    "    - [Ejemplo de uso](https://github.com/vcuspinera/Canada_response_covid/blob/master/src/twitter-search_v3_snscrape.ipynb)  \n",
    "\n",
    "<br>\n",
    "\n",
    "- **Artículos**\n",
    "    - [How to scrape millions of tweets using snscrape](https://medium.com/dataseries/how-to-scrape-millions-of-tweets-using-snscrape-195ee3594721) por Rashi Desai.\n",
    "    - [How to Scrape Tweets With snscrape](https://betterprogramming.pub/how-to-scrape-tweets-with-snscrape-90124ed006af) por Martin Beck."
   ]
  },
  {
   "cell_type": "code",
   "execution_count": null,
   "id": "7ecf8d19",
   "metadata": {},
   "outputs": [],
   "source": []
  }
 ],
 "metadata": {
  "kernelspec": {
   "display_name": "Python 3 (ipykernel)",
   "language": "python",
   "name": "python3"
  },
  "language_info": {
   "codemirror_mode": {
    "name": "ipython",
    "version": 3
   },
   "file_extension": ".py",
   "mimetype": "text/x-python",
   "name": "python",
   "nbconvert_exporter": "python",
   "pygments_lexer": "ipython3",
   "version": "3.10.8"
  }
 },
 "nbformat": 4,
 "nbformat_minor": 5
}
