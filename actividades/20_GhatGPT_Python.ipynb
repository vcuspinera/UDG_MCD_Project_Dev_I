{
 "cells": [
  {
   "cell_type": "markdown",
   "id": "8e09b550-d4e0-4193-9b02-fbe7577c52aa",
   "metadata": {},
   "source": [
    "# 20 • Uso de ChatGPT con Python\n",
    "ChatGPT es una aplicación de chatbot de inteligencia artificial desarrollado por OpenAI que se especializa en el diálogo. La página de esta herramienta es: https://platform.openai.com/docs/overview.\n",
    "\n",
    "Para poder utilizar ChatGPT desde Python es necesario seguir los siguientes pasos de acuerdo a [**OpenAI Python API library**](https://github.com/openai/openai-python):\n",
    "- Instalarlo con `pip install openai`.\n",
    "- Suscribirse a OpenAI y obtener una llave en la API oficial.\n",
    "- Seguir la sección de `Usage` de la siguiente liga: https://github.com/openai/openai-python#usage\n",
    "\n",
    "\n",
    "## Contenido\n",
    "1. Instalación\n",
    "2. Hacer una Pregunta\n",
    "3. Solicitar ejemplo de código\n",
    "4. Referencias  "
   ]
  },
  {
   "cell_type": "markdown",
   "id": "7d8eb864-51e2-49f3-bcec-db1a1db2866d",
   "metadata": {},
   "source": [
    "### 1. Instalación de OpenAI"
   ]
  },
  {
   "cell_type": "code",
   "execution_count": 1,
   "id": "c4255275-a439-4fa9-a4a3-a0451f53bafa",
   "metadata": {
    "tags": []
   },
   "outputs": [],
   "source": [
    "## Instalación de OpenAI en Python\n",
    "# ! pip install openai"
   ]
  },
  {
   "cell_type": "code",
   "execution_count": 3,
   "id": "9900f4e9-78d9-49d9-9872-ba9398bf6585",
   "metadata": {
    "tags": []
   },
   "outputs": [],
   "source": [
    "# llamar librerías\n",
    "from openai import OpenAI"
   ]
  },
  {
   "cell_type": "code",
   "execution_count": 6,
   "id": "4bd1d053-11e7-4751-9c19-fa8f56f14b42",
   "metadata": {
    "tags": []
   },
   "outputs": [],
   "source": [
    "# poner la llave personal de OpenAI\n",
    "file1 = open('../../09_Pswd/ChatGPT_vic.txt',\"r\")\n",
    "my_key = file1.read().split(\"\\n\")[1]\n",
    "file1.close()\n",
    "\n",
    "# Usar la llave\n",
    "client = OpenAI(\n",
    "    # defaults to os.environ.get(\"OPENAI_API_KEY\")\n",
    "    api_key=my_key\n",
    ")"
   ]
  },
  {
   "cell_type": "markdown",
   "id": "1c810f7b-4429-400f-9073-e175ef99780e",
   "metadata": {},
   "source": [
    "### 2. Hacer una pregunta\n",
    "En esta sección se hizo una pregunta para ver la respuesta que daba; en específico, se preguntó en español ¿cuál es la mejor forma de instalar Python?"
   ]
  },
  {
   "cell_type": "code",
   "execution_count": 7,
   "id": "399270a6-aab0-4786-b06b-10bf69d24ea5",
   "metadata": {
    "tags": []
   },
   "outputs": [
    {
     "name": "stdout",
     "output_type": "stream",
     "text": [
      "ChatCompletionMessage(content='La mejor forma de instalar Python depende del sistema operativo que estés utilizando. A continuación, te menciono algunas opciones comunes:\\n\\n1. Windows: Puedes descargar el instalador oficial de Python desde el sitio web oficial de Python (https://www.python.org). Simplemente descarga el archivo ejecutable y sigue las instrucciones para instalar Python en tu sistema.\\n\\n2. macOS: La forma más sencilla de instalar Python en macOS es utilizar Homebrew, un gestor de paquetes de código abierto para macOS. Abre la terminal y ejecuta el siguiente comando para instalar Homebrew:\\n```\\n/bin/bash -c \"$(curl -fsSL https://raw.githubusercontent.com/Homebrew/install/HEAD/install.sh)\"\\n```\\nDespués de instalar Homebrew, puedes ejecutar el siguiente comando para instalar Python:\\n```\\nbrew install python\\n```\\n\\n3. Linux: La mayoría de las distribuciones de Linux vienen con Python preinstalado. Sin embargo, si necesitas una versión específica o quieres realizar una instalación personalizada, puedes utilizar el gestor de paquetes de tu distribución para instalar Python. Por ejemplo, en Debian o Ubuntu, puedes ejecutar el siguiente comando en la terminal:\\n```\\nsudo apt-get install python3\\n```\\nEste comando instalará Python 3.x, que es la versión recomendada en la actualidad.\\n\\nAdicionalmente, también puedes utilizar herramientas como Anaconda o Miniconda para instalar y gestionar Python y sus paquetes en tu sistema.\\n\\nRecuerda que antes de instalar Python, debes comprobar si ya está instalado en tu sistema y la versión correspondiente. Para ello, puedes ejecutar `python --version` o `python3 --version` en la terminal, dependiendo de tu sistema operativo.', role='assistant', function_call=None, tool_calls=None) \n",
      "\n",
      "CPU times: user 14.7 ms, sys: 11.7 ms, total: 26.3 ms\n",
      "Wall time: 57.4 s\n"
     ]
    }
   ],
   "source": [
    "%%time\n",
    "\n",
    "completion = client.chat.completions.create(\n",
    "    messages=[\n",
    "        {\n",
    "            \"role\": \"user\",\n",
    "            \"content\": \"¿Cuál es la mejor forma de instalar Python?\",\n",
    "        }\n",
    "    ],\n",
    "    model=\"gpt-3.5-turbo\",\n",
    ")\n",
    "\n",
    "print(completion.choices[0].message, \"\\n\")"
   ]
  },
  {
   "cell_type": "code",
   "execution_count": 8,
   "id": "ce702d37-f9dc-40ec-9f71-ee49ce20bf97",
   "metadata": {
    "tags": []
   },
   "outputs": [
    {
     "name": "stdout",
     "output_type": "stream",
     "text": [
      "ChatCompletionMessage(content='La mejor forma de instalar Python depende del sistema operativo que estés utilizando. A continuación, te menciono algunas opciones comunes:\n",
      "\n",
      "1. Windows: Puedes descargar el instalador oficial de Python desde el sitio web oficial de Python (https://www.python.org). Simplemente descarga el archivo ejecutable y sigue las instrucciones para instalar Python en tu sistema.\n",
      "\n",
      "2. macOS: La forma más sencilla de instalar Python en macOS es utilizar Homebrew, un gestor de paquetes de código abierto para macOS. Abre la terminal y ejecuta el siguiente comando para instalar Homebrew:\n",
      "```\n",
      "/bin/bash -c \"$(curl -fsSL https://raw.githubusercontent.com/Homebrew/install/HEAD/install.sh)\"\n",
      "```\n",
      "Después de instalar Homebrew, puedes ejecutar el siguiente comando para instalar Python:\n",
      "```\n",
      "brew install python\n",
      "```\n",
      "\n",
      "3. Linux: La mayoría de las distribuciones de Linux vienen con Python preinstalado. Sin embargo, si necesitas una versión específica o quieres realizar una instalación personalizada, puedes utilizar el gestor de paquetes de tu distribución para instalar Python. Por ejemplo, en Debian o Ubuntu, puedes ejecutar el siguiente comando en la terminal:\n",
      "```\n",
      "sudo apt-get install python3\n",
      "```\n",
      "Este comando instalará Python 3.x, que es la versión recomendada en la actualidad.\n",
      "\n",
      "Adicionalmente, también puedes utilizar herramientas como Anaconda o Miniconda para instalar y gestionar Python y sus paquetes en tu sistema.\n",
      "\n",
      "Recuerda que antes de instalar Python, debes comprobar si ya está instalado en tu sistema y la versión correspondiente. Para ello, puedes ejecutar `python --version` o `python3 --version` en la terminal, dependiendo de tu sistema operativo.', role='assistant', function_call=None, tool_calls=None)\n"
     ]
    }
   ],
   "source": [
    "# imprimirlo con salto de renglón\n",
    "for i in str(completion.choices[0].message).split(\"\\\\n\"):\n",
    "    print(i)"
   ]
  },
  {
   "cell_type": "markdown",
   "id": "1e4e86a8-c5b7-4620-93c3-43130b643b1d",
   "metadata": {},
   "source": [
    "### 3. Solicitar ejemplo de código\n",
    "En esta sección se pidió a ChatGPT escribir un programa de Python con utilizando la librería spaCy, y se recibió una respuesta con un ejemplo de cómo utilizar la librerías de spaCy."
   ]
  },
  {
   "cell_type": "code",
   "execution_count": 9,
   "id": "dbf3c252-5dcf-48d9-ad94-86309aa63b74",
   "metadata": {
    "tags": []
   },
   "outputs": [
    {
     "name": "stdout",
     "output_type": "stream",
     "text": [
      "ChatCompletionMessage(content='Claro, aquí tienes un ejemplo de un programa de Python que utiliza la librería spaCy:\\n\\n```python\\nimport spacy\\n\\n# Cargar el modelo de lenguaje en español\\nnlp = spacy.load(\"es_core_news_sm\")\\n\\n# Texto de ejemplo\\ntexto = \"La inteligencia artificial es una rama de la informática que se encarga de crear programas y máquinas capaces de simular el pensamiento humano.\"\\n\\n# Procesar el texto con spaCy\\ndoc = nlp(texto)\\n\\n# Imprimir las entidades nombradas\\nprint(\"Entidades nombradas:\")\\nfor entity in doc.ents:\\n    print(entity.text, entity.label_)\\n\\n# Imprimir las oraciones\\nprint(\"\\\\nOraciones:\")\\nfor sentence in doc.sents:\\n    print(sentence)\\n\\n# Imprimir los tokens con sus atributos\\nprint(\"\\\\nTokens:\")\\nfor token in doc:\\n    print(token.text, token.pos_, token.dep_)\\n```\\n\\nEn este ejemplo, estamos utilizando la librería spaCy para realizar diferentes tareas de procesamiento de lenguaje natural. Primero, cargamos el modelo de lenguaje en español utilizando `spacy.load(\"es_core_news_sm\")`. Luego, procesamos un texto de ejemplo utilizando el modelo cargado y lo almacenamos en la variable `doc`.\\n\\nDespués, imprimimos las entidades nombradas encontradas en el texto utilizando `doc.ents` y el atributo `text` y `label_`. A continuación, imprimimos las oraciones utilizando `doc.sents` y finalmente, imprimimos los tokens del texto con sus atributos utilizando un bucle `for` y accediendo a los atributos `text`, `pos_` y `dep_`.\\n\\nEspero que esto te sea de ayuda para empezar a utilizar la librería spaCy en tus programas de Python. ¡Si tienes alguna pregunta, no dudes en hacerla!', role='assistant', function_call=None, tool_calls=None) \n",
      "\n",
      "CPU times: user 9.5 ms, sys: 3.33 ms, total: 12.8 ms\n",
      "Wall time: 1min 12s\n"
     ]
    }
   ],
   "source": [
    "%%time\n",
    "\n",
    "completion = client.chat.completions.create(\n",
    "    messages=[\n",
    "        {\n",
    "            \"role\": \"user\",\n",
    "            \"content\": \"Escribe un programa de Python con utilice la librería spaCy\",\n",
    "        }\n",
    "    ],\n",
    "    model=\"gpt-3.5-turbo\",\n",
    ")\n",
    "\n",
    "print(completion.choices[0].message, \"\\n\")"
   ]
  },
  {
   "cell_type": "code",
   "execution_count": 10,
   "id": "30fdd864-ab8f-46df-be1f-baa56a73adb6",
   "metadata": {
    "tags": []
   },
   "outputs": [
    {
     "name": "stdout",
     "output_type": "stream",
     "text": [
      "ChatCompletionMessage(content='Claro, aquí tienes un ejemplo de un programa de Python que utiliza la librería spaCy:\n",
      "\n",
      "```python\n",
      "import spacy\n",
      "\n",
      "# Cargar el modelo de lenguaje en español\n",
      "nlp = spacy.load(\"es_core_news_sm\")\n",
      "\n",
      "# Texto de ejemplo\n",
      "texto = \"La inteligencia artificial es una rama de la informática que se encarga de crear programas y máquinas capaces de simular el pensamiento humano.\"\n",
      "\n",
      "# Procesar el texto con spaCy\n",
      "doc = nlp(texto)\n",
      "\n",
      "# Imprimir las entidades nombradas\n",
      "print(\"Entidades nombradas:\")\n",
      "for entity in doc.ents:\n",
      "    print(entity.text, entity.label_)\n",
      "\n",
      "# Imprimir las oraciones\n",
      "print(\"\\\n",
      "Oraciones:\")\n",
      "for sentence in doc.sents:\n",
      "    print(sentence)\n",
      "\n",
      "# Imprimir los tokens con sus atributos\n",
      "print(\"\\\n",
      "Tokens:\")\n",
      "for token in doc:\n",
      "    print(token.text, token.pos_, token.dep_)\n",
      "```\n",
      "\n",
      "En este ejemplo, estamos utilizando la librería spaCy para realizar diferentes tareas de procesamiento de lenguaje natural. Primero, cargamos el modelo de lenguaje en español utilizando `spacy.load(\"es_core_news_sm\")`. Luego, procesamos un texto de ejemplo utilizando el modelo cargado y lo almacenamos en la variable `doc`.\n",
      "\n",
      "Después, imprimimos las entidades nombradas encontradas en el texto utilizando `doc.ents` y el atributo `text` y `label_`. A continuación, imprimimos las oraciones utilizando `doc.sents` y finalmente, imprimimos los tokens del texto con sus atributos utilizando un bucle `for` y accediendo a los atributos `text`, `pos_` y `dep_`.\n",
      "\n",
      "Espero que esto te sea de ayuda para empezar a utilizar la librería spaCy en tus programas de Python. ¡Si tienes alguna pregunta, no dudes en hacerla!', role='assistant', function_call=None, tool_calls=None)\n"
     ]
    }
   ],
   "source": [
    "# imprimirlo con salto de renglón\n",
    "for i in str(completion.choices[0].message).split(\"\\\\n\"):\n",
    "    print(i)"
   ]
  },
  {
   "cell_type": "markdown",
   "id": "a18b9ee9-a23a-44d2-88e8-28f31fa4009b",
   "metadata": {},
   "source": [
    "### 4. Referencias\n",
    "- Plataforma **ChatGPT** desarrollada por OpenAI: https://platform.openai.com/docs/overview\n",
    "- Librería `openai-python`: https://github.com/openai/openai-python\n",
    "- Ejemplo de uso de la librería por parte de [Alejandro-Tecno](https://github.com/Alejandro-Tecno/GPT_first_steps)."
   ]
  },
  {
   "cell_type": "code",
   "execution_count": null,
   "id": "9fc6aa69-0a86-4c6c-b6bc-1e71044d778c",
   "metadata": {},
   "outputs": [],
   "source": []
  }
 ],
 "metadata": {
  "kernelspec": {
   "display_name": "Python 3 (ipykernel)",
   "language": "python",
   "name": "python3"
  },
  "language_info": {
   "codemirror_mode": {
    "name": "ipython",
    "version": 3
   },
   "file_extension": ".py",
   "mimetype": "text/x-python",
   "name": "python",
   "nbconvert_exporter": "python",
   "pygments_lexer": "ipython3",
   "version": "3.11.5"
  }
 },
 "nbformat": 4,
 "nbformat_minor": 5
}
