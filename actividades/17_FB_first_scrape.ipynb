{
 "cells": [
  {
   "cell_type": "markdown",
   "metadata": {},
   "source": [
    "# Facebook scraper\n",
    "En este notebook revisaré como hacer scrape en Facebook para poder utilzarla posteriormente en análisis del Banco de México. \n",
    "\n",
    "## Contenido \n",
    "\n",
    "1. Load libraries\n",
    "2. Identificar posts de una cuenta\n",
    "3. Comentarios adicionales\n",
    "4. Referencias\n",
    "\n",
    "## 1. Loading\n",
    "### Librerías"
   ]
  },
  {
   "cell_type": "code",
   "execution_count": 1,
   "metadata": {},
   "outputs": [],
   "source": [
    "## Instalación de librería Facebook Scraper, link: https://pypi.org/project/facebook-scraper/\n",
    "# !pip install facebook-scraper\n",
    "\n",
    "## Actualizar pandas\n",
    "# !pip3 install --upgrade pandas"
   ]
  },
  {
   "cell_type": "code",
   "execution_count": 3,
   "metadata": {},
   "outputs": [
    {
     "name": "stderr",
     "output_type": "stream",
     "text": [
      "/Users/vcuspinera/opt/miniconda3/lib/python3.10/site-packages/tqdm/auto.py:22: TqdmWarning: IProgress not found. Please update jupyter and ipywidgets. See https://ipywidgets.readthedocs.io/en/stable/user_install.html\n",
      "  from .autonotebook import tqdm as notebook_tqdm\n"
     ]
    }
   ],
   "source": [
    "# importar librerías\n",
    "import facebook_scraper as fbs\n",
    "import pandas as pd\n",
    "import numpy as np\n",
    "import time"
   ]
  },
  {
   "cell_type": "markdown",
   "metadata": {},
   "source": [
    "### Credenciales de cuenta personal de Facebook"
   ]
  },
  {
   "cell_type": "code",
   "execution_count": 5,
   "metadata": {},
   "outputs": [],
   "source": [
    "# Cuenta personal de Facebook (para usar la librería se requiren las credenciales personales)\n",
    "pers_account = pd.read_csv('../../09_Pswd/FB_vic.txt', header=None, delim_whitespace='\\t', index_col=0)\n",
    "#pers_account = pd.read_csv('keys/FB_credenciales.txt', header=None, delim_whitespace='\\t', index_col=0)\n",
    "my_email = pers_account.loc[\"email\"][1]\n",
    "my_pswd = pers_account.loc[\"pswd\"][1]"
   ]
  },
  {
   "cell_type": "code",
   "execution_count": 7,
   "metadata": {},
   "outputs": [
    {
     "data": {
      "text/plain": [
       "'cuspi@hotmail.com'"
      ]
     },
     "execution_count": 7,
     "metadata": {},
     "output_type": "execute_result"
    }
   ],
   "source": [
    "# para ver si jaló la info, imprimir mi email\n",
    "my_email"
   ]
  },
  {
   "cell_type": "markdown",
   "metadata": {},
   "source": [
    "## 2. Consultar posts de una cuenta"
   ]
  },
  {
   "cell_type": "code",
   "execution_count": 37,
   "metadata": {},
   "outputs": [],
   "source": [
    "tot_pages = 1  # por cada página aprox son 10 posts o publicaciones, pero se tarda en jalarlos"
   ]
  },
  {
   "cell_type": "code",
   "execution_count": 43,
   "metadata": {},
   "outputs": [
    {
     "name": "stderr",
     "output_type": "stream",
     "text": [
      "D:\\devenv\\Anaconda32020.11\\lib\\site-packages\\IPython\\core\\magics\\execution.py:1321: UserWarning: A low page limit (<=2) might return no results, try increasing the limit\n",
      "  exec(code, glob, local_ns)\n"
     ]
    },
    {
     "name": "stdout",
     "output_type": "stream",
     "text": [
      "Tiempo que tardó en consultar los posts: 265.8914704322815 segundos\n",
      "Wall time: 4min 25s\n"
     ]
    }
   ],
   "source": [
    "%%time\n",
    "\n",
    "# inicia el timer\n",
    "start_time = time.time()\n",
    "\n",
    "# revisa posts\n",
    "#posts_banxico = list()\n",
    "the_posts = []\n",
    "\n",
    "n = 1\n",
    "print(\"\\n--- START: get_posts de Facebook ---\\n\")\n",
    "print(\"   Se han bajado...\")\n",
    "for post in fbs.get_posts(\"Xochitl.Galvez.R\", pages=tot_pages, credentials=(my_email , my_pswd)):    # Cuenta de Banco de México \"BanxicoOficial\"    \n",
    "    the_posts.append([post['username'], post['text'], post['post_id'],\n",
    "                      post['time'], post['likes'], post['comments'],\n",
    "                      post['shares'], post['reaction_count']\n",
    "                     ])\n",
    "    #posts_banxico.append(post['text'])\n",
    "    time.sleep(20)\n",
    "    print(\"   \", n, \" posts\")\n",
    "    n=n+1\n",
    "    \n",
    "print(\"\\n--- END: get_posts de Facebook ---\\n\")\n",
    "\n",
    "\n",
    "# tomar tiempo para correr este código\n",
    "end_time = time.time()\n",
    "elapsed = end_time - start_time\n",
    "print(f\"Tiempo que tardó en consultar los posts: {elapsed} segundos\")\n",
    "\n",
    "# NOTA:\n",
    "# Si tienes dos métodos de autenticación te va a pedir desde el celular aceptarlo, y después le das enter para que siga corriendo"
   ]
  },
  {
   "cell_type": "code",
   "execution_count": 44,
   "metadata": {},
   "outputs": [
    {
     "data": {
      "text/plain": [
       "10"
      ]
     },
     "execution_count": 44,
     "metadata": {},
     "output_type": "execute_result"
    }
   ],
   "source": [
    "# Cuántos posts se consultaron\n",
    "len(posts_banxico)"
   ]
  },
  {
   "cell_type": "code",
   "execution_count": 45,
   "metadata": {},
   "outputs": [
    {
     "data": {
      "text/plain": [
       "{'post_id': '922871845865364',\n",
       " 'text': 'Me da mucho gusto darte la bienvenida en este #FrenteAmplioPorMéxico, estimado Paco Rojas.\\n\\nCada vez somos más los que sabemos que el país no va bien y queremos meterle corazón para corregir el rumbo.\\n\\n¡A chambear por México y por Chiapas!\\n\\nMarko Cortés\\nYesterday at 11:09 ·\\n\\nEn conferencia de prensa con Paco Rojas Oficial y Mtra. Adela Ramos, sumando fuerzas porque vemos que las cosas en México y Chiapas no van bien, pero sabemos que nosotros podemos corregir el rumbo si trabajamos en equipo.\\n\\nHoy les puede asegurar que estamos construyendo el mejor proyecto para ir a ganar el próximo año👊🏼',\n",
       " 'post_text': 'Me da mucho gusto darte la bienvenida en este #FrenteAmplioPorMéxico, estimado Paco Rojas.\\n\\nCada vez somos más los que sabemos que el país no va bien y queremos meterle corazón para corregir el rumbo.\\n\\n¡A chambear por México y por Chiapas!',\n",
       " 'shared_text': 'Marko Cortés\\nYesterday at 11:09 ·\\n\\nEn conferencia de prensa con Paco Rojas Oficial y Mtra. Adela Ramos, sumando fuerzas porque vemos que las cosas en México y Chiapas no van bien, pero sabemos que nosotros podemos corregir el rumbo si trabajamos en equipo.\\n\\nHoy les puede asegurar que estamos construyendo el mejor proyecto para ir a ganar el próximo año👊🏼',\n",
       " 'original_text': None,\n",
       " 'time': datetime.datetime(2023, 10, 24, 22, 30, 47),\n",
       " 'timestamp': 1698204647,\n",
       " 'image': 'https://scontent-qro1-1.xx.fbcdn.net/v/t39.30808-6/395266767_882370133246337_5735504836767098426_n.jpg?stp=cp0_dst-jpg_e15_fr_q65&_nc_cat=108&ccb=1-7&_nc_sid=5f2048&efg=eyJpIjoidCJ9&_nc_eui2=AeGZtzbNStBWSrHcYLK0vDNjE8br-NUynPUTxuv41TKc9Uqup3oC5AW70qDETGowVBo&_nc_ohc=bfIRkpFLaNEAX_rlgfa&tn=BPQh2YEEnbUnFQq8&_nc_ht=scontent-qro1-1.xx&oh=00_AfCqYijPR9w_BXipTJ7zUwOgC93Xw6xoqH2LdSmwNLHyBA&oe=653E0FF2&manual_redirect=1',\n",
       " 'image_lowquality': 'https://scontent-qro1-1.xx.fbcdn.net/v/t39.30808-6/395266767_882370133246337_5735504836767098426_n.jpg?stp=cp0_dst-jpg_e15_q65_s320x320&_nc_cat=108&ccb=1-7&_nc_sid=5f2048&efg=eyJpIjoidCJ9&_nc_eui2=AeGZtzbNStBWSrHcYLK0vDNjE8br-NUynPUTxuv41TKc9Uqup3oC5AW70qDETGowVBo&_nc_ohc=bfIRkpFLaNEAX_rlgfa&tn=BPQh2YEEnbUnFQq8&_nc_ht=scontent-qro1-1.xx&oh=00_AfCYvLN3MlOCX1lOdVEmKgTFBJlGaDoHyeSsfWnbyJ3kGQ&oe=653E0FF2',\n",
       " 'images': ['https://scontent-qro1-1.xx.fbcdn.net/v/t39.30808-6/395266767_882370133246337_5735504836767098426_n.jpg?stp=cp0_dst-jpg_e15_fr_q65&_nc_cat=108&ccb=1-7&_nc_sid=5f2048&efg=eyJpIjoidCJ9&_nc_eui2=AeGZtzbNStBWSrHcYLK0vDNjE8br-NUynPUTxuv41TKc9Uqup3oC5AW70qDETGowVBo&_nc_ohc=bfIRkpFLaNEAX_rlgfa&tn=BPQh2YEEnbUnFQq8&_nc_ht=scontent-qro1-1.xx&oh=00_AfCqYijPR9w_BXipTJ7zUwOgC93Xw6xoqH2LdSmwNLHyBA&oe=653E0FF2&manual_redirect=1',\n",
       "  'https://scontent-qro1-1.xx.fbcdn.net/v/t39.30808-6/395230497_882370199912997_129459369986632552_n.jpg?stp=cp0_dst-jpg_e15_fr_q65&_nc_cat=104&ccb=1-7&_nc_sid=5f2048&efg=eyJpIjoidCJ9&_nc_eui2=AeHS9q4ps3FUv1yVpYPPYL8NLtmupG-8WLcu2a6kb7xYt0aZj6jO15P4LPvTQ-ySvWc&_nc_ohc=h2H18J1qGXIAX9dD8GL&_nc_ht=scontent-qro1-1.xx&oh=00_AfCMUr8ZT_cybYBcj57ZxmPrX_HMB007ATm6NI5NIqoo8g&oe=653EF883&manual_redirect=1',\n",
       "  'https://scontent-qro1-1.xx.fbcdn.net/v/t39.30808-6/395224053_882370149913002_1624522246002492897_n.jpg?stp=cp0_dst-jpg_e15_fr_q65&_nc_cat=110&ccb=1-7&_nc_sid=5f2048&efg=eyJpIjoidCJ9&_nc_eui2=AeG-AT86CWQqu-f-Imbc7SSGv6RYJcO9GEu_pFglw70YSzMBhcxXcYzhd3-dHMPlgiE&_nc_ohc=v_0xj7cRGdkAX_-g6b8&_nc_ht=scontent-qro1-1.xx&oh=00_AfCK552h2KVZGCI3RgvqtN5BQ377YWdJs29NtqW2PlSCaQ&oe=653EF8A8&manual_redirect=1',\n",
       "  'https://scontent-qro1-2.xx.fbcdn.net/v/t39.30808-6/393802539_882370736579610_3563159712836577325_n.jpg?stp=cp0_dst-jpg_e15_fr_q65&_nc_cat=109&ccb=1-7&_nc_sid=5f2048&efg=eyJpIjoidCJ9&_nc_eui2=AeEDdSYwp_PgLvVZQdnGHI7v30VxyC8yVinfRXHILzJWKQVm2ub4ft5h0y6VxfI5PS0&_nc_ohc=jQnKkvi3y0cAX_HhCEk&_nc_ht=scontent-qro1-2.xx&oh=00_AfAkVKMnu-z-kvoSdVe9-Zi940spC2GcxmtAWzNOSohusA&oe=653E1B9D&manual_redirect=1'],\n",
       " 'images_description': ['May be an image of 4 people and text',\n",
       "  'May be an image of 3 people and text',\n",
       "  'May be an image of 10 people and text',\n",
       "  \"May be an image of 2 people and text that says 'Mark PAN'\"],\n",
       " 'images_lowquality': ['https://scontent-qro1-1.xx.fbcdn.net/v/t39.30808-6/395266767_882370133246337_5735504836767098426_n.jpg?stp=cp0_dst-jpg_e15_q65_s320x320&_nc_cat=108&ccb=1-7&_nc_sid=5f2048&efg=eyJpIjoidCJ9&_nc_eui2=AeGZtzbNStBWSrHcYLK0vDNjE8br-NUynPUTxuv41TKc9Uqup3oC5AW70qDETGowVBo&_nc_ohc=bfIRkpFLaNEAX_rlgfa&tn=BPQh2YEEnbUnFQq8&_nc_ht=scontent-qro1-1.xx&oh=00_AfCYvLN3MlOCX1lOdVEmKgTFBJlGaDoHyeSsfWnbyJ3kGQ&oe=653E0FF2',\n",
       "  'https://scontent-qro1-1.xx.fbcdn.net/v/t39.30808-6/395230497_882370199912997_129459369986632552_n.jpg?stp=cp0_dst-jpg_e15_q65_s160x160&_nc_cat=104&ccb=1-7&_nc_sid=5f2048&efg=eyJpIjoidCJ9&_nc_eui2=AeHS9q4ps3FUv1yVpYPPYL8NLtmupG-8WLcu2a6kb7xYt0aZj6jO15P4LPvTQ-ySvWc&_nc_ohc=h2H18J1qGXIAX9dD8GL&_nc_ht=scontent-qro1-1.xx&oh=00_AfDUtOey0mNjzM_zys2DVVLcAWF13Xv0Fi5SPd4qcv_ntg&oe=653EF883',\n",
       "  'https://scontent-qro1-1.xx.fbcdn.net/v/t39.30808-6/395224053_882370149913002_1624522246002492897_n.jpg?stp=cp0_dst-jpg_e15_q65_s160x160&_nc_cat=110&ccb=1-7&_nc_sid=5f2048&efg=eyJpIjoidCJ9&_nc_eui2=AeG-AT86CWQqu-f-Imbc7SSGv6RYJcO9GEu_pFglw70YSzMBhcxXcYzhd3-dHMPlgiE&_nc_ohc=v_0xj7cRGdkAX_-g6b8&_nc_ht=scontent-qro1-1.xx&oh=00_AfAbkGF05VRhr8MKMP45YDtG-HbLMljXsD_HiGG3tDo3Bw&oe=653EF8A8',\n",
       "  'https://scontent-qro1-2.xx.fbcdn.net/v/t39.30808-6/393802539_882370736579610_3563159712836577325_n.jpg?stp=cp0_dst-jpg_e15_q65_s160x160&_nc_cat=109&ccb=1-7&_nc_sid=5f2048&efg=eyJpIjoidCJ9&_nc_eui2=AeEDdSYwp_PgLvVZQdnGHI7v30VxyC8yVinfRXHILzJWKQVm2ub4ft5h0y6VxfI5PS0&_nc_ohc=jQnKkvi3y0cAX_HhCEk&_nc_ht=scontent-qro1-2.xx&oh=00_AfAAB_yN05xdY18m7KiAkfcx-0qGavhI3vnZxEo6A0Ab9g&oe=653E1B9D'],\n",
       " 'images_lowquality_description': ['May be an image of 4 people and text',\n",
       "  'May be an image of 3 people and text',\n",
       "  'May be an image of 10 people and text',\n",
       "  \"May be an image of 2 people and text that says 'Mark PAN'\"],\n",
       " 'video': None,\n",
       " 'video_duration_seconds': None,\n",
       " 'video_height': None,\n",
       " 'video_id': None,\n",
       " 'video_quality': None,\n",
       " 'video_size_MB': None,\n",
       " 'video_thumbnail': None,\n",
       " 'video_watches': None,\n",
       " 'video_width': None,\n",
       " 'likes': 1787,\n",
       " 'comments': 249,\n",
       " 'shares': 44,\n",
       " 'post_url': 'https://facebook.com/Xochitl.Galvez.R/posts/922871845865364',\n",
       " 'link': None,\n",
       " 'links': [{'link': '/hashtag/frenteamplioporméxico?refid=17&_ft_=encrypted_tracking_data.0AY_Uo7Edlz1NhCrEKfV6B8n9ZxRETYR_tP0CoD9zaYeMUYRrI0s17RS0zF8xBAewTpcuom91CaK5J287LJeJxJ8sAhpsnTlYxB_Y3d509TQ5Ew-N1FnlPZJjGELP8kMzef_fassdioDyNw6r-ihQ9AeOjeLx0-BbqfjAth4eUjv3VQeFu8FmJSbeL3o25YL8ivexRC0PB0Hn0yp1UJuGMQvPEskiZStVCic2H_qBA4iouYKSgdOjkXncCPACeHcNBEJq5-iZOS-nd-GyLfWpk_sntsLbXnNb43jLYUpJMllblRyyQO4BahDqkasLUg1ojWkO_6X_gGGCrevPivdfEjxKf-rJjFJ7-WWRi8fGjIG5ovIE8mpXFDoVsCFedkx79IIBpI-QjVDSuiWvDbnl9gqcj7mIIH7AqspaM90erWKJvuiQpKqeqfDVitQJjq_7U-rU_kp4b1X_tYAy61vazBpbgQSyKMIDUyVSVMBJapSaCZG2RhAYXX1l_YVzNsNmTEquEDdte7UzP6pfBvA8W3RmB9bpnNc2BG3zTbFBmoOy1TQxhz8N5RyhKATw8O0Jkj9tSy4-PuSAutkzUhVSZjIjKQ47Ra_2hyluqQSG1yJdmoXSMA57sO_a20bjJc4CvQ1h9nZ431bDXLXiw2MwNrj5KYVNinTXD3g_2l870vqIKzvH-0ZrtgRpYOEUMaR4E-64cCt556i8Suxl3R5P48KPXcG9rCupebalEAzmcBMzZaJMa4M3n14PGDI4dDlvwaO1yQZvfjRPu11XAWvzx2OI0g4B0Zh2fi7fhHRGm7HDo_OQenSRwJAKSJRlpjd4jV1klTXzZPJqFZS3aSKju62ZPC1sNn9GNR5_ivBzYhr2cXt92QTx0lxpB5o2GaiHNDCZ0g82FZwh7tUpSFuBMQnm5lZR0y25ejiC1c7E-Wg9x6nswfxs_axi_DJZiaMO-3Iz2xUaB2A8hWekm3xM03FEP73IUln0pCKTYFGzapie4K8m4dprYoIy4iigkV2PbF7Gf1rnzDCOFIhKQzSbuOls3jY5kgM7ydQ0v0lTU7Ye6PqR9bX400Igx2jv3UgFA-rHrocIzD0twQdiPjqI9cYSCkDFeIcCXNoWlrDoDYX82-7uyEiSpTavMGKbMZCnDw0G_gP9uPtZQEjD-bHu3AoGR4Y2W8tSq1LLwyZxYqQanDwd7oNLhmZBUST3Y9iXEL8KKvz-_1-IEaiKZr6fyDYIjsjfuUZYdMYDrGuystBsWOBClfMJW9yqYnktUMnbH_u-kkOGOb8T1z2HC6FayrkIvvcMdYlsYPNenWrPQn4sPzUCz9bGw5nNIy4kzAgWwBfBBStxmUh7ReCTeHJRRCcM2Ourdz1CvwVxHK7zfIAYJiAVuXjLhTwIj4VLsAcVGhsxfHRdSrk82NlU4DJHM4Gvb5pTv3skVol4LDuR1h-sRjPUFeu6KCOiWjQ1VnS-\\\\-\\\\PzCVOKU6zecHNGmY9joTfRhgG_3CwdEeK3TBwZmfhPPcQA72ETkMsyqR_atYHm4PZSSXv0ZcURzdE3fFKKBwsnvGHOUb_mswcSWjtvtt0bRiMZf9Ys2Am2l-phOYW2kHg6WSeY8L1fc5F8iDr3vtOf997S-6Pw8WVylNovG-lZxaWLhi8YBa5zYcBPUdcqSsXjsWj9cbPCCcIQBpFHrCOKoD6i3oYuzJjsLYeino02y4HoyI1OAM-FmZGkCYBHCFbg5tR1hZHJZxKVsiJecBAVLVPp8prJqE20aEgIUxIg5ImRYiu9REJ41QPxS_eW-jnmLLznT0JqijK-eAggmigHoNMPYoI2ABhhC2V7nOjp8lVOxixWA0IQMwT0QJEZUzaSB5cCOV95OPGQlw7wmpmr-dyj62-NWMhk1ze6bIaZeGWdYfPj8SRVBAD4Gec1wjFlEzxv3kklSKrT4dP4pVgUnzTbE7bOLosbFeAfRxNkxhqhHLwLe5XPwRKXB9zYbITv8oDoSDIk3pnQ7uEQ7YsjzQeSMQ_SYK68SN0pABRD4lsXHrU6GlJo2r9u8_jcDnPwe_62nrQBqFfSHFR18jfDFL8yoIpEL9uKyGHq7Vxdvnh3llbsSYuVNu_rm0W69PgvSbL8NmqS-Vbpda6v50dV_pjZh9L27N9D3SLRsaSrxQGd3w7KDewwhTul82KEA4bRpnP5NK0Xzg9r6CUMN4q-4-MSH6hcmBFtXvlc_lKSVw472dMW9EGImBOPIG3OmeDdrjCJ8iZTlUuC0SU_Kl0LeqzbRpxwXgTJ0Nh-qt3NY9CMZ29Rb2SdxCA9E7k1QLfEtv-eLTzjrsQcjCfXCAi412irtU52jkhThc8-7lxr8kX-GHqmcCPcPtgSBxTAcz1X4b39OUhVCwzep1gAM9kztCsjxSE7My9xUi3B9STSx4-rW-DG-4VdylDnPBh8AsCClh17w_83G25waqaKvktXe6N3I_6i7yqmHnfSkc-W79xc5MH_TR7M7unVLct6rCJRHhlbWNPPPStwArI6aNC_dm-om_kYX9kHRoAtaz0J5BU_YueErSzg1sBMGqWV5ukZXPevb6gzdNelvGRQDikaOTD5QSo-CLg6kMkReV263r8yU10EPCdRGm_4uTdtb9yvcCdqDrRoKBLVP6g-LqRqXa4b_cYwtlj6aD_u44VyAdaO4mm93zd-U6kugQ9-MWI5zhiorMm7BetCq0ti0v6RoU1uY7i2uzItyUawnQ661954h3SowHN1tPKWprs5JcyCUsXLa4_XipEl2nVFccrReouEXQCSAUTiZTLLSjfr1GvwGoPeh7W9-8y_nkXk393CFZ-72le-jn09yk4o8T0AKJQ7tEnz6XHj2NSItr5R8OlyUO9r4zseSbGZB8Udh-Vo__riyUgTjTho-4_W5tVuhDqm53JxfcioDdpPfUzytfymUf3ZGhJiQy7XbmmJOgtRZIeXstjb9yYFby7aGFEXzC22GMDkp7Bz6u38_jgd0B-LYfpO-Gd304mQkbBOVcBOyl33UQdcV2Tp-F_0S_GDVoMLxxEtJE0jb3MVdKf__kkYTKJxS_B3C_H2mEMV_ozTXyIq9rzjlfSu26pmwuCQrFkawgp1QyHQOcSPTTqEC3FIiKsEtqTDfPR7RcoeRqm2aBvhHYRk7Rr0IYnn0a5SsBc2eZpo7oEDaYBMETUJXWC57q-ZZklcLszpAiJrdx7Np2d2YWOkwx0bQHWXkVJqFGQJsoar8NN6vET_-zc8M6j6UQp9HRfDPTWD33QomORGzxUHk6rAaVArm4JEUa-44setk1y0p6lVlNpg0Cj_Q-W7uWZU8_6U9AetgQy59L82iRIXYXXaixuIG8vW_UHV4ek83CMsTTKT7h0JcbcMm4PMq03QpHHoJzM4q-GUplyLnGlGpCfQQkxGKotdtByO_jqeCkKIdmizQPuI6dkoURy9oeSHgL7CQG9-m_MEli-okgsz-lobZSNe4WY3NFh-ACcyQ8uVkT6zoMQug2LFl6RlCjA&__tn__=%2As-R&paipv=0&eav=AfbRORVBdRF_0CMicq5yB6G1sIL4r46O2b8voAe_GqCrlN9fFhyMQpSrbn4lRhhl9-M',\n",
       "   'text': '#FrenteAmplioPorMéxico'},\n",
       "  {'link': '/story.php?story_fbid=pfbid02Qm9S5Fem6GwU7DTaWRtsGf67ugNJg7Psy7eL4nHbRwLGwg3zVNoM3zeUUUGDQtejl&id=100044276717021&eav=AfZ6vNLXE8tlFDtAGVkBJQDItbW1rQduXgFE2pMQHkzIYd3GOEnOHpEi29uQGSR6gpM&m_entstream_source=timeline&refid=17&_ft_=encrypted_tracking_data.0AY_Uo7Edlz1NhCrEKfV6B8n9ZxRETYR_tP0CoD9zaYeMUYRrI0s17RS0zF8xBAewTpcuom91CaK5J287LJeJxJ8sAhpsnTlYxB_Y3d509TQ5Ew-N1FnlPZJjGELP8kMzef_fassdioDyNw6r-ihQ9AeOjeLx0-BbqfjAth4eUjv3VQeFu8FmJSbeL3o25YL8ivexRC0PB0Hn0yp1UJuGMQvPEskiZStVCic2H_qBA4iouYKSgdOjkXncCPACeHcNBEJq5-iZOS-nd-GyLfWpk_sntsLbXnNb43jLYUpJMllblRyyQO4BahDqkasLUg1ojWkO_6X_gGGCrevPivdfEjxKf-rJjFJ7-WWRi8fGjIG5ovIE8mpXFDoVsCFedkx79IIBpI-QjVDSuiWvDbnl9gqcj7mIIH7AqspaM90erWKJvuiQpKqeqfDVitQJjq_7U-rU_kp4b1X_tYAy61vazBpbgQSyKMIDUyVSVMBJapSaCZG2RhAYXX1l_YVzNsNmTEquEDdte7UzP6pfBvA8W3RmB9bpnNc2BG3zTbFBmoOy1TQxhz8N5RyhKATw8O0Jkj9tSy4-PuSAutkzUhVSZjIjKQ47Ra_2hyluqQSG1yJdmoXSMA57sO_a20bjJc4CvQ1h9nZ431bDXLXiw2MwNrj5KYVNinTXD3g_2l870vqIKzvH-0ZrtgRpYOEUMaR4E-64cCt556i8Suxl3R5P48KPXcG9rCupebalEAzmcBMzZaJMa4M3n14PGDI4dDlvwaO1yQZvfjRPu11XAWvzx2OI0g4B0Zh2fi7fhHRGm7HDo_OQenSRwJAKSJRlpjd4jV1klTXzZPJqFZS3aSKju62ZPC1sNn9GNR5_ivBzYhr2cXt92QTx0lxpB5o2GaiHNDCZ0g82FZwh7tUpSFuBMQnm5lZR0y25ejiC1c7E-Wg9x6nswfxs_axi_DJZiaMO-3Iz2xUaB2A8hWekm3xM03FEP73IUln0pCKTYFGzapie4K8m4dprYoIy4iigkV2PbF7Gf1rnzDCOFIhKQzSbuOls3jY5kgM7ydQ0v0lTU7Ye6PqR9bX400Igx2jv3UgFA-rHrocIzD0twQdiPjqI9cYSCkDFeIcCXNoWlrDoDYX82-7uyEiSpTavMGKbMZCnDw0G_gP9uPtZQEjD-bHu3AoGR4Y2W8tSq1LLwyZxYqQanDwd7oNLhmZBUST3Y9iXEL8KKvz-_1-IEaiKZr6fyDYIjsjfuUZYdMYDrGuystBsWOBClfMJW9yqYnktUMnbH_u-kkOGOb8T1z2HC6FayrkIvvcMdYlsYPNenWrPQn4sPzUCz9bGw5nNIy4kzAgWwBfBBStxmUh7ReCTeHJRRCcM2Ourdz1CvwVxHK7zfIAYJiAVuXjLhTwIj4VLsAcVGhsxfHRdSrk82NlU4DJHM4Gvb5pTv3skVol4LDuR1h-sRjPUFeu6KCOiWjQ1VnS-\\\\-\\\\PzCVOKU6zecHNGmY9joTfRhgG_3CwdEeK3TBwZmfhPPcQA72ETkMsyqR_atYHm4PZSSXv0ZcURzdE3fFKKBwsnvGHOUb_mswcSWjtvtt0bRiMZf9Ys2Am2l-phOYW2kHg6WSeY8L1fc5F8iDr3vtOf997S-6Pw8WVylNovG-lZxaWLhi8YBa5zYcBPUdcqSsXjsWj9cbPCCcIQBpFHrCOKoD6i3oYuzJjsLYeino02y4HoyI1OAM-FmZGkCYBHCFbg5tR1hZHJZxKVsiJecBAVLVPp8prJqE20aEgIUxIg5ImRYiu9REJ41QPxS_eW-jnmLLznT0JqijK-eAggmigHoNMPYoI2ABhhC2V7nOjp8lVOxixWA0IQMwT0QJEZUzaSB5cCOV95OPGQlw7wmpmr-dyj62-NWMhk1ze6bIaZeGWdYfPj8SRVBAD4Gec1wjFlEzxv3kklSKrT4dP4pVgUnzTbE7bOLosbFeAfRxNkxhqhHLwLe5XPwRKXB9zYbITv8oDoSDIk3pnQ7uEQ7YsjzQeSMQ_SYK68SN0pABRD4lsXHrU6GlJo2r9u8_jcDnPwe_62nrQBqFfSHFR18jfDFL8yoIpEL9uKyGHq7Vxdvnh3llbsSYuVNu_rm0W69PgvSbL8NmqS-Vbpda6v50dV_pjZh9L27N9D3SLRsaSrxQGd3w7KDewwhTul82KEA4bRpnP5NK0Xzg9r6CUMN4q-4-MSH6hcmBFtXvlc_lKSVw472dMW9EGImBOPIG3OmeDdrjCJ8iZTlUuC0SU_Kl0LeqzbRpxwXgTJ0Nh-qt3NY9CMZ29Rb2SdxCA9E7k1QLfEtv-eLTzjrsQcjCfXCAi412irtU52jkhThc8-7lxr8kX-GHqmcCPcPtgSBxTAcz1X4b39OUhVCwzep1gAM9kztCsjxSE7My9xUi3B9STSx4-rW-DG-4VdylDnPBh8AsCClh17w_83G25waqaKvktXe6N3I_6i7yqmHnfSkc-W79xc5MH_TR7M7unVLct6rCJRHhlbWNPPPStwArI6aNC_dm-om_kYX9kHRoAtaz0J5BU_YueErSzg1sBMGqWV5ukZXPevb6gzdNelvGRQDikaOTD5QSo-CLg6kMkReV263r8yU10EPCdRGm_4uTdtb9yvcCdqDrRoKBLVP6g-LqRqXa4b_cYwtlj6aD_u44VyAdaO4mm93zd-U6kugQ9-MWI5zhiorMm7BetCq0ti0v6RoU1uY7i2uzItyUawnQ661954h3SowHN1tPKWprs5JcyCUsXLa4_XipEl2nVFccrReouEXQCSAUTiZTLLSjfr1GvwGoPeh7W9-8y_nkXk393CFZ-72le-jn09yk4o8T0AKJQ7tEnz6XHj2NSItr5R8OlyUO9r4zseSbGZB8Udh-Vo__riyUgTjTho-4_W5tVuhDqm53JxfcioDdpPfUzytfymUf3ZGhJiQy7XbmmJOgtRZIeXstjb9yYFby7aGFEXzC22GMDkp7Bz6u38_jgd0B-LYfpO-Gd304mQkbBOVcBOyl33UQdcV2Tp-F_0S_GDVoMLxxEtJE0jb3MVdKf__kkYTKJxS_B3C_H2mEMV_ozTXyIq9rzjlfSu26pmwuCQrFkawgp1QyHQOcSPTTqEC3FIiKsEtqTDfPR7RcoeRqm2aBvhHYRk7Rr0IYnn0a5SsBc2eZpo7oEDaYBMETUJXWC57q-ZZklcLszpAiJrdx7Np2d2YWOkwx0bQHWXkVJqFGQJsoar8NN6vET_-zc8M6j6UQp9HRfDPTWD33QomORGzxUHk6rAaVArm4JEUa-44setk1y0p6lVlNpg0Cj_Q-W7uWZU8_6U9AetgQy59L82iRIXYXXaixuIG8vW_UHV4ek83CMsTTKT7h0JcbcMm4PMq03QpHHoJzM4q-GUplyLnGlGpCfQQkxGKotdtByO_jqeCkKIdmizQPuI6dkoURy9oeSHgL7CQG9-m_MEli-okgsz-lobZSNe4WY3NFh-ACcyQ8uVkT6zoMQug2LFl6RlCjA&__tn__=%2As%2As-R&paipv=0',\n",
       "   'text': ''},\n",
       "  {'link': '/photos/viewer/?photoset_token=pcb.882370079913009&photo=882369979913019&profileid=608030362&eav=AfZlRLBL9NdVx9BVgZnZrALT7R2thtKVwysS0U5zaourCYsytSqd5Pfu7kmMh2toOOk&paipv=0&source=49&refid=17&_ft_=encrypted_tracking_data.0AY_Uo7Edlz1NhCrEKfV6B8n9ZxRETYR_tP0CoD9zaYeMUYRrI0s17RS0zF8xBAewTpcuom91CaK5J287LJeJxJ8sAhpsnTlYxB_Y3d509TQ5Ew-N1FnlPZJjGELP8kMzef_fassdioDyNw6r-ihQ9AeOjeLx0-BbqfjAth4eUjv3VQeFu8FmJSbeL3o25YL8ivexRC0PB0Hn0yp1UJuGMQvPEskiZStVCic2H_qBA4iouYKSgdOjkXncCPACeHcNBEJq5-iZOS-nd-GyLfWpk_sntsLbXnNb43jLYUpJMllblRyyQO4BahDqkasLUg1ojWkO_6X_gGGCrevPivdfEjxKf-rJjFJ7-WWRi8fGjIG5ovIE8mpXFDoVsCFedkx79IIBpI-QjVDSuiWvDbnl9gqcj7mIIH7AqspaM90erWKJvuiQpKqeqfDVitQJjq_7U-rU_kp4b1X_tYAy61vazBpbgQSyKMIDUyVSVMBJapSaCZG2RhAYXX1l_YVzNsNmTEquEDdte7UzP6pfBvA8W3RmB9bpnNc2BG3zTbFBmoOy1TQxhz8N5RyhKATw8O0Jkj9tSy4-PuSAutkzUhVSZjIjKQ47Ra_2hyluqQSG1yJdmoXSMA57sO_a20bjJc4CvQ1h9nZ431bDXLXiw2MwNrj5KYVNinTXD3g_2l870vqIKzvH-0ZrtgRpYOEUMaR4E-64cCt556i8Suxl3R5P48KPXcG9rCupebalEAzmcBMzZaJMa4M3n14PGDI4dDlvwaO1yQZvfjRPu11XAWvzx2OI0g4B0Zh2fi7fhHRGm7HDo_OQenSRwJAKSJRlpjd4jV1klTXzZPJqFZS3aSKju62ZPC1sNn9GNR5_ivBzYhr2cXt92QTx0lxpB5o2GaiHNDCZ0g82FZwh7tUpSFuBMQnm5lZR0y25ejiC1c7E-Wg9x6nswfxs_axi_DJZiaMO-3Iz2xUaB2A8hWekm3xM03FEP73IUln0pCKTYFGzapie4K8m4dprYoIy4iigkV2PbF7Gf1rnzDCOFIhKQzSbuOls3jY5kgM7ydQ0v0lTU7Ye6PqR9bX400Igx2jv3UgFA-rHrocIzD0twQdiPjqI9cYSCkDFeIcCXNoWlrDoDYX82-7uyEiSpTavMGKbMZCnDw0G_gP9uPtZQEjD-bHu3AoGR4Y2W8tSq1LLwyZxYqQanDwd7oNLhmZBUST3Y9iXEL8KKvz-_1-IEaiKZr6fyDYIjsjfuUZYdMYDrGuystBsWOBClfMJW9yqYnktUMnbH_u-kkOGOb8T1z2HC6FayrkIvvcMdYlsYPNenWrPQn4sPzUCz9bGw5nNIy4kzAgWwBfBBStxmUh7ReCTeHJRRCcM2Ourdz1CvwVxHK7zfIAYJiAVuXjLhTwIj4VLsAcVGhsxfHRdSrk82NlU4DJHM4Gvb5pTv3skVol4LDuR1h-sRjPUFeu6KCOiWjQ1VnS-\\\\-\\\\PzCVOKU6zecHNGmY9joTfRhgG_3CwdEeK3TBwZmfhPPcQA72ETkMsyqR_atYHm4PZSSXv0ZcURzdE3fFKKBwsnvGHOUb_mswcSWjtvtt0bRiMZf9Ys2Am2l-phOYW2kHg6WSeY8L1fc5F8iDr3vtOf997S-6Pw8WVylNovG-lZxaWLhi8YBa5zYcBPUdcqSsXjsWj9cbPCCcIQBpFHrCOKoD6i3oYuzJjsLYeino02y4HoyI1OAM-FmZGkCYBHCFbg5tR1hZHJZxKVsiJecBAVLVPp8prJqE20aEgIUxIg5ImRYiu9REJ41QPxS_eW-jnmLLznT0JqijK-eAggmigHoNMPYoI2ABhhC2V7nOjp8lVOxixWA0IQMwT0QJEZUzaSB5cCOV95OPGQlw7wmpmr-dyj62-NWMhk1ze6bIaZeGWdYfPj8SRVBAD4Gec1wjFlEzxv3kklSKrT4dP4pVgUnzTbE7bOLosbFeAfRxNkxhqhHLwLe5XPwRKXB9zYbITv8oDoSDIk3pnQ7uEQ7YsjzQeSMQ_SYK68SN0pABRD4lsXHrU6GlJo2r9u8_jcDnPwe_62nrQBqFfSHFR18jfDFL8yoIpEL9uKyGHq7Vxdvnh3llbsSYuVNu_rm0W69PgvSbL8NmqS-Vbpda6v50dV_pjZh9L27N9D3SLRsaSrxQGd3w7KDewwhTul82KEA4bRpnP5NK0Xzg9r6CUMN4q-4-MSH6hcmBFtXvlc_lKSVw472dMW9EGImBOPIG3OmeDdrjCJ8iZTlUuC0SU_Kl0LeqzbRpxwXgTJ0Nh-qt3NY9CMZ29Rb2SdxCA9E7k1QLfEtv-eLTzjrsQcjCfXCAi412irtU52jkhThc8-7lxr8kX-GHqmcCPcPtgSBxTAcz1X4b39OUhVCwzep1gAM9kztCsjxSE7My9xUi3B9STSx4-rW-DG-4VdylDnPBh8AsCClh17w_83G25waqaKvktXe6N3I_6i7yqmHnfSkc-W79xc5MH_TR7M7unVLct6rCJRHhlbWNPPPStwArI6aNC_dm-om_kYX9kHRoAtaz0J5BU_YueErSzg1sBMGqWV5ukZXPevb6gzdNelvGRQDikaOTD5QSo-CLg6kMkReV263r8yU10EPCdRGm_4uTdtb9yvcCdqDrRoKBLVP6g-LqRqXa4b_cYwtlj6aD_u44VyAdaO4mm93zd-U6kugQ9-MWI5zhiorMm7BetCq0ti0v6RoU1uY7i2uzItyUawnQ661954h3SowHN1tPKWprs5JcyCUsXLa4_XipEl2nVFccrReouEXQCSAUTiZTLLSjfr1GvwGoPeh7W9-8y_nkXk393CFZ-72le-jn09yk4o8T0AKJQ7tEnz6XHj2NSItr5R8OlyUO9r4zseSbGZB8Udh-Vo__riyUgTjTho-4_W5tVuhDqm53JxfcioDdpPfUzytfymUf3ZGhJiQy7XbmmJOgtRZIeXstjb9yYFby7aGFEXzC22GMDkp7Bz6u38_jgd0B-LYfpO-Gd304mQkbBOVcBOyl33UQdcV2Tp-F_0S_GDVoMLxxEtJE0jb3MVdKf__kkYTKJxS_B3C_H2mEMV_ozTXyIq9rzjlfSu26pmwuCQrFkawgp1QyHQOcSPTTqEC3FIiKsEtqTDfPR7RcoeRqm2aBvhHYRk7Rr0IYnn0a5SsBc2eZpo7oEDaYBMETUJXWC57q-ZZklcLszpAiJrdx7Np2d2YWOkwx0bQHWXkVJqFGQJsoar8NN6vET_-zc8M6j6UQp9HRfDPTWD33QomORGzxUHk6rAaVArm4JEUa-44setk1y0p6lVlNpg0Cj_Q-W7uWZU8_6U9AetgQy59L82iRIXYXXaixuIG8vW_UHV4ek83CMsTTKT7h0JcbcMm4PMq03QpHHoJzM4q-GUplyLnGlGpCfQQkxGKotdtByO_jqeCkKIdmizQPuI6dkoURy9oeSHgL7CQG9-m_MEli-okgsz-lobZSNe4WY3NFh-ACcyQ8uVkT6zoMQug2LFl6RlCjA&__tn__=EHH-R',\n",
       "   'text': ''},\n",
       "  {'link': '/photos/viewer/?photoset_token=pcb.882370079913009&photo=882370033246347&profileid=608030362&eav=AfZ8gul7Txfyp908XH8K3ti8ASVpu1BDFhoPWrjHuBeJY-KDr9daXoWB3r8336Ff7Ow&paipv=0&source=49&refid=17&_ft_=encrypted_tracking_data.0AY_Uo7Edlz1NhCrEKfV6B8n9ZxRETYR_tP0CoD9zaYeMUYRrI0s17RS0zF8xBAewTpcuom91CaK5J287LJeJxJ8sAhpsnTlYxB_Y3d509TQ5Ew-N1FnlPZJjGELP8kMzef_fassdioDyNw6r-ihQ9AeOjeLx0-BbqfjAth4eUjv3VQeFu8FmJSbeL3o25YL8ivexRC0PB0Hn0yp1UJuGMQvPEskiZStVCic2H_qBA4iouYKSgdOjkXncCPACeHcNBEJq5-iZOS-nd-GyLfWpk_sntsLbXnNb43jLYUpJMllblRyyQO4BahDqkasLUg1ojWkO_6X_gGGCrevPivdfEjxKf-rJjFJ7-WWRi8fGjIG5ovIE8mpXFDoVsCFedkx79IIBpI-QjVDSuiWvDbnl9gqcj7mIIH7AqspaM90erWKJvuiQpKqeqfDVitQJjq_7U-rU_kp4b1X_tYAy61vazBpbgQSyKMIDUyVSVMBJapSaCZG2RhAYXX1l_YVzNsNmTEquEDdte7UzP6pfBvA8W3RmB9bpnNc2BG3zTbFBmoOy1TQxhz8N5RyhKATw8O0Jkj9tSy4-PuSAutkzUhVSZjIjKQ47Ra_2hyluqQSG1yJdmoXSMA57sO_a20bjJc4CvQ1h9nZ431bDXLXiw2MwNrj5KYVNinTXD3g_2l870vqIKzvH-0ZrtgRpYOEUMaR4E-64cCt556i8Suxl3R5P48KPXcG9rCupebalEAzmcBMzZaJMa4M3n14PGDI4dDlvwaO1yQZvfjRPu11XAWvzx2OI0g4B0Zh2fi7fhHRGm7HDo_OQenSRwJAKSJRlpjd4jV1klTXzZPJqFZS3aSKju62ZPC1sNn9GNR5_ivBzYhr2cXt92QTx0lxpB5o2GaiHNDCZ0g82FZwh7tUpSFuBMQnm5lZR0y25ejiC1c7E-Wg9x6nswfxs_axi_DJZiaMO-3Iz2xUaB2A8hWekm3xM03FEP73IUln0pCKTYFGzapie4K8m4dprYoIy4iigkV2PbF7Gf1rnzDCOFIhKQzSbuOls3jY5kgM7ydQ0v0lTU7Ye6PqR9bX400Igx2jv3UgFA-rHrocIzD0twQdiPjqI9cYSCkDFeIcCXNoWlrDoDYX82-7uyEiSpTavMGKbMZCnDw0G_gP9uPtZQEjD-bHu3AoGR4Y2W8tSq1LLwyZxYqQanDwd7oNLhmZBUST3Y9iXEL8KKvz-_1-IEaiKZr6fyDYIjsjfuUZYdMYDrGuystBsWOBClfMJW9yqYnktUMnbH_u-kkOGOb8T1z2HC6FayrkIvvcMdYlsYPNenWrPQn4sPzUCz9bGw5nNIy4kzAgWwBfBBStxmUh7ReCTeHJRRCcM2Ourdz1CvwVxHK7zfIAYJiAVuXjLhTwIj4VLsAcVGhsxfHRdSrk82NlU4DJHM4Gvb5pTv3skVol4LDuR1h-sRjPUFeu6KCOiWjQ1VnS-\\\\-\\\\PzCVOKU6zecHNGmY9joTfRhgG_3CwdEeK3TBwZmfhPPcQA72ETkMsyqR_atYHm4PZSSXv0ZcURzdE3fFKKBwsnvGHOUb_mswcSWjtvtt0bRiMZf9Ys2Am2l-phOYW2kHg6WSeY8L1fc5F8iDr3vtOf997S-6Pw8WVylNovG-lZxaWLhi8YBa5zYcBPUdcqSsXjsWj9cbPCCcIQBpFHrCOKoD6i3oYuzJjsLYeino02y4HoyI1OAM-FmZGkCYBHCFbg5tR1hZHJZxKVsiJecBAVLVPp8prJqE20aEgIUxIg5ImRYiu9REJ41QPxS_eW-jnmLLznT0JqijK-eAggmigHoNMPYoI2ABhhC2V7nOjp8lVOxixWA0IQMwT0QJEZUzaSB5cCOV95OPGQlw7wmpmr-dyj62-NWMhk1ze6bIaZeGWdYfPj8SRVBAD4Gec1wjFlEzxv3kklSKrT4dP4pVgUnzTbE7bOLosbFeAfRxNkxhqhHLwLe5XPwRKXB9zYbITv8oDoSDIk3pnQ7uEQ7YsjzQeSMQ_SYK68SN0pABRD4lsXHrU6GlJo2r9u8_jcDnPwe_62nrQBqFfSHFR18jfDFL8yoIpEL9uKyGHq7Vxdvnh3llbsSYuVNu_rm0W69PgvSbL8NmqS-Vbpda6v50dV_pjZh9L27N9D3SLRsaSrxQGd3w7KDewwhTul82KEA4bRpnP5NK0Xzg9r6CUMN4q-4-MSH6hcmBFtXvlc_lKSVw472dMW9EGImBOPIG3OmeDdrjCJ8iZTlUuC0SU_Kl0LeqzbRpxwXgTJ0Nh-qt3NY9CMZ29Rb2SdxCA9E7k1QLfEtv-eLTzjrsQcjCfXCAi412irtU52jkhThc8-7lxr8kX-GHqmcCPcPtgSBxTAcz1X4b39OUhVCwzep1gAM9kztCsjxSE7My9xUi3B9STSx4-rW-DG-4VdylDnPBh8AsCClh17w_83G25waqaKvktXe6N3I_6i7yqmHnfSkc-W79xc5MH_TR7M7unVLct6rCJRHhlbWNPPPStwArI6aNC_dm-om_kYX9kHRoAtaz0J5BU_YueErSzg1sBMGqWV5ukZXPevb6gzdNelvGRQDikaOTD5QSo-CLg6kMkReV263r8yU10EPCdRGm_4uTdtb9yvcCdqDrRoKBLVP6g-LqRqXa4b_cYwtlj6aD_u44VyAdaO4mm93zd-U6kugQ9-MWI5zhiorMm7BetCq0ti0v6RoU1uY7i2uzItyUawnQ661954h3SowHN1tPKWprs5JcyCUsXLa4_XipEl2nVFccrReouEXQCSAUTiZTLLSjfr1GvwGoPeh7W9-8y_nkXk393CFZ-72le-jn09yk4o8T0AKJQ7tEnz6XHj2NSItr5R8OlyUO9r4zseSbGZB8Udh-Vo__riyUgTjTho-4_W5tVuhDqm53JxfcioDdpPfUzytfymUf3ZGhJiQy7XbmmJOgtRZIeXstjb9yYFby7aGFEXzC22GMDkp7Bz6u38_jgd0B-LYfpO-Gd304mQkbBOVcBOyl33UQdcV2Tp-F_0S_GDVoMLxxEtJE0jb3MVdKf__kkYTKJxS_B3C_H2mEMV_ozTXyIq9rzjlfSu26pmwuCQrFkawgp1QyHQOcSPTTqEC3FIiKsEtqTDfPR7RcoeRqm2aBvhHYRk7Rr0IYnn0a5SsBc2eZpo7oEDaYBMETUJXWC57q-ZZklcLszpAiJrdx7Np2d2YWOkwx0bQHWXkVJqFGQJsoar8NN6vET_-zc8M6j6UQp9HRfDPTWD33QomORGzxUHk6rAaVArm4JEUa-44setk1y0p6lVlNpg0Cj_Q-W7uWZU8_6U9AetgQy59L82iRIXYXXaixuIG8vW_UHV4ek83CMsTTKT7h0JcbcMm4PMq03QpHHoJzM4q-GUplyLnGlGpCfQQkxGKotdtByO_jqeCkKIdmizQPuI6dkoURy9oeSHgL7CQG9-m_MEli-okgsz-lobZSNe4WY3NFh-ACcyQ8uVkT6zoMQug2LFl6RlCjA&__tn__=EHH-R',\n",
       "   'text': ''},\n",
       "  {'link': '/photos/viewer/?photoset_token=pcb.882370079913009&photo=882370009913016&profileid=608030362&eav=AfZ-N9lRNYGyrFtnLNFa5rf-iYfD5wKJJGna0E2geewQ3KpZwIkiuXSn6Ev8YxmZxsQ&paipv=0&source=49&refid=17&_ft_=encrypted_tracking_data.0AY_Uo7Edlz1NhCrEKfV6B8n9ZxRETYR_tP0CoD9zaYeMUYRrI0s17RS0zF8xBAewTpcuom91CaK5J287LJeJxJ8sAhpsnTlYxB_Y3d509TQ5Ew-N1FnlPZJjGELP8kMzef_fassdioDyNw6r-ihQ9AeOjeLx0-BbqfjAth4eUjv3VQeFu8FmJSbeL3o25YL8ivexRC0PB0Hn0yp1UJuGMQvPEskiZStVCic2H_qBA4iouYKSgdOjkXncCPACeHcNBEJq5-iZOS-nd-GyLfWpk_sntsLbXnNb43jLYUpJMllblRyyQO4BahDqkasLUg1ojWkO_6X_gGGCrevPivdfEjxKf-rJjFJ7-WWRi8fGjIG5ovIE8mpXFDoVsCFedkx79IIBpI-QjVDSuiWvDbnl9gqcj7mIIH7AqspaM90erWKJvuiQpKqeqfDVitQJjq_7U-rU_kp4b1X_tYAy61vazBpbgQSyKMIDUyVSVMBJapSaCZG2RhAYXX1l_YVzNsNmTEquEDdte7UzP6pfBvA8W3RmB9bpnNc2BG3zTbFBmoOy1TQxhz8N5RyhKATw8O0Jkj9tSy4-PuSAutkzUhVSZjIjKQ47Ra_2hyluqQSG1yJdmoXSMA57sO_a20bjJc4CvQ1h9nZ431bDXLXiw2MwNrj5KYVNinTXD3g_2l870vqIKzvH-0ZrtgRpYOEUMaR4E-64cCt556i8Suxl3R5P48KPXcG9rCupebalEAzmcBMzZaJMa4M3n14PGDI4dDlvwaO1yQZvfjRPu11XAWvzx2OI0g4B0Zh2fi7fhHRGm7HDo_OQenSRwJAKSJRlpjd4jV1klTXzZPJqFZS3aSKju62ZPC1sNn9GNR5_ivBzYhr2cXt92QTx0lxpB5o2GaiHNDCZ0g82FZwh7tUpSFuBMQnm5lZR0y25ejiC1c7E-Wg9x6nswfxs_axi_DJZiaMO-3Iz2xUaB2A8hWekm3xM03FEP73IUln0pCKTYFGzapie4K8m4dprYoIy4iigkV2PbF7Gf1rnzDCOFIhKQzSbuOls3jY5kgM7ydQ0v0lTU7Ye6PqR9bX400Igx2jv3UgFA-rHrocIzD0twQdiPjqI9cYSCkDFeIcCXNoWlrDoDYX82-7uyEiSpTavMGKbMZCnDw0G_gP9uPtZQEjD-bHu3AoGR4Y2W8tSq1LLwyZxYqQanDwd7oNLhmZBUST3Y9iXEL8KKvz-_1-IEaiKZr6fyDYIjsjfuUZYdMYDrGuystBsWOBClfMJW9yqYnktUMnbH_u-kkOGOb8T1z2HC6FayrkIvvcMdYlsYPNenWrPQn4sPzUCz9bGw5nNIy4kzAgWwBfBBStxmUh7ReCTeHJRRCcM2Ourdz1CvwVxHK7zfIAYJiAVuXjLhTwIj4VLsAcVGhsxfHRdSrk82NlU4DJHM4Gvb5pTv3skVol4LDuR1h-sRjPUFeu6KCOiWjQ1VnS-\\\\-\\\\PzCVOKU6zecHNGmY9joTfRhgG_3CwdEeK3TBwZmfhPPcQA72ETkMsyqR_atYHm4PZSSXv0ZcURzdE3fFKKBwsnvGHOUb_mswcSWjtvtt0bRiMZf9Ys2Am2l-phOYW2kHg6WSeY8L1fc5F8iDr3vtOf997S-6Pw8WVylNovG-lZxaWLhi8YBa5zYcBPUdcqSsXjsWj9cbPCCcIQBpFHrCOKoD6i3oYuzJjsLYeino02y4HoyI1OAM-FmZGkCYBHCFbg5tR1hZHJZxKVsiJecBAVLVPp8prJqE20aEgIUxIg5ImRYiu9REJ41QPxS_eW-jnmLLznT0JqijK-eAggmigHoNMPYoI2ABhhC2V7nOjp8lVOxixWA0IQMwT0QJEZUzaSB5cCOV95OPGQlw7wmpmr-dyj62-NWMhk1ze6bIaZeGWdYfPj8SRVBAD4Gec1wjFlEzxv3kklSKrT4dP4pVgUnzTbE7bOLosbFeAfRxNkxhqhHLwLe5XPwRKXB9zYbITv8oDoSDIk3pnQ7uEQ7YsjzQeSMQ_SYK68SN0pABRD4lsXHrU6GlJo2r9u8_jcDnPwe_62nrQBqFfSHFR18jfDFL8yoIpEL9uKyGHq7Vxdvnh3llbsSYuVNu_rm0W69PgvSbL8NmqS-Vbpda6v50dV_pjZh9L27N9D3SLRsaSrxQGd3w7KDewwhTul82KEA4bRpnP5NK0Xzg9r6CUMN4q-4-MSH6hcmBFtXvlc_lKSVw472dMW9EGImBOPIG3OmeDdrjCJ8iZTlUuC0SU_Kl0LeqzbRpxwXgTJ0Nh-qt3NY9CMZ29Rb2SdxCA9E7k1QLfEtv-eLTzjrsQcjCfXCAi412irtU52jkhThc8-7lxr8kX-GHqmcCPcPtgSBxTAcz1X4b39OUhVCwzep1gAM9kztCsjxSE7My9xUi3B9STSx4-rW-DG-4VdylDnPBh8AsCClh17w_83G25waqaKvktXe6N3I_6i7yqmHnfSkc-W79xc5MH_TR7M7unVLct6rCJRHhlbWNPPPStwArI6aNC_dm-om_kYX9kHRoAtaz0J5BU_YueErSzg1sBMGqWV5ukZXPevb6gzdNelvGRQDikaOTD5QSo-CLg6kMkReV263r8yU10EPCdRGm_4uTdtb9yvcCdqDrRoKBLVP6g-LqRqXa4b_cYwtlj6aD_u44VyAdaO4mm93zd-U6kugQ9-MWI5zhiorMm7BetCq0ti0v6RoU1uY7i2uzItyUawnQ661954h3SowHN1tPKWprs5JcyCUsXLa4_XipEl2nVFccrReouEXQCSAUTiZTLLSjfr1GvwGoPeh7W9-8y_nkXk393CFZ-72le-jn09yk4o8T0AKJQ7tEnz6XHj2NSItr5R8OlyUO9r4zseSbGZB8Udh-Vo__riyUgTjTho-4_W5tVuhDqm53JxfcioDdpPfUzytfymUf3ZGhJiQy7XbmmJOgtRZIeXstjb9yYFby7aGFEXzC22GMDkp7Bz6u38_jgd0B-LYfpO-Gd304mQkbBOVcBOyl33UQdcV2Tp-F_0S_GDVoMLxxEtJE0jb3MVdKf__kkYTKJxS_B3C_H2mEMV_ozTXyIq9rzjlfSu26pmwuCQrFkawgp1QyHQOcSPTTqEC3FIiKsEtqTDfPR7RcoeRqm2aBvhHYRk7Rr0IYnn0a5SsBc2eZpo7oEDaYBMETUJXWC57q-ZZklcLszpAiJrdx7Np2d2YWOkwx0bQHWXkVJqFGQJsoar8NN6vET_-zc8M6j6UQp9HRfDPTWD33QomORGzxUHk6rAaVArm4JEUa-44setk1y0p6lVlNpg0Cj_Q-W7uWZU8_6U9AetgQy59L82iRIXYXXaixuIG8vW_UHV4ek83CMsTTKT7h0JcbcMm4PMq03QpHHoJzM4q-GUplyLnGlGpCfQQkxGKotdtByO_jqeCkKIdmizQPuI6dkoURy9oeSHgL7CQG9-m_MEli-okgsz-lobZSNe4WY3NFh-ACcyQ8uVkT6zoMQug2LFl6RlCjA&__tn__=EHH-R',\n",
       "   'text': ''},\n",
       "  {'link': '/photos/viewer/?photoset_token=pcb.882370079913009&photo=882370739912943&profileid=608030362&eav=AfYGln0qcYI2JfK41cRHL31FA4ddUtTw-6oPLzjPFIJaJ4mfYkfDGqazAvkVZ6XnXK0&paipv=0&source=49&refid=17&_ft_=encrypted_tracking_data.0AY_Uo7Edlz1NhCrEKfV6B8n9ZxRETYR_tP0CoD9zaYeMUYRrI0s17RS0zF8xBAewTpcuom91CaK5J287LJeJxJ8sAhpsnTlYxB_Y3d509TQ5Ew-N1FnlPZJjGELP8kMzef_fassdioDyNw6r-ihQ9AeOjeLx0-BbqfjAth4eUjv3VQeFu8FmJSbeL3o25YL8ivexRC0PB0Hn0yp1UJuGMQvPEskiZStVCic2H_qBA4iouYKSgdOjkXncCPACeHcNBEJq5-iZOS-nd-GyLfWpk_sntsLbXnNb43jLYUpJMllblRyyQO4BahDqkasLUg1ojWkO_6X_gGGCrevPivdfEjxKf-rJjFJ7-WWRi8fGjIG5ovIE8mpXFDoVsCFedkx79IIBpI-QjVDSuiWvDbnl9gqcj7mIIH7AqspaM90erWKJvuiQpKqeqfDVitQJjq_7U-rU_kp4b1X_tYAy61vazBpbgQSyKMIDUyVSVMBJapSaCZG2RhAYXX1l_YVzNsNmTEquEDdte7UzP6pfBvA8W3RmB9bpnNc2BG3zTbFBmoOy1TQxhz8N5RyhKATw8O0Jkj9tSy4-PuSAutkzUhVSZjIjKQ47Ra_2hyluqQSG1yJdmoXSMA57sO_a20bjJc4CvQ1h9nZ431bDXLXiw2MwNrj5KYVNinTXD3g_2l870vqIKzvH-0ZrtgRpYOEUMaR4E-64cCt556i8Suxl3R5P48KPXcG9rCupebalEAzmcBMzZaJMa4M3n14PGDI4dDlvwaO1yQZvfjRPu11XAWvzx2OI0g4B0Zh2fi7fhHRGm7HDo_OQenSRwJAKSJRlpjd4jV1klTXzZPJqFZS3aSKju62ZPC1sNn9GNR5_ivBzYhr2cXt92QTx0lxpB5o2GaiHNDCZ0g82FZwh7tUpSFuBMQnm5lZR0y25ejiC1c7E-Wg9x6nswfxs_axi_DJZiaMO-3Iz2xUaB2A8hWekm3xM03FEP73IUln0pCKTYFGzapie4K8m4dprYoIy4iigkV2PbF7Gf1rnzDCOFIhKQzSbuOls3jY5kgM7ydQ0v0lTU7Ye6PqR9bX400Igx2jv3UgFA-rHrocIzD0twQdiPjqI9cYSCkDFeIcCXNoWlrDoDYX82-7uyEiSpTavMGKbMZCnDw0G_gP9uPtZQEjD-bHu3AoGR4Y2W8tSq1LLwyZxYqQanDwd7oNLhmZBUST3Y9iXEL8KKvz-_1-IEaiKZr6fyDYIjsjfuUZYdMYDrGuystBsWOBClfMJW9yqYnktUMnbH_u-kkOGOb8T1z2HC6FayrkIvvcMdYlsYPNenWrPQn4sPzUCz9bGw5nNIy4kzAgWwBfBBStxmUh7ReCTeHJRRCcM2Ourdz1CvwVxHK7zfIAYJiAVuXjLhTwIj4VLsAcVGhsxfHRdSrk82NlU4DJHM4Gvb5pTv3skVol4LDuR1h-sRjPUFeu6KCOiWjQ1VnS-\\\\-\\\\PzCVOKU6zecHNGmY9joTfRhgG_3CwdEeK3TBwZmfhPPcQA72ETkMsyqR_atYHm4PZSSXv0ZcURzdE3fFKKBwsnvGHOUb_mswcSWjtvtt0bRiMZf9Ys2Am2l-phOYW2kHg6WSeY8L1fc5F8iDr3vtOf997S-6Pw8WVylNovG-lZxaWLhi8YBa5zYcBPUdcqSsXjsWj9cbPCCcIQBpFHrCOKoD6i3oYuzJjsLYeino02y4HoyI1OAM-FmZGkCYBHCFbg5tR1hZHJZxKVsiJecBAVLVPp8prJqE20aEgIUxIg5ImRYiu9REJ41QPxS_eW-jnmLLznT0JqijK-eAggmigHoNMPYoI2ABhhC2V7nOjp8lVOxixWA0IQMwT0QJEZUzaSB5cCOV95OPGQlw7wmpmr-dyj62-NWMhk1ze6bIaZeGWdYfPj8SRVBAD4Gec1wjFlEzxv3kklSKrT4dP4pVgUnzTbE7bOLosbFeAfRxNkxhqhHLwLe5XPwRKXB9zYbITv8oDoSDIk3pnQ7uEQ7YsjzQeSMQ_SYK68SN0pABRD4lsXHrU6GlJo2r9u8_jcDnPwe_62nrQBqFfSHFR18jfDFL8yoIpEL9uKyGHq7Vxdvnh3llbsSYuVNu_rm0W69PgvSbL8NmqS-Vbpda6v50dV_pjZh9L27N9D3SLRsaSrxQGd3w7KDewwhTul82KEA4bRpnP5NK0Xzg9r6CUMN4q-4-MSH6hcmBFtXvlc_lKSVw472dMW9EGImBOPIG3OmeDdrjCJ8iZTlUuC0SU_Kl0LeqzbRpxwXgTJ0Nh-qt3NY9CMZ29Rb2SdxCA9E7k1QLfEtv-eLTzjrsQcjCfXCAi412irtU52jkhThc8-7lxr8kX-GHqmcCPcPtgSBxTAcz1X4b39OUhVCwzep1gAM9kztCsjxSE7My9xUi3B9STSx4-rW-DG-4VdylDnPBh8AsCClh17w_83G25waqaKvktXe6N3I_6i7yqmHnfSkc-W79xc5MH_TR7M7unVLct6rCJRHhlbWNPPPStwArI6aNC_dm-om_kYX9kHRoAtaz0J5BU_YueErSzg1sBMGqWV5ukZXPevb6gzdNelvGRQDikaOTD5QSo-CLg6kMkReV263r8yU10EPCdRGm_4uTdtb9yvcCdqDrRoKBLVP6g-LqRqXa4b_cYwtlj6aD_u44VyAdaO4mm93zd-U6kugQ9-MWI5zhiorMm7BetCq0ti0v6RoU1uY7i2uzItyUawnQ661954h3SowHN1tPKWprs5JcyCUsXLa4_XipEl2nVFccrReouEXQCSAUTiZTLLSjfr1GvwGoPeh7W9-8y_nkXk393CFZ-72le-jn09yk4o8T0AKJQ7tEnz6XHj2NSItr5R8OlyUO9r4zseSbGZB8Udh-Vo__riyUgTjTho-4_W5tVuhDqm53JxfcioDdpPfUzytfymUf3ZGhJiQy7XbmmJOgtRZIeXstjb9yYFby7aGFEXzC22GMDkp7Bz6u38_jgd0B-LYfpO-Gd304mQkbBOVcBOyl33UQdcV2Tp-F_0S_GDVoMLxxEtJE0jb3MVdKf__kkYTKJxS_B3C_H2mEMV_ozTXyIq9rzjlfSu26pmwuCQrFkawgp1QyHQOcSPTTqEC3FIiKsEtqTDfPR7RcoeRqm2aBvhHYRk7Rr0IYnn0a5SsBc2eZpo7oEDaYBMETUJXWC57q-ZZklcLszpAiJrdx7Np2d2YWOkwx0bQHWXkVJqFGQJsoar8NN6vET_-zc8M6j6UQp9HRfDPTWD33QomORGzxUHk6rAaVArm4JEUa-44setk1y0p6lVlNpg0Cj_Q-W7uWZU8_6U9AetgQy59L82iRIXYXXaixuIG8vW_UHV4ek83CMsTTKT7h0JcbcMm4PMq03QpHHoJzM4q-GUplyLnGlGpCfQQkxGKotdtByO_jqeCkKIdmizQPuI6dkoURy9oeSHgL7CQG9-m_MEli-okgsz-lobZSNe4WY3NFh-ACcyQ8uVkT6zoMQug2LFl6RlCjA&__tn__=EHH-R',\n",
       "   'text': ''},\n",
       "  {'link': '/MarkoCortesM?eav=Afaf9CSGvFTRbF8RaTCS6D-\\\\-\\\\Fwc5TbOvc-sdry9xODE5qMA4WudnCPFBuSRkRnkEpTo&refid=17&_ft_=encrypted_tracking_data.0AY_Uo7Edlz1NhCrEKfV6B8n9ZxRETYR_tP0CoD9zaYeMUYRrI0s17RS0zF8xBAewTpcuom91CaK5J287LJeJxJ8sAhpsnTlYxB_Y3d509TQ5Ew-N1FnlPZJjGELP8kMzef_fassdioDyNw6r-ihQ9AeOjeLx0-BbqfjAth4eUjv3VQeFu8FmJSbeL3o25YL8ivexRC0PB0Hn0yp1UJuGMQvPEskiZStVCic2H_qBA4iouYKSgdOjkXncCPACeHcNBEJq5-iZOS-nd-GyLfWpk_sntsLbXnNb43jLYUpJMllblRyyQO4BahDqkasLUg1ojWkO_6X_gGGCrevPivdfEjxKf-rJjFJ7-WWRi8fGjIG5ovIE8mpXFDoVsCFedkx79IIBpI-QjVDSuiWvDbnl9gqcj7mIIH7AqspaM90erWKJvuiQpKqeqfDVitQJjq_7U-rU_kp4b1X_tYAy61vazBpbgQSyKMIDUyVSVMBJapSaCZG2RhAYXX1l_YVzNsNmTEquEDdte7UzP6pfBvA8W3RmB9bpnNc2BG3zTbFBmoOy1TQxhz8N5RyhKATw8O0Jkj9tSy4-PuSAutkzUhVSZjIjKQ47Ra_2hyluqQSG1yJdmoXSMA57sO_a20bjJc4CvQ1h9nZ431bDXLXiw2MwNrj5KYVNinTXD3g_2l870vqIKzvH-0ZrtgRpYOEUMaR4E-64cCt556i8Suxl3R5P48KPXcG9rCupebalEAzmcBMzZaJMa4M3n14PGDI4dDlvwaO1yQZvfjRPu11XAWvzx2OI0g4B0Zh2fi7fhHRGm7HDo_OQenSRwJAKSJRlpjd4jV1klTXzZPJqFZS3aSKju62ZPC1sNn9GNR5_ivBzYhr2cXt92QTx0lxpB5o2GaiHNDCZ0g82FZwh7tUpSFuBMQnm5lZR0y25ejiC1c7E-Wg9x6nswfxs_axi_DJZiaMO-3Iz2xUaB2A8hWekm3xM03FEP73IUln0pCKTYFGzapie4K8m4dprYoIy4iigkV2PbF7Gf1rnzDCOFIhKQzSbuOls3jY5kgM7ydQ0v0lTU7Ye6PqR9bX400Igx2jv3UgFA-rHrocIzD0twQdiPjqI9cYSCkDFeIcCXNoWlrDoDYX82-7uyEiSpTavMGKbMZCnDw0G_gP9uPtZQEjD-bHu3AoGR4Y2W8tSq1LLwyZxYqQanDwd7oNLhmZBUST3Y9iXEL8KKvz-_1-IEaiKZr6fyDYIjsjfuUZYdMYDrGuystBsWOBClfMJW9yqYnktUMnbH_u-kkOGOb8T1z2HC6FayrkIvvcMdYlsYPNenWrPQn4sPzUCz9bGw5nNIy4kzAgWwBfBBStxmUh7ReCTeHJRRCcM2Ourdz1CvwVxHK7zfIAYJiAVuXjLhTwIj4VLsAcVGhsxfHRdSrk82NlU4DJHM4Gvb5pTv3skVol4LDuR1h-sRjPUFeu6KCOiWjQ1VnS-\\\\-\\\\PzCVOKU6zecHNGmY9joTfRhgG_3CwdEeK3TBwZmfhPPcQA72ETkMsyqR_atYHm4PZSSXv0ZcURzdE3fFKKBwsnvGHOUb_mswcSWjtvtt0bRiMZf9Ys2Am2l-phOYW2kHg6WSeY8L1fc5F8iDr3vtOf997S-6Pw8WVylNovG-lZxaWLhi8YBa5zYcBPUdcqSsXjsWj9cbPCCcIQBpFHrCOKoD6i3oYuzJjsLYeino02y4HoyI1OAM-FmZGkCYBHCFbg5tR1hZHJZxKVsiJecBAVLVPp8prJqE20aEgIUxIg5ImRYiu9REJ41QPxS_eW-jnmLLznT0JqijK-eAggmigHoNMPYoI2ABhhC2V7nOjp8lVOxixWA0IQMwT0QJEZUzaSB5cCOV95OPGQlw7wmpmr-dyj62-NWMhk1ze6bIaZeGWdYfPj8SRVBAD4Gec1wjFlEzxv3kklSKrT4dP4pVgUnzTbE7bOLosbFeAfRxNkxhqhHLwLe5XPwRKXB9zYbITv8oDoSDIk3pnQ7uEQ7YsjzQeSMQ_SYK68SN0pABRD4lsXHrU6GlJo2r9u8_jcDnPwe_62nrQBqFfSHFR18jfDFL8yoIpEL9uKyGHq7Vxdvnh3llbsSYuVNu_rm0W69PgvSbL8NmqS-Vbpda6v50dV_pjZh9L27N9D3SLRsaSrxQGd3w7KDewwhTul82KEA4bRpnP5NK0Xzg9r6CUMN4q-4-MSH6hcmBFtXvlc_lKSVw472dMW9EGImBOPIG3OmeDdrjCJ8iZTlUuC0SU_Kl0LeqzbRpxwXgTJ0Nh-qt3NY9CMZ29Rb2SdxCA9E7k1QLfEtv-eLTzjrsQcjCfXCAi412irtU52jkhThc8-7lxr8kX-GHqmcCPcPtgSBxTAcz1X4b39OUhVCwzep1gAM9kztCsjxSE7My9xUi3B9STSx4-rW-DG-4VdylDnPBh8AsCClh17w_83G25waqaKvktXe6N3I_6i7yqmHnfSkc-W79xc5MH_TR7M7unVLct6rCJRHhlbWNPPPStwArI6aNC_dm-om_kYX9kHRoAtaz0J5BU_YueErSzg1sBMGqWV5ukZXPevb6gzdNelvGRQDikaOTD5QSo-CLg6kMkReV263r8yU10EPCdRGm_4uTdtb9yvcCdqDrRoKBLVP6g-LqRqXa4b_cYwtlj6aD_u44VyAdaO4mm93zd-U6kugQ9-MWI5zhiorMm7BetCq0ti0v6RoU1uY7i2uzItyUawnQ661954h3SowHN1tPKWprs5JcyCUsXLa4_XipEl2nVFccrReouEXQCSAUTiZTLLSjfr1GvwGoPeh7W9-8y_nkXk393CFZ-72le-jn09yk4o8T0AKJQ7tEnz6XHj2NSItr5R8OlyUO9r4zseSbGZB8Udh-Vo__riyUgTjTho-4_W5tVuhDqm53JxfcioDdpPfUzytfymUf3ZGhJiQy7XbmmJOgtRZIeXstjb9yYFby7aGFEXzC22GMDkp7Bz6u38_jgd0B-LYfpO-Gd304mQkbBOVcBOyl33UQdcV2Tp-F_0S_GDVoMLxxEtJE0jb3MVdKf__kkYTKJxS_B3C_H2mEMV_ozTXyIq9rzjlfSu26pmwuCQrFkawgp1QyHQOcSPTTqEC3FIiKsEtqTDfPR7RcoeRqm2aBvhHYRk7Rr0IYnn0a5SsBc2eZpo7oEDaYBMETUJXWC57q-ZZklcLszpAiJrdx7Np2d2YWOkwx0bQHWXkVJqFGQJsoar8NN6vET_-zc8M6j6UQp9HRfDPTWD33QomORGzxUHk6rAaVArm4JEUa-44setk1y0p6lVlNpg0Cj_Q-W7uWZU8_6U9AetgQy59L82iRIXYXXaixuIG8vW_UHV4ek83CMsTTKT7h0JcbcMm4PMq03QpHHoJzM4q-GUplyLnGlGpCfQQkxGKotdtByO_jqeCkKIdmizQPuI6dkoURy9oeSHgL7CQG9-m_MEli-okgsz-lobZSNe4WY3NFh-ACcyQ8uVkT6zoMQug2LFl6RlCjA&__tn__=CH-R&paipv=0',\n",
       "   'text': 'Marko Cortés'},\n",
       "  {'link': '/story.php?story_fbid=pfbid02J2wQkMd7sLnxXtYCpU65G6c8S6aYiKiMSzvJCPqifjDDJcyDXGsVgd5ZXXHDjqSsl&id=100044200761095&eav=AfZCfucyZjPDbQrP-o7hUmMmGcmrIgKqa06jixrr-\\\\-\\\\IrS_t_nRFAsNfZOlF8vnoOwes&m_entstream_source=timeline&refid=17&_ft_=encrypted_tracking_data.0AY_Uo7Edlz1NhCrEKfV6B8n9ZxRETYR_tP0CoD9zaYeMUYRrI0s17RS0zF8xBAewTpcuom91CaK5J287LJeJxJ8sAhpsnTlYxB_Y3d509TQ5Ew-N1FnlPZJjGELP8kMzef_fassdioDyNw6r-ihQ9AeOjeLx0-BbqfjAth4eUjv3VQeFu8FmJSbeL3o25YL8ivexRC0PB0Hn0yp1UJuGMQvPEskiZStVCic2H_qBA4iouYKSgdOjkXncCPACeHcNBEJq5-iZOS-nd-GyLfWpk_sntsLbXnNb43jLYUpJMllblRyyQO4BahDqkasLUg1ojWkO_6X_gGGCrevPivdfEjxKf-rJjFJ7-WWRi8fGjIG5ovIE8mpXFDoVsCFedkx79IIBpI-QjVDSuiWvDbnl9gqcj7mIIH7AqspaM90erWKJvuiQpKqeqfDVitQJjq_7U-rU_kp4b1X_tYAy61vazBpbgQSyKMIDUyVSVMBJapSaCZG2RhAYXX1l_YVzNsNmTEquEDdte7UzP6pfBvA8W3RmB9bpnNc2BG3zTbFBmoOy1TQxhz8N5RyhKATw8O0Jkj9tSy4-PuSAutkzUhVSZjIjKQ47Ra_2hyluqQSG1yJdmoXSMA57sO_a20bjJc4CvQ1h9nZ431bDXLXiw2MwNrj5KYVNinTXD3g_2l870vqIKzvH-0ZrtgRpYOEUMaR4E-64cCt556i8Suxl3R5P48KPXcG9rCupebalEAzmcBMzZaJMa4M3n14PGDI4dDlvwaO1yQZvfjRPu11XAWvzx2OI0g4B0Zh2fi7fhHRGm7HDo_OQenSRwJAKSJRlpjd4jV1klTXzZPJqFZS3aSKju62ZPC1sNn9GNR5_ivBzYhr2cXt92QTx0lxpB5o2GaiHNDCZ0g82FZwh7tUpSFuBMQnm5lZR0y25ejiC1c7E-Wg9x6nswfxs_axi_DJZiaMO-3Iz2xUaB2A8hWekm3xM03FEP73IUln0pCKTYFGzapie4K8m4dprYoIy4iigkV2PbF7Gf1rnzDCOFIhKQzSbuOls3jY5kgM7ydQ0v0lTU7Ye6PqR9bX400Igx2jv3UgFA-rHrocIzD0twQdiPjqI9cYSCkDFeIcCXNoWlrDoDYX82-7uyEiSpTavMGKbMZCnDw0G_gP9uPtZQEjD-bHu3AoGR4Y2W8tSq1LLwyZxYqQanDwd7oNLhmZBUST3Y9iXEL8KKvz-_1-IEaiKZr6fyDYIjsjfuUZYdMYDrGuystBsWOBClfMJW9yqYnktUMnbH_u-kkOGOb8T1z2HC6FayrkIvvcMdYlsYPNenWrPQn4sPzUCz9bGw5nNIy4kzAgWwBfBBStxmUh7ReCTeHJRRCcM2Ourdz1CvwVxHK7zfIAYJiAVuXjLhTwIj4VLsAcVGhsxfHRdSrk82NlU4DJHM4Gvb5pTv3skVol4LDuR1h-sRjPUFeu6KCOiWjQ1VnS-\\\\-\\\\PzCVOKU6zecHNGmY9joTfRhgG_3CwdEeK3TBwZmfhPPcQA72ETkMsyqR_atYHm4PZSSXv0ZcURzdE3fFKKBwsnvGHOUb_mswcSWjtvtt0bRiMZf9Ys2Am2l-phOYW2kHg6WSeY8L1fc5F8iDr3vtOf997S-6Pw8WVylNovG-lZxaWLhi8YBa5zYcBPUdcqSsXjsWj9cbPCCcIQBpFHrCOKoD6i3oYuzJjsLYeino02y4HoyI1OAM-FmZGkCYBHCFbg5tR1hZHJZxKVsiJecBAVLVPp8prJqE20aEgIUxIg5ImRYiu9REJ41QPxS_eW-jnmLLznT0JqijK-eAggmigHoNMPYoI2ABhhC2V7nOjp8lVOxixWA0IQMwT0QJEZUzaSB5cCOV95OPGQlw7wmpmr-dyj62-NWMhk1ze6bIaZeGWdYfPj8SRVBAD4Gec1wjFlEzxv3kklSKrT4dP4pVgUnzTbE7bOLosbFeAfRxNkxhqhHLwLe5XPwRKXB9zYbITv8oDoSDIk3pnQ7uEQ7YsjzQeSMQ_SYK68SN0pABRD4lsXHrU6GlJo2r9u8_jcDnPwe_62nrQBqFfSHFR18jfDFL8yoIpEL9uKyGHq7Vxdvnh3llbsSYuVNu_rm0W69PgvSbL8NmqS-Vbpda6v50dV_pjZh9L27N9D3SLRsaSrxQGd3w7KDewwhTul82KEA4bRpnP5NK0Xzg9r6CUMN4q-4-MSH6hcmBFtXvlc_lKSVw472dMW9EGImBOPIG3OmeDdrjCJ8iZTlUuC0SU_Kl0LeqzbRpxwXgTJ0Nh-qt3NY9CMZ29Rb2SdxCA9E7k1QLfEtv-eLTzjrsQcjCfXCAi412irtU52jkhThc8-7lxr8kX-GHqmcCPcPtgSBxTAcz1X4b39OUhVCwzep1gAM9kztCsjxSE7My9xUi3B9STSx4-rW-DG-4VdylDnPBh8AsCClh17w_83G25waqaKvktXe6N3I_6i7yqmHnfSkc-W79xc5MH_TR7M7unVLct6rCJRHhlbWNPPPStwArI6aNC_dm-om_kYX9kHRoAtaz0J5BU_YueErSzg1sBMGqWV5ukZXPevb6gzdNelvGRQDikaOTD5QSo-CLg6kMkReV263r8yU10EPCdRGm_4uTdtb9yvcCdqDrRoKBLVP6g-LqRqXa4b_cYwtlj6aD_u44VyAdaO4mm93zd-U6kugQ9-MWI5zhiorMm7BetCq0ti0v6RoU1uY7i2uzItyUawnQ661954h3SowHN1tPKWprs5JcyCUsXLa4_XipEl2nVFccrReouEXQCSAUTiZTLLSjfr1GvwGoPeh7W9-8y_nkXk393CFZ-72le-jn09yk4o8T0AKJQ7tEnz6XHj2NSItr5R8OlyUO9r4zseSbGZB8Udh-Vo__riyUgTjTho-4_W5tVuhDqm53JxfcioDdpPfUzytfymUf3ZGhJiQy7XbmmJOgtRZIeXstjb9yYFby7aGFEXzC22GMDkp7Bz6u38_jgd0B-LYfpO-Gd304mQkbBOVcBOyl33UQdcV2Tp-F_0S_GDVoMLxxEtJE0jb3MVdKf__kkYTKJxS_B3C_H2mEMV_ozTXyIq9rzjlfSu26pmwuCQrFkawgp1QyHQOcSPTTqEC3FIiKsEtqTDfPR7RcoeRqm2aBvhHYRk7Rr0IYnn0a5SsBc2eZpo7oEDaYBMETUJXWC57q-ZZklcLszpAiJrdx7Np2d2YWOkwx0bQHWXkVJqFGQJsoar8NN6vET_-zc8M6j6UQp9HRfDPTWD33QomORGzxUHk6rAaVArm4JEUa-44setk1y0p6lVlNpg0Cj_Q-W7uWZU8_6U9AetgQy59L82iRIXYXXaixuIG8vW_UHV4ek83CMsTTKT7h0JcbcMm4PMq03QpHHoJzM4q-GUplyLnGlGpCfQQkxGKotdtByO_jqeCkKIdmizQPuI6dkoURy9oeSHgL7CQG9-m_MEli-okgsz-lobZSNe4WY3NFh-ACcyQ8uVkT6zoMQug2LFl6RlCjA&__tn__=H-R&paipv=0',\n",
       "   'text': 'Yesterday at 11:09'},\n",
       "  {'link': '/pacorojaschiapas?eav=AfaHvizFWXqHIIIZxYB6jDMbZDfPZBUuDkulniDLE8C7cLAMazhaiIunh3Clv3EuoGA&refid=17&_ft_=encrypted_tracking_data.0AY_Uo7Edlz1NhCrEKfV6B8n9ZxRETYR_tP0CoD9zaYeMUYRrI0s17RS0zF8xBAewTpcuom91CaK5J287LJeJxJ8sAhpsnTlYxB_Y3d509TQ5Ew-N1FnlPZJjGELP8kMzef_fassdioDyNw6r-ihQ9AeOjeLx0-BbqfjAth4eUjv3VQeFu8FmJSbeL3o25YL8ivexRC0PB0Hn0yp1UJuGMQvPEskiZStVCic2H_qBA4iouYKSgdOjkXncCPACeHcNBEJq5-iZOS-nd-GyLfWpk_sntsLbXnNb43jLYUpJMllblRyyQO4BahDqkasLUg1ojWkO_6X_gGGCrevPivdfEjxKf-rJjFJ7-WWRi8fGjIG5ovIE8mpXFDoVsCFedkx79IIBpI-QjVDSuiWvDbnl9gqcj7mIIH7AqspaM90erWKJvuiQpKqeqfDVitQJjq_7U-rU_kp4b1X_tYAy61vazBpbgQSyKMIDUyVSVMBJapSaCZG2RhAYXX1l_YVzNsNmTEquEDdte7UzP6pfBvA8W3RmB9bpnNc2BG3zTbFBmoOy1TQxhz8N5RyhKATw8O0Jkj9tSy4-PuSAutkzUhVSZjIjKQ47Ra_2hyluqQSG1yJdmoXSMA57sO_a20bjJc4CvQ1h9nZ431bDXLXiw2MwNrj5KYVNinTXD3g_2l870vqIKzvH-0ZrtgRpYOEUMaR4E-64cCt556i8Suxl3R5P48KPXcG9rCupebalEAzmcBMzZaJMa4M3n14PGDI4dDlvwaO1yQZvfjRPu11XAWvzx2OI0g4B0Zh2fi7fhHRGm7HDo_OQenSRwJAKSJRlpjd4jV1klTXzZPJqFZS3aSKju62ZPC1sNn9GNR5_ivBzYhr2cXt92QTx0lxpB5o2GaiHNDCZ0g82FZwh7tUpSFuBMQnm5lZR0y25ejiC1c7E-Wg9x6nswfxs_axi_DJZiaMO-3Iz2xUaB2A8hWekm3xM03FEP73IUln0pCKTYFGzapie4K8m4dprYoIy4iigkV2PbF7Gf1rnzDCOFIhKQzSbuOls3jY5kgM7ydQ0v0lTU7Ye6PqR9bX400Igx2jv3UgFA-rHrocIzD0twQdiPjqI9cYSCkDFeIcCXNoWlrDoDYX82-7uyEiSpTavMGKbMZCnDw0G_gP9uPtZQEjD-bHu3AoGR4Y2W8tSq1LLwyZxYqQanDwd7oNLhmZBUST3Y9iXEL8KKvz-_1-IEaiKZr6fyDYIjsjfuUZYdMYDrGuystBsWOBClfMJW9yqYnktUMnbH_u-kkOGOb8T1z2HC6FayrkIvvcMdYlsYPNenWrPQn4sPzUCz9bGw5nNIy4kzAgWwBfBBStxmUh7ReCTeHJRRCcM2Ourdz1CvwVxHK7zfIAYJiAVuXjLhTwIj4VLsAcVGhsxfHRdSrk82NlU4DJHM4Gvb5pTv3skVol4LDuR1h-sRjPUFeu6KCOiWjQ1VnS-\\\\-\\\\PzCVOKU6zecHNGmY9joTfRhgG_3CwdEeK3TBwZmfhPPcQA72ETkMsyqR_atYHm4PZSSXv0ZcURzdE3fFKKBwsnvGHOUb_mswcSWjtvtt0bRiMZf9Ys2Am2l-phOYW2kHg6WSeY8L1fc5F8iDr3vtOf997S-6Pw8WVylNovG-lZxaWLhi8YBa5zYcBPUdcqSsXjsWj9cbPCCcIQBpFHrCOKoD6i3oYuzJjsLYeino02y4HoyI1OAM-FmZGkCYBHCFbg5tR1hZHJZxKVsiJecBAVLVPp8prJqE20aEgIUxIg5ImRYiu9REJ41QPxS_eW-jnmLLznT0JqijK-eAggmigHoNMPYoI2ABhhC2V7nOjp8lVOxixWA0IQMwT0QJEZUzaSB5cCOV95OPGQlw7wmpmr-dyj62-NWMhk1ze6bIaZeGWdYfPj8SRVBAD4Gec1wjFlEzxv3kklSKrT4dP4pVgUnzTbE7bOLosbFeAfRxNkxhqhHLwLe5XPwRKXB9zYbITv8oDoSDIk3pnQ7uEQ7YsjzQeSMQ_SYK68SN0pABRD4lsXHrU6GlJo2r9u8_jcDnPwe_62nrQBqFfSHFR18jfDFL8yoIpEL9uKyGHq7Vxdvnh3llbsSYuVNu_rm0W69PgvSbL8NmqS-Vbpda6v50dV_pjZh9L27N9D3SLRsaSrxQGd3w7KDewwhTul82KEA4bRpnP5NK0Xzg9r6CUMN4q-4-MSH6hcmBFtXvlc_lKSVw472dMW9EGImBOPIG3OmeDdrjCJ8iZTlUuC0SU_Kl0LeqzbRpxwXgTJ0Nh-qt3NY9CMZ29Rb2SdxCA9E7k1QLfEtv-eLTzjrsQcjCfXCAi412irtU52jkhThc8-7lxr8kX-GHqmcCPcPtgSBxTAcz1X4b39OUhVCwzep1gAM9kztCsjxSE7My9xUi3B9STSx4-rW-DG-4VdylDnPBh8AsCClh17w_83G25waqaKvktXe6N3I_6i7yqmHnfSkc-W79xc5MH_TR7M7unVLct6rCJRHhlbWNPPPStwArI6aNC_dm-om_kYX9kHRoAtaz0J5BU_YueErSzg1sBMGqWV5ukZXPevb6gzdNelvGRQDikaOTD5QSo-CLg6kMkReV263r8yU10EPCdRGm_4uTdtb9yvcCdqDrRoKBLVP6g-LqRqXa4b_cYwtlj6aD_u44VyAdaO4mm93zd-U6kugQ9-MWI5zhiorMm7BetCq0ti0v6RoU1uY7i2uzItyUawnQ661954h3SowHN1tPKWprs5JcyCUsXLa4_XipEl2nVFccrReouEXQCSAUTiZTLLSjfr1GvwGoPeh7W9-8y_nkXk393CFZ-72le-jn09yk4o8T0AKJQ7tEnz6XHj2NSItr5R8OlyUO9r4zseSbGZB8Udh-Vo__riyUgTjTho-4_W5tVuhDqm53JxfcioDdpPfUzytfymUf3ZGhJiQy7XbmmJOgtRZIeXstjb9yYFby7aGFEXzC22GMDkp7Bz6u38_jgd0B-LYfpO-Gd304mQkbBOVcBOyl33UQdcV2Tp-F_0S_GDVoMLxxEtJE0jb3MVdKf__kkYTKJxS_B3C_H2mEMV_ozTXyIq9rzjlfSu26pmwuCQrFkawgp1QyHQOcSPTTqEC3FIiKsEtqTDfPR7RcoeRqm2aBvhHYRk7Rr0IYnn0a5SsBc2eZpo7oEDaYBMETUJXWC57q-ZZklcLszpAiJrdx7Np2d2YWOkwx0bQHWXkVJqFGQJsoar8NN6vET_-zc8M6j6UQp9HRfDPTWD33QomORGzxUHk6rAaVArm4JEUa-44setk1y0p6lVlNpg0Cj_Q-W7uWZU8_6U9AetgQy59L82iRIXYXXaixuIG8vW_UHV4ek83CMsTTKT7h0JcbcMm4PMq03QpHHoJzM4q-GUplyLnGlGpCfQQkxGKotdtByO_jqeCkKIdmizQPuI6dkoURy9oeSHgL7CQG9-m_MEli-okgsz-lobZSNe4WY3NFh-ACcyQ8uVkT6zoMQug2LFl6RlCjA&__tn__=%2AsH-R&paipv=0',\n",
       "   'text': 'Paco Rojas Oficial'},\n",
       "  {'link': '/Diputada.AdelaRamos?eav=AfajXzHL7jh48KqTt_JmB_A43bqOW0PvVe6HCiKDCUOBM276H4_3I9YKMCn2W4-_rP8&refid=17&_ft_=encrypted_tracking_data.0AY_Uo7Edlz1NhCrEKfV6B8n9ZxRETYR_tP0CoD9zaYeMUYRrI0s17RS0zF8xBAewTpcuom91CaK5J287LJeJxJ8sAhpsnTlYxB_Y3d509TQ5Ew-N1FnlPZJjGELP8kMzef_fassdioDyNw6r-ihQ9AeOjeLx0-BbqfjAth4eUjv3VQeFu8FmJSbeL3o25YL8ivexRC0PB0Hn0yp1UJuGMQvPEskiZStVCic2H_qBA4iouYKSgdOjkXncCPACeHcNBEJq5-iZOS-nd-GyLfWpk_sntsLbXnNb43jLYUpJMllblRyyQO4BahDqkasLUg1ojWkO_6X_gGGCrevPivdfEjxKf-rJjFJ7-WWRi8fGjIG5ovIE8mpXFDoVsCFedkx79IIBpI-QjVDSuiWvDbnl9gqcj7mIIH7AqspaM90erWKJvuiQpKqeqfDVitQJjq_7U-rU_kp4b1X_tYAy61vazBpbgQSyKMIDUyVSVMBJapSaCZG2RhAYXX1l_YVzNsNmTEquEDdte7UzP6pfBvA8W3RmB9bpnNc2BG3zTbFBmoOy1TQxhz8N5RyhKATw8O0Jkj9tSy4-PuSAutkzUhVSZjIjKQ47Ra_2hyluqQSG1yJdmoXSMA57sO_a20bjJc4CvQ1h9nZ431bDXLXiw2MwNrj5KYVNinTXD3g_2l870vqIKzvH-0ZrtgRpYOEUMaR4E-64cCt556i8Suxl3R5P48KPXcG9rCupebalEAzmcBMzZaJMa4M3n14PGDI4dDlvwaO1yQZvfjRPu11XAWvzx2OI0g4B0Zh2fi7fhHRGm7HDo_OQenSRwJAKSJRlpjd4jV1klTXzZPJqFZS3aSKju62ZPC1sNn9GNR5_ivBzYhr2cXt92QTx0lxpB5o2GaiHNDCZ0g82FZwh7tUpSFuBMQnm5lZR0y25ejiC1c7E-Wg9x6nswfxs_axi_DJZiaMO-3Iz2xUaB2A8hWekm3xM03FEP73IUln0pCKTYFGzapie4K8m4dprYoIy4iigkV2PbF7Gf1rnzDCOFIhKQzSbuOls3jY5kgM7ydQ0v0lTU7Ye6PqR9bX400Igx2jv3UgFA-rHrocIzD0twQdiPjqI9cYSCkDFeIcCXNoWlrDoDYX82-7uyEiSpTavMGKbMZCnDw0G_gP9uPtZQEjD-bHu3AoGR4Y2W8tSq1LLwyZxYqQanDwd7oNLhmZBUST3Y9iXEL8KKvz-_1-IEaiKZr6fyDYIjsjfuUZYdMYDrGuystBsWOBClfMJW9yqYnktUMnbH_u-kkOGOb8T1z2HC6FayrkIvvcMdYlsYPNenWrPQn4sPzUCz9bGw5nNIy4kzAgWwBfBBStxmUh7ReCTeHJRRCcM2Ourdz1CvwVxHK7zfIAYJiAVuXjLhTwIj4VLsAcVGhsxfHRdSrk82NlU4DJHM4Gvb5pTv3skVol4LDuR1h-sRjPUFeu6KCOiWjQ1VnS-\\\\-\\\\PzCVOKU6zecHNGmY9joTfRhgG_3CwdEeK3TBwZmfhPPcQA72ETkMsyqR_atYHm4PZSSXv0ZcURzdE3fFKKBwsnvGHOUb_mswcSWjtvtt0bRiMZf9Ys2Am2l-phOYW2kHg6WSeY8L1fc5F8iDr3vtOf997S-6Pw8WVylNovG-lZxaWLhi8YBa5zYcBPUdcqSsXjsWj9cbPCCcIQBpFHrCOKoD6i3oYuzJjsLYeino02y4HoyI1OAM-FmZGkCYBHCFbg5tR1hZHJZxKVsiJecBAVLVPp8prJqE20aEgIUxIg5ImRYiu9REJ41QPxS_eW-jnmLLznT0JqijK-eAggmigHoNMPYoI2ABhhC2V7nOjp8lVOxixWA0IQMwT0QJEZUzaSB5cCOV95OPGQlw7wmpmr-dyj62-NWMhk1ze6bIaZeGWdYfPj8SRVBAD4Gec1wjFlEzxv3kklSKrT4dP4pVgUnzTbE7bOLosbFeAfRxNkxhqhHLwLe5XPwRKXB9zYbITv8oDoSDIk3pnQ7uEQ7YsjzQeSMQ_SYK68SN0pABRD4lsXHrU6GlJo2r9u8_jcDnPwe_62nrQBqFfSHFR18jfDFL8yoIpEL9uKyGHq7Vxdvnh3llbsSYuVNu_rm0W69PgvSbL8NmqS-Vbpda6v50dV_pjZh9L27N9D3SLRsaSrxQGd3w7KDewwhTul82KEA4bRpnP5NK0Xzg9r6CUMN4q-4-MSH6hcmBFtXvlc_lKSVw472dMW9EGImBOPIG3OmeDdrjCJ8iZTlUuC0SU_Kl0LeqzbRpxwXgTJ0Nh-qt3NY9CMZ29Rb2SdxCA9E7k1QLfEtv-eLTzjrsQcjCfXCAi412irtU52jkhThc8-7lxr8kX-GHqmcCPcPtgSBxTAcz1X4b39OUhVCwzep1gAM9kztCsjxSE7My9xUi3B9STSx4-rW-DG-4VdylDnPBh8AsCClh17w_83G25waqaKvktXe6N3I_6i7yqmHnfSkc-W79xc5MH_TR7M7unVLct6rCJRHhlbWNPPPStwArI6aNC_dm-om_kYX9kHRoAtaz0J5BU_YueErSzg1sBMGqWV5ukZXPevb6gzdNelvGRQDikaOTD5QSo-CLg6kMkReV263r8yU10EPCdRGm_4uTdtb9yvcCdqDrRoKBLVP6g-LqRqXa4b_cYwtlj6aD_u44VyAdaO4mm93zd-U6kugQ9-MWI5zhiorMm7BetCq0ti0v6RoU1uY7i2uzItyUawnQ661954h3SowHN1tPKWprs5JcyCUsXLa4_XipEl2nVFccrReouEXQCSAUTiZTLLSjfr1GvwGoPeh7W9-8y_nkXk393CFZ-72le-jn09yk4o8T0AKJQ7tEnz6XHj2NSItr5R8OlyUO9r4zseSbGZB8Udh-Vo__riyUgTjTho-4_W5tVuhDqm53JxfcioDdpPfUzytfymUf3ZGhJiQy7XbmmJOgtRZIeXstjb9yYFby7aGFEXzC22GMDkp7Bz6u38_jgd0B-LYfpO-Gd304mQkbBOVcBOyl33UQdcV2Tp-F_0S_GDVoMLxxEtJE0jb3MVdKf__kkYTKJxS_B3C_H2mEMV_ozTXyIq9rzjlfSu26pmwuCQrFkawgp1QyHQOcSPTTqEC3FIiKsEtqTDfPR7RcoeRqm2aBvhHYRk7Rr0IYnn0a5SsBc2eZpo7oEDaYBMETUJXWC57q-ZZklcLszpAiJrdx7Np2d2YWOkwx0bQHWXkVJqFGQJsoar8NN6vET_-zc8M6j6UQp9HRfDPTWD33QomORGzxUHk6rAaVArm4JEUa-44setk1y0p6lVlNpg0Cj_Q-W7uWZU8_6U9AetgQy59L82iRIXYXXaixuIG8vW_UHV4ek83CMsTTKT7h0JcbcMm4PMq03QpHHoJzM4q-GUplyLnGlGpCfQQkxGKotdtByO_jqeCkKIdmizQPuI6dkoURy9oeSHgL7CQG9-m_MEli-okgsz-lobZSNe4WY3NFh-ACcyQ8uVkT6zoMQug2LFl6RlCjA&__tn__=%2AsH-R&paipv=0',\n",
       "   'text': 'Mtra. Adela Ramos'},\n",
       "  {'link': '/story.php?story_fbid=pfbid02J2wQkMd7sLnxXtYCpU65G6c8S6aYiKiMSzvJCPqifjDDJcyDXGsVgd5ZXXHDjqSsl&id=100044200761095&eav=AfZCfucyZjPDbQrP-o7hUmMmGcmrIgKqa06jixrr-\\\\-\\\\IrS_t_nRFAsNfZOlF8vnoOwes&m_entstream_source=timeline&refid=17&_ft_=encrypted_tracking_data.0AY_Uo7Edlz1NhCrEKfV6B8n9ZxRETYR_tP0CoD9zaYeMUYRrI0s17RS0zF8xBAewTpcuom91CaK5J287LJeJxJ8sAhpsnTlYxB_Y3d509TQ5Ew-N1FnlPZJjGELP8kMzef_fassdioDyNw6r-ihQ9AeOjeLx0-BbqfjAth4eUjv3VQeFu8FmJSbeL3o25YL8ivexRC0PB0Hn0yp1UJuGMQvPEskiZStVCic2H_qBA4iouYKSgdOjkXncCPACeHcNBEJq5-iZOS-nd-GyLfWpk_sntsLbXnNb43jLYUpJMllblRyyQO4BahDqkasLUg1ojWkO_6X_gGGCrevPivdfEjxKf-rJjFJ7-WWRi8fGjIG5ovIE8mpXFDoVsCFedkx79IIBpI-QjVDSuiWvDbnl9gqcj7mIIH7AqspaM90erWKJvuiQpKqeqfDVitQJjq_7U-rU_kp4b1X_tYAy61vazBpbgQSyKMIDUyVSVMBJapSaCZG2RhAYXX1l_YVzNsNmTEquEDdte7UzP6pfBvA8W3RmB9bpnNc2BG3zTbFBmoOy1TQxhz8N5RyhKATw8O0Jkj9tSy4-PuSAutkzUhVSZjIjKQ47Ra_2hyluqQSG1yJdmoXSMA57sO_a20bjJc4CvQ1h9nZ431bDXLXiw2MwNrj5KYVNinTXD3g_2l870vqIKzvH-0ZrtgRpYOEUMaR4E-64cCt556i8Suxl3R5P48KPXcG9rCupebalEAzmcBMzZaJMa4M3n14PGDI4dDlvwaO1yQZvfjRPu11XAWvzx2OI0g4B0Zh2fi7fhHRGm7HDo_OQenSRwJAKSJRlpjd4jV1klTXzZPJqFZS3aSKju62ZPC1sNn9GNR5_ivBzYhr2cXt92QTx0lxpB5o2GaiHNDCZ0g82FZwh7tUpSFuBMQnm5lZR0y25ejiC1c7E-Wg9x6nswfxs_axi_DJZiaMO-3Iz2xUaB2A8hWekm3xM03FEP73IUln0pCKTYFGzapie4K8m4dprYoIy4iigkV2PbF7Gf1rnzDCOFIhKQzSbuOls3jY5kgM7ydQ0v0lTU7Ye6PqR9bX400Igx2jv3UgFA-rHrocIzD0twQdiPjqI9cYSCkDFeIcCXNoWlrDoDYX82-7uyEiSpTavMGKbMZCnDw0G_gP9uPtZQEjD-bHu3AoGR4Y2W8tSq1LLwyZxYqQanDwd7oNLhmZBUST3Y9iXEL8KKvz-_1-IEaiKZr6fyDYIjsjfuUZYdMYDrGuystBsWOBClfMJW9yqYnktUMnbH_u-kkOGOb8T1z2HC6FayrkIvvcMdYlsYPNenWrPQn4sPzUCz9bGw5nNIy4kzAgWwBfBBStxmUh7ReCTeHJRRCcM2Ourdz1CvwVxHK7zfIAYJiAVuXjLhTwIj4VLsAcVGhsxfHRdSrk82NlU4DJHM4Gvb5pTv3skVol4LDuR1h-sRjPUFeu6KCOiWjQ1VnS-\\\\-\\\\PzCVOKU6zecHNGmY9joTfRhgG_3CwdEeK3TBwZmfhPPcQA72ETkMsyqR_atYHm4PZSSXv0ZcURzdE3fFKKBwsnvGHOUb_mswcSWjtvtt0bRiMZf9Ys2Am2l-phOYW2kHg6WSeY8L1fc5F8iDr3vtOf997S-6Pw8WVylNovG-lZxaWLhi8YBa5zYcBPUdcqSsXjsWj9cbPCCcIQBpFHrCOKoD6i3oYuzJjsLYeino02y4HoyI1OAM-FmZGkCYBHCFbg5tR1hZHJZxKVsiJecBAVLVPp8prJqE20aEgIUxIg5ImRYiu9REJ41QPxS_eW-jnmLLznT0JqijK-eAggmigHoNMPYoI2ABhhC2V7nOjp8lVOxixWA0IQMwT0QJEZUzaSB5cCOV95OPGQlw7wmpmr-dyj62-NWMhk1ze6bIaZeGWdYfPj8SRVBAD4Gec1wjFlEzxv3kklSKrT4dP4pVgUnzTbE7bOLosbFeAfRxNkxhqhHLwLe5XPwRKXB9zYbITv8oDoSDIk3pnQ7uEQ7YsjzQeSMQ_SYK68SN0pABRD4lsXHrU6GlJo2r9u8_jcDnPwe_62nrQBqFfSHFR18jfDFL8yoIpEL9uKyGHq7Vxdvnh3llbsSYuVNu_rm0W69PgvSbL8NmqS-Vbpda6v50dV_pjZh9L27N9D3SLRsaSrxQGd3w7KDewwhTul82KEA4bRpnP5NK0Xzg9r6CUMN4q-4-MSH6hcmBFtXvlc_lKSVw472dMW9EGImBOPIG3OmeDdrjCJ8iZTlUuC0SU_Kl0LeqzbRpxwXgTJ0Nh-qt3NY9CMZ29Rb2SdxCA9E7k1QLfEtv-eLTzjrsQcjCfXCAi412irtU52jkhThc8-7lxr8kX-GHqmcCPcPtgSBxTAcz1X4b39OUhVCwzep1gAM9kztCsjxSE7My9xUi3B9STSx4-rW-DG-4VdylDnPBh8AsCClh17w_83G25waqaKvktXe6N3I_6i7yqmHnfSkc-W79xc5MH_TR7M7unVLct6rCJRHhlbWNPPPStwArI6aNC_dm-om_kYX9kHRoAtaz0J5BU_YueErSzg1sBMGqWV5ukZXPevb6gzdNelvGRQDikaOTD5QSo-CLg6kMkReV263r8yU10EPCdRGm_4uTdtb9yvcCdqDrRoKBLVP6g-LqRqXa4b_cYwtlj6aD_u44VyAdaO4mm93zd-U6kugQ9-MWI5zhiorMm7BetCq0ti0v6RoU1uY7i2uzItyUawnQ661954h3SowHN1tPKWprs5JcyCUsXLa4_XipEl2nVFccrReouEXQCSAUTiZTLLSjfr1GvwGoPeh7W9-8y_nkXk393CFZ-72le-jn09yk4o8T0AKJQ7tEnz6XHj2NSItr5R8OlyUO9r4zseSbGZB8Udh-Vo__riyUgTjTho-4_W5tVuhDqm53JxfcioDdpPfUzytfymUf3ZGhJiQy7XbmmJOgtRZIeXstjb9yYFby7aGFEXzC22GMDkp7Bz6u38_jgd0B-LYfpO-Gd304mQkbBOVcBOyl33UQdcV2Tp-F_0S_GDVoMLxxEtJE0jb3MVdKf__kkYTKJxS_B3C_H2mEMV_ozTXyIq9rzjlfSu26pmwuCQrFkawgp1QyHQOcSPTTqEC3FIiKsEtqTDfPR7RcoeRqm2aBvhHYRk7Rr0IYnn0a5SsBc2eZpo7oEDaYBMETUJXWC57q-ZZklcLszpAiJrdx7Np2d2YWOkwx0bQHWXkVJqFGQJsoar8NN6vET_-zc8M6j6UQp9HRfDPTWD33QomORGzxUHk6rAaVArm4JEUa-44setk1y0p6lVlNpg0Cj_Q-W7uWZU8_6U9AetgQy59L82iRIXYXXaixuIG8vW_UHV4ek83CMsTTKT7h0JcbcMm4PMq03QpHHoJzM4q-GUplyLnGlGpCfQQkxGKotdtByO_jqeCkKIdmizQPuI6dkoURy9oeSHgL7CQG9-m_MEli-okgsz-lobZSNe4WY3NFh-ACcyQ8uVkT6zoMQug2LFl6RlCjA&__tn__=%2As%2AsH-R&paipv=0',\n",
       "   'text': ''}],\n",
       " 'user_id': '100044276717021',\n",
       " 'username': 'Xóchitl Gálvez Ruiz',\n",
       " 'user_url': 'https://facebook.com/Xochitl.Galvez.R?lst=608030362%3A100044276717021%3A1698284863&eav=Afb6wh7w5fGVBasO-E9PycEcVdDRtlDmXgNiRhvAJdLcSoUCrKGs115WR7ImFyD1f3o&refid=17&_ft_=encrypted_tracking_data.0AY_Uo7Edlz1NhCrEKfV6B8n9ZxRETYR_tP0CoD9zaYeMUYRrI0s17RS0zF8xBAewTpcuom91CaK5J287LJeJxJ8sAhpsnTlYxB_Y3d509TQ5Ew-N1FnlPZJjGELP8kMzef_fassdioDyNw6r-ihQ9AeOjeLx0-BbqfjAth4eUjv3VQeFu8FmJSbeL3o25YL8ivexRC0PB0Hn0yp1UJuGMQvPEskiZStVCic2H_qBA4iouYKSgdOjkXncCPACeHcNBEJq5-iZOS-nd-GyLfWpk_sntsLbXnNb43jLYUpJMllblRyyQO4BahDqkasLUg1ojWkO_6X_gGGCrevPivdfEjxKf-rJjFJ7-WWRi8fGjIG5ovIE8mpXFDoVsCFedkx79IIBpI-QjVDSuiWvDbnl9gqcj7mIIH7AqspaM90erWKJvuiQpKqeqfDVitQJjq_7U-rU_kp4b1X_tYAy61vazBpbgQSyKMIDUyVSVMBJapSaCZG2RhAYXX1l_YVzNsNmTEquEDdte7UzP6pfBvA8W3RmB9bpnNc2BG3zTbFBmoOy1TQxhz8N5RyhKATw8O0Jkj9tSy4-PuSAutkzUhVSZjIjKQ47Ra_2hyluqQSG1yJdmoXSMA57sO_a20bjJc4CvQ1h9nZ431bDXLXiw2MwNrj5KYVNinTXD3g_2l870vqIKzvH-0ZrtgRpYOEUMaR4E-64cCt556i8Suxl3R5P48KPXcG9rCupebalEAzmcBMzZaJMa4M3n14PGDI4dDlvwaO1yQZvfjRPu11XAWvzx2OI0g4B0Zh2fi7fhHRGm7HDo_OQenSRwJAKSJRlpjd4jV1klTXzZPJqFZS3aSKju62ZPC1sNn9GNR5_ivBzYhr2cXt92QTx0lxpB5o2GaiHNDCZ0g82FZwh7tUpSFuBMQnm5lZR0y25ejiC1c7E-Wg9x6nswfxs_axi_DJZiaMO-3Iz2xUaB2A8hWekm3xM03FEP73IUln0pCKTYFGzapie4K8m4dprYoIy4iigkV2PbF7Gf1rnzDCOFIhKQzSbuOls3jY5kgM7ydQ0v0lTU7Ye6PqR9bX400Igx2jv3UgFA-rHrocIzD0twQdiPjqI9cYSCkDFeIcCXNoWlrDoDYX82-7uyEiSpTavMGKbMZCnDw0G_gP9uPtZQEjD-bHu3AoGR4Y2W8tSq1LLwyZxYqQanDwd7oNLhmZBUST3Y9iXEL8KKvz-_1-IEaiKZr6fyDYIjsjfuUZYdMYDrGuystBsWOBClfMJW9yqYnktUMnbH_u-kkOGOb8T1z2HC6FayrkIvvcMdYlsYPNenWrPQn4sPzUCz9bGw5nNIy4kzAgWwBfBBStxmUh7ReCTeHJRRCcM2Ourdz1CvwVxHK7zfIAYJiAVuXjLhTwIj4VLsAcVGhsxfHRdSrk82NlU4DJHM4Gvb5pTv3skVol4LDuR1h-sRjPUFeu6KCOiWjQ1VnS-\\\\-\\\\PzCVOKU6zecHNGmY9joTfRhgG_3CwdEeK3TBwZmfhPPcQA72ETkMsyqR_atYHm4PZSSXv0ZcURzdE3fFKKBwsnvGHOUb_mswcSWjtvtt0bRiMZf9Ys2Am2l-phOYW2kHg6WSeY8L1fc5F8iDr3vtOf997S-6Pw8WVylNovG-lZxaWLhi8YBa5zYcBPUdcqSsXjsWj9cbPCCcIQBpFHrCOKoD6i3oYuzJjsLYeino02y4HoyI1OAM-FmZGkCYBHCFbg5tR1hZHJZxKVsiJecBAVLVPp8prJqE20aEgIUxIg5ImRYiu9REJ41QPxS_eW-jnmLLznT0JqijK-eAggmigHoNMPYoI2ABhhC2V7nOjp8lVOxixWA0IQMwT0QJEZUzaSB5cCOV95OPGQlw7wmpmr-dyj62-NWMhk1ze6bIaZeGWdYfPj8SRVBAD4Gec1wjFlEzxv3kklSKrT4dP4pVgUnzTbE7bOLosbFeAfRxNkxhqhHLwLe5XPwRKXB9zYbITv8oDoSDIk3pnQ7uEQ7YsjzQeSMQ_SYK68SN0pABRD4lsXHrU6GlJo2r9u8_jcDnPwe_62nrQBqFfSHFR18jfDFL8yoIpEL9uKyGHq7Vxdvnh3llbsSYuVNu_rm0W69PgvSbL8NmqS-Vbpda6v50dV_pjZh9L27N9D3SLRsaSrxQGd3w7KDewwhTul82KEA4bRpnP5NK0Xzg9r6CUMN4q-4-MSH6hcmBFtXvlc_lKSVw472dMW9EGImBOPIG3OmeDdrjCJ8iZTlUuC0SU_Kl0LeqzbRpxwXgTJ0Nh-qt3NY9CMZ29Rb2SdxCA9E7k1QLfEtv-eLTzjrsQcjCfXCAi412irtU52jkhThc8-7lxr8kX-GHqmcCPcPtgSBxTAcz1X4b39OUhVCwzep1gAM9kztCsjxSE7My9xUi3B9STSx4-rW-DG-4VdylDnPBh8AsCClh17w_83G25waqaKvktXe6N3I_6i7yqmHnfSkc-W79xc5MH_TR7M7unVLct6rCJRHhlbWNPPPStwArI6aNC_dm-om_kYX9kHRoAtaz0J5BU_YueErSzg1sBMGqWV5ukZXPevb6gzdNelvGRQDikaOTD5QSo-CLg6kMkReV263r8yU10EPCdRGm_4uTdtb9yvcCdqDrRoKBLVP6g-LqRqXa4b_cYwtlj6aD_u44VyAdaO4mm93zd-U6kugQ9-MWI5zhiorMm7BetCq0ti0v6RoU1uY7i2uzItyUawnQ661954h3SowHN1tPKWprs5JcyCUsXLa4_XipEl2nVFccrReouEXQCSAUTiZTLLSjfr1GvwGoPeh7W9-8y_nkXk393CFZ-72le-jn09yk4o8T0AKJQ7tEnz6XHj2NSItr5R8OlyUO9r4zseSbGZB8Udh-Vo__riyUgTjTho-4_W5tVuhDqm53JxfcioDdpPfUzytfymUf3ZGhJiQy7XbmmJOgtRZIeXstjb9yYFby7aGFEXzC22GMDkp7Bz6u38_jgd0B-LYfpO-Gd304mQkbBOVcBOyl33UQdcV2Tp-F_0S_GDVoMLxxEtJE0jb3MVdKf__kkYTKJxS_B3C_H2mEMV_ozTXyIq9rzjlfSu26pmwuCQrFkawgp1QyHQOcSPTTqEC3FIiKsEtqTDfPR7RcoeRqm2aBvhHYRk7Rr0IYnn0a5SsBc2eZpo7oEDaYBMETUJXWC57q-ZZklcLszpAiJrdx7Np2d2YWOkwx0bQHWXkVJqFGQJsoar8NN6vET_-zc8M6j6UQp9HRfDPTWD33QomORGzxUHk6rAaVArm4JEUa-44setk1y0p6lVlNpg0Cj_Q-W7uWZU8_6U9AetgQy59L82iRIXYXXaixuIG8vW_UHV4ek83CMsTTKT7h0JcbcMm4PMq03QpHHoJzM4q-GUplyLnGlGpCfQQkxGKotdtByO_jqeCkKIdmizQPuI6dkoURy9oeSHgL7CQG9-m_MEli-okgsz-lobZSNe4WY3NFh-ACcyQ8uVkT6zoMQug2LFl6RlCjA&__tn__=C-R&paipv=0',\n",
       " 'is_live': False,\n",
       " 'factcheck': None,\n",
       " 'shared_post_id': '882370079913009',\n",
       " 'shared_time': datetime.datetime(2023, 10, 24, 11, 9),\n",
       " 'shared_user_id': '100044200761095',\n",
       " 'shared_username': 'Marko Cortés',\n",
       " 'shared_post_url': 'https://facebook.com/story.php?story_fbid=pfbid02J2wQkMd7sLnxXtYCpU65G6c8S6aYiKiMSzvJCPqifjDDJcyDXGsVgd5ZXXHDjqSsl&id=100044200761095',\n",
       " 'available': True,\n",
       " 'comments_full': None,\n",
       " 'reactors': None,\n",
       " 'w3_fb_url': None,\n",
       " 'reactions': None,\n",
       " 'reaction_count': 1787,\n",
       " 'with': [{'name': 'Marko Cortés',\n",
       "   'link': '/MarkoCortesM?eav=Afaf9CSGvFTRbF8RaTCS6D-\\\\-\\\\Fwc5TbOvc-sdry9xODE5qMA4WudnCPFBuSRkRnkEpTo&refid=17&_ft_=encrypted_tracking_data.0AY_Uo7Edlz1NhCrEKfV6B8n9ZxRETYR_tP0CoD9zaYeMUYRrI0s17RS0zF8xBAewTpcuom91CaK5J287LJeJxJ8sAhpsnTlYxB_Y3d509TQ5Ew-N1FnlPZJjGELP8kMzef_fassdioDyNw6r-ihQ9AeOjeLx0-BbqfjAth4eUjv3VQeFu8FmJSbeL3o25YL8ivexRC0PB0Hn0yp1UJuGMQvPEskiZStVCic2H_qBA4iouYKSgdOjkXncCPACeHcNBEJq5-iZOS-nd-GyLfWpk_sntsLbXnNb43jLYUpJMllblRyyQO4BahDqkasLUg1ojWkO_6X_gGGCrevPivdfEjxKf-rJjFJ7-WWRi8fGjIG5ovIE8mpXFDoVsCFedkx79IIBpI-QjVDSuiWvDbnl9gqcj7mIIH7AqspaM90erWKJvuiQpKqeqfDVitQJjq_7U-rU_kp4b1X_tYAy61vazBpbgQSyKMIDUyVSVMBJapSaCZG2RhAYXX1l_YVzNsNmTEquEDdte7UzP6pfBvA8W3RmB9bpnNc2BG3zTbFBmoOy1TQxhz8N5RyhKATw8O0Jkj9tSy4-PuSAutkzUhVSZjIjKQ47Ra_2hyluqQSG1yJdmoXSMA57sO_a20bjJc4CvQ1h9nZ431bDXLXiw2MwNrj5KYVNinTXD3g_2l870vqIKzvH-0ZrtgRpYOEUMaR4E-64cCt556i8Suxl3R5P48KPXcG9rCupebalEAzmcBMzZaJMa4M3n14PGDI4dDlvwaO1yQZvfjRPu11XAWvzx2OI0g4B0Zh2fi7fhHRGm7HDo_OQenSRwJAKSJRlpjd4jV1klTXzZPJqFZS3aSKju62ZPC1sNn9GNR5_ivBzYhr2cXt92QTx0lxpB5o2GaiHNDCZ0g82FZwh7tUpSFuBMQnm5lZR0y25ejiC1c7E-Wg9x6nswfxs_axi_DJZiaMO-3Iz2xUaB2A8hWekm3xM03FEP73IUln0pCKTYFGzapie4K8m4dprYoIy4iigkV2PbF7Gf1rnzDCOFIhKQzSbuOls3jY5kgM7ydQ0v0lTU7Ye6PqR9bX400Igx2jv3UgFA-rHrocIzD0twQdiPjqI9cYSCkDFeIcCXNoWlrDoDYX82-7uyEiSpTavMGKbMZCnDw0G_gP9uPtZQEjD-bHu3AoGR4Y2W8tSq1LLwyZxYqQanDwd7oNLhmZBUST3Y9iXEL8KKvz-_1-IEaiKZr6fyDYIjsjfuUZYdMYDrGuystBsWOBClfMJW9yqYnktUMnbH_u-kkOGOb8T1z2HC6FayrkIvvcMdYlsYPNenWrPQn4sPzUCz9bGw5nNIy4kzAgWwBfBBStxmUh7ReCTeHJRRCcM2Ourdz1CvwVxHK7zfIAYJiAVuXjLhTwIj4VLsAcVGhsxfHRdSrk82NlU4DJHM4Gvb5pTv3skVol4LDuR1h-sRjPUFeu6KCOiWjQ1VnS-\\\\-\\\\PzCVOKU6zecHNGmY9joTfRhgG_3CwdEeK3TBwZmfhPPcQA72ETkMsyqR_atYHm4PZSSXv0ZcURzdE3fFKKBwsnvGHOUb_mswcSWjtvtt0bRiMZf9Ys2Am2l-phOYW2kHg6WSeY8L1fc5F8iDr3vtOf997S-6Pw8WVylNovG-lZxaWLhi8YBa5zYcBPUdcqSsXjsWj9cbPCCcIQBpFHrCOKoD6i3oYuzJjsLYeino02y4HoyI1OAM-FmZGkCYBHCFbg5tR1hZHJZxKVsiJecBAVLVPp8prJqE20aEgIUxIg5ImRYiu9REJ41QPxS_eW-jnmLLznT0JqijK-eAggmigHoNMPYoI2ABhhC2V7nOjp8lVOxixWA0IQMwT0QJEZUzaSB5cCOV95OPGQlw7wmpmr-dyj62-NWMhk1ze6bIaZeGWdYfPj8SRVBAD4Gec1wjFlEzxv3kklSKrT4dP4pVgUnzTbE7bOLosbFeAfRxNkxhqhHLwLe5XPwRKXB9zYbITv8oDoSDIk3pnQ7uEQ7YsjzQeSMQ_SYK68SN0pABRD4lsXHrU6GlJo2r9u8_jcDnPwe_62nrQBqFfSHFR18jfDFL8yoIpEL9uKyGHq7Vxdvnh3llbsSYuVNu_rm0W69PgvSbL8NmqS-Vbpda6v50dV_pjZh9L27N9D3SLRsaSrxQGd3w7KDewwhTul82KEA4bRpnP5NK0Xzg9r6CUMN4q-4-MSH6hcmBFtXvlc_lKSVw472dMW9EGImBOPIG3OmeDdrjCJ8iZTlUuC0SU_Kl0LeqzbRpxwXgTJ0Nh-qt3NY9CMZ29Rb2SdxCA9E7k1QLfEtv-eLTzjrsQcjCfXCAi412irtU52jkhThc8-7lxr8kX-GHqmcCPcPtgSBxTAcz1X4b39OUhVCwzep1gAM9kztCsjxSE7My9xUi3B9STSx4-rW-DG-4VdylDnPBh8AsCClh17w_83G25waqaKvktXe6N3I_6i7yqmHnfSkc-W79xc5MH_TR7M7unVLct6rCJRHhlbWNPPPStwArI6aNC_dm-om_kYX9kHRoAtaz0J5BU_YueErSzg1sBMGqWV5ukZXPevb6gzdNelvGRQDikaOTD5QSo-CLg6kMkReV263r8yU10EPCdRGm_4uTdtb9yvcCdqDrRoKBLVP6g-LqRqXa4b_cYwtlj6aD_u44VyAdaO4mm93zd-U6kugQ9-MWI5zhiorMm7BetCq0ti0v6RoU1uY7i2uzItyUawnQ661954h3SowHN1tPKWprs5JcyCUsXLa4_XipEl2nVFccrReouEXQCSAUTiZTLLSjfr1GvwGoPeh7W9-8y_nkXk393CFZ-72le-jn09yk4o8T0AKJQ7tEnz6XHj2NSItr5R8OlyUO9r4zseSbGZB8Udh-Vo__riyUgTjTho-4_W5tVuhDqm53JxfcioDdpPfUzytfymUf3ZGhJiQy7XbmmJOgtRZIeXstjb9yYFby7aGFEXzC22GMDkp7Bz6u38_jgd0B-LYfpO-Gd304mQkbBOVcBOyl33UQdcV2Tp-F_0S_GDVoMLxxEtJE0jb3MVdKf__kkYTKJxS_B3C_H2mEMV_ozTXyIq9rzjlfSu26pmwuCQrFkawgp1QyHQOcSPTTqEC3FIiKsEtqTDfPR7RcoeRqm2aBvhHYRk7Rr0IYnn0a5SsBc2eZpo7oEDaYBMETUJXWC57q-ZZklcLszpAiJrdx7Np2d2YWOkwx0bQHWXkVJqFGQJsoar8NN6vET_-zc8M6j6UQp9HRfDPTWD33QomORGzxUHk6rAaVArm4JEUa-44setk1y0p6lVlNpg0Cj_Q-W7uWZU8_6U9AetgQy59L82iRIXYXXaixuIG8vW_UHV4ek83CMsTTKT7h0JcbcMm4PMq03QpHHoJzM4q-GUplyLnGlGpCfQQkxGKotdtByO_jqeCkKIdmizQPuI6dkoURy9oeSHgL7CQG9-m_MEli-okgsz-lobZSNe4WY3NFh-ACcyQ8uVkT6zoMQug2LFl6RlCjA&__tn__=CH-R&paipv=0'}],\n",
       " 'page_id': '100867376619769',\n",
       " 'sharers': None,\n",
       " 'image_id': None,\n",
       " 'image_ids': [],\n",
       " 'video_ids': [],\n",
       " 'videos': [],\n",
       " 'was_live': False,\n",
       " 'header': 'Xóchitl Gálvez Ruiz'}"
      ]
     },
     "execution_count": 45,
     "metadata": {},
     "output_type": "execute_result"
    }
   ],
   "source": [
    "# Ejemplo de la información de un post\n",
    "post"
   ]
  },
  {
   "cell_type": "code",
   "execution_count": 50,
   "metadata": {},
   "outputs": [
    {
     "data": {
      "text/html": [
       "<div>\n",
       "<style scoped>\n",
       "    .dataframe tbody tr th:only-of-type {\n",
       "        vertical-align: middle;\n",
       "    }\n",
       "\n",
       "    .dataframe tbody tr th {\n",
       "        vertical-align: top;\n",
       "    }\n",
       "\n",
       "    .dataframe thead th {\n",
       "        text-align: right;\n",
       "    }\n",
       "</style>\n",
       "<table border=\"1\" class=\"dataframe\">\n",
       "  <thead>\n",
       "    <tr style=\"text-align: right;\">\n",
       "      <th></th>\n",
       "      <th>username</th>\n",
       "      <th>text</th>\n",
       "      <th>post_id</th>\n",
       "      <th>time</th>\n",
       "      <th>likes</th>\n",
       "      <th>comments</th>\n",
       "      <th>shares</th>\n",
       "      <th>reaction_count</th>\n",
       "    </tr>\n",
       "  </thead>\n",
       "  <tbody>\n",
       "    <tr>\n",
       "      <th>0</th>\n",
       "      <td>Xóchitl Gálvez Ruiz</td>\n",
       "      <td>Guerrero nos necesita a todos, no se va a leva...</td>\n",
       "      <td>923485849137297</td>\n",
       "      <td>2023-10-25 20:21:22</td>\n",
       "      <td>468</td>\n",
       "      <td>123</td>\n",
       "      <td>112</td>\n",
       "      <td>468</td>\n",
       "    </tr>\n",
       "    <tr>\n",
       "      <th>1</th>\n",
       "      <td>Xóchitl Gálvez Ruiz</td>\n",
       "      <td>Es el momento de solidarizarnos como pueblo me...</td>\n",
       "      <td>923457409140141</td>\n",
       "      <td>2023-10-25 19:10:03</td>\n",
       "      <td>1606</td>\n",
       "      <td>758</td>\n",
       "      <td>224</td>\n",
       "      <td>1606</td>\n",
       "    </tr>\n",
       "    <tr>\n",
       "      <th>2</th>\n",
       "      <td>Xóchitl Gálvez Ruiz</td>\n",
       "      <td>Mujeres y hombres somos diferentes, pero valem...</td>\n",
       "      <td>923386429147239</td>\n",
       "      <td>2023-10-25 16:10:01</td>\n",
       "      <td>916</td>\n",
       "      <td>239</td>\n",
       "      <td>38</td>\n",
       "      <td>916</td>\n",
       "    </tr>\n",
       "    <tr>\n",
       "      <th>3</th>\n",
       "      <td>Xóchitl Gálvez Ruiz</td>\n",
       "      <td>Es momento de solidarizarnos como mexicanos. #...</td>\n",
       "      <td>1774730906289050</td>\n",
       "      <td>2023-10-25 14:36:29</td>\n",
       "      <td>4499</td>\n",
       "      <td>1883</td>\n",
       "      <td>543</td>\n",
       "      <td>4499</td>\n",
       "    </tr>\n",
       "    <tr>\n",
       "      <th>4</th>\n",
       "      <td>Xóchitl Gálvez Ruiz</td>\n",
       "      <td>La cruzazuleó y ya sabemos cómo termina esa hi...</td>\n",
       "      <td>923319869153895</td>\n",
       "      <td>2023-10-25 13:36:31</td>\n",
       "      <td>1387</td>\n",
       "      <td>570</td>\n",
       "      <td>261</td>\n",
       "      <td>1387</td>\n",
       "    </tr>\n",
       "    <tr>\n",
       "      <th>5</th>\n",
       "      <td>Xóchitl Gálvez Ruiz</td>\n",
       "      <td>Más que quitar derechos, debemos pensar cómo l...</td>\n",
       "      <td>922983319187550</td>\n",
       "      <td>2023-10-25 02:51:23</td>\n",
       "      <td>2303</td>\n",
       "      <td>761</td>\n",
       "      <td>300</td>\n",
       "      <td>2303</td>\n",
       "    </tr>\n",
       "    <tr>\n",
       "      <th>6</th>\n",
       "      <td>Xóchitl Gálvez Ruiz</td>\n",
       "      <td>Aquí el tablero de la votación de la reforma s...</td>\n",
       "      <td>922953325857216</td>\n",
       "      <td>2023-10-25 01:42:46</td>\n",
       "      <td>1759</td>\n",
       "      <td>897</td>\n",
       "      <td>184</td>\n",
       "      <td>1759</td>\n",
       "    </tr>\n",
       "    <tr>\n",
       "      <th>7</th>\n",
       "      <td>Xóchitl Gálvez Ruiz</td>\n",
       "      <td>Seguimos defendiendo el acceso a la justicia d...</td>\n",
       "      <td>643322311298624</td>\n",
       "      <td>2023-10-25 01:29:46</td>\n",
       "      <td>14320</td>\n",
       "      <td>7829</td>\n",
       "      <td>1034</td>\n",
       "      <td>14320</td>\n",
       "    </tr>\n",
       "    <tr>\n",
       "      <th>8</th>\n",
       "      <td>Xóchitl Gálvez Ruiz</td>\n",
       "      <td>🚨 ¡A todas las personas de Guerrero y Oaxaca! ...</td>\n",
       "      <td>922894119196470</td>\n",
       "      <td>2023-10-24 23:22:36</td>\n",
       "      <td>1592</td>\n",
       "      <td>174</td>\n",
       "      <td>63</td>\n",
       "      <td>1592</td>\n",
       "    </tr>\n",
       "    <tr>\n",
       "      <th>9</th>\n",
       "      <td>Xóchitl Gálvez Ruiz</td>\n",
       "      <td>Me da mucho gusto darte la bienvenida en este ...</td>\n",
       "      <td>922871845865364</td>\n",
       "      <td>2023-10-24 22:30:47</td>\n",
       "      <td>1787</td>\n",
       "      <td>249</td>\n",
       "      <td>44</td>\n",
       "      <td>1787</td>\n",
       "    </tr>\n",
       "  </tbody>\n",
       "</table>\n",
       "</div>"
      ],
      "text/plain": [
       "              username                                               text  \\\n",
       "0  Xóchitl Gálvez Ruiz  Guerrero nos necesita a todos, no se va a leva...   \n",
       "1  Xóchitl Gálvez Ruiz  Es el momento de solidarizarnos como pueblo me...   \n",
       "2  Xóchitl Gálvez Ruiz  Mujeres y hombres somos diferentes, pero valem...   \n",
       "3  Xóchitl Gálvez Ruiz  Es momento de solidarizarnos como mexicanos. #...   \n",
       "4  Xóchitl Gálvez Ruiz  La cruzazuleó y ya sabemos cómo termina esa hi...   \n",
       "5  Xóchitl Gálvez Ruiz  Más que quitar derechos, debemos pensar cómo l...   \n",
       "6  Xóchitl Gálvez Ruiz  Aquí el tablero de la votación de la reforma s...   \n",
       "7  Xóchitl Gálvez Ruiz  Seguimos defendiendo el acceso a la justicia d...   \n",
       "8  Xóchitl Gálvez Ruiz  🚨 ¡A todas las personas de Guerrero y Oaxaca! ...   \n",
       "9  Xóchitl Gálvez Ruiz  Me da mucho gusto darte la bienvenida en este ...   \n",
       "\n",
       "            post_id                time  likes  comments  shares  \\\n",
       "0   923485849137297 2023-10-25 20:21:22    468       123     112   \n",
       "1   923457409140141 2023-10-25 19:10:03   1606       758     224   \n",
       "2   923386429147239 2023-10-25 16:10:01    916       239      38   \n",
       "3  1774730906289050 2023-10-25 14:36:29   4499      1883     543   \n",
       "4   923319869153895 2023-10-25 13:36:31   1387       570     261   \n",
       "5   922983319187550 2023-10-25 02:51:23   2303       761     300   \n",
       "6   922953325857216 2023-10-25 01:42:46   1759       897     184   \n",
       "7   643322311298624 2023-10-25 01:29:46  14320      7829    1034   \n",
       "8   922894119196470 2023-10-24 23:22:36   1592       174      63   \n",
       "9   922871845865364 2023-10-24 22:30:47   1787       249      44   \n",
       "\n",
       "   reaction_count  \n",
       "0             468  \n",
       "1            1606  \n",
       "2             916  \n",
       "3            4499  \n",
       "4            1387  \n",
       "5            2303  \n",
       "6            1759  \n",
       "7           14320  \n",
       "8            1592  \n",
       "9            1787  "
      ]
     },
     "execution_count": 50,
     "metadata": {},
     "output_type": "execute_result"
    }
   ],
   "source": [
    "df = pd.DataFrame(the_posts, columns = ['username', 'text', 'post_id', 'time', 'likes', 'comments', 'shares','reaction_count'])"
   ]
  },
  {
   "cell_type": "markdown",
   "metadata": {},
   "source": [
    "## 3. Comentarios adicionales\n",
    "Esta es una primera aproximación para hacer scrape en Facebook, usando la librería `facebook-scraper`, pues existen otras funcionesd e esta librerías que podrían serles útil para consultar información buscando hashtags, publicaciones de grupos, buscar texto en posts, amigos (friends), entre otros."
   ]
  },
  {
   "cell_type": "markdown",
   "metadata": {},
   "source": [
    "## 4. Referencias\n",
    "\n",
    "- Librería facebook-scraper``, link: https://github.com/kevinzg/facebook-scraper\n",
    "- Artículo \"Cómo obtener informción de Facebook con Python\", por Jonathan Ríos, link: https://es.linkedin.com/pulse/saca-informaci%C3%B3n-de-facebook-con-python-y-parte-1-jonathan-r%C3%ADos"
   ]
  },
  {
   "cell_type": "code",
   "execution_count": null,
   "metadata": {},
   "outputs": [],
   "source": []
  }
 ],
 "metadata": {
  "kernelspec": {
   "display_name": "Python 3 (ipykernel)",
   "language": "python",
   "name": "python3"
  },
  "language_info": {
   "codemirror_mode": {
    "name": "ipython",
    "version": 3
   },
   "file_extension": ".py",
   "mimetype": "text/x-python",
   "name": "python",
   "nbconvert_exporter": "python",
   "pygments_lexer": "ipython3",
   "version": "3.10.8"
  }
 },
 "nbformat": 4,
 "nbformat_minor": 4
}
