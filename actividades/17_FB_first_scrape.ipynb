{
 "cells": [
  {
   "cell_type": "markdown",
   "metadata": {},
   "source": [
    "# Facebook scraper\n",
    "En este notebook revisaré como hacer scrape en Facebook para poder utilzarla posteriormente en análisis del Banco de México. \n",
    "\n",
    "## Contenido \n",
    "\n",
    "1. Load libraries\n",
    "2. Identificar posts de una cuenta\n",
    "3. Comentarios adicionales\n",
    "4. Referencias\n",
    "\n",
    "## 1. Loading\n",
    "### Librerías"
   ]
  },
  {
   "cell_type": "code",
   "execution_count": 1,
   "metadata": {},
   "outputs": [],
   "source": [
    "## Instalación de librería Facebook Scraper, link: https://pypi.org/project/facebook-scraper/\n",
    "# !pip install facebook-scraper\n",
    "\n",
    "## Actualizar pandas\n",
    "# !pip3 install --upgrade pandas"
   ]
  },
  {
   "cell_type": "code",
   "execution_count": 1,
   "metadata": {},
   "outputs": [
    {
     "name": "stderr",
     "output_type": "stream",
     "text": [
      "/Users/vcuspinera/opt/miniconda3/lib/python3.10/site-packages/tqdm/auto.py:22: TqdmWarning: IProgress not found. Please update jupyter and ipywidgets. See https://ipywidgets.readthedocs.io/en/stable/user_install.html\n",
      "  from .autonotebook import tqdm as notebook_tqdm\n"
     ]
    }
   ],
   "source": [
    "# importar librerías\n",
    "import facebook_scraper as fbs\n",
    "import pandas as pd\n",
    "import numpy as np\n",
    "import time"
   ]
  },
  {
   "cell_type": "markdown",
   "metadata": {},
   "source": [
    "### Credenciales de cuenta personal de Facebook"
   ]
  },
  {
   "cell_type": "code",
   "execution_count": 12,
   "metadata": {},
   "outputs": [],
   "source": [
    "# Cuenta personal de Facebook (para usar la librería se requiren las credenciales personales)\n",
    "#pers_account = pd.read_csv('../../09_Pswd/FB_vic.txt', header=None, delim_whitespace='\\t', index_col=0)\n",
    "pers_account = pd.read_csv('keys/FB_credenciales.txt', header=None, delim_whitespace='\\t', index_col=0)\n",
    "my_email = pers_account.loc[\"email\"][1]\n",
    "my_pswd = pers_account.loc[\"pswd\"][1]\n",
    "\n",
    "# NOTA: \n",
    "# Si utilizan esta librería de forma recurrente podrían utilizar VARIABLES DE ENTORNO. \n",
    "# A continuación se comaprte cómo administrar variables de entorno en:\n",
    "#   - WINDOWS: https://support.microsoft.com/es-es/topic/cómo-administrar-variables-de-entorno-en-windows-xp-5bf6725b-655e-151c-0b55-9a8c9c7f747d\n",
    "#   - MAC: https://support.apple.com/es-mx/guide/terminal/apd382cc5fa-4f58-4449-b20a-41c53c006f8f/mac\n",
    "#   - LINUX: https://www.hostinger.mx/tutoriales/variables-de-entorno-linux"
   ]
  },
  {
   "cell_type": "code",
   "execution_count": 13,
   "metadata": {},
   "outputs": [],
   "source": [
    "# para ver si jaló la info, imprimir mi email\n",
    "my_email"
   ]
  },
  {
   "cell_type": "markdown",
   "metadata": {},
   "source": [
    "## 2. Consultar posts de una cuenta"
   ]
  },
  {
   "cell_type": "code",
   "execution_count": 4,
   "metadata": {},
   "outputs": [],
   "source": [
    "tot_pages = 1  # por cada página aprox son 10 posts o publicaciones, pero se tarda en jalarlos"
   ]
  },
  {
   "cell_type": "code",
   "execution_count": 5,
   "metadata": {},
   "outputs": [
    {
     "name": "stdout",
     "output_type": "stream",
     "text": [
      "\n",
      "--- START: get_posts de Facebook ---\n",
      "\n",
      "   Se han bajado...\n"
     ]
    },
    {
     "name": "stderr",
     "output_type": "stream",
     "text": [
      "/Users/vcuspinera/opt/miniconda3/lib/python3.10/site-packages/facebook_scraper/facebook_scraper.py:855: UserWarning: Facebook language detected as es_LA - for best results, set to en_US\n",
      "  warnings.warn(\n"
     ]
    },
    {
     "name": "stdin",
     "output_type": "stream",
     "text": [
      "Enter 2FA token:  \n"
     ]
    },
    {
     "name": "stderr",
     "output_type": "stream",
     "text": [
      "/Users/vcuspinera/opt/miniconda3/lib/python3.10/site-packages/IPython/core/magics/execution.py:1316: UserWarning: A low page limit (<=2) might return no results, try increasing the limit\n",
      "  exec(code, glob, local_ns)\n",
      "/Users/vcuspinera/opt/miniconda3/lib/python3.10/site-packages/facebook_scraper/facebook_scraper.py:912: UserWarning: Facebook says 'Unsupported Browser'\n",
      "  warnings.warn(f\"Facebook says 'Unsupported Browser'\")\n",
      "/Users/vcuspinera/opt/miniconda3/lib/python3.10/site-packages/tzlocal/utils.py:43: UserWarning: Timezone offset does not match system offset: -18000 != -21600. Please, check your config files.\n",
      "  warnings.warn(msg)\n"
     ]
    },
    {
     "name": "stdout",
     "output_type": "stream",
     "text": [
      "    1  posts\n",
      "    2  posts\n",
      "    3  posts\n",
      "    4  posts\n",
      "    5  posts\n",
      "    6  posts\n",
      "    7  posts\n",
      "    8  posts\n",
      "    9  posts\n",
      "    10  posts\n",
      "\n",
      "--- END: get_posts de Facebook ---\n",
      "\n",
      "Tiempo que tardó en consultar los posts: 318.785835981369 segundos\n",
      "CPU times: user 4.05 s, sys: 481 ms, total: 4.53 s\n",
      "Wall time: 5min 18s\n"
     ]
    }
   ],
   "source": [
    "%%time\n",
    "\n",
    "# inicia el timer\n",
    "start_time = time.time()\n",
    "\n",
    "# revisa posts\n",
    "#posts_banxico = list()\n",
    "the_posts = []\n",
    "\n",
    "n = 1\n",
    "print(\"\\n--- START: get_posts de Facebook ---\\n\")\n",
    "print(\"   Se han bajado...\")\n",
    "\n",
    "# Ejemplos que se podrían revisar: \n",
    "#   cuenta de Banco de México \"BanxicoOficial\"\n",
    "#   cuenta de Xóchitl Gálvez \"Xochitl.Galvez.R\",\n",
    "#   cuenta de Obama \"barackobama\"\n",
    "\n",
    "for post in fbs.get_posts(\"Xochitl.Galvez.R\", pages=tot_pages, credentials=(my_email , my_pswd)):        \n",
    "    the_posts.append([post['username'], post['text'], post['post_id'],\n",
    "                      post['time'], post['likes'], post['comments'],\n",
    "                      post['shares'], post['reaction_count']\n",
    "                     ])\n",
    "    #posts_banxico.append(post['text'])\n",
    "    time.sleep(20)\n",
    "    print(\"   \", n, \" posts\")\n",
    "    n=n+1\n",
    "    \n",
    "print(\"\\n--- END: get_posts de Facebook ---\\n\")\n",
    "\n",
    "\n",
    "# tomar tiempo para correr este código\n",
    "end_time = time.time()\n",
    "elapsed = end_time - start_time\n",
    "print(f\"Tiempo que tardó en consultar los posts: {elapsed} segundos\")\n",
    "\n",
    "# NOTA:\n",
    "# Si tienes dos métodos de autenticación te va a pedir desde el celular aceptarlo, y después le das enter para que siga corriendo"
   ]
  },
  {
   "cell_type": "code",
   "execution_count": 7,
   "metadata": {},
   "outputs": [
    {
     "data": {
      "text/plain": [
       "10"
      ]
     },
     "execution_count": 7,
     "metadata": {},
     "output_type": "execute_result"
    }
   ],
   "source": [
    "# Cuántos posts se consultaron\n",
    "len(the_posts)"
   ]
  },
  {
   "cell_type": "code",
   "execution_count": 8,
   "metadata": {},
   "outputs": [
    {
     "data": {
      "text/plain": [
       "{'post_id': '643322311298624',\n",
       " 'text': 'Seguimos defendiendo el acceso a la justicia de todos los mexicanos y los derechos laborales de los trabajadores.',\n",
       " 'post_text': 'Seguimos defendiendo el acceso a la justicia de todos los mexicanos y los derechos laborales de los trabajadores.',\n",
       " 'shared_text': '',\n",
       " 'original_text': None,\n",
       " 'time': datetime.datetime(2023, 10, 25, 0, 29, 46),\n",
       " 'timestamp': 1698215386,\n",
       " 'image': None,\n",
       " 'image_lowquality': 'https://scontent.fmex42-1.fna.fbcdn.net/v/t15.5256-10/394779387_1057927335378363_4922062906409870368_n.jpg?stp=cp0_dst-jpg_e15_p180x540_q65&_nc_cat=1&ccb=1-7&_nc_sid=f3b36a&efg=eyJpIjoidCJ9&_nc_eui2=AeGs6QG-WHFPkf9X5A_ovbIlRvaMePTcFK5G9ox49NwUrnyDZ5r17zDAAJA7nKBKvr4&_nc_ohc=GOgovoO8_m4AX9nL4ke&tn=UqEpK4U5gT7nIdza&_nc_ht=scontent.fmex42-1.fna&oh=00_AfDmD86MABBSh_iwlP_a1sOfxphh0-xZzYnA1rKeD7JSdA&oe=653E57E6',\n",
       " 'images': [],\n",
       " 'images_description': [],\n",
       " 'images_lowquality': ['https://scontent.fmex42-1.fna.fbcdn.net/v/t15.5256-10/394779387_1057927335378363_4922062906409870368_n.jpg?stp=cp0_dst-jpg_e15_p180x540_q65&_nc_cat=1&ccb=1-7&_nc_sid=f3b36a&efg=eyJpIjoidCJ9&_nc_eui2=AeGs6QG-WHFPkf9X5A_ovbIlRvaMePTcFK5G9ox49NwUrnyDZ5r17zDAAJA7nKBKvr4&_nc_ohc=GOgovoO8_m4AX9nL4ke&tn=UqEpK4U5gT7nIdza&_nc_ht=scontent.fmex42-1.fna&oh=00_AfDmD86MABBSh_iwlP_a1sOfxphh0-xZzYnA1rKeD7JSdA&oe=653E57E6'],\n",
       " 'images_lowquality_description': [None],\n",
       " 'video': 'https://scontent.fmex42-1.fna.fbcdn.net/v/t42.1790-2/10000000_314730467861490_6496213152475797494_n.mp4?_nc_cat=107&vs=4be0ed0ea4632119&_nc_vs=HBksFQAYJEdJQ1dtQUR5bzd6bFBoNEJBUFpYaXBweEx5ZGFidjRHQUFBRhUAAsgBABUAGCRHREVLa3hmb3pScU9pOGdDQVBuTTVwalRuWEJzYnY0R0FBQUYVAgLIAQAoRC1pICclcycgLWZiX3VzZV90ZmR0X3N0YXJ0dGltZSAxIC1pICclcycgLWMgY29weSAtbW92ZmxhZ3MgZmFzdHN0YXJ0KweIEnByb2dyZXNzaXZlX3JlY2lwZQExDXN1YnNhbXBsZV9mcHMAEHZtYWZfZW5hYmxlX25zdWIAIG1lYXN1cmVfb3JpZ2luYWxfcmVzb2x1dGlvbl9zc2ltAChjb21wdXRlX3NzaW1fb25seV9hdF9vcmlnaW5hbF9yZXNvbHV0aW9uAB11c2VfbGFuY3pvc19mb3JfdnFtX3Vwc2NhbGluZwARZGlzYWJsZV9wb3N0X3B2cXMAFQAlAByMF0AAAAAAAAAAEREAAAAmrvTlsLyL4QMVAigCQzMYA2F2MRwXQHAMdsi0OVgYGWRhc2hfbGl2ZV9tZF9mcmFnXzJfdmlkZW8SABgYdmlkZW9zLnZ0cy5jYWxsYmFjay5wcm9kOBJWSURFT19WSUVXX1JFUVVFU1QbCogVb2VtX3RhcmdldF9lbmNvZGVfdGFnBm9lcF9zZBNvZW1fcmVxdWVzdF90aW1lX21zATAMb2VtX2NmZ19ydWxlCndhc2xpdmVfc2QTb2VtX3JvaV9yZWFjaF9jb3VudAY1MjE0MjARb2VtX2lzX2V4cGVyaW1lbnQADG9lbV92aWRlb19pZA82NDMzMjIzMTEyOTg2MjQSb2VtX3ZpZGVvX2Fzc2V0X2lkDzcwMjAyMDgxNTE0MjE3MRVvZW1fdmlkZW9fcmVzb3VyY2VfaWQQMTA1NzkyNzI2ODcxMTcwMxxvZW1fc291cmNlX3ZpZGVvX2VuY29kaW5nX2lkDzcwOTY1NzUxMDYxMjg2Mw52dHNfcmVxdWVzdF9pZAAlBBwAJb4BGweIAXMENTIwNgJjZAoyMDIzLTEwLTI0A3JjYgY1MjE0MDADYXBwE0ZhY2Vib29rIGZvciBpUGhvbmUCY3QJQlJPQURDQVNUE29yaWdpbmFsX2R1cmF0aW9uX3MHMjU2Ljc4MQJ0cxRwcm9ncmVzc2l2ZV9vcmRlcmluZwA%3D&ccb=1-7&_nc_sid=83b5ae&efg=eyJ2ZW5jb2RlX3RhZyI6Im9lcF9zZCJ9&_nc_eui2=AeF-4QqUnu76Ul2bmg8EaTmCpumjAbaeMEWm6aMBtp4wRQe5i7bE_ULtotLxxGxnNc4&_nc_ohc=erMzm2863S4AX8Kt39s&_nc_rml=0&_nc_ht=scontent.fmex42-1.fna&oh=00_AfDsP8pCMzAyPDFbjUmisyO4qPN08BgskQXv12dbrJ1sig&oe=653EFD48&_nc_rid=662965122605658&_nc_store_type=0',\n",
       " 'video_duration_seconds': None,\n",
       " 'video_height': None,\n",
       " 'video_id': '643322311298624',\n",
       " 'video_quality': None,\n",
       " 'video_size_MB': None,\n",
       " 'video_thumbnail': 'https://scontent.fmex42-1.fna.fbcdn.net/v/t15.5256-10/394779387_1057927335378363_4922062906409870368_n.jpg?stp=cp0_dst-jpg_e15_p180x540_q65&_nc_cat=1&ccb=1-7&_nc_sid=f3b36a&efg=eyJpIjoidCJ9&_nc_eui2=AeGs6QG-WHFPkf9X5A_ovbIlRvaMePTcFK5G9ox49NwUrnyDZ5r17zDAAJA7nKBKvr4&_nc_ohc=GOgovoO8_m4AX9nL4ke&tn=UqEpK4U5gT7nIdza&_nc_ht=scontent.fmex42-1.fna&oh=00_AfDmD86MABBSh_iwlP_a1sOfxphh0-xZzYnA1rKeD7JSdA&oe=653E57E6',\n",
       " 'video_watches': None,\n",
       " 'video_width': None,\n",
       " 'likes': 14971,\n",
       " 'comments': 8190,\n",
       " 'shares': 1119,\n",
       " 'post_url': 'https://facebook.com/Xochitl.Galvez.R/posts/643322311298624',\n",
       " 'link': None,\n",
       " 'links': [{'link': '/story.php?story_fbid=643322311298624&id=100044276717021&eav=AfYn6Jrt6sbhpBJryJ7K3JKzqISnGvKgGLs1RZAsXxc7d4zkggj1rwzQm3SH_JP78R4&m_entstream_source=timeline&refid=17&_ft_=encrypted_tracking_data.0AY_JPeMsi55g-hLKjq96bgHPJZNor9Ol0gJ1sir5yacuh1y7GiM4sg5L9fvhJibIIVz4-IEc5EqYzcvjlTzESel-Tzgn5fcMYWbaaSx76Jl-6tbSSs_5Kv4qRw32pV2DNM3guOIbNrwv_npw3DV8s7QYDbAZhzVtzm6zzPLm1QI2sPQs98WLgAV71jDhZvHEPCCY511fKSa2RDdS0ywX3HM-P-P9XH1P7-eQv2shsPtQoFoNz5n9B1pyJLClqGjv9jhWAofcbEvF_X6fgeYfqHPGwD13OHd0-pj6lGOoY_t7mKhrIoJr5MOPKh3O1qGSSNRakBKssgAtEoIdS1wFlIQcbViR7MKbVU28jnUgS547wu82CJDLPjpLYe_Ty7u4kUXPN5U2vVwWsCYPdxwZ6I1x8gTlIKFE9iTJMFAfjrj-q0XnkYlD6-3zkv4-eI4J56pBMmEazo44g1jf3h76vbP8VeyWrHni0oW-\\\\-\\\\m-hHm1IVg2C4KqUnsnX4edrv_rqUd9GHRgf3T8hrlNeO6oJbyw7hHHLL6Rm35XlMYKUGYdRgNLsa3eQzMmUGKRqcqIgrwozf7Q9cttmKmP_g1ai2pg5LpKX0n_CB9gAs4YNSCZbFN4atY_P9bezVmVtQ7xIB8ecuInxPRQpRmjgIlsLq0taPu6iZTF3-Rwn1xKCMaHI01IB7fFc_QusUJlB71Lri6gr2qAYNvkrDmuSUay11qomvSpIGCS0ZqQVsspav9xUxtsHhZsPVHMk6AFb4TBWmP4HcTs4sVK7SYtCq3swIjOdk-s_SFBwr-L3smOJhxu3vAiMmuGR3pcsEeFSt4VEyS93W548wmOM_fQ2r-0NXgZUaEaCcHS3fMD6FaDlpk4DumgMvcLGzhsSpPU0UBVNiwNzHQVOgllsvT54KjNpPUQdknp2u57UMT8hqdt-Kmgy4N70NR8cA_imb_2AeOSMIZNog3gFznhWdBtzz9D8m-EPwFsUFxy_rGUczrrmlml3sOCGk1Dso-TIAJ7kkBqpHco4wxjIWaNy7euvn25D0SQIfbumU3t84P3dQjrvn6fgsCTPabAw8XiQCUfulWyQeBb4DgsKWDnF1AtBAHGt0MnkfElajCrC_XbeyeLZ0KUeVhAjrEie_U23q6V6_jn1H6SAJlgVbttE_cmejYVBSSBLb7e4T-bUbSBy7oFI6CS8xQHFKBpVXsdU_6LFcdqgAiH2ZcG-GPGVaOq6FPStRz5XRBn2T1nujZ-Q1jsNsTb5SCwxTvK7yaIkpTCEH-6uYdw23EM1kSPkBW4XsnKO14KnVT1bH1iiaY2FuqGZegcaFPF0WsCCSrQihUMqp7OPvL6tjBau-BFoFDZoilg1aDPdSL7TnumH3SvbxAOfqweiaMJ-6rNFRPLXCvbWaEcUxnxGOpfT3ctFNdNoIcjdrHuUO9kAqVQWfIJNVJItwXiRLMWtmED5zkgfCY37Z_GVI_GPlYe3&__tn__=%2As%2As-R&paipv=0',\n",
       "   'text': ''}],\n",
       " 'user_id': '100044276717021',\n",
       " 'username': 'Xóchitl Gálvez Ruiz',\n",
       " 'user_url': 'https://facebook.com/Xochitl.Galvez.R?lst=608030362%3A100044276717021%3A1698287976&eav=AfZvi6IML_Yd2H60hvt_hdcAdm9wSaMLKb7qJf3mCC0Uh3ekRmIOdtsdn3ZpI62EX9Y&refid=17&_ft_=encrypted_tracking_data.0AY_JPeMsi55g-hLKjq96bgHPJZNor9Ol0gJ1sir5yacuh1y7GiM4sg5L9fvhJibIIVz4-IEc5EqYzcvjlTzESel-Tzgn5fcMYWbaaSx76Jl-6tbSSs_5Kv4qRw32pV2DNM3guOIbNrwv_npw3DV8s7QYDbAZhzVtzm6zzPLm1QI2sPQs98WLgAV71jDhZvHEPCCY511fKSa2RDdS0ywX3HM-P-P9XH1P7-eQv2shsPtQoFoNz5n9B1pyJLClqGjv9jhWAofcbEvF_X6fgeYfqHPGwD13OHd0-pj6lGOoY_t7mKhrIoJr5MOPKh3O1qGSSNRakBKssgAtEoIdS1wFlIQcbViR7MKbVU28jnUgS547wu82CJDLPjpLYe_Ty7u4kUXPN5U2vVwWsCYPdxwZ6I1x8gTlIKFE9iTJMFAfjrj-q0XnkYlD6-3zkv4-eI4J56pBMmEazo44g1jf3h76vbP8VeyWrHni0oW-\\\\-\\\\m-hHm1IVg2C4KqUnsnX4edrv_rqUd9GHRgf3T8hrlNeO6oJbyw7hHHLL6Rm35XlMYKUGYdRgNLsa3eQzMmUGKRqcqIgrwozf7Q9cttmKmP_g1ai2pg5LpKX0n_CB9gAs4YNSCZbFN4atY_P9bezVmVtQ7xIB8ecuInxPRQpRmjgIlsLq0taPu6iZTF3-Rwn1xKCMaHI01IB7fFc_QusUJlB71Lri6gr2qAYNvkrDmuSUay11qomvSpIGCS0ZqQVsspav9xUxtsHhZsPVHMk6AFb4TBWmP4HcTs4sVK7SYtCq3swIjOdk-s_SFBwr-L3smOJhxu3vAiMmuGR3pcsEeFSt4VEyS93W548wmOM_fQ2r-0NXgZUaEaCcHS3fMD6FaDlpk4DumgMvcLGzhsSpPU0UBVNiwNzHQVOgllsvT54KjNpPUQdknp2u57UMT8hqdt-Kmgy4N70NR8cA_imb_2AeOSMIZNog3gFznhWdBtzz9D8m-EPwFsUFxy_rGUczrrmlml3sOCGk1Dso-TIAJ7kkBqpHco4wxjIWaNy7euvn25D0SQIfbumU3t84P3dQjrvn6fgsCTPabAw8XiQCUfulWyQeBb4DgsKWDnF1AtBAHGt0MnkfElajCrC_XbeyeLZ0KUeVhAjrEie_U23q6V6_jn1H6SAJlgVbttE_cmejYVBSSBLb7e4T-bUbSBy7oFI6CS8xQHFKBpVXsdU_6LFcdqgAiH2ZcG-GPGVaOq6FPStRz5XRBn2T1nujZ-Q1jsNsTb5SCwxTvK7yaIkpTCEH-6uYdw23EM1kSPkBW4XsnKO14KnVT1bH1iiaY2FuqGZegcaFPF0WsCCSrQihUMqp7OPvL6tjBau-BFoFDZoilg1aDPdSL7TnumH3SvbxAOfqweiaMJ-6rNFRPLXCvbWaEcUxnxGOpfT3ctFNdNoIcjdrHuUO9kAqVQWfIJNVJItwXiRLMWtmED5zkgfCY37Z_GVI_GPlYe3&__tn__=C-R&paipv=0',\n",
       " 'is_live': False,\n",
       " 'factcheck': None,\n",
       " 'shared_post_id': None,\n",
       " 'shared_time': None,\n",
       " 'shared_user_id': None,\n",
       " 'shared_username': None,\n",
       " 'shared_post_url': None,\n",
       " 'available': True,\n",
       " 'comments_full': None,\n",
       " 'reactors': None,\n",
       " 'w3_fb_url': None,\n",
       " 'reactions': None,\n",
       " 'reaction_count': 14971,\n",
       " 'with': None,\n",
       " 'page_id': '100867376619769',\n",
       " 'sharers': None,\n",
       " 'image_id': None,\n",
       " 'image_ids': [],\n",
       " 'was_live': True}"
      ]
     },
     "execution_count": 8,
     "metadata": {},
     "output_type": "execute_result"
    }
   ],
   "source": [
    "# Ejemplo de la información de un post\n",
    "post"
   ]
  },
  {
   "cell_type": "code",
   "execution_count": 10,
   "metadata": {},
   "outputs": [
    {
     "data": {
      "text/html": [
       "<div>\n",
       "<style scoped>\n",
       "    .dataframe tbody tr th:only-of-type {\n",
       "        vertical-align: middle;\n",
       "    }\n",
       "\n",
       "    .dataframe tbody tr th {\n",
       "        vertical-align: top;\n",
       "    }\n",
       "\n",
       "    .dataframe thead th {\n",
       "        text-align: right;\n",
       "    }\n",
       "</style>\n",
       "<table border=\"1\" class=\"dataframe\">\n",
       "  <thead>\n",
       "    <tr style=\"text-align: right;\">\n",
       "      <th></th>\n",
       "      <th>username</th>\n",
       "      <th>text</th>\n",
       "      <th>post_id</th>\n",
       "      <th>time</th>\n",
       "      <th>likes</th>\n",
       "      <th>comments</th>\n",
       "      <th>shares</th>\n",
       "      <th>reaction_count</th>\n",
       "    </tr>\n",
       "  </thead>\n",
       "  <tbody>\n",
       "    <tr>\n",
       "      <th>0</th>\n",
       "      <td>Xóchitl Gálvez Ruiz</td>\n",
       "      <td>¡Atención a todos los que quieran ayudar a dam...</td>\n",
       "      <td>923502932468922</td>\n",
       "      <td>2023-10-25 19:59:08</td>\n",
       "      <td>168</td>\n",
       "      <td>25</td>\n",
       "      <td>29</td>\n",
       "      <td>168</td>\n",
       "    </tr>\n",
       "    <tr>\n",
       "      <th>1</th>\n",
       "      <td>Xóchitl Gálvez Ruiz</td>\n",
       "      <td>Bienvenida al #FrenteAmplioPorMéxico, querida ...</td>\n",
       "      <td>923499475802601</td>\n",
       "      <td>2023-10-25 19:51:53</td>\n",
       "      <td>807</td>\n",
       "      <td>111</td>\n",
       "      <td>41</td>\n",
       "      <td>807</td>\n",
       "    </tr>\n",
       "    <tr>\n",
       "      <th>2</th>\n",
       "      <td>Xóchitl Gálvez Ruiz</td>\n",
       "      <td>Guerrero nos necesita a todos, no se va a leva...</td>\n",
       "      <td>923485849137297</td>\n",
       "      <td>2023-10-25 19:21:22</td>\n",
       "      <td>1218</td>\n",
       "      <td>451</td>\n",
       "      <td>224</td>\n",
       "      <td>1218</td>\n",
       "    </tr>\n",
       "    <tr>\n",
       "      <th>3</th>\n",
       "      <td>Xóchitl Gálvez Ruiz</td>\n",
       "      <td>Es el momento de solidarizarnos como pueblo me...</td>\n",
       "      <td>923457409140141</td>\n",
       "      <td>2023-10-25 18:10:03</td>\n",
       "      <td>2305</td>\n",
       "      <td>1093</td>\n",
       "      <td>307</td>\n",
       "      <td>2305</td>\n",
       "    </tr>\n",
       "    <tr>\n",
       "      <th>4</th>\n",
       "      <td>Xóchitl Gálvez Ruiz</td>\n",
       "      <td>Mujeres y hombres somos diferentes, pero valem...</td>\n",
       "      <td>923386429147239</td>\n",
       "      <td>2023-10-25 15:10:01</td>\n",
       "      <td>987</td>\n",
       "      <td>251</td>\n",
       "      <td>40</td>\n",
       "      <td>987</td>\n",
       "    </tr>\n",
       "    <tr>\n",
       "      <th>5</th>\n",
       "      <td>Xóchitl Gálvez Ruiz</td>\n",
       "      <td>Es momento de solidarizarnos como mexicanos. #...</td>\n",
       "      <td>1774730906289050</td>\n",
       "      <td>2023-10-25 13:36:29</td>\n",
       "      <td>4718</td>\n",
       "      <td>1939</td>\n",
       "      <td>570</td>\n",
       "      <td>4718</td>\n",
       "    </tr>\n",
       "    <tr>\n",
       "      <th>6</th>\n",
       "      <td>Xóchitl Gálvez Ruiz</td>\n",
       "      <td>La cruzazuleó y ya sabemos cómo termina esa hi...</td>\n",
       "      <td>923319869153895</td>\n",
       "      <td>2023-10-25 12:36:31</td>\n",
       "      <td>1457</td>\n",
       "      <td>593</td>\n",
       "      <td>273</td>\n",
       "      <td>1457</td>\n",
       "    </tr>\n",
       "    <tr>\n",
       "      <th>7</th>\n",
       "      <td>Xóchitl Gálvez Ruiz</td>\n",
       "      <td>Más que quitar derechos, debemos pensar cómo l...</td>\n",
       "      <td>922983319187550</td>\n",
       "      <td>2023-10-25 01:51:23</td>\n",
       "      <td>2348</td>\n",
       "      <td>783</td>\n",
       "      <td>309</td>\n",
       "      <td>2348</td>\n",
       "    </tr>\n",
       "    <tr>\n",
       "      <th>8</th>\n",
       "      <td>Xóchitl Gálvez Ruiz</td>\n",
       "      <td>Aquí el tablero de la votación de la reforma s...</td>\n",
       "      <td>922953325857216</td>\n",
       "      <td>2023-10-25 00:42:46</td>\n",
       "      <td>1787</td>\n",
       "      <td>912</td>\n",
       "      <td>184</td>\n",
       "      <td>1787</td>\n",
       "    </tr>\n",
       "    <tr>\n",
       "      <th>9</th>\n",
       "      <td>Xóchitl Gálvez Ruiz</td>\n",
       "      <td>Seguimos defendiendo el acceso a la justicia d...</td>\n",
       "      <td>643322311298624</td>\n",
       "      <td>2023-10-25 00:29:46</td>\n",
       "      <td>14971</td>\n",
       "      <td>8190</td>\n",
       "      <td>1119</td>\n",
       "      <td>14971</td>\n",
       "    </tr>\n",
       "  </tbody>\n",
       "</table>\n",
       "</div>"
      ],
      "text/plain": [
       "              username                                               text  \\\n",
       "0  Xóchitl Gálvez Ruiz  ¡Atención a todos los que quieran ayudar a dam...   \n",
       "1  Xóchitl Gálvez Ruiz  Bienvenida al #FrenteAmplioPorMéxico, querida ...   \n",
       "2  Xóchitl Gálvez Ruiz  Guerrero nos necesita a todos, no se va a leva...   \n",
       "3  Xóchitl Gálvez Ruiz  Es el momento de solidarizarnos como pueblo me...   \n",
       "4  Xóchitl Gálvez Ruiz  Mujeres y hombres somos diferentes, pero valem...   \n",
       "5  Xóchitl Gálvez Ruiz  Es momento de solidarizarnos como mexicanos. #...   \n",
       "6  Xóchitl Gálvez Ruiz  La cruzazuleó y ya sabemos cómo termina esa hi...   \n",
       "7  Xóchitl Gálvez Ruiz  Más que quitar derechos, debemos pensar cómo l...   \n",
       "8  Xóchitl Gálvez Ruiz  Aquí el tablero de la votación de la reforma s...   \n",
       "9  Xóchitl Gálvez Ruiz  Seguimos defendiendo el acceso a la justicia d...   \n",
       "\n",
       "            post_id                time  likes  comments  shares  \\\n",
       "0   923502932468922 2023-10-25 19:59:08    168        25      29   \n",
       "1   923499475802601 2023-10-25 19:51:53    807       111      41   \n",
       "2   923485849137297 2023-10-25 19:21:22   1218       451     224   \n",
       "3   923457409140141 2023-10-25 18:10:03   2305      1093     307   \n",
       "4   923386429147239 2023-10-25 15:10:01    987       251      40   \n",
       "5  1774730906289050 2023-10-25 13:36:29   4718      1939     570   \n",
       "6   923319869153895 2023-10-25 12:36:31   1457       593     273   \n",
       "7   922983319187550 2023-10-25 01:51:23   2348       783     309   \n",
       "8   922953325857216 2023-10-25 00:42:46   1787       912     184   \n",
       "9   643322311298624 2023-10-25 00:29:46  14971      8190    1119   \n",
       "\n",
       "   reaction_count  \n",
       "0             168  \n",
       "1             807  \n",
       "2            1218  \n",
       "3            2305  \n",
       "4             987  \n",
       "5            4718  \n",
       "6            1457  \n",
       "7            2348  \n",
       "8            1787  \n",
       "9           14971  "
      ]
     },
     "execution_count": 10,
     "metadata": {},
     "output_type": "execute_result"
    }
   ],
   "source": [
    "df = pd.DataFrame(the_posts, columns = ['username', 'text', 'post_id', 'time', 'likes', 'comments', 'shares','reaction_count'])\n",
    "df"
   ]
  },
  {
   "cell_type": "markdown",
   "metadata": {},
   "source": [
    "## 3. Comentarios adicionales\n",
    "Esta es una primera aproximación para hacer scrape en Facebook, usando la librería `facebook-scraper`, pues existen otras funcionesd e esta librerías que podrían serles útil para consultar información buscando hashtags, publicaciones de grupos, buscar texto en posts, amigos (friends), entre otros."
   ]
  },
  {
   "cell_type": "markdown",
   "metadata": {},
   "source": [
    "## 4. Referencias\n",
    "\n",
    "- Librería `facebook-scraper`, link: https://github.com/kevinzg/facebook-scraper\n",
    "- Artículo _\"Cómo obtener información de Facebook con Python\"_ por Jonathan Ríos, link: https://es.linkedin.com/pulse/saca-informaci%C3%B3n-de-facebook-con-python-y-parte-1-jonathan-r%C3%ADos\n",
    "- Bloqueo temporal de la cuenta de Facebook para hacer scrape, link: https://github.com/kevinzg/facebook-scraper/issues/409"
   ]
  },
  {
   "cell_type": "code",
   "execution_count": null,
   "metadata": {},
   "outputs": [],
   "source": []
  }
 ],
 "metadata": {
  "kernelspec": {
   "display_name": "Python 3 (ipykernel)",
   "language": "python",
   "name": "python3"
  },
  "language_info": {
   "codemirror_mode": {
    "name": "ipython",
    "version": 3
   },
   "file_extension": ".py",
   "mimetype": "text/x-python",
   "name": "python",
   "nbconvert_exporter": "python",
   "pygments_lexer": "ipython3",
   "version": "3.10.8"
  }
 },
 "nbformat": 4,
 "nbformat_minor": 4
}
