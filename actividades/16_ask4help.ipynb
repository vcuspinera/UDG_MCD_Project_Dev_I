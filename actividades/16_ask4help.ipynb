{
 "cells": [
  {
   "cell_type": "markdown",
   "id": "8e1847be-1e1b-41fc-b3cc-025b78d20ce0",
   "metadata": {},
   "source": [
    "# 16 • Asking for help\n",
    "*Cómo preguntar para obtener ayuda en Stack Overflow*\n",
    "\n",
    "Como *Data Scientists* es común utilizar distintos programas para realizar análisis y modelos, como R y Python.\n",
    "\n",
    "Durante la programación es común encontrarnos con un problema en el que requiramos ayuda de la comunidad, por ejemplo, cuando utilizamos una librería que no habíamos usado en el pasado.\n",
    "\n",
    "Ante esta situación, existen páginas en el web como *Stack Overflow* donde podemos buscar una pregunta similar en la que se haya respondido nuestro problema; sin embargo, no siempre nos encontramos con alguna consulta que cumpla con nuestras expectativas y responda a nuestras preguntas, por lo que es importante saber plantear la pregunta adecuada para obtener una respuesta para resolver nuestras dudas.\n",
    "\n",
    "Ante una comunidad creciente en ciencia de datos, y un número limitado de expertos en el software libre, como Python y R, donde es posible que los mismos desarrolladores de las librerías contesten a sus preguntas, es importante saber cómo estructurar sus preguntas de manera clara y concisa. Se recomienda que en caso de incluir código en sus preguntas éste tenga las siguientes características:\n",
    "\n",
    "- **mínimo**, usar el menor código posible que sirva para producir el problema,  \n",
    "- **completo**, compartir todas las partes necesarias para reproducir el problema de la pregunta, y\n",
    "- **reproducible**, probar el código exacto para que el problema sea reproducible por otras personas.\n",
    "\n",
    "## Contenido\n",
    "1. Mínimo  \n",
    "2. Completo  \n",
    "3. Reproducible  \n",
    "4. Referencias  \n",
    "\n",
    "## 1. Mínimo\n",
    "En una pregunta, entre más código añadas, será más difícil que alguien más pueda detectar el error. Se recomienda crear un programa desde cero, añadiendo lo necesario para reproducir el problema. Tratar de que el ejemplo sea simple, usando nombre descriptivo para las variables y/o funciones. \n",
    "\n",
    "⚠️ Es importante tener cuidado en no sacrificar claridad por brevedad.\n",
    "\n",
    "## 2. Completo\n",
    "Inlcuir toda la información necesaria para reproducir el problema de nuestra pregunta central.\n",
    "\n",
    "En la pregunta, el código se deberá poner en bloques que incluyan una descripción sobre su objetivo.\n",
    "\n",
    "Es importante NO usar imágenes del código, sino copiarlo y pegarlo desde tu editor. Esto servirá a quienes te quieran ayudar para leer y probar el código.\n",
    "\n",
    "## 3. Reproducible\n",
    "Para ayudar a otros a resolver el problema:\n",
    "\n",
    "### 3.1. Descríbelo\n",
    "En la pregunta se deberá describir el problema lo suficiente para que otras personas puedan entenderlo y saber el resultado que se espera obtener.\n",
    "\n",
    "Hay que escribir exactamente el error/mensaje que recibimos al correr el código.\n",
    "\n",
    "Además, el título de la pregunta debe resumir de forma breve y descriptiva el problema.\n",
    "\n",
    "### 3.2. Elimina lo irrelevante\n",
    "Elimina cualquier asunto que no sea relevante en el problema.\n",
    "\n",
    "### 3.3. Que tus datos sean reproducibles\n",
    "Para que el código sea reproducible, el primer paso es garantizar que los datos sean los mismos para reproducir el ejemplo.\n",
    "\n",
    "📌Una manera de hacerlo es utilizando una _semilla_ para generar datos aleatorios:"
   ]
  },
  {
   "cell_type": "code",
   "execution_count": 1,
   "id": "36a5e49a-2adb-4665-a90a-3f8dde5c3417",
   "metadata": {},
   "outputs": [],
   "source": [
    "# importar librería `random`\n",
    "import random"
   ]
  },
  {
   "cell_type": "code",
   "execution_count": 2,
   "id": "d7db1270-ad49-43fc-8124-0b43c7d15d18",
   "metadata": {},
   "outputs": [],
   "source": [
    "# función que genera números enteros aleatorios entre 0 y 100\n",
    "def genera_aleatorios(n=3):\n",
    "    my_list = list()\n",
    "    for i in range(1,n+1):\n",
    "        my_list.append(random.randrange(0,101))\n",
    "    return my_list"
   ]
  },
  {
   "cell_type": "code",
   "execution_count": 3,
   "id": "23928bea-c87c-4cbe-b0a4-7c33feb28a04",
   "metadata": {},
   "outputs": [
    {
     "data": {
      "text/plain": [
       "[41, 77, 87, 91]"
      ]
     },
     "execution_count": 3,
     "metadata": {},
     "output_type": "execute_result"
    }
   ],
   "source": [
    "# genera cuatro aleatorios\n",
    "genera_aleatorios(4)"
   ]
  },
  {
   "cell_type": "code",
   "execution_count": 5,
   "id": "ddffa87b-151a-4512-b348-2ed57fe228b1",
   "metadata": {},
   "outputs": [
    {
     "data": {
      "text/plain": [
       "[73, 97, 38, 4]"
      ]
     },
     "execution_count": 5,
     "metadata": {},
     "output_type": "execute_result"
    }
   ],
   "source": [
    "# genera aleatorios usando una semilla para hacerlo reproducible\n",
    "random.seed(10_000)\n",
    "genera_aleatorios(4)"
   ]
  },
  {
   "cell_type": "markdown",
   "id": "c5eee743-d954-49a8-8fc1-d186595fe24c",
   "metadata": {},
   "source": [
    "📌 Una alternativa es utilizando una base de datos existente y utilizada, que se pueda accesar fácilmente. Por ejemplo: `iris`, `mtcars` o `titanic`."
   ]
  },
  {
   "cell_type": "code",
   "execution_count": 6,
   "id": "49376411-ffac-4763-8a02-6e1b7341181d",
   "metadata": {},
   "outputs": [],
   "source": [
    "# importar librería `vega_datasets`\n",
    "from vega_datasets import data"
   ]
  },
  {
   "cell_type": "code",
   "execution_count": 7,
   "id": "620cf117-a3fe-466c-9ceb-b9ec6a239404",
   "metadata": {},
   "outputs": [
    {
     "data": {
      "text/html": [
       "<div>\n",
       "<style scoped>\n",
       "    .dataframe tbody tr th:only-of-type {\n",
       "        vertical-align: middle;\n",
       "    }\n",
       "\n",
       "    .dataframe tbody tr th {\n",
       "        vertical-align: top;\n",
       "    }\n",
       "\n",
       "    .dataframe thead th {\n",
       "        text-align: right;\n",
       "    }\n",
       "</style>\n",
       "<table border=\"1\" class=\"dataframe\">\n",
       "  <thead>\n",
       "    <tr style=\"text-align: right;\">\n",
       "      <th></th>\n",
       "      <th>sepalLength</th>\n",
       "      <th>sepalWidth</th>\n",
       "      <th>petalLength</th>\n",
       "      <th>petalWidth</th>\n",
       "      <th>species</th>\n",
       "    </tr>\n",
       "  </thead>\n",
       "  <tbody>\n",
       "    <tr>\n",
       "      <th>0</th>\n",
       "      <td>5.1</td>\n",
       "      <td>3.5</td>\n",
       "      <td>1.4</td>\n",
       "      <td>0.2</td>\n",
       "      <td>setosa</td>\n",
       "    </tr>\n",
       "    <tr>\n",
       "      <th>1</th>\n",
       "      <td>4.9</td>\n",
       "      <td>3.0</td>\n",
       "      <td>1.4</td>\n",
       "      <td>0.2</td>\n",
       "      <td>setosa</td>\n",
       "    </tr>\n",
       "    <tr>\n",
       "      <th>2</th>\n",
       "      <td>4.7</td>\n",
       "      <td>3.2</td>\n",
       "      <td>1.3</td>\n",
       "      <td>0.2</td>\n",
       "      <td>setosa</td>\n",
       "    </tr>\n",
       "    <tr>\n",
       "      <th>3</th>\n",
       "      <td>4.6</td>\n",
       "      <td>3.1</td>\n",
       "      <td>1.5</td>\n",
       "      <td>0.2</td>\n",
       "      <td>setosa</td>\n",
       "    </tr>\n",
       "    <tr>\n",
       "      <th>4</th>\n",
       "      <td>5.0</td>\n",
       "      <td>3.6</td>\n",
       "      <td>1.4</td>\n",
       "      <td>0.2</td>\n",
       "      <td>setosa</td>\n",
       "    </tr>\n",
       "    <tr>\n",
       "      <th>...</th>\n",
       "      <td>...</td>\n",
       "      <td>...</td>\n",
       "      <td>...</td>\n",
       "      <td>...</td>\n",
       "      <td>...</td>\n",
       "    </tr>\n",
       "    <tr>\n",
       "      <th>145</th>\n",
       "      <td>6.7</td>\n",
       "      <td>3.0</td>\n",
       "      <td>5.2</td>\n",
       "      <td>2.3</td>\n",
       "      <td>virginica</td>\n",
       "    </tr>\n",
       "    <tr>\n",
       "      <th>146</th>\n",
       "      <td>6.3</td>\n",
       "      <td>2.5</td>\n",
       "      <td>5.0</td>\n",
       "      <td>1.9</td>\n",
       "      <td>virginica</td>\n",
       "    </tr>\n",
       "    <tr>\n",
       "      <th>147</th>\n",
       "      <td>6.5</td>\n",
       "      <td>3.0</td>\n",
       "      <td>5.2</td>\n",
       "      <td>2.0</td>\n",
       "      <td>virginica</td>\n",
       "    </tr>\n",
       "    <tr>\n",
       "      <th>148</th>\n",
       "      <td>6.2</td>\n",
       "      <td>3.4</td>\n",
       "      <td>5.4</td>\n",
       "      <td>2.3</td>\n",
       "      <td>virginica</td>\n",
       "    </tr>\n",
       "    <tr>\n",
       "      <th>149</th>\n",
       "      <td>5.9</td>\n",
       "      <td>3.0</td>\n",
       "      <td>5.1</td>\n",
       "      <td>1.8</td>\n",
       "      <td>virginica</td>\n",
       "    </tr>\n",
       "  </tbody>\n",
       "</table>\n",
       "<p>150 rows × 5 columns</p>\n",
       "</div>"
      ],
      "text/plain": [
       "     sepalLength  sepalWidth  petalLength  petalWidth    species\n",
       "0            5.1         3.5          1.4         0.2     setosa\n",
       "1            4.9         3.0          1.4         0.2     setosa\n",
       "2            4.7         3.2          1.3         0.2     setosa\n",
       "3            4.6         3.1          1.5         0.2     setosa\n",
       "4            5.0         3.6          1.4         0.2     setosa\n",
       "..           ...         ...          ...         ...        ...\n",
       "145          6.7         3.0          5.2         2.3  virginica\n",
       "146          6.3         2.5          5.0         1.9  virginica\n",
       "147          6.5         3.0          5.2         2.0  virginica\n",
       "148          6.2         3.4          5.4         2.3  virginica\n",
       "149          5.9         3.0          5.1         1.8  virginica\n",
       "\n",
       "[150 rows x 5 columns]"
      ]
     },
     "execution_count": 7,
     "metadata": {},
     "output_type": "execute_result"
    }
   ],
   "source": [
    "# data\n",
    "data.iris()"
   ]
  },
  {
   "cell_type": "code",
   "execution_count": 8,
   "id": "25d244ee-5aef-4b79-b52c-9819b4e8c3b3",
   "metadata": {},
   "outputs": [
    {
     "data": {
      "text/plain": [
       "'This classic dataset contains lengths and widths of petals and sepals for 150 iris flowers, drawn from three species. It was introduced by R.A. Fisher in 1936 [1]_.'"
      ]
     },
     "execution_count": 8,
     "metadata": {},
     "output_type": "execute_result"
    }
   ],
   "source": [
    "# description of the data\n",
    "data.iris.description"
   ]
  },
  {
   "cell_type": "markdown",
   "id": "11a64b3d-2466-49a8-a04e-0d17b90cd283",
   "metadata": {},
   "source": [
    "📌 Una tercer opción es buscar la base de datos en algún medio como Kaggle o compartirla nosotros en GitHub o Dropbox, por ejemplo:"
   ]
  },
  {
   "cell_type": "code",
   "execution_count": 9,
   "id": "19c34940-98bb-45b4-ad64-426b20130a9c",
   "metadata": {},
   "outputs": [],
   "source": [
    "# importar librería `pandas`\n",
    "import pandas as pd"
   ]
  },
  {
   "cell_type": "code",
   "execution_count": 10,
   "id": "68b06d65-706b-4e32-9660-8727367c9112",
   "metadata": {},
   "outputs": [
    {
     "data": {
      "text/html": [
       "<div>\n",
       "<style scoped>\n",
       "    .dataframe tbody tr th:only-of-type {\n",
       "        vertical-align: middle;\n",
       "    }\n",
       "\n",
       "    .dataframe tbody tr th {\n",
       "        vertical-align: top;\n",
       "    }\n",
       "\n",
       "    .dataframe thead th {\n",
       "        text-align: right;\n",
       "    }\n",
       "</style>\n",
       "<table border=\"1\" class=\"dataframe\">\n",
       "  <thead>\n",
       "    <tr style=\"text-align: right;\">\n",
       "      <th></th>\n",
       "      <th>ID</th>\n",
       "      <th>Reembolso</th>\n",
       "      <th>EdoCivil</th>\n",
       "      <th>Ingresos</th>\n",
       "      <th>Fraude</th>\n",
       "    </tr>\n",
       "  </thead>\n",
       "  <tbody>\n",
       "    <tr>\n",
       "      <th>0</th>\n",
       "      <td>1</td>\n",
       "      <td>Sí</td>\n",
       "      <td>Soltero</td>\n",
       "      <td>125000</td>\n",
       "      <td>No</td>\n",
       "    </tr>\n",
       "    <tr>\n",
       "      <th>1</th>\n",
       "      <td>2</td>\n",
       "      <td>No</td>\n",
       "      <td>Casado</td>\n",
       "      <td>100000</td>\n",
       "      <td>No</td>\n",
       "    </tr>\n",
       "    <tr>\n",
       "      <th>2</th>\n",
       "      <td>3</td>\n",
       "      <td>No</td>\n",
       "      <td>Soltero</td>\n",
       "      <td>70000</td>\n",
       "      <td>No</td>\n",
       "    </tr>\n",
       "    <tr>\n",
       "      <th>3</th>\n",
       "      <td>4</td>\n",
       "      <td>Sí</td>\n",
       "      <td>Casado</td>\n",
       "      <td>120000</td>\n",
       "      <td>No</td>\n",
       "    </tr>\n",
       "    <tr>\n",
       "      <th>4</th>\n",
       "      <td>5</td>\n",
       "      <td>No</td>\n",
       "      <td>Divorciado</td>\n",
       "      <td>95000</td>\n",
       "      <td>Sí</td>\n",
       "    </tr>\n",
       "    <tr>\n",
       "      <th>5</th>\n",
       "      <td>6</td>\n",
       "      <td>No</td>\n",
       "      <td>Casado</td>\n",
       "      <td>60000</td>\n",
       "      <td>No</td>\n",
       "    </tr>\n",
       "    <tr>\n",
       "      <th>6</th>\n",
       "      <td>7</td>\n",
       "      <td>Sí</td>\n",
       "      <td>Divorciado</td>\n",
       "      <td>220000</td>\n",
       "      <td>No</td>\n",
       "    </tr>\n",
       "    <tr>\n",
       "      <th>7</th>\n",
       "      <td>8</td>\n",
       "      <td>No</td>\n",
       "      <td>Soltero</td>\n",
       "      <td>85000</td>\n",
       "      <td>Sí</td>\n",
       "    </tr>\n",
       "    <tr>\n",
       "      <th>8</th>\n",
       "      <td>9</td>\n",
       "      <td>No</td>\n",
       "      <td>Casado</td>\n",
       "      <td>75000</td>\n",
       "      <td>No</td>\n",
       "    </tr>\n",
       "    <tr>\n",
       "      <th>9</th>\n",
       "      <td>10</td>\n",
       "      <td>No</td>\n",
       "      <td>Soltero</td>\n",
       "      <td>90000</td>\n",
       "      <td>Sí</td>\n",
       "    </tr>\n",
       "  </tbody>\n",
       "</table>\n",
       "</div>"
      ],
      "text/plain": [
       "   ID Reembolso    EdoCivil  Ingresos Fraude\n",
       "0   1        Sí     Soltero    125000     No\n",
       "1   2        No      Casado    100000     No\n",
       "2   3        No     Soltero     70000     No\n",
       "3   4        Sí      Casado    120000     No\n",
       "4   5        No  Divorciado     95000     Sí\n",
       "5   6        No      Casado     60000     No\n",
       "6   7        Sí  Divorciado    220000     No\n",
       "7   8        No     Soltero     85000     Sí\n",
       "8   9        No      Casado     75000     No\n",
       "9  10        No     Soltero     90000     Sí"
      ]
     },
     "execution_count": 10,
     "metadata": {},
     "output_type": "execute_result"
    }
   ],
   "source": [
    "# Consultar base de datos sobre fraudes compartida por Raúl Castro en GitHub\n",
    "pd.read_csv(\"https://raw.githubusercontent.com/JoseRaulCastro/EBAC/main/Fraude.csv\")"
   ]
  },
  {
   "cell_type": "markdown",
   "id": "a6ced9ab-57c0-42a4-ab26-a1d9ba9ae897",
   "metadata": {},
   "source": [
    "### 3.4. Que tu código sea reproducible\n",
    "Además de conciso, el código necesita ser reproducible. Como se dijo anteriormente, se deben usar el mínimo número de líneas cuidando que no sacrificar claridad por brevedad, explicando bien el punto donde se reproduce el error para que cualquier persona pueda obtener el mismo error desde su computadora corriendo las mismas líneas.\n",
    "\n",
    "En este punto es importante incluir las librerías que utilizamos.\n",
    "\n",
    "Una vez escrita la pregunta, corre el código para verificar que éste reproduce el error. Si se solucionó el problema, querrás saberlo antes de pedir ayuda a alguien más.\n",
    "\n",
    "🚫 Un **mal** ejemplo de pregunta:\n",
    "\n",
    "> Hello, I have a table and am trying to subtract two dates, but\n",
    "it's not working.  \n",
    "> \n",
    "> I tried\n",
    ">\n",
    "> ```\n",
    "> df.Date1 - df.Date2   # nota de profe, es lo mismo que: df[\"Date1\"] - df[\"Date2\"]\n",
    "> ```\n",
    "> <br>\n",
    "> but it doesn't work. Can anyone help? \n",
    "\n",
    "\n",
    "✅ Un buen ejemplo sería:\n",
    "\n",
    "> Hello, \n",
    "> I have a pandas dataFrame and am trying to subtract two columns with dates,\n",
    "> but it's not working.\n",
    ">\n",
    "> I am pasting the data of my DataFrame object:\n",
    ">\n",
    "> ```\n",
    "> #My pandas DataFrame\n",
    "> import numpy as np\n",
    "> import pandas as pd\n",
    ">\n",
    "> myData = {\"id\":range(1,6),\n",
    ">           \"Date1\":(\"1997-07-14\", \"1997-10-24\", \"1997-10-26\", \"1998-08-21\", \"1998-12-31\"),\n",
    ">           \"Date2\":(\"1997-07-29\", \"1997-09-21\", \"1998-05-06\", \"1998-07-24\", \"1999-10-22\")}\n",
    "> df = pd.DataFrame(myData)\n",
    "> ```\n",
    "> <br>\n",
    "> Now, when I run the command that I think it should work...\n",
    ">\n",
    "> ```\n",
    "> df.Date1 - df.Date2\n",
    "> ```\n",
    "> <br>\n",
    "> ...I got the following error:\n",
    ">\n",
    "> __TypeError: unsupported operand type(s) for -: 'str' and 'str'__\n",
    "> <br>\n",
    "> <br>\n",
    "> What is going on?  \n",
    "\n",
    "Nota: este ejemplo fue adaptado de R a Python del ejemplo presentado por [Erik (2011)](https://www.r-bloggers.com/2011/01/three-tips-for-posting-good-questions-to-r-help-and-stack-overflow/) en R-bloggers."
   ]
  },
  {
   "cell_type": "code",
   "execution_count": 12,
   "id": "5e849b1f-3f79-4181-bce1-d917df036fbe",
   "metadata": {},
   "outputs": [
    {
     "data": {
      "text/plain": [
       "{'id': range(1, 6),\n",
       " 'Date1': ('1997-07-14',\n",
       "  '1997-10-24',\n",
       "  '1997-10-26',\n",
       "  '1998-08-21',\n",
       "  '1998-12-31'),\n",
       " 'Date2': ('1997-07-29',\n",
       "  '1997-09-21',\n",
       "  '1998-05-06',\n",
       "  '1998-07-24',\n",
       "  '1999-10-22')}"
      ]
     },
     "execution_count": 12,
     "metadata": {},
     "output_type": "execute_result"
    }
   ],
   "source": [
    "# En esta celda reproducimos el ejemplo:\n",
    "\n",
    "import numpy as np\n",
    "import pandas as pd\n",
    "\n",
    "myData = {\"id\":range(1,6),\n",
    "          \"Date1\":(\"1997-07-14\", \"1997-10-24\", \"1997-10-26\", \"1998-08-21\", \"1998-12-31\"),\n",
    "          \"Date2\":(\"1997-07-29\", \"1997-09-21\", \"1998-05-06\", \"1998-07-24\", \"1999-10-22\")}\n",
    "\n",
    "myData"
   ]
  },
  {
   "cell_type": "code",
   "execution_count": 13,
   "id": "0f2183eb-8622-4632-b506-43e922b89801",
   "metadata": {},
   "outputs": [
    {
     "data": {
      "text/html": [
       "<div>\n",
       "<style scoped>\n",
       "    .dataframe tbody tr th:only-of-type {\n",
       "        vertical-align: middle;\n",
       "    }\n",
       "\n",
       "    .dataframe tbody tr th {\n",
       "        vertical-align: top;\n",
       "    }\n",
       "\n",
       "    .dataframe thead th {\n",
       "        text-align: right;\n",
       "    }\n",
       "</style>\n",
       "<table border=\"1\" class=\"dataframe\">\n",
       "  <thead>\n",
       "    <tr style=\"text-align: right;\">\n",
       "      <th></th>\n",
       "      <th>id</th>\n",
       "      <th>Date1</th>\n",
       "      <th>Date2</th>\n",
       "    </tr>\n",
       "  </thead>\n",
       "  <tbody>\n",
       "    <tr>\n",
       "      <th>0</th>\n",
       "      <td>1</td>\n",
       "      <td>1997-07-14</td>\n",
       "      <td>1997-07-29</td>\n",
       "    </tr>\n",
       "    <tr>\n",
       "      <th>1</th>\n",
       "      <td>2</td>\n",
       "      <td>1997-10-24</td>\n",
       "      <td>1997-09-21</td>\n",
       "    </tr>\n",
       "    <tr>\n",
       "      <th>2</th>\n",
       "      <td>3</td>\n",
       "      <td>1997-10-26</td>\n",
       "      <td>1998-05-06</td>\n",
       "    </tr>\n",
       "    <tr>\n",
       "      <th>3</th>\n",
       "      <td>4</td>\n",
       "      <td>1998-08-21</td>\n",
       "      <td>1998-07-24</td>\n",
       "    </tr>\n",
       "    <tr>\n",
       "      <th>4</th>\n",
       "      <td>5</td>\n",
       "      <td>1998-12-31</td>\n",
       "      <td>1999-10-22</td>\n",
       "    </tr>\n",
       "  </tbody>\n",
       "</table>\n",
       "</div>"
      ],
      "text/plain": [
       "   id       Date1       Date2\n",
       "0   1  1997-07-14  1997-07-29\n",
       "1   2  1997-10-24  1997-09-21\n",
       "2   3  1997-10-26  1998-05-06\n",
       "3   4  1998-08-21  1998-07-24\n",
       "4   5  1998-12-31  1999-10-22"
      ]
     },
     "execution_count": 13,
     "metadata": {},
     "output_type": "execute_result"
    }
   ],
   "source": [
    "# el dataframe\n",
    "df = pd.DataFrame(myData)\n",
    "df"
   ]
  },
  {
   "cell_type": "code",
   "execution_count": 14,
   "id": "95736c4f-a95b-496e-8218-d7a13638397c",
   "metadata": {},
   "outputs": [
    {
     "ename": "TypeError",
     "evalue": "unsupported operand type(s) for -: 'str' and 'str'",
     "output_type": "error",
     "traceback": [
      "\u001b[0;31m---------------------------------------------------------------------------\u001b[0m",
      "\u001b[0;31mTypeError\u001b[0m                                 Traceback (most recent call last)",
      "File \u001b[0;32m~/opt/miniconda3/lib/python3.10/site-packages/pandas/core/ops/array_ops.py:163\u001b[0m, in \u001b[0;36m_na_arithmetic_op\u001b[0;34m(left, right, op, is_cmp)\u001b[0m\n\u001b[1;32m    162\u001b[0m \u001b[38;5;28;01mtry\u001b[39;00m:\n\u001b[0;32m--> 163\u001b[0m     result \u001b[38;5;241m=\u001b[39m \u001b[43mfunc\u001b[49m\u001b[43m(\u001b[49m\u001b[43mleft\u001b[49m\u001b[43m,\u001b[49m\u001b[43m \u001b[49m\u001b[43mright\u001b[49m\u001b[43m)\u001b[49m\n\u001b[1;32m    164\u001b[0m \u001b[38;5;28;01mexcept\u001b[39;00m \u001b[38;5;167;01mTypeError\u001b[39;00m:\n",
      "File \u001b[0;32m~/opt/miniconda3/lib/python3.10/site-packages/pandas/core/computation/expressions.py:239\u001b[0m, in \u001b[0;36mevaluate\u001b[0;34m(op, a, b, use_numexpr)\u001b[0m\n\u001b[1;32m    237\u001b[0m     \u001b[38;5;28;01mif\u001b[39;00m use_numexpr:\n\u001b[1;32m    238\u001b[0m         \u001b[38;5;66;03m# error: \"None\" not callable\u001b[39;00m\n\u001b[0;32m--> 239\u001b[0m         \u001b[38;5;28;01mreturn\u001b[39;00m \u001b[43m_evaluate\u001b[49m\u001b[43m(\u001b[49m\u001b[43mop\u001b[49m\u001b[43m,\u001b[49m\u001b[43m \u001b[49m\u001b[43mop_str\u001b[49m\u001b[43m,\u001b[49m\u001b[43m \u001b[49m\u001b[43ma\u001b[49m\u001b[43m,\u001b[49m\u001b[43m \u001b[49m\u001b[43mb\u001b[49m\u001b[43m)\u001b[49m  \u001b[38;5;66;03m# type: ignore[misc]\u001b[39;00m\n\u001b[1;32m    240\u001b[0m \u001b[38;5;28;01mreturn\u001b[39;00m _evaluate_standard(op, op_str, a, b)\n",
      "File \u001b[0;32m~/opt/miniconda3/lib/python3.10/site-packages/pandas/core/computation/expressions.py:128\u001b[0m, in \u001b[0;36m_evaluate_numexpr\u001b[0;34m(op, op_str, a, b)\u001b[0m\n\u001b[1;32m    127\u001b[0m \u001b[38;5;28;01mif\u001b[39;00m result \u001b[38;5;129;01mis\u001b[39;00m \u001b[38;5;28;01mNone\u001b[39;00m:\n\u001b[0;32m--> 128\u001b[0m     result \u001b[38;5;241m=\u001b[39m \u001b[43m_evaluate_standard\u001b[49m\u001b[43m(\u001b[49m\u001b[43mop\u001b[49m\u001b[43m,\u001b[49m\u001b[43m \u001b[49m\u001b[43mop_str\u001b[49m\u001b[43m,\u001b[49m\u001b[43m \u001b[49m\u001b[43ma\u001b[49m\u001b[43m,\u001b[49m\u001b[43m \u001b[49m\u001b[43mb\u001b[49m\u001b[43m)\u001b[49m\n\u001b[1;32m    130\u001b[0m \u001b[38;5;28;01mreturn\u001b[39;00m result\n",
      "File \u001b[0;32m~/opt/miniconda3/lib/python3.10/site-packages/pandas/core/computation/expressions.py:69\u001b[0m, in \u001b[0;36m_evaluate_standard\u001b[0;34m(op, op_str, a, b)\u001b[0m\n\u001b[1;32m     68\u001b[0m     _store_test_result(\u001b[38;5;28;01mFalse\u001b[39;00m)\n\u001b[0;32m---> 69\u001b[0m \u001b[38;5;28;01mreturn\u001b[39;00m \u001b[43mop\u001b[49m\u001b[43m(\u001b[49m\u001b[43ma\u001b[49m\u001b[43m,\u001b[49m\u001b[43m \u001b[49m\u001b[43mb\u001b[49m\u001b[43m)\u001b[49m\n",
      "\u001b[0;31mTypeError\u001b[0m: unsupported operand type(s) for -: 'str' and 'str'",
      "\nDuring handling of the above exception, another exception occurred:\n",
      "\u001b[0;31mTypeError\u001b[0m                                 Traceback (most recent call last)",
      "Cell \u001b[0;32mIn [14], line 2\u001b[0m\n\u001b[1;32m      1\u001b[0m \u001b[38;5;66;03m# The command that I think it should work, but return me an error:\u001b[39;00m\n\u001b[0;32m----> 2\u001b[0m \u001b[43mdf\u001b[49m\u001b[38;5;241;43m.\u001b[39;49m\u001b[43mDate1\u001b[49m\u001b[43m \u001b[49m\u001b[38;5;241;43m-\u001b[39;49m\u001b[43m \u001b[49m\u001b[43mdf\u001b[49m\u001b[38;5;241;43m.\u001b[39;49m\u001b[43mDate2\u001b[49m\n",
      "File \u001b[0;32m~/opt/miniconda3/lib/python3.10/site-packages/pandas/core/ops/common.py:70\u001b[0m, in \u001b[0;36m_unpack_zerodim_and_defer.<locals>.new_method\u001b[0;34m(self, other)\u001b[0m\n\u001b[1;32m     66\u001b[0m             \u001b[38;5;28;01mreturn\u001b[39;00m \u001b[38;5;28mNotImplemented\u001b[39m\n\u001b[1;32m     68\u001b[0m other \u001b[38;5;241m=\u001b[39m item_from_zerodim(other)\n\u001b[0;32m---> 70\u001b[0m \u001b[38;5;28;01mreturn\u001b[39;00m \u001b[43mmethod\u001b[49m\u001b[43m(\u001b[49m\u001b[38;5;28;43mself\u001b[39;49m\u001b[43m,\u001b[49m\u001b[43m \u001b[49m\u001b[43mother\u001b[49m\u001b[43m)\u001b[49m\n",
      "File \u001b[0;32m~/opt/miniconda3/lib/python3.10/site-packages/pandas/core/arraylike.py:108\u001b[0m, in \u001b[0;36mOpsMixin.__sub__\u001b[0;34m(self, other)\u001b[0m\n\u001b[1;32m    106\u001b[0m \u001b[38;5;129m@unpack_zerodim_and_defer\u001b[39m(\u001b[38;5;124m\"\u001b[39m\u001b[38;5;124m__sub__\u001b[39m\u001b[38;5;124m\"\u001b[39m)\n\u001b[1;32m    107\u001b[0m \u001b[38;5;28;01mdef\u001b[39;00m \u001b[38;5;21m__sub__\u001b[39m(\u001b[38;5;28mself\u001b[39m, other):\n\u001b[0;32m--> 108\u001b[0m     \u001b[38;5;28;01mreturn\u001b[39;00m \u001b[38;5;28;43mself\u001b[39;49m\u001b[38;5;241;43m.\u001b[39;49m\u001b[43m_arith_method\u001b[49m\u001b[43m(\u001b[49m\u001b[43mother\u001b[49m\u001b[43m,\u001b[49m\u001b[43m \u001b[49m\u001b[43moperator\u001b[49m\u001b[38;5;241;43m.\u001b[39;49m\u001b[43msub\u001b[49m\u001b[43m)\u001b[49m\n",
      "File \u001b[0;32m~/opt/miniconda3/lib/python3.10/site-packages/pandas/core/series.py:5639\u001b[0m, in \u001b[0;36mSeries._arith_method\u001b[0;34m(self, other, op)\u001b[0m\n\u001b[1;32m   5637\u001b[0m \u001b[38;5;28;01mdef\u001b[39;00m \u001b[38;5;21m_arith_method\u001b[39m(\u001b[38;5;28mself\u001b[39m, other, op):\n\u001b[1;32m   5638\u001b[0m     \u001b[38;5;28mself\u001b[39m, other \u001b[38;5;241m=\u001b[39m ops\u001b[38;5;241m.\u001b[39malign_method_SERIES(\u001b[38;5;28mself\u001b[39m, other)\n\u001b[0;32m-> 5639\u001b[0m     \u001b[38;5;28;01mreturn\u001b[39;00m \u001b[43mbase\u001b[49m\u001b[38;5;241;43m.\u001b[39;49m\u001b[43mIndexOpsMixin\u001b[49m\u001b[38;5;241;43m.\u001b[39;49m\u001b[43m_arith_method\u001b[49m\u001b[43m(\u001b[49m\u001b[38;5;28;43mself\u001b[39;49m\u001b[43m,\u001b[49m\u001b[43m \u001b[49m\u001b[43mother\u001b[49m\u001b[43m,\u001b[49m\u001b[43m \u001b[49m\u001b[43mop\u001b[49m\u001b[43m)\u001b[49m\n",
      "File \u001b[0;32m~/opt/miniconda3/lib/python3.10/site-packages/pandas/core/base.py:1295\u001b[0m, in \u001b[0;36mIndexOpsMixin._arith_method\u001b[0;34m(self, other, op)\u001b[0m\n\u001b[1;32m   1292\u001b[0m rvalues \u001b[38;5;241m=\u001b[39m ensure_wrapped_if_datetimelike(rvalues)\n\u001b[1;32m   1294\u001b[0m \u001b[38;5;28;01mwith\u001b[39;00m np\u001b[38;5;241m.\u001b[39merrstate(\u001b[38;5;28mall\u001b[39m\u001b[38;5;241m=\u001b[39m\u001b[38;5;124m\"\u001b[39m\u001b[38;5;124mignore\u001b[39m\u001b[38;5;124m\"\u001b[39m):\n\u001b[0;32m-> 1295\u001b[0m     result \u001b[38;5;241m=\u001b[39m \u001b[43mops\u001b[49m\u001b[38;5;241;43m.\u001b[39;49m\u001b[43marithmetic_op\u001b[49m\u001b[43m(\u001b[49m\u001b[43mlvalues\u001b[49m\u001b[43m,\u001b[49m\u001b[43m \u001b[49m\u001b[43mrvalues\u001b[49m\u001b[43m,\u001b[49m\u001b[43m \u001b[49m\u001b[43mop\u001b[49m\u001b[43m)\u001b[49m\n\u001b[1;32m   1297\u001b[0m \u001b[38;5;28;01mreturn\u001b[39;00m \u001b[38;5;28mself\u001b[39m\u001b[38;5;241m.\u001b[39m_construct_result(result, name\u001b[38;5;241m=\u001b[39mres_name)\n",
      "File \u001b[0;32m~/opt/miniconda3/lib/python3.10/site-packages/pandas/core/ops/array_ops.py:222\u001b[0m, in \u001b[0;36marithmetic_op\u001b[0;34m(left, right, op)\u001b[0m\n\u001b[1;32m    217\u001b[0m \u001b[38;5;28;01melse\u001b[39;00m:\n\u001b[1;32m    218\u001b[0m     \u001b[38;5;66;03m# TODO we should handle EAs consistently and move this check before the if/else\u001b[39;00m\n\u001b[1;32m    219\u001b[0m     \u001b[38;5;66;03m# (https://github.com/pandas-dev/pandas/issues/41165)\u001b[39;00m\n\u001b[1;32m    220\u001b[0m     _bool_arith_check(op, left, right)\n\u001b[0;32m--> 222\u001b[0m     res_values \u001b[38;5;241m=\u001b[39m \u001b[43m_na_arithmetic_op\u001b[49m\u001b[43m(\u001b[49m\u001b[43mleft\u001b[49m\u001b[43m,\u001b[49m\u001b[43m \u001b[49m\u001b[43mright\u001b[49m\u001b[43m,\u001b[49m\u001b[43m \u001b[49m\u001b[43mop\u001b[49m\u001b[43m)\u001b[49m\n\u001b[1;32m    224\u001b[0m \u001b[38;5;28;01mreturn\u001b[39;00m res_values\n",
      "File \u001b[0;32m~/opt/miniconda3/lib/python3.10/site-packages/pandas/core/ops/array_ops.py:170\u001b[0m, in \u001b[0;36m_na_arithmetic_op\u001b[0;34m(left, right, op, is_cmp)\u001b[0m\n\u001b[1;32m    164\u001b[0m \u001b[38;5;28;01mexcept\u001b[39;00m \u001b[38;5;167;01mTypeError\u001b[39;00m:\n\u001b[1;32m    165\u001b[0m     \u001b[38;5;28;01mif\u001b[39;00m \u001b[38;5;129;01mnot\u001b[39;00m is_cmp \u001b[38;5;129;01mand\u001b[39;00m (is_object_dtype(left\u001b[38;5;241m.\u001b[39mdtype) \u001b[38;5;129;01mor\u001b[39;00m is_object_dtype(right)):\n\u001b[1;32m    166\u001b[0m         \u001b[38;5;66;03m# For object dtype, fallback to a masked operation (only operating\u001b[39;00m\n\u001b[1;32m    167\u001b[0m         \u001b[38;5;66;03m#  on the non-missing values)\u001b[39;00m\n\u001b[1;32m    168\u001b[0m         \u001b[38;5;66;03m# Don't do this for comparisons, as that will handle complex numbers\u001b[39;00m\n\u001b[1;32m    169\u001b[0m         \u001b[38;5;66;03m#  incorrectly, see GH#32047\u001b[39;00m\n\u001b[0;32m--> 170\u001b[0m         result \u001b[38;5;241m=\u001b[39m \u001b[43m_masked_arith_op\u001b[49m\u001b[43m(\u001b[49m\u001b[43mleft\u001b[49m\u001b[43m,\u001b[49m\u001b[43m \u001b[49m\u001b[43mright\u001b[49m\u001b[43m,\u001b[49m\u001b[43m \u001b[49m\u001b[43mop\u001b[49m\u001b[43m)\u001b[49m\n\u001b[1;32m    171\u001b[0m     \u001b[38;5;28;01melse\u001b[39;00m:\n\u001b[1;32m    172\u001b[0m         \u001b[38;5;28;01mraise\u001b[39;00m\n",
      "File \u001b[0;32m~/opt/miniconda3/lib/python3.10/site-packages/pandas/core/ops/array_ops.py:108\u001b[0m, in \u001b[0;36m_masked_arith_op\u001b[0;34m(x, y, op)\u001b[0m\n\u001b[1;32m    106\u001b[0m     \u001b[38;5;66;03m# See GH#5284, GH#5035, GH#19448 for historical reference\u001b[39;00m\n\u001b[1;32m    107\u001b[0m     \u001b[38;5;28;01mif\u001b[39;00m mask\u001b[38;5;241m.\u001b[39many():\n\u001b[0;32m--> 108\u001b[0m         result[mask] \u001b[38;5;241m=\u001b[39m \u001b[43mop\u001b[49m\u001b[43m(\u001b[49m\u001b[43mxrav\u001b[49m\u001b[43m[\u001b[49m\u001b[43mmask\u001b[49m\u001b[43m]\u001b[49m\u001b[43m,\u001b[49m\u001b[43m \u001b[49m\u001b[43myrav\u001b[49m\u001b[43m[\u001b[49m\u001b[43mmask\u001b[49m\u001b[43m]\u001b[49m\u001b[43m)\u001b[49m\n\u001b[1;32m    110\u001b[0m \u001b[38;5;28;01melse\u001b[39;00m:\n\u001b[1;32m    111\u001b[0m     \u001b[38;5;28;01mif\u001b[39;00m \u001b[38;5;129;01mnot\u001b[39;00m is_scalar(y):\n",
      "\u001b[0;31mTypeError\u001b[0m: unsupported operand type(s) for -: 'str' and 'str'"
     ]
    }
   ],
   "source": [
    "# The command that I think it should work, but return me an error:\n",
    "df.Date1 - df.Date2"
   ]
  },
  {
   "cell_type": "markdown",
   "id": "f9b2a755-6857-4396-bda8-7eb04307f4a4",
   "metadata": {},
   "source": [
    "## 4. Referencias\n",
    "\n",
    "- Erik. (2011). [\"Three tips for posting good questions to R-help and Stack Overflow\"](https://www.r-bloggers.com/2011/01/three-tips-for-posting-good-questions-to-r-help-and-stack-overflow/). R-bloggers.\n",
    "\n",
    "- Stack Overflow. (2022). [\"How to create a Minimal, Complete, and Verifiable example\"](https://stackoverflow.com/help/minimal-reproducible-example). \n",
    "\n",
    "- UBC-MDS. (2019). [DSCI 521: Computing Platforms for Data Science](https://github.com/UBC-MDS/DSCI_521_platforms-dsci). UBC-MDS public material."
   ]
  },
  {
   "cell_type": "code",
   "execution_count": null,
   "id": "a7559cf2-87a9-4abb-a50c-97051a1b68e0",
   "metadata": {},
   "outputs": [],
   "source": []
  }
 ],
 "metadata": {
  "kernelspec": {
   "display_name": "Python 3 (ipykernel)",
   "language": "python",
   "name": "python3"
  },
  "language_info": {
   "codemirror_mode": {
    "name": "ipython",
    "version": 3
   },
   "file_extension": ".py",
   "mimetype": "text/x-python",
   "name": "python",
   "nbconvert_exporter": "python",
   "pygments_lexer": "ipython3",
   "version": "3.10.8"
  }
 },
 "nbformat": 4,
 "nbformat_minor": 5
}
