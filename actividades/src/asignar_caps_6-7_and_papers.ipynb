{
 "cells": [
  {
   "cell_type": "markdown",
   "id": "8163348f",
   "metadata": {},
   "source": [
    "# Asignación de *papers* y capítulos 6 y 7 del libro\n",
    "### Información básica"
   ]
  },
  {
   "cell_type": "code",
   "execution_count": 1,
   "id": "62e292ea",
   "metadata": {},
   "outputs": [],
   "source": [
    "# Importar librerías\n",
    "import numpy as np\n",
    "import pandas as pd\n",
    "import random\n",
    "\n",
    "pd.set_option('display.max_colwidth', None)"
   ]
  },
  {
   "cell_type": "code",
   "execution_count": 2,
   "id": "203c1ff1",
   "metadata": {},
   "outputs": [],
   "source": [
    "# información de equipos y alumnos\n",
    "alumnos = {\n",
    "    213388296: \"CAROL CASTAÑEDA\",\n",
    "    221310808: \"JORGE GOMEZ\",\n",
    "    220981326: \"ROSA GUERRERO\",\n",
    "#    221310778: \"RICARDO GUTIERREZ\", # <-- baja\n",
    "    221310727: \"ESTHER MORENO\",\n",
    "    221310786: \"PATRICIO OROZCO\",\n",
    "    211680429: \"CRISTIAN RUIZ\",\n",
    "    221310743: \"EDUARDO SANCHEZ\"\n",
    "}"
   ]
  },
  {
   "cell_type": "markdown",
   "id": "3fcfaf50",
   "metadata": {},
   "source": [
    "### Asignación de equipos y capítulos del libro\n",
    "⚠️ __Nota__: En clase se seleccionará una semilla y con base en el resultado se hará la asignación de los capítulos restantes del libro."
   ]
  },
  {
   "cell_type": "code",
   "execution_count": 3,
   "id": "667c4638",
   "metadata": {},
   "outputs": [
    {
     "name": "stdout",
     "output_type": "stream",
     "text": [
      "Selección de alumnos:\n",
      "[221310727, 213388296, 211680429, 221310743, 221310808, 220981326, 221310786]\n"
     ]
    }
   ],
   "source": [
    "# Seleccionar una semilla\n",
    "random.seed(8 + 876 + 79) # <--- CAMBIAR SEMILLA\n",
    "\n",
    "# modificar orden de los elementos\n",
    "alumnos_id = list(alumnos.keys())\n",
    "random.shuffle(alumnos_id)\n",
    "print(\"Selección de alumnos:\")\n",
    "print(alumnos_id)"
   ]
  },
  {
   "cell_type": "code",
   "execution_count": 5,
   "id": "420433ec",
   "metadata": {},
   "outputs": [
    {
     "data": {
      "text/html": [
       "<div>\n",
       "<style scoped>\n",
       "    .dataframe tbody tr th:only-of-type {\n",
       "        vertical-align: middle;\n",
       "    }\n",
       "\n",
       "    .dataframe tbody tr th {\n",
       "        vertical-align: top;\n",
       "    }\n",
       "\n",
       "    .dataframe thead th {\n",
       "        text-align: right;\n",
       "    }\n",
       "</style>\n",
       "<table border=\"1\" class=\"dataframe\">\n",
       "  <thead>\n",
       "    <tr style=\"text-align: right;\">\n",
       "      <th></th>\n",
       "      <th>Alumnos</th>\n",
       "    </tr>\n",
       "    <tr>\n",
       "      <th>A presentar:</th>\n",
       "      <th></th>\n",
       "    </tr>\n",
       "  </thead>\n",
       "  <tbody>\n",
       "    <tr>\n",
       "      <th>Papers</th>\n",
       "      <td>ESTHER MORENO  ///  CAROL CASTAÑEDA  ///  CRISTIAN RUIZ</td>\n",
       "    </tr>\n",
       "    <tr>\n",
       "      <th>Book Ch. 6</th>\n",
       "      <td>EDUARDO SANCHEZ  ///  JORGE GOMEZ</td>\n",
       "    </tr>\n",
       "    <tr>\n",
       "      <th>Book Ch. 7</th>\n",
       "      <td>ROSA GUERRERO  ///  PATRICIO OROZCO</td>\n",
       "    </tr>\n",
       "  </tbody>\n",
       "</table>\n",
       "</div>"
      ],
      "text/plain": [
       "                                                              Alumnos\n",
       "A presentar:                                                         \n",
       "Papers        ESTHER MORENO  ///  CAROL CASTAÑEDA  ///  CRISTIAN RUIZ\n",
       "Book Ch. 6                          EDUARDO SANCHEZ  ///  JORGE GOMEZ\n",
       "Book Ch. 7                        ROSA GUERRERO  ///  PATRICIO OROZCO"
      ]
     },
     "execution_count": 5,
     "metadata": {},
     "output_type": "execute_result"
    }
   ],
   "source": [
    "# Asignación de equipos\n",
    "df = dict()\n",
    "\n",
    "# asignar artículos\n",
    "df[\"Papers\"] = alumnos[alumnos_id[0]] + \"  ///  \"+ \\\n",
    "        alumnos[alumnos_id[1]] + \"  ///  \"+ alumnos[alumnos_id[2]]\n",
    "\n",
    "# asignar capítulos 6 y 7\n",
    "for i in range(3, len(alumnos_id), 2):\n",
    "    df[\"Book Ch. \" + str(int(i/2+5))] = alumnos[alumnos_id[i]] + \"  ///  \"+ alumnos[alumnos_id[i+1]]\n",
    "\n",
    "# Impresión de capítulo asignado por equipo \n",
    "df = pd.DataFrame(df, [\"Alumnos\"]).transpose()\n",
    "df.index.name = \"A presentar:\"\n",
    "df"
   ]
  },
  {
   "cell_type": "markdown",
   "id": "a53a4941",
   "metadata": {},
   "source": [
    "### Nota:\n",
    "\n",
    "**PRIMER EQUIPO**  \n",
    "Este equipo está conformado por 3 alumnos y deberá presemtar los papers siguientes *papers*:\n",
    "- [01 Good Enough Practices of Scientific Computing](https://github.com/vcuspinera/UDG_MCD_Project_Dev_II/blob/main/actividades/material/Papers/01%20Good%20Enough%20Practices%20Sc%20Computing.pdf)\n",
    "- [02 The Problem with Dates](https://github.com/vcuspinera/UDG_MCD_Project_Dev_II/blob/main/actividades/material/Papers/02%20The%20Problem%20with%20Dates.pdf)\n",
    "\n",
    "<br>\n",
    "\n",
    "**SEGUNDO Y TERCER EQUIPO**  \n",
    "Cada uno de estos equipos está conformado por 2 integrantes.  el caso de los capítulos 6 y 7 del libro, éstos se pueden encontrar en el [este link](https://github.com/vcuspinera/UDG_MCD_Project_Dev_II/tree/main/actividades/material/Libro_PMI-RMP). "
   ]
  },
  {
   "cell_type": "code",
   "execution_count": null,
   "id": "1e2ef597",
   "metadata": {},
   "outputs": [],
   "source": []
  }
 ],
 "metadata": {
  "kernelspec": {
   "display_name": "Python 3",
   "language": "python",
   "name": "python3"
  },
  "language_info": {
   "codemirror_mode": {
    "name": "ipython",
    "version": 3
   },
   "file_extension": ".py",
   "mimetype": "text/x-python",
   "name": "python",
   "nbconvert_exporter": "python",
   "pygments_lexer": "ipython3",
   "version": "3.7.7"
  }
 },
 "nbformat": 4,
 "nbformat_minor": 5
}
