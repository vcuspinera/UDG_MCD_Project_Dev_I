{
 "cells": [
  {
   "cell_type": "markdown",
   "id": "fc566746",
   "metadata": {},
   "source": [
    "# Asignación de capítulos 2 a 5 del libro\n",
    "### Información básica"
   ]
  },
  {
   "cell_type": "code",
   "execution_count": 1,
   "id": "d1f93f36",
   "metadata": {},
   "outputs": [],
   "source": [
    "# Importar librerías\n",
    "import numpy as np\n",
    "import pandas as pd\n",
    "import random"
   ]
  },
  {
   "cell_type": "code",
   "execution_count": 2,
   "id": "d03c23a6",
   "metadata": {},
   "outputs": [],
   "source": [
    "# información de equipos y alumnos\n",
    "alumnos = {\n",
    "    213388296: \"CAROL CASTAÑEDA\",\n",
    "    221310808: \"JORGE GOMEZ\",\n",
    "    220981326: \"ROSA GUERRERO\",\n",
    "    221310778: \"RICARDO GUTIERREZ\",\n",
    "    221310727: \"ESTHER MORENO\",\n",
    "    221310786: \"PATRICIO OROZCO\",\n",
    "    211680429: \"CRISTIAN RUIZ\",\n",
    "    221310743: \"EDUARDO SANCHEZ\"\n",
    "}"
   ]
  },
  {
   "cell_type": "markdown",
   "id": "84b932e5",
   "metadata": {},
   "source": [
    "### Asignación de equipos y capítulos del libro\n",
    "⚠️ __Nota__: En clase se seleccionará una semilla y con base en el resultado se hará la asignación de los capítulos restantes del libro."
   ]
  },
  {
   "cell_type": "code",
   "execution_count": 11,
   "id": "93758aad",
   "metadata": {},
   "outputs": [
    {
     "name": "stdout",
     "output_type": "stream",
     "text": [
      "Selección de alumnos:\n",
      "[221310743, 220981326, 221310786, 221310808, 211680429, 221310727, 213388296, 221310778]\n"
     ]
    }
   ],
   "source": [
    "# Seleccionar una semilla\n",
    "random.seed(5 + 8 + 2) # <--- CAMBIAR SEMILLA\n",
    "\n",
    "# modificar orden de los elementos\n",
    "alumnos_id = list(alumnos.keys())\n",
    "random.shuffle(alumnos_id)\n",
    "print(\"Selección de alumnos:\")\n",
    "print(alumnos_id)"
   ]
  },
  {
   "cell_type": "code",
   "execution_count": 12,
   "id": "830e7a6e",
   "metadata": {},
   "outputs": [
    {
     "data": {
      "text/html": [
       "<div>\n",
       "<style scoped>\n",
       "    .dataframe tbody tr th:only-of-type {\n",
       "        vertical-align: middle;\n",
       "    }\n",
       "\n",
       "    .dataframe tbody tr th {\n",
       "        vertical-align: top;\n",
       "    }\n",
       "\n",
       "    .dataframe thead th {\n",
       "        text-align: right;\n",
       "    }\n",
       "</style>\n",
       "<table border=\"1\" class=\"dataframe\">\n",
       "  <thead>\n",
       "    <tr style=\"text-align: right;\">\n",
       "      <th></th>\n",
       "      <th>Alumnos</th>\n",
       "    </tr>\n",
       "    <tr>\n",
       "      <th>Capítulo</th>\n",
       "      <th></th>\n",
       "    </tr>\n",
       "  </thead>\n",
       "  <tbody>\n",
       "    <tr>\n",
       "      <th>2</th>\n",
       "      <td>EDUARDO SANCHEZ  ///  ROSA GUERRERO</td>\n",
       "    </tr>\n",
       "    <tr>\n",
       "      <th>3</th>\n",
       "      <td>PATRICIO OROZCO  ///  JORGE GOMEZ</td>\n",
       "    </tr>\n",
       "    <tr>\n",
       "      <th>4</th>\n",
       "      <td>CRISTIAN RUIZ  ///  ESTHER MORENO</td>\n",
       "    </tr>\n",
       "    <tr>\n",
       "      <th>5</th>\n",
       "      <td>CAROL CASTAÑEDA  ///  RICARDO GUTIERREZ</td>\n",
       "    </tr>\n",
       "  </tbody>\n",
       "</table>\n",
       "</div>"
      ],
      "text/plain": [
       "                                          Alumnos\n",
       "Capítulo                                         \n",
       "2             EDUARDO SANCHEZ  ///  ROSA GUERRERO\n",
       "3               PATRICIO OROZCO  ///  JORGE GOMEZ\n",
       "4               CRISTIAN RUIZ  ///  ESTHER MORENO\n",
       "5         CAROL CASTAÑEDA  ///  RICARDO GUTIERREZ"
      ]
     },
     "execution_count": 12,
     "metadata": {},
     "output_type": "execute_result"
    }
   ],
   "source": [
    "# Asignación de equipos\n",
    "df = dict()\n",
    "for i in range(0, len(alumnos_id), 2):\n",
    "    df[int(i/2+2)] = alumnos[alumnos_id[i]] + \"  ///  \"+ alumnos[alumnos_id[i+1]]\n",
    "\n",
    "# Impresión de capítulo asignado por equipo \n",
    "df = pd.DataFrame(df, [\"Alumnos\"]).transpose()\n",
    "df.index.name = \"Capítulo\"\n",
    "df"
   ]
  },
  {
   "cell_type": "code",
   "execution_count": null,
   "id": "bedb6a31",
   "metadata": {},
   "outputs": [],
   "source": []
  }
 ],
 "metadata": {
  "kernelspec": {
   "display_name": "Python 3",
   "language": "python",
   "name": "python3"
  },
  "language_info": {
   "codemirror_mode": {
    "name": "ipython",
    "version": 3
   },
   "file_extension": ".py",
   "mimetype": "text/x-python",
   "name": "python",
   "nbconvert_exporter": "python",
   "pygments_lexer": "ipython3",
   "version": "3.7.7"
  }
 },
 "nbformat": 4,
 "nbformat_minor": 5
}
