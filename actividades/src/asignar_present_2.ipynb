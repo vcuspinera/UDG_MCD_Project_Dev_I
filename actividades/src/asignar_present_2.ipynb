{
 "cells": [
  {
   "cell_type": "markdown",
   "id": "fc566746",
   "metadata": {},
   "source": [
    "# Asignación de equipos para la segunda ronda de presentaciones"
   ]
  },
  {
   "cell_type": "code",
   "execution_count": 1,
   "id": "1a36fef2-8fd9-4151-b2a8-271d1809a875",
   "metadata": {},
   "outputs": [],
   "source": [
    "# Importar librerías\n",
    "import numpy as np\n",
    "import pandas as pd\n",
    "import random\n",
    "\n",
    "pd.set_option('display.max_colwidth', None)"
   ]
  },
  {
   "cell_type": "code",
   "execution_count": 2,
   "id": "d03c23a6",
   "metadata": {},
   "outputs": [],
   "source": [
    "# información de equipos y alumnos\n",
    "alumnos = {\n",
    "    221973505: \"ALEJANDRO CAMACHO\",\n",
    "    221973467: \"MANUEL GASTELUM\",\n",
    "    221973513: \"ALBERTO MARTÍNEZ\",\n",
    "    221973521: \"CÉSAR MEDINA\",\n",
    "    221973491: \"MONSERRAT PINEDA\",\n",
    "    209543147: \"EDUARDO RIOS\",\n",
    "    221310735: \"LUIS SOUZA\",\n",
    "    213272867: \"MAURICIO TENORIO\",\n",
    "    304570863: \"LUIS VALLARTA\",\n",
    "    304578694: \"GABRIEL VARELA\",\n",
    "    221310778: \"RICARDO GUTIERREZ\"\n",
    "}"
   ]
  },
  {
   "cell_type": "markdown",
   "id": "84b932e5",
   "metadata": {},
   "source": [
    "### Asignación de equipos y material\n",
    "⚠️ __Nota__: En clase se seleccionará una semilla y con base en el resultado se hará la asignación de los capítulos restantes del libro."
   ]
  },
  {
   "cell_type": "code",
   "execution_count": 4,
   "id": "93758aad",
   "metadata": {},
   "outputs": [
    {
     "name": "stdout",
     "output_type": "stream",
     "text": [
      "Selección de alumnos:\n",
      "[213272867, 221973467, 304578694, 304570863, 221310735, 209543147, 221973505, 221973521, 221973513, 221310778, 221973491]\n"
     ]
    }
   ],
   "source": [
    "# Seleccionar una semilla\n",
    "random.seed(20 + 4 + 237 + 57 + 666+ 64) # <--- CAMBIAR SEMILLA\n",
    "\n",
    "# modificar orden de los elementos\n",
    "alumnos_id = list(alumnos.keys())\n",
    "random.shuffle(alumnos_id)\n",
    "print(\"Selección de alumnos:\")\n",
    "print(alumnos_id)"
   ]
  },
  {
   "cell_type": "code",
   "execution_count": 5,
   "id": "cc5e5526-56c9-446b-88bf-2e7d92554545",
   "metadata": {},
   "outputs": [],
   "source": [
    "material = [\"07 snscrape\",\n",
    "            \"08 spaCy\",\n",
    "            \"09 GeoPandas\",\n",
    "            \"10 Scikit-learn\"]"
   ]
  },
  {
   "cell_type": "code",
   "execution_count": 7,
   "id": "830e7a6e",
   "metadata": {},
   "outputs": [
    {
     "data": {
      "text/html": [
       "<div>\n",
       "<style scoped>\n",
       "    .dataframe tbody tr th:only-of-type {\n",
       "        vertical-align: middle;\n",
       "    }\n",
       "\n",
       "    .dataframe tbody tr th {\n",
       "        vertical-align: top;\n",
       "    }\n",
       "\n",
       "    .dataframe thead th {\n",
       "        text-align: right;\n",
       "    }\n",
       "</style>\n",
       "<table border=\"1\" class=\"dataframe\">\n",
       "  <thead>\n",
       "    <tr style=\"text-align: right;\">\n",
       "      <th></th>\n",
       "      <th>Alumnos</th>\n",
       "    </tr>\n",
       "    <tr>\n",
       "      <th>Librerías</th>\n",
       "      <th></th>\n",
       "    </tr>\n",
       "  </thead>\n",
       "  <tbody>\n",
       "    <tr>\n",
       "      <th>07 snscrape</th>\n",
       "      <td>1️⃣MAURICIO TENORIO • 2️⃣MANUEL GASTELUM • 3️⃣GABRIEL VARELA</td>\n",
       "    </tr>\n",
       "    <tr>\n",
       "      <th>08 spaCy</th>\n",
       "      <td>1️⃣LUIS VALLARTA • 2️⃣LUIS SOUZA • 3️⃣EDUARDO RIOS</td>\n",
       "    </tr>\n",
       "    <tr>\n",
       "      <th>09 GeoPandas</th>\n",
       "      <td>1️⃣ALEJANDRO CAMACHO • 2️⃣CÉSAR MEDINA • 3️⃣ALBERTO MARTÍNEZ</td>\n",
       "    </tr>\n",
       "    <tr>\n",
       "      <th>10 Scikit-learn</th>\n",
       "      <td>1️⃣RICARDO GUTIERREZ • 2️⃣MONSERRAT PINEDA</td>\n",
       "    </tr>\n",
       "  </tbody>\n",
       "</table>\n",
       "</div>"
      ],
      "text/plain": [
       "                                                                         Alumnos\n",
       "Librerías                                                                       \n",
       "07 snscrape         1️⃣MAURICIO TENORIO • 2️⃣MANUEL GASTELUM • 3️⃣GABRIEL VARELA\n",
       "08 spaCy                      1️⃣LUIS VALLARTA • 2️⃣LUIS SOUZA • 3️⃣EDUARDO RIOS\n",
       "09 GeoPandas        1️⃣ALEJANDRO CAMACHO • 2️⃣CÉSAR MEDINA • 3️⃣ALBERTO MARTÍNEZ\n",
       "10 Scikit-learn                       1️⃣RICARDO GUTIERREZ • 2️⃣MONSERRAT PINEDA"
      ]
     },
     "execution_count": 7,
     "metadata": {},
     "output_type": "execute_result"
    }
   ],
   "source": [
    "# Asignación de equipos\n",
    "df = dict()\n",
    "for i in range(0, len(alumnos_id), 3):\n",
    "    if i == len(alumnos_id)-2:\n",
    "        df[material[int(i/3)]] = \"   1️⃣\" + alumnos[alumnos_id[i]]   + \\\n",
    "                                 \" • 2️⃣\" + alumnos[alumnos_id[i+1]]\n",
    "    else:\n",
    "        df[material[int(i/3)]] = \"   1️⃣\" + alumnos[alumnos_id[i]]   + \\\n",
    "                                 \" • 2️⃣\" + alumnos[alumnos_id[i+1]] + \\\n",
    "                                 \" • 3️⃣\" + alumnos[alumnos_id[i+2]]\n",
    "\n",
    "# Impresión de capítulo asignado por equipo \n",
    "df = pd.DataFrame(df, [\"Alumnos\"]).transpose()\n",
    "df.index.name = \"Librerías\"\n",
    "df.sort_index()"
   ]
  },
  {
   "cell_type": "code",
   "execution_count": null,
   "id": "86280d36-6a20-4b42-b315-7517c037a2dd",
   "metadata": {},
   "outputs": [],
   "source": []
  }
 ],
 "metadata": {
  "kernelspec": {
   "display_name": "Python 3 (ipykernel)",
   "language": "python",
   "name": "python3"
  },
  "language_info": {
   "codemirror_mode": {
    "name": "ipython",
    "version": 3
   },
   "file_extension": ".py",
   "mimetype": "text/x-python",
   "name": "python",
   "nbconvert_exporter": "python",
   "pygments_lexer": "ipython3",
   "version": "3.10.8"
  }
 },
 "nbformat": 4,
 "nbformat_minor": 5
}
