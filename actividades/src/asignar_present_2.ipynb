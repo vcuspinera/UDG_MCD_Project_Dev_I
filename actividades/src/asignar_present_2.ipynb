{
 "cells": [
  {
   "cell_type": "markdown",
   "id": "fc566746",
   "metadata": {},
   "source": [
    "# Asignación de equipos para la segunda ronda de presentaciones"
   ]
  },
  {
   "cell_type": "code",
   "execution_count": 1,
   "id": "1a36fef2-8fd9-4151-b2a8-271d1809a875",
   "metadata": {},
   "outputs": [],
   "source": [
    "# Importar librerías\n",
    "import numpy as np\n",
    "import pandas as pd\n",
    "import random\n",
    "\n",
    "pd.set_option('display.max_colwidth', None)"
   ]
  },
  {
   "cell_type": "code",
   "execution_count": 2,
   "id": "d03c23a6",
   "metadata": {},
   "outputs": [],
   "source": [
    "# información de equipos y alumnos\n",
    "alumnos = {\n",
    "    '323019027': 'HUGO FERNANDO ABARCA JIMENEZ',\n",
    "    '323018942': 'FERNANDO ARTURO AREVALO PEREZ',\n",
    "    '323018977': 'CRISTIAN ULISES BARENCA SOTELO',\n",
    "    '323018926': 'EDUARDO CARLOS FLETES ARECHIGA',\n",
    "#   '323019043': 'OSCAR FERNANDO FLORES GARCIA',  # <- el alumno se dio de baja\n",
    "    '208763291': 'MARIA DEL CARMEN HERRERA JIMENEZ',\n",
    "    '216910473': 'EYDER URIEL KINIL CERVERA',\n",
    "    '210674077': 'JOSE LUIS MEDRANO MEDRANO',\n",
    "    '091420465': 'CARLOS OCTAVIO MENDOZA RUIZ'\n",
    "}"
   ]
  },
  {
   "cell_type": "markdown",
   "id": "84b932e5",
   "metadata": {},
   "source": [
    "### Asignación de equipos y material\n",
    "⚠️ __Nota__: En clase se seleccionará una semilla y con base en el resultado se hará la asignación de los capítulos restantes del libro."
   ]
  },
  {
   "cell_type": "code",
   "execution_count": 8,
   "id": "93758aad",
   "metadata": {},
   "outputs": [
    {
     "name": "stdout",
     "output_type": "stream",
     "text": [
      "Selección de alumnos:\n",
      "['323018926', '210674077', '323018942', '216910473', '091420465', '323019027', '208763291', '323018977']\n"
     ]
    }
   ],
   "source": [
    "# Seleccionar una semilla\n",
    "random.seed(1) # <--- CAMBIAR SEMILLA\n",
    "\n",
    "# modificar orden de los elementos\n",
    "alumnos_id = list(alumnos.keys())\n",
    "random.shuffle(alumnos_id)\n",
    "print(\"Selección de alumnos:\")\n",
    "print(alumnos_id)"
   ]
  },
  {
   "cell_type": "code",
   "execution_count": 9,
   "id": "cc5e5526-56c9-446b-88bf-2e7d92554545",
   "metadata": {},
   "outputs": [],
   "source": [
    "# librerías a presentar\n",
    "material = [\n",
    "    \"⭐️06 NLTK\",\n",
    "    \"⭐️07 spaCy\",\n",
    "    \"⭐️08 Web Scraping (p.ej. BeautifulSoup,Scrapy)\",\n",
    "    \"⭐️09 PDF reader with Python (p.ej. PyPDF2)\" #OTRA OPCION ES UNA LIBRERIA PARA IDENTIFICACION DE IMAGENES\n",
    "]"
   ]
  },
  {
   "cell_type": "code",
   "execution_count": 11,
   "id": "830e7a6e",
   "metadata": {},
   "outputs": [],
   "source": [
    "# Asignación de equipos\n",
    "df = dict()\n",
    "j = 0\n",
    "for i in range(0, len(material)):\n",
    "    df[material[i]] = \"1️⃣\" + alumnos[alumnos_id[j]] + \" , 2️⃣\"+ alumnos[alumnos_id[j+1]] \n",
    "    j += 2\n",
    "    \n",
    "# Impresión de capítulo asignado por equipo \n",
    "df = pd.DataFrame(df, [\"Alumnos\"]).transpose()\n",
    "df.index.name = \"Librerías\"\n",
    "df.sort_index()"
   ]
  },
  {
   "cell_type": "code",
   "execution_count": null,
   "id": "e85e0d03-e00c-4b5b-8511-61bd528c44e3",
   "metadata": {},
   "outputs": [],
   "source": []
  }
 ],
 "metadata": {
  "kernelspec": {
   "display_name": "Python 3 (ipykernel)",
   "language": "python",
   "name": "python3"
  },
  "language_info": {
   "codemirror_mode": {
    "name": "ipython",
    "version": 3
   },
   "file_extension": ".py",
   "mimetype": "text/x-python",
   "name": "python",
   "nbconvert_exporter": "python",
   "pygments_lexer": "ipython3",
   "version": "3.11.5"
  }
 },
 "nbformat": 4,
 "nbformat_minor": 5
}
