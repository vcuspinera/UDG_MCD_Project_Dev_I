{
 "cells": [
  {
   "cell_type": "markdown",
   "id": "fc566746",
   "metadata": {},
   "source": [
    "# Asignación de equipos para la segunda ronda de presentaciones"
   ]
  },
  {
   "cell_type": "code",
   "execution_count": 1,
   "id": "1a36fef2-8fd9-4151-b2a8-271d1809a875",
   "metadata": {},
   "outputs": [],
   "source": [
    "# Importar librerías\n",
    "import numpy as np\n",
    "import pandas as pd\n",
    "import random\n",
    "\n",
    "pd.set_option('display.max_colwidth', None)"
   ]
  },
  {
   "cell_type": "code",
   "execution_count": 2,
   "id": "d03c23a6",
   "metadata": {},
   "outputs": [],
   "source": [
    "# información de equipos y alumnos\n",
    "alumnos = {\n",
    "    222980378: 'JORGE ARTURO HERRERA RAMIREZ',\n",
    "    222980386: 'DANIEL ISITA ASCENCIO',\n",
    "    214509127: 'REYNA VIVIANA JARAMILLO FLORES',\n",
    "    222980297: 'LARISA IRENE LOPEZ PAYAN',\n",
    "    222980335: 'MIGUEL ANGEL LOPEZ ROJAS',\n",
    "    210229944: 'ALEJANDRO NATHANAEL MARTIN DE CAMPO BARBA',\n",
    "    209538895: 'GUSTAVO MENDOZA NAVARRO',\n",
    "    222980327: 'LEONARDO DANIEL PANTOJA MORFIN',\n",
    "    222980246: 'JOSE MIGUEL RAMIREZ GALAN',\n",
    "    222980262: 'ROBERTO CARLOS RAMIREZ RAMOS',\n",
    "    222980351: 'CESAR KEVIN ROMERO HEREDIA',\n",
    "    302386283: 'JOSUE SANCHEZ ACOSTA',    \n",
    "    222980343: 'VICTOR TELLEZ GARCIA',\n",
    "    222980289: 'YUKIE TESHIBA ZUBIETA'\n",
    "}"
   ]
  },
  {
   "cell_type": "markdown",
   "id": "84b932e5",
   "metadata": {},
   "source": [
    "### Asignación de equipos y material\n",
    "⚠️ __Nota__: En clase se seleccionará una semilla y con base en el resultado se hará la asignación de los capítulos restantes del libro."
   ]
  },
  {
   "cell_type": "code",
   "execution_count": 3,
   "id": "93758aad",
   "metadata": {},
   "outputs": [
    {
     "name": "stdout",
     "output_type": "stream",
     "text": [
      "Selección de alumnos:\n",
      "[222980327, 222980343, 210229944, 222980386, 222980378, 222980335, 222980297, 222980289, 209538895, 222980262, 214509127, 222980246, 222980351, 302386283]\n"
     ]
    }
   ],
   "source": [
    "# Seleccionar una semilla\n",
    "random.seed(6 + 203 + 2222 + 7315 + 13) # <--- CAMBIAR SEMILLA\n",
    "\n",
    "# modificar orden de los elementos\n",
    "alumnos_id = list(alumnos.keys())\n",
    "random.shuffle(alumnos_id)\n",
    "print(\"Selección de alumnos:\")\n",
    "print(alumnos_id)"
   ]
  },
  {
   "cell_type": "code",
   "execution_count": 5,
   "id": "cc5e5526-56c9-446b-88bf-2e7d92554545",
   "metadata": {},
   "outputs": [],
   "source": [
    "# librerías a presentar\n",
    "material = [\n",
    "    \"⭐️08 NLTK\",\n",
    "    \"⭐️09 spaCy\",\n",
    "    \"⭐️10 GeoPandas\",\n",
    "    \"⭐️11 Folium\",\n",
    "    \"⭐️07 librería para hacer scrape en una red social\",\n",
    "    \"⭐️12 ChatGPT\"\n",
    "]"
   ]
  },
  {
   "cell_type": "code",
   "execution_count": 6,
   "id": "830e7a6e",
   "metadata": {},
   "outputs": [
    {
     "data": {
      "text/html": [
       "<div>\n",
       "<style scoped>\n",
       "    .dataframe tbody tr th:only-of-type {\n",
       "        vertical-align: middle;\n",
       "    }\n",
       "\n",
       "    .dataframe tbody tr th {\n",
       "        vertical-align: top;\n",
       "    }\n",
       "\n",
       "    .dataframe thead th {\n",
       "        text-align: right;\n",
       "    }\n",
       "</style>\n",
       "<table border=\"1\" class=\"dataframe\">\n",
       "  <thead>\n",
       "    <tr style=\"text-align: right;\">\n",
       "      <th></th>\n",
       "      <th>Alumnos</th>\n",
       "    </tr>\n",
       "    <tr>\n",
       "      <th>Librerías</th>\n",
       "      <th></th>\n",
       "    </tr>\n",
       "  </thead>\n",
       "  <tbody>\n",
       "    <tr>\n",
       "      <th>⭐️07 librería para hacer scrape en una red social</th>\n",
       "      <td>1️⃣GUSTAVO MENDOZA NAVARRO , 2️⃣ROBERTO CARLOS RAMIREZ RAMOS , 3️⃣REYNA VIVIANA JARAMILLO FLORES</td>\n",
       "    </tr>\n",
       "    <tr>\n",
       "      <th>⭐️08 NLTK</th>\n",
       "      <td>1️⃣LEONARDO DANIEL PANTOJA MORFIN , 2️⃣VICTOR TELLEZ GARCIA</td>\n",
       "    </tr>\n",
       "    <tr>\n",
       "      <th>⭐️09 spaCy</th>\n",
       "      <td>1️⃣ALEJANDRO NATHANAEL MARTIN DE CAMPO BARBA , 2️⃣DANIEL ISITA ASCENCIO</td>\n",
       "    </tr>\n",
       "    <tr>\n",
       "      <th>⭐️10 GeoPandas</th>\n",
       "      <td>1️⃣JORGE ARTURO HERRERA RAMIREZ , 2️⃣MIGUEL ANGEL LOPEZ ROJAS</td>\n",
       "    </tr>\n",
       "    <tr>\n",
       "      <th>⭐️11 Folium</th>\n",
       "      <td>1️⃣LARISA IRENE LOPEZ PAYAN , 2️⃣YUKIE TESHIBA ZUBIETA</td>\n",
       "    </tr>\n",
       "    <tr>\n",
       "      <th>⭐️12 ChatGPT</th>\n",
       "      <td>1️⃣JOSE MIGUEL RAMIREZ GALAN , 2️⃣CESAR KEVIN ROMERO HEREDIA , 3️⃣JOSUE SANCHEZ ACOSTA</td>\n",
       "    </tr>\n",
       "  </tbody>\n",
       "</table>\n",
       "</div>"
      ],
      "text/plain": [
       "                                                                                                                                            Alumnos\n",
       "Librerías                                                                                                                                          \n",
       "⭐️07 librería para hacer scrape en una red social  1️⃣GUSTAVO MENDOZA NAVARRO , 2️⃣ROBERTO CARLOS RAMIREZ RAMOS , 3️⃣REYNA VIVIANA JARAMILLO FLORES\n",
       "⭐️08 NLTK                                                                               1️⃣LEONARDO DANIEL PANTOJA MORFIN , 2️⃣VICTOR TELLEZ GARCIA\n",
       "⭐️09 spaCy                                                                  1️⃣ALEJANDRO NATHANAEL MARTIN DE CAMPO BARBA , 2️⃣DANIEL ISITA ASCENCIO\n",
       "⭐️10 GeoPandas                                                                        1️⃣JORGE ARTURO HERRERA RAMIREZ , 2️⃣MIGUEL ANGEL LOPEZ ROJAS\n",
       "⭐️11 Folium                                                                                  1️⃣LARISA IRENE LOPEZ PAYAN , 2️⃣YUKIE TESHIBA ZUBIETA\n",
       "⭐️12 ChatGPT                                                 1️⃣JOSE MIGUEL RAMIREZ GALAN , 2️⃣CESAR KEVIN ROMERO HEREDIA , 3️⃣JOSUE SANCHEZ ACOSTA"
      ]
     },
     "execution_count": 6,
     "metadata": {},
     "output_type": "execute_result"
    }
   ],
   "source": [
    "# Asignación de equipos\n",
    "df = dict()\n",
    "j = 0\n",
    "for i in range(0, len(material)):\n",
    "    if (i < 4):\n",
    "        df[material[i]] = \"1️⃣\" + alumnos[alumnos_id[j]] + \" , 2️⃣\"+ alumnos[alumnos_id[j+1]] \n",
    "        j += 2\n",
    "    else :\n",
    "        df[material[i]] = \"1️⃣\" + alumnos[alumnos_id[j]] + \" , 2️⃣\"+ alumnos[alumnos_id[j+1]] + \" , 3️⃣\"+ alumnos[alumnos_id[j+2]] \n",
    "        j += 3\n",
    "    \n",
    "# Impresión de capítulo asignado por equipo \n",
    "df = pd.DataFrame(df, [\"Alumnos\"]).transpose()\n",
    "df.index.name = \"Librerías\"\n",
    "df.sort_index()"
   ]
  },
  {
   "cell_type": "code",
   "execution_count": null,
   "id": "e85e0d03-e00c-4b5b-8511-61bd528c44e3",
   "metadata": {},
   "outputs": [],
   "source": []
  }
 ],
 "metadata": {
  "kernelspec": {
   "display_name": "Python 3 (ipykernel)",
   "language": "python",
   "name": "python3"
  },
  "language_info": {
   "codemirror_mode": {
    "name": "ipython",
    "version": 3
   },
   "file_extension": ".py",
   "mimetype": "text/x-python",
   "name": "python",
   "nbconvert_exporter": "python",
   "pygments_lexer": "ipython3",
   "version": "3.11.5"
  }
 },
 "nbformat": 4,
 "nbformat_minor": 5
}
