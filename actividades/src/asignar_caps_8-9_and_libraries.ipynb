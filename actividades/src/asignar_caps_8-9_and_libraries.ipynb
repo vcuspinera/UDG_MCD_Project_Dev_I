{
 "cells": [
  {
   "cell_type": "markdown",
   "id": "8163348f",
   "metadata": {},
   "source": [
    "# Asignación capítulos 8 y 9 del libro y de *papers*\n",
    "### Información básica"
   ]
  },
  {
   "cell_type": "code",
   "execution_count": null,
   "id": "62e292ea",
   "metadata": {},
   "outputs": [],
   "source": [
    "# Importar librerías\n",
    "import numpy as np\n",
    "import pandas as pd\n",
    "import random\n",
    "\n",
    "pd.set_option('display.max_colwidth', None)"
   ]
  },
  {
   "cell_type": "code",
   "execution_count": null,
   "id": "203c1ff1",
   "metadata": {},
   "outputs": [],
   "source": [
    "# información de equipos y alumnos\n",
    "alumnos = {\n",
    "#    213388296: \"CAROL CASTAÑEDA\", #<- Se asignó un tema específico\n",
    "    221310808: \"JORGE GOMEZ\",\n",
    "    220981326: \"ROSA GUERRERO\",\n",
    "    221310727: \"ESTHER MORENO\",\n",
    "    221310786: \"PATRICIO OROZCO\",\n",
    "    211680429: \"CRISTIAN RUIZ\",\n",
    "    221310743: \"EDUARDO SANCHEZ\"\n",
    "}"
   ]
  },
  {
   "cell_type": "markdown",
   "id": "3fcfaf50",
   "metadata": {},
   "source": [
    "### Asignación de equipos y capítulos del libro\n",
    "⚠️ __Nota__: En clase se seleccionará una semilla y con base en el resultado se hará la asignación de los capítulos restantes del libro."
   ]
  },
  {
   "cell_type": "code",
   "execution_count": null,
   "id": "667c4638",
   "metadata": {},
   "outputs": [],
   "source": [
    "# Seleccionar una semilla\n",
    "random.seed(200) # <--- CAMBIAR SEMILLA\n",
    "\n",
    "# modificar orden de los elementos\n",
    "alumnos_id = list(alumnos.keys())\n",
    "random.shuffle(alumnos_id)\n",
    "print(\"Selección de alumnos:\")\n",
    "print(alumnos_id)"
   ]
  },
  {
   "cell_type": "code",
   "execution_count": null,
   "id": "420433ec",
   "metadata": {},
   "outputs": [],
   "source": [
    "# Asignación de equipos\n",
    "df = dict()\n",
    "\n",
    "# asignar capítulos 8 y 9\n",
    "for i in range(2, len(alumnos_id), 2):\n",
    "    df[\"Book Ch. \" + str(int(i/2+7))] = alumnos[alumnos_id[i]] + \"  ///  \"+ alumnos[alumnos_id[i+1]]\n",
    "\n",
    "# asignar spaCy\n",
    "df[\"spaCy\"] = alumnos[alumnos_id[0]] + \"  ///  \"+ alumnos[alumnos_id[1]]\n",
    "\n",
    "# asignar Datos Georreferenciales\n",
    "df[\"Georref\"] = \"CAROL CASTAÑEDA\"\n",
    "\n",
    "\n",
    "# Impresión de capítulo asignado por equipo \n",
    "df = pd.DataFrame(df, [\"Alumnos\"]).transpose()\n",
    "df.index.name = \"A presentar:\"\n",
    "df"
   ]
  },
  {
   "cell_type": "markdown",
   "id": "a53a4941",
   "metadata": {},
   "source": [
    "### Nota:\n",
    "\n",
    "**PRIMER Y SEGUNDO EQUIPO**  \n",
    "Estos quipos expondrán los capítulos 8 y 9 del libro, los cuales se pueden encontrar en [este link](https://github.com/vcuspinera/UDG_MCD_Project_Dev_II/tree/main/actividades/material/Libro_PMI-RMP). \n",
    "\n",
    "\n",
    "**TERCER EQUIPO**  \n",
    "El equipo presentará la [librería de Python spaCy](https://spacy.io), específicamente qué es y cómo se puede usar.\n",
    "\n",
    "**CAROL CASTAÑEDA**  \n",
    "Expondrá sobre librerías en Python para datos georreferenciales."
   ]
  },
  {
   "cell_type": "code",
   "execution_count": null,
   "id": "1e2ef597",
   "metadata": {},
   "outputs": [],
   "source": []
  }
 ],
 "metadata": {
  "kernelspec": {
   "display_name": "Python 3",
   "language": "python",
   "name": "python3"
  },
  "language_info": {
   "codemirror_mode": {
    "name": "ipython",
    "version": 3
   },
   "file_extension": ".py",
   "mimetype": "text/x-python",
   "name": "python",
   "nbconvert_exporter": "python",
   "pygments_lexer": "ipython3",
   "version": "3.7.7"
  }
 },
 "nbformat": 4,
 "nbformat_minor": 5
}
