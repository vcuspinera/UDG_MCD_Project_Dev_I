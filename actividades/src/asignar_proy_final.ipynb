{
 "cells": [
  {
   "cell_type": "markdown",
   "id": "fc566746",
   "metadata": {},
   "source": [
    "# Asignación de equipos para proyecto final"
   ]
  },
  {
   "cell_type": "code",
   "execution_count": 1,
   "id": "1a36fef2-8fd9-4151-b2a8-271d1809a875",
   "metadata": {},
   "outputs": [],
   "source": [
    "# Importar librerías\n",
    "import numpy as np\n",
    "import pandas as pd\n",
    "import random\n",
    "\n",
    "pd.set_option('display.max_colwidth', None)"
   ]
  },
  {
   "cell_type": "code",
   "execution_count": 2,
   "id": "d03c23a6",
   "metadata": {},
   "outputs": [],
   "source": [
    "# información de equipos y alumnos\n",
    "alumnos = {\n",
    "    221973505: \"ALEJANDRO CAMACHO\",\n",
    "    221973467: \"MANUEL GASTELUM\",\n",
    "    221973513: \"ALBERTO MARTÍNEZ\",\n",
    "    221973521: \"CÉSAR MEDINA\",\n",
    "    221973491: \"MONSERRAT PINEDA\",\n",
    "    209543147: \"EDUARDO RIOS\",\n",
    "    221310735: \"LUIS SOUZA\",\n",
    "    213272867: \"MAURICIO TENORIO\",\n",
    "    304570863: \"LUIS VALLARTA\",\n",
    "    304578694: \"GABRIEL VARELA\",\n",
    "    221310778: \"RICARDO GUTIERREZ\"\n",
    "}"
   ]
  },
  {
   "cell_type": "markdown",
   "id": "84b932e5",
   "metadata": {},
   "source": [
    "### Asignación de equipos y material\n",
    "⚠️ __Nota__: En clase se seleccionará una semilla y con base en el resultado se hará la asignación de los capítulos restantes del libro."
   ]
  },
  {
   "cell_type": "code",
   "execution_count": 15,
   "id": "93758aad",
   "metadata": {},
   "outputs": [
    {
     "name": "stdout",
     "output_type": "stream",
     "text": [
      "Selección de alumnos:\n",
      "[221973491, 304578694, 221973513, 304570863, 209543147, 221310778, 221310735, 221973505, 213272867, 221973467, 221973521]\n"
     ]
    }
   ],
   "source": [
    "# Seleccionar una semilla\n",
    "#random.seed(1) # <--- CAMBIAR SEMILLA\n",
    "\n",
    "# modificar orden de los elementos\n",
    "alumnos_id = list(alumnos.keys())\n",
    "random.shuffle(alumnos_id)\n",
    "print(\"Selección de alumnos:\")\n",
    "print(alumnos_id)"
   ]
  },
  {
   "cell_type": "code",
   "execution_count": 16,
   "id": "cc5e5526-56c9-446b-88bf-2e7d92554545",
   "metadata": {},
   "outputs": [],
   "source": [
    "material = [\"01\",\n",
    "            \"02\",\n",
    "            \"03\",\n",
    "            \"04\"]"
   ]
  },
  {
   "cell_type": "code",
   "execution_count": 18,
   "id": "830e7a6e",
   "metadata": {},
   "outputs": [
    {
     "data": {
      "text/html": [
       "<div>\n",
       "<style scoped>\n",
       "    .dataframe tbody tr th:only-of-type {\n",
       "        vertical-align: middle;\n",
       "    }\n",
       "\n",
       "    .dataframe tbody tr th {\n",
       "        vertical-align: top;\n",
       "    }\n",
       "\n",
       "    .dataframe thead th {\n",
       "        text-align: right;\n",
       "    }\n",
       "</style>\n",
       "<table border=\"1\" class=\"dataframe\">\n",
       "  <thead>\n",
       "    <tr style=\"text-align: right;\">\n",
       "      <th></th>\n",
       "      <th>Integrantes</th>\n",
       "    </tr>\n",
       "    <tr>\n",
       "      <th>No. Equipo</th>\n",
       "      <th></th>\n",
       "    </tr>\n",
       "  </thead>\n",
       "  <tbody>\n",
       "    <tr>\n",
       "      <th>01</th>\n",
       "      <td>1️⃣MONSERRAT PINEDA • 2️⃣GABRIEL VARELA • 3️⃣ALBERTO MARTÍNEZ</td>\n",
       "    </tr>\n",
       "    <tr>\n",
       "      <th>02</th>\n",
       "      <td>1️⃣LUIS VALLARTA • 2️⃣EDUARDO RIOS • 3️⃣RICARDO GUTIERREZ</td>\n",
       "    </tr>\n",
       "    <tr>\n",
       "      <th>03</th>\n",
       "      <td>1️⃣LUIS SOUZA • 2️⃣ALEJANDRO CAMACHO • 3️⃣MAURICIO TENORIO</td>\n",
       "    </tr>\n",
       "    <tr>\n",
       "      <th>04</th>\n",
       "      <td>1️⃣MANUEL GASTELUM • 2️⃣CÉSAR MEDINA</td>\n",
       "    </tr>\n",
       "  </tbody>\n",
       "</table>\n",
       "</div>"
      ],
      "text/plain": [
       "                                                                 Integrantes\n",
       "No. Equipo                                                                  \n",
       "01             1️⃣MONSERRAT PINEDA • 2️⃣GABRIEL VARELA • 3️⃣ALBERTO MARTÍNEZ\n",
       "02                 1️⃣LUIS VALLARTA • 2️⃣EDUARDO RIOS • 3️⃣RICARDO GUTIERREZ\n",
       "03                1️⃣LUIS SOUZA • 2️⃣ALEJANDRO CAMACHO • 3️⃣MAURICIO TENORIO\n",
       "04                                      1️⃣MANUEL GASTELUM • 2️⃣CÉSAR MEDINA"
      ]
     },
     "execution_count": 18,
     "metadata": {},
     "output_type": "execute_result"
    }
   ],
   "source": [
    "# Asignación de equipos\n",
    "df = dict()\n",
    "for i in range(0, len(alumnos_id), 3):\n",
    "    if i == len(alumnos_id)-2:\n",
    "        df[material[int(i/3)]] = \"   1️⃣\" + alumnos[alumnos_id[i]]   + \\\n",
    "                                 \" • 2️⃣\" + alumnos[alumnos_id[i+1]]\n",
    "    else:\n",
    "        df[material[int(i/3)]] = \"   1️⃣\" + alumnos[alumnos_id[i]]   + \\\n",
    "                                 \" • 2️⃣\" + alumnos[alumnos_id[i+1]] + \\\n",
    "                                 \" • 3️⃣\" + alumnos[alumnos_id[i+2]]\n",
    "\n",
    "# Impresión de capítulo asignado por equipo \n",
    "df = pd.DataFrame(df, [\"Integrantes\"]).transpose()\n",
    "df.index.name = \"No. Equipo\"\n",
    "df.sort_index()"
   ]
  }
 ],
 "metadata": {
  "kernelspec": {
   "display_name": "Python 3 (ipykernel)",
   "language": "python",
   "name": "python3"
  },
  "language_info": {
   "codemirror_mode": {
    "name": "ipython",
    "version": 3
   },
   "file_extension": ".py",
   "mimetype": "text/x-python",
   "name": "python",
   "nbconvert_exporter": "python",
   "pygments_lexer": "ipython3",
   "version": "3.10.8"
  }
 },
 "nbformat": 4,
 "nbformat_minor": 5
}
