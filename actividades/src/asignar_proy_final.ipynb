{
 "cells": [
  {
   "cell_type": "markdown",
   "id": "fc566746",
   "metadata": {},
   "source": [
    "# Asignación de equipos para proyecto final"
   ]
  },
  {
   "cell_type": "code",
   "execution_count": null,
   "id": "1a36fef2-8fd9-4151-b2a8-271d1809a875",
   "metadata": {},
   "outputs": [],
   "source": [
    "# Importar librerías\n",
    "import numpy as np\n",
    "import pandas as pd\n",
    "import random\n",
    "\n",
    "pd.set_option('display.max_colwidth', None)"
   ]
  },
  {
   "cell_type": "code",
   "execution_count": null,
   "id": "d03c23a6",
   "metadata": {},
   "outputs": [],
   "source": [
    "# Información de alumnos\n",
    "alumnos = {\n",
    "    222980378: 'JORGE ARTURO HERRERA RAMIREZ',\n",
    "    222980386: 'DANIEL ISITA ASCENCIO',\n",
    "    214509127: 'REYNA VIVIANA JARAMILLO FLORES',\n",
    "    222980297: 'LARISA IRENE LOPEZ PAYAN',\n",
    "    222980335: 'MIGUEL ANGEL LOPEZ ROJAS',\n",
    "    210229944: 'ALEJANDRO NATHANAEL MARTIN DE CAMPO BARBA',\n",
    "    209538895: 'GUSTAVO MENDOZA NAVARRO',\n",
    "    222980327: 'LEONARDO DANIEL PANTOJA MORFIN',\n",
    "    222980246: 'JOSE MIGUEL RAMIREZ GALAN',\n",
    "    222980262: 'ROBERTO CARLOS RAMIREZ RAMOS',\n",
    "    222980351: 'CESAR KEVIN ROMERO HEREDIA',\n",
    "    302386283: 'JOSUE SANCHEZ ACOSTA',    \n",
    "    222980343: 'VICTOR TELLEZ GARCIA',\n",
    "    222980289: 'YUKIE TESHIBA ZUBIETA'\n",
    "}"
   ]
  },
  {
   "cell_type": "markdown",
   "id": "84b932e5",
   "metadata": {},
   "source": [
    "### Asignación de equipos y material\n",
    "⚠️ __Nota__: En clase se seleccionará una semilla y con base en el resultado se asignarán los equipos para el proyecto final."
   ]
  },
  {
   "cell_type": "code",
   "execution_count": null,
   "id": "93758aad",
   "metadata": {},
   "outputs": [],
   "source": [
    "# Seleccionar una semilla\n",
    "random.seed(0) # <--- CAMBIAR SEMILLA\n",
    "\n",
    "# Modificar orden de los elementos\n",
    "alumnos_id = list(alumnos.keys())\n",
    "random.shuffle(alumnos_id)\n",
    "print(\"Selección de alumnos:\")\n",
    "print(alumnos_id)"
   ]
  },
  {
   "cell_type": "code",
   "execution_count": null,
   "id": "cc5e5526-56c9-446b-88bf-2e7d92554545",
   "metadata": {},
   "outputs": [],
   "source": [
    "equipo = [\"01\", \"02\", \"03\", \"04\", \"05\"]"
   ]
  },
  {
   "cell_type": "code",
   "execution_count": null,
   "id": "830e7a6e",
   "metadata": {},
   "outputs": [],
   "source": [
    "# Asignación de equipos\n",
    "df = dict()\n",
    "j = 0\n",
    "for i in range(0, len(equipo)):\n",
    "    if (i < 4):\n",
    "        df[equipo[i]] = \"1️⃣\" + alumnos[alumnos_id[j]] \\\n",
    "        + \" , 2️⃣\"+ alumnos[alumnos_id[j+1]] \\\n",
    "        + \" , 3️⃣\"+ alumnos[alumnos_id[j+2]] \n",
    "        j += 3\n",
    "    else :\n",
    "        df[equipo[i]] = \"1️⃣\" + alumnos[alumnos_id[j]] \\\n",
    "        + \" , 2️⃣\"+ alumnos[alumnos_id[j+1]]\n",
    "        j += 2\n",
    "    \n",
    "# Impresión de asignación de equipos \n",
    "df = pd.DataFrame(df, [\"Alumnos\"]).transpose()\n",
    "df.index.name = \"No. Equipo\"\n",
    "df.sort_index()"
   ]
  },
  {
   "cell_type": "code",
   "execution_count": null,
   "id": "57729631-8133-47f2-8e01-74a59a7d347c",
   "metadata": {},
   "outputs": [],
   "source": []
  }
 ],
 "metadata": {
  "kernelspec": {
   "display_name": "Python 3 (ipykernel)",
   "language": "python",
   "name": "python3"
  },
  "language_info": {
   "codemirror_mode": {
    "name": "ipython",
    "version": 3
   },
   "file_extension": ".py",
   "mimetype": "text/x-python",
   "name": "python",
   "nbconvert_exporter": "python",
   "pygments_lexer": "ipython3",
   "version": "3.11.5"
  }
 },
 "nbformat": 4,
 "nbformat_minor": 5
}
