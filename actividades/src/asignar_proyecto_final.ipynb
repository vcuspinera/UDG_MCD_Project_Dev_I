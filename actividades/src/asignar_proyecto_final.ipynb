{
 "cells": [
  {
   "cell_type": "markdown",
   "id": "8163348f",
   "metadata": {},
   "source": [
    "# Asignación de equipos para proyecto final\n",
    "### Información básica"
   ]
  },
  {
   "cell_type": "code",
   "execution_count": null,
   "id": "62e292ea",
   "metadata": {},
   "outputs": [],
   "source": [
    "# Importar librerías\n",
    "import numpy as np\n",
    "import pandas as pd\n",
    "import random\n",
    "\n",
    "pd.set_option('display.max_colwidth', None)"
   ]
  },
  {
   "cell_type": "code",
   "execution_count": null,
   "id": "203c1ff1",
   "metadata": {},
   "outputs": [],
   "source": [
    "# información de equipos y alumnos\n",
    "alumnos = {\n",
    "    213388296: \"CAROL CASTAÑEDA\",\n",
    "    221310808: \"JORGE GOMEZ\",\n",
    "    220981326: \"ROSA GUERRERO\",\n",
    "    221310727: \"ESTHER MORENO\",\n",
    "    221310786: \"PATRICIO OROZCO\",\n",
    "    211680429: \"CRISTIAN RUIZ\",\n",
    "    221310743: \"EDUARDO SANCHEZ\"\n",
    "}"
   ]
  },
  {
   "cell_type": "markdown",
   "id": "3fcfaf50",
   "metadata": {},
   "source": [
    "### Asignación de equipos y capítulos del libro\n",
    "⚠️ __Nota__: En clase se seleccionará una semilla y con base en el resultado se hará la asignación de los capítulos restantes del libro."
   ]
  },
  {
   "cell_type": "code",
   "execution_count": null,
   "id": "667c4638",
   "metadata": {},
   "outputs": [],
   "source": [
    "# Seleccionar una semilla\n",
    "random.seed(0) # <--- CAMBIAR SEMILLA\n",
    "\n",
    "# modificar orden de los elementos\n",
    "alumnos_id = list(alumnos.keys())\n",
    "random.shuffle(alumnos_id)\n",
    "print(\"Selección de alumnos:\")\n",
    "print(alumnos_id)"
   ]
  },
  {
   "cell_type": "code",
   "execution_count": null,
   "id": "420433ec",
   "metadata": {},
   "outputs": [],
   "source": [
    "# Asignación de equipos\n",
    "df = dict()\n",
    "\n",
    "# asignar equipo 1, con 3 alumnos\n",
    "df[\"Equipo 1\"] = alumnos[alumnos_id[0]].title() + \" / \"+ \\\n",
    "        alumnos[alumnos_id[1]].title() + \" / \"+ alumnos[alumnos_id[2]].title()\n",
    "\n",
    "# asignar equipos 2 y 3, cada uno con 2 alumnos\n",
    "for i in range(3, len(alumnos_id), 2):\n",
    "    df[\"Equipo \" + str(int(i/2+1))] = alumnos[alumnos_id[i]].title() + \" / \"+ alumnos[alumnos_id[i+1]].title()\n",
    "\n",
    "# Impresión de capítulo asignado por equipo \n",
    "df = pd.DataFrame(df, [\"Alumnos\"]).transpose()\n",
    "df.index.name = \"A presentar:\"\n",
    "df"
   ]
  },
  {
   "cell_type": "markdown",
   "id": "a53a4941",
   "metadata": {},
   "source": [
    "### Nota:\n",
    "\n",
    "El equipo 1 está conformado por 3 alumnos y para los equipos 2 y 3, en ambos casos, éstos están conformados por 2 integrantes."
   ]
  },
  {
   "cell_type": "code",
   "execution_count": null,
   "id": "1e2ef597",
   "metadata": {},
   "outputs": [],
   "source": []
  }
 ],
 "metadata": {
  "kernelspec": {
   "display_name": "Python 3 (ipykernel)",
   "language": "python",
   "name": "python3"
  },
  "language_info": {
   "codemirror_mode": {
    "name": "ipython",
    "version": 3
   },
   "file_extension": ".py",
   "mimetype": "text/x-python",
   "name": "python",
   "nbconvert_exporter": "python",
   "pygments_lexer": "ipython3",
   "version": "3.10.4"
  }
 },
 "nbformat": 4,
 "nbformat_minor": 5
}
