{
 "cells": [
  {
   "cell_type": "markdown",
   "id": "8163348f",
   "metadata": {},
   "source": [
    "# Asignación de equipos para proyecto final\n",
    "### Información básica"
   ]
  },
  {
   "cell_type": "code",
   "execution_count": 1,
   "id": "62e292ea",
   "metadata": {},
   "outputs": [],
   "source": [
    "# Importar librerías\n",
    "import numpy as np\n",
    "import pandas as pd\n",
    "import random\n",
    "\n",
    "pd.set_option('display.max_colwidth', None)"
   ]
  },
  {
   "cell_type": "code",
   "execution_count": 2,
   "id": "203c1ff1",
   "metadata": {},
   "outputs": [],
   "source": [
    "# información de equipos y alumnos\n",
    "alumnos = {\n",
    "    213388296: \"CAROL CASTAÑEDA\",\n",
    "    221310808: \"JORGE GOMEZ\",\n",
    "    220981326: \"ROSA GUERRERO\",\n",
    "    221310727: \"ESTHER MORENO\",\n",
    "    221310786: \"PATRICIO OROZCO\",\n",
    "    211680429: \"CRISTIAN RUIZ\",\n",
    "    221310743: \"EDUARDO SANCHEZ\"\n",
    "}"
   ]
  },
  {
   "cell_type": "markdown",
   "id": "3fcfaf50",
   "metadata": {},
   "source": [
    "### Asignación de equipos y capítulos del libro\n",
    "⚠️ __Nota__: En clase se seleccionará una semilla y con base en el resultado se hará la asignación de los capítulos restantes del libro."
   ]
  },
  {
   "cell_type": "code",
   "execution_count": 3,
   "id": "667c4638",
   "metadata": {},
   "outputs": [
    {
     "name": "stdout",
     "output_type": "stream",
     "text": [
      "Selección de alumnos:\n",
      "[221310743, 211680429, 220981326, 221310727, 221310786, 213388296, 221310808]\n"
     ]
    }
   ],
   "source": [
    "# Seleccionar una semilla\n",
    "random.seed(85+1347+850) # <--- CAMBIAR SEMILLA\n",
    "\n",
    "# modificar orden de los elementos\n",
    "alumnos_id = list(alumnos.keys())\n",
    "random.shuffle(alumnos_id)\n",
    "print(\"Selección de alumnos:\")\n",
    "print(alumnos_id)"
   ]
  },
  {
   "cell_type": "code",
   "execution_count": 4,
   "id": "420433ec",
   "metadata": {},
   "outputs": [
    {
     "data": {
      "text/html": [
       "<div>\n",
       "<style scoped>\n",
       "    .dataframe tbody tr th:only-of-type {\n",
       "        vertical-align: middle;\n",
       "    }\n",
       "\n",
       "    .dataframe tbody tr th {\n",
       "        vertical-align: top;\n",
       "    }\n",
       "\n",
       "    .dataframe thead th {\n",
       "        text-align: right;\n",
       "    }\n",
       "</style>\n",
       "<table border=\"1\" class=\"dataframe\">\n",
       "  <thead>\n",
       "    <tr style=\"text-align: right;\">\n",
       "      <th></th>\n",
       "      <th>Alumnos</th>\n",
       "    </tr>\n",
       "    <tr>\n",
       "      <th>A presentar:</th>\n",
       "      <th></th>\n",
       "    </tr>\n",
       "  </thead>\n",
       "  <tbody>\n",
       "    <tr>\n",
       "      <th>Equipo 1</th>\n",
       "      <td>Eduardo Sanchez / Cristian Ruiz / Rosa Guerrero</td>\n",
       "    </tr>\n",
       "    <tr>\n",
       "      <th>Equipo 2</th>\n",
       "      <td>Esther Moreno / Patricio Orozco</td>\n",
       "    </tr>\n",
       "    <tr>\n",
       "      <th>Equipo 3</th>\n",
       "      <td>Carol Castañeda / Jorge Gomez</td>\n",
       "    </tr>\n",
       "  </tbody>\n",
       "</table>\n",
       "</div>"
      ],
      "text/plain": [
       "                                                      Alumnos\n",
       "A presentar:                                                 \n",
       "Equipo 1      Eduardo Sanchez / Cristian Ruiz / Rosa Guerrero\n",
       "Equipo 2                      Esther Moreno / Patricio Orozco\n",
       "Equipo 3                        Carol Castañeda / Jorge Gomez"
      ]
     },
     "execution_count": 4,
     "metadata": {},
     "output_type": "execute_result"
    }
   ],
   "source": [
    "# Asignación de equipos\n",
    "df = dict()\n",
    "\n",
    "# asignar equipo 1, con 3 alumnos\n",
    "df[\"Equipo 1\"] = alumnos[alumnos_id[0]].title() + \" / \"+ \\\n",
    "        alumnos[alumnos_id[1]].title() + \" / \"+ alumnos[alumnos_id[2]].title()\n",
    "\n",
    "# asignar equipos 2 y 3, cada uno con 2 alumnos\n",
    "for i in range(3, len(alumnos_id), 2):\n",
    "    df[\"Equipo \" + str(int(i/2+1))] = alumnos[alumnos_id[i]].title() + \" / \"+ alumnos[alumnos_id[i+1]].title()\n",
    "\n",
    "# Impresión de capítulo asignado por equipo \n",
    "df = pd.DataFrame(df, [\"Alumnos\"]).transpose()\n",
    "df.index.name = \"A presentar:\"\n",
    "df"
   ]
  },
  {
   "cell_type": "markdown",
   "id": "a53a4941",
   "metadata": {},
   "source": [
    "### Nota:\n",
    "\n",
    "El equipo 1 está conformado por 3 alumnos y para los equipos 2 y 3, en ambos casos, éstos están conformados por 2 integrantes."
   ]
  },
  {
   "cell_type": "code",
   "execution_count": null,
   "id": "1e2ef597",
   "metadata": {},
   "outputs": [],
   "source": []
  }
 ],
 "metadata": {
  "kernelspec": {
   "display_name": "Python 3 (ipykernel)",
   "language": "python",
   "name": "python3"
  },
  "language_info": {
   "codemirror_mode": {
    "name": "ipython",
    "version": 3
   },
   "file_extension": ".py",
   "mimetype": "text/x-python",
   "name": "python",
   "nbconvert_exporter": "python",
   "pygments_lexer": "ipython3",
   "version": "3.10.4"
  }
 },
 "nbformat": 4,
 "nbformat_minor": 5
}
