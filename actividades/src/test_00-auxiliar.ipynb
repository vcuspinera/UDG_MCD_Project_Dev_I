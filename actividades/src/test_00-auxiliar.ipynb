{
 "cells": [
  {
   "cell_type": "markdown",
   "id": "68d67bf8",
   "metadata": {},
   "source": [
    "# TEST 00 - archivo auxiliar\n",
    "\n",
    "*Examen diagnóstico, introductorio a la clase de Desarrollo de Proyectos II.*\n",
    "\n",
    "<br>\n",
    "<br>\n",
    "\n",
    "Código auxiliar para responder a...  \n",
    "### **Pregunta 8. Cuál es el objetivo de la siguiente función de Python:**\n"
   ]
  },
  {
   "cell_type": "code",
   "execution_count": 2,
   "id": "65023e57",
   "metadata": {},
   "outputs": [],
   "source": [
    "# Función\n",
    "def mi_funcion(a, b, c):\n",
    "    return a + b + c"
   ]
  },
  {
   "cell_type": "code",
   "execution_count": 17,
   "id": "f23433ac",
   "metadata": {},
   "outputs": [
    {
     "data": {
      "text/plain": [
       "6"
      ]
     },
     "execution_count": 17,
     "metadata": {},
     "output_type": "execute_result"
    }
   ],
   "source": [
    "# Test con 3 números enteros\n",
    "mi_funcion(1, 2, 3)"
   ]
  },
  {
   "cell_type": "code",
   "execution_count": 18,
   "id": "27b6b6d6",
   "metadata": {},
   "outputs": [
    {
     "data": {
      "text/plain": [
       "6.6"
      ]
     },
     "execution_count": 18,
     "metadata": {},
     "output_type": "execute_result"
    }
   ],
   "source": [
    "# Test con 3 números double\n",
    "mi_funcion(1.1, 2.2, 3.3)"
   ]
  },
  {
   "cell_type": "code",
   "execution_count": 19,
   "id": "5a56469c",
   "metadata": {},
   "outputs": [
    {
     "data": {
      "text/plain": [
       "'abc'"
      ]
     },
     "execution_count": 19,
     "metadata": {},
     "output_type": "execute_result"
    }
   ],
   "source": [
    "# Test con 3 caracteres\n",
    "mi_funcion(\"a\",\"b\",\"c\")"
   ]
  },
  {
   "cell_type": "code",
   "execution_count": 22,
   "id": "67568b34",
   "metadata": {},
   "outputs": [
    {
     "data": {
      "text/plain": [
       "'Rompevientos'"
      ]
     },
     "execution_count": 22,
     "metadata": {},
     "output_type": "execute_result"
    }
   ],
   "source": [
    "# Test con 3 strings\n",
    "mi_funcion(\"Rompe\", \"vien\", \"tos\")"
   ]
  },
  {
   "cell_type": "code",
   "execution_count": 27,
   "id": "04a84fd3",
   "metadata": {},
   "outputs": [
    {
     "ename": "TypeError",
     "evalue": "can only concatenate str (not \"int\") to str",
     "output_type": "error",
     "traceback": [
      "\u001b[0;31m--------------------------------------------------------\u001b[0m",
      "\u001b[0;31mTypeError\u001b[0m              Traceback (most recent call last)",
      "\u001b[0;32m<ipython-input-27-ebf66b702018>\u001b[0m in \u001b[0;36m<module>\u001b[0;34m\u001b[0m\n\u001b[1;32m      1\u001b[0m \u001b[0;31m# Test combinando strings y números <--- Marca error\u001b[0m\u001b[0;34m\u001b[0m\u001b[0;34m\u001b[0m\u001b[0;34m\u001b[0m\u001b[0m\n\u001b[0;32m----> 2\u001b[0;31m \u001b[0mmi_funcion\u001b[0m\u001b[0;34m(\u001b[0m\u001b[0;34m\"Termi\"\u001b[0m\u001b[0;34m,\u001b[0m \u001b[0;34m\"nator\"\u001b[0m\u001b[0;34m,\u001b[0m \u001b[0;36m2\u001b[0m\u001b[0;34m)\u001b[0m\u001b[0;34m\u001b[0m\u001b[0;34m\u001b[0m\u001b[0m\n\u001b[0m",
      "\u001b[0;32m<ipython-input-2-99016810726b>\u001b[0m in \u001b[0;36mmi_funcion\u001b[0;34m(a, b, c)\u001b[0m\n\u001b[1;32m      1\u001b[0m \u001b[0;32mdef\u001b[0m \u001b[0mmi_funcion\u001b[0m\u001b[0;34m(\u001b[0m\u001b[0ma\u001b[0m\u001b[0;34m,\u001b[0m \u001b[0mb\u001b[0m\u001b[0;34m,\u001b[0m \u001b[0mc\u001b[0m\u001b[0;34m)\u001b[0m\u001b[0;34m:\u001b[0m\u001b[0;34m\u001b[0m\u001b[0;34m\u001b[0m\u001b[0m\n\u001b[0;32m----> 2\u001b[0;31m     \u001b[0;32mreturn\u001b[0m \u001b[0ma\u001b[0m \u001b[0;34m+\u001b[0m \u001b[0mb\u001b[0m \u001b[0;34m+\u001b[0m \u001b[0mc\u001b[0m\u001b[0;34m\u001b[0m\u001b[0;34m\u001b[0m\u001b[0m\n\u001b[0m",
      "\u001b[0;31mTypeError\u001b[0m: can only concatenate str (not \"int\") to str"
     ]
    }
   ],
   "source": [
    "# Test combinando strings y números <--- Marca error\n",
    "mi_funcion(\"Termi\", \"nator\", 2)"
   ]
  },
  {
   "cell_type": "code",
   "execution_count": 28,
   "id": "81a29f55",
   "metadata": {},
   "outputs": [
    {
     "data": {
      "text/plain": [
       "'Terminator2'"
      ]
     },
     "execution_count": 28,
     "metadata": {},
     "output_type": "execute_result"
    }
   ],
   "source": [
    "# Test combinando strings y números <--- Para que funcione, el número se tiene que transformar a string\n",
    "mi_funcion(\"Termi\", \"nator\", str(2))"
   ]
  },
  {
   "cell_type": "code",
   "execution_count": null,
   "id": "026e15f1",
   "metadata": {},
   "outputs": [],
   "source": []
  }
 ],
 "metadata": {
  "kernelspec": {
   "display_name": "Python 3",
   "language": "python",
   "name": "python3"
  },
  "language_info": {
   "codemirror_mode": {
    "name": "ipython",
    "version": 3
   },
   "file_extension": ".py",
   "mimetype": "text/x-python",
   "name": "python",
   "nbconvert_exporter": "python",
   "pygments_lexer": "ipython3",
   "version": "3.7.7"
  }
 },
 "nbformat": 4,
 "nbformat_minor": 5
}
