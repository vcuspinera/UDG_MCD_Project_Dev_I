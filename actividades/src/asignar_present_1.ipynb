{
 "cells": [
  {
   "cell_type": "markdown",
   "id": "fc566746",
   "metadata": {},
   "source": [
    "# Asignación de equipos para la primera ronda de presentaciones"
   ]
  },
  {
   "cell_type": "code",
   "execution_count": 1,
   "id": "1a36fef2-8fd9-4151-b2a8-271d1809a875",
   "metadata": {},
   "outputs": [],
   "source": [
    "# Importar librerías\n",
    "import numpy as np\n",
    "import pandas as pd\n",
    "import random\n",
    "\n",
    "pd.set_option('display.max_colwidth', None)"
   ]
  },
  {
   "cell_type": "code",
   "execution_count": 2,
   "id": "d03c23a6",
   "metadata": {},
   "outputs": [],
   "source": [
    "# información de equipos y alumnos\n",
    "alumnos = {\n",
    "    221973505: \"ALEJANDRO GABRIEL CAMACHO HERNANDEZ\",\n",
    "    221973467: \"MANUEL GASTELUM REYES\",\n",
    "    221973513: \"ALBERTO MARTÍNEZ LARA\",\n",
    "    221973521: \"CÉSAR AUGUSTO MEDINA MAYA\",\n",
    "    221973491: \"XUNAXHI MONSERRAT PINEDA RASGADO\",\n",
    "    209543147: \"EDUARDO RIOS LUNA\",\n",
    "    221310735: \"LUIS DANIEL SOUZA RODRIGUEZ\",\n",
    "    213272867: \"MAURICIO ARNOLDO TENORIO VARGAS\",\n",
    "    304570863: \"LUIS ENRIQUE VALLARTA ROBLEDO\",\n",
    "    304578694: \"GABRIEL VARELA TAVARES\",\n",
    "    221310778: \"RICARDO GUTIERREZ ROQUE\"\n",
    "}"
   ]
  },
  {
   "cell_type": "markdown",
   "id": "84b932e5",
   "metadata": {},
   "source": [
    "### Asignación de equipos y material\n",
    "⚠️ __Nota__: En clase se seleccionará una semilla y con base en el resultado se hará la asignación de los capítulos restantes del libro."
   ]
  },
  {
   "cell_type": "code",
   "execution_count": 3,
   "id": "93758aad",
   "metadata": {},
   "outputs": [
    {
     "name": "stdout",
     "output_type": "stream",
     "text": [
      "Selección de alumnos:\n",
      "[221973491, 209543147, 221973521, 221973467, 221310778, 304570863, 221973505, 213272867, 221310735, 304578694, 221973513]\n"
     ]
    }
   ],
   "source": [
    "# Seleccionar una semilla\n",
    "random.seed(10 + 237 + 300 + 58) # <--- CAMBIAR SEMILLA\n",
    "\n",
    "# modificar orden de los elementos\n",
    "alumnos_id = list(alumnos.keys())\n",
    "random.shuffle(alumnos_id)\n",
    "print(\"Selección de alumnos:\")\n",
    "print(alumnos_id)"
   ]
  },
  {
   "cell_type": "code",
   "execution_count": 6,
   "id": "cc5e5526-56c9-446b-88bf-2e7d92554545",
   "metadata": {},
   "outputs": [],
   "source": [
    "material = [\"01 A moment for Versioning Control\",\n",
    "            \"02 50 Years of Data Science (chapters 2, 8, 10)\",\n",
    "            \"03 Good Enough Practices Sc Computing\",\n",
    "            \"06 Art of Data Science (chapter 4)\",\n",
    "            \"05 Everybody Lies (data bases examples)\",\n",
    "            \"04 The Problem with Dates ISO8601\"]"
   ]
  },
  {
   "cell_type": "code",
   "execution_count": 7,
   "id": "830e7a6e",
   "metadata": {},
   "outputs": [
    {
     "data": {
      "text/html": [
       "<div>\n",
       "<style scoped>\n",
       "    .dataframe tbody tr th:only-of-type {\n",
       "        vertical-align: middle;\n",
       "    }\n",
       "\n",
       "    .dataframe tbody tr th {\n",
       "        vertical-align: top;\n",
       "    }\n",
       "\n",
       "    .dataframe thead th {\n",
       "        text-align: right;\n",
       "    }\n",
       "</style>\n",
       "<table border=\"1\" class=\"dataframe\">\n",
       "  <thead>\n",
       "    <tr style=\"text-align: right;\">\n",
       "      <th></th>\n",
       "      <th>Alumnos</th>\n",
       "    </tr>\n",
       "    <tr>\n",
       "      <th>Papers y documentos</th>\n",
       "      <th></th>\n",
       "    </tr>\n",
       "  </thead>\n",
       "  <tbody>\n",
       "    <tr>\n",
       "      <th>01 A moment for Versioning Control</th>\n",
       "      <td>XUNAXHI MONSERRAT PINEDA RASGADO  ///  EDUARDO RIOS LUNA</td>\n",
       "    </tr>\n",
       "    <tr>\n",
       "      <th>02 50 Years of Data Science (chapters 2, 8, 10)</th>\n",
       "      <td>CÉSAR AUGUSTO MEDINA MAYA  ///  MANUEL GASTELUM REYES</td>\n",
       "    </tr>\n",
       "    <tr>\n",
       "      <th>03 Good Enough Practices Sc Computing</th>\n",
       "      <td>RICARDO GUTIERREZ ROQUE  ///  LUIS ENRIQUE VALLARTA ROBLEDO</td>\n",
       "    </tr>\n",
       "    <tr>\n",
       "      <th>04 The Problem with Dates ISO8601</th>\n",
       "      <td>ALBERTO MARTÍNEZ LARA</td>\n",
       "    </tr>\n",
       "    <tr>\n",
       "      <th>05 Everybody Lies (data bases examples)</th>\n",
       "      <td>LUIS DANIEL SOUZA RODRIGUEZ  ///  GABRIEL VARELA TAVARES</td>\n",
       "    </tr>\n",
       "    <tr>\n",
       "      <th>06 Art of Data Science (chapter 4)</th>\n",
       "      <td>ALEJANDRO GABRIEL CAMACHO HERNANDEZ  ///  MAURICIO ARNOLDO TENORIO VARGAS</td>\n",
       "    </tr>\n",
       "  </tbody>\n",
       "</table>\n",
       "</div>"
      ],
      "text/plain": [
       "                                                                                                                   Alumnos\n",
       "Papers y documentos                                                                                                       \n",
       "01 A moment for Versioning Control                                XUNAXHI MONSERRAT PINEDA RASGADO  ///  EDUARDO RIOS LUNA\n",
       "02 50 Years of Data Science (chapters 2, 8, 10)                      CÉSAR AUGUSTO MEDINA MAYA  ///  MANUEL GASTELUM REYES\n",
       "03 Good Enough Practices Sc Computing                          RICARDO GUTIERREZ ROQUE  ///  LUIS ENRIQUE VALLARTA ROBLEDO\n",
       "04 The Problem with Dates ISO8601                                                                    ALBERTO MARTÍNEZ LARA\n",
       "05 Everybody Lies (data bases examples)                           LUIS DANIEL SOUZA RODRIGUEZ  ///  GABRIEL VARELA TAVARES\n",
       "06 Art of Data Science (chapter 4)               ALEJANDRO GABRIEL CAMACHO HERNANDEZ  ///  MAURICIO ARNOLDO TENORIO VARGAS"
      ]
     },
     "execution_count": 7,
     "metadata": {},
     "output_type": "execute_result"
    }
   ],
   "source": [
    "# Asignación de equipos\n",
    "df = dict()\n",
    "for i in range(0, len(alumnos_id), 2):\n",
    "    if i == len(alumnos_id)-1:\n",
    "        df[material[int(i/2)]] = alumnos[alumnos_id[i]]\n",
    "    else:\n",
    "        df[material[int(i/2)]] = alumnos[alumnos_id[i]] + \"  ///  \"+ alumnos[alumnos_id[i+1]]\n",
    "# Impresión de capítulo asignado por equipo \n",
    "df = pd.DataFrame(df, [\"Alumnos\"]).transpose()\n",
    "df.index.name = \"Papers y documentos\"\n",
    "df.sort_index()"
   ]
  },
  {
   "cell_type": "code",
   "execution_count": null,
   "id": "86280d36-6a20-4b42-b315-7517c037a2dd",
   "metadata": {},
   "outputs": [],
   "source": []
  }
 ],
 "metadata": {
  "kernelspec": {
   "display_name": "Python 3 (ipykernel)",
   "language": "python",
   "name": "python3"
  },
  "language_info": {
   "codemirror_mode": {
    "name": "ipython",
    "version": 3
   },
   "file_extension": ".py",
   "mimetype": "text/x-python",
   "name": "python",
   "nbconvert_exporter": "python",
   "pygments_lexer": "ipython3",
   "version": "3.10.8"
  }
 },
 "nbformat": 4,
 "nbformat_minor": 5
}
