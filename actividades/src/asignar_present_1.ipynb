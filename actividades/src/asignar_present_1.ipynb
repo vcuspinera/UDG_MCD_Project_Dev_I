{
 "cells": [
  {
   "cell_type": "markdown",
   "id": "fc566746",
   "metadata": {},
   "source": [
    "# Asignación de equipos para presentaciones de artículos y libros."
   ]
  },
  {
   "cell_type": "code",
   "execution_count": 1,
   "id": "1a36fef2-8fd9-4151-b2a8-271d1809a875",
   "metadata": {
    "tags": []
   },
   "outputs": [],
   "source": [
    "# Importar librerías\n",
    "import numpy as np\n",
    "import pandas as pd\n",
    "import random\n",
    "\n",
    "pd.set_option('display.max_colwidth', None)"
   ]
  },
  {
   "cell_type": "code",
   "execution_count": 2,
   "id": "d03c23a6",
   "metadata": {
    "tags": []
   },
   "outputs": [],
   "source": [
    "# información de equipos y alumnos\n",
    "alumnos = {\n",
    "    '323019027': 'HUGO FERNANDO ABARCA JIMENEZ',\n",
    "    '323018942': 'FERNANDO ARTURO AREVALO PEREZ',\n",
    "    '323018977': 'CRISTIAN ULISES BARENCA SOTELO',\n",
    "    '323018926': 'EDUARDO CARLOS FLETES ARECHIGA',\n",
    "    '323019043': 'OSCAR FERNANDO FLORES GARCIA',\n",
    "    '208763291': 'MARIA DEL CARMEN HERRERA JIMENEZ',\n",
    "    '216910473': 'EYDER URIEL KINIL CERVERA',\n",
    "    '210674077': 'JOSE LUIS MEDRANO MEDRANO',\n",
    "    '091420465': 'CARLOS OCTAVIO MENDOZA RUIZ'\n",
    "}"
   ]
  },
  {
   "cell_type": "markdown",
   "id": "84b932e5",
   "metadata": {},
   "source": [
    "### Asignación de equipos y material\n",
    "⚠️ __Nota__: En clase se seleccionará una semilla y con base en el resultado se hará la asignación de los capítulos restantes del libro."
   ]
  },
  {
   "cell_type": "code",
   "execution_count": 3,
   "id": "93758aad",
   "metadata": {
    "tags": []
   },
   "outputs": [
    {
     "name": "stdout",
     "output_type": "stream",
     "text": [
      "Selección de alumnos:\n",
      "['210674077', '323019027', '208763291', '323018977', '216910473', '091420465', '323018926', '323019043', '323018942']\n"
     ]
    }
   ],
   "source": [
    "# Seleccionar una semilla\n",
    "random.seed(10 + 3 + 38 + 15) # <--- CAMBIAR SEMILLA\n",
    "\n",
    "# modificar orden de los elementos\n",
    "alumnos_id = list(alumnos.keys())\n",
    "random.shuffle(alumnos_id)\n",
    "print(\"Selección de alumnos:\")\n",
    "print(alumnos_id)"
   ]
  },
  {
   "cell_type": "code",
   "execution_count": 4,
   "id": "cc5e5526-56c9-446b-88bf-2e7d92554545",
   "metadata": {
    "tags": []
   },
   "outputs": [],
   "source": [
    "material = [\"⭐️01: A moment for Versioning Control\",\n",
    "            \"⭐️04: Everybody Lies (≥ 10 bases de datos utilizadas, su fuente y cómo fue usada)\",\n",
    "            \"⭐️05: Art of Data Science (caps. 4-5)\",\n",
    "            \"⭐️02: Good Enough Practices Sc Computing y ⭐️03: The Problem with Dates ISO8601\"]"
   ]
  },
  {
   "cell_type": "code",
   "execution_count": 5,
   "id": "830e7a6e",
   "metadata": {
    "tags": []
   },
   "outputs": [
    {
     "data": {
      "text/html": [
       "<div>\n",
       "<style scoped>\n",
       "    .dataframe tbody tr th:only-of-type {\n",
       "        vertical-align: middle;\n",
       "    }\n",
       "\n",
       "    .dataframe tbody tr th {\n",
       "        vertical-align: top;\n",
       "    }\n",
       "\n",
       "    .dataframe thead th {\n",
       "        text-align: right;\n",
       "    }\n",
       "</style>\n",
       "<table border=\"1\" class=\"dataframe\">\n",
       "  <thead>\n",
       "    <tr style=\"text-align: right;\">\n",
       "      <th></th>\n",
       "      <th>Alumnos</th>\n",
       "    </tr>\n",
       "    <tr>\n",
       "      <th>Papers y documentos</th>\n",
       "      <th></th>\n",
       "    </tr>\n",
       "  </thead>\n",
       "  <tbody>\n",
       "    <tr>\n",
       "      <th>⭐️01: A moment for Versioning Control</th>\n",
       "      <td>1️⃣JOSE LUIS MEDRANO MEDRANO , 2️⃣HUGO FERNANDO ABARCA JIMENEZ</td>\n",
       "    </tr>\n",
       "    <tr>\n",
       "      <th>⭐️02: Good Enough Practices Sc Computing y ⭐️03: The Problem with Dates ISO8601</th>\n",
       "      <td>1️⃣EDUARDO CARLOS FLETES ARECHIGA , 2️⃣OSCAR FERNANDO FLORES GARCIA , 3️⃣FERNANDO ARTURO AREVALO PEREZ</td>\n",
       "    </tr>\n",
       "    <tr>\n",
       "      <th>⭐️04: Everybody Lies (≥ 10 bases de datos utilizadas, su fuente y cómo fue usada)</th>\n",
       "      <td>1️⃣MARIA DEL CARMEN HERRERA JIMENEZ , 2️⃣CRISTIAN ULISES BARENCA SOTELO</td>\n",
       "    </tr>\n",
       "    <tr>\n",
       "      <th>⭐️05: Art of Data Science (caps. 4-5)</th>\n",
       "      <td>1️⃣EYDER URIEL KINIL CERVERA , 2️⃣CARLOS OCTAVIO MENDOZA RUIZ</td>\n",
       "    </tr>\n",
       "  </tbody>\n",
       "</table>\n",
       "</div>"
      ],
      "text/plain": [
       "                                                                                                                                                                                  Alumnos\n",
       "Papers y documentos                                                                                                                                                                      \n",
       "⭐️01: A moment for Versioning Control                                                                                      1️⃣JOSE LUIS MEDRANO MEDRANO , 2️⃣HUGO FERNANDO ABARCA JIMENEZ\n",
       "⭐️02: Good Enough Practices Sc Computing y ⭐️03: The Problem with Dates ISO8601    1️⃣EDUARDO CARLOS FLETES ARECHIGA , 2️⃣OSCAR FERNANDO FLORES GARCIA , 3️⃣FERNANDO ARTURO AREVALO PEREZ\n",
       "⭐️04: Everybody Lies (≥ 10 bases de datos utilizadas, su fuente y cómo fue usada)                                 1️⃣MARIA DEL CARMEN HERRERA JIMENEZ , 2️⃣CRISTIAN ULISES BARENCA SOTELO\n",
       "⭐️05: Art of Data Science (caps. 4-5)                                                                                       1️⃣EYDER URIEL KINIL CERVERA , 2️⃣CARLOS OCTAVIO MENDOZA RUIZ"
      ]
     },
     "execution_count": 5,
     "metadata": {},
     "output_type": "execute_result"
    }
   ],
   "source": [
    "# Asignación de equipos\n",
    "df = dict()\n",
    "j = 0\n",
    "for i in range(0, len(alumnos_id)-2, 2):\n",
    "    if i == 6:\n",
    "        df[material[j]] = \"1️⃣\" + alumnos[alumnos_id[i]] + \" , 2️⃣\"+ alumnos[alumnos_id[i+1]] + \" , 3️⃣\"+ alumnos[alumnos_id[i+2]]\n",
    "        next\n",
    "    else:\n",
    "        df[material[j]] = \"1️⃣\" + alumnos[alumnos_id[i]] + \" , 2️⃣\"+ alumnos[alumnos_id[i+1]]\n",
    "    \n",
    "    j += 1\n",
    "\n",
    "# Impresión de capítulo asignado por equipo \n",
    "df = pd.DataFrame(df, [\"Alumnos\"]).transpose()\n",
    "df.index.name = \"Papers y documentos\"\n",
    "df.sort_index()"
   ]
  },
  {
   "cell_type": "code",
   "execution_count": null,
   "id": "86280d36-6a20-4b42-b315-7517c037a2dd",
   "metadata": {},
   "outputs": [],
   "source": []
  }
 ],
 "metadata": {
  "kernelspec": {
   "display_name": "Python 3 (ipykernel)",
   "language": "python",
   "name": "python3"
  },
  "language_info": {
   "codemirror_mode": {
    "name": "ipython",
    "version": 3
   },
   "file_extension": ".py",
   "mimetype": "text/x-python",
   "name": "python",
   "nbconvert_exporter": "python",
   "pygments_lexer": "ipython3",
   "version": "3.11.5"
  }
 },
 "nbformat": 4,
 "nbformat_minor": 5
}
