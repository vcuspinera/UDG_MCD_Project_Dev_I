{
 "cells": [
  {
   "cell_type": "markdown",
   "id": "fc566746",
   "metadata": {},
   "source": [
    "# Asignación de equipos para la 1º ronda de presentaciones"
   ]
  },
  {
   "cell_type": "code",
   "execution_count": 1,
   "id": "1a36fef2-8fd9-4151-b2a8-271d1809a875",
   "metadata": {},
   "outputs": [],
   "source": [
    "# Importar librerías\n",
    "import numpy as np\n",
    "import pandas as pd\n",
    "import random\n",
    "\n",
    "pd.set_option('display.max_colwidth', None)"
   ]
  },
  {
   "cell_type": "code",
   "execution_count": 2,
   "id": "d03c23a6",
   "metadata": {},
   "outputs": [],
   "source": [
    "# información de equipos y alumnos\n",
    "alumnos = {\n",
    "    222980378: 'JORGE ARTURO HERRERA RAMIREZ',\n",
    "    222980386: 'DANIEL ISITA ASCENCIO',\n",
    "    214509127: 'REYNA VIVIANA JARAMILLO FLORES',\n",
    "    222980297: 'LARISA IRENE LOPEZ PAYAN',\n",
    "    222980335: 'MIGUEL ANGEL LOPEZ ROJAS',\n",
    "    210229944: 'ALEJANDRO NATHANAEL MARTIN DE CAMPO BARBA',\n",
    "    209538895: 'GUSTAVO MENDOZA NAVARRO',\n",
    "    222980327: 'LEONARDO DANIEL PANTOJA MORFIN',\n",
    "    222980246: 'JOSE MIGUEL RAMIREZ GALAN',\n",
    "    222980262: 'ROBERTO CARLOS RAMIREZ RAMOS',\n",
    "    222980351: 'CESAR KEVIN ROMERO HEREDIA',\n",
    "    302386283: 'JOSUE SANCHEZ ACOSTA',\n",
    "    222980343: 'VICTOR TELLEZ GARCIA',\n",
    "    222980289: 'YUKIE TESHIBA ZUBIETA'\n",
    "}"
   ]
  },
  {
   "cell_type": "markdown",
   "id": "84b932e5",
   "metadata": {},
   "source": [
    "### Asignación de equipos y material\n",
    "⚠️ __Nota__: En clase se seleccionará una semilla y con base en el resultado se hará la asignación de los capítulos restantes del libro."
   ]
  },
  {
   "cell_type": "code",
   "execution_count": 3,
   "id": "93758aad",
   "metadata": {},
   "outputs": [
    {
     "name": "stdout",
     "output_type": "stream",
     "text": [
      "Selección de alumnos:\n",
      "[222980378, 222980297, 209538895, 222980289, 222980335, 222980327, 222980351, 302386283, 222980246, 210229944, 214509127, 222980262, 222980343, 222980386]\n"
     ]
    }
   ],
   "source": [
    "# Seleccionar una semilla\n",
    "random.seed(42 + 3 + 6 + 14 + 7) # <--- CAMBIAR SEMILLA\n",
    "\n",
    "# modificar orden de los elementos\n",
    "alumnos_id = list(alumnos.keys())\n",
    "random.shuffle(alumnos_id)\n",
    "print(\"Selección de alumnos:\")\n",
    "print(alumnos_id)"
   ]
  },
  {
   "cell_type": "code",
   "execution_count": 4,
   "id": "cc5e5526-56c9-446b-88bf-2e7d92554545",
   "metadata": {},
   "outputs": [],
   "source": [
    "material = [\"⭐️01: 50 Years of Data Science (caps. 1-2, 7-10)\",\n",
    "            \"⭐️03: Good Enough Practices Sc Computing y ⭐️04: The Problem with Dates ISO8601\",\n",
    "            \"⭐️05: Everybody Lies (≥ 10 bases de datos utilizadas, su fuente y cómo fue usada)\",\n",
    "            \"⭐️06: Art of Data Science (caps. 4-5)\",\n",
    "            \"⭐️02: A moment for Versioning Control\"]"
   ]
  },
  {
   "cell_type": "code",
   "execution_count": 5,
   "id": "830e7a6e",
   "metadata": {},
   "outputs": [
    {
     "data": {
      "text/html": [
       "<div>\n",
       "<style scoped>\n",
       "    .dataframe tbody tr th:only-of-type {\n",
       "        vertical-align: middle;\n",
       "    }\n",
       "\n",
       "    .dataframe tbody tr th {\n",
       "        vertical-align: top;\n",
       "    }\n",
       "\n",
       "    .dataframe thead th {\n",
       "        text-align: right;\n",
       "    }\n",
       "</style>\n",
       "<table border=\"1\" class=\"dataframe\">\n",
       "  <thead>\n",
       "    <tr style=\"text-align: right;\">\n",
       "      <th></th>\n",
       "      <th>Alumnos</th>\n",
       "    </tr>\n",
       "    <tr>\n",
       "      <th>Papers y documentos</th>\n",
       "      <th></th>\n",
       "    </tr>\n",
       "  </thead>\n",
       "  <tbody>\n",
       "    <tr>\n",
       "      <th>⭐️01: 50 Years of Data Science (caps. 1-2, 7-10)</th>\n",
       "      <td>1️⃣JORGE ARTURO HERRERA RAMIREZ , 2️⃣LARISA IRENE LOPEZ PAYAN , 3️⃣GUSTAVO MENDOZA NAVARRO</td>\n",
       "    </tr>\n",
       "    <tr>\n",
       "      <th>⭐️02: A moment for Versioning Control</th>\n",
       "      <td>1️⃣VICTOR TELLEZ GARCIA , 2️⃣DANIEL ISITA ASCENCIO</td>\n",
       "    </tr>\n",
       "    <tr>\n",
       "      <th>⭐️03: Good Enough Practices Sc Computing y ⭐️04: The Problem with Dates ISO8601</th>\n",
       "      <td>1️⃣YUKIE TESHIBA ZUBIETA , 2️⃣MIGUEL ANGEL LOPEZ ROJAS , 3️⃣LEONARDO DANIEL PANTOJA MORFIN</td>\n",
       "    </tr>\n",
       "    <tr>\n",
       "      <th>⭐️05: Everybody Lies (≥ 10 bases de datos utilizadas, su fuente y cómo fue usada)</th>\n",
       "      <td>1️⃣CESAR KEVIN ROMERO HEREDIA , 2️⃣JOSUE SANCHEZ ACOSTA , 3️⃣JOSE MIGUEL RAMIREZ GALAN</td>\n",
       "    </tr>\n",
       "    <tr>\n",
       "      <th>⭐️06: Art of Data Science (caps. 4-5)</th>\n",
       "      <td>1️⃣ALEJANDRO NATHANAEL MARTIN DE CAMPO BARBA , 2️⃣REYNA VIVIANA JARAMILLO FLORES , 3️⃣ROBERTO CARLOS RAMIREZ RAMOS</td>\n",
       "    </tr>\n",
       "  </tbody>\n",
       "</table>\n",
       "</div>"
      ],
      "text/plain": [
       "                                                                                                                                                                                              Alumnos\n",
       "Papers y documentos                                                                                                                                                                                  \n",
       "⭐️01: 50 Years of Data Science (caps. 1-2, 7-10)                                                           1️⃣JORGE ARTURO HERRERA RAMIREZ , 2️⃣LARISA IRENE LOPEZ PAYAN , 3️⃣GUSTAVO MENDOZA NAVARRO\n",
       "⭐️02: A moment for Versioning Control                                                                                                              1️⃣VICTOR TELLEZ GARCIA , 2️⃣DANIEL ISITA ASCENCIO\n",
       "⭐️03: Good Enough Practices Sc Computing y ⭐️04: The Problem with Dates ISO8601                            1️⃣YUKIE TESHIBA ZUBIETA , 2️⃣MIGUEL ANGEL LOPEZ ROJAS , 3️⃣LEONARDO DANIEL PANTOJA MORFIN\n",
       "⭐️05: Everybody Lies (≥ 10 bases de datos utilizadas, su fuente y cómo fue usada)                              1️⃣CESAR KEVIN ROMERO HEREDIA , 2️⃣JOSUE SANCHEZ ACOSTA , 3️⃣JOSE MIGUEL RAMIREZ GALAN\n",
       "⭐️06: Art of Data Science (caps. 4-5)                                              1️⃣ALEJANDRO NATHANAEL MARTIN DE CAMPO BARBA , 2️⃣REYNA VIVIANA JARAMILLO FLORES , 3️⃣ROBERTO CARLOS RAMIREZ RAMOS"
      ]
     },
     "execution_count": 5,
     "metadata": {},
     "output_type": "execute_result"
    }
   ],
   "source": [
    "# Asignación de equipos\n",
    "df = dict()\n",
    "j = 0\n",
    "for i in range(0, len(alumnos_id), 3):\n",
    "    try:\n",
    "        df[material[j]] = \"1️⃣\" + alumnos[alumnos_id[i]] + \" , 2️⃣\"+ alumnos[alumnos_id[i+1]] + \" , 3️⃣\"+ alumnos[alumnos_id[i+2]]\n",
    "    except:\n",
    "        df[material[j]] = \"1️⃣\" + alumnos[alumnos_id[i]] + \" , 2️⃣\"+ alumnos[alumnos_id[i+1]]\n",
    "    j += 1\n",
    "\n",
    "# Impresión de capítulo asignado por equipo \n",
    "df = pd.DataFrame(df, [\"Alumnos\"]).transpose()\n",
    "df.index.name = \"Papers y documentos\"\n",
    "df.sort_index()"
   ]
  },
  {
   "cell_type": "code",
   "execution_count": null,
   "id": "86280d36-6a20-4b42-b315-7517c037a2dd",
   "metadata": {},
   "outputs": [],
   "source": []
  }
 ],
 "metadata": {
  "kernelspec": {
   "display_name": "Python 3 (ipykernel)",
   "language": "python",
   "name": "python3"
  },
  "language_info": {
   "codemirror_mode": {
    "name": "ipython",
    "version": 3
   },
   "file_extension": ".py",
   "mimetype": "text/x-python",
   "name": "python",
   "nbconvert_exporter": "python",
   "pygments_lexer": "ipython3",
   "version": "3.10.8"
  }
 },
 "nbformat": 4,
 "nbformat_minor": 5
}
