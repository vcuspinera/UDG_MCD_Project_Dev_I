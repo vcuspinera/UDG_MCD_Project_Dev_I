{
 "cells": [
  {
   "cell_type": "markdown",
   "id": "21cca3e0",
   "metadata": {},
   "source": [
    "# Asignación de capítulos 6 a 9 del libro\n",
    "### Información básica"
   ]
  },
  {
   "cell_type": "code",
   "execution_count": 1,
   "id": "7626354a",
   "metadata": {},
   "outputs": [],
   "source": [
    "# Importar librerías\n",
    "import numpy as np\n",
    "import pandas as pd\n",
    "import random"
   ]
  },
  {
   "cell_type": "code",
   "execution_count": 2,
   "id": "34ba69ae",
   "metadata": {},
   "outputs": [],
   "source": [
    "# información de equipos y alumnos\n",
    "equipos = {\n",
    "    1: \"alumno1 y alumno2\",\n",
    "    2: \"alumno3 y alumno4\",\n",
    "    3: \"alumno5 y alumno6\",\n",
    "    4: \"alumno7 y alumno8\",\n",
    "    5: \"alumno9 y alumno10\"\n",
    "}"
   ]
  },
  {
   "cell_type": "markdown",
   "id": "86d2c3fd",
   "metadata": {},
   "source": [
    "### Asignación de capítulos\n",
    "⚠️ __Nota__: En clase se seleccionará una semilla y con base en el resultado se hará la asignación de los capítulos restantes del libro."
   ]
  },
  {
   "cell_type": "code",
   "execution_count": 13,
   "id": "3e552d88",
   "metadata": {},
   "outputs": [
    {
     "name": "stdout",
     "output_type": "stream",
     "text": [
      "Orden de capítulos:\n",
      "[5 3 2 1 4]\n"
     ]
    }
   ],
   "source": [
    "# Seleccionar una semilla\n",
    "random.seed(1000) \n",
    "\n",
    "# capítulos del libro 1 a 5\n",
    "capitulos = np.arange(1,6)\n",
    "# # capítulos del libro 6 a 9, y 10 es quien no expondrá\n",
    "# capitulos = np.arange(6,11)\n",
    "\n",
    "\n",
    "# modificar orden de los elementos\n",
    "random.shuffle(capitulos)\n",
    "print(\"Orden de capítulos:\")\n",
    "print(capitulos)"
   ]
  },
  {
   "cell_type": "code",
   "execution_count": 14,
   "id": "7796f8fd",
   "metadata": {},
   "outputs": [
    {
     "data": {
      "text/html": [
       "<div>\n",
       "<style scoped>\n",
       "    .dataframe tbody tr th:only-of-type {\n",
       "        vertical-align: middle;\n",
       "    }\n",
       "\n",
       "    .dataframe tbody tr th {\n",
       "        vertical-align: top;\n",
       "    }\n",
       "\n",
       "    .dataframe thead th {\n",
       "        text-align: right;\n",
       "    }\n",
       "</style>\n",
       "<table border=\"1\" class=\"dataframe\">\n",
       "  <thead>\n",
       "    <tr style=\"text-align: right;\">\n",
       "      <th></th>\n",
       "      <th>Equipo</th>\n",
       "      <th>Alumnos</th>\n",
       "      <th>Capitulo</th>\n",
       "    </tr>\n",
       "  </thead>\n",
       "  <tbody>\n",
       "    <tr>\n",
       "      <th>0</th>\n",
       "      <td>4</td>\n",
       "      <td>alumno7 y alumno8</td>\n",
       "      <td>1</td>\n",
       "    </tr>\n",
       "    <tr>\n",
       "      <th>1</th>\n",
       "      <td>3</td>\n",
       "      <td>alumno5 y alumno6</td>\n",
       "      <td>2</td>\n",
       "    </tr>\n",
       "    <tr>\n",
       "      <th>2</th>\n",
       "      <td>2</td>\n",
       "      <td>alumno3 y alumno4</td>\n",
       "      <td>3</td>\n",
       "    </tr>\n",
       "    <tr>\n",
       "      <th>3</th>\n",
       "      <td>5</td>\n",
       "      <td>alumno9 y alumno10</td>\n",
       "      <td>4</td>\n",
       "    </tr>\n",
       "    <tr>\n",
       "      <th>4</th>\n",
       "      <td>1</td>\n",
       "      <td>alumno1 y alumno2</td>\n",
       "      <td>5</td>\n",
       "    </tr>\n",
       "  </tbody>\n",
       "</table>\n",
       "</div>"
      ],
      "text/plain": [
       "   Equipo             Alumnos  Capitulo\n",
       "0       4   alumno7 y alumno8         1\n",
       "1       3   alumno5 y alumno6         2\n",
       "2       2   alumno3 y alumno4         3\n",
       "3       5  alumno9 y alumno10         4\n",
       "4       1   alumno1 y alumno2         5"
      ]
     },
     "execution_count": 14,
     "metadata": {},
     "output_type": "execute_result"
    }
   ],
   "source": [
    "# Resultado de asignación\n",
    "df = pd.DataFrame.from_dict(equipos, orient='index', columns=['Alumnos'])\n",
    "df.index.name = \"Equipo\"\n",
    "df = df.reset_index()\n",
    "df = pd.concat([df, pd.DataFrame(capitulos, columns=['Capitulo'])], axis=1)\\\n",
    "               .sort_values(by='Capitulo').reset_index(drop=True).replace(10, \"N/A\")\n",
    "df"
   ]
  }
 ],
 "metadata": {
  "kernelspec": {
   "display_name": "Python 3",
   "language": "python",
   "name": "python3"
  },
  "language_info": {
   "codemirror_mode": {
    "name": "ipython",
    "version": 3
   },
   "file_extension": ".py",
   "mimetype": "text/x-python",
   "name": "python",
   "nbconvert_exporter": "python",
   "pygments_lexer": "ipython3",
   "version": "3.7.7"
  }
 },
 "nbformat": 4,
 "nbformat_minor": 5
}
