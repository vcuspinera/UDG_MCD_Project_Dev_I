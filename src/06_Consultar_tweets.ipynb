{
 "cells": [
  {
   "cell_type": "markdown",
   "id": "199d1ad6",
   "metadata": {},
   "source": [
    "# Análisis de tweets\n",
    "\n",
    "En este notebook se revisará cómo consultar tweets usando Python."
   ]
  },
  {
   "cell_type": "code",
   "execution_count": 62,
   "id": "2d3f3727",
   "metadata": {},
   "outputs": [],
   "source": [
    "# Basic libraries\n",
    "import pandas as pd\n",
    "import numpy as np"
   ]
  },
  {
   "cell_type": "markdown",
   "id": "5bd8b95d",
   "metadata": {},
   "source": [
    "## 1. Consultar tweets\n",
    "Existen distintas librerías para consultar tweets y cada una de ellas tiene sus ventajas y desventajas. La manera oficial es hacerlo a través de la aplicación oficial de Twitter obteniendo acceso como desarrollador (`Twitter API`) para la cual se requiere solicitar una cuenta. Existen algunas alternativas que en lo personal he utilizado, aunque para usarlas hay que familiarizarse con ellas, como `GetOldTweets3` y `snscrape` pues no están tan bien documentadas.\n",
    "\n",
    "Es importante mencionar que las consultas de twitter usualmente arrojan información en formato `json`, los cuales siguen una estructura parecida a los diccionarios de Python y, en caso de guardar estos archivos, se recomienda guardarlos en formato `.json` en el lugar de convertirlos a `.xls`, `.csv`, `.txt` o `npy` para no perder información.\n",
    "\n",
    "### 1.1 Cuenta de desarrollador de Twitter\n",
    "Esta cuenta no tiene costo, aunque sí existe limitación en número de tweets consultados por día. El primer paso es [solicitar una cuenta de desarrollador](https://developer.twitter.com/en/portal/dashboard). Para quien esté interesado en obtener una cuenta les comparto un par de links que les podrían ser útiles\n",
    "\n",
    "- [Twitter API Data Collection](https://www.youtube.com/watch?v=Jl-_dDqSaUQ&t=59s) por Stevesie Data, ver del minuto 0:59 al 1:44.\n",
    "- [Ejemplo de aplicación para cuenta de desarrollador en Twitter](https://wptweetboost.com/example-of-the-twitter-developer-account-application-process/) por Hudson Atwell.\n",
    "\n",
    "Una vez que hayan obtenido su solicitud para abrir cuenta de desarrollador haya sido aceptada, podrán encontrar su llave de autenticación en este [link](https://developer.twitter.com/en/portal/projects-and-apps): `API key`, `API secret key`, `Access token` y `Access token secret`.\n",
    "\n",
    "La API de Twitter algunas limitaciones para consultar tweets descritas en este [link](https://developer.twitter.com/en/docs/tweets/search/api-reference/get-search-tweets)."
   ]
  },
  {
   "cell_type": "code",
   "execution_count": 63,
   "id": "c8093d2f",
   "metadata": {},
   "outputs": [],
   "source": [
    "# librerías\n",
    "import twitter"
   ]
  },
  {
   "cell_type": "code",
   "execution_count": 64,
   "id": "ae5e0a78",
   "metadata": {},
   "outputs": [],
   "source": [
    "# Traer MI llave de twitter\n",
    "# keys = ! ../keys/twitter_config.py\n",
    "keys = ! ../keys/twitter_config_keys.py\n",
    "\n",
    "# Save keys to use them later\n",
    "api = twitter.Api(consumer_key = keys[0],\n",
    "                  consumer_secret = keys[1],\n",
    "                  access_token_key = keys[2],\n",
    "                  access_token_secret = keys[3],\n",
    "                  sleep_on_rate_limit=True #\n",
    "                 )"
   ]
  },
  {
   "cell_type": "code",
   "execution_count": 66,
   "id": "2e2ab69e",
   "metadata": {},
   "outputs": [],
   "source": [
    "## Código para revisar mis llaves\n",
    "#keys"
   ]
  },
  {
   "cell_type": "code",
   "execution_count": 136,
   "id": "e686eda0",
   "metadata": {},
   "outputs": [],
   "source": [
    "# Parámetros\n",
    "num_tweets = 100\n",
    "max_tweets = 180\n",
    "time_epoc = 900 # 15 minutes = 900 seconds\n",
    "a_buscar = \"JustinTrudeau\""
   ]
  },
  {
   "cell_type": "code",
   "execution_count": 137,
   "id": "5844e282",
   "metadata": {},
   "outputs": [],
   "source": [
    "# consulta de tweets\n",
    "\n",
    "# for d in range(0, len(dates)-1):\n",
    "# #     for da in dates:\n",
    "#     print(dates[d] + \" : \" + a_buscar)\n",
    "results = api.GetSearch(\n",
    "    raw_query = \"q=\" + a_buscar + \n",
    "                \"%20&until=\" + \"2022-04-27\" +\n",
    "                \"&count=\" + str(num_tweets)\n",
    ")"
   ]
  },
  {
   "cell_type": "code",
   "execution_count": 144,
   "id": "0d96d0c5",
   "metadata": {},
   "outputs": [
    {
     "data": {
      "text/plain": [
       "Status(ID=1519103981674397697, ScreenName=Frederico999999, Created=Tue Apr 26 23:59:47 +0000 2022, Text='@JustinTrudeau We can’t afford your budget, it’s killing families')"
      ]
     },
     "execution_count": 144,
     "metadata": {},
     "output_type": "execute_result"
    }
   ],
   "source": [
    "# Ejemplo de resultado\n",
    "# la consulta la regresa en \n",
    "results[1]"
   ]
  },
  {
   "cell_type": "markdown",
   "id": "12334cc1",
   "metadata": {},
   "source": [
    "⚠️ __Desventajas__, el obtener una cuenta de desarrollador en Twitter puede tardar tiempo y además de tener restricciones como un tiempo máximo de días previos de consulta (e.g. no se puede consultar tweets de principios de año), además de un número de existir un máximo número de tweets."
   ]
  },
  {
   "cell_type": "markdown",
   "id": "0f58d777",
   "metadata": {},
   "source": [
    "### 1.2 Librería `GetOldTweets3`\n",
    "Esta es una librería está relativamente bien documentada donde se pueden conusltar tweets relativamente antiguos. Para más información pueden consultar la [descripción del paquete](https://pypi.org/project/GetOldTweets3/) con las indicaciones para su instalación y la [página del paquete en GitHub](https://github.com/Mottl/GetOldTweets3).\n",
    "\n",
    "Es importante mencionar que actualmente este paquete no funciona."
   ]
  },
  {
   "cell_type": "code",
   "execution_count": 123,
   "id": "caba3b23",
   "metadata": {},
   "outputs": [],
   "source": [
    "# librerías\n",
    "import GetOldTweets3 as got "
   ]
  },
  {
   "cell_type": "code",
   "execution_count": 131,
   "id": "d920a688",
   "metadata": {},
   "outputs": [],
   "source": [
    "# Partámetros para consulta\n",
    "tweetCriteria = got.manager.TweetCriteria().setUsername(\"JustinTrudeau\")\\\n",
    "                                           .setTopTweets(True)\\\n",
    "                                           .setMaxTweets(10)"
   ]
  },
  {
   "cell_type": "code",
   "execution_count": 132,
   "id": "0114ee0d",
   "metadata": {},
   "outputs": [
    {
     "data": {
      "text/plain": [
       "<GetOldTweets3.manager.TweetCriteria.TweetCriteria at 0x7fae685ea310>"
      ]
     },
     "execution_count": 132,
     "metadata": {},
     "output_type": "execute_result"
    }
   ],
   "source": [
    "# esto se almacena en un objeto\n",
    "tweetCriteria"
   ]
  },
  {
   "cell_type": "code",
   "execution_count": 134,
   "id": "c94ebbf9",
   "metadata": {},
   "outputs": [],
   "source": [
    "## Al realizar la consulta arroja error\n",
    "# tweet = got.manager.TweetManager.getTweets(tweetCriteria)[0]\n",
    "# print(tweet.text)"
   ]
  },
  {
   "cell_type": "markdown",
   "id": "261d81ea",
   "metadata": {},
   "source": [
    "⚠️ __Desventajas__, actualmente este paquete no funciona de forma correcta. En la siguiente liga se comparte el error, el cual ha sido persistente desde septiembre 2020 https://github.com/Mottl/GetOldTweets3/issues/98"
   ]
  },
  {
   "cell_type": "markdown",
   "id": "fe64018a",
   "metadata": {},
   "source": [
    "### 1.3 Librería `snscrape`\n",
    "Esta librería es la mejor alternativa que he utilizado para bajar tweets, aunque aún falta mejorar la documentación. Además, esta librería sirve para bajar consultar información de otras fuentes entre las que se encuentran Facebook, Instagram y Telegram."
   ]
  },
  {
   "cell_type": "code",
   "execution_count": 135,
   "id": "4fbbb505",
   "metadata": {},
   "outputs": [],
   "source": [
    "# librerías\n",
    "import snscrape.modules.twitter as sntwitter"
   ]
  },
  {
   "cell_type": "code",
   "execution_count": 154,
   "id": "066f35b6",
   "metadata": {},
   "outputs": [],
   "source": [
    "# parametros\n",
    "account = \"JustinTrudeau\"\n",
    "max_results = 1_000"
   ]
  },
  {
   "cell_type": "code",
   "execution_count": 160,
   "id": "bd7d7fdb",
   "metadata": {},
   "outputs": [
    {
     "data": {
      "text/plain": [
       "<generator object TwitterSearchScraper.get_items at 0x7fae68c07f50>"
      ]
     },
     "execution_count": 160,
     "metadata": {},
     "output_type": "execute_result"
    }
   ],
   "source": [
    "# se genera consulta\n",
    "tweets_search = sntwitter.TwitterSearchScraper('from:'+account).get_items() \n",
    "\n",
    "# objeto con información\n",
    "tweets_search"
   ]
  },
  {
   "cell_type": "code",
   "execution_count": 161,
   "id": "2fc2a821",
   "metadata": {},
   "outputs": [],
   "source": [
    "# visualizar tweets\n",
    "tweets_list = []\n",
    "try:\n",
    "    for i,tweet in enumerate(tweets_search): \n",
    "        if i >= max_results: #number of tweets you want to scrape\n",
    "            break\n",
    "        tweets_list.append([tweet.date, tweet.id, tweet.url, tweet.outlinks[0], tweet.content, tweet.username]) #declare the attributes to be returned\n",
    "except:\n",
    "    next            "
   ]
  },
  {
   "cell_type": "code",
   "execution_count": 172,
   "id": "14f21639",
   "metadata": {},
   "outputs": [
    {
     "data": {
      "text/plain": [
       "[datetime.datetime(2022, 4, 27, 17, 49, 41, tzinfo=datetime.timezone.utc),\n",
       " 1519373232779968512,\n",
       " 'https://twitter.com/JustinTrudeau/status/1519373232779968512',\n",
       " 'https://bit.ly/3vkuLFD',\n",
       " 'We’re imposing sanctions on 203 individuals complicit in the attempted annexation of certain areas of Donbass, Ukraine – because they are complicit in the Russian regime’s ongoing violations of Ukraine’s sovereignty and territorial integrity. More details: https://t.co/htAM4bI7lM',\n",
       " 'JustinTrudeau']"
      ]
     },
     "execution_count": 172,
     "metadata": {},
     "output_type": "execute_result"
    }
   ],
   "source": [
    "tweets_list[0]"
   ]
  },
  {
   "cell_type": "markdown",
   "id": "5c47f16f",
   "metadata": {},
   "source": [
    "# Referencias\n",
    "- **API de Twitter**\n",
    "    - [Solicitud de cuenta de desarrollador](https://developer.twitter.com/en/portal/dashboard)\n",
    "    - [Twitter API Data Collection](https://www.youtube.com/watch?v=Jl-_dDqSaUQ&t=59s) por Stevesie Data (minuto 0:59 al 1:44)\n",
    "    - [Ejemplo de aplicación para cuenta de desarrollador en Twitter](https://wptweetboost.com/example-of-the-twitter-developer-account-application-process/) por Hudson Atwell.\n",
    "    - [Ejemplo de uso](https://github.com/vcuspinera/Canada_response_covid/blob/master/src/twitter-search_v1_TwitterAPI.ipynb)  \n",
    "\n",
    "    \n",
    "- **librería `GetOldTweets`**\n",
    "    - [Descripción del paquete](https://pypi.org/project/GetOldTweets3/) \n",
    "    - [Página del paquete en GitHub](https://github.com/Mottl/GetOldTweets3)\n",
    "    - [Error del paquete](https://github.com/Mottl/GetOldTweets3/issues/98)\n",
    "    - [Ejemplo de uso](https://github.com/vcuspinera/Canada_response_covid/blob/master/src/twitter-search_v2_GetOldTweets3.ipynb)  \n",
    "    \n",
    "    \n",
    "- **librería `snscrape`**\n",
    "    - [Descripción del paquete](https://pypi.org/project/snscrape/) \n",
    "    - [Página del paquete en GitHub](https://github.com/JustAnotherArchivist/snscrape)\n",
    "    - [Ejemplo de uso](https://github.com/vcuspinera/Canada_response_covid/blob/master/src/twitter-search_v3_snscrape.ipynb)  \n",
    "    \n",
    "\n",
    "- **Artículos**\n",
    "    - [How to scrape millions of tweets using snscrape](https://medium.com/dataseries/how-to-scrape-millions-of-tweets-using-snscrape-195ee3594721) por Rashi Desai.\n",
    "    - [How to Scrape Tweets With snscrape](https://betterprogramming.pub/how-to-scrape-tweets-with-snscrape-90124ed006af) por Martin Beck."
   ]
  },
  {
   "cell_type": "code",
   "execution_count": null,
   "id": "ccf4c9f7",
   "metadata": {},
   "outputs": [],
   "source": []
  }
 ],
 "metadata": {
  "kernelspec": {
   "display_name": "Python 3",
   "language": "python",
   "name": "python3"
  },
  "language_info": {
   "codemirror_mode": {
    "name": "ipython",
    "version": 3
   },
   "file_extension": ".py",
   "mimetype": "text/x-python",
   "name": "python",
   "nbconvert_exporter": "python",
   "pygments_lexer": "ipython3",
   "version": "3.7.7"
  }
 },
 "nbformat": 4,
 "nbformat_minor": 5
}
