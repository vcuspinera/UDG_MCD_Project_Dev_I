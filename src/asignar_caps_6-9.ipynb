{
 "cells": [
  {
   "cell_type": "markdown",
   "id": "0d606474",
   "metadata": {},
   "source": [
    "# Asignación de capítulos 6 a 9 del libro\n",
    "### Información básica"
   ]
  },
  {
   "cell_type": "code",
   "execution_count": 1,
   "id": "455578fd",
   "metadata": {},
   "outputs": [],
   "source": [
    "# Importar librerías\n",
    "import numpy as np\n",
    "import pandas as pd\n",
    "import random"
   ]
  },
  {
   "cell_type": "code",
   "execution_count": 2,
   "id": "c15de0c4",
   "metadata": {},
   "outputs": [],
   "source": [
    "# información de equipos y alumnos\n",
    "equipos = {\n",
    "    1: \"Martha Olivia y José Raúl\",\n",
    "    2: \"Mónica y Mario\",\n",
    "    3: \"Carlos Samuel y Luis Enrique\",\n",
    "    4: \"Afra Julieta y Pedro\",\n",
    "    5: \"Carol Desireé y César Iván\"\n",
    "}"
   ]
  },
  {
   "cell_type": "markdown",
   "id": "b667ac98",
   "metadata": {},
   "source": [
    "### Asignación de capítulos\n",
    "⚠️ __Nota__: En clase se seleccionará una semilla y con base en el resultado se hará la asignación de los capítulos restantes del libro."
   ]
  },
  {
   "cell_type": "code",
   "execution_count": 7,
   "id": "1386f27e",
   "metadata": {},
   "outputs": [
    {
     "name": "stdout",
     "output_type": "stream",
     "text": [
      "Orden de capítulos:\n",
      "[ 7  8  6 10  9]\n"
     ]
    }
   ],
   "source": [
    "# Seleccionar una semilla\n",
    "random.seed(10 + 71 + 2) \n",
    "\n",
    "# capítulos del libro 6 a 9, y 10 es quien no expondrá\n",
    "capitulos = np.arange(6,11)\n",
    "\n",
    "# modificar orden de los elementos\n",
    "random.shuffle(capitulos)\n",
    "print(\"Orden de capítulos:\")\n",
    "print(capitulos)"
   ]
  },
  {
   "cell_type": "code",
   "execution_count": 8,
   "id": "8a4bd402",
   "metadata": {},
   "outputs": [
    {
     "data": {
      "text/html": [
       "<div>\n",
       "<style scoped>\n",
       "    .dataframe tbody tr th:only-of-type {\n",
       "        vertical-align: middle;\n",
       "    }\n",
       "\n",
       "    .dataframe tbody tr th {\n",
       "        vertical-align: top;\n",
       "    }\n",
       "\n",
       "    .dataframe thead th {\n",
       "        text-align: right;\n",
       "    }\n",
       "</style>\n",
       "<table border=\"1\" class=\"dataframe\">\n",
       "  <thead>\n",
       "    <tr style=\"text-align: right;\">\n",
       "      <th></th>\n",
       "      <th>Equipo</th>\n",
       "      <th>Alumnos</th>\n",
       "      <th>Capitulo</th>\n",
       "    </tr>\n",
       "  </thead>\n",
       "  <tbody>\n",
       "    <tr>\n",
       "      <th>0</th>\n",
       "      <td>3</td>\n",
       "      <td>Carlos Samuel y Luis Enrique</td>\n",
       "      <td>6</td>\n",
       "    </tr>\n",
       "    <tr>\n",
       "      <th>1</th>\n",
       "      <td>1</td>\n",
       "      <td>Martha Olivia y José Raúl</td>\n",
       "      <td>7</td>\n",
       "    </tr>\n",
       "    <tr>\n",
       "      <th>2</th>\n",
       "      <td>2</td>\n",
       "      <td>Mónica y Mario</td>\n",
       "      <td>8</td>\n",
       "    </tr>\n",
       "    <tr>\n",
       "      <th>3</th>\n",
       "      <td>5</td>\n",
       "      <td>Carol Desireé y César Iván</td>\n",
       "      <td>9</td>\n",
       "    </tr>\n",
       "    <tr>\n",
       "      <th>4</th>\n",
       "      <td>4</td>\n",
       "      <td>Afra Julieta y Pedro</td>\n",
       "      <td>N/A</td>\n",
       "    </tr>\n",
       "  </tbody>\n",
       "</table>\n",
       "</div>"
      ],
      "text/plain": [
       "   Equipo                       Alumnos Capitulo\n",
       "0       3  Carlos Samuel y Luis Enrique        6\n",
       "1       1     Martha Olivia y José Raúl        7\n",
       "2       2                Mónica y Mario        8\n",
       "3       5    Carol Desireé y César Iván        9\n",
       "4       4          Afra Julieta y Pedro      N/A"
      ]
     },
     "execution_count": 8,
     "metadata": {},
     "output_type": "execute_result"
    }
   ],
   "source": [
    "# Resultado de asignación\n",
    "df = pd.DataFrame.from_dict(equipos, orient='index', columns=['Alumnos'])\n",
    "df.index.name = \"Equipo\"\n",
    "df = df.reset_index()\n",
    "df = pd.concat([df, pd.DataFrame(capitulos, columns=['Capitulo'])], axis=1)\\\n",
    "               .sort_values(by='Capitulo').reset_index(drop=True).replace(10, \"N/A\")\n",
    "df"
   ]
  },
  {
   "cell_type": "code",
   "execution_count": null,
   "id": "e462db00",
   "metadata": {},
   "outputs": [],
   "source": []
  }
 ],
 "metadata": {
  "kernelspec": {
   "display_name": "Python 3",
   "language": "python",
   "name": "python3"
  },
  "language_info": {
   "codemirror_mode": {
    "name": "ipython",
    "version": 3
   },
   "file_extension": ".py",
   "mimetype": "text/x-python",
   "name": "python",
   "nbconvert_exporter": "python",
   "pygments_lexer": "ipython3",
   "version": "3.7.7"
  }
 },
 "nbformat": 4,
 "nbformat_minor": 5
}
